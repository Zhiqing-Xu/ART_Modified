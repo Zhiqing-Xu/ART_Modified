{
 "cells": [
  {
   "cell_type": "markdown",
   "metadata": {},
   "source": [
    "# ART-Reproduce-Main01\n",
    "## 1. Preps\n",
    "### 1.1 Imports"
   ]
  },
  {
   "cell_type": "code",
   "execution_count": 1,
   "metadata": {},
   "outputs": [
    {
     "name": "stderr",
     "output_type": "stream",
     "text": [
      "\n",
      "Bad key \"text.kerning_factor\" on line 4 in\n",
      "C:\\Anaconda2\\envs\\rdkit-env-3\\lib\\site-packages\\matplotlib\\mpl-data\\stylelib\\_classic_test_patch.mplstyle.\n",
      "You probably need to get an updated matplotlibrc file from\n",
      "https://github.com/matplotlib/matplotlib/blob/v3.1.3/matplotlibrc.template\n",
      "or from the matplotlib source distribution\n"
     ]
    }
   ],
   "source": [
    "from __future__ import division\n",
    "import math\n",
    "from math import *\n",
    "import numpy as np\n",
    "import pandas as pd\n",
    "import pymc3 as pm\n",
    "import seaborn as sns\n",
    "import theano\n",
    "import warnings\n",
    "from numpy.random import binomial, randn, uniform\n",
    "from sklearn.model_selection import train_test_split\n",
    "\n",
    "from scipy.stats import norm\n",
    "import matplotlib.pyplot as plt\n",
    "plt.style.use('seaborn-darkgrid')\n",
    "from hpd import *"
   ]
  },
  {
   "cell_type": "markdown",
   "metadata": {},
   "source": [
    "### 1.2 Other Stuff"
   ]
  },
  {
   "cell_type": "code",
   "execution_count": 2,
   "metadata": {},
   "outputs": [
    {
     "name": "stdout",
     "output_type": "stream",
     "text": [
      "<ipython-input-2-b9eb80f85e32>/<module>\n"
     ]
    }
   ],
   "source": [
    "# %matplotlib inline\n",
    "sns.set()\n",
    "warnings.filterwarnings('ignore')\n",
    "import sys\n",
    "print(\"%s/%s\" %(sys._getframe().f_code.co_filename, sys._getframe().f_code.co_name))"
   ]
  },
  {
   "cell_type": "markdown",
   "metadata": {},
   "source": [
    "## 2. Create Synthetic Data\n",
    "\n",
    "### 2.1"
   ]
  },
  {
   "cell_type": "code",
   "execution_count": 3,
   "metadata": {},
   "outputs": [
    {
     "name": "stdout",
     "output_type": "stream",
     "text": [
      "norm.rvs generated x_test_np_array: \n",
      " [[-0.66382396  1.76259595 -3.999085   -1.58133942 -2.82595287 -3.26129124\n",
      "  -2.50991831 -1.23551418 -0.82586021  0.31053387]\n",
      " [-0.64644388  1.481756   -2.364382    3.02493949 -3.78089925  1.36374008\n",
      "  -0.66156158  0.46951863 -2.87690449 -2.41518809]\n",
      " [ 2.40595655  3.74609261 -1.49260657  1.53858093  3.01111322  3.15685331\n",
      "  -3.31964631 -3.68756173 -2.64135664  3.02514003]\n",
      " [-3.21322533 -0.631139    3.66311624  0.26532228  1.53501691 -1.47587495\n",
      "   1.49200742  2.67700538 -3.85369378  2.00115452]\n",
      " [ 3.91088871  1.98532524 -1.75644806  2.31423463 -3.17419195 -0.41685179\n",
      "   3.26876402 -1.65108681 -1.69779729 -2.95977142]] \n",
      " (50, 10) \n",
      "......\n",
      "\n",
      "\n",
      "dataframe x_test_df: \n",
      "          X0        X1        X2        X3        X4        X5        X6  \\\n",
      "0 -0.663824  1.762596 -3.999085 -1.581339 -2.825953 -3.261291 -2.509918   \n",
      "1 -0.646444  1.481756 -2.364382  3.024939 -3.780899  1.363740 -0.661562   \n",
      "2  2.405957  3.746093 -1.492607  1.538581  3.011113  3.156853 -3.319646   \n",
      "3 -3.213225 -0.631139  3.663116  0.265322  1.535017 -1.475875  1.492007   \n",
      "4  3.910889  1.985325 -1.756448  2.314235 -3.174192 -0.416852  3.268764   \n",
      "\n",
      "         X7        X8        X9  \n",
      "0 -1.235514 -0.825860  0.310534  \n",
      "1  0.469519 -2.876904 -2.415188  \n",
      "2 -3.687562 -2.641357  3.025140  \n",
      "3  2.677005 -3.853694  2.001155  \n",
      "4 -1.651087 -1.697797 -2.959771   \n",
      " (50, 10) \n",
      "......\n",
      "\n",
      "\n",
      "y_test_np_array: \n",
      " [-37.14017605 -37.42549404 -45.89850959 -31.06630395 -41.55535216\n",
      " -34.76209909 -22.63851153 -46.8283905  -26.67480077 -25.45090459\n",
      " -23.24037173 -49.40346462 -41.03783119 -30.65712134 -47.96750733\n",
      " -37.56947107 -30.94169241 -24.43407509 -40.57971791 -39.35234151\n",
      " -17.24434342 -40.58214477 -43.10452157 -19.52389202 -34.01764704\n",
      " -16.28668924 -28.7117195  -24.84921912 -35.42004103 -30.52803295\n",
      " -33.99106401 -49.15279918 -26.06947609 -40.34388925 -39.01529661\n",
      " -30.91663067 -24.45924275 -42.26668461 -28.07688643 -31.27648663\n",
      " -36.1771179  -34.86356179 -46.46230567 -28.57011923 -36.12867853\n",
      " -36.27879379 -43.20072844 -26.08902887 -23.73337165 -33.61699404] \n",
      " (50,) \n",
      "\n",
      "\n",
      "[[ 2.64319656  1.19323358  1.38958739  0.62799664 -1.8070418   0.48423992\n",
      "   1.37383828 -1.18056296  2.84662694 -2.43970011]\n",
      " [ 1.97856648 -1.68317803  2.1903943  -0.57810137  2.46158727 -1.1717211\n",
      "  -2.2904541   2.13827607 -1.53086442  1.86596054]\n",
      " [ 1.95578522 -2.22882639 -2.28710291 -2.40841661 -2.8598533  -0.98333921\n",
      "  -3.78697692 -3.11263705  1.39651219  2.3982123 ]\n",
      " [-3.35576378 -2.14638152 -2.33899471  3.3386685   1.69051615  0.43107689\n",
      "  -1.5638561   2.67883238 -0.51755234  3.38764972]\n",
      " [ 1.64841443 -0.17574954 -2.99031917  3.8083484  -2.7213308  -2.379183\n",
      "  -0.55054596 -0.76638475 -2.82598815  1.83455135]\n",
      " [-2.49003946  1.15116515  2.0344476  -2.31414086  0.80763398  1.991427\n",
      "   1.10574968  0.77701842 -1.63614171  1.85285177]\n",
      " [ 3.56246752 -0.59550888  2.25745453 -3.55087168  2.68217282 -2.46199987\n",
      "  -0.83922505 -1.59935163 -3.35917085  3.23704802]\n",
      " [-1.03876658  0.24557951 -0.04706987 -2.94271086 -2.34836753 -3.39048953\n",
      "   0.0633736  -1.90760359 -1.14350713 -3.13547737]\n",
      " [ 2.30041472 -3.14732899  3.88567059 -2.58271068  0.5792409  -3.64123732\n",
      "   2.29693032 -2.48315242  0.22323183  1.92062035]\n",
      " [-2.80054812  0.40869739 -2.26706233  2.07356839  1.78332155 -2.58760773\n",
      "   2.89573246 -3.8417992   2.88189598  0.47123049]]\n"
     ]
    }
   ],
   "source": [
    "#--------------------------------------------------------------------------------#\n",
    "#--------------------------------------------------------------------------------#\n",
    "# Inputs to be changed\n",
    "x_dimension=10 #<<<<<\n",
    "x_mean, x_std, n_data = 5, 5, 50 #<<<<<\n",
    "sd_test_y_noise = 0.2 #<<<<<\n",
    "#Function_test=\"easy\"\n",
    "Function_test=\"medium\"\n",
    "#Function_test=\"dffclt\"\n",
    "\n",
    "#--------------------------------------------------------------------------------#\n",
    "#--------------------------------------------------------------------------------#\n",
    "#----------------------------------------#\n",
    "# Basic parameters\n",
    "#x_dimension=5 #<<<<<\n",
    "#test_x_vec=np.array([1,2,3])\n",
    "n_predictors=x_dimension\n",
    "#----------------------------------------#\n",
    "def F_easy(x_vec):\n",
    "    dms=len(x_vec) # dms : dimension\n",
    "    return 0 - ( np.linalg.norm(x_vec-np.ones(dms)*5) )**2 / dms + math.exp( 0-(np.linalg.norm(x_vec))**2 ) + 25\n",
    "\n",
    "def F_medium(x_vec):\n",
    "    dms=len(x_vec) # dms : dimension\n",
    "    return  (np.linalg.norm(x_vec,4))**4 / dms - 16 * (np.linalg.norm(x_vec))**2 / dms + 5 * np.sum(x_vec) / dms\n",
    "\n",
    "def F_dffclt(x_vec):\n",
    "    dms=len(x_vec)\n",
    "    return np.sum( [ (x_i**(1/2))*math.sin(x_i) for x_i in list(x_vec) ] )\n",
    "\n",
    "#----------------------------------------#\n",
    "if Function_test==\"dffclt\":\n",
    "    # Random X values:\n",
    "    np.random.seed(1)\n",
    "    #x_mean, x_std, n_data = 5, 5, 54 #<<<<<\n",
    "    #x_test_np_array = norm.rvs(x_mean, x_std, n_predictors*n_data).reshape(n_data, -1) # n_data was 100 here\n",
    "    x_test_np_array = np.random.uniform(low=0.0, high=12.0, size=n_predictors*n_data).reshape(n_data, -1) # n_data was 100 here\n",
    "\n",
    "    print(\"norm.rvs generated x_test_np_array: \\n\",x_test_np_array[0:5],\"\\n\",x_test_np_array.shape,\"\\n......\\n\\n\")\n",
    "    x_test_df = pd.DataFrame(x_test_np_array, columns=['X%s' % i for i in range(0, n_predictors)])\n",
    "    print(\"dataframe x_test_df: \\n\",x_test_df.head(5),\"\\n\",x_test_df.shape,\"\\n......\\n\\n\")\n",
    "\n",
    "    # Random Y values generated from linear model with true parameter values:\n",
    "    #sd_test_y_noise = 0.2 #<<<<<\n",
    "    tau_test_y_noise = 1/sd_test_y_noise**2\n",
    "    y_test_np_array = np.array( [ F_dffclt(x_n) + norm.rvs(0, sd_test_y_noise) for x_n in list(x_test_np_array) ] )\n",
    "    #y_test_np_array = np.array( [ F_dffclt(x_n) for x_n in list(x_test_np_array) ] )\n",
    "    print(\"y_test_np_array: \\n\",y_test_np_array,\"\\n\",y_test_np_array.shape,\"\\n\\n\")\n",
    "\n",
    "    n_vali=10\n",
    "    #x_vali_np_array = norm.rvs(x_mean, x_std, n_predictors*n_vali).reshape(n_vali, -1)\n",
    "    x_vali_np_array = np.random.uniform(low=0.0, high=12.0, size=n_predictors*n_vali).reshape(n_vali, -1)\n",
    "    print(x_vali_np_array)\n",
    "    y_vali_np_array = np.array( [ F_dffclt(x_n) + norm.rvs(0, sd_test_y_noise) for x_n in list(x_vali_np_array) ] )\n",
    "\n",
    "if Function_test==\"medium\":\n",
    "    # Random X values:\n",
    "    np.random.seed(1)\n",
    "    #x_mean, x_std, n_data = 5, 5, 54 #<<<<<\n",
    "    #x_test_np_array = norm.rvs(x_mean, x_std, n_predictors*n_data).reshape(n_data, -1) # n_data was 100 here\n",
    "    x_test_np_array = np.random.uniform(low=-4.0, high=4.0, size=n_predictors*n_data).reshape(n_data, -1) # n_data was 100 here\n",
    "\n",
    "    print(\"norm.rvs generated x_test_np_array: \\n\",x_test_np_array[0:5],\"\\n\",x_test_np_array.shape,\"\\n......\\n\\n\")\n",
    "    x_test_df = pd.DataFrame(x_test_np_array, columns=['X%s' % i for i in range(0, n_predictors)])\n",
    "    print(\"dataframe x_test_df: \\n\",x_test_df.head(5),\"\\n\",x_test_df.shape,\"\\n......\\n\\n\")\n",
    "\n",
    "    # Random Y values generated from linear model with true parameter values:\n",
    "    #sd_test_y_noise = 0.2 #<<<<<\n",
    "    tau_test_y_noise = 1/sd_test_y_noise**2\n",
    "    y_test_np_array = np.array( [ F_medium(x_n) + norm.rvs(0, sd_test_y_noise) for x_n in list(x_test_np_array) ] )\n",
    "    #y_test_np_array = np.array( [ F_medium(x_n) for x_n in list(x_test_np_array) ] )\n",
    "    print(\"y_test_np_array: \\n\",y_test_np_array,\"\\n\",y_test_np_array.shape,\"\\n\\n\")\n",
    "\n",
    "    n_vali=10\n",
    "    #x_vali_np_array = norm.rvs(x_mean, x_std, n_predictors*n_vali).reshape(n_vali, -1)\n",
    "    x_vali_np_array = np.random.uniform(low=-4.0, high=4.0, size=n_predictors*n_vali).reshape(n_vali, -1)\n",
    "    print(x_vali_np_array)\n",
    "    y_vali_np_array = np.array( [ F_medium(x_n) + norm.rvs(0, sd_test_y_noise) for x_n in list(x_vali_np_array) ] )\n",
    "    \n",
    "if Function_test==\"easy\":\n",
    "    # Random X values:\n",
    "    np.random.seed(1)\n",
    "    #x_mean, x_std, n_data = 5, 5, 54 #<<<<<\n",
    "    #x_test_np_array = norm.rvs(x_mean, x_std, n_predictors*n_data).reshape(n_data, -1) # n_data was 100 here\n",
    "    x_test_np_array = np.random.uniform(low=-5.0, high=10.0, size=n_predictors*n_data).reshape(n_data, -1) # n_data was 100 here\n",
    "\n",
    "    print(\"norm.rvs generated x_test_np_array: \\n\",x_test_np_array[0:5],\"\\n\",x_test_np_array.shape,\"\\n......\\n\\n\")\n",
    "    x_test_df = pd.DataFrame(x_test_np_array, columns=['X%s' % i for i in range(0, n_predictors)])\n",
    "    print(\"dataframe x_test_df: \\n\",x_test_df.head(5),\"\\n\",x_test_df.shape,\"\\n......\\n\\n\")\n",
    "\n",
    "    # Random Y values generated from linear model with true parameter values:\n",
    "    #sd_test_y_noise = 0.2 #<<<<<\n",
    "    tau_test_y_noise = 1/sd_test_y_noise**2\n",
    "    y_test_np_array = np.array( [ F_easy(x_n) + norm.rvs(0, sd_test_y_noise) for x_n in list(x_test_np_array) ] )\n",
    "    #y_test_np_array = np.array( [ F_easy(x_n) for x_n in list(x_test_np_array) ] )\n",
    "    print(\"y_test_np_array: \\n\",y_test_np_array,\"\\n\",y_test_np_array.shape,\"\\n\\n\")\n",
    "\n",
    "    n_vali=10\n",
    "    #x_vali_np_array = norm.rvs(x_mean, x_std, n_predictors*n_vali).reshape(n_vali, -1)\n",
    "    x_vali_np_array = np.random.uniform(low=-5.0, high=10.0, size=n_predictors*n_vali).reshape(n_vali, -1)\n",
    "    print(x_vali_np_array)\n",
    "    y_vali_np_array = np.array( [ F_easy(x_n) + norm.rvs(0, sd_test_y_noise) for x_n in list(x_vali_np_array) ] )"
   ]
  },
  {
   "cell_type": "markdown",
   "metadata": {},
   "source": [
    "### 2.2  Prepare for level 0 learning"
   ]
  },
  {
   "cell_type": "code",
   "execution_count": 4,
   "metadata": {},
   "outputs": [
    {
     "name": "stdout",
     "output_type": "stream",
     "text": [
      "[[0, 1, 2, 3, 4, 5, 6, 7, 8, 9], [10, 11, 12, 13, 14, 15, 16, 17, 18, 19], [20, 21, 22, 23, 24, 25, 26, 27, 28, 29], [30, 31, 32, 33, 34, 35, 36, 37, 38, 39], [40, 41, 42, 43, 44, 45, 46, 47, 48, 49]]\n",
      "[array([-23.24037173, -49.40346462, -41.03783119, -30.65712134,\n",
      "       -47.96750733, -37.56947107, -30.94169241, -24.43407509,\n",
      "       -40.57971791, -39.35234151, -17.24434342, -40.58214477,\n",
      "       -43.10452157, -19.52389202, -34.01764704, -16.28668924,\n",
      "       -28.7117195 , -24.84921912, -35.42004103, -30.52803295,\n",
      "       -33.99106401, -49.15279918, -26.06947609, -40.34388925,\n",
      "       -39.01529661, -30.91663067, -24.45924275, -42.26668461,\n",
      "       -28.07688643, -31.27648663, -36.1771179 , -34.86356179,\n",
      "       -46.46230567, -28.57011923, -36.12867853, -36.27879379,\n",
      "       -43.20072844, -26.08902887, -23.73337165, -33.61699404]), array([-37.14017605, -37.42549404, -45.89850959, -31.06630395,\n",
      "       -41.55535216, -34.76209909, -22.63851153, -46.8283905 ,\n",
      "       -26.67480077, -25.45090459, -17.24434342, -40.58214477,\n",
      "       -43.10452157, -19.52389202, -34.01764704, -16.28668924,\n",
      "       -28.7117195 , -24.84921912, -35.42004103, -30.52803295,\n",
      "       -33.99106401, -49.15279918, -26.06947609, -40.34388925,\n",
      "       -39.01529661, -30.91663067, -24.45924275, -42.26668461,\n",
      "       -28.07688643, -31.27648663, -36.1771179 , -34.86356179,\n",
      "       -46.46230567, -28.57011923, -36.12867853, -36.27879379,\n",
      "       -43.20072844, -26.08902887, -23.73337165, -33.61699404]), array([-37.14017605, -37.42549404, -45.89850959, -31.06630395,\n",
      "       -41.55535216, -34.76209909, -22.63851153, -46.8283905 ,\n",
      "       -26.67480077, -25.45090459, -23.24037173, -49.40346462,\n",
      "       -41.03783119, -30.65712134, -47.96750733, -37.56947107,\n",
      "       -30.94169241, -24.43407509, -40.57971791, -39.35234151,\n",
      "       -33.99106401, -49.15279918, -26.06947609, -40.34388925,\n",
      "       -39.01529661, -30.91663067, -24.45924275, -42.26668461,\n",
      "       -28.07688643, -31.27648663, -36.1771179 , -34.86356179,\n",
      "       -46.46230567, -28.57011923, -36.12867853, -36.27879379,\n",
      "       -43.20072844, -26.08902887, -23.73337165, -33.61699404]), array([-37.14017605, -37.42549404, -45.89850959, -31.06630395,\n",
      "       -41.55535216, -34.76209909, -22.63851153, -46.8283905 ,\n",
      "       -26.67480077, -25.45090459, -23.24037173, -49.40346462,\n",
      "       -41.03783119, -30.65712134, -47.96750733, -37.56947107,\n",
      "       -30.94169241, -24.43407509, -40.57971791, -39.35234151,\n",
      "       -17.24434342, -40.58214477, -43.10452157, -19.52389202,\n",
      "       -34.01764704, -16.28668924, -28.7117195 , -24.84921912,\n",
      "       -35.42004103, -30.52803295, -36.1771179 , -34.86356179,\n",
      "       -46.46230567, -28.57011923, -36.12867853, -36.27879379,\n",
      "       -43.20072844, -26.08902887, -23.73337165, -33.61699404]), array([-37.14017605, -37.42549404, -45.89850959, -31.06630395,\n",
      "       -41.55535216, -34.76209909, -22.63851153, -46.8283905 ,\n",
      "       -26.67480077, -25.45090459, -23.24037173, -49.40346462,\n",
      "       -41.03783119, -30.65712134, -47.96750733, -37.56947107,\n",
      "       -30.94169241, -24.43407509, -40.57971791, -39.35234151,\n",
      "       -17.24434342, -40.58214477, -43.10452157, -19.52389202,\n",
      "       -34.01764704, -16.28668924, -28.7117195 , -24.84921912,\n",
      "       -35.42004103, -30.52803295, -33.99106401, -49.15279918,\n",
      "       -26.06947609, -40.34388925, -39.01529661, -30.91663067,\n",
      "       -24.45924275, -42.26668461, -28.07688643, -31.27648663])]\n"
     ]
    }
   ],
   "source": [
    "#--------------------------------------------------------------------------------#\n",
    "#--------------------------------------------------------------------------------#\n",
    "# Obtain Train/CV set for ML models based on following variables\n",
    "x_test_np_array\n",
    "x_test_df\n",
    "y_test_np_array\n",
    "x_dimension\n",
    "n_data\n",
    "#--------------------------------------------------------------------------------#\n",
    "#--------------------------------------------------------------------------------#\n",
    "K_CV=5 #<<<<<\n",
    "train_cv_dataset_list_x=[[] for i in range(K_CV)]\n",
    "train_cv_dataset_list_y=[[] for i in range(K_CV)]\n",
    "def get_train_cv_index(K_CV, n_data):\n",
    "    dataset_len=int(n_data/K_CV)\n",
    "    index_list=[[] for i in range(K_CV)]\n",
    "    for i in range(K_CV):\n",
    "        index_list[i]= list(range(n_data)[i*dataset_len:i*dataset_len+dataset_len])\n",
    "    index_list[-1] = list(index_list[-1]) + list(range(n_data)[dataset_len*K_CV:])\n",
    "    return index_list\n",
    "index_list = get_train_cv_index(K_CV, n_data)\n",
    "\n",
    "\n",
    "#----------------------------------------#\n",
    "for i in range(K_CV):\n",
    "    for j in range(n_data):\n",
    "        if j not in index_list[i]:\n",
    "            train_cv_dataset_list_x[i].append(x_test_np_array[j])\n",
    "            train_cv_dataset_list_y[i].append(y_test_np_array[j])\n",
    "    train_cv_dataset_list_x[i]=np.array(train_cv_dataset_list_x[i])\n",
    "    train_cv_dataset_list_y[i]=np.array(train_cv_dataset_list_y[i])\n",
    "#print(train_cv_dataset_list_y)\n",
    "\n",
    "#----------------------------------------#\n",
    "print(index_list)\n",
    "print(train_cv_dataset_list_y)"
   ]
  },
  {
   "cell_type": "markdown",
   "metadata": {},
   "source": [
    "### 2.3 Model Configuration "
   ]
  },
  {
   "cell_type": "code",
   "execution_count": 5,
   "metadata": {
    "scrolled": true
   },
   "outputs": [
    {
     "name": "stdout",
     "output_type": "stream",
     "text": [
      "Start Grid Search\n",
      "522.3076923076923 rbf 0.01\n",
      "End Grid Search\n"
     ]
    }
   ],
   "source": [
    "#--------------------------------------------------------------------------------#\n",
    "#--------------------------------------------------------------------------------#\n",
    "# Obtain Train/CV set for ML models based on following variables\n",
    "x_test_np_array\n",
    "x_test_df\n",
    "y_test_np_array\n",
    "x_dimension\n",
    "n_data\n",
    "\n",
    "#--------------------------------------------------------------------------------#\n",
    "# Prep for ML model training\n",
    "ML_model_list=[\"RF\",\"NN\",\"SVM\",\"KRR\",\"KNN\",\"GPR\",\"GBR\",\"TPOT\"]\n",
    "\n",
    "#----------------------------------------#\n",
    "from sklearn.preprocessing import StandardScaler\n",
    "ss1= StandardScaler()\n",
    "\n",
    "#----------------------------------------#\n",
    "from sklearn.ensemble import RandomForestRegressor\n",
    "RF = RandomForestRegressor(n_estimators=10, max_depth=5, random_state=1)\n",
    "\n",
    "#----------------------------------------#\n",
    "from sklearn.neural_network import MLPRegressor\n",
    "NN = MLPRegressor(solver='lbfgs', alpha=10, hidden_layer_sizes=(10, 4), max_iter=200, random_state=1)\n",
    "\n",
    "#----------------------------------------#\n",
    "from sklearn.svm import SVR\n",
    "from sklearn.pipeline import Pipeline\n",
    "from sklearn.preprocessing import StandardScaler\n",
    "from sklearn.model_selection import RandomizedSearchCV\n",
    "from sklearn.model_selection import GridSearchCV\n",
    "steps = [\t\t('scaler',StandardScaler()),\n",
    "        \t\t('svr',SVR())]\n",
    "pipeline =Pipeline(steps)\n",
    "\n",
    "#for grid search\n",
    "c_gs =[10,100,1000,10000]\n",
    "g_gs = [1e-2,1e-1,1e0]\n",
    "#for random search\n",
    "c_rs = np.linspace(10, 10000, num=40, endpoint=True)\n",
    "g_rs = np.linspace(1e-2, 1e0, num=30, endpoint=True)\n",
    "#set of parameters for grid search\n",
    "parameters_gs = {'svr__C':c_gs, 'svr__gamma':g_gs, 'svr__kernel': ['rbf', 'poly']}\n",
    "#set of parameters for random search\n",
    "parameters_rs = {'svr__C':c_rs, 'svr__gamma':g_rs, 'svr__kernel': ['rbf', 'poly']}\n",
    "\n",
    "from sklearn.metrics import SCORERS\n",
    "#cvo = GridSearchCV(pipeline, parameters_gs, cv=7, scoring=None)\n",
    "cvo = RandomizedSearchCV(pipeline, parameters_rs, cv=5, scoring=None, n_iter=50, random_state=1)\n",
    "\n",
    "print(\"Start Grid Search\")\n",
    "#cvo.fit(x_test_np_array, y_test_np_array)\n",
    "#best_C, best_kernel, best_gamma = cvo.best_params_['svr__C'], cvo.best_params_['svr__kernel'], cvo.best_params_['svr__gamma']\n",
    "best_C, best_kernel, best_gamma = 522.3076923076923, \"rbf\", 0.01\n",
    "print(best_C, best_kernel, best_gamma)\n",
    "print(\"End Grid Search\")\n",
    "\n",
    "#SVM = SVR(C=best_C, kernel=best_kernel, gamma=best_gamma, epsilon=0.2)\n",
    "SVM = SVR(C=1, kernel='poly', gamma='scale', epsilon=0.2)\n",
    "\n",
    "#----------------------------------------#\n",
    "from sklearn.kernel_ridge import KernelRidge\n",
    "KRR = KernelRidge(alpha=1.0, kernel='poly')\n",
    "\n",
    "#----------------------------------------#\n",
    "from sklearn.neighbors import KNeighborsRegressor\n",
    "KNN = KNeighborsRegressor(n_neighbors=2)\n",
    "\n",
    "#----------------------------------------#\n",
    "from sklearn.gaussian_process import GaussianProcessRegressor\n",
    "from sklearn.gaussian_process.kernels import DotProduct, WhiteKernel, ConstantKernel, RBF\n",
    "from sklearn.gaussian_process.kernels import Matern, RationalQuadratic, ExpSineSquared, DotProduct\n",
    "kernels = [1.0 * RBF(length_scale=1.0, length_scale_bounds=(1e-1, 10.0)),\n",
    "           1.0 * RationalQuadratic(length_scale=1.0, alpha=0.1),\n",
    "           1.0 * ExpSineSquared(length_scale=1.0, periodicity=3.0, length_scale_bounds=(0.1, 10.0),periodicity_bounds=(1.0, 10.0)), \n",
    "           ConstantKernel(0.1, (0.01, 10.0)) * (DotProduct(sigma_0=1.0, sigma_0_bounds=(0.1, 10.0)) ** 2),\n",
    "           1.0 * Matern(length_scale=1.0, length_scale_bounds=(1e-1, 10.0), nu=1.5),\n",
    "           1.0 * DotProduct() + WhiteKernel(),\n",
    "           1**2 + Matern(length_scale=2, nu=1.5) + WhiteKernel(noise_level=1)]\n",
    "\n",
    "# 0.316**2 * DotProduct(sigma_0=1) ** 2\n",
    "GPR = GaussianProcessRegressor(kernel=kernels[3], random_state=1)\n",
    "\n",
    "#----------------------------------------#\n",
    "from sklearn import ensemble\n",
    "params = {'n_estimators': 500, 'max_depth': 8, 'min_samples_split': 2,\n",
    "          'learning_rate': 0.01, 'loss': 'ls'}\n",
    "GBR = ensemble.GradientBoostingRegressor(**params)\n",
    "\n",
    "#----------------------------------------#\n",
    "from tpot import TPOTRegressor\n",
    "pipeline_optimizer = TPOTRegressor(generations=10, population_size=15, cv=K_CV, random_state=1, verbosity=2)\n",
    "#pipeline_optimizer.fit(ss1.fit_transform(x_test_np_array), y_test_np_array)\n",
    "#y_pred_vali=pipeline_optimizer.predict(ss1.transform(x_vali_np_array))\n",
    "#pipeline_optimizer.export('tpot_exported_pipeline03.py')"
   ]
  },
  {
   "cell_type": "markdown",
   "metadata": {},
   "source": [
    "### 2.4 Train models for level 0 learning"
   ]
  },
  {
   "cell_type": "code",
   "execution_count": 6,
   "metadata": {},
   "outputs": [
    {
     "data": {
      "application/vnd.jupyter.widget-view+json": {
       "model_id": "",
       "version_major": 2,
       "version_minor": 0
      },
      "text/plain": [
       "HBox(children=(FloatProgress(value=0.0, description='Optimization Progress', max=165.0, style=ProgressStyle(de…"
      ]
     },
     "metadata": {},
     "output_type": "display_data"
    },
    {
     "name": "stdout",
     "output_type": "stream",
     "text": [
      "Generation 1 - Current best internal CV score: -46.65303650134073\n",
      "Generation 2 - Current best internal CV score: -46.65303650134073\n",
      "Generation 3 - Current best internal CV score: -46.65303650134073\n",
      "Generation 4 - Current best internal CV score: -41.391004496020635\n",
      "Generation 5 - Current best internal CV score: -41.391004496020635\n",
      "Generation 6 - Current best internal CV score: -41.391004496020635\n",
      "Generation 7 - Current best internal CV score: -37.89411284350071\n",
      "Generation 8 - Current best internal CV score: -37.89411284350071\n",
      "Generation 9 - Current best internal CV score: -36.428540062127375\n",
      "Generation 10 - Current best internal CV score: -36.428540062127375\n",
      "\n",
      "Best pipeline: GradientBoostingRegressor(ExtraTreesRegressor(input_matrix, bootstrap=False, max_features=0.8500000000000001, min_samples_leaf=9, min_samples_split=6, n_estimators=100), alpha=0.85, learning_rate=0.5, loss=ls, max_depth=6, max_features=0.8, min_samples_leaf=11, min_samples_split=17, n_estimators=100, subsample=0.8500000000000001)\n"
     ]
    },
    {
     "data": {
      "application/vnd.jupyter.widget-view+json": {
       "model_id": "",
       "version_major": 2,
       "version_minor": 0
      },
      "text/plain": [
       "HBox(children=(FloatProgress(value=0.0, description='Optimization Progress', max=165.0, style=ProgressStyle(de…"
      ]
     },
     "metadata": {},
     "output_type": "display_data"
    },
    {
     "name": "stdout",
     "output_type": "stream",
     "text": [
      "Generation 1 - Current best internal CV score: -58.648183187392206\n",
      "Generation 2 - Current best internal CV score: -57.997335833561976\n",
      "Generation 3 - Current best internal CV score: -57.997335833561976\n",
      "Generation 4 - Current best internal CV score: -53.94730871364\n",
      "Generation 5 - Current best internal CV score: -45.694947481704716\n",
      "Generation 6 - Current best internal CV score: -45.694947481704716\n",
      "Generation 7 - Current best internal CV score: -45.694947481704716\n",
      "Generation 8 - Current best internal CV score: -45.694947481704716\n",
      "Generation 9 - Current best internal CV score: -45.694947481704716\n",
      "Generation 10 - Current best internal CV score: -42.362895777129175\n",
      "\n",
      "Best pipeline: XGBRegressor(RandomForestRegressor(PolynomialFeatures(input_matrix, degree=2, include_bias=False, interaction_only=False), bootstrap=True, max_features=0.15000000000000002, min_samples_leaf=4, min_samples_split=11, n_estimators=100), learning_rate=0.1, max_depth=9, min_child_weight=3, n_estimators=100, nthread=1, objective=reg:squarederror, subsample=0.3)\n"
     ]
    },
    {
     "data": {
      "application/vnd.jupyter.widget-view+json": {
       "model_id": "",
       "version_major": 2,
       "version_minor": 0
      },
      "text/plain": [
       "HBox(children=(FloatProgress(value=0.0, description='Optimization Progress', max=165.0, style=ProgressStyle(de…"
      ]
     },
     "metadata": {},
     "output_type": "display_data"
    },
    {
     "name": "stdout",
     "output_type": "stream",
     "text": [
      "Generation 1 - Current best internal CV score: -39.74070592596848\n",
      "Generation 2 - Current best internal CV score: -39.74070592596848\n",
      "Generation 3 - Current best internal CV score: -39.74070592596848\n",
      "Generation 4 - Current best internal CV score: -39.74070592596848\n",
      "Generation 5 - Current best internal CV score: -34.787784389003086\n",
      "Generation 6 - Current best internal CV score: -34.787784389003086\n",
      "Generation 7 - Current best internal CV score: -34.787784389003086\n",
      "Generation 8 - Current best internal CV score: -34.787784389003086\n",
      "Generation 9 - Current best internal CV score: -34.787784389003086\n",
      "Generation 10 - Current best internal CV score: -34.787784389003086\n",
      "\n",
      "Best pipeline: XGBRegressor(PolynomialFeatures(input_matrix, degree=2, include_bias=False, interaction_only=False), learning_rate=0.1, max_depth=9, min_child_weight=3, n_estimators=100, nthread=1, objective=reg:squarederror, subsample=0.6000000000000001)\n"
     ]
    },
    {
     "data": {
      "application/vnd.jupyter.widget-view+json": {
       "model_id": "",
       "version_major": 2,
       "version_minor": 0
      },
      "text/plain": [
       "HBox(children=(FloatProgress(value=0.0, description='Optimization Progress', max=165.0, style=ProgressStyle(de…"
      ]
     },
     "metadata": {},
     "output_type": "display_data"
    },
    {
     "name": "stdout",
     "output_type": "stream",
     "text": [
      "Generation 1 - Current best internal CV score: -51.27730822530528\n",
      "Generation 2 - Current best internal CV score: -51.27730822530528\n",
      "Generation 3 - Current best internal CV score: -51.27730822530528\n",
      "Generation 4 - Current best internal CV score: -51.27730822530528\n",
      "Generation 5 - Current best internal CV score: -51.27730822530528\n",
      "Generation 6 - Current best internal CV score: -50.89088985669227\n",
      "Generation 7 - Current best internal CV score: -50.739058700455544\n",
      "Generation 8 - Current best internal CV score: -50.739058700455544\n",
      "Generation 9 - Current best internal CV score: -49.822529887291864\n",
      "Generation 10 - Current best internal CV score: -49.822529887291864\n",
      "\n",
      "Best pipeline: XGBRegressor(XGBRegressor(PolynomialFeatures(input_matrix, degree=2, include_bias=False, interaction_only=False), learning_rate=1.0, max_depth=10, min_child_weight=14, n_estimators=100, nthread=1, objective=reg:squarederror, subsample=0.7000000000000001), learning_rate=0.1, max_depth=9, min_child_weight=3, n_estimators=100, nthread=1, objective=reg:squarederror, subsample=0.55)\n"
     ]
    },
    {
     "data": {
      "application/vnd.jupyter.widget-view+json": {
       "model_id": "",
       "version_major": 2,
       "version_minor": 0
      },
      "text/plain": [
       "HBox(children=(FloatProgress(value=0.0, description='Optimization Progress', max=165.0, style=ProgressStyle(de…"
      ]
     },
     "metadata": {},
     "output_type": "display_data"
    },
    {
     "name": "stdout",
     "output_type": "stream",
     "text": [
      "Generation 1 - Current best internal CV score: -63.90143140530188\n",
      "Generation 2 - Current best internal CV score: -63.90143140530188\n",
      "Generation 3 - Current best internal CV score: -63.90143140530188\n",
      "Generation 4 - Current best internal CV score: -63.90143140530188\n",
      "Generation 5 - Current best internal CV score: -47.37753975912537\n",
      "Generation 6 - Current best internal CV score: -47.37753975912537\n",
      "Generation 7 - Current best internal CV score: -47.37753975912537\n",
      "Generation 8 - Current best internal CV score: -47.37753975912537\n",
      "Generation 9 - Current best internal CV score: -47.37753975912537\n",
      "Generation 10 - Current best internal CV score: -47.37753975912537\n",
      "\n",
      "Best pipeline: LassoLarsCV(CombineDFs(XGBRegressor(input_matrix, learning_rate=0.5, max_depth=9, min_child_weight=10, n_estimators=100, nthread=1, objective=reg:squarederror, subsample=0.8), input_matrix), normalize=True)\n"
     ]
    }
   ],
   "source": [
    "#----------------------------------------#\n",
    "ML_model_list=[\"RF\",\"NN\",\"SVM\",\"KRR\",\"KNN\",\"GPR\",\"GBR\",\"pipeline_optimizer\"]\n",
    "y_predictions_list=[[] for i in y_test_np_array]\n",
    "for current_model in ML_model_list:\n",
    "    for i in range(len(index_list)):\n",
    "        one_index_set=index_list[i]\n",
    "        x_train=train_cv_dataset_list_x[i]\n",
    "        y_train=train_cv_dataset_list_y[i]\n",
    "        locals()[current_model].fit(ss1.fit_transform(x_train), y_train)\n",
    "        for j in one_index_set:\n",
    "            y_pred=locals()[current_model].predict(ss1.transform(x_test_np_array[j].reshape(1, -1)))\n",
    "            y_predictions_list[j].append( y_pred[0] )\n",
    "y_predictions_nparray=np.array(y_predictions_list)"
   ]
  },
  {
   "cell_type": "code",
   "execution_count": 7,
   "metadata": {},
   "outputs": [
    {
     "data": {
      "text/plain": [
       "array([[-37.92759829, -37.42786259, -35.03086368, -35.99576317,\n",
       "        -37.01849171, -28.75284283, -44.34716749, -47.92097264],\n",
       "       [-38.79065538, -35.13029873, -35.05991672, -27.29603131,\n",
       "        -26.23190357, -20.81663678, -44.70200435, -41.79258799],\n",
       "       [-29.88580756, -28.46478032, -33.51071205, -35.27459941,\n",
       "        -30.51316851, -46.7310242 , -34.29970459, -29.14478724],\n",
       "       [-30.13779532, -22.89139927, -33.75959599, -22.72962249,\n",
       "        -26.46305278, -22.87209236, -21.39694775, -27.35390502],\n",
       "       [-31.91055318, -40.98493094, -35.52483992, -42.8032228 ,\n",
       "        -36.50318031, -52.57896182, -37.31822232, -50.0613674 ],\n",
       "       [-39.21501292, -51.25172389, -34.05673053, -38.80982135,\n",
       "        -34.63510227, -43.0202654 , -36.8970863 , -39.04015333],\n",
       "       [-30.92911309, -39.40012737, -34.77494188, -34.00182043,\n",
       "        -36.21651643, -31.69174245, -34.77436615, -35.3079619 ],\n",
       "       [-40.00136346, -27.18224702, -34.25988757, -28.47886754,\n",
       "        -36.59165764, -29.6246903 , -42.27006474, -44.46783054],\n",
       "       [-34.0826626 , -34.27456116, -34.41058866, -32.45837631,\n",
       "        -37.99987947, -34.80668734, -42.60731318, -25.69665534],\n",
       "       [-30.05831085, -28.58429906, -33.80369214, -27.48570806,\n",
       "        -26.25548076, -26.61082348, -16.90938172, -18.70148709],\n",
       "       [-25.13122433, -26.63034322, -31.6946354 , -27.77377033,\n",
       "        -26.77076953, -23.92616333, -22.25666945, -33.81149673],\n",
       "       [-28.95390962, -29.15615194, -32.64769042, -30.3155392 ,\n",
       "        -32.45259807, -33.48876336, -35.99070404, -46.06860733],\n",
       "       [-36.37027596, -39.28542666, -35.33778618, -40.79642413,\n",
       "        -41.2954921 , -49.21205749, -42.33707614, -37.42825699],\n",
       "       [-30.69863086, -39.81276656, -33.07035455, -34.83113709,\n",
       "        -37.05867956, -40.92988053, -32.14396204, -36.96155167],\n",
       "       [-38.8585018 , -46.23925931, -36.33306426, -39.09447018,\n",
       "        -41.80124086, -30.55172869, -41.53049639, -41.82474518],\n",
       "       [-29.59246695, -20.05769265, -34.38423594, -29.50970862,\n",
       "        -32.64706683, -35.06669711, -34.46839866, -31.63327789],\n",
       "       [-30.0741699 , -28.9344072 , -33.82950101, -27.66944154,\n",
       "        -33.8341045 , -38.22305373, -30.63892354, -34.20424652],\n",
       "       [-25.69497943, -38.37123614, -33.54004868, -29.47646961,\n",
       "        -24.59213812, -38.11394296, -20.03119805, -30.68370628],\n",
       "       [-27.56896739, -20.90450944, -33.24556215, -22.77673678,\n",
       "        -23.0993464 , -21.3214916 , -34.03029137, -31.88434601],\n",
       "       [-28.2699827 , -27.71940959, -32.48668798, -26.36374648,\n",
       "        -22.18655557, -23.7736875 , -23.00185012, -39.46545029],\n",
       "       [-32.31358289, -35.57638675, -34.08669449, -29.13381434,\n",
       "        -28.79571572, -21.16191561, -34.59689459, -31.11779976],\n",
       "       [-40.09507186, -34.36735426, -35.14249079, -40.36500923,\n",
       "        -28.67298136, -42.13115616, -46.94310534, -39.9587326 ],\n",
       "       [-39.2753763 , -40.15959175, -35.51398213, -32.75849647,\n",
       "        -32.45259807, -53.64929894, -35.88402525, -38.99797058],\n",
       "       [-28.82306411, -27.09573717, -34.66975969, -27.30196906,\n",
       "        -33.324597  , -28.51892901, -23.46471831, -25.94791031],\n",
       "       [-29.07323529, -29.01148793, -33.89594013, -30.17132471,\n",
       "        -31.81947358, -26.17196586, -23.18447493, -33.72809982],\n",
       "       [-32.74729618, -39.20618414, -34.78666175, -31.54397816,\n",
       "        -30.86484919, -46.12298156, -25.20644021, -33.45848465],\n",
       "       [-33.27477709, -28.13427056, -34.60381496, -24.80861138,\n",
       "        -34.4273129 , -24.81389671, -29.32316166, -32.6229744 ],\n",
       "       [-30.16309345, -23.63063446, -35.11790165, -26.4932642 ,\n",
       "        -31.29635662, -24.45758975, -25.15996777, -29.70846558],\n",
       "       [-33.78973684, -30.52564281, -34.4288355 , -29.03639254,\n",
       "        -33.62725934, -27.2771197 , -39.21686466, -36.21229553],\n",
       "       [-30.4660078 , -26.90491992, -34.56019279, -30.1042739 ,\n",
       "        -28.86221783, -26.8324339 , -29.28773716, -26.20114708],\n",
       "       [-27.02801113, -22.81704311, -34.15866472, -25.30552953,\n",
       "        -27.1307023 , -21.44768799, -23.77470628, -32.45279694],\n",
       "       [-38.67456383, -49.47738234, -34.44249662, -35.76245391,\n",
       "        -36.28010854, -40.88524555, -35.82383632, -35.02632523],\n",
       "       [-35.07696957, -38.34939099, -34.70854735, -29.78613658,\n",
       "        -26.77076953, -28.718724  , -35.5736365 , -25.42138481],\n",
       "       [-37.55670341, -33.4198025 , -34.66351217, -30.83025205,\n",
       "        -34.81283044, -37.70958016, -43.62474633, -38.96479416],\n",
       "       [-26.71084101, -33.25840574, -33.76048266, -32.5663563 ,\n",
       "        -37.5861731 , -34.71716225, -34.75320419, -41.74290466],\n",
       "       [-37.98886156, -42.20928038, -34.08833966, -31.38067054,\n",
       "        -23.95073238, -36.36525193, -35.51624506, -40.032547  ],\n",
       "       [-33.82408554, -42.33997478, -34.37554107, -36.17639085,\n",
       "        -32.42445651, -38.81756323, -43.2965149 , -45.65851593],\n",
       "       [-44.44904455, -49.02160682, -36.16327723, -49.08293809,\n",
       "        -48.11592756, -61.21842743, -44.97910888, -47.36065674],\n",
       "       [-32.04642112, -21.68636402, -34.09738473, -24.7922415 ,\n",
       "        -27.75018952, -20.02044868, -36.48512702, -19.87760735],\n",
       "       [-37.14473739, -40.04682549, -34.7016947 , -30.67525684,\n",
       "        -35.79355905, -36.15354068, -35.68437496, -28.55797577],\n",
       "       [-36.49290045, -44.09850342, -37.08026168, -41.68952209,\n",
       "        -41.66200182, -41.29462927, -40.47605366, -42.89639445],\n",
       "       [-27.32459258, -23.43262064, -33.65755843, -21.33627183,\n",
       "        -25.67511551, -28.47011392, -30.54720207, -27.16338358],\n",
       "       [-36.82498463, -42.39324092, -35.14719904, -41.53174254,\n",
       "        -31.60482607, -55.52026375, -27.66858836, -43.42976039],\n",
       "       [-29.13959594, -25.43827167, -33.90097792, -24.48082795,\n",
       "        -27.49363785, -19.98743572, -30.37969474, -21.78757962],\n",
       "       [-34.14429756, -35.0755208 , -35.51788717, -34.50704971,\n",
       "        -32.74853697, -24.14059411, -43.82593248, -36.99262534],\n",
       "       [-27.88528162, -21.70731332, -32.39612653, -24.11032524,\n",
       "        -20.372966  , -20.71552527, -24.69506958, -31.64715187],\n",
       "       [-32.83446168, -29.20335612, -34.33343412, -27.25872257,\n",
       "        -32.70961021, -18.56523196, -39.8836325 , -39.50513459],\n",
       "       [-28.7511472 , -39.43955952, -33.53255029, -34.94706312,\n",
       "        -29.88901173, -30.61354786, -25.44537044, -35.1412781 ],\n",
       "       [-28.72986927, -27.0822653 , -34.37778037, -27.37845346,\n",
       "        -29.21256955, -26.18371744, -31.8523996 , -27.70556246],\n",
       "       [-30.00574902, -30.93726143, -34.77560638, -30.57951344,\n",
       "        -33.34826383, -19.56469771, -25.23297776, -33.64287436]])"
      ]
     },
     "execution_count": 7,
     "metadata": {},
     "output_type": "execute_result"
    }
   ],
   "source": [
    "y_predictions_nparray"
   ]
  },
  {
   "cell_type": "markdown",
   "metadata": {},
   "source": [
    "## 3. Ensemble Model\n",
    "### 3.1"
   ]
  },
  {
   "cell_type": "code",
   "execution_count": 8,
   "metadata": {},
   "outputs": [
    {
     "data": {
      "text/html": [
       "<div>\n",
       "<style scoped>\n",
       "    .dataframe tbody tr th:only-of-type {\n",
       "        vertical-align: middle;\n",
       "    }\n",
       "\n",
       "    .dataframe tbody tr th {\n",
       "        vertical-align: top;\n",
       "    }\n",
       "\n",
       "    .dataframe thead th {\n",
       "        text-align: right;\n",
       "    }\n",
       "</style>\n",
       "<table border=\"1\" class=\"dataframe\">\n",
       "  <thead>\n",
       "    <tr style=\"text-align: right;\">\n",
       "      <th></th>\n",
       "      <th>X0</th>\n",
       "      <th>X1</th>\n",
       "      <th>X2</th>\n",
       "      <th>X3</th>\n",
       "      <th>X4</th>\n",
       "      <th>X5</th>\n",
       "      <th>X6</th>\n",
       "      <th>X7</th>\n",
       "      <th>y</th>\n",
       "    </tr>\n",
       "  </thead>\n",
       "  <tbody>\n",
       "    <tr>\n",
       "      <th>0</th>\n",
       "      <td>-37.927598</td>\n",
       "      <td>-37.427863</td>\n",
       "      <td>-35.030864</td>\n",
       "      <td>-35.995763</td>\n",
       "      <td>-37.018492</td>\n",
       "      <td>-28.752843</td>\n",
       "      <td>-44.347167</td>\n",
       "      <td>-47.920973</td>\n",
       "      <td>-37.140176</td>\n",
       "    </tr>\n",
       "    <tr>\n",
       "      <th>1</th>\n",
       "      <td>-38.790655</td>\n",
       "      <td>-35.130299</td>\n",
       "      <td>-35.059917</td>\n",
       "      <td>-27.296031</td>\n",
       "      <td>-26.231904</td>\n",
       "      <td>-20.816637</td>\n",
       "      <td>-44.702004</td>\n",
       "      <td>-41.792588</td>\n",
       "      <td>-37.425494</td>\n",
       "    </tr>\n",
       "    <tr>\n",
       "      <th>2</th>\n",
       "      <td>-29.885808</td>\n",
       "      <td>-28.464780</td>\n",
       "      <td>-33.510712</td>\n",
       "      <td>-35.274599</td>\n",
       "      <td>-30.513169</td>\n",
       "      <td>-46.731024</td>\n",
       "      <td>-34.299705</td>\n",
       "      <td>-29.144787</td>\n",
       "      <td>-45.898510</td>\n",
       "    </tr>\n",
       "    <tr>\n",
       "      <th>3</th>\n",
       "      <td>-30.137795</td>\n",
       "      <td>-22.891399</td>\n",
       "      <td>-33.759596</td>\n",
       "      <td>-22.729622</td>\n",
       "      <td>-26.463053</td>\n",
       "      <td>-22.872092</td>\n",
       "      <td>-21.396948</td>\n",
       "      <td>-27.353905</td>\n",
       "      <td>-31.066304</td>\n",
       "    </tr>\n",
       "    <tr>\n",
       "      <th>4</th>\n",
       "      <td>-31.910553</td>\n",
       "      <td>-40.984931</td>\n",
       "      <td>-35.524840</td>\n",
       "      <td>-42.803223</td>\n",
       "      <td>-36.503180</td>\n",
       "      <td>-52.578962</td>\n",
       "      <td>-37.318222</td>\n",
       "      <td>-50.061367</td>\n",
       "      <td>-41.555352</td>\n",
       "    </tr>\n",
       "    <tr>\n",
       "      <th>5</th>\n",
       "      <td>-39.215013</td>\n",
       "      <td>-51.251724</td>\n",
       "      <td>-34.056731</td>\n",
       "      <td>-38.809821</td>\n",
       "      <td>-34.635102</td>\n",
       "      <td>-43.020265</td>\n",
       "      <td>-36.897086</td>\n",
       "      <td>-39.040153</td>\n",
       "      <td>-34.762099</td>\n",
       "    </tr>\n",
       "    <tr>\n",
       "      <th>6</th>\n",
       "      <td>-30.929113</td>\n",
       "      <td>-39.400127</td>\n",
       "      <td>-34.774942</td>\n",
       "      <td>-34.001820</td>\n",
       "      <td>-36.216516</td>\n",
       "      <td>-31.691742</td>\n",
       "      <td>-34.774366</td>\n",
       "      <td>-35.307962</td>\n",
       "      <td>-22.638512</td>\n",
       "    </tr>\n",
       "    <tr>\n",
       "      <th>7</th>\n",
       "      <td>-40.001363</td>\n",
       "      <td>-27.182247</td>\n",
       "      <td>-34.259888</td>\n",
       "      <td>-28.478868</td>\n",
       "      <td>-36.591658</td>\n",
       "      <td>-29.624690</td>\n",
       "      <td>-42.270065</td>\n",
       "      <td>-44.467831</td>\n",
       "      <td>-46.828391</td>\n",
       "    </tr>\n",
       "    <tr>\n",
       "      <th>8</th>\n",
       "      <td>-34.082663</td>\n",
       "      <td>-34.274561</td>\n",
       "      <td>-34.410589</td>\n",
       "      <td>-32.458376</td>\n",
       "      <td>-37.999879</td>\n",
       "      <td>-34.806687</td>\n",
       "      <td>-42.607313</td>\n",
       "      <td>-25.696655</td>\n",
       "      <td>-26.674801</td>\n",
       "    </tr>\n",
       "    <tr>\n",
       "      <th>9</th>\n",
       "      <td>-30.058311</td>\n",
       "      <td>-28.584299</td>\n",
       "      <td>-33.803692</td>\n",
       "      <td>-27.485708</td>\n",
       "      <td>-26.255481</td>\n",
       "      <td>-26.610823</td>\n",
       "      <td>-16.909382</td>\n",
       "      <td>-18.701487</td>\n",
       "      <td>-25.450905</td>\n",
       "    </tr>\n",
       "    <tr>\n",
       "      <th>10</th>\n",
       "      <td>-25.131224</td>\n",
       "      <td>-26.630343</td>\n",
       "      <td>-31.694635</td>\n",
       "      <td>-27.773770</td>\n",
       "      <td>-26.770770</td>\n",
       "      <td>-23.926163</td>\n",
       "      <td>-22.256669</td>\n",
       "      <td>-33.811497</td>\n",
       "      <td>-23.240372</td>\n",
       "    </tr>\n",
       "    <tr>\n",
       "      <th>11</th>\n",
       "      <td>-28.953910</td>\n",
       "      <td>-29.156152</td>\n",
       "      <td>-32.647690</td>\n",
       "      <td>-30.315539</td>\n",
       "      <td>-32.452598</td>\n",
       "      <td>-33.488763</td>\n",
       "      <td>-35.990704</td>\n",
       "      <td>-46.068607</td>\n",
       "      <td>-49.403465</td>\n",
       "    </tr>\n",
       "    <tr>\n",
       "      <th>12</th>\n",
       "      <td>-36.370276</td>\n",
       "      <td>-39.285427</td>\n",
       "      <td>-35.337786</td>\n",
       "      <td>-40.796424</td>\n",
       "      <td>-41.295492</td>\n",
       "      <td>-49.212057</td>\n",
       "      <td>-42.337076</td>\n",
       "      <td>-37.428257</td>\n",
       "      <td>-41.037831</td>\n",
       "    </tr>\n",
       "    <tr>\n",
       "      <th>13</th>\n",
       "      <td>-30.698631</td>\n",
       "      <td>-39.812767</td>\n",
       "      <td>-33.070355</td>\n",
       "      <td>-34.831137</td>\n",
       "      <td>-37.058680</td>\n",
       "      <td>-40.929881</td>\n",
       "      <td>-32.143962</td>\n",
       "      <td>-36.961552</td>\n",
       "      <td>-30.657121</td>\n",
       "    </tr>\n",
       "    <tr>\n",
       "      <th>14</th>\n",
       "      <td>-38.858502</td>\n",
       "      <td>-46.239259</td>\n",
       "      <td>-36.333064</td>\n",
       "      <td>-39.094470</td>\n",
       "      <td>-41.801241</td>\n",
       "      <td>-30.551729</td>\n",
       "      <td>-41.530496</td>\n",
       "      <td>-41.824745</td>\n",
       "      <td>-47.967507</td>\n",
       "    </tr>\n",
       "    <tr>\n",
       "      <th>15</th>\n",
       "      <td>-29.592467</td>\n",
       "      <td>-20.057693</td>\n",
       "      <td>-34.384236</td>\n",
       "      <td>-29.509709</td>\n",
       "      <td>-32.647067</td>\n",
       "      <td>-35.066697</td>\n",
       "      <td>-34.468399</td>\n",
       "      <td>-31.633278</td>\n",
       "      <td>-37.569471</td>\n",
       "    </tr>\n",
       "    <tr>\n",
       "      <th>16</th>\n",
       "      <td>-30.074170</td>\n",
       "      <td>-28.934407</td>\n",
       "      <td>-33.829501</td>\n",
       "      <td>-27.669442</td>\n",
       "      <td>-33.834105</td>\n",
       "      <td>-38.223054</td>\n",
       "      <td>-30.638924</td>\n",
       "      <td>-34.204247</td>\n",
       "      <td>-30.941692</td>\n",
       "    </tr>\n",
       "    <tr>\n",
       "      <th>17</th>\n",
       "      <td>-25.694979</td>\n",
       "      <td>-38.371236</td>\n",
       "      <td>-33.540049</td>\n",
       "      <td>-29.476470</td>\n",
       "      <td>-24.592138</td>\n",
       "      <td>-38.113943</td>\n",
       "      <td>-20.031198</td>\n",
       "      <td>-30.683706</td>\n",
       "      <td>-24.434075</td>\n",
       "    </tr>\n",
       "    <tr>\n",
       "      <th>18</th>\n",
       "      <td>-27.568967</td>\n",
       "      <td>-20.904509</td>\n",
       "      <td>-33.245562</td>\n",
       "      <td>-22.776737</td>\n",
       "      <td>-23.099346</td>\n",
       "      <td>-21.321492</td>\n",
       "      <td>-34.030291</td>\n",
       "      <td>-31.884346</td>\n",
       "      <td>-40.579718</td>\n",
       "    </tr>\n",
       "    <tr>\n",
       "      <th>19</th>\n",
       "      <td>-28.269983</td>\n",
       "      <td>-27.719410</td>\n",
       "      <td>-32.486688</td>\n",
       "      <td>-26.363746</td>\n",
       "      <td>-22.186556</td>\n",
       "      <td>-23.773688</td>\n",
       "      <td>-23.001850</td>\n",
       "      <td>-39.465450</td>\n",
       "      <td>-39.352342</td>\n",
       "    </tr>\n",
       "  </tbody>\n",
       "</table>\n",
       "</div>"
      ],
      "text/plain": [
       "           X0         X1         X2         X3         X4         X5  \\\n",
       "0  -37.927598 -37.427863 -35.030864 -35.995763 -37.018492 -28.752843   \n",
       "1  -38.790655 -35.130299 -35.059917 -27.296031 -26.231904 -20.816637   \n",
       "2  -29.885808 -28.464780 -33.510712 -35.274599 -30.513169 -46.731024   \n",
       "3  -30.137795 -22.891399 -33.759596 -22.729622 -26.463053 -22.872092   \n",
       "4  -31.910553 -40.984931 -35.524840 -42.803223 -36.503180 -52.578962   \n",
       "5  -39.215013 -51.251724 -34.056731 -38.809821 -34.635102 -43.020265   \n",
       "6  -30.929113 -39.400127 -34.774942 -34.001820 -36.216516 -31.691742   \n",
       "7  -40.001363 -27.182247 -34.259888 -28.478868 -36.591658 -29.624690   \n",
       "8  -34.082663 -34.274561 -34.410589 -32.458376 -37.999879 -34.806687   \n",
       "9  -30.058311 -28.584299 -33.803692 -27.485708 -26.255481 -26.610823   \n",
       "10 -25.131224 -26.630343 -31.694635 -27.773770 -26.770770 -23.926163   \n",
       "11 -28.953910 -29.156152 -32.647690 -30.315539 -32.452598 -33.488763   \n",
       "12 -36.370276 -39.285427 -35.337786 -40.796424 -41.295492 -49.212057   \n",
       "13 -30.698631 -39.812767 -33.070355 -34.831137 -37.058680 -40.929881   \n",
       "14 -38.858502 -46.239259 -36.333064 -39.094470 -41.801241 -30.551729   \n",
       "15 -29.592467 -20.057693 -34.384236 -29.509709 -32.647067 -35.066697   \n",
       "16 -30.074170 -28.934407 -33.829501 -27.669442 -33.834105 -38.223054   \n",
       "17 -25.694979 -38.371236 -33.540049 -29.476470 -24.592138 -38.113943   \n",
       "18 -27.568967 -20.904509 -33.245562 -22.776737 -23.099346 -21.321492   \n",
       "19 -28.269983 -27.719410 -32.486688 -26.363746 -22.186556 -23.773688   \n",
       "\n",
       "           X6         X7          y  \n",
       "0  -44.347167 -47.920973 -37.140176  \n",
       "1  -44.702004 -41.792588 -37.425494  \n",
       "2  -34.299705 -29.144787 -45.898510  \n",
       "3  -21.396948 -27.353905 -31.066304  \n",
       "4  -37.318222 -50.061367 -41.555352  \n",
       "5  -36.897086 -39.040153 -34.762099  \n",
       "6  -34.774366 -35.307962 -22.638512  \n",
       "7  -42.270065 -44.467831 -46.828391  \n",
       "8  -42.607313 -25.696655 -26.674801  \n",
       "9  -16.909382 -18.701487 -25.450905  \n",
       "10 -22.256669 -33.811497 -23.240372  \n",
       "11 -35.990704 -46.068607 -49.403465  \n",
       "12 -42.337076 -37.428257 -41.037831  \n",
       "13 -32.143962 -36.961552 -30.657121  \n",
       "14 -41.530496 -41.824745 -47.967507  \n",
       "15 -34.468399 -31.633278 -37.569471  \n",
       "16 -30.638924 -34.204247 -30.941692  \n",
       "17 -20.031198 -30.683706 -24.434075  \n",
       "18 -34.030291 -31.884346 -40.579718  \n",
       "19 -23.001850 -39.465450 -39.352342  "
      ]
     },
     "metadata": {},
     "output_type": "display_data"
    },
    {
     "data": {
      "image/png": "[encoded data removed]",
      "text/plain": [
       "<Figure size 360x360 with 1 Axes>"
      ]
     },
     "metadata": {},
     "output_type": "display_data"
    }
   ],
   "source": [
    "num_ML_models=len(ML_model_list)\n",
    "z_level_1_learner = pd.DataFrame(y_predictions_nparray, columns=['X%s' % i for i in range(0, num_ML_models)])\n",
    "y_level_1_learner = y_test_np_array\n",
    "\n",
    "model_data=z_level_1_learner.copy()\n",
    "df_y=pd.DataFrame(y_level_1_learner)\n",
    "df_y.columns=[\"y\"]\n",
    "model_data[\"y\"]=df_y\n",
    "\n",
    "display(model_data.head(20))\n",
    "_ = sns.relplot(x='X7', y='y', data=model_data)\n"
   ]
  },
  {
   "cell_type": "code",
   "execution_count": 9,
   "metadata": {},
   "outputs": [
    {
     "name": "stdout",
     "output_type": "stream",
     "text": [
      "<TensorType(float64, matrix)>\n"
     ]
    }
   ],
   "source": [
    "x_train=model_data.drop([\"y\"],axis=1)\n",
    "\n",
    "y_tensor = theano.shared(model_data.y.values.astype('float64'))\n",
    "x_tensor = theano.shared(x_train.values.astype('float64'))\n",
    "print(x_tensor)\n"
   ]
  },
  {
   "cell_type": "code",
   "execution_count": 10,
   "metadata": {},
   "outputs": [],
   "source": [
    "with pm.Model() as model:\n",
    "    \n",
    "    # define the priors\n",
    "    beta1 = pm.Dirichlet('beta1', a=np.array([1]*num_ML_models), shape=num_ML_models)\n",
    "    sd = pm.HalfNormal('sd', 10)\n",
    "\n",
    "    # define the likelihood\n",
    "    mu = pm.math.dot(beta1, x_tensor.T)\n",
    "    yl = pm.Normal('yl', mu, sd, observed=y_tensor)"
   ]
  },
  {
   "cell_type": "code",
   "execution_count": 11,
   "metadata": {},
   "outputs": [
    {
     "name": "stderr",
     "output_type": "stream",
     "text": [
      "Auto-assigning NUTS sampler...\n",
      "Initializing NUTS using jitter+adapt_diag...\n",
      "Multiprocess sampling (6 chains in 6 jobs)\n",
      "NUTS: [sd, beta1]\n",
      "Sampling 6 chains, 0 divergences: 100%|██████████████████████████████████████| 36000/36000 [00:36<00:00, 994.91draws/s]\n"
     ]
    }
   ],
   "source": [
    "# Generate a MCMC chain\n",
    "with model:\n",
    "    hmc_trace = pm.sample(draws=5000, tune=1000, cores=6)\n",
    "    #trace = pm.sample(1000)"
   ]
  },
  {
   "cell_type": "code",
   "execution_count": 12,
   "metadata": {},
   "outputs": [
    {
     "data": {
      "text/html": [
       "<div>\n",
       "<style scoped>\n",
       "    .dataframe tbody tr th:only-of-type {\n",
       "        vertical-align: middle;\n",
       "    }\n",
       "\n",
       "    .dataframe tbody tr th {\n",
       "        vertical-align: top;\n",
       "    }\n",
       "\n",
       "    .dataframe thead th {\n",
       "        text-align: right;\n",
       "    }\n",
       "</style>\n",
       "<table border=\"1\" class=\"dataframe\">\n",
       "  <thead>\n",
       "    <tr style=\"text-align: right;\">\n",
       "      <th></th>\n",
       "      <th>mean</th>\n",
       "      <th>sd</th>\n",
       "      <th>hpd_3%</th>\n",
       "      <th>hpd_97%</th>\n",
       "      <th>mcse_mean</th>\n",
       "      <th>mcse_sd</th>\n",
       "      <th>ess_mean</th>\n",
       "      <th>ess_sd</th>\n",
       "      <th>ess_bulk</th>\n",
       "      <th>ess_tail</th>\n",
       "      <th>r_hat</th>\n",
       "    </tr>\n",
       "  </thead>\n",
       "  <tbody>\n",
       "    <tr>\n",
       "      <th>beta1[0]</th>\n",
       "      <td>0.131</td>\n",
       "      <td>0.106</td>\n",
       "      <td>0.000</td>\n",
       "      <td>0.326</td>\n",
       "      <td>0.001</td>\n",
       "      <td>0.000</td>\n",
       "      <td>37343.0</td>\n",
       "      <td>34097.0</td>\n",
       "      <td>28259.0</td>\n",
       "      <td>15257.0</td>\n",
       "      <td>1.0</td>\n",
       "    </tr>\n",
       "    <tr>\n",
       "      <th>beta1[1]</th>\n",
       "      <td>0.044</td>\n",
       "      <td>0.042</td>\n",
       "      <td>0.000</td>\n",
       "      <td>0.123</td>\n",
       "      <td>0.000</td>\n",
       "      <td>0.000</td>\n",
       "      <td>36268.0</td>\n",
       "      <td>29414.0</td>\n",
       "      <td>26105.0</td>\n",
       "      <td>14853.0</td>\n",
       "      <td>1.0</td>\n",
       "    </tr>\n",
       "    <tr>\n",
       "      <th>beta1[2]</th>\n",
       "      <td>0.134</td>\n",
       "      <td>0.103</td>\n",
       "      <td>0.000</td>\n",
       "      <td>0.321</td>\n",
       "      <td>0.001</td>\n",
       "      <td>0.000</td>\n",
       "      <td>35390.0</td>\n",
       "      <td>34713.0</td>\n",
       "      <td>25338.0</td>\n",
       "      <td>12974.0</td>\n",
       "      <td>1.0</td>\n",
       "    </tr>\n",
       "    <tr>\n",
       "      <th>beta1[3]</th>\n",
       "      <td>0.080</td>\n",
       "      <td>0.072</td>\n",
       "      <td>0.000</td>\n",
       "      <td>0.213</td>\n",
       "      <td>0.000</td>\n",
       "      <td>0.000</td>\n",
       "      <td>36279.0</td>\n",
       "      <td>31055.0</td>\n",
       "      <td>26575.0</td>\n",
       "      <td>14726.0</td>\n",
       "      <td>1.0</td>\n",
       "    </tr>\n",
       "    <tr>\n",
       "      <th>beta1[4]</th>\n",
       "      <td>0.087</td>\n",
       "      <td>0.077</td>\n",
       "      <td>0.000</td>\n",
       "      <td>0.228</td>\n",
       "      <td>0.000</td>\n",
       "      <td>0.000</td>\n",
       "      <td>36893.0</td>\n",
       "      <td>31918.0</td>\n",
       "      <td>26104.0</td>\n",
       "      <td>14398.0</td>\n",
       "      <td>1.0</td>\n",
       "    </tr>\n",
       "    <tr>\n",
       "      <th>beta1[5]</th>\n",
       "      <td>0.072</td>\n",
       "      <td>0.058</td>\n",
       "      <td>0.000</td>\n",
       "      <td>0.179</td>\n",
       "      <td>0.000</td>\n",
       "      <td>0.000</td>\n",
       "      <td>38504.0</td>\n",
       "      <td>33253.0</td>\n",
       "      <td>29323.0</td>\n",
       "      <td>16019.0</td>\n",
       "      <td>1.0</td>\n",
       "    </tr>\n",
       "    <tr>\n",
       "      <th>beta1[6]</th>\n",
       "      <td>0.148</td>\n",
       "      <td>0.105</td>\n",
       "      <td>0.000</td>\n",
       "      <td>0.333</td>\n",
       "      <td>0.001</td>\n",
       "      <td>0.000</td>\n",
       "      <td>41439.0</td>\n",
       "      <td>36374.0</td>\n",
       "      <td>34633.0</td>\n",
       "      <td>18331.0</td>\n",
       "      <td>1.0</td>\n",
       "    </tr>\n",
       "    <tr>\n",
       "      <th>beta1[7]</th>\n",
       "      <td>0.304</td>\n",
       "      <td>0.138</td>\n",
       "      <td>0.047</td>\n",
       "      <td>0.558</td>\n",
       "      <td>0.001</td>\n",
       "      <td>0.001</td>\n",
       "      <td>34961.0</td>\n",
       "      <td>34961.0</td>\n",
       "      <td>33580.0</td>\n",
       "      <td>20448.0</td>\n",
       "      <td>1.0</td>\n",
       "    </tr>\n",
       "    <tr>\n",
       "      <th>sd</th>\n",
       "      <td>7.365</td>\n",
       "      <td>0.779</td>\n",
       "      <td>5.981</td>\n",
       "      <td>8.858</td>\n",
       "      <td>0.004</td>\n",
       "      <td>0.003</td>\n",
       "      <td>32974.0</td>\n",
       "      <td>31564.0</td>\n",
       "      <td>34360.0</td>\n",
       "      <td>22015.0</td>\n",
       "      <td>1.0</td>\n",
       "    </tr>\n",
       "  </tbody>\n",
       "</table>\n",
       "</div>"
      ],
      "text/plain": [
       "           mean     sd  hpd_3%  hpd_97%  mcse_mean  mcse_sd  ess_mean  \\\n",
       "beta1[0]  0.131  0.106   0.000    0.326      0.001    0.000   37343.0   \n",
       "beta1[1]  0.044  0.042   0.000    0.123      0.000    0.000   36268.0   \n",
       "beta1[2]  0.134  0.103   0.000    0.321      0.001    0.000   35390.0   \n",
       "beta1[3]  0.080  0.072   0.000    0.213      0.000    0.000   36279.0   \n",
       "beta1[4]  0.087  0.077   0.000    0.228      0.000    0.000   36893.0   \n",
       "beta1[5]  0.072  0.058   0.000    0.179      0.000    0.000   38504.0   \n",
       "beta1[6]  0.148  0.105   0.000    0.333      0.001    0.000   41439.0   \n",
       "beta1[7]  0.304  0.138   0.047    0.558      0.001    0.001   34961.0   \n",
       "sd        7.365  0.779   5.981    8.858      0.004    0.003   32974.0   \n",
       "\n",
       "           ess_sd  ess_bulk  ess_tail  r_hat  \n",
       "beta1[0]  34097.0   28259.0   15257.0    1.0  \n",
       "beta1[1]  29414.0   26105.0   14853.0    1.0  \n",
       "beta1[2]  34713.0   25338.0   12974.0    1.0  \n",
       "beta1[3]  31055.0   26575.0   14726.0    1.0  \n",
       "beta1[4]  31918.0   26104.0   14398.0    1.0  \n",
       "beta1[5]  33253.0   29323.0   16019.0    1.0  \n",
       "beta1[6]  36374.0   34633.0   18331.0    1.0  \n",
       "beta1[7]  34961.0   33580.0   20448.0    1.0  \n",
       "sd        31564.0   34360.0   22015.0    1.0  "
      ]
     },
     "execution_count": 12,
     "metadata": {},
     "output_type": "execute_result"
    },
    {
     "data": {
      "image/png": "[encoded data removed]",
      "text/plain": [
       "<Figure size 864x288 with 4 Axes>"
      ]
     },
     "metadata": {},
     "output_type": "display_data"
    }
   ],
   "source": [
    "pm.traceplot(hmc_trace)\n",
    "pm.summary(hmc_trace)"
   ]
  },
  {
   "cell_type": "code",
   "execution_count": 13,
   "metadata": {},
   "outputs": [
    {
     "name": "stderr",
     "output_type": "stream",
     "text": [
      "Average Loss = 174.39: 100%|███████████████████████████████████████████████████| 30000/30000 [00:10<00:00, 2830.39it/s]\n",
      "Finished [100%]: Average Loss = 174.36\n"
     ]
    }
   ],
   "source": [
    "map_tensor_batch = {y_tensor: pm.Minibatch(model_data.y.values.astype('float64'), n_data),\n",
    "                    x_tensor: pm.Minibatch(x_train.values.astype('float64'), n_data)}\n",
    "with model:\n",
    "    advi_fit = pm.fit(method=pm.ADVI(), n=30000,\n",
    "                      more_replacements=map_tensor_batch)"
   ]
  },
  {
   "cell_type": "code",
   "execution_count": 14,
   "metadata": {},
   "outputs": [
    {
     "data": {
      "image/png": "[encoded data removed]",
      "text/plain": [
       "<Figure size 432x288 with 1 Axes>"
      ]
     },
     "metadata": {},
     "output_type": "display_data"
    }
   ],
   "source": [
    "advi_elbo = pd.DataFrame(\n",
    "    {'log-ELBO': -np.log(advi_fit.hist),\n",
    "     'n': np.arange(advi_fit.hist.shape[0])})\n",
    "\n",
    "_ = sns.lineplot(y='log-ELBO', x='n', data=advi_elbo)"
   ]
  },
  {
   "cell_type": "code",
   "execution_count": 15,
   "metadata": {},
   "outputs": [
    {
     "name": "stderr",
     "output_type": "stream",
     "text": [
      "arviz.stats.stats_utils - WARNING - Shape validation failed: input_shape: (1, 10000), minimum_shape: (chains=2, draws=4)\n",
      "arviz.stats.stats_utils - WARNING - Shape validation failed: input_shape: (1, 10000), minimum_shape: (chains=2, draws=4)\n",
      "arviz.stats.stats_utils - WARNING - Shape validation failed: input_shape: (1, 10000), minimum_shape: (chains=2, draws=4)\n",
      "arviz.stats.stats_utils - WARNING - Shape validation failed: input_shape: (1, 10000), minimum_shape: (chains=2, draws=4)\n",
      "arviz.stats.stats_utils - WARNING - Shape validation failed: input_shape: (1, 10000), minimum_shape: (chains=2, draws=4)\n",
      "arviz.stats.stats_utils - WARNING - Shape validation failed: input_shape: (1, 10000), minimum_shape: (chains=2, draws=4)\n",
      "arviz.stats.stats_utils - WARNING - Shape validation failed: input_shape: (1, 10000), minimum_shape: (chains=2, draws=4)\n",
      "arviz.stats.stats_utils - WARNING - Shape validation failed: input_shape: (1, 10000), minimum_shape: (chains=2, draws=4)\n",
      "arviz.stats.stats_utils - WARNING - Shape validation failed: input_shape: (1, 10000), minimum_shape: (chains=2, draws=4)\n"
     ]
    },
    {
     "data": {
      "text/html": [
       "<div>\n",
       "<style scoped>\n",
       "    .dataframe tbody tr th:only-of-type {\n",
       "        vertical-align: middle;\n",
       "    }\n",
       "\n",
       "    .dataframe tbody tr th {\n",
       "        vertical-align: top;\n",
       "    }\n",
       "\n",
       "    .dataframe thead th {\n",
       "        text-align: right;\n",
       "    }\n",
       "</style>\n",
       "<table border=\"1\" class=\"dataframe\">\n",
       "  <thead>\n",
       "    <tr style=\"text-align: right;\">\n",
       "      <th></th>\n",
       "      <th>mean</th>\n",
       "      <th>sd</th>\n",
       "      <th>hpd_3%</th>\n",
       "      <th>hpd_97%</th>\n",
       "      <th>mcse_mean</th>\n",
       "      <th>mcse_sd</th>\n",
       "      <th>ess_mean</th>\n",
       "      <th>ess_sd</th>\n",
       "      <th>ess_bulk</th>\n",
       "      <th>ess_tail</th>\n",
       "      <th>r_hat</th>\n",
       "    </tr>\n",
       "  </thead>\n",
       "  <tbody>\n",
       "    <tr>\n",
       "      <th>beta1[0]</th>\n",
       "      <td>0.154</td>\n",
       "      <td>0.142</td>\n",
       "      <td>0.003</td>\n",
       "      <td>0.431</td>\n",
       "      <td>0.001</td>\n",
       "      <td>0.001</td>\n",
       "      <td>10150.0</td>\n",
       "      <td>10150.0</td>\n",
       "      <td>9928.0</td>\n",
       "      <td>9971.0</td>\n",
       "      <td>NaN</td>\n",
       "    </tr>\n",
       "    <tr>\n",
       "      <th>beta1[1]</th>\n",
       "      <td>0.055</td>\n",
       "      <td>0.069</td>\n",
       "      <td>0.000</td>\n",
       "      <td>0.176</td>\n",
       "      <td>0.001</td>\n",
       "      <td>0.000</td>\n",
       "      <td>9854.0</td>\n",
       "      <td>9669.0</td>\n",
       "      <td>10376.0</td>\n",
       "      <td>9460.0</td>\n",
       "      <td>NaN</td>\n",
       "    </tr>\n",
       "    <tr>\n",
       "      <th>beta1[2]</th>\n",
       "      <td>0.148</td>\n",
       "      <td>0.129</td>\n",
       "      <td>0.002</td>\n",
       "      <td>0.395</td>\n",
       "      <td>0.001</td>\n",
       "      <td>0.001</td>\n",
       "      <td>9968.0</td>\n",
       "      <td>9927.0</td>\n",
       "      <td>10016.0</td>\n",
       "      <td>9675.0</td>\n",
       "      <td>NaN</td>\n",
       "    </tr>\n",
       "    <tr>\n",
       "      <th>beta1[3]</th>\n",
       "      <td>0.090</td>\n",
       "      <td>0.097</td>\n",
       "      <td>0.001</td>\n",
       "      <td>0.272</td>\n",
       "      <td>0.001</td>\n",
       "      <td>0.001</td>\n",
       "      <td>9922.0</td>\n",
       "      <td>9922.0</td>\n",
       "      <td>9557.0</td>\n",
       "      <td>9930.0</td>\n",
       "      <td>NaN</td>\n",
       "    </tr>\n",
       "    <tr>\n",
       "      <th>beta1[4]</th>\n",
       "      <td>0.091</td>\n",
       "      <td>0.095</td>\n",
       "      <td>0.000</td>\n",
       "      <td>0.271</td>\n",
       "      <td>0.001</td>\n",
       "      <td>0.001</td>\n",
       "      <td>9999.0</td>\n",
       "      <td>9753.0</td>\n",
       "      <td>10126.0</td>\n",
       "      <td>9294.0</td>\n",
       "      <td>NaN</td>\n",
       "    </tr>\n",
       "    <tr>\n",
       "      <th>beta1[5]</th>\n",
       "      <td>0.078</td>\n",
       "      <td>0.081</td>\n",
       "      <td>0.000</td>\n",
       "      <td>0.231</td>\n",
       "      <td>0.001</td>\n",
       "      <td>0.001</td>\n",
       "      <td>9569.0</td>\n",
       "      <td>9569.0</td>\n",
       "      <td>9227.0</td>\n",
       "      <td>9740.0</td>\n",
       "      <td>NaN</td>\n",
       "    </tr>\n",
       "    <tr>\n",
       "      <th>beta1[6]</th>\n",
       "      <td>0.139</td>\n",
       "      <td>0.121</td>\n",
       "      <td>0.000</td>\n",
       "      <td>0.367</td>\n",
       "      <td>0.001</td>\n",
       "      <td>0.001</td>\n",
       "      <td>9857.0</td>\n",
       "      <td>9857.0</td>\n",
       "      <td>9850.0</td>\n",
       "      <td>9917.0</td>\n",
       "      <td>NaN</td>\n",
       "    </tr>\n",
       "    <tr>\n",
       "      <th>beta1[7]</th>\n",
       "      <td>0.246</td>\n",
       "      <td>0.149</td>\n",
       "      <td>0.006</td>\n",
       "      <td>0.509</td>\n",
       "      <td>0.001</td>\n",
       "      <td>0.001</td>\n",
       "      <td>10189.0</td>\n",
       "      <td>10125.0</td>\n",
       "      <td>10134.0</td>\n",
       "      <td>9718.0</td>\n",
       "      <td>NaN</td>\n",
       "    </tr>\n",
       "    <tr>\n",
       "      <th>sd</th>\n",
       "      <td>7.493</td>\n",
       "      <td>0.842</td>\n",
       "      <td>5.947</td>\n",
       "      <td>9.073</td>\n",
       "      <td>0.008</td>\n",
       "      <td>0.006</td>\n",
       "      <td>9919.0</td>\n",
       "      <td>9905.0</td>\n",
       "      <td>9937.0</td>\n",
       "      <td>9877.0</td>\n",
       "      <td>NaN</td>\n",
       "    </tr>\n",
       "  </tbody>\n",
       "</table>\n",
       "</div>"
      ],
      "text/plain": [
       "           mean     sd  hpd_3%  hpd_97%  mcse_mean  mcse_sd  ess_mean  \\\n",
       "beta1[0]  0.154  0.142   0.003    0.431      0.001    0.001   10150.0   \n",
       "beta1[1]  0.055  0.069   0.000    0.176      0.001    0.000    9854.0   \n",
       "beta1[2]  0.148  0.129   0.002    0.395      0.001    0.001    9968.0   \n",
       "beta1[3]  0.090  0.097   0.001    0.272      0.001    0.001    9922.0   \n",
       "beta1[4]  0.091  0.095   0.000    0.271      0.001    0.001    9999.0   \n",
       "beta1[5]  0.078  0.081   0.000    0.231      0.001    0.001    9569.0   \n",
       "beta1[6]  0.139  0.121   0.000    0.367      0.001    0.001    9857.0   \n",
       "beta1[7]  0.246  0.149   0.006    0.509      0.001    0.001   10189.0   \n",
       "sd        7.493  0.842   5.947    9.073      0.008    0.006    9919.0   \n",
       "\n",
       "           ess_sd  ess_bulk  ess_tail  r_hat  \n",
       "beta1[0]  10150.0    9928.0    9971.0    NaN  \n",
       "beta1[1]   9669.0   10376.0    9460.0    NaN  \n",
       "beta1[2]   9927.0   10016.0    9675.0    NaN  \n",
       "beta1[3]   9922.0    9557.0    9930.0    NaN  \n",
       "beta1[4]   9753.0   10126.0    9294.0    NaN  \n",
       "beta1[5]   9569.0    9227.0    9740.0    NaN  \n",
       "beta1[6]   9857.0    9850.0    9917.0    NaN  \n",
       "beta1[7]  10125.0   10134.0    9718.0    NaN  \n",
       "sd         9905.0    9937.0    9877.0    NaN  "
      ]
     },
     "execution_count": 15,
     "metadata": {},
     "output_type": "execute_result"
    },
    {
     "data": {
      "image/png": "[encoded data removed]",
      "text/plain": [
       "<Figure size 864x288 with 4 Axes>"
      ]
     },
     "metadata": {},
     "output_type": "display_data"
    }
   ],
   "source": [
    "advi_trace = advi_fit.sample(10000)\n",
    "pm.traceplot(advi_trace)\n",
    "pm.summary(advi_trace)"
   ]
  },
  {
   "cell_type": "code",
   "execution_count": 26,
   "metadata": {},
   "outputs": [
    {
     "name": "stderr",
     "output_type": "stream",
     "text": [
      "100%|██████████████████████████████████████████████████████████████████████████████████| 50/50 [00:00<00:00, 97.48it/s]\n",
      " 18%|██████████████▉                                                                    | 9/50 [00:00<00:00, 88.47it/s]"
     ]
    },
    {
     "name": "stdout",
     "output_type": "stream",
     "text": [
      "-40.79641442292867 -37.14017605479541\n"
     ]
    },
    {
     "name": "stderr",
     "output_type": "stream",
     "text": [
      "100%|██████████████████████████████████████████████████████████████████████████████████| 50/50 [00:00<00:00, 90.22it/s]\n",
      " 22%|█████████████████▊                                                               | 11/50 [00:00<00:00, 108.78it/s]"
     ]
    },
    {
     "name": "stdout",
     "output_type": "stream",
     "text": [
      "-36.61474469752459 -37.42549403917103\n"
     ]
    },
    {
     "name": "stderr",
     "output_type": "stream",
     "text": [
      "100%|██████████████████████████████████████████████████████████████████████████████████| 50/50 [00:00<00:00, 93.07it/s]\n",
      " 18%|██████████████▉                                                                    | 9/50 [00:00<00:00, 85.13it/s]"
     ]
    },
    {
     "name": "stdout",
     "output_type": "stream",
     "text": [
      "-32.640090026484515 -45.89850959376511\n"
     ]
    },
    {
     "name": "stderr",
     "output_type": "stream",
     "text": [
      "100%|██████████████████████████████████████████████████████████████████████████████████| 50/50 [00:00<00:00, 91.02it/s]\n",
      " 16%|█████████████▎                                                                     | 8/50 [00:00<00:00, 75.67it/s]"
     ]
    },
    {
     "name": "stdout",
     "output_type": "stream",
     "text": [
      "-26.388349092945607 -31.066303954485623\n"
     ]
    },
    {
     "name": "stderr",
     "output_type": "stream",
     "text": [
      "100%|██████████████████████████████████████████████████████████████████████████████████| 50/50 [00:00<00:00, 66.31it/s]\n",
      " 22%|██████████████████                                                                | 11/50 [00:00<00:00, 98.94it/s]"
     ]
    },
    {
     "name": "stdout",
     "output_type": "stream",
     "text": [
      "-42.7158917699115 -41.555352156004105\n"
     ]
    },
    {
     "name": "stderr",
     "output_type": "stream",
     "text": [
      "100%|██████████████████████████████████████████████████████████████████████████████████| 50/50 [00:00<00:00, 88.87it/s]\n",
      " 20%|████████████████▍                                                                 | 10/50 [00:00<00:00, 99.25it/s]"
     ]
    },
    {
     "name": "stdout",
     "output_type": "stream",
     "text": [
      "-38.88063702305892 -34.76209908815369\n"
     ]
    },
    {
     "name": "stderr",
     "output_type": "stream",
     "text": [
      "100%|██████████████████████████████████████████████████████████████████████████████████| 50/50 [00:00<00:00, 94.26it/s]\n",
      " 24%|███████████████████▍                                                             | 12/50 [00:00<00:00, 108.99it/s]"
     ]
    },
    {
     "name": "stdout",
     "output_type": "stream",
     "text": [
      "-34.459923910893195 -22.638511528261265\n"
     ]
    },
    {
     "name": "stderr",
     "output_type": "stream",
     "text": [
      "100%|██████████████████████████████████████████████████████████████████████████████████| 50/50 [00:00<00:00, 90.54it/s]\n",
      " 20%|████████████████▍                                                                 | 10/50 [00:00<00:00, 97.32it/s]"
     ]
    },
    {
     "name": "stdout",
     "output_type": "stream",
     "text": [
      "-38.61683393353013 -46.82839050061368\n"
     ]
    },
    {
     "name": "stderr",
     "output_type": "stream",
     "text": [
      "100%|██████████████████████████████████████████████████████████████████████████████████| 50/50 [00:00<00:00, 92.49it/s]\n",
      " 20%|████████████████▍                                                                 | 10/50 [00:00<00:00, 92.81it/s]"
     ]
    },
    {
     "name": "stdout",
     "output_type": "stream",
     "text": [
      "-32.840567807071444 -26.674800769085866\n"
     ]
    },
    {
     "name": "stderr",
     "output_type": "stream",
     "text": [
      "100%|██████████████████████████████████████████████████████████████████████████████████| 50/50 [00:00<00:00, 93.88it/s]\n",
      "  0%|                                                                                           | 0/50 [00:00<?, ?it/s]"
     ]
    },
    {
     "name": "stdout",
     "output_type": "stream",
     "text": [
      "-23.91564537423644 -25.450904587990326\n"
     ]
    },
    {
     "name": "stderr",
     "output_type": "stream",
     "text": [
      "100%|██████████████████████████████████████████████████████████████████████████████████| 50/50 [00:00<00:00, 75.73it/s]\n",
      " 22%|█████████████████▊                                                               | 11/50 [00:00<00:00, 101.16it/s]"
     ]
    },
    {
     "name": "stdout",
     "output_type": "stream",
     "text": [
      "-28.811115858025058 -23.240371726407798\n"
     ]
    },
    {
     "name": "stderr",
     "output_type": "stream",
     "text": [
      "100%|██████████████████████████████████████████████████████████████████████████████████| 50/50 [00:00<00:00, 90.65it/s]\n",
      " 18%|██████████████▉                                                                    | 9/50 [00:00<00:00, 84.34it/s]"
     ]
    },
    {
     "name": "stdout",
     "output_type": "stream",
     "text": [
      "-36.43948973658132 -49.40346462056494\n"
     ]
    },
    {
     "name": "stderr",
     "output_type": "stream",
     "text": [
      "100%|██████████████████████████████████████████████████████████████████████████████████| 50/50 [00:00<00:00, 88.60it/s]\n",
      " 20%|████████████████▍                                                                 | 10/50 [00:00<00:00, 98.28it/s]"
     ]
    },
    {
     "name": "stdout",
     "output_type": "stream",
     "text": [
      "-39.26769051393836 -41.03783118518995\n"
     ]
    },
    {
     "name": "stderr",
     "output_type": "stream",
     "text": [
      "100%|██████████████████████████████████████████████████████████████████████████████████| 50/50 [00:00<00:00, 95.13it/s]\n",
      " 18%|██████████████▉                                                                    | 9/50 [00:00<00:00, 87.82it/s]"
     ]
    },
    {
     "name": "stdout",
     "output_type": "stream",
     "text": [
      "-35.59803594675024 -30.657121339503146\n"
     ]
    },
    {
     "name": "stderr",
     "output_type": "stream",
     "text": [
      "100%|██████████████████████████████████████████████████████████████████████████████████| 50/50 [00:00<00:00, 91.53it/s]\n",
      "  0%|                                                                                           | 0/50 [00:00<?, ?it/s]"
     ]
    },
    {
     "name": "stdout",
     "output_type": "stream",
     "text": [
      "-39.480581636404644 -47.96750732762544\n"
     ]
    },
    {
     "name": "stderr",
     "output_type": "stream",
     "text": [
      "100%|██████████████████████████████████████████████████████████████████████████████████| 50/50 [00:00<00:00, 70.38it/s]\n",
      " 20%|████████████████▍                                                                 | 10/50 [00:00<00:00, 95.49it/s]"
     ]
    },
    {
     "name": "stdout",
     "output_type": "stream",
     "text": [
      "-31.72810488783681 -37.56947106966904\n"
     ]
    },
    {
     "name": "stderr",
     "output_type": "stream",
     "text": [
      "100%|██████████████████████████████████████████████████████████████████████████████████| 50/50 [00:00<00:00, 85.70it/s]\n",
      " 20%|████████████████▍                                                                 | 10/50 [00:00<00:00, 91.15it/s]"
     ]
    },
    {
     "name": "stdout",
     "output_type": "stream",
     "text": [
      "-32.65276644183668 -30.9416924100941\n"
     ]
    },
    {
     "name": "stderr",
     "output_type": "stream",
     "text": [
      "100%|██████████████████████████████████████████████████████████████████████████████████| 50/50 [00:00<00:00, 86.42it/s]\n",
      " 34%|███████████████████████████▉                                                      | 17/50 [00:00<00:00, 79.78it/s]"
     ]
    },
    {
     "name": "stdout",
     "output_type": "stream",
     "text": [
      "-29.38829057874962 -24.43407509098518\n"
     ]
    },
    {
     "name": "stderr",
     "output_type": "stream",
     "text": [
      "100%|██████████████████████████████████████████████████████████████████████████████████| 50/50 [00:00<00:00, 87.34it/s]\n",
      " 20%|████████████████▍                                                                 | 10/50 [00:00<00:00, 91.13it/s]"
     ]
    },
    {
     "name": "stdout",
     "output_type": "stream",
     "text": [
      "-29.035270630288693 -40.57971791430612\n"
     ]
    },
    {
     "name": "stderr",
     "output_type": "stream",
     "text": [
      "100%|██████████████████████████████████████████████████████████████████████████████████| 50/50 [00:00<00:00, 85.01it/s]\n",
      " 20%|████████████████▍                                                                 | 10/50 [00:00<00:00, 96.38it/s]"
     ]
    },
    {
     "name": "stdout",
     "output_type": "stream",
     "text": [
      "-30.65497319637588 -39.35234151274372\n"
     ]
    },
    {
     "name": "stderr",
     "output_type": "stream",
     "text": [
      "100%|██████████████████████████████████████████████████████████████████████████████████| 50/50 [00:00<00:00, 72.48it/s]\n",
      " 22%|█████████████████▊                                                               | 11/50 [00:00<00:00, 101.20it/s]"
     ]
    },
    {
     "name": "stdout",
     "output_type": "stream",
     "text": [
      "-31.490805843153318 -17.24434341825947\n"
     ]
    },
    {
     "name": "stderr",
     "output_type": "stream",
     "text": [
      "100%|██████████████████████████████████████████████████████████████████████████████████| 50/50 [00:00<00:00, 94.24it/s]\n",
      " 16%|█████████████▎                                                                     | 8/50 [00:00<00:00, 76.39it/s]"
     ]
    },
    {
     "name": "stdout",
     "output_type": "stream",
     "text": [
      "-39.67060525046014 -40.58214476835968\n"
     ]
    },
    {
     "name": "stderr",
     "output_type": "stream",
     "text": [
      "100%|██████████████████████████████████████████████████████████████████████████████████| 50/50 [00:00<00:00, 89.22it/s]\n",
      " 16%|█████████████▎                                                                     | 8/50 [00:00<00:00, 77.16it/s]"
     ]
    },
    {
     "name": "stdout",
     "output_type": "stream",
     "text": [
      "-38.43647612851389 -43.10452156896535\n"
     ]
    },
    {
     "name": "stderr",
     "output_type": "stream",
     "text": [
      "100%|██████████████████████████████████████████████████████████████████████████████████| 50/50 [00:00<00:00, 86.14it/s]\n",
      " 18%|██████████████▉                                                                    | 9/50 [00:00<00:00, 80.91it/s]"
     ]
    },
    {
     "name": "stdout",
     "output_type": "stream",
     "text": [
      "-27.937882480313327 -19.523892021805928\n"
     ]
    },
    {
     "name": "stderr",
     "output_type": "stream",
     "text": [
      "100%|██████████████████████████████████████████████████████████████████████████████████| 50/50 [00:00<00:00, 87.71it/s]\n",
      " 18%|██████████████▉                                                                    | 9/50 [00:00<00:00, 89.33it/s]"
     ]
    },
    {
     "name": "stdout",
     "output_type": "stream",
     "text": [
      "-30.48232767303583 -34.01764703855052\n"
     ]
    },
    {
     "name": "stderr",
     "output_type": "stream",
     "text": [
      "100%|██████████████████████████████████████████████████████████████████████████████████| 50/50 [00:00<00:00, 75.14it/s]\n",
      " 20%|████████████████▍                                                                 | 10/50 [00:00<00:00, 99.25it/s]"
     ]
    },
    {
     "name": "stdout",
     "output_type": "stream",
     "text": [
      "-33.181534003231334 -16.28668923775601\n"
     ]
    },
    {
     "name": "stderr",
     "output_type": "stream",
     "text": [
      "100%|██████████████████████████████████████████████████████████████████████████████████| 50/50 [00:00<00:00, 94.95it/s]\n",
      " 22%|█████████████████▊                                                               | 11/50 [00:00<00:00, 103.06it/s]"
     ]
    },
    {
     "name": "stdout",
     "output_type": "stream",
     "text": [
      "-31.24139479468657 -28.711719498908323\n"
     ]
    },
    {
     "name": "stderr",
     "output_type": "stream",
     "text": [
      "100%|█████████████████████████████████████████████████████████████████████████████████| 50/50 [00:00<00:00, 100.54it/s]\n",
      " 22%|█████████████████▊                                                               | 11/50 [00:00<00:00, 101.17it/s]"
     ]
    },
    {
     "name": "stdout",
     "output_type": "stream",
     "text": [
      "-28.922122577535145 -24.849219122675148\n"
     ]
    },
    {
     "name": "stderr",
     "output_type": "stream",
     "text": [
      "100%|██████████████████████████████████████████████████████████████████████████████████| 50/50 [00:00<00:00, 97.16it/s]\n",
      " 20%|████████████████▍                                                                 | 10/50 [00:00<00:00, 91.17it/s]"
     ]
    },
    {
     "name": "stdout",
     "output_type": "stream",
     "text": [
      "-34.23293784966293 -35.42004102632523\n"
     ]
    },
    {
     "name": "stderr",
     "output_type": "stream",
     "text": [
      "100%|██████████████████████████████████████████████████████████████████████████████████| 50/50 [00:00<00:00, 93.13it/s]\n",
      " 22%|█████████████████▊                                                               | 11/50 [00:00<00:00, 102.09it/s]"
     ]
    },
    {
     "name": "stdout",
     "output_type": "stream",
     "text": [
      "-28.4280732272004 -30.52803294613477\n"
     ]
    },
    {
     "name": "stderr",
     "output_type": "stream",
     "text": [
      "100%|██████████████████████████████████████████████████████████████████████████████████| 50/50 [00:00<00:00, 72.97it/s]\n",
      " 16%|█████████████▎                                                                     | 8/50 [00:00<00:00, 76.39it/s]"
     ]
    },
    {
     "name": "stdout",
     "output_type": "stream",
     "text": [
      "-28.59328201415618 -33.991064009215364\n"
     ]
    },
    {
     "name": "stderr",
     "output_type": "stream",
     "text": [
      "100%|██████████████████████████████████████████████████████████████████████████████████| 50/50 [00:00<00:00, 85.13it/s]\n",
      " 16%|█████████████▎                                                                     | 8/50 [00:00<00:00, 79.42it/s]"
     ]
    },
    {
     "name": "stdout",
     "output_type": "stream",
     "text": [
      "-36.50148332459151 -49.15279917628573\n"
     ]
    },
    {
     "name": "stderr",
     "output_type": "stream",
     "text": [
      "100%|██████████████████████████████████████████████████████████████████████████████████| 50/50 [00:00<00:00, 84.48it/s]\n",
      " 22%|█████████████████▊                                                               | 11/50 [00:00<00:00, 102.10it/s]"
     ]
    },
    {
     "name": "stdout",
     "output_type": "stream",
     "text": [
      "-30.688156022801056 -26.06947609257748\n"
     ]
    },
    {
     "name": "stderr",
     "output_type": "stream",
     "text": [
      "100%|██████████████████████████████████████████████████████████████████████████████████| 50/50 [00:00<00:00, 88.42it/s]\n",
      " 20%|████████████████▍                                                                 | 10/50 [00:00<00:00, 96.42it/s]"
     ]
    },
    {
     "name": "stdout",
     "output_type": "stream",
     "text": [
      "-37.637256749016835 -40.343889253474075\n"
     ]
    },
    {
     "name": "stderr",
     "output_type": "stream",
     "text": [
      "100%|██████████████████████████████████████████████████████████████████████████████████| 50/50 [00:00<00:00, 85.69it/s]\n",
      " 18%|██████████████▉                                                                    | 9/50 [00:00<00:00, 86.77it/s]"
     ]
    },
    {
     "name": "stdout",
     "output_type": "stream",
     "text": [
      "-36.02489193645494 -39.015296610736584\n"
     ]
    },
    {
     "name": "stderr",
     "output_type": "stream",
     "text": [
      "100%|██████████████████████████████████████████████████████████████████████████████████| 50/50 [00:00<00:00, 74.05it/s]\n",
      " 20%|████████████████▍                                                                 | 10/50 [00:00<00:00, 97.96it/s]"
     ]
    },
    {
     "name": "stdout",
     "output_type": "stream",
     "text": [
      "-36.469410804515356 -30.916630671596632\n"
     ]
    },
    {
     "name": "stderr",
     "output_type": "stream",
     "text": [
      "100%|██████████████████████████████████████████████████████████████████████████████████| 50/50 [00:00<00:00, 96.13it/s]\n",
      " 18%|██████████████▉                                                                    | 9/50 [00:00<00:00, 81.29it/s]"
     ]
    },
    {
     "name": "stdout",
     "output_type": "stream",
     "text": [
      "-39.97902113786647 -24.45924275293514\n"
     ]
    },
    {
     "name": "stderr",
     "output_type": "stream",
     "text": [
      "100%|██████████████████████████████████████████████████████████████████████████████████| 50/50 [00:00<00:00, 80.47it/s]\n",
      " 18%|██████████████▉                                                                    | 9/50 [00:00<00:00, 82.04it/s]"
     ]
    },
    {
     "name": "stdout",
     "output_type": "stream",
     "text": [
      "-46.632103836841 -42.26668460882956\n"
     ]
    },
    {
     "name": "stderr",
     "output_type": "stream",
     "text": [
      "100%|██████████████████████████████████████████████████████████████████████████████████| 50/50 [00:00<00:00, 87.49it/s]\n",
      " 20%|████████████████▍                                                                 | 10/50 [00:00<00:00, 92.81it/s]"
     ]
    },
    {
     "name": "stdout",
     "output_type": "stream",
     "text": [
      "-26.524995250369464 -28.076886432205377\n"
     ]
    },
    {
     "name": "stderr",
     "output_type": "stream",
     "text": [
      "100%|██████████████████████████████████████████████████████████████████████████████████| 50/50 [00:00<00:00, 94.04it/s]\n",
      " 20%|████████████████▍                                                                 | 10/50 [00:00<00:00, 92.82it/s]"
     ]
    },
    {
     "name": "stdout",
     "output_type": "stream",
     "text": [
      "-33.36899474212704 -31.276486630050726\n"
     ]
    },
    {
     "name": "stderr",
     "output_type": "stream",
     "text": [
      "100%|██████████████████████████████████████████████████████████████████████████████████| 50/50 [00:00<00:00, 69.92it/s]\n",
      " 18%|██████████████▉                                                                    | 9/50 [00:00<00:00, 85.68it/s]"
     ]
    },
    {
     "name": "stdout",
     "output_type": "stream",
     "text": [
      "-40.96324895026136 -36.177117904711345\n"
     ]
    },
    {
     "name": "stderr",
     "output_type": "stream",
     "text": [
      "100%|██████████████████████████████████████████████████████████████████████████████████| 50/50 [00:00<00:00, 88.02it/s]\n",
      " 18%|██████████████▉                                                                    | 9/50 [00:00<00:00, 89.33it/s]"
     ]
    },
    {
     "name": "stdout",
     "output_type": "stream",
     "text": [
      "-27.72425880467645 -34.86356178563886\n"
     ]
    },
    {
     "name": "stderr",
     "output_type": "stream",
     "text": [
      "100%|██████████████████████████████████████████████████████████████████████████████████| 50/50 [00:00<00:00, 87.09it/s]\n",
      " 18%|██████████████▉                                                                    | 9/50 [00:00<00:00, 89.35it/s]"
     ]
    },
    {
     "name": "stdout",
     "output_type": "stream",
     "text": [
      "-39.34582621484206 -46.462305672704595\n"
     ]
    },
    {
     "name": "stderr",
     "output_type": "stream",
     "text": [
      "100%|██████████████████████████████████████████████████████████████████████████████████| 50/50 [00:00<00:00, 93.01it/s]\n",
      " 20%|████████████████▍                                                                 | 10/50 [00:00<00:00, 91.96it/s]"
     ]
    },
    {
     "name": "stdout",
     "output_type": "stream",
     "text": [
      "-26.050320769340587 -28.57011922848187\n"
     ]
    },
    {
     "name": "stderr",
     "output_type": "stream",
     "text": [
      "100%|██████████████████████████████████████████████████████████████████████████████████| 50/50 [00:00<00:00, 88.69it/s]\n",
      " 16%|█████████████▎                                                                     | 8/50 [00:00<00:00, 77.14it/s]"
     ]
    },
    {
     "name": "stdout",
     "output_type": "stream",
     "text": [
      "-35.927492146694924 -36.128678527076524\n"
     ]
    },
    {
     "name": "stderr",
     "output_type": "stream",
     "text": [
      "100%|██████████████████████████████████████████████████████████████████████████████████| 50/50 [00:00<00:00, 71.21it/s]\n",
      " 20%|████████████████▍                                                                 | 10/50 [00:00<00:00, 96.38it/s]"
     ]
    },
    {
     "name": "stdout",
     "output_type": "stream",
     "text": [
      "-27.81235778441932 -36.278793789938916\n"
     ]
    },
    {
     "name": "stderr",
     "output_type": "stream",
     "text": [
      "100%|██████████████████████████████████████████████████████████████████████████████████| 50/50 [00:00<00:00, 92.34it/s]\n",
      " 20%|████████████████▍                                                                 | 10/50 [00:00<00:00, 97.35it/s]"
     ]
    },
    {
     "name": "stdout",
     "output_type": "stream",
     "text": [
      "-34.69329479549725 -43.200728440529076\n"
     ]
    },
    {
     "name": "stderr",
     "output_type": "stream",
     "text": [
      "100%|██████████████████████████████████████████████████████████████████████████████████| 50/50 [00:00<00:00, 82.80it/s]\n",
      " 20%|████████████████▍                                                                 | 10/50 [00:00<00:00, 89.59it/s]"
     ]
    },
    {
     "name": "stdout",
     "output_type": "stream",
     "text": [
      "-32.203628182060996 -26.089028867379675\n"
     ]
    },
    {
     "name": "stderr",
     "output_type": "stream",
     "text": [
      "100%|██████████████████████████████████████████████████████████████████████████████████| 50/50 [00:00<00:00, 86.90it/s]\n",
      " 20%|████████████████▍                                                                 | 10/50 [00:00<00:00, 97.33it/s]"
     ]
    },
    {
     "name": "stdout",
     "output_type": "stream",
     "text": [
      "-29.336563758922576 -23.73337164621177\n"
     ]
    },
    {
     "name": "stderr",
     "output_type": "stream",
     "text": [
      "100%|██████████████████████████████████████████████████████████████████████████████████| 50/50 [00:00<00:00, 98.90it/s]"
     ]
    },
    {
     "name": "stdout",
     "output_type": "stream",
     "text": [
      "-30.58897456840517 -33.61699404000714\n"
     ]
    },
    {
     "name": "stderr",
     "output_type": "stream",
     "text": [
      "\n"
     ]
    }
   ],
   "source": [
    "y_pred_compare_with_real=[]\n",
    "for i in range(n_data):\n",
    "    #print(x_train[i:i+1])\n",
    "    x_tensor.set_value(x_train[i:i+1].values)\n",
    "    hmc_posterior_pred = pm.sample_posterior_predictive(hmc_trace, 50, model)\n",
    "    #print(hmc_posterior_pred['yl'].shape)\n",
    "    print(np.mean(hmc_posterior_pred['yl']), y_test_np_array[i])\n",
    "    y_pred_compare_with_real.append(np.mean(hmc_posterior_pred['yl']))"
   ]
  },
  {
   "cell_type": "markdown",
   "metadata": {},
   "source": [
    "### 3.2 Make Predictions from raw x's ( x >>> z >>> y_hat )"
   ]
  },
  {
   "cell_type": "code",
   "execution_count": null,
   "metadata": {},
   "outputs": [],
   "source": [
    "np.random.seed(1)\n",
    "x_new_np_array=np.random.uniform(low=-4.0, high=4.0, size=n_predictors).reshape(1, -1)\n",
    "\n",
    "def y_hat_from_raw_x(x_new_np_array,RF,NN,SVM,KRR,KNN,GPR,GBR,pipeline_optimizer,ss1,hmc_trace):\n",
    "    #print(x_new_np_array)\n",
    "    ML_model_list=[\"RF\",\"NN\",\"SVM\",\"KRR\",\"KNN\",\"GPR\",\"GBR\",\"pipeline_optimizer\"]\n",
    "    y_new_list=[]\n",
    "    for current_model in ML_model_list:\n",
    "        y_pred=locals()[current_model].predict(ss1.transform(x_new_np_array))\n",
    "        y_new_list.append(y_pred[0])\n",
    "    y_new_nparray=np.array([y_new_list])\n",
    "    print(y_new_nparray)\n",
    "    df_y_new=pd.DataFrame(y_new_nparray, columns=['X%s' % i for i in range(0, num_ML_models)])\n",
    "\n",
    "\n",
    "    #print(df_y_new)\n",
    "    #y_tensor.set_value(validate_data.y.values)\n",
    "    x_tensor.set_value(df_y_new.values)\n",
    "    hmc_posterior_pred = pm.sample_posterior_predictive(hmc_trace, 50, model)\n",
    "    #print(hmc_posterior_pred['yl'].shape)\n",
    "    print(np.mean(hmc_posterior_pred['yl']))\n",
    "    return np.mean(hmc_posterior_pred['yl'])\n",
    "\n",
    "\n",
    "y_samplings=y_hat_from_raw_x(x_new_np_array,RF,NN,SVM,KRR,KNN,GPR,GBR,pipeline_optimizer,ss1,hmc_trace)\n",
    "\n",
    "#hmc_predictions = np.mean(y_samplings)\n",
    "#hmc_predictions_std = np.std(y_samplings)\n",
    "\n",
    "print(y_samplings)\n",
    "#sns.distplot(hmc_posterior_pred['yl'])"
   ]
  },
  {
   "cell_type": "code",
   "execution_count": null,
   "metadata": {},
   "outputs": [],
   "source": [
    "def BOUND(x,lb_x,ub_x):\n",
    "    for i in range(len(x)):\n",
    "        x[i,0]=max(min(ub_x[i,0],x[i,0]),lb_x[i,0])\n",
    "    return x\n"
   ]
  },
  {
   "cell_type": "code",
   "execution_count": null,
   "metadata": {},
   "outputs": [],
   "source": [
    "\n",
    "def ASA(func_x,lb_x,ub_x,x_0,T0,num_steps,qf, RF,NN,SVM,KRR,KNN,GPR,GBR,pipeline_optimizer,ss1,hmc_trace):\n",
    "    N=len(x_0)\n",
    "    print(N, x_0)\n",
    "    lk=5*N\n",
    "    dx=ub_x-lb_x\n",
    "    #c=2*num_steps**(1.0/N)\n",
    "    c=2*exp(-qf+0.0/N)\n",
    "    print (\"c\",c)\n",
    "    x_old=x_0\n",
    "    Tk=T0\n",
    "    x_list=[]\n",
    "    y_list=[]\n",
    "    for k in range(num_steps+1)[1:]:\n",
    "        for i in range(lk+1)[1:]:\n",
    "            f_old=func_x(x_old.reshape(1, -1), RF,NN,SVM,KRR,KNN,GPR,GBR,pipeline_optimizer,ss1,hmc_trace)\n",
    "            u=np.random.rand(N).reshape(N,1)\n",
    "            y1=np.sign(u-1.0/2)\n",
    "            y2=Tk\n",
    "            y3=(1+1.0/Tk)**abs(2*u-1)-1\n",
    "            y=y1*y2*y3\n",
    "            x=x_old+y*dx\n",
    "            x=BOUND(x,lb_x,ub_x)\n",
    "            f_new=func_x(x.reshape(1, -1), RF,NN,SVM,KRR,KNN,GPR,GBR,pipeline_optimizer,ss1,hmc_trace)\n",
    "            x_list.append(x.reshape(1, -1))\n",
    "            y_list.append(f_new)\n",
    "            if f_new<f_old:\n",
    "                x_old=x\n",
    "            elif exp((f_old-f_new-0.0)/np.linalg.norm(Tk,2))>np.random.rand(1)[0]:\n",
    "                x_old=x\n",
    "        #print(x_old)\n",
    "        #Tk=T0*exp(-c*(num_steps+1-k)**qf)\n",
    "        Tk=T0*exp(-c*k**(qf+0.0/N))\n",
    "        \n",
    "        f_final=func_x(x_old, RF,NN,SVM,KRR,KNN,GPR,GBR,pipeline_optimizer,ss1,hmc_trace)\n",
    "        \n",
    "    return x_old,f_final, x_list, y_list\n",
    "\n",
    "x_0=np.random.uniform(low=-4.0, high=4.0, size=n_predictors).reshape(n_predictors, -1)\n",
    "\n",
    "lb_x=np.array([-4]*n_predictors).reshape((n_predictors,1))\n",
    "ub_x=np.array([4]*n_predictors).reshape((n_predictors,1))\n",
    "T0=np.array([200]*n_predictors).reshape((n_predictors,1))\n",
    "num_steps=10\n",
    "\n",
    "x,f,x_list, y_list=ASA(y_hat_from_raw_x,lb_x,ub_x,x_0,T0,num_steps,0.90, RF,NN,SVM,KRR,KNN,GPR,GBR,pipeline_optimizer,ss1,hmc_trace)"
   ]
  },
  {
   "cell_type": "code",
   "execution_count": null,
   "metadata": {},
   "outputs": [],
   "source": [
    "print(x,f)"
   ]
  },
  {
   "cell_type": "code",
   "execution_count": null,
   "metadata": {},
   "outputs": [],
   "source": []
  },
  {
   "cell_type": "code",
   "execution_count": null,
   "metadata": {},
   "outputs": [],
   "source": [
    "y_pred_compare_with_real, y_test_np_array"
   ]
  },
  {
   "cell_type": "code",
   "execution_count": null,
   "metadata": {},
   "outputs": [],
   "source": []
  }
 ],
 "metadata": {
  "kernelspec": {
   "display_name": "Python 3",
   "language": "python",
   "name": "python3"
  },
  "language_info": {
   "codemirror_mode": {
    "name": "ipython",
    "version": 3
   },
   "file_extension": ".py",
   "mimetype": "text/x-python",
   "name": "python",
   "nbconvert_exporter": "python",
   "pygments_lexer": "ipython3",
   "version": "3.7.7"
  }
 },
 "nbformat": 4,
 "nbformat_minor": 4
}
