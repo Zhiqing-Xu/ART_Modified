{
 "cells": [
  {
   "cell_type": "markdown",
   "metadata": {},
   "source": [
    "# ART-Reproduce-Main01\n",
    "## 1. Preps\n",
    "### 1.1 Imports"
   ]
  },
  {
   "cell_type": "code",
   "execution_count": 1,
   "metadata": {},
   "outputs": [
    {
     "name": "stderr",
     "output_type": "stream",
     "text": [
      "\n",
      "Bad key \"text.kerning_factor\" on line 4 in\n",
      "C:\\Anaconda2\\envs\\rdkit-env-3\\lib\\site-packages\\matplotlib\\mpl-data\\stylelib\\_classic_test_patch.mplstyle.\n",
      "You probably need to get an updated matplotlibrc file from\n",
      "https://github.com/matplotlib/matplotlib/blob/v3.1.3/matplotlibrc.template\n",
      "or from the matplotlib source distribution\n"
     ]
    }
   ],
   "source": [
    "from __future__ import division\n",
    "import math\n",
    "from math import *\n",
    "import numpy as np\n",
    "import pandas as pd\n",
    "import pymc3 as pm\n",
    "import seaborn as sns\n",
    "import theano\n",
    "import warnings\n",
    "from numpy.random import binomial, randn, uniform\n",
    "from sklearn.model_selection import train_test_split\n",
    "\n",
    "from scipy.stats import norm\n",
    "import matplotlib.pyplot as plt\n",
    "plt.style.use('seaborn-darkgrid')\n",
    "from hpd import *"
   ]
  },
  {
   "cell_type": "markdown",
   "metadata": {},
   "source": [
    "### 1.2 Other Stuff"
   ]
  },
  {
   "cell_type": "code",
   "execution_count": 2,
   "metadata": {},
   "outputs": [
    {
     "name": "stdout",
     "output_type": "stream",
     "text": [
      "<ipython-input-2-b9eb80f85e32>/<module>\n"
     ]
    }
   ],
   "source": [
    "# %matplotlib inline\n",
    "sns.set()\n",
    "warnings.filterwarnings('ignore')\n",
    "import sys\n",
    "print(\"%s/%s\" %(sys._getframe().f_code.co_filename, sys._getframe().f_code.co_name))"
   ]
  },
  {
   "cell_type": "markdown",
   "metadata": {},
   "source": [
    "## 2. Create Synthetic Data\n",
    "\n",
    "### 2.1"
   ]
  },
  {
   "cell_type": "code",
   "execution_count": 3,
   "metadata": {},
   "outputs": [
    {
     "name": "stdout",
     "output_type": "stream",
     "text": [
      "norm.rvs generated x_test_np_array: \n",
      " [[-0.66382396  1.76259595 -3.999085   -1.58133942 -2.82595287 -3.26129124\n",
      "  -2.50991831 -1.23551418 -0.82586021  0.31053387]\n",
      " [-0.64644388  1.481756   -2.364382    3.02493949 -3.78089925  1.36374008\n",
      "  -0.66156158  0.46951863 -2.87690449 -2.41518809]\n",
      " [ 2.40595655  3.74609261 -1.49260657  1.53858093  3.01111322  3.15685331\n",
      "  -3.31964631 -3.68756173 -2.64135664  3.02514003]\n",
      " [-3.21322533 -0.631139    3.66311624  0.26532228  1.53501691 -1.47587495\n",
      "   1.49200742  2.67700538 -3.85369378  2.00115452]\n",
      " [ 3.91088871  1.98532524 -1.75644806  2.31423463 -3.17419195 -0.41685179\n",
      "   3.26876402 -1.65108681 -1.69779729 -2.95977142]] \n",
      " (50, 10) \n",
      "......\n",
      "\n",
      "\n",
      "dataframe x_test_df: \n",
      "          X0        X1        X2        X3        X4        X5        X6  \\\n",
      "0 -0.663824  1.762596 -3.999085 -1.581339 -2.825953 -3.261291 -2.509918   \n",
      "1 -0.646444  1.481756 -2.364382  3.024939 -3.780899  1.363740 -0.661562   \n",
      "2  2.405957  3.746093 -1.492607  1.538581  3.011113  3.156853 -3.319646   \n",
      "3 -3.213225 -0.631139  3.663116  0.265322  1.535017 -1.475875  1.492007   \n",
      "4  3.910889  1.985325 -1.756448  2.314235 -3.174192 -0.416852  3.268764   \n",
      "\n",
      "         X7        X8        X9  \n",
      "0 -1.235514 -0.825860  0.310534  \n",
      "1  0.469519 -2.876904 -2.415188  \n",
      "2 -3.687562 -2.641357  3.025140  \n",
      "3  2.677005 -3.853694  2.001155  \n",
      "4 -1.651087 -1.697797 -2.959771   \n",
      " (50, 10) \n",
      "......\n",
      "\n",
      "\n",
      "y_test_np_array: \n",
      " [-37.14017605 -37.42549404 -45.89850959 -31.06630395 -41.55535216\n",
      " -34.76209909 -22.63851153 -46.8283905  -26.67480077 -25.45090459\n",
      " -23.24037173 -49.40346462 -41.03783119 -30.65712134 -47.96750733\n",
      " -37.56947107 -30.94169241 -24.43407509 -40.57971791 -39.35234151\n",
      " -17.24434342 -40.58214477 -43.10452157 -19.52389202 -34.01764704\n",
      " -16.28668924 -28.7117195  -24.84921912 -35.42004103 -30.52803295\n",
      " -33.99106401 -49.15279918 -26.06947609 -40.34388925 -39.01529661\n",
      " -30.91663067 -24.45924275 -42.26668461 -28.07688643 -31.27648663\n",
      " -36.1771179  -34.86356179 -46.46230567 -28.57011923 -36.12867853\n",
      " -36.27879379 -43.20072844 -26.08902887 -23.73337165 -33.61699404] \n",
      " (50,) \n",
      "\n",
      "\n",
      "[[ 2.64319656  1.19323358  1.38958739  0.62799664 -1.8070418   0.48423992\n",
      "   1.37383828 -1.18056296  2.84662694 -2.43970011]\n",
      " [ 1.97856648 -1.68317803  2.1903943  -0.57810137  2.46158727 -1.1717211\n",
      "  -2.2904541   2.13827607 -1.53086442  1.86596054]\n",
      " [ 1.95578522 -2.22882639 -2.28710291 -2.40841661 -2.8598533  -0.98333921\n",
      "  -3.78697692 -3.11263705  1.39651219  2.3982123 ]\n",
      " [-3.35576378 -2.14638152 -2.33899471  3.3386685   1.69051615  0.43107689\n",
      "  -1.5638561   2.67883238 -0.51755234  3.38764972]\n",
      " [ 1.64841443 -0.17574954 -2.99031917  3.8083484  -2.7213308  -2.379183\n",
      "  -0.55054596 -0.76638475 -2.82598815  1.83455135]\n",
      " [-2.49003946  1.15116515  2.0344476  -2.31414086  0.80763398  1.991427\n",
      "   1.10574968  0.77701842 -1.63614171  1.85285177]\n",
      " [ 3.56246752 -0.59550888  2.25745453 -3.55087168  2.68217282 -2.46199987\n",
      "  -0.83922505 -1.59935163 -3.35917085  3.23704802]\n",
      " [-1.03876658  0.24557951 -0.04706987 -2.94271086 -2.34836753 -3.39048953\n",
      "   0.0633736  -1.90760359 -1.14350713 -3.13547737]\n",
      " [ 2.30041472 -3.14732899  3.88567059 -2.58271068  0.5792409  -3.64123732\n",
      "   2.29693032 -2.48315242  0.22323183  1.92062035]\n",
      " [-2.80054812  0.40869739 -2.26706233  2.07356839  1.78332155 -2.58760773\n",
      "   2.89573246 -3.8417992   2.88189598  0.47123049]]\n"
     ]
    }
   ],
   "source": [
    "#--------------------------------------------------------------------------------#\n",
    "#--------------------------------------------------------------------------------#\n",
    "# Inputs to be changed\n",
    "x_dimension=10 #<<<<<\n",
    "x_mean, x_std, n_data = 5, 5, 50 #<<<<<\n",
    "sd_test_y_noise = 0.2 #<<<<<\n",
    "#Function_test=\"easy\"\n",
    "Function_test=\"medium\"\n",
    "#Function_test=\"dffclt\"\n",
    "\n",
    "#--------------------------------------------------------------------------------#\n",
    "#--------------------------------------------------------------------------------#\n",
    "#----------------------------------------#\n",
    "# Basic parameters\n",
    "#x_dimension=5 #<<<<<\n",
    "#test_x_vec=np.array([1,2,3])\n",
    "n_predictors=x_dimension\n",
    "#----------------------------------------#\n",
    "def F_easy(x_vec):\n",
    "    dms=len(x_vec) # dms : dimension\n",
    "    return 0 - ( np.linalg.norm(x_vec-np.ones(dms)*5) )**2 / dms + math.exp( 0-(np.linalg.norm(x_vec))**2 ) + 25\n",
    "\n",
    "def F_medium(x_vec):\n",
    "    dms=len(x_vec) # dms : dimension\n",
    "    return  (np.linalg.norm(x_vec,4))**4 / dms - 16 * (np.linalg.norm(x_vec))**2 / dms + 5 * np.sum(x_vec) / dms\n",
    "\n",
    "def F_dffclt(x_vec):\n",
    "    dms=len(x_vec)\n",
    "    return np.sum( [ (x_i**(1/2))*math.sin(x_i) for x_i in list(x_vec) ] )\n",
    "\n",
    "#----------------------------------------#\n",
    "if Function_test==\"dffclt\":\n",
    "    # Random X values:\n",
    "    np.random.seed(1)\n",
    "    #x_mean, x_std, n_data = 5, 5, 54 #<<<<<\n",
    "    #x_test_np_array = norm.rvs(x_mean, x_std, n_predictors*n_data).reshape(n_data, -1) # n_data was 100 here\n",
    "    x_test_np_array = np.random.uniform(low=0.0, high=12.0, size=n_predictors*n_data).reshape(n_data, -1) # n_data was 100 here\n",
    "    \n",
    "    print(\"norm.rvs generated x_test_np_array: \\n\",x_test_np_array[0:5],\"\\n\",x_test_np_array.shape,\"\\n......\\n\\n\")\n",
    "    x_test_df = pd.DataFrame(x_test_np_array, columns=['X%s' % i for i in range(0, n_predictors)])\n",
    "    print(\"dataframe x_test_df: \\n\",x_test_df.head(5),\"\\n\",x_test_df.shape,\"\\n......\\n\\n\")\n",
    "\n",
    "    # Random Y values generated from linear model with true parameter values:\n",
    "    #sd_test_y_noise = 0.2 #<<<<<\n",
    "    tau_test_y_noise = 1/sd_test_y_noise**2\n",
    "    y_test_np_array = np.array( [ F_dffclt(x_n) + norm.rvs(0, sd_test_y_noise) for x_n in list(x_test_np_array) ] )\n",
    "    #y_test_np_array = np.array( [ F_dffclt(x_n) for x_n in list(x_test_np_array) ] )\n",
    "    print(\"y_test_np_array: \\n\",y_test_np_array,\"\\n\",y_test_np_array.shape,\"\\n\\n\")\n",
    "\n",
    "    n_vali=10\n",
    "    #x_vali_np_array = norm.rvs(x_mean, x_std, n_predictors*n_vali).reshape(n_vali, -1)\n",
    "    x_vali_np_array = np.random.uniform(low=0.0, high=12.0, size=n_predictors*n_vali).reshape(n_vali, -1)\n",
    "    print(x_vali_np_array)\n",
    "    y_vali_np_array = np.array( [ F_dffclt(x_n) + norm.rvs(0, sd_test_y_noise) for x_n in list(x_vali_np_array) ] )\n",
    "\n",
    "if Function_test==\"medium\":\n",
    "    # Random X values:\n",
    "    np.random.seed(1)\n",
    "    #x_mean, x_std, n_data = 5, 5, 54 #<<<<<\n",
    "    #x_test_np_array = norm.rvs(x_mean, x_std, n_predictors*n_data).reshape(n_data, -1) # n_data was 100 here\n",
    "    x_test_np_array = np.random.uniform(low=-4.0, high=4.0, size=n_predictors*n_data).reshape(n_data, -1) # n_data was 100 here\n",
    "\n",
    "    \n",
    "    '''\n",
    "    n_data=n_data+len(x_recommend)\n",
    "    x_test_np_array=np.append(x_test_np_array, x_recommend).reshape(n_data, -1)\n",
    "    '''\n",
    "    \n",
    "    \n",
    "    print(\"norm.rvs generated x_test_np_array: \\n\",x_test_np_array[0:5],\"\\n\",x_test_np_array.shape,\"\\n......\\n\\n\")\n",
    "    x_test_df = pd.DataFrame(x_test_np_array, columns=['X%s' % i for i in range(0, n_predictors)])\n",
    "    print(\"dataframe x_test_df: \\n\",x_test_df.head(5),\"\\n\",x_test_df.shape,\"\\n......\\n\\n\")\n",
    "\n",
    "    # Random Y values generated from linear model with true parameter values:\n",
    "    #sd_test_y_noise = 0.2 #<<<<<\n",
    "    tau_test_y_noise = 1/sd_test_y_noise**2\n",
    "    y_test_np_array = np.array( [ F_medium(x_n) + norm.rvs(0, sd_test_y_noise) for x_n in list(x_test_np_array) ] )\n",
    "    #y_test_np_array = np.array( [ F_medium(x_n) for x_n in list(x_test_np_array) ] )\n",
    "    print(\"y_test_np_array: \\n\",y_test_np_array,\"\\n\",y_test_np_array.shape,\"\\n\\n\")\n",
    "\n",
    "    n_vali=10\n",
    "    #x_vali_np_array = norm.rvs(x_mean, x_std, n_predictors*n_vali).reshape(n_vali, -1)\n",
    "    x_vali_np_array = np.random.uniform(low=-4.0, high=4.0, size=n_predictors*n_vali).reshape(n_vali, -1)\n",
    "    print(x_vali_np_array)\n",
    "    y_vali_np_array = np.array( [ F_medium(x_n) + norm.rvs(0, sd_test_y_noise) for x_n in list(x_vali_np_array) ] )\n",
    "    \n",
    "if Function_test==\"easy\":\n",
    "    # Random X values:\n",
    "    np.random.seed(1)\n",
    "    #x_mean, x_std, n_data = 5, 5, 54 #<<<<<\n",
    "    #x_test_np_array = norm.rvs(x_mean, x_std, n_predictors*n_data).reshape(n_data, -1) # n_data was 100 here\n",
    "    x_test_np_array = np.random.uniform(low=-5.0, high=10.0, size=n_predictors*n_data).reshape(n_data, -1) # n_data was 100 here\n",
    "\n",
    "    print(\"norm.rvs generated x_test_np_array: \\n\",x_test_np_array[0:5],\"\\n\",x_test_np_array.shape,\"\\n......\\n\\n\")\n",
    "    x_test_df = pd.DataFrame(x_test_np_array, columns=['X%s' % i for i in range(0, n_predictors)])\n",
    "    print(\"dataframe x_test_df: \\n\",x_test_df.head(5),\"\\n\",x_test_df.shape,\"\\n......\\n\\n\")\n",
    "\n",
    "    # Random Y values generated from linear model with true parameter values:\n",
    "    #sd_test_y_noise = 0.2 #<<<<<\n",
    "    tau_test_y_noise = 1/sd_test_y_noise**2\n",
    "    y_test_np_array = np.array( [ F_easy(x_n) + norm.rvs(0, sd_test_y_noise) for x_n in list(x_test_np_array) ] )\n",
    "    #y_test_np_array = np.array( [ F_easy(x_n) for x_n in list(x_test_np_array) ] )\n",
    "    print(\"y_test_np_array: \\n\",y_test_np_array,\"\\n\",y_test_np_array.shape,\"\\n\\n\")\n",
    "\n",
    "    n_vali=10\n",
    "    #x_vali_np_array = norm.rvs(x_mean, x_std, n_predictors*n_vali).reshape(n_vali, -1)\n",
    "    x_vali_np_array = np.random.uniform(low=-5.0, high=10.0, size=n_predictors*n_vali).reshape(n_vali, -1)\n",
    "    print(x_vali_np_array)\n",
    "    y_vali_np_array = np.array( [ F_easy(x_n) + norm.rvs(0, sd_test_y_noise) for x_n in list(x_vali_np_array) ] )\n",
    "    \n",
    "    \n"
   ]
  },
  {
   "cell_type": "markdown",
   "metadata": {},
   "source": [
    "### 2.2  Prepare for level 0 learning"
   ]
  },
  {
   "cell_type": "code",
   "execution_count": 4,
   "metadata": {},
   "outputs": [
    {
     "name": "stdout",
     "output_type": "stream",
     "text": [
      "[[0, 1, 2, 3, 4, 5, 6, 7, 8, 9], [10, 11, 12, 13, 14, 15, 16, 17, 18, 19], [20, 21, 22, 23, 24, 25, 26, 27, 28, 29], [30, 31, 32, 33, 34, 35, 36, 37, 38, 39], [40, 41, 42, 43, 44, 45, 46, 47, 48, 49]]\n",
      "[array([-23.24037173, -49.40346462, -41.03783119, -30.65712134,\n",
      "       -47.96750733, -37.56947107, -30.94169241, -24.43407509,\n",
      "       -40.57971791, -39.35234151, -17.24434342, -40.58214477,\n",
      "       -43.10452157, -19.52389202, -34.01764704, -16.28668924,\n",
      "       -28.7117195 , -24.84921912, -35.42004103, -30.52803295,\n",
      "       -33.99106401, -49.15279918, -26.06947609, -40.34388925,\n",
      "       -39.01529661, -30.91663067, -24.45924275, -42.26668461,\n",
      "       -28.07688643, -31.27648663, -36.1771179 , -34.86356179,\n",
      "       -46.46230567, -28.57011923, -36.12867853, -36.27879379,\n",
      "       -43.20072844, -26.08902887, -23.73337165, -33.61699404]), array([-37.14017605, -37.42549404, -45.89850959, -31.06630395,\n",
      "       -41.55535216, -34.76209909, -22.63851153, -46.8283905 ,\n",
      "       -26.67480077, -25.45090459, -17.24434342, -40.58214477,\n",
      "       -43.10452157, -19.52389202, -34.01764704, -16.28668924,\n",
      "       -28.7117195 , -24.84921912, -35.42004103, -30.52803295,\n",
      "       -33.99106401, -49.15279918, -26.06947609, -40.34388925,\n",
      "       -39.01529661, -30.91663067, -24.45924275, -42.26668461,\n",
      "       -28.07688643, -31.27648663, -36.1771179 , -34.86356179,\n",
      "       -46.46230567, -28.57011923, -36.12867853, -36.27879379,\n",
      "       -43.20072844, -26.08902887, -23.73337165, -33.61699404]), array([-37.14017605, -37.42549404, -45.89850959, -31.06630395,\n",
      "       -41.55535216, -34.76209909, -22.63851153, -46.8283905 ,\n",
      "       -26.67480077, -25.45090459, -23.24037173, -49.40346462,\n",
      "       -41.03783119, -30.65712134, -47.96750733, -37.56947107,\n",
      "       -30.94169241, -24.43407509, -40.57971791, -39.35234151,\n",
      "       -33.99106401, -49.15279918, -26.06947609, -40.34388925,\n",
      "       -39.01529661, -30.91663067, -24.45924275, -42.26668461,\n",
      "       -28.07688643, -31.27648663, -36.1771179 , -34.86356179,\n",
      "       -46.46230567, -28.57011923, -36.12867853, -36.27879379,\n",
      "       -43.20072844, -26.08902887, -23.73337165, -33.61699404]), array([-37.14017605, -37.42549404, -45.89850959, -31.06630395,\n",
      "       -41.55535216, -34.76209909, -22.63851153, -46.8283905 ,\n",
      "       -26.67480077, -25.45090459, -23.24037173, -49.40346462,\n",
      "       -41.03783119, -30.65712134, -47.96750733, -37.56947107,\n",
      "       -30.94169241, -24.43407509, -40.57971791, -39.35234151,\n",
      "       -17.24434342, -40.58214477, -43.10452157, -19.52389202,\n",
      "       -34.01764704, -16.28668924, -28.7117195 , -24.84921912,\n",
      "       -35.42004103, -30.52803295, -36.1771179 , -34.86356179,\n",
      "       -46.46230567, -28.57011923, -36.12867853, -36.27879379,\n",
      "       -43.20072844, -26.08902887, -23.73337165, -33.61699404]), array([-37.14017605, -37.42549404, -45.89850959, -31.06630395,\n",
      "       -41.55535216, -34.76209909, -22.63851153, -46.8283905 ,\n",
      "       -26.67480077, -25.45090459, -23.24037173, -49.40346462,\n",
      "       -41.03783119, -30.65712134, -47.96750733, -37.56947107,\n",
      "       -30.94169241, -24.43407509, -40.57971791, -39.35234151,\n",
      "       -17.24434342, -40.58214477, -43.10452157, -19.52389202,\n",
      "       -34.01764704, -16.28668924, -28.7117195 , -24.84921912,\n",
      "       -35.42004103, -30.52803295, -33.99106401, -49.15279918,\n",
      "       -26.06947609, -40.34388925, -39.01529661, -30.91663067,\n",
      "       -24.45924275, -42.26668461, -28.07688643, -31.27648663])]\n"
     ]
    }
   ],
   "source": [
    "#--------------------------------------------------------------------------------#\n",
    "#--------------------------------------------------------------------------------#\n",
    "# Obtain Train/CV set for ML models based on following variables\n",
    "x_test_np_array\n",
    "x_test_df\n",
    "y_test_np_array\n",
    "x_dimension\n",
    "n_data\n",
    "#--------------------------------------------------------------------------------#\n",
    "#--------------------------------------------------------------------------------#\n",
    "K_CV=5 #<<<<<\n",
    "train_cv_dataset_list_x=[[] for i in range(K_CV)]\n",
    "train_cv_dataset_list_y=[[] for i in range(K_CV)]\n",
    "def get_train_cv_index(K_CV, n_data):\n",
    "    dataset_len=int(n_data/K_CV)\n",
    "    index_list=[[] for i in range(K_CV)]\n",
    "    for i in range(K_CV):\n",
    "        index_list[i]= list(range(n_data)[i*dataset_len:i*dataset_len+dataset_len])\n",
    "    index_list[-1] = list(index_list[-1]) + list(range(n_data)[dataset_len*K_CV:])\n",
    "    return index_list\n",
    "index_list = get_train_cv_index(K_CV, n_data)\n",
    "\n",
    "\n",
    "#----------------------------------------#\n",
    "for i in range(K_CV):\n",
    "    for j in range(n_data):\n",
    "        if j not in index_list[i]:\n",
    "            train_cv_dataset_list_x[i].append(x_test_np_array[j])\n",
    "            train_cv_dataset_list_y[i].append(y_test_np_array[j])\n",
    "    train_cv_dataset_list_x[i]=np.array(train_cv_dataset_list_x[i])\n",
    "    train_cv_dataset_list_y[i]=np.array(train_cv_dataset_list_y[i])\n",
    "#print(train_cv_dataset_list_y)\n",
    "\n",
    "#----------------------------------------#\n",
    "print(index_list)\n",
    "print(train_cv_dataset_list_y)"
   ]
  },
  {
   "cell_type": "markdown",
   "metadata": {},
   "source": [
    "### 2.3 Model Configuration "
   ]
  },
  {
   "cell_type": "code",
   "execution_count": 5,
   "metadata": {
    "scrolled": true
   },
   "outputs": [
    {
     "name": "stdout",
     "output_type": "stream",
     "text": [
      "Start Grid Search\n",
      "522.3076923076923 rbf 0.01\n",
      "End Grid Search\n"
     ]
    }
   ],
   "source": [
    "#--------------------------------------------------------------------------------#\n",
    "#--------------------------------------------------------------------------------#\n",
    "# Obtain Train/CV set for ML models based on following variables\n",
    "x_test_np_array\n",
    "x_test_df\n",
    "y_test_np_array\n",
    "x_dimension\n",
    "n_data\n",
    "\n",
    "#--------------------------------------------------------------------------------#\n",
    "# Prep for ML model training\n",
    "ML_model_list=[\"RF\",\"NN\",\"SVM\",\"KRR\",\"KNN\",\"GPR\",\"GBR\",\"TPOT\"]\n",
    "\n",
    "#----------------------------------------#\n",
    "from sklearn.preprocessing import StandardScaler\n",
    "ss1= StandardScaler()\n",
    "\n",
    "#----------------------------------------#\n",
    "from sklearn.ensemble import RandomForestRegressor\n",
    "RF = RandomForestRegressor(n_estimators=10, max_depth=5, random_state=1)\n",
    "\n",
    "#----------------------------------------#\n",
    "from sklearn.neural_network import MLPRegressor\n",
    "NN = MLPRegressor(solver='lbfgs', alpha=10, hidden_layer_sizes=(10, 4), max_iter=200, random_state=1)\n",
    "\n",
    "#----------------------------------------#\n",
    "from sklearn.svm import SVR\n",
    "from sklearn.pipeline import Pipeline\n",
    "from sklearn.preprocessing import StandardScaler\n",
    "from sklearn.model_selection import RandomizedSearchCV\n",
    "from sklearn.model_selection import GridSearchCV\n",
    "steps = [\t\t('scaler',StandardScaler()),\n",
    "        \t\t('svr',SVR())]\n",
    "pipeline =Pipeline(steps)\n",
    "\n",
    "#for grid search\n",
    "c_gs =[10,100,1000,10000]\n",
    "g_gs = [1e-2,1e-1,1e0]\n",
    "#for random search\n",
    "c_rs = np.linspace(10, 10000, num=40, endpoint=True)\n",
    "g_rs = np.linspace(1e-2, 1e0, num=30, endpoint=True)\n",
    "#set of parameters for grid search\n",
    "parameters_gs = {'svr__C':c_gs, 'svr__gamma':g_gs, 'svr__kernel': ['rbf', 'poly']}\n",
    "#set of parameters for random search\n",
    "parameters_rs = {'svr__C':c_rs, 'svr__gamma':g_rs, 'svr__kernel': ['rbf', 'poly']}\n",
    "\n",
    "from sklearn.metrics import SCORERS\n",
    "#cvo = GridSearchCV(pipeline, parameters_gs, cv=7, scoring=None)\n",
    "cvo = RandomizedSearchCV(pipeline, parameters_rs, cv=5, scoring=None, n_iter=50, random_state=1)\n",
    "\n",
    "print(\"Start Grid Search\")\n",
    "#cvo.fit(x_test_np_array, y_test_np_array)\n",
    "#best_C, best_kernel, best_gamma = cvo.best_params_['svr__C'], cvo.best_params_['svr__kernel'], cvo.best_params_['svr__gamma']\n",
    "best_C, best_kernel, best_gamma = 522.3076923076923, \"rbf\", 0.01\n",
    "print(best_C, best_kernel, best_gamma)\n",
    "print(\"End Grid Search\")\n",
    "\n",
    "#SVM = SVR(C=best_C, kernel=best_kernel, gamma=best_gamma, epsilon=0.2)\n",
    "SVM = SVR(C=1, kernel='poly', gamma='scale', epsilon=0.2)\n",
    "\n",
    "#----------------------------------------#\n",
    "from sklearn.kernel_ridge import KernelRidge\n",
    "KRR = KernelRidge(alpha=1.0, kernel='poly')\n",
    "\n",
    "#----------------------------------------#\n",
    "from sklearn.neighbors import KNeighborsRegressor\n",
    "KNN = KNeighborsRegressor(n_neighbors=2)\n",
    "\n",
    "#----------------------------------------#\n",
    "from sklearn.gaussian_process import GaussianProcessRegressor\n",
    "from sklearn.gaussian_process.kernels import DotProduct, WhiteKernel, ConstantKernel, RBF\n",
    "from sklearn.gaussian_process.kernels import Matern, RationalQuadratic, ExpSineSquared, DotProduct\n",
    "kernels = [1.0 * RBF(length_scale=1.0, length_scale_bounds=(1e-1, 10.0)),\n",
    "           1.0 * RationalQuadratic(length_scale=1.0, alpha=0.1),\n",
    "           1.0 * ExpSineSquared(length_scale=1.0, periodicity=3.0, length_scale_bounds=(0.1, 10.0),periodicity_bounds=(1.0, 10.0)), \n",
    "           ConstantKernel(0.1, (0.01, 10.0)) * (DotProduct(sigma_0=1.0, sigma_0_bounds=(0.1, 10.0)) ** 2),\n",
    "           1.0 * Matern(length_scale=1.0, length_scale_bounds=(1e-1, 10.0), nu=1.5),\n",
    "           1.0 * DotProduct() + WhiteKernel(),\n",
    "           1**2 + Matern(length_scale=2, nu=1.5) + WhiteKernel(noise_level=1)]\n",
    "\n",
    "# 0.316**2 * DotProduct(sigma_0=1) ** 2\n",
    "GPR = GaussianProcessRegressor(kernel=kernels[3], random_state=1)\n",
    "\n",
    "#----------------------------------------#\n",
    "from sklearn import ensemble\n",
    "params = {'n_estimators': 500, 'max_depth': 8, 'min_samples_split': 2,\n",
    "          'learning_rate': 0.01, 'loss': 'ls'}\n",
    "GBR = ensemble.GradientBoostingRegressor(**params)\n",
    "\n",
    "#----------------------------------------#\n",
    "from tpot import TPOTRegressor\n",
    "pipeline_optimizer = TPOTRegressor(generations=15, population_size=15, cv=K_CV, random_state=1, verbosity=2)\n",
    "#pipeline_optimizer.fit(ss1.fit_transform(x_test_np_array), y_test_np_array)\n",
    "#y_pred_vali=pipeline_optimizer.predict(ss1.transform(x_vali_np_array))\n",
    "#pipeline_optimizer.export('tpot_exported_pipeline03.py')"
   ]
  },
  {
   "cell_type": "markdown",
   "metadata": {},
   "source": [
    "### 2.4 Train models for level 0 learning"
   ]
  },
  {
   "cell_type": "code",
   "execution_count": 6,
   "metadata": {},
   "outputs": [
    {
     "data": {
      "application/vnd.jupyter.widget-view+json": {
       "model_id": "",
       "version_major": 2,
       "version_minor": 0
      },
      "text/plain": [
       "HBox(children=(FloatProgress(value=0.0, description='Optimization Progress', max=240.0, style=ProgressStyle(de…"
      ]
     },
     "metadata": {},
     "output_type": "display_data"
    },
    {
     "name": "stdout",
     "output_type": "stream",
     "text": [
      "Generation 1 - Current best internal CV score: -46.65303650134073\n",
      "Generation 2 - Current best internal CV score: -46.65303650134073\n",
      "Generation 3 - Current best internal CV score: -46.65303650134073\n",
      "Generation 4 - Current best internal CV score: -41.391004496020635\n",
      "Generation 5 - Current best internal CV score: -41.391004496020635\n",
      "Generation 6 - Current best internal CV score: -41.391004496020635\n",
      "Generation 7 - Current best internal CV score: -37.89411284350071\n",
      "Generation 8 - Current best internal CV score: -37.89411284350071\n",
      "Generation 9 - Current best internal CV score: -36.428540062127375\n",
      "Generation 10 - Current best internal CV score: -36.428540062127375\n",
      "Generation 11 - Current best internal CV score: -36.428540062127375\n",
      "Generation 12 - Current best internal CV score: -36.428540062127375\n",
      "Generation 13 - Current best internal CV score: -36.428540062127375\n",
      "Generation 14 - Current best internal CV score: -36.428540062127375\n",
      "Generation 15 - Current best internal CV score: -36.428540062127375\n",
      "\n",
      "Best pipeline: GradientBoostingRegressor(ExtraTreesRegressor(input_matrix, bootstrap=False, max_features=0.8500000000000001, min_samples_leaf=9, min_samples_split=6, n_estimators=100), alpha=0.85, learning_rate=0.5, loss=ls, max_depth=6, max_features=0.8, min_samples_leaf=11, min_samples_split=17, n_estimators=100, subsample=0.8500000000000001)\n"
     ]
    },
    {
     "data": {
      "application/vnd.jupyter.widget-view+json": {
       "model_id": "",
       "version_major": 2,
       "version_minor": 0
      },
      "text/plain": [
       "HBox(children=(FloatProgress(value=0.0, description='Optimization Progress', max=240.0, style=ProgressStyle(de…"
      ]
     },
     "metadata": {},
     "output_type": "display_data"
    },
    {
     "name": "stdout",
     "output_type": "stream",
     "text": [
      "Generation 1 - Current best internal CV score: -58.648183187392206\n",
      "Generation 2 - Current best internal CV score: -57.997335833561976\n",
      "Generation 3 - Current best internal CV score: -57.997335833561976\n",
      "Generation 4 - Current best internal CV score: -53.94730871364\n",
      "Generation 5 - Current best internal CV score: -45.694947481704716\n",
      "Generation 6 - Current best internal CV score: -45.694947481704716\n",
      "Generation 7 - Current best internal CV score: -45.694947481704716\n",
      "Generation 8 - Current best internal CV score: -45.694947481704716\n",
      "Generation 9 - Current best internal CV score: -45.694947481704716\n",
      "Generation 10 - Current best internal CV score: -42.362895777129175\n",
      "Generation 11 - Current best internal CV score: -42.362895777129175\n",
      "Generation 12 - Current best internal CV score: -41.1257119487772\n",
      "Generation 13 - Current best internal CV score: -41.1257119487772\n",
      "Generation 14 - Current best internal CV score: -41.1257119487772\n",
      "Generation 15 - Current best internal CV score: -35.57695482292068\n",
      "\n",
      "Best pipeline: XGBRegressor(RandomForestRegressor(PolynomialFeatures(input_matrix, degree=2, include_bias=False, interaction_only=False), bootstrap=True, max_features=0.15000000000000002, min_samples_leaf=4, min_samples_split=15, n_estimators=100), learning_rate=0.1, max_depth=9, min_child_weight=3, n_estimators=100, nthread=1, objective=reg:squarederror, subsample=0.3)\n"
     ]
    },
    {
     "data": {
      "application/vnd.jupyter.widget-view+json": {
       "model_id": "",
       "version_major": 2,
       "version_minor": 0
      },
      "text/plain": [
       "HBox(children=(FloatProgress(value=0.0, description='Optimization Progress', max=240.0, style=ProgressStyle(de…"
      ]
     },
     "metadata": {},
     "output_type": "display_data"
    },
    {
     "name": "stdout",
     "output_type": "stream",
     "text": [
      "Generation 1 - Current best internal CV score: -39.74070592596848\n",
      "Generation 2 - Current best internal CV score: -39.74070592596848\n",
      "Generation 3 - Current best internal CV score: -39.74070592596848\n",
      "Generation 4 - Current best internal CV score: -39.74070592596848\n",
      "Generation 5 - Current best internal CV score: -34.787784389003086\n",
      "Generation 6 - Current best internal CV score: -34.787784389003086\n",
      "Generation 7 - Current best internal CV score: -34.787784389003086\n",
      "Generation 8 - Current best internal CV score: -34.787784389003086\n",
      "Generation 9 - Current best internal CV score: -34.787784389003086\n",
      "Generation 10 - Current best internal CV score: -34.787784389003086\n",
      "Generation 11 - Current best internal CV score: -34.787784389003086\n",
      "Generation 12 - Current best internal CV score: -34.787784389003086\n",
      "Generation 13 - Current best internal CV score: -32.36877044970719\n",
      "Generation 14 - Current best internal CV score: -32.36877044970719\n",
      "Generation 15 - Current best internal CV score: -32.36877044970719\n",
      "\n",
      "Best pipeline: XGBRegressor(ExtraTreesRegressor(PolynomialFeatures(input_matrix, degree=2, include_bias=False, interaction_only=False), bootstrap=False, max_features=0.9000000000000001, min_samples_leaf=9, min_samples_split=20, n_estimators=100), learning_rate=0.1, max_depth=9, min_child_weight=3, n_estimators=100, nthread=1, objective=reg:squarederror, subsample=0.6000000000000001)\n"
     ]
    },
    {
     "data": {
      "application/vnd.jupyter.widget-view+json": {
       "model_id": "",
       "version_major": 2,
       "version_minor": 0
      },
      "text/plain": [
       "HBox(children=(FloatProgress(value=0.0, description='Optimization Progress', max=240.0, style=ProgressStyle(de…"
      ]
     },
     "metadata": {},
     "output_type": "display_data"
    },
    {
     "name": "stdout",
     "output_type": "stream",
     "text": [
      "Generation 1 - Current best internal CV score: -51.27730822530528\n",
      "Generation 2 - Current best internal CV score: -51.27730822530528\n",
      "Generation 3 - Current best internal CV score: -51.27730822530528\n",
      "Generation 4 - Current best internal CV score: -51.27730822530528\n",
      "Generation 5 - Current best internal CV score: -51.27730822530528\n",
      "Generation 6 - Current best internal CV score: -50.89088985669227\n",
      "Generation 7 - Current best internal CV score: -50.739058700455544\n",
      "Generation 8 - Current best internal CV score: -50.739058700455544\n",
      "Generation 9 - Current best internal CV score: -49.822529887291864\n",
      "Generation 10 - Current best internal CV score: -49.822529887291864\n",
      "Generation 11 - Current best internal CV score: -44.68965947390373\n",
      "Generation 12 - Current best internal CV score: -44.68965947390373\n",
      "Generation 13 - Current best internal CV score: -44.68965947390373\n",
      "Generation 14 - Current best internal CV score: -44.68965947390373\n",
      "Generation 15 - Current best internal CV score: -44.68965947390373\n",
      "\n",
      "Best pipeline: XGBRegressor(PolynomialFeatures(input_matrix, degree=2, include_bias=False, interaction_only=False), learning_rate=0.1, max_depth=9, min_child_weight=3, n_estimators=100, nthread=1, objective=reg:squarederror, subsample=0.9500000000000001)\n"
     ]
    },
    {
     "data": {
      "application/vnd.jupyter.widget-view+json": {
       "model_id": "",
       "version_major": 2,
       "version_minor": 0
      },
      "text/plain": [
       "HBox(children=(FloatProgress(value=0.0, description='Optimization Progress', max=240.0, style=ProgressStyle(de…"
      ]
     },
     "metadata": {},
     "output_type": "display_data"
    },
    {
     "name": "stdout",
     "output_type": "stream",
     "text": [
      "Generation 1 - Current best internal CV score: -63.90143140530188\n",
      "Generation 2 - Current best internal CV score: -63.90143140530188\n",
      "Generation 3 - Current best internal CV score: -63.90143140530188\n",
      "Generation 4 - Current best internal CV score: -63.90143140530188\n",
      "Generation 5 - Current best internal CV score: -47.37753975912537\n",
      "Generation 6 - Current best internal CV score: -47.37753975912537\n",
      "Generation 7 - Current best internal CV score: -47.37753975912537\n",
      "Generation 8 - Current best internal CV score: -47.37753975912537\n",
      "Generation 9 - Current best internal CV score: -47.37753975912537\n",
      "Generation 10 - Current best internal CV score: -47.37753975912537\n",
      "Generation 11 - Current best internal CV score: -47.258382276264484\n",
      "Generation 12 - Current best internal CV score: -47.258382276264484\n",
      "Generation 13 - Current best internal CV score: -46.36897604297165\n",
      "Generation 14 - Current best internal CV score: -46.36897604297165\n",
      "Generation 15 - Current best internal CV score: -46.36897604297165\n",
      "\n",
      "Best pipeline: LassoLarsCV(AdaBoostRegressor(OneHotEncoder(XGBRegressor(input_matrix, learning_rate=0.5, max_depth=9, min_child_weight=10, n_estimators=100, nthread=1, objective=reg:squarederror, subsample=0.8), minimum_fraction=0.05, sparse=False, threshold=10), learning_rate=1.0, loss=exponential, n_estimators=100), normalize=True)\n"
     ]
    }
   ],
   "source": [
    "#----------------------------------------#\n",
    "ML_model_list=[\"RF\",\"NN\",\"SVM\",\"KRR\",\"KNN\",\"GPR\",\"GBR\",\"pipeline_optimizer\"]\n",
    "y_predictions_list=[[] for i in y_test_np_array]\n",
    "for current_model in ML_model_list:\n",
    "    for i in range(len(index_list)):\n",
    "        one_index_set=index_list[i]\n",
    "        x_train=train_cv_dataset_list_x[i]\n",
    "        y_train=train_cv_dataset_list_y[i]\n",
    "        locals()[current_model].fit(ss1.fit_transform(x_train), y_train)\n",
    "        for j in one_index_set:\n",
    "            y_pred=locals()[current_model].predict(ss1.transform(x_test_np_array[j].reshape(1, -1)))\n",
    "            y_predictions_list[j].append( y_pred[0] )\n",
    "y_predictions_nparray=np.array(y_predictions_list)"
   ]
  },
  {
   "cell_type": "code",
   "execution_count": 7,
   "metadata": {},
   "outputs": [
    {
     "data": {
      "text/plain": [
       "array([[-37.92759829, -37.42786259, -35.03086368, -35.99576317,\n",
       "        -37.01849171, -28.75284283, -44.34716749, -47.92097264],\n",
       "       [-38.79065538, -35.13029873, -35.05991672, -27.29603131,\n",
       "        -26.23190357, -20.81663678, -44.70200435, -41.79258799],\n",
       "       [-29.88580756, -28.46478032, -33.51071205, -35.27459941,\n",
       "        -30.51316851, -46.7310242 , -34.29970459, -29.14478724],\n",
       "       [-30.13779532, -22.89139927, -33.75959599, -22.72962249,\n",
       "        -26.46305278, -22.87209236, -21.39694775, -27.35390502],\n",
       "       [-31.91055318, -40.98493094, -35.52483992, -42.8032228 ,\n",
       "        -36.50318031, -52.57896182, -37.31822232, -50.0613674 ],\n",
       "       [-39.21501292, -51.25172389, -34.05673053, -38.80982135,\n",
       "        -34.63510227, -43.0202654 , -36.8970863 , -39.04015333],\n",
       "       [-30.92911309, -39.40012737, -34.77494188, -34.00182043,\n",
       "        -36.21651643, -31.69174245, -34.77436615, -35.3079619 ],\n",
       "       [-40.00136346, -27.18224702, -34.25988757, -28.47886754,\n",
       "        -36.59165764, -29.6246903 , -42.27006474, -44.46783054],\n",
       "       [-34.0826626 , -34.27456116, -34.41058866, -32.45837631,\n",
       "        -37.99987947, -34.80668734, -42.60731318, -25.69665534],\n",
       "       [-30.05831085, -28.58429906, -33.80369214, -27.48570806,\n",
       "        -26.25548076, -26.61082348, -16.90938172, -18.70148709],\n",
       "       [-25.13122433, -26.63034322, -31.6946354 , -27.77377033,\n",
       "        -26.77076953, -23.92616333, -22.25666945, -36.29133224],\n",
       "       [-28.95390962, -29.15615194, -32.64769042, -30.3155392 ,\n",
       "        -32.45259807, -33.48876336, -35.99070404, -45.53184509],\n",
       "       [-36.37027596, -39.28542666, -35.33778618, -40.79642413,\n",
       "        -41.2954921 , -49.21205749, -42.33707614, -38.18156052],\n",
       "       [-30.69863086, -39.81276656, -33.07035455, -34.83113709,\n",
       "        -37.05867956, -40.92988053, -32.14396204, -37.71440125],\n",
       "       [-38.8585018 , -46.23925931, -36.33306426, -39.09447018,\n",
       "        -41.80124086, -30.55172869, -41.53049639, -39.27507782],\n",
       "       [-29.59246695, -20.05769265, -34.38423594, -29.50970862,\n",
       "        -32.64706683, -35.06669711, -34.46839866, -32.30774689],\n",
       "       [-30.0741699 , -28.9344072 , -33.82950101, -27.66944154,\n",
       "        -33.8341045 , -38.22305373, -30.63892354, -28.86263084],\n",
       "       [-25.69497943, -38.37123614, -33.54004868, -29.47646961,\n",
       "        -24.59213812, -38.11394296, -20.03119805, -30.4220295 ],\n",
       "       [-27.56896739, -20.90450944, -33.24556215, -22.77673678,\n",
       "        -23.0993464 , -21.3214916 , -34.03029137, -33.37479401],\n",
       "       [-28.2699827 , -27.71940959, -32.48668798, -26.36374648,\n",
       "        -22.18655557, -23.7736875 , -23.00185012, -38.52404022],\n",
       "       [-32.31358289, -35.57638675, -34.08669449, -29.13381434,\n",
       "        -28.79571572, -21.16191561, -34.59689459, -28.67284966],\n",
       "       [-40.09507186, -34.36735426, -35.14249079, -40.36500923,\n",
       "        -28.67298136, -42.13115616, -46.94310534, -40.29449463],\n",
       "       [-39.2753763 , -40.15959175, -35.51398213, -32.75849647,\n",
       "        -32.45259807, -53.64929894, -35.88402525, -38.57766724],\n",
       "       [-28.82306411, -27.09573717, -34.66975969, -27.30196906,\n",
       "        -33.324597  , -28.51892901, -23.46471831, -25.3574295 ],\n",
       "       [-29.07323529, -29.01148793, -33.89594013, -30.17132471,\n",
       "        -31.81947358, -26.17196586, -23.18447493, -32.84440994],\n",
       "       [-32.74729618, -39.20618414, -34.78666175, -31.54397816,\n",
       "        -30.86484919, -46.12298156, -25.20644021, -34.9547081 ],\n",
       "       [-33.27477709, -28.13427056, -34.60381496, -24.80861138,\n",
       "        -34.4273129 , -24.81389671, -29.32316166, -32.30601883],\n",
       "       [-30.16309345, -23.63063446, -35.11790165, -26.4932642 ,\n",
       "        -31.29635662, -24.45758975, -25.15996777, -27.51205444],\n",
       "       [-33.78973684, -30.52564281, -34.4288355 , -29.03639254,\n",
       "        -33.62725934, -27.2771197 , -39.21686466, -36.54848862],\n",
       "       [-30.4660078 , -26.90491992, -34.56019279, -30.1042739 ,\n",
       "        -28.86221783, -26.8324339 , -29.28773716, -25.57528687],\n",
       "       [-27.02801113, -22.81704311, -34.15866472, -25.30552953,\n",
       "        -27.1307023 , -21.44768799, -23.77470628, -26.7044754 ],\n",
       "       [-38.67456383, -49.47738234, -34.44249662, -35.76245391,\n",
       "        -36.28010854, -40.88524555, -35.82383632, -41.39614105],\n",
       "       [-35.07696957, -38.34939099, -34.70854735, -29.78613658,\n",
       "        -26.77076953, -28.718724  , -35.5736365 , -29.68994904],\n",
       "       [-37.55670341, -33.4198025 , -34.66351217, -30.83025205,\n",
       "        -34.81283044, -37.70958016, -43.62474633, -32.5867424 ],\n",
       "       [-26.71084101, -33.25840574, -33.76048266, -32.5663563 ,\n",
       "        -37.5861731 , -34.71716225, -34.75320419, -33.3757019 ],\n",
       "       [-37.98886156, -42.20928038, -34.08833966, -31.38067054,\n",
       "        -23.95073238, -36.36525193, -35.51624506, -37.29288483],\n",
       "       [-33.82408554, -42.33997478, -34.37554107, -36.17639085,\n",
       "        -32.42445651, -38.81756323, -43.2965149 , -27.66350174],\n",
       "       [-44.44904455, -49.02160682, -36.16327723, -49.08293809,\n",
       "        -48.11592756, -61.21842743, -44.97910888, -46.12199402],\n",
       "       [-32.04642112, -21.68636402, -34.09738473, -24.7922415 ,\n",
       "        -27.75018952, -20.02044868, -36.48512702, -32.08226776],\n",
       "       [-37.14473739, -40.04682549, -34.7016947 , -30.67525684,\n",
       "        -35.79355905, -36.15354068, -35.68437496, -34.32552338],\n",
       "       [-36.49290045, -44.09850342, -37.08026168, -41.68952209,\n",
       "        -41.66200182, -41.29462927, -40.47605366, -42.77528408],\n",
       "       [-27.32459258, -23.43262064, -33.65755843, -21.33627183,\n",
       "        -25.67511551, -28.47011392, -30.54720207, -26.8258893 ],\n",
       "       [-36.82498463, -42.39324092, -35.14719904, -41.53174254,\n",
       "        -31.60482607, -55.52026375, -27.66858836, -42.97796137],\n",
       "       [-29.13959594, -25.43827167, -33.90097792, -24.48082795,\n",
       "        -27.49363785, -19.98743572, -30.37969474, -22.63522895],\n",
       "       [-34.14429756, -35.0755208 , -35.51788717, -34.50704971,\n",
       "        -32.74853697, -24.14059411, -43.82593248, -37.32823237],\n",
       "       [-27.88528162, -21.70731332, -32.39612653, -24.11032524,\n",
       "        -20.372966  , -20.71552527, -24.69506958, -30.89504019],\n",
       "       [-32.83446168, -29.20335612, -34.33343412, -27.25872257,\n",
       "        -32.70961021, -18.56523196, -39.8836325 , -39.80212729],\n",
       "       [-28.7511472 , -39.43955952, -33.53255029, -34.94706312,\n",
       "        -29.88901173, -30.61354786, -25.44537044, -34.98382379],\n",
       "       [-28.72986927, -27.0822653 , -34.37778037, -27.37845346,\n",
       "        -29.21256955, -26.18371744, -31.8523996 , -27.47898178],\n",
       "       [-30.00574902, -30.93726143, -34.77560638, -30.57951344,\n",
       "        -33.34826383, -19.56469771, -25.23297776, -34.238753  ]])"
      ]
     },
     "execution_count": 7,
     "metadata": {},
     "output_type": "execute_result"
    }
   ],
   "source": [
    "y_predictions_nparray"
   ]
  },
  {
   "cell_type": "markdown",
   "metadata": {},
   "source": [
    "## 3. Ensemble Model\n",
    "### 3.1"
   ]
  },
  {
   "cell_type": "code",
   "execution_count": 8,
   "metadata": {},
   "outputs": [
    {
     "data": {
      "text/html": [
       "<div>\n",
       "<style scoped>\n",
       "    .dataframe tbody tr th:only-of-type {\n",
       "        vertical-align: middle;\n",
       "    }\n",
       "\n",
       "    .dataframe tbody tr th {\n",
       "        vertical-align: top;\n",
       "    }\n",
       "\n",
       "    .dataframe thead th {\n",
       "        text-align: right;\n",
       "    }\n",
       "</style>\n",
       "<table border=\"1\" class=\"dataframe\">\n",
       "  <thead>\n",
       "    <tr style=\"text-align: right;\">\n",
       "      <th></th>\n",
       "      <th>X0</th>\n",
       "      <th>X1</th>\n",
       "      <th>X2</th>\n",
       "      <th>X3</th>\n",
       "      <th>X4</th>\n",
       "      <th>X5</th>\n",
       "      <th>X6</th>\n",
       "      <th>X7</th>\n",
       "      <th>y</th>\n",
       "    </tr>\n",
       "  </thead>\n",
       "  <tbody>\n",
       "    <tr>\n",
       "      <th>0</th>\n",
       "      <td>-37.927598</td>\n",
       "      <td>-37.427863</td>\n",
       "      <td>-35.030864</td>\n",
       "      <td>-35.995763</td>\n",
       "      <td>-37.018492</td>\n",
       "      <td>-28.752843</td>\n",
       "      <td>-44.347167</td>\n",
       "      <td>-47.920973</td>\n",
       "      <td>-37.140176</td>\n",
       "    </tr>\n",
       "    <tr>\n",
       "      <th>1</th>\n",
       "      <td>-38.790655</td>\n",
       "      <td>-35.130299</td>\n",
       "      <td>-35.059917</td>\n",
       "      <td>-27.296031</td>\n",
       "      <td>-26.231904</td>\n",
       "      <td>-20.816637</td>\n",
       "      <td>-44.702004</td>\n",
       "      <td>-41.792588</td>\n",
       "      <td>-37.425494</td>\n",
       "    </tr>\n",
       "    <tr>\n",
       "      <th>2</th>\n",
       "      <td>-29.885808</td>\n",
       "      <td>-28.464780</td>\n",
       "      <td>-33.510712</td>\n",
       "      <td>-35.274599</td>\n",
       "      <td>-30.513169</td>\n",
       "      <td>-46.731024</td>\n",
       "      <td>-34.299705</td>\n",
       "      <td>-29.144787</td>\n",
       "      <td>-45.898510</td>\n",
       "    </tr>\n",
       "    <tr>\n",
       "      <th>3</th>\n",
       "      <td>-30.137795</td>\n",
       "      <td>-22.891399</td>\n",
       "      <td>-33.759596</td>\n",
       "      <td>-22.729622</td>\n",
       "      <td>-26.463053</td>\n",
       "      <td>-22.872092</td>\n",
       "      <td>-21.396948</td>\n",
       "      <td>-27.353905</td>\n",
       "      <td>-31.066304</td>\n",
       "    </tr>\n",
       "    <tr>\n",
       "      <th>4</th>\n",
       "      <td>-31.910553</td>\n",
       "      <td>-40.984931</td>\n",
       "      <td>-35.524840</td>\n",
       "      <td>-42.803223</td>\n",
       "      <td>-36.503180</td>\n",
       "      <td>-52.578962</td>\n",
       "      <td>-37.318222</td>\n",
       "      <td>-50.061367</td>\n",
       "      <td>-41.555352</td>\n",
       "    </tr>\n",
       "    <tr>\n",
       "      <th>5</th>\n",
       "      <td>-39.215013</td>\n",
       "      <td>-51.251724</td>\n",
       "      <td>-34.056731</td>\n",
       "      <td>-38.809821</td>\n",
       "      <td>-34.635102</td>\n",
       "      <td>-43.020265</td>\n",
       "      <td>-36.897086</td>\n",
       "      <td>-39.040153</td>\n",
       "      <td>-34.762099</td>\n",
       "    </tr>\n",
       "    <tr>\n",
       "      <th>6</th>\n",
       "      <td>-30.929113</td>\n",
       "      <td>-39.400127</td>\n",
       "      <td>-34.774942</td>\n",
       "      <td>-34.001820</td>\n",
       "      <td>-36.216516</td>\n",
       "      <td>-31.691742</td>\n",
       "      <td>-34.774366</td>\n",
       "      <td>-35.307962</td>\n",
       "      <td>-22.638512</td>\n",
       "    </tr>\n",
       "    <tr>\n",
       "      <th>7</th>\n",
       "      <td>-40.001363</td>\n",
       "      <td>-27.182247</td>\n",
       "      <td>-34.259888</td>\n",
       "      <td>-28.478868</td>\n",
       "      <td>-36.591658</td>\n",
       "      <td>-29.624690</td>\n",
       "      <td>-42.270065</td>\n",
       "      <td>-44.467831</td>\n",
       "      <td>-46.828391</td>\n",
       "    </tr>\n",
       "    <tr>\n",
       "      <th>8</th>\n",
       "      <td>-34.082663</td>\n",
       "      <td>-34.274561</td>\n",
       "      <td>-34.410589</td>\n",
       "      <td>-32.458376</td>\n",
       "      <td>-37.999879</td>\n",
       "      <td>-34.806687</td>\n",
       "      <td>-42.607313</td>\n",
       "      <td>-25.696655</td>\n",
       "      <td>-26.674801</td>\n",
       "    </tr>\n",
       "    <tr>\n",
       "      <th>9</th>\n",
       "      <td>-30.058311</td>\n",
       "      <td>-28.584299</td>\n",
       "      <td>-33.803692</td>\n",
       "      <td>-27.485708</td>\n",
       "      <td>-26.255481</td>\n",
       "      <td>-26.610823</td>\n",
       "      <td>-16.909382</td>\n",
       "      <td>-18.701487</td>\n",
       "      <td>-25.450905</td>\n",
       "    </tr>\n",
       "    <tr>\n",
       "      <th>10</th>\n",
       "      <td>-25.131224</td>\n",
       "      <td>-26.630343</td>\n",
       "      <td>-31.694635</td>\n",
       "      <td>-27.773770</td>\n",
       "      <td>-26.770770</td>\n",
       "      <td>-23.926163</td>\n",
       "      <td>-22.256669</td>\n",
       "      <td>-36.291332</td>\n",
       "      <td>-23.240372</td>\n",
       "    </tr>\n",
       "    <tr>\n",
       "      <th>11</th>\n",
       "      <td>-28.953910</td>\n",
       "      <td>-29.156152</td>\n",
       "      <td>-32.647690</td>\n",
       "      <td>-30.315539</td>\n",
       "      <td>-32.452598</td>\n",
       "      <td>-33.488763</td>\n",
       "      <td>-35.990704</td>\n",
       "      <td>-45.531845</td>\n",
       "      <td>-49.403465</td>\n",
       "    </tr>\n",
       "    <tr>\n",
       "      <th>12</th>\n",
       "      <td>-36.370276</td>\n",
       "      <td>-39.285427</td>\n",
       "      <td>-35.337786</td>\n",
       "      <td>-40.796424</td>\n",
       "      <td>-41.295492</td>\n",
       "      <td>-49.212057</td>\n",
       "      <td>-42.337076</td>\n",
       "      <td>-38.181561</td>\n",
       "      <td>-41.037831</td>\n",
       "    </tr>\n",
       "    <tr>\n",
       "      <th>13</th>\n",
       "      <td>-30.698631</td>\n",
       "      <td>-39.812767</td>\n",
       "      <td>-33.070355</td>\n",
       "      <td>-34.831137</td>\n",
       "      <td>-37.058680</td>\n",
       "      <td>-40.929881</td>\n",
       "      <td>-32.143962</td>\n",
       "      <td>-37.714401</td>\n",
       "      <td>-30.657121</td>\n",
       "    </tr>\n",
       "    <tr>\n",
       "      <th>14</th>\n",
       "      <td>-38.858502</td>\n",
       "      <td>-46.239259</td>\n",
       "      <td>-36.333064</td>\n",
       "      <td>-39.094470</td>\n",
       "      <td>-41.801241</td>\n",
       "      <td>-30.551729</td>\n",
       "      <td>-41.530496</td>\n",
       "      <td>-39.275078</td>\n",
       "      <td>-47.967507</td>\n",
       "    </tr>\n",
       "    <tr>\n",
       "      <th>15</th>\n",
       "      <td>-29.592467</td>\n",
       "      <td>-20.057693</td>\n",
       "      <td>-34.384236</td>\n",
       "      <td>-29.509709</td>\n",
       "      <td>-32.647067</td>\n",
       "      <td>-35.066697</td>\n",
       "      <td>-34.468399</td>\n",
       "      <td>-32.307747</td>\n",
       "      <td>-37.569471</td>\n",
       "    </tr>\n",
       "    <tr>\n",
       "      <th>16</th>\n",
       "      <td>-30.074170</td>\n",
       "      <td>-28.934407</td>\n",
       "      <td>-33.829501</td>\n",
       "      <td>-27.669442</td>\n",
       "      <td>-33.834105</td>\n",
       "      <td>-38.223054</td>\n",
       "      <td>-30.638924</td>\n",
       "      <td>-28.862631</td>\n",
       "      <td>-30.941692</td>\n",
       "    </tr>\n",
       "    <tr>\n",
       "      <th>17</th>\n",
       "      <td>-25.694979</td>\n",
       "      <td>-38.371236</td>\n",
       "      <td>-33.540049</td>\n",
       "      <td>-29.476470</td>\n",
       "      <td>-24.592138</td>\n",
       "      <td>-38.113943</td>\n",
       "      <td>-20.031198</td>\n",
       "      <td>-30.422029</td>\n",
       "      <td>-24.434075</td>\n",
       "    </tr>\n",
       "    <tr>\n",
       "      <th>18</th>\n",
       "      <td>-27.568967</td>\n",
       "      <td>-20.904509</td>\n",
       "      <td>-33.245562</td>\n",
       "      <td>-22.776737</td>\n",
       "      <td>-23.099346</td>\n",
       "      <td>-21.321492</td>\n",
       "      <td>-34.030291</td>\n",
       "      <td>-33.374794</td>\n",
       "      <td>-40.579718</td>\n",
       "    </tr>\n",
       "    <tr>\n",
       "      <th>19</th>\n",
       "      <td>-28.269983</td>\n",
       "      <td>-27.719410</td>\n",
       "      <td>-32.486688</td>\n",
       "      <td>-26.363746</td>\n",
       "      <td>-22.186556</td>\n",
       "      <td>-23.773688</td>\n",
       "      <td>-23.001850</td>\n",
       "      <td>-38.524040</td>\n",
       "      <td>-39.352342</td>\n",
       "    </tr>\n",
       "  </tbody>\n",
       "</table>\n",
       "</div>"
      ],
      "text/plain": [
       "           X0         X1         X2         X3         X4         X5  \\\n",
       "0  -37.927598 -37.427863 -35.030864 -35.995763 -37.018492 -28.752843   \n",
       "1  -38.790655 -35.130299 -35.059917 -27.296031 -26.231904 -20.816637   \n",
       "2  -29.885808 -28.464780 -33.510712 -35.274599 -30.513169 -46.731024   \n",
       "3  -30.137795 -22.891399 -33.759596 -22.729622 -26.463053 -22.872092   \n",
       "4  -31.910553 -40.984931 -35.524840 -42.803223 -36.503180 -52.578962   \n",
       "5  -39.215013 -51.251724 -34.056731 -38.809821 -34.635102 -43.020265   \n",
       "6  -30.929113 -39.400127 -34.774942 -34.001820 -36.216516 -31.691742   \n",
       "7  -40.001363 -27.182247 -34.259888 -28.478868 -36.591658 -29.624690   \n",
       "8  -34.082663 -34.274561 -34.410589 -32.458376 -37.999879 -34.806687   \n",
       "9  -30.058311 -28.584299 -33.803692 -27.485708 -26.255481 -26.610823   \n",
       "10 -25.131224 -26.630343 -31.694635 -27.773770 -26.770770 -23.926163   \n",
       "11 -28.953910 -29.156152 -32.647690 -30.315539 -32.452598 -33.488763   \n",
       "12 -36.370276 -39.285427 -35.337786 -40.796424 -41.295492 -49.212057   \n",
       "13 -30.698631 -39.812767 -33.070355 -34.831137 -37.058680 -40.929881   \n",
       "14 -38.858502 -46.239259 -36.333064 -39.094470 -41.801241 -30.551729   \n",
       "15 -29.592467 -20.057693 -34.384236 -29.509709 -32.647067 -35.066697   \n",
       "16 -30.074170 -28.934407 -33.829501 -27.669442 -33.834105 -38.223054   \n",
       "17 -25.694979 -38.371236 -33.540049 -29.476470 -24.592138 -38.113943   \n",
       "18 -27.568967 -20.904509 -33.245562 -22.776737 -23.099346 -21.321492   \n",
       "19 -28.269983 -27.719410 -32.486688 -26.363746 -22.186556 -23.773688   \n",
       "\n",
       "           X6         X7          y  \n",
       "0  -44.347167 -47.920973 -37.140176  \n",
       "1  -44.702004 -41.792588 -37.425494  \n",
       "2  -34.299705 -29.144787 -45.898510  \n",
       "3  -21.396948 -27.353905 -31.066304  \n",
       "4  -37.318222 -50.061367 -41.555352  \n",
       "5  -36.897086 -39.040153 -34.762099  \n",
       "6  -34.774366 -35.307962 -22.638512  \n",
       "7  -42.270065 -44.467831 -46.828391  \n",
       "8  -42.607313 -25.696655 -26.674801  \n",
       "9  -16.909382 -18.701487 -25.450905  \n",
       "10 -22.256669 -36.291332 -23.240372  \n",
       "11 -35.990704 -45.531845 -49.403465  \n",
       "12 -42.337076 -38.181561 -41.037831  \n",
       "13 -32.143962 -37.714401 -30.657121  \n",
       "14 -41.530496 -39.275078 -47.967507  \n",
       "15 -34.468399 -32.307747 -37.569471  \n",
       "16 -30.638924 -28.862631 -30.941692  \n",
       "17 -20.031198 -30.422029 -24.434075  \n",
       "18 -34.030291 -33.374794 -40.579718  \n",
       "19 -23.001850 -38.524040 -39.352342  "
      ]
     },
     "metadata": {},
     "output_type": "display_data"
    },
    {
     "data": {
      "image/png": "[encoded data removed]",
      "text/plain": [
       "<Figure size 360x360 with 1 Axes>"
      ]
     },
     "metadata": {},
     "output_type": "display_data"
    }
   ],
   "source": [
    "num_ML_models=len(ML_model_list)\n",
    "z_level_1_learner = pd.DataFrame(y_predictions_nparray, columns=['X%s' % i for i in range(0, num_ML_models)])\n",
    "y_level_1_learner = y_test_np_array\n",
    "\n",
    "model_data=z_level_1_learner.copy()\n",
    "df_y=pd.DataFrame(y_level_1_learner)\n",
    "df_y.columns=[\"y\"]\n",
    "model_data[\"y\"]=df_y\n",
    "\n",
    "display(model_data.head(20))\n",
    "_ = sns.relplot(x='X7', y='y', data=model_data)\n"
   ]
  },
  {
   "cell_type": "code",
   "execution_count": 9,
   "metadata": {},
   "outputs": [
    {
     "name": "stdout",
     "output_type": "stream",
     "text": [
      "<TensorType(float64, matrix)>\n"
     ]
    }
   ],
   "source": [
    "x_train=model_data.drop([\"y\"],axis=1)\n",
    "\n",
    "y_tensor = theano.shared(model_data.y.values.astype('float64'))\n",
    "x_tensor = theano.shared(x_train.values.astype('float64'))\n",
    "print(x_tensor)\n"
   ]
  },
  {
   "cell_type": "code",
   "execution_count": 10,
   "metadata": {},
   "outputs": [],
   "source": [
    "with pm.Model() as model:\n",
    "    \n",
    "    # define the priors\n",
    "    beta1 = pm.Dirichlet('beta1', a=np.array([1]*num_ML_models), shape=num_ML_models)\n",
    "    sd = pm.HalfNormal('sd', 10)\n",
    "\n",
    "    # define the likelihood\n",
    "    mu = pm.math.dot(beta1, x_tensor.T)\n",
    "    yl = pm.Normal('yl', mu, sd, observed=y_tensor)"
   ]
  },
  {
   "cell_type": "code",
   "execution_count": 11,
   "metadata": {},
   "outputs": [
    {
     "name": "stderr",
     "output_type": "stream",
     "text": [
      "Auto-assigning NUTS sampler...\n",
      "Initializing NUTS using jitter+adapt_diag...\n",
      "Multiprocess sampling (6 chains in 6 jobs)\n",
      "NUTS: [sd, beta1]\n",
      "Sampling 6 chains, 0 divergences: 100%|██████████████████████████████████████| 36000/36000 [00:51<00:00, 699.72draws/s]\n"
     ]
    }
   ],
   "source": [
    "# Generate a MCMC chain\n",
    "with model:\n",
    "    hmc_trace = pm.sample(draws=5000, tune=1000, cores=6)\n",
    "    #trace = pm.sample(1000)"
   ]
  },
  {
   "cell_type": "code",
   "execution_count": 12,
   "metadata": {},
   "outputs": [
    {
     "data": {
      "text/html": [
       "<div>\n",
       "<style scoped>\n",
       "    .dataframe tbody tr th:only-of-type {\n",
       "        vertical-align: middle;\n",
       "    }\n",
       "\n",
       "    .dataframe tbody tr th {\n",
       "        vertical-align: top;\n",
       "    }\n",
       "\n",
       "    .dataframe thead th {\n",
       "        text-align: right;\n",
       "    }\n",
       "</style>\n",
       "<table border=\"1\" class=\"dataframe\">\n",
       "  <thead>\n",
       "    <tr style=\"text-align: right;\">\n",
       "      <th></th>\n",
       "      <th>mean</th>\n",
       "      <th>sd</th>\n",
       "      <th>hpd_3%</th>\n",
       "      <th>hpd_97%</th>\n",
       "      <th>mcse_mean</th>\n",
       "      <th>mcse_sd</th>\n",
       "      <th>ess_mean</th>\n",
       "      <th>ess_sd</th>\n",
       "      <th>ess_bulk</th>\n",
       "      <th>ess_tail</th>\n",
       "      <th>r_hat</th>\n",
       "    </tr>\n",
       "  </thead>\n",
       "  <tbody>\n",
       "    <tr>\n",
       "      <th>beta1[0]</th>\n",
       "      <td>0.107</td>\n",
       "      <td>0.092</td>\n",
       "      <td>0.000</td>\n",
       "      <td>0.274</td>\n",
       "      <td>0.001</td>\n",
       "      <td>0.000</td>\n",
       "      <td>33108.0</td>\n",
       "      <td>31675.0</td>\n",
       "      <td>22601.0</td>\n",
       "      <td>14708.0</td>\n",
       "      <td>1.0</td>\n",
       "    </tr>\n",
       "    <tr>\n",
       "      <th>beta1[1]</th>\n",
       "      <td>0.040</td>\n",
       "      <td>0.039</td>\n",
       "      <td>0.000</td>\n",
       "      <td>0.110</td>\n",
       "      <td>0.000</td>\n",
       "      <td>0.000</td>\n",
       "      <td>35198.0</td>\n",
       "      <td>30133.0</td>\n",
       "      <td>24266.0</td>\n",
       "      <td>13907.0</td>\n",
       "      <td>1.0</td>\n",
       "    </tr>\n",
       "    <tr>\n",
       "      <th>beta1[2]</th>\n",
       "      <td>0.114</td>\n",
       "      <td>0.092</td>\n",
       "      <td>0.000</td>\n",
       "      <td>0.282</td>\n",
       "      <td>0.000</td>\n",
       "      <td>0.000</td>\n",
       "      <td>38153.0</td>\n",
       "      <td>33979.0</td>\n",
       "      <td>28232.0</td>\n",
       "      <td>15097.0</td>\n",
       "      <td>1.0</td>\n",
       "    </tr>\n",
       "    <tr>\n",
       "      <th>beta1[3]</th>\n",
       "      <td>0.071</td>\n",
       "      <td>0.064</td>\n",
       "      <td>0.000</td>\n",
       "      <td>0.189</td>\n",
       "      <td>0.000</td>\n",
       "      <td>0.000</td>\n",
       "      <td>40652.0</td>\n",
       "      <td>32545.0</td>\n",
       "      <td>30740.0</td>\n",
       "      <td>16126.0</td>\n",
       "      <td>1.0</td>\n",
       "    </tr>\n",
       "    <tr>\n",
       "      <th>beta1[4]</th>\n",
       "      <td>0.078</td>\n",
       "      <td>0.068</td>\n",
       "      <td>0.000</td>\n",
       "      <td>0.204</td>\n",
       "      <td>0.000</td>\n",
       "      <td>0.000</td>\n",
       "      <td>38320.0</td>\n",
       "      <td>31039.0</td>\n",
       "      <td>28630.0</td>\n",
       "      <td>15265.0</td>\n",
       "      <td>1.0</td>\n",
       "    </tr>\n",
       "    <tr>\n",
       "      <th>beta1[5]</th>\n",
       "      <td>0.067</td>\n",
       "      <td>0.055</td>\n",
       "      <td>0.000</td>\n",
       "      <td>0.167</td>\n",
       "      <td>0.000</td>\n",
       "      <td>0.000</td>\n",
       "      <td>38869.0</td>\n",
       "      <td>34108.0</td>\n",
       "      <td>29490.0</td>\n",
       "      <td>16135.0</td>\n",
       "      <td>1.0</td>\n",
       "    </tr>\n",
       "    <tr>\n",
       "      <th>beta1[6]</th>\n",
       "      <td>0.131</td>\n",
       "      <td>0.096</td>\n",
       "      <td>0.000</td>\n",
       "      <td>0.304</td>\n",
       "      <td>0.000</td>\n",
       "      <td>0.000</td>\n",
       "      <td>39968.0</td>\n",
       "      <td>34223.0</td>\n",
       "      <td>32311.0</td>\n",
       "      <td>15805.0</td>\n",
       "      <td>1.0</td>\n",
       "    </tr>\n",
       "    <tr>\n",
       "      <th>beta1[7]</th>\n",
       "      <td>0.392</td>\n",
       "      <td>0.144</td>\n",
       "      <td>0.112</td>\n",
       "      <td>0.655</td>\n",
       "      <td>0.001</td>\n",
       "      <td>0.001</td>\n",
       "      <td>33104.0</td>\n",
       "      <td>33104.0</td>\n",
       "      <td>33243.0</td>\n",
       "      <td>20474.0</td>\n",
       "      <td>1.0</td>\n",
       "    </tr>\n",
       "    <tr>\n",
       "      <th>sd</th>\n",
       "      <td>7.089</td>\n",
       "      <td>0.768</td>\n",
       "      <td>5.707</td>\n",
       "      <td>8.548</td>\n",
       "      <td>0.005</td>\n",
       "      <td>0.003</td>\n",
       "      <td>27996.0</td>\n",
       "      <td>27056.0</td>\n",
       "      <td>28956.0</td>\n",
       "      <td>20907.0</td>\n",
       "      <td>1.0</td>\n",
       "    </tr>\n",
       "  </tbody>\n",
       "</table>\n",
       "</div>"
      ],
      "text/plain": [
       "           mean     sd  hpd_3%  hpd_97%  mcse_mean  mcse_sd  ess_mean  \\\n",
       "beta1[0]  0.107  0.092   0.000    0.274      0.001    0.000   33108.0   \n",
       "beta1[1]  0.040  0.039   0.000    0.110      0.000    0.000   35198.0   \n",
       "beta1[2]  0.114  0.092   0.000    0.282      0.000    0.000   38153.0   \n",
       "beta1[3]  0.071  0.064   0.000    0.189      0.000    0.000   40652.0   \n",
       "beta1[4]  0.078  0.068   0.000    0.204      0.000    0.000   38320.0   \n",
       "beta1[5]  0.067  0.055   0.000    0.167      0.000    0.000   38869.0   \n",
       "beta1[6]  0.131  0.096   0.000    0.304      0.000    0.000   39968.0   \n",
       "beta1[7]  0.392  0.144   0.112    0.655      0.001    0.001   33104.0   \n",
       "sd        7.089  0.768   5.707    8.548      0.005    0.003   27996.0   \n",
       "\n",
       "           ess_sd  ess_bulk  ess_tail  r_hat  \n",
       "beta1[0]  31675.0   22601.0   14708.0    1.0  \n",
       "beta1[1]  30133.0   24266.0   13907.0    1.0  \n",
       "beta1[2]  33979.0   28232.0   15097.0    1.0  \n",
       "beta1[3]  32545.0   30740.0   16126.0    1.0  \n",
       "beta1[4]  31039.0   28630.0   15265.0    1.0  \n",
       "beta1[5]  34108.0   29490.0   16135.0    1.0  \n",
       "beta1[6]  34223.0   32311.0   15805.0    1.0  \n",
       "beta1[7]  33104.0   33243.0   20474.0    1.0  \n",
       "sd        27056.0   28956.0   20907.0    1.0  "
      ]
     },
     "execution_count": 12,
     "metadata": {},
     "output_type": "execute_result"
    },
    {
     "data": {
      "image/png": "[encoded data removed]",
      "text/plain": [
       "<Figure size 864x288 with 4 Axes>"
      ]
     },
     "metadata": {},
     "output_type": "display_data"
    }
   ],
   "source": [
    "pm.traceplot(hmc_trace)\n",
    "pm.summary(hmc_trace)"
   ]
  },
  {
   "cell_type": "code",
   "execution_count": 13,
   "metadata": {},
   "outputs": [
    {
     "name": "stderr",
     "output_type": "stream",
     "text": [
      "Average Loss = 173.31: 100%|███████████████████████████████████████████████████| 30000/30000 [00:15<00:00, 1883.20it/s]\n",
      "Finished [100%]: Average Loss = 173.27\n"
     ]
    }
   ],
   "source": [
    "map_tensor_batch = {y_tensor: pm.Minibatch(model_data.y.values.astype('float64'), n_data),\n",
    "                    x_tensor: pm.Minibatch(x_train.values.astype('float64'), n_data)}\n",
    "with model:\n",
    "    advi_fit = pm.fit(method=pm.ADVI(), n=30000,\n",
    "                      more_replacements=map_tensor_batch)"
   ]
  },
  {
   "cell_type": "code",
   "execution_count": 14,
   "metadata": {},
   "outputs": [
    {
     "data": {
      "image/png": "[encoded data removed]",
      "text/plain": [
       "<Figure size 432x288 with 1 Axes>"
      ]
     },
     "metadata": {},
     "output_type": "display_data"
    }
   ],
   "source": [
    "advi_elbo = pd.DataFrame(\n",
    "    {'log-ELBO': -np.log(advi_fit.hist),\n",
    "     'n': np.arange(advi_fit.hist.shape[0])})\n",
    "\n",
    "_ = sns.lineplot(y='log-ELBO', x='n', data=advi_elbo)"
   ]
  },
  {
   "cell_type": "code",
   "execution_count": 15,
   "metadata": {},
   "outputs": [
    {
     "name": "stderr",
     "output_type": "stream",
     "text": [
      "arviz.stats.stats_utils - WARNING - Shape validation failed: input_shape: (1, 10000), minimum_shape: (chains=2, draws=4)\n",
      "arviz.stats.stats_utils - WARNING - Shape validation failed: input_shape: (1, 10000), minimum_shape: (chains=2, draws=4)\n",
      "arviz.stats.stats_utils - WARNING - Shape validation failed: input_shape: (1, 10000), minimum_shape: (chains=2, draws=4)\n",
      "arviz.stats.stats_utils - WARNING - Shape validation failed: input_shape: (1, 10000), minimum_shape: (chains=2, draws=4)\n",
      "arviz.stats.stats_utils - WARNING - Shape validation failed: input_shape: (1, 10000), minimum_shape: (chains=2, draws=4)\n",
      "arviz.stats.stats_utils - WARNING - Shape validation failed: input_shape: (1, 10000), minimum_shape: (chains=2, draws=4)\n",
      "arviz.stats.stats_utils - WARNING - Shape validation failed: input_shape: (1, 10000), minimum_shape: (chains=2, draws=4)\n",
      "arviz.stats.stats_utils - WARNING - Shape validation failed: input_shape: (1, 10000), minimum_shape: (chains=2, draws=4)\n",
      "arviz.stats.stats_utils - WARNING - Shape validation failed: input_shape: (1, 10000), minimum_shape: (chains=2, draws=4)\n"
     ]
    },
    {
     "data": {
      "text/html": [
       "<div>\n",
       "<style scoped>\n",
       "    .dataframe tbody tr th:only-of-type {\n",
       "        vertical-align: middle;\n",
       "    }\n",
       "\n",
       "    .dataframe tbody tr th {\n",
       "        vertical-align: top;\n",
       "    }\n",
       "\n",
       "    .dataframe thead th {\n",
       "        text-align: right;\n",
       "    }\n",
       "</style>\n",
       "<table border=\"1\" class=\"dataframe\">\n",
       "  <thead>\n",
       "    <tr style=\"text-align: right;\">\n",
       "      <th></th>\n",
       "      <th>mean</th>\n",
       "      <th>sd</th>\n",
       "      <th>hpd_3%</th>\n",
       "      <th>hpd_97%</th>\n",
       "      <th>mcse_mean</th>\n",
       "      <th>mcse_sd</th>\n",
       "      <th>ess_mean</th>\n",
       "      <th>ess_sd</th>\n",
       "      <th>ess_bulk</th>\n",
       "      <th>ess_tail</th>\n",
       "      <th>r_hat</th>\n",
       "    </tr>\n",
       "  </thead>\n",
       "  <tbody>\n",
       "    <tr>\n",
       "      <th>beta1[0]</th>\n",
       "      <td>0.131</td>\n",
       "      <td>0.133</td>\n",
       "      <td>0.001</td>\n",
       "      <td>0.386</td>\n",
       "      <td>0.001</td>\n",
       "      <td>0.001</td>\n",
       "      <td>9867.0</td>\n",
       "      <td>9867.0</td>\n",
       "      <td>9937.0</td>\n",
       "      <td>9877.0</td>\n",
       "      <td>NaN</td>\n",
       "    </tr>\n",
       "    <tr>\n",
       "      <th>beta1[1]</th>\n",
       "      <td>0.050</td>\n",
       "      <td>0.063</td>\n",
       "      <td>0.000</td>\n",
       "      <td>0.160</td>\n",
       "      <td>0.001</td>\n",
       "      <td>0.000</td>\n",
       "      <td>10142.0</td>\n",
       "      <td>9613.0</td>\n",
       "      <td>9856.0</td>\n",
       "      <td>10056.0</td>\n",
       "      <td>NaN</td>\n",
       "    </tr>\n",
       "    <tr>\n",
       "      <th>beta1[2]</th>\n",
       "      <td>0.128</td>\n",
       "      <td>0.119</td>\n",
       "      <td>0.002</td>\n",
       "      <td>0.356</td>\n",
       "      <td>0.001</td>\n",
       "      <td>0.001</td>\n",
       "      <td>10066.0</td>\n",
       "      <td>9812.0</td>\n",
       "      <td>10175.0</td>\n",
       "      <td>9766.0</td>\n",
       "      <td>NaN</td>\n",
       "    </tr>\n",
       "    <tr>\n",
       "      <th>beta1[3]</th>\n",
       "      <td>0.083</td>\n",
       "      <td>0.093</td>\n",
       "      <td>0.000</td>\n",
       "      <td>0.259</td>\n",
       "      <td>0.001</td>\n",
       "      <td>0.001</td>\n",
       "      <td>10094.0</td>\n",
       "      <td>10094.0</td>\n",
       "      <td>10047.0</td>\n",
       "      <td>9645.0</td>\n",
       "      <td>NaN</td>\n",
       "    </tr>\n",
       "    <tr>\n",
       "      <th>beta1[4]</th>\n",
       "      <td>0.087</td>\n",
       "      <td>0.092</td>\n",
       "      <td>0.001</td>\n",
       "      <td>0.265</td>\n",
       "      <td>0.001</td>\n",
       "      <td>0.001</td>\n",
       "      <td>9651.0</td>\n",
       "      <td>9536.0</td>\n",
       "      <td>9475.0</td>\n",
       "      <td>9322.0</td>\n",
       "      <td>NaN</td>\n",
       "    </tr>\n",
       "    <tr>\n",
       "      <th>beta1[5]</th>\n",
       "      <td>0.071</td>\n",
       "      <td>0.075</td>\n",
       "      <td>0.000</td>\n",
       "      <td>0.207</td>\n",
       "      <td>0.001</td>\n",
       "      <td>0.001</td>\n",
       "      <td>9613.0</td>\n",
       "      <td>9613.0</td>\n",
       "      <td>9784.0</td>\n",
       "      <td>9707.0</td>\n",
       "      <td>NaN</td>\n",
       "    </tr>\n",
       "    <tr>\n",
       "      <th>beta1[6]</th>\n",
       "      <td>0.126</td>\n",
       "      <td>0.112</td>\n",
       "      <td>0.000</td>\n",
       "      <td>0.340</td>\n",
       "      <td>0.001</td>\n",
       "      <td>0.001</td>\n",
       "      <td>9745.0</td>\n",
       "      <td>9743.0</td>\n",
       "      <td>9527.0</td>\n",
       "      <td>9919.0</td>\n",
       "      <td>NaN</td>\n",
       "    </tr>\n",
       "    <tr>\n",
       "      <th>beta1[7]</th>\n",
       "      <td>0.324</td>\n",
       "      <td>0.158</td>\n",
       "      <td>0.041</td>\n",
       "      <td>0.603</td>\n",
       "      <td>0.002</td>\n",
       "      <td>0.001</td>\n",
       "      <td>10048.0</td>\n",
       "      <td>10048.0</td>\n",
       "      <td>10048.0</td>\n",
       "      <td>9266.0</td>\n",
       "      <td>NaN</td>\n",
       "    </tr>\n",
       "    <tr>\n",
       "      <th>sd</th>\n",
       "      <td>7.309</td>\n",
       "      <td>0.869</td>\n",
       "      <td>5.719</td>\n",
       "      <td>8.923</td>\n",
       "      <td>0.009</td>\n",
       "      <td>0.006</td>\n",
       "      <td>9902.0</td>\n",
       "      <td>9863.0</td>\n",
       "      <td>9937.0</td>\n",
       "      <td>9600.0</td>\n",
       "      <td>NaN</td>\n",
       "    </tr>\n",
       "  </tbody>\n",
       "</table>\n",
       "</div>"
      ],
      "text/plain": [
       "           mean     sd  hpd_3%  hpd_97%  mcse_mean  mcse_sd  ess_mean  \\\n",
       "beta1[0]  0.131  0.133   0.001    0.386      0.001    0.001    9867.0   \n",
       "beta1[1]  0.050  0.063   0.000    0.160      0.001    0.000   10142.0   \n",
       "beta1[2]  0.128  0.119   0.002    0.356      0.001    0.001   10066.0   \n",
       "beta1[3]  0.083  0.093   0.000    0.259      0.001    0.001   10094.0   \n",
       "beta1[4]  0.087  0.092   0.001    0.265      0.001    0.001    9651.0   \n",
       "beta1[5]  0.071  0.075   0.000    0.207      0.001    0.001    9613.0   \n",
       "beta1[6]  0.126  0.112   0.000    0.340      0.001    0.001    9745.0   \n",
       "beta1[7]  0.324  0.158   0.041    0.603      0.002    0.001   10048.0   \n",
       "sd        7.309  0.869   5.719    8.923      0.009    0.006    9902.0   \n",
       "\n",
       "           ess_sd  ess_bulk  ess_tail  r_hat  \n",
       "beta1[0]   9867.0    9937.0    9877.0    NaN  \n",
       "beta1[1]   9613.0    9856.0   10056.0    NaN  \n",
       "beta1[2]   9812.0   10175.0    9766.0    NaN  \n",
       "beta1[3]  10094.0   10047.0    9645.0    NaN  \n",
       "beta1[4]   9536.0    9475.0    9322.0    NaN  \n",
       "beta1[5]   9613.0    9784.0    9707.0    NaN  \n",
       "beta1[6]   9743.0    9527.0    9919.0    NaN  \n",
       "beta1[7]  10048.0   10048.0    9266.0    NaN  \n",
       "sd         9863.0    9937.0    9600.0    NaN  "
      ]
     },
     "execution_count": 15,
     "metadata": {},
     "output_type": "execute_result"
    },
    {
     "data": {
      "image/png": "[encoded data removed]",
      "text/plain": [
       "<Figure size 864x288 with 4 Axes>"
      ]
     },
     "metadata": {},
     "output_type": "display_data"
    }
   ],
   "source": [
    "advi_trace = advi_fit.sample(10000)\n",
    "pm.traceplot(advi_trace)\n",
    "pm.summary(advi_trace)"
   ]
  },
  {
   "cell_type": "code",
   "execution_count": 16,
   "metadata": {},
   "outputs": [
    {
     "name": "stderr",
     "output_type": "stream",
     "text": [
      "100%|██████████████████████████████████████████████████████████████████████████████████| 50/50 [00:01<00:00, 28.34it/s]\n",
      " 14%|███████████▌                                                                       | 7/50 [00:00<00:00, 66.82it/s]"
     ]
    },
    {
     "name": "stdout",
     "output_type": "stream",
     "text": [
      "-41.595460070353894 -37.14017605479541\n"
     ]
    },
    {
     "name": "stderr",
     "output_type": "stream",
     "text": [
      "100%|██████████████████████████████████████████████████████████████████████████████████| 50/50 [00:00<00:00, 54.36it/s]\n",
      " 16%|█████████████▎                                                                     | 8/50 [00:00<00:00, 69.73it/s]"
     ]
    },
    {
     "name": "stdout",
     "output_type": "stream",
     "text": [
      "-36.95674347030885 -37.42549403917103\n"
     ]
    },
    {
     "name": "stderr",
     "output_type": "stream",
     "text": [
      "100%|██████████████████████████████████████████████████████████████████████████████████| 50/50 [00:00<00:00, 69.53it/s]\n",
      " 16%|█████████████▎                                                                     | 8/50 [00:00<00:00, 73.92it/s]"
     ]
    },
    {
     "name": "stdout",
     "output_type": "stream",
     "text": [
      "-32.08388456478055 -45.89850959376511\n"
     ]
    },
    {
     "name": "stderr",
     "output_type": "stream",
     "text": [
      "100%|██████████████████████████████████████████████████████████████████████████████████| 50/50 [00:00<00:00, 74.66it/s]\n",
      " 14%|███████████▌                                                                       | 7/50 [00:00<00:00, 69.13it/s]"
     ]
    },
    {
     "name": "stdout",
     "output_type": "stream",
     "text": [
      "-27.006086605202423 -31.066303954485623\n"
     ]
    },
    {
     "name": "stderr",
     "output_type": "stream",
     "text": [
      "100%|██████████████████████████████████████████████████████████████████████████████████| 50/50 [00:00<00:00, 73.03it/s]\n",
      " 16%|█████████████▎                                                                     | 8/50 [00:00<00:00, 74.97it/s]"
     ]
    },
    {
     "name": "stdout",
     "output_type": "stream",
     "text": [
      "-42.682164094435365 -41.555352156004105\n"
     ]
    },
    {
     "name": "stderr",
     "output_type": "stream",
     "text": [
      "100%|██████████████████████████████████████████████████████████████████████████████████| 50/50 [00:00<00:00, 69.13it/s]\n",
      "  0%|                                                                                           | 0/50 [00:00<?, ?it/s]"
     ]
    },
    {
     "name": "stdout",
     "output_type": "stream",
     "text": [
      "-38.619908398232425 -34.76209908815369\n"
     ]
    },
    {
     "name": "stderr",
     "output_type": "stream",
     "text": [
      "100%|██████████████████████████████████████████████████████████████████████████████████| 50/50 [00:00<00:00, 56.28it/s]\n",
      " 16%|█████████████▎                                                                     | 8/50 [00:00<00:00, 70.97it/s]"
     ]
    },
    {
     "name": "stdout",
     "output_type": "stream",
     "text": [
      "-34.40266250494169 -22.638511528261265\n"
     ]
    },
    {
     "name": "stderr",
     "output_type": "stream",
     "text": [
      "100%|██████████████████████████████████████████████████████████████████████████████████| 50/50 [00:00<00:00, 68.10it/s]\n",
      " 14%|███████████▌                                                                       | 7/50 [00:00<00:00, 67.64it/s]"
     ]
    },
    {
     "name": "stdout",
     "output_type": "stream",
     "text": [
      "-38.77774168249901 -46.82839050061368\n"
     ]
    },
    {
     "name": "stderr",
     "output_type": "stream",
     "text": [
      "100%|██████████████████████████████████████████████████████████████████████████████████| 50/50 [00:00<00:00, 70.71it/s]\n",
      " 16%|█████████████▎                                                                     | 8/50 [00:00<00:00, 69.15it/s]"
     ]
    },
    {
     "name": "stdout",
     "output_type": "stream",
     "text": [
      "-32.10882008429556 -26.674800769085866\n"
     ]
    },
    {
     "name": "stderr",
     "output_type": "stream",
     "text": [
      "100%|██████████████████████████████████████████████████████████████████████████████████| 50/50 [00:00<00:00, 67.02it/s]\n",
      " 14%|███████████▌                                                                       | 7/50 [00:00<00:00, 64.99it/s]"
     ]
    },
    {
     "name": "stdout",
     "output_type": "stream",
     "text": [
      "-23.734213045409014 -25.450904587990326\n"
     ]
    },
    {
     "name": "stderr",
     "output_type": "stream",
     "text": [
      "100%|██████████████████████████████████████████████████████████████████████████████████| 50/50 [00:00<00:00, 56.76it/s]\n",
      " 14%|███████████▌                                                                       | 7/50 [00:00<00:00, 66.19it/s]"
     ]
    },
    {
     "name": "stdout",
     "output_type": "stream",
     "text": [
      "-30.26486430681802 -23.240371726407798\n"
     ]
    },
    {
     "name": "stderr",
     "output_type": "stream",
     "text": [
      "100%|██████████████████████████████████████████████████████████████████████████████████| 50/50 [00:00<00:00, 67.02it/s]\n",
      " 16%|█████████████▎                                                                     | 8/50 [00:00<00:00, 76.38it/s]"
     ]
    },
    {
     "name": "stdout",
     "output_type": "stream",
     "text": [
      "-37.54516961311718 -49.40346462056494\n"
     ]
    },
    {
     "name": "stderr",
     "output_type": "stream",
     "text": [
      "100%|██████████████████████████████████████████████████████████████████████████████████| 50/50 [00:00<00:00, 70.47it/s]\n",
      " 16%|█████████████▎                                                                     | 8/50 [00:00<00:00, 72.92it/s]"
     ]
    },
    {
     "name": "stdout",
     "output_type": "stream",
     "text": [
      "-39.14359120506659 -41.03783118518995\n"
     ]
    },
    {
     "name": "stderr",
     "output_type": "stream",
     "text": [
      "100%|██████████████████████████████████████████████████████████████████████████████████| 50/50 [00:00<00:00, 67.38it/s]\n",
      " 16%|█████████████▎                                                                     | 8/50 [00:00<00:00, 76.38it/s]"
     ]
    },
    {
     "name": "stdout",
     "output_type": "stream",
     "text": [
      "-35.84027804062633 -30.657121339503146\n"
     ]
    },
    {
     "name": "stderr",
     "output_type": "stream",
     "text": [
      "100%|██████████████████████████████████████████████████████████████████████████████████| 50/50 [00:00<00:00, 68.78it/s]\n",
      " 14%|███████████▌                                                                       | 7/50 [00:00<00:00, 67.47it/s]"
     ]
    },
    {
     "name": "stdout",
     "output_type": "stream",
     "text": [
      "-38.897994265610095 -47.96750732762544\n"
     ]
    },
    {
     "name": "stderr",
     "output_type": "stream",
     "text": [
      "100%|██████████████████████████████████████████████████████████████████████████████████| 50/50 [00:00<00:00, 55.96it/s]\n",
      " 16%|█████████████▎                                                                     | 8/50 [00:00<00:00, 74.97it/s]"
     ]
    },
    {
     "name": "stdout",
     "output_type": "stream",
     "text": [
      "-32.08414504335173 -37.56947106966904\n"
     ]
    },
    {
     "name": "stderr",
     "output_type": "stream",
     "text": [
      "100%|██████████████████████████████████████████████████████████████████████████████████| 50/50 [00:00<00:00, 72.19it/s]\n",
      " 16%|█████████████▎                                                                     | 8/50 [00:00<00:00, 71.60it/s]"
     ]
    },
    {
     "name": "stdout",
     "output_type": "stream",
     "text": [
      "-30.683783471909816 -30.9416924100941\n"
     ]
    },
    {
     "name": "stderr",
     "output_type": "stream",
     "text": [
      "100%|██████████████████████████████████████████████████████████████████████████████████| 50/50 [00:00<00:00, 72.71it/s]\n",
      " 16%|█████████████▎                                                                     | 8/50 [00:00<00:00, 75.22it/s]"
     ]
    },
    {
     "name": "stdout",
     "output_type": "stream",
     "text": [
      "-29.483032579259902 -24.43407509098518\n"
     ]
    },
    {
     "name": "stderr",
     "output_type": "stream",
     "text": [
      "100%|██████████████████████████████████████████████████████████████████████████████████| 50/50 [00:00<00:00, 75.31it/s]\n",
      " 16%|█████████████▎                                                                     | 8/50 [00:00<00:00, 66.56it/s]"
     ]
    },
    {
     "name": "stdout",
     "output_type": "stream",
     "text": [
      "-30.226595567697142 -40.57971791430612\n"
     ]
    },
    {
     "name": "stderr",
     "output_type": "stream",
     "text": [
      "100%|██████████████████████████████████████████████████████████████████████████████████| 50/50 [00:00<00:00, 72.60it/s]\n",
      " 16%|█████████████▎                                                                     | 8/50 [00:00<00:00, 75.67it/s]"
     ]
    },
    {
     "name": "stdout",
     "output_type": "stream",
     "text": [
      "-31.381563411905333 -39.35234151274372\n"
     ]
    },
    {
     "name": "stderr",
     "output_type": "stream",
     "text": [
      "100%|██████████████████████████████████████████████████████████████████████████████████| 50/50 [00:00<00:00, 60.54it/s]\n",
      " 14%|███████████▌                                                                       | 7/50 [00:00<00:00, 65.88it/s]"
     ]
    },
    {
     "name": "stdout",
     "output_type": "stream",
     "text": [
      "-30.473556598504917 -17.24434341825947\n"
     ]
    },
    {
     "name": "stderr",
     "output_type": "stream",
     "text": [
      "100%|██████████████████████████████████████████████████████████████████████████████████| 50/50 [00:00<00:00, 66.10it/s]\n",
      " 16%|█████████████▎                                                                     | 8/50 [00:00<00:00, 74.94it/s]"
     ]
    },
    {
     "name": "stdout",
     "output_type": "stream",
     "text": [
      "-39.578562890331895 -40.58214476835968\n"
     ]
    },
    {
     "name": "stderr",
     "output_type": "stream",
     "text": [
      "100%|██████████████████████████████████████████████████████████████████████████████████| 50/50 [00:00<00:00, 66.99it/s]\n",
      " 16%|█████████████▎                                                                     | 8/50 [00:00<00:00, 74.97it/s]"
     ]
    },
    {
     "name": "stdout",
     "output_type": "stream",
     "text": [
      "-38.00661049534308 -43.10452156896535\n"
     ]
    },
    {
     "name": "stderr",
     "output_type": "stream",
     "text": [
      "100%|██████████████████████████████████████████████████████████████████████████████████| 50/50 [00:00<00:00, 73.83it/s]\n",
      " 16%|█████████████▎                                                                     | 8/50 [00:00<00:00, 70.94it/s]"
     ]
    },
    {
     "name": "stdout",
     "output_type": "stream",
     "text": [
      "-27.80982345997299 -19.523892021805928\n"
     ]
    },
    {
     "name": "stderr",
     "output_type": "stream",
     "text": [
      "100%|██████████████████████████████████████████████████████████████████████████████████| 50/50 [00:00<00:00, 69.97it/s]\n",
      " 16%|█████████████▎                                                                     | 8/50 [00:00<00:00, 71.62it/s]"
     ]
    },
    {
     "name": "stdout",
     "output_type": "stream",
     "text": [
      "-30.755056558699916 -34.01764703855052\n"
     ]
    },
    {
     "name": "stderr",
     "output_type": "stream",
     "text": [
      "100%|██████████████████████████████████████████████████████████████████████████████████| 50/50 [00:00<00:00, 58.09it/s]\n",
      " 16%|█████████████▎                                                                     | 8/50 [00:00<00:00, 70.99it/s]"
     ]
    },
    {
     "name": "stdout",
     "output_type": "stream",
     "text": [
      "-33.78541474803097 -16.28668923775601\n"
     ]
    },
    {
     "name": "stderr",
     "output_type": "stream",
     "text": [
      "100%|██████████████████████████████████████████████████████████████████████████████████| 50/50 [00:00<00:00, 71.98it/s]\n",
      " 16%|█████████████▎                                                                     | 8/50 [00:00<00:00, 76.39it/s]"
     ]
    },
    {
     "name": "stdout",
     "output_type": "stream",
     "text": [
      "-31.270840290524436 -28.711719498908323\n"
     ]
    },
    {
     "name": "stderr",
     "output_type": "stream",
     "text": [
      "100%|██████████████████████████████████████████████████████████████████████████████████| 50/50 [00:00<00:00, 76.09it/s]\n",
      " 16%|█████████████▎                                                                     | 8/50 [00:00<00:00, 72.27it/s]"
     ]
    },
    {
     "name": "stdout",
     "output_type": "stream",
     "text": [
      "-28.484928088156337 -24.849219122675148\n"
     ]
    },
    {
     "name": "stderr",
     "output_type": "stream",
     "text": [
      "100%|██████████████████████████████████████████████████████████████████████████████████| 50/50 [00:00<00:00, 75.62it/s]\n",
      " 16%|█████████████▎                                                                     | 8/50 [00:00<00:00, 76.39it/s]"
     ]
    },
    {
     "name": "stdout",
     "output_type": "stream",
     "text": [
      "-34.853870861135064 -35.42004102632523\n"
     ]
    },
    {
     "name": "stderr",
     "output_type": "stream",
     "text": [
      "100%|██████████████████████████████████████████████████████████████████████████████████| 50/50 [00:00<00:00, 60.12it/s]\n",
      " 16%|█████████████▎                                                                     | 8/50 [00:00<00:00, 77.85it/s]"
     ]
    },
    {
     "name": "stdout",
     "output_type": "stream",
     "text": [
      "-28.54298295072593 -30.52803294613477\n"
     ]
    },
    {
     "name": "stderr",
     "output_type": "stream",
     "text": [
      "100%|██████████████████████████████████████████████████████████████████████████████████| 50/50 [00:00<00:00, 72.66it/s]\n",
      " 16%|█████████████▎                                                                     | 8/50 [00:00<00:00, 70.20it/s]"
     ]
    },
    {
     "name": "stdout",
     "output_type": "stream",
     "text": [
      "-26.76373129503518 -33.991064009215364\n"
     ]
    },
    {
     "name": "stderr",
     "output_type": "stream",
     "text": [
      "100%|██████████████████████████████████████████████████████████████████████████████████| 50/50 [00:00<00:00, 74.06it/s]\n",
      " 16%|█████████████▎                                                                     | 8/50 [00:00<00:00, 79.03it/s]"
     ]
    },
    {
     "name": "stdout",
     "output_type": "stream",
     "text": [
      "-39.099069876124894 -49.15279917628573\n"
     ]
    },
    {
     "name": "stderr",
     "output_type": "stream",
     "text": [
      "100%|██████████████████████████████████████████████████████████████████████████████████| 50/50 [00:00<00:00, 74.00it/s]\n",
      " 16%|█████████████▎                                                                     | 8/50 [00:00<00:00, 73.59it/s]"
     ]
    },
    {
     "name": "stdout",
     "output_type": "stream",
     "text": [
      "-31.92666190808905 -26.06947609257748\n"
     ]
    },
    {
     "name": "stderr",
     "output_type": "stream",
     "text": [
      "100%|██████████████████████████████████████████████████████████████████████████████████| 50/50 [00:00<00:00, 73.18it/s]\n",
      " 16%|█████████████▎                                                                     | 8/50 [00:00<00:00, 72.26it/s]"
     ]
    },
    {
     "name": "stdout",
     "output_type": "stream",
     "text": [
      "-35.09367782372215 -40.343889253474075\n"
     ]
    },
    {
     "name": "stderr",
     "output_type": "stream",
     "text": [
      "100%|██████████████████████████████████████████████████████████████████████████████████| 50/50 [00:00<00:00, 60.53it/s]\n",
      " 14%|███████████▌                                                                       | 7/50 [00:00<00:00, 65.60it/s]"
     ]
    },
    {
     "name": "stdout",
     "output_type": "stream",
     "text": [
      "-33.01909068868308 -39.015296610736584\n"
     ]
    },
    {
     "name": "stderr",
     "output_type": "stream",
     "text": [
      "100%|██████████████████████████████████████████████████████████████████████████████████| 50/50 [00:00<00:00, 73.08it/s]\n",
      " 16%|█████████████▎                                                                     | 8/50 [00:00<00:00, 70.99it/s]"
     ]
    },
    {
     "name": "stdout",
     "output_type": "stream",
     "text": [
      "-35.55709962213115 -30.916630671596632\n"
     ]
    },
    {
     "name": "stderr",
     "output_type": "stream",
     "text": [
      "100%|██████████████████████████████████████████████████████████████████████████████████| 50/50 [00:00<00:00, 72.31it/s]\n",
      " 16%|█████████████▎                                                                     | 8/50 [00:00<00:00, 74.25it/s]"
     ]
    },
    {
     "name": "stdout",
     "output_type": "stream",
     "text": [
      "-33.46933791611379 -24.45924275293514\n"
     ]
    },
    {
     "name": "stderr",
     "output_type": "stream",
     "text": [
      "100%|██████████████████████████████████████████████████████████████████████████████████| 50/50 [00:00<00:00, 75.44it/s]\n",
      " 16%|█████████████▎                                                                     | 8/50 [00:00<00:00, 74.27it/s]"
     ]
    },
    {
     "name": "stdout",
     "output_type": "stream",
     "text": [
      "-45.65069856128876 -42.26668460882956\n"
     ]
    },
    {
     "name": "stderr",
     "output_type": "stream",
     "text": [
      "100%|██████████████████████████████████████████████████████████████████████████████████| 50/50 [00:00<00:00, 60.53it/s]\n",
      " 18%|██████████████▉                                                                    | 9/50 [00:00<00:00, 79.86it/s]"
     ]
    },
    {
     "name": "stdout",
     "output_type": "stream",
     "text": [
      "-30.884330255283846 -28.076886432205377\n"
     ]
    },
    {
     "name": "stderr",
     "output_type": "stream",
     "text": [
      "100%|██████████████████████████████████████████████████████████████████████████████████| 50/50 [00:00<00:00, 73.19it/s]\n",
      " 18%|██████████████▉                                                                    | 9/50 [00:00<00:00, 80.57it/s]"
     ]
    },
    {
     "name": "stdout",
     "output_type": "stream",
     "text": [
      "-35.163293384054946 -31.276486630050726\n"
     ]
    },
    {
     "name": "stderr",
     "output_type": "stream",
     "text": [
      "100%|██████████████████████████████████████████████████████████████████████████████████| 50/50 [00:00<00:00, 74.72it/s]\n",
      " 16%|█████████████▎                                                                     | 8/50 [00:00<00:00, 75.12it/s]"
     ]
    },
    {
     "name": "stdout",
     "output_type": "stream",
     "text": [
      "-40.695665767108686 -36.177117904711345\n"
     ]
    },
    {
     "name": "stderr",
     "output_type": "stream",
     "text": [
      "100%|██████████████████████████████████████████████████████████████████████████████████| 50/50 [00:00<00:00, 74.96it/s]\n",
      " 16%|█████████████▎                                                                     | 8/50 [00:00<00:00, 72.24it/s]"
     ]
    },
    {
     "name": "stdout",
     "output_type": "stream",
     "text": [
      "-27.87027460190956 -34.86356178563886\n"
     ]
    },
    {
     "name": "stderr",
     "output_type": "stream",
     "text": [
      "100%|██████████████████████████████████████████████████████████████████████████████████| 50/50 [00:00<00:00, 72.59it/s]\n",
      " 16%|█████████████▎                                                                     | 8/50 [00:00<00:00, 72.63it/s]"
     ]
    },
    {
     "name": "stdout",
     "output_type": "stream",
     "text": [
      "-39.14845333162815 -46.462305672704595\n"
     ]
    },
    {
     "name": "stderr",
     "output_type": "stream",
     "text": [
      "100%|██████████████████████████████████████████████████████████████████████████████████| 50/50 [00:00<00:00, 59.94it/s]\n",
      " 16%|█████████████▎                                                                     | 8/50 [00:00<00:00, 73.59it/s]"
     ]
    },
    {
     "name": "stdout",
     "output_type": "stream",
     "text": [
      "-26.25982879940218 -28.57011922848187\n"
     ]
    },
    {
     "name": "stderr",
     "output_type": "stream",
     "text": [
      "100%|██████████████████████████████████████████████████████████████████████████████████| 50/50 [00:00<00:00, 72.26it/s]\n",
      " 16%|█████████████▎                                                                     | 8/50 [00:00<00:00, 71.62it/s]"
     ]
    },
    {
     "name": "stdout",
     "output_type": "stream",
     "text": [
      "-36.21660953669573 -36.128678527076524\n"
     ]
    },
    {
     "name": "stderr",
     "output_type": "stream",
     "text": [
      "100%|██████████████████████████████████████████████████████████████████████████████████| 50/50 [00:00<00:00, 72.66it/s]\n",
      " 16%|█████████████▎                                                                     | 8/50 [00:00<00:00, 74.97it/s]"
     ]
    },
    {
     "name": "stdout",
     "output_type": "stream",
     "text": [
      "-27.776831497247727 -36.278793789938916\n"
     ]
    },
    {
     "name": "stderr",
     "output_type": "stream",
     "text": [
      "100%|██████████████████████████████████████████████████████████████████████████████████| 50/50 [00:00<00:00, 73.14it/s]\n",
      " 16%|█████████████▎                                                                     | 8/50 [00:00<00:00, 73.60it/s]"
     ]
    },
    {
     "name": "stdout",
     "output_type": "stream",
     "text": [
      "-35.16486894621831 -43.200728440529076\n"
     ]
    },
    {
     "name": "stderr",
     "output_type": "stream",
     "text": [
      "100%|██████████████████████████████████████████████████████████████████████████████████| 50/50 [00:00<00:00, 72.60it/s]\n",
      " 16%|█████████████▎                                                                     | 8/50 [00:00<00:00, 74.95it/s]"
     ]
    },
    {
     "name": "stdout",
     "output_type": "stream",
     "text": [
      "-32.28616602618588 -26.089028867379675\n"
     ]
    },
    {
     "name": "stderr",
     "output_type": "stream",
     "text": [
      "100%|██████████████████████████████████████████████████████████████████████████████████| 50/50 [00:00<00:00, 59.85it/s]\n",
      " 16%|█████████████▎                                                                     | 8/50 [00:00<00:00, 71.62it/s]"
     ]
    },
    {
     "name": "stdout",
     "output_type": "stream",
     "text": [
      "-29.245337879350387 -23.73337164621177\n"
     ]
    },
    {
     "name": "stderr",
     "output_type": "stream",
     "text": [
      "100%|██████████████████████████████████████████████████████████████████████████████████| 50/50 [00:00<00:00, 73.58it/s]"
     ]
    },
    {
     "name": "stdout",
     "output_type": "stream",
     "text": [
      "-31.332792271641676 -33.61699404000714\n"
     ]
    },
    {
     "name": "stderr",
     "output_type": "stream",
     "text": [
      "\n"
     ]
    }
   ],
   "source": [
    "y_pred_compare_with_real=[]\n",
    "for i in range(n_data):\n",
    "    #print(x_train[i:i+1])\n",
    "    x_tensor.set_value(x_train[i:i+1].values)\n",
    "    hmc_posterior_pred = pm.sample_posterior_predictive(hmc_trace, 50, model)\n",
    "    #print(hmc_posterior_pred['yl'].shape)\n",
    "    print(np.mean(hmc_posterior_pred['yl']), y_test_np_array[i])\n",
    "    y_pred_compare_with_real.append(np.mean(hmc_posterior_pred['yl']))"
   ]
  },
  {
   "cell_type": "markdown",
   "metadata": {},
   "source": [
    "### 3.2 Make Predictions from raw x's ( x >>> z >>> y_hat )"
   ]
  },
  {
   "cell_type": "code",
   "execution_count": 17,
   "metadata": {},
   "outputs": [
    {
     "name": "stderr",
     "output_type": "stream",
     "text": [
      " 16%|█████████████▎                                                                     | 8/50 [00:00<00:00, 76.40it/s]"
     ]
    },
    {
     "name": "stdout",
     "output_type": "stream",
     "text": [
      "[[-33.72658798 -37.28890927 -35.57426139 -36.90013929 -31.60482607\n",
      "  -37.14017605 -37.11797666 -37.673012  ]]\n"
     ]
    },
    {
     "name": "stderr",
     "output_type": "stream",
     "text": [
      "100%|██████████████████████████████████████████████████████████████████████████████████| 50/50 [00:00<00:00, 71.98it/s]"
     ]
    },
    {
     "name": "stdout",
     "output_type": "stream",
     "text": [
      "-36.170457825082636\n",
      "-36.170457825082636\n"
     ]
    },
    {
     "name": "stderr",
     "output_type": "stream",
     "text": [
      "\n"
     ]
    }
   ],
   "source": [
    "np.random.seed(1)\n",
    "x_new_np_array=np.random.uniform(low=-4.0, high=4.0, size=n_predictors).reshape(1, -1)\n",
    "\n",
    "def y_hat_from_raw_x(x_new_np_array,RF,NN,SVM,KRR,KNN,GPR,GBR,pipeline_optimizer,ss1,hmc_trace):\n",
    "    #print(x_new_np_array)\n",
    "    ML_model_list=[\"RF\",\"NN\",\"SVM\",\"KRR\",\"KNN\",\"GPR\",\"GBR\",\"pipeline_optimizer\"]\n",
    "    y_new_list=[]\n",
    "    for current_model in ML_model_list:\n",
    "        y_pred=locals()[current_model].predict(ss1.transform(x_new_np_array))\n",
    "        y_new_list.append(y_pred[0])\n",
    "    y_new_nparray=np.array([y_new_list])\n",
    "    print(y_new_nparray)\n",
    "    df_y_new=pd.DataFrame(y_new_nparray, columns=['X%s' % i for i in range(0, num_ML_models)])\n",
    "\n",
    "\n",
    "    #print(df_y_new)\n",
    "    #y_tensor.set_value(validate_data.y.values)\n",
    "    x_tensor.set_value(df_y_new.values)\n",
    "    hmc_posterior_pred = pm.sample_posterior_predictive(hmc_trace, 50, model)\n",
    "    #print(hmc_posterior_pred['yl'].shape)\n",
    "    print(np.mean(hmc_posterior_pred['yl']))\n",
    "    return np.mean(hmc_posterior_pred['yl'])\n",
    "\n",
    "\n",
    "y_samplings=y_hat_from_raw_x(x_new_np_array,RF,NN,SVM,KRR,KNN,GPR,GBR,pipeline_optimizer,ss1,hmc_trace)\n",
    "\n",
    "#hmc_predictions = np.mean(y_samplings)\n",
    "#hmc_predictions_std = np.std(y_samplings)\n",
    "\n",
    "print(y_samplings)\n",
    "#sns.distplot(hmc_posterior_pred['yl'])"
   ]
  },
  {
   "cell_type": "code",
   "execution_count": 18,
   "metadata": {},
   "outputs": [],
   "source": [
    "def BOUND(x,lb_x,ub_x):\n",
    "    for i in range(len(x)):\n",
    "        x[i,0]=max(min(ub_x[i,0],x[i,0]),lb_x[i,0])\n",
    "    return x\n"
   ]
  },
  {
   "cell_type": "code",
   "execution_count": 19,
   "metadata": {},
   "outputs": [
    {
     "name": "stderr",
     "output_type": "stream",
     "text": [
      " 16%|█████████████▎                                                                     | 8/50 [00:00<00:00, 71.90it/s]"
     ]
    },
    {
     "name": "stdout",
     "output_type": "stream",
     "text": [
      "10 [[-1.35188453]\n",
      " [ 1.27767843]\n",
      " [-0.26765207]\n",
      " [ 3.03385256]\n",
      " [-1.84263787]\n",
      " [-1.16144521]\n",
      " [-1.43716568]\n",
      " [ 0.41390376]\n",
      " [-2.49424468]\n",
      " [-2.61404583]]\n",
      "c 0.8131393194811982\n",
      "[[-29.49849179 -28.29869147 -34.8097335  -30.30567431 -34.18359322\n",
      "  -32.4667037  -16.80950157 -25.15901893]]\n"
     ]
    },
    {
     "name": "stderr",
     "output_type": "stream",
     "text": [
      "100%|██████████████████████████████████████████████████████████████████████████████████| 50/50 [00:00<00:00, 69.88it/s]\n",
      " 14%|███████████▌                                                                       | 7/50 [00:00<00:00, 67.80it/s]"
     ]
    },
    {
     "name": "stdout",
     "output_type": "stream",
     "text": [
      "-27.265603828367336\n",
      "[[-29.70692271 -30.98838898 -32.83784669 -33.74139137 -29.61987622\n",
      "  -49.85784504 -30.90671616 -34.16557919]]\n"
     ]
    },
    {
     "name": "stderr",
     "output_type": "stream",
     "text": [
      "100%|██████████████████████████████████████████████████████████████████████████████████| 50/50 [00:00<00:00, 59.50it/s]\n",
      " 16%|█████████████▎                                                                     | 8/50 [00:00<00:00, 66.86it/s]"
     ]
    },
    {
     "name": "stdout",
     "output_type": "stream",
     "text": [
      "-33.8544567781414\n",
      "[[-29.70692271 -30.98838898 -32.83784669 -33.74139137 -29.61987622\n",
      "  -49.85784504 -30.90671616 -34.16557919]]\n"
     ]
    },
    {
     "name": "stderr",
     "output_type": "stream",
     "text": [
      "100%|██████████████████████████████████████████████████████████████████████████████████| 50/50 [00:00<00:00, 72.29it/s]\n",
      " 16%|█████████████▎                                                                     | 8/50 [00:00<00:00, 78.62it/s]"
     ]
    },
    {
     "name": "stdout",
     "output_type": "stream",
     "text": [
      "-33.38430525595531\n",
      "[[-33.98337545 -46.7769984  -35.85625077 -46.77952706 -44.99280469\n",
      "  -47.67589905 -36.64380099 -42.82993565]]\n"
     ]
    },
    {
     "name": "stderr",
     "output_type": "stream",
     "text": [
      "100%|██████████████████████████████████████████████████████████████████████████████████| 50/50 [00:00<00:00, 71.82it/s]\n",
      " 14%|███████████▌                                                                       | 7/50 [00:00<00:00, 66.20it/s]"
     ]
    },
    {
     "name": "stdout",
     "output_type": "stream",
     "text": [
      "-40.72014071516761\n",
      "[[-33.98337545 -46.7769984  -35.85625077 -46.77952706 -44.99280469\n",
      "  -47.67589905 -36.64380099 -42.82993565]]\n"
     ]
    },
    {
     "name": "stderr",
     "output_type": "stream",
     "text": [
      "100%|██████████████████████████████████████████████████████████████████████████████████| 50/50 [00:00<00:00, 71.59it/s]\n",
      " 16%|█████████████▎                                                                     | 8/50 [00:00<00:00, 76.39it/s]"
     ]
    },
    {
     "name": "stdout",
     "output_type": "stream",
     "text": [
      "-41.04855463017671\n",
      "[[-29.9256033  -34.04409227 -32.95571725 -30.24039155 -26.79010197\n",
      "  -41.8363642  -30.85781341 -35.6740765 ]]\n"
     ]
    },
    {
     "name": "stderr",
     "output_type": "stream",
     "text": [
      "100%|██████████████████████████████████████████████████████████████████████████████████| 50/50 [00:00<00:00, 71.41it/s]\n",
      " 16%|█████████████▎                                                                     | 8/50 [00:00<00:00, 69.74it/s]"
     ]
    },
    {
     "name": "stdout",
     "output_type": "stream",
     "text": [
      "-33.260449844718835\n",
      "[[-29.9256033  -34.04409227 -32.95571725 -30.24039155 -26.79010197\n",
      "  -41.8363642  -30.85781341 -35.6740765 ]]\n"
     ]
    },
    {
     "name": "stderr",
     "output_type": "stream",
     "text": [
      "100%|██████████████████████████████████████████████████████████████████████████████████| 50/50 [00:00<00:00, 58.18it/s]\n",
      " 16%|█████████████▎                                                                     | 8/50 [00:00<00:00, 74.95it/s]"
     ]
    },
    {
     "name": "stdout",
     "output_type": "stream",
     "text": [
      "-33.491176070626665\n",
      "[[-32.98181162 -56.03495676 -27.96432619 -52.25653811 -26.58548113\n",
      "  -65.53772431 -44.71450704 -40.01341255]]\n"
     ]
    },
    {
     "name": "stderr",
     "output_type": "stream",
     "text": [
      "100%|██████████████████████████████████████████████████████████████████████████████████| 50/50 [00:00<00:00, 72.66it/s]\n",
      " 16%|█████████████▎                                                                     | 8/50 [00:00<00:00, 76.02it/s]"
     ]
    },
    {
     "name": "stdout",
     "output_type": "stream",
     "text": [
      "-40.37805181244901\n",
      "[[-32.98181162 -56.03495676 -27.96432619 -52.25653811 -26.58548113\n",
      "  -65.53772431 -44.71450704 -40.01341255]]\n"
     ]
    },
    {
     "name": "stderr",
     "output_type": "stream",
     "text": [
      "100%|██████████████████████████████████████████████████████████████████████████████████| 50/50 [00:00<00:00, 70.57it/s]\n",
      " 16%|█████████████▎                                                                     | 8/50 [00:00<00:00, 77.14it/s]"
     ]
    },
    {
     "name": "stdout",
     "output_type": "stream",
     "text": [
      "-40.33125911903925\n",
      "[[-32.85089398 -43.72606916 -30.9245061  -38.4166657  -26.58548113\n",
      "  -37.05123776 -44.71450704 -28.44673864]]\n"
     ]
    },
    {
     "name": "stderr",
     "output_type": "stream",
     "text": [
      "100%|██████████████████████████████████████████████████████████████████████████████████| 50/50 [00:00<00:00, 74.16it/s]\n",
      " 16%|█████████████▎                                                                     | 8/50 [00:00<00:00, 73.60it/s]"
     ]
    },
    {
     "name": "stdout",
     "output_type": "stream",
     "text": [
      "-33.16907007070058\n",
      "[[-32.85089398 -43.72606916 -30.9245061  -38.4166657  -26.58548113\n",
      "  -37.05123776 -44.71450704 -28.44673864]]\n"
     ]
    },
    {
     "name": "stderr",
     "output_type": "stream",
     "text": [
      "100%|██████████████████████████████████████████████████████████████████████████████████| 50/50 [00:00<00:00, 72.88it/s]\n",
      " 16%|█████████████▎                                                                     | 8/50 [00:00<00:00, 76.40it/s]"
     ]
    },
    {
     "name": "stdout",
     "output_type": "stream",
     "text": [
      "-33.20593227836549\n",
      "[[-26.48495738 -30.32881492 -32.34196445 -23.51457016 -26.58548113\n",
      "   -8.03222089 -27.69772693 -28.00830817]]\n"
     ]
    },
    {
     "name": "stderr",
     "output_type": "stream",
     "text": [
      "100%|██████████████████████████████████████████████████████████████████████████████████| 50/50 [00:00<00:00, 57.63it/s]\n",
      " 16%|█████████████▎                                                                     | 8/50 [00:00<00:00, 70.99it/s]"
     ]
    },
    {
     "name": "stdout",
     "output_type": "stream",
     "text": [
      "-26.705258344296507\n",
      "[[-26.48495738 -30.32881492 -32.34196445 -23.51457016 -26.58548113\n",
      "   -8.03222089 -27.69772693 -28.00830817]]\n"
     ]
    },
    {
     "name": "stderr",
     "output_type": "stream",
     "text": [
      "100%|██████████████████████████████████████████████████████████████████████████████████| 50/50 [00:00<00:00, 67.36it/s]\n",
      " 16%|█████████████▎                                                                     | 8/50 [00:00<00:00, 70.36it/s]"
     ]
    },
    {
     "name": "stdout",
     "output_type": "stream",
     "text": [
      "-26.53106896282991\n",
      "[[-30.18127279 -44.4299847  -35.11876491 -47.34265623 -36.93135369\n",
      "  -36.57495255 -45.57227313 -40.64671869]]\n"
     ]
    },
    {
     "name": "stderr",
     "output_type": "stream",
     "text": [
      "100%|██████████████████████████████████████████████████████████████████████████████████| 50/50 [00:00<00:00, 72.13it/s]\n",
      " 14%|███████████▌                                                                       | 7/50 [00:00<00:00, 69.49it/s]"
     ]
    },
    {
     "name": "stdout",
     "output_type": "stream",
     "text": [
      "-39.254378287810376\n",
      "[[-30.18127279 -44.4299847  -35.11876491 -47.34265623 -36.93135369\n",
      "  -36.57495255 -45.57227313 -40.64671869]]\n"
     ]
    },
    {
     "name": "stderr",
     "output_type": "stream",
     "text": [
      "100%|██████████████████████████████████████████████████████████████████████████████████| 50/50 [00:00<00:00, 70.00it/s]\n",
      " 16%|█████████████▎                                                                     | 8/50 [00:00<00:00, 74.97it/s]"
     ]
    },
    {
     "name": "stdout",
     "output_type": "stream",
     "text": [
      "-39.520586446357136\n",
      "[[-31.05983592 -37.31113535 -33.11238632 -29.61923572 -28.9756437\n",
      "  -37.42794873 -27.9425535  -30.36360411]]\n"
     ]
    },
    {
     "name": "stderr",
     "output_type": "stream",
     "text": [
      "100%|██████████████████████████████████████████████████████████████████████████████████| 50/50 [00:00<00:00, 59.05it/s]\n",
      " 16%|█████████████▎                                                                     | 8/50 [00:00<00:00, 75.24it/s]"
     ]
    },
    {
     "name": "stdout",
     "output_type": "stream",
     "text": [
      "-31.118648507884767\n",
      "[[-31.05983592 -37.31113535 -33.11238632 -29.61923572 -28.9756437\n",
      "  -37.42794873 -27.9425535  -30.36360411]]\n"
     ]
    },
    {
     "name": "stderr",
     "output_type": "stream",
     "text": [
      "100%|██████████████████████████████████████████████████████████████████████████████████| 50/50 [00:00<00:00, 72.49it/s]\n",
      " 16%|█████████████▎                                                                     | 8/50 [00:00<00:00, 79.73it/s]"
     ]
    },
    {
     "name": "stdout",
     "output_type": "stream",
     "text": [
      "-30.972063857564383\n",
      "[[-31.47083379 -42.13988409 -31.02992228 -32.41058099 -26.26806459\n",
      "  -22.82518889 -27.51506402 -31.33928477]]\n"
     ]
    },
    {
     "name": "stderr",
     "output_type": "stream",
     "text": [
      "100%|██████████████████████████████████████████████████████████████████████████████████| 50/50 [00:00<00:00, 74.32it/s]\n",
      " 16%|█████████████▎                                                                     | 8/50 [00:00<00:00, 72.90it/s]"
     ]
    },
    {
     "name": "stdout",
     "output_type": "stream",
     "text": [
      "-30.591399406778276\n",
      "[[-31.47083379 -42.13988409 -31.02992228 -32.41058099 -26.26806459\n",
      "  -22.82518889 -27.51506402 -31.33928477]]\n"
     ]
    },
    {
     "name": "stderr",
     "output_type": "stream",
     "text": [
      "100%|██████████████████████████████████████████████████████████████████████████████████| 50/50 [00:00<00:00, 72.22it/s]\n",
      " 16%|█████████████▎                                                                     | 8/50 [00:00<00:00, 77.15it/s]"
     ]
    },
    {
     "name": "stdout",
     "output_type": "stream",
     "text": [
      "-30.40116902271654\n",
      "[[-34.82749624 -46.99667691 -31.99565451 -41.20908314 -26.58548113\n",
      "  -40.22260386 -44.05800109 -30.56824663]]\n"
     ]
    },
    {
     "name": "stderr",
     "output_type": "stream",
     "text": [
      "100%|██████████████████████████████████████████████████████████████████████████████████| 50/50 [00:00<00:00, 72.44it/s]\n",
      " 16%|█████████████▎                                                                     | 8/50 [00:00<00:00, 77.88it/s]"
     ]
    },
    {
     "name": "stdout",
     "output_type": "stream",
     "text": [
      "-34.56260058083144\n",
      "[[-34.82749624 -46.99667691 -31.99565451 -41.20908314 -26.58548113\n",
      "  -40.22260386 -44.05800109 -30.56824663]]\n"
     ]
    },
    {
     "name": "stderr",
     "output_type": "stream",
     "text": [
      "100%|██████████████████████████████████████████████████████████████████████████████████| 50/50 [00:00<00:00, 60.43it/s]\n",
      " 16%|█████████████▎                                                                     | 8/50 [00:00<00:00, 72.94it/s]"
     ]
    },
    {
     "name": "stdout",
     "output_type": "stream",
     "text": [
      "-34.594029044488515\n",
      "[[-38.8316939  -39.06600802 -35.27165199 -44.43359948 -38.87251059\n",
      "  -39.0643245  -39.73437378 -47.11627196]]\n"
     ]
    },
    {
     "name": "stderr",
     "output_type": "stream",
     "text": [
      "100%|██████████████████████████████████████████████████████████████████████████████████| 50/50 [00:00<00:00, 70.91it/s]\n",
      " 16%|█████████████▎                                                                     | 8/50 [00:00<00:00, 73.57it/s]"
     ]
    },
    {
     "name": "stdout",
     "output_type": "stream",
     "text": [
      "-41.78634764068045\n",
      "[[-38.8316939  -39.06600802 -35.27165199 -44.43359948 -38.87251059\n",
      "  -39.0643245  -39.73437378 -47.11627196]]\n"
     ]
    },
    {
     "name": "stderr",
     "output_type": "stream",
     "text": [
      "100%|██████████████████████████████████████████████████████████████████████████████████| 50/50 [00:00<00:00, 74.49it/s]\n",
      " 16%|█████████████▎                                                                     | 8/50 [00:00<00:00, 72.92it/s]"
     ]
    },
    {
     "name": "stdout",
     "output_type": "stream",
     "text": [
      "-41.87736529603379\n",
      "[[-39.72885878 -58.85325351 -37.32015276 -37.75724449 -35.30300943\n",
      "  -44.83960058 -28.7055826  -48.05736033]]\n"
     ]
    },
    {
     "name": "stderr",
     "output_type": "stream",
     "text": [
      "100%|██████████████████████████████████████████████████████████████████████████████████| 50/50 [00:00<00:00, 74.64it/s]\n",
      " 16%|█████████████▎                                                                     | 8/50 [00:00<00:00, 72.25it/s]"
     ]
    },
    {
     "name": "stdout",
     "output_type": "stream",
     "text": [
      "-41.91826089060215\n",
      "[[-39.72885878 -58.85325351 -37.32015276 -37.75724449 -35.30300943\n",
      "  -44.83960058 -28.7055826  -48.05736033]]\n"
     ]
    },
    {
     "name": "stderr",
     "output_type": "stream",
     "text": [
      "100%|██████████████████████████████████████████████████████████████████████████████████| 50/50 [00:00<00:00, 72.03it/s]\n",
      " 16%|█████████████▎                                                                     | 8/50 [00:00<00:00, 74.97it/s]"
     ]
    },
    {
     "name": "stdout",
     "output_type": "stream",
     "text": [
      "-42.04372382734414\n",
      "[[-33.64426172 -40.44446536 -33.72210781 -43.3761206  -36.02098807\n",
      "  -61.78199177 -47.49462833 -46.01057778]]\n"
     ]
    },
    {
     "name": "stderr",
     "output_type": "stream",
     "text": [
      "100%|██████████████████████████████████████████████████████████████████████████████████| 50/50 [00:00<00:00, 60.27it/s]\n",
      " 16%|█████████████▎                                                                     | 8/50 [00:00<00:00, 77.85it/s]"
     ]
    },
    {
     "name": "stdout",
     "output_type": "stream",
     "text": [
      "-43.10136233853939\n",
      "[[-33.64426172 -40.44446536 -33.72210781 -43.3761206  -36.02098807\n",
      "  -61.78199177 -47.49462833 -46.01057778]]\n"
     ]
    },
    {
     "name": "stderr",
     "output_type": "stream",
     "text": [
      "100%|██████████████████████████████████████████████████████████████████████████████████| 50/50 [00:00<00:00, 73.68it/s]\n",
      " 16%|█████████████▎                                                                     | 8/50 [00:00<00:00, 74.28it/s]"
     ]
    },
    {
     "name": "stdout",
     "output_type": "stream",
     "text": [
      "-43.158388283367444\n",
      "[[-36.10114117 -35.26594118 -33.06336999 -33.44705852 -34.32830217\n",
      "  -20.33372568 -45.60750494 -39.65813839]]\n"
     ]
    },
    {
     "name": "stderr",
     "output_type": "stream",
     "text": [
      "100%|██████████████████████████████████████████████████████████████████████████████████| 50/50 [00:00<00:00, 73.33it/s]\n",
      " 16%|█████████████▎                                                                     | 8/50 [00:00<00:00, 75.65it/s]"
     ]
    },
    {
     "name": "stdout",
     "output_type": "stream",
     "text": [
      "-36.820026097747935\n",
      "[[-36.10114117 -35.26594118 -33.06336999 -33.44705852 -34.32830217\n",
      "  -20.33372568 -45.60750494 -39.65813839]]\n"
     ]
    },
    {
     "name": "stderr",
     "output_type": "stream",
     "text": [
      "100%|██████████████████████████████████████████████████████████████████████████████████| 50/50 [00:00<00:00, 72.33it/s]\n",
      " 16%|█████████████▎                                                                     | 8/50 [00:00<00:00, 77.10it/s]"
     ]
    },
    {
     "name": "stdout",
     "output_type": "stream",
     "text": [
      "-37.01038663547294\n",
      "[[-38.98187575 -50.28273929 -30.95119079 -46.02196459 -32.03636696\n",
      "  -66.49083206 -43.73239666 -43.05631171]]\n"
     ]
    },
    {
     "name": "stderr",
     "output_type": "stream",
     "text": [
      "100%|██████████████████████████████████████████████████████████████████████████████████| 50/50 [00:00<00:00, 60.18it/s]\n",
      " 16%|█████████████▎                                                                     | 8/50 [00:00<00:00, 77.14it/s]"
     ]
    },
    {
     "name": "stdout",
     "output_type": "stream",
     "text": [
      "-42.06864782184628\n",
      "[[-38.98187575 -50.28273929 -30.95119079 -46.02196459 -32.03636696\n",
      "  -66.49083206 -43.73239666 -43.05631171]]\n"
     ]
    },
    {
     "name": "stderr",
     "output_type": "stream",
     "text": [
      "100%|██████████████████████████████████████████████████████████████████████████████████| 50/50 [00:00<00:00, 74.50it/s]\n",
      " 16%|█████████████▎                                                                     | 8/50 [00:00<00:00, 79.72it/s]"
     ]
    },
    {
     "name": "stdout",
     "output_type": "stream",
     "text": [
      "-42.142586609337165\n",
      "[[-32.36063078 -38.73904261 -36.92204927 -41.31310216 -32.10078032\n",
      "  -28.07074194 -40.38102079 -39.80460562]]\n"
     ]
    },
    {
     "name": "stderr",
     "output_type": "stream",
     "text": [
      "100%|██████████████████████████████████████████████████████████████████████████████████| 50/50 [00:00<00:00, 73.75it/s]\n",
      " 16%|█████████████▎                                                                     | 8/50 [00:00<00:00, 74.14it/s]"
     ]
    },
    {
     "name": "stdout",
     "output_type": "stream",
     "text": [
      "-37.37218672884617\n",
      "[[-32.36063078 -38.73904261 -36.92204927 -41.31310216 -32.10078032\n",
      "  -28.07074194 -40.38102079 -39.80460562]]\n"
     ]
    },
    {
     "name": "stderr",
     "output_type": "stream",
     "text": [
      "100%|██████████████████████████████████████████████████████████████████████████████████| 50/50 [00:00<00:00, 73.22it/s]\n",
      " 16%|█████████████▎                                                                     | 8/50 [00:00<00:00, 76.40it/s]"
     ]
    },
    {
     "name": "stdout",
     "output_type": "stream",
     "text": [
      "-37.15024417173259\n",
      "[[-27.48806785 -30.33728757 -31.04133147 -47.40141922 -32.10078032\n",
      "  -40.91833303 -24.68494022 -40.19365178]]\n"
     ]
    },
    {
     "name": "stderr",
     "output_type": "stream",
     "text": [
      "100%|██████████████████████████████████████████████████████████████████████████████████| 50/50 [00:00<00:00, 72.49it/s]\n",
      " 16%|█████████████▎                                                                     | 8/50 [00:00<00:00, 72.90it/s]"
     ]
    },
    {
     "name": "stdout",
     "output_type": "stream",
     "text": [
      "-35.01792444148171\n",
      "[[-27.48806785 -30.33728757 -31.04133147 -47.40141922 -32.10078032\n",
      "  -40.91833303 -24.68494022 -40.19365178]]\n"
     ]
    },
    {
     "name": "stderr",
     "output_type": "stream",
     "text": [
      "100%|██████████████████████████████████████████████████████████████████████████████████| 50/50 [00:00<00:00, 58.70it/s]\n",
      " 16%|█████████████▎                                                                     | 8/50 [00:00<00:00, 74.94it/s]"
     ]
    },
    {
     "name": "stdout",
     "output_type": "stream",
     "text": [
      "-35.271515966073004\n",
      "[[-34.6021951  -24.0080659  -32.91264493 -28.43954182 -24.65423094\n",
      "  -34.32445417 -44.93859306 -34.85512072]]\n"
     ]
    },
    {
     "name": "stderr",
     "output_type": "stream",
     "text": [
      "100%|██████████████████████████████████████████████████████████████████████████████████| 50/50 [00:00<00:00, 72.17it/s]\n",
      " 16%|█████████████▎                                                                     | 8/50 [00:00<00:00, 77.88it/s]"
     ]
    },
    {
     "name": "stdout",
     "output_type": "stream",
     "text": [
      "-34.228702053708425\n",
      "[[-34.6021951  -24.0080659  -32.91264493 -28.43954182 -24.65423094\n",
      "  -34.32445417 -44.93859306 -34.85512072]]\n"
     ]
    },
    {
     "name": "stderr",
     "output_type": "stream",
     "text": [
      "100%|██████████████████████████████████████████████████████████████████████████████████| 50/50 [00:00<00:00, 74.32it/s]\n",
      " 16%|█████████████▎                                                                     | 8/50 [00:00<00:00, 71.61it/s]"
     ]
    },
    {
     "name": "stdout",
     "output_type": "stream",
     "text": [
      "-34.16540402910624\n",
      "[[-32.56452045 -25.70372755 -32.98851076 -24.29552017 -26.25548076\n",
      "  -16.4899291  -28.01350205 -28.00916931]]\n"
     ]
    },
    {
     "name": "stderr",
     "output_type": "stream",
     "text": [
      "100%|██████████████████████████████████████████████████████████████████████████████████| 50/50 [00:00<00:00, 72.24it/s]\n",
      " 16%|█████████████▎                                                                     | 8/50 [00:00<00:00, 70.97it/s]"
     ]
    },
    {
     "name": "stdout",
     "output_type": "stream",
     "text": [
      "-27.93349438963166\n",
      "[[-32.56452045 -25.70372755 -32.98851076 -24.29552017 -26.25548076\n",
      "  -16.4899291  -28.01350205 -28.00916931]]\n"
     ]
    },
    {
     "name": "stderr",
     "output_type": "stream",
     "text": [
      "100%|██████████████████████████████████████████████████████████████████████████████████| 50/50 [00:00<00:00, 73.19it/s]\n",
      " 16%|█████████████▎                                                                     | 8/50 [00:00<00:00, 77.15it/s]"
     ]
    },
    {
     "name": "stdout",
     "output_type": "stream",
     "text": [
      "-27.82528061829349\n",
      "[[-40.46054084 -40.61493505 -33.57650657 -37.96012533 -25.25177559\n",
      "  -43.4296727  -28.71238495 -41.07741873]]\n"
     ]
    },
    {
     "name": "stderr",
     "output_type": "stream",
     "text": [
      "100%|██████████████████████████████████████████████████████████████████████████████████| 50/50 [00:00<00:00, 60.37it/s]\n",
      " 16%|█████████████▎                                                                     | 8/50 [00:00<00:00, 72.90it/s]"
     ]
    },
    {
     "name": "stdout",
     "output_type": "stream",
     "text": [
      "-37.36732690855183\n",
      "[[-40.46054084 -40.61493505 -33.57650657 -37.96012533 -25.25177559\n",
      "  -43.4296727  -28.71238495 -41.07741873]]\n"
     ]
    },
    {
     "name": "stderr",
     "output_type": "stream",
     "text": [
      "100%|██████████████████████████████████████████████████████████████████████████████████| 50/50 [00:00<00:00, 72.00it/s]\n",
      " 16%|█████████████▎                                                                     | 8/50 [00:00<00:00, 73.59it/s]"
     ]
    },
    {
     "name": "stdout",
     "output_type": "stream",
     "text": [
      "-37.33302516640775\n",
      "[[-39.66729475 -38.68630458 -35.03895478 -38.20975491 -33.20668267\n",
      "  -35.38719521 -42.59769231 -39.46451775]]\n"
     ]
    },
    {
     "name": "stderr",
     "output_type": "stream",
     "text": [
      "100%|██████████████████████████████████████████████████████████████████████████████████| 50/50 [00:00<00:00, 72.24it/s]\n",
      " 16%|█████████████▎                                                                     | 8/50 [00:00<00:00, 70.63it/s]"
     ]
    },
    {
     "name": "stdout",
     "output_type": "stream",
     "text": [
      "-38.502326406792896\n",
      "[[-39.66729475 -38.68630458 -35.03895478 -38.20975491 -33.20668267\n",
      "  -35.38719521 -42.59769231 -39.46451775]]\n"
     ]
    },
    {
     "name": "stderr",
     "output_type": "stream",
     "text": [
      "100%|██████████████████████████████████████████████████████████████████████████████████| 50/50 [00:00<00:00, 72.91it/s]\n",
      " 16%|█████████████▎                                                                     | 8/50 [00:00<00:00, 77.51it/s]"
     ]
    },
    {
     "name": "stdout",
     "output_type": "stream",
     "text": [
      "-38.49938712198119\n",
      "[[-37.18324886 -36.10226414 -36.47701784 -39.64565829 -33.20668267\n",
      "  -32.69852269 -28.10931011 -35.07499873]]\n"
     ]
    },
    {
     "name": "stderr",
     "output_type": "stream",
     "text": [
      "100%|██████████████████████████████████████████████████████████████████████████████████| 50/50 [00:00<00:00, 68.99it/s]\n",
      "  0%|                                                                                           | 0/50 [00:00<?, ?it/s]"
     ]
    },
    {
     "name": "stdout",
     "output_type": "stream",
     "text": [
      "-34.63742471824478\n",
      "[[-37.18324886 -36.10226414 -36.47701784 -39.64565829 -33.20668267\n",
      "  -32.69852269 -28.10931011 -35.07499873]]\n"
     ]
    },
    {
     "name": "stderr",
     "output_type": "stream",
     "text": [
      "100%|██████████████████████████████████████████████████████████████████████████████████| 50/50 [00:00<00:00, 54.49it/s]\n",
      " 14%|███████████▌                                                                       | 7/50 [00:00<00:00, 67.16it/s]"
     ]
    },
    {
     "name": "stdout",
     "output_type": "stream",
     "text": [
      "-34.65531406372597\n",
      "[[-34.99539695 -40.65519897 -34.5821889  -33.53277232 -35.9293157\n",
      "  -48.84096741 -33.55741102 -34.50600714]]\n"
     ]
    },
    {
     "name": "stderr",
     "output_type": "stream",
     "text": [
      "100%|██████████████████████████████████████████████████████████████████████████████████| 50/50 [00:00<00:00, 69.29it/s]\n",
      " 14%|███████████▌                                                                       | 7/50 [00:00<00:00, 66.83it/s]"
     ]
    },
    {
     "name": "stdout",
     "output_type": "stream",
     "text": [
      "-35.59659460678512\n",
      "[[-34.99539695 -40.65519897 -34.5821889  -33.53277232 -35.9293157\n",
      "  -48.84096741 -33.55741102 -34.50600714]]\n"
     ]
    },
    {
     "name": "stderr",
     "output_type": "stream",
     "text": [
      "100%|██████████████████████████████████████████████████████████████████████████████████| 50/50 [00:00<00:00, 65.54it/s]\n",
      " 14%|███████████▌                                                                       | 7/50 [00:00<00:00, 60.47it/s]"
     ]
    },
    {
     "name": "stdout",
     "output_type": "stream",
     "text": [
      "-35.47563829840093\n",
      "[[-39.35647445 -47.72943573 -38.40702709 -51.53369552 -44.50266926\n",
      "  -55.56704723 -48.21466182 -48.37144852]]\n"
     ]
    },
    {
     "name": "stderr",
     "output_type": "stream",
     "text": [
      "100%|██████████████████████████████████████████████████████████████████████████████████| 50/50 [00:00<00:00, 64.02it/s]\n",
      " 14%|███████████▌                                                                       | 7/50 [00:00<00:00, 68.47it/s]"
     ]
    },
    {
     "name": "stdout",
     "output_type": "stream",
     "text": [
      "-46.2645458713973\n",
      "[[-39.35647445 -47.72943573 -38.40702709 -51.53369552 -44.50266926\n",
      "  -55.56704723 -48.21466182 -48.37144852]]\n"
     ]
    },
    {
     "name": "stderr",
     "output_type": "stream",
     "text": [
      "100%|██████████████████████████████████████████████████████████████████████████████████| 50/50 [00:00<00:00, 55.55it/s]\n",
      " 14%|███████████▌                                                                       | 7/50 [00:00<00:00, 67.81it/s]"
     ]
    },
    {
     "name": "stdout",
     "output_type": "stream",
     "text": [
      "-46.25485196551312\n",
      "[[-40.34957531 -44.31195761 -36.41976246 -52.66637979 -40.69086022\n",
      "  -51.16983676 -29.26496976 -48.76153174]]\n"
     ]
    },
    {
     "name": "stderr",
     "output_type": "stream",
     "text": [
      "100%|██████████████████████████████████████████████████████████████████████████████████| 50/50 [00:00<00:00, 68.06it/s]\n",
      " 14%|███████████▌                                                                       | 7/50 [00:00<00:00, 68.12it/s]"
     ]
    },
    {
     "name": "stdout",
     "output_type": "stream",
     "text": [
      "-43.25451738314511\n",
      "[[-40.34957531 -44.31195761 -36.41976246 -52.66637979 -40.69086022\n",
      "  -51.16983676 -29.26496976 -48.76153174]]\n"
     ]
    },
    {
     "name": "stderr",
     "output_type": "stream",
     "text": [
      "100%|██████████████████████████████████████████████████████████████████████████████████| 50/50 [00:00<00:00, 68.11it/s]\n",
      " 14%|███████████▌                                                                       | 7/50 [00:00<00:00, 68.12it/s]"
     ]
    },
    {
     "name": "stdout",
     "output_type": "stream",
     "text": [
      "-43.344618953944895\n",
      "[[-37.02322541 -46.4824886  -35.91735892 -49.69626224 -40.69086022\n",
      "  -48.04707217 -29.7451931  -45.88910041]]\n"
     ]
    },
    {
     "name": "stderr",
     "output_type": "stream",
     "text": [
      "100%|██████████████████████████████████████████████████████████████████████████████████| 50/50 [00:00<00:00, 70.16it/s]\n",
      " 14%|███████████▌                                                                       | 7/50 [00:00<00:00, 64.99it/s]"
     ]
    },
    {
     "name": "stdout",
     "output_type": "stream",
     "text": [
      "-41.58419449905649\n",
      "[[-37.02322541 -46.4824886  -35.91735892 -49.69626224 -40.69086022\n",
      "  -48.04707217 -29.7451931  -45.88910041]]\n"
     ]
    },
    {
     "name": "stderr",
     "output_type": "stream",
     "text": [
      "100%|██████████████████████████████████████████████████████████████████████████████████| 50/50 [00:00<00:00, 64.69it/s]\n",
      " 14%|███████████▌                                                                       | 7/50 [00:00<00:00, 65.87it/s]"
     ]
    },
    {
     "name": "stdout",
     "output_type": "stream",
     "text": [
      "-41.20774713054088\n",
      "[[-38.56500403 -43.74656573 -37.43852962 -44.35330981 -44.27482605\n",
      "  -37.2290137  -28.61172993 -42.95640532]]\n"
     ]
    },
    {
     "name": "stderr",
     "output_type": "stream",
     "text": [
      "100%|██████████████████████████████████████████████████████████████████████████████████| 50/50 [00:00<00:00, 59.09it/s]\n",
      " 16%|█████████████▎                                                                     | 8/50 [00:00<00:00, 71.64it/s]"
     ]
    },
    {
     "name": "stdout",
     "output_type": "stream",
     "text": [
      "-39.59619576381588\n",
      "[[-38.56500403 -43.74656573 -37.43852962 -44.35330981 -44.27482605\n",
      "  -37.2290137  -28.61172993 -42.95640532]]\n"
     ]
    },
    {
     "name": "stderr",
     "output_type": "stream",
     "text": [
      "100%|██████████████████████████████████████████████████████████████████████████████████| 50/50 [00:00<00:00, 72.87it/s]\n",
      " 16%|█████████████▎                                                                     | 8/50 [00:00<00:00, 73.66it/s]"
     ]
    },
    {
     "name": "stdout",
     "output_type": "stream",
     "text": [
      "-39.87031683857818\n",
      "[[-38.21713428 -47.97538691 -42.46090159 -57.25387252 -42.55384169\n",
      "  -72.88177038 -28.1195858  -48.20886286]]\n"
     ]
    },
    {
     "name": "stderr",
     "output_type": "stream",
     "text": [
      "100%|██████████████████████████████████████████████████████████████████████████████████| 50/50 [00:00<00:00, 73.68it/s]\n",
      " 16%|█████████████▎                                                                     | 8/50 [00:00<00:00, 71.60it/s]"
     ]
    },
    {
     "name": "stdout",
     "output_type": "stream",
     "text": [
      "-45.65206259716204\n",
      "[[-38.21713428 -47.97538691 -42.46090159 -57.25387252 -42.55384169\n",
      "  -72.88177038 -28.1195858  -48.20886286]]\n"
     ]
    },
    {
     "name": "stderr",
     "output_type": "stream",
     "text": [
      "100%|██████████████████████████████████████████████████████████████████████████████████| 50/50 [00:00<00:00, 72.55it/s]\n",
      " 16%|█████████████▎                                                                     | 8/50 [00:00<00:00, 75.27it/s]"
     ]
    },
    {
     "name": "stdout",
     "output_type": "stream",
     "text": [
      "-45.459410617453514\n",
      "[[-37.72132307 -35.52375794 -34.62315357 -41.85605115 -28.67298136\n",
      "  -39.98044285 -28.04971569 -39.15713062]]\n"
     ]
    },
    {
     "name": "stderr",
     "output_type": "stream",
     "text": [
      "100%|██████████████████████████████████████████████████████████████████████████████████| 50/50 [00:00<00:00, 60.08it/s]\n",
      " 16%|█████████████▎                                                                     | 8/50 [00:00<00:00, 76.39it/s]"
     ]
    },
    {
     "name": "stdout",
     "output_type": "stream",
     "text": [
      "-36.38612254080769\n",
      "[[-37.72132307 -35.52375794 -34.62315357 -41.85605115 -28.67298136\n",
      "  -39.98044285 -28.04971569 -39.15713062]]\n"
     ]
    },
    {
     "name": "stderr",
     "output_type": "stream",
     "text": [
      "100%|██████████████████████████████████████████████████████████████████████████████████| 50/50 [00:00<00:00, 72.97it/s]\n",
      " 16%|█████████████▎                                                                     | 8/50 [00:00<00:00, 72.28it/s]"
     ]
    },
    {
     "name": "stdout",
     "output_type": "stream",
     "text": [
      "-36.48454251341018\n",
      "[[-35.24303381 -44.87881782 -32.65450201 -46.94598694 -36.02098807\n",
      "  -55.94706671 -39.83707444 -46.79702411]]\n"
     ]
    },
    {
     "name": "stderr",
     "output_type": "stream",
     "text": [
      "100%|██████████████████████████████████████████████████████████████████████████████████| 50/50 [00:00<00:00, 72.14it/s]\n",
      " 16%|█████████████▎                                                                     | 8/50 [00:00<00:00, 75.98it/s]"
     ]
    },
    {
     "name": "stdout",
     "output_type": "stream",
     "text": [
      "-42.47661211813566\n",
      "[[-35.24303381 -44.87881782 -32.65450201 -46.94598694 -36.02098807\n",
      "  -55.94706671 -39.83707444 -46.79702411]]\n"
     ]
    },
    {
     "name": "stderr",
     "output_type": "stream",
     "text": [
      "100%|██████████████████████████████████████████████████████████████████████████████████| 50/50 [00:00<00:00, 73.07it/s]\n",
      " 16%|█████████████▎                                                                     | 8/50 [00:00<00:00, 69.16it/s]"
     ]
    },
    {
     "name": "stdout",
     "output_type": "stream",
     "text": [
      "-42.55867707652694\n",
      "[[-34.44870128 -43.19125593 -34.21091014 -44.59103375 -26.95749908\n",
      "  -53.06731239 -36.68438711 -41.27429293]]\n"
     ]
    },
    {
     "name": "stderr",
     "output_type": "stream",
     "text": [
      "100%|██████████████████████████████████████████████████████████████████████████████████| 50/50 [00:00<00:00, 70.61it/s]\n",
      " 16%|█████████████▎                                                                     | 8/50 [00:00<00:00, 73.36it/s]"
     ]
    },
    {
     "name": "stdout",
     "output_type": "stream",
     "text": [
      "-38.92077282537018\n",
      "[[-34.44870128 -43.19125593 -34.21091014 -44.59103375 -26.95749908\n",
      "  -53.06731239 -36.68438711 -41.27429293]]\n"
     ]
    },
    {
     "name": "stderr",
     "output_type": "stream",
     "text": [
      "100%|██████████████████████████████████████████████████████████████████████████████████| 50/50 [00:00<00:00, 55.50it/s]\n",
      " 16%|█████████████▎                                                                     | 8/50 [00:00<00:00, 72.91it/s]"
     ]
    },
    {
     "name": "stdout",
     "output_type": "stream",
     "text": [
      "-38.96147619717148\n",
      "[[-29.49693756 -32.9272042  -32.9530844  -27.51584817 -30.78687601\n",
      "  -14.86207903 -27.23543634 -27.72795506]]\n"
     ]
    },
    {
     "name": "stderr",
     "output_type": "stream",
     "text": [
      "100%|██████████████████████████████████████████████████████████████████████████████████| 50/50 [00:00<00:00, 72.30it/s]\n",
      " 16%|█████████████▎                                                                     | 8/50 [00:00<00:00, 79.40it/s]"
     ]
    },
    {
     "name": "stdout",
     "output_type": "stream",
     "text": [
      "-28.345911203193573\n",
      "[[-29.49693756 -32.9272042  -32.9530844  -27.51584817 -30.78687601\n",
      "  -14.86207903 -27.23543634 -27.72795506]]\n"
     ]
    },
    {
     "name": "stderr",
     "output_type": "stream",
     "text": [
      "100%|██████████████████████████████████████████████████████████████████████████████████| 50/50 [00:00<00:00, 73.83it/s]\n",
      " 16%|█████████████▎                                                                     | 8/50 [00:00<00:00, 73.59it/s]"
     ]
    },
    {
     "name": "stdout",
     "output_type": "stream",
     "text": [
      "-28.252497106680273\n",
      "[[-38.87299581 -49.46707319 -36.23969797 -55.65923351 -35.64279083\n",
      "  -64.71160746 -40.5224926  -46.5530332 ]]\n"
     ]
    },
    {
     "name": "stderr",
     "output_type": "stream",
     "text": [
      "100%|██████████████████████████████████████████████████████████████████████████████████| 50/50 [00:00<00:00, 75.16it/s]\n",
      " 16%|█████████████▎                                                                     | 8/50 [00:00<00:00, 73.92it/s]"
     ]
    },
    {
     "name": "stdout",
     "output_type": "stream",
     "text": [
      "-44.83326225355048\n",
      "[[-38.87299581 -49.46707319 -36.23969797 -55.65923351 -35.64279083\n",
      "  -64.71160746 -40.5224926  -46.5530332 ]]\n"
     ]
    },
    {
     "name": "stderr",
     "output_type": "stream",
     "text": [
      "100%|██████████████████████████████████████████████████████████████████████████████████| 50/50 [00:00<00:00, 59.86it/s]\n",
      " 16%|█████████████▎                                                                     | 8/50 [00:00<00:00, 74.94it/s]"
     ]
    },
    {
     "name": "stdout",
     "output_type": "stream",
     "text": [
      "-44.37181742286856\n",
      "[[-30.87238362 -31.92347292 -34.51270232 -36.04661895 -31.43819931\n",
      "  -36.68374308 -37.09272357 -41.53201778]]\n"
     ]
    },
    {
     "name": "stderr",
     "output_type": "stream",
     "text": [
      "100%|██████████████████████████████████████████████████████████████████████████████████| 50/50 [00:00<00:00, 70.76it/s]\n",
      " 12%|█████████▉                                                                         | 6/50 [00:00<00:00, 57.86it/s]"
     ]
    },
    {
     "name": "stdout",
     "output_type": "stream",
     "text": [
      "-37.1058388082038\n",
      "[[-30.87238362 -31.92347292 -34.51270232 -36.04661895 -31.43819931\n",
      "  -36.68374308 -37.09272357 -41.53201778]]\n"
     ]
    },
    {
     "name": "stderr",
     "output_type": "stream",
     "text": [
      "100%|██████████████████████████████████████████████████████████████████████████████████| 50/50 [00:00<00:00, 70.32it/s]\n",
      " 16%|█████████████▎                                                                     | 8/50 [00:00<00:00, 77.08it/s]"
     ]
    },
    {
     "name": "stdout",
     "output_type": "stream",
     "text": [
      "-37.1097480729305\n",
      "[[-33.38074193 -40.25759428 -35.55024419 -39.95845113 -32.64506602\n",
      "  -23.64459694 -39.68665707 -47.44274192]]\n"
     ]
    },
    {
     "name": "stderr",
     "output_type": "stream",
     "text": [
      "100%|██████████████████████████████████████████████████████████████████████████████████| 50/50 [00:00<00:00, 72.99it/s]\n",
      " 16%|█████████████▎                                                                     | 8/50 [00:00<00:00, 73.59it/s]"
     ]
    },
    {
     "name": "stdout",
     "output_type": "stream",
     "text": [
      "-39.838590836292184\n",
      "[[-33.38074193 -40.25759428 -35.55024419 -39.95845113 -32.64506602\n",
      "  -23.64459694 -39.68665707 -47.44274192]]\n"
     ]
    },
    {
     "name": "stderr",
     "output_type": "stream",
     "text": [
      "100%|██████████████████████████████████████████████████████████████████████████████████| 50/50 [00:00<00:00, 71.01it/s]\n",
      " 16%|█████████████▎                                                                     | 8/50 [00:00<00:00, 73.59it/s]"
     ]
    },
    {
     "name": "stdout",
     "output_type": "stream",
     "text": [
      "-39.73679507527643\n",
      "[[-36.72960359 -32.06254477 -34.63350508 -32.53594488 -39.31231433\n",
      "   -2.75251691 -29.1937151  -42.94571489]]\n"
     ]
    },
    {
     "name": "stderr",
     "output_type": "stream",
     "text": [
      "100%|██████████████████████████████████████████████████████████████████████████████████| 50/50 [00:00<00:00, 56.08it/s]\n",
      " 14%|███████████▌                                                                       | 7/50 [00:00<00:00, 65.60it/s]"
     ]
    },
    {
     "name": "stdout",
     "output_type": "stream",
     "text": [
      "-35.415420437477906\n",
      "[[-36.72960359 -32.06254477 -34.63350508 -32.53594488 -39.31231433\n",
      "   -2.75251691 -29.1937151  -42.94571489]]\n"
     ]
    },
    {
     "name": "stderr",
     "output_type": "stream",
     "text": [
      "100%|██████████████████████████████████████████████████████████████████████████████████| 50/50 [00:00<00:00, 69.54it/s]\n",
      " 14%|███████████▌                                                                       | 7/50 [00:00<00:00, 64.99it/s]"
     ]
    },
    {
     "name": "stdout",
     "output_type": "stream",
     "text": [
      "-35.38182402616021\n",
      "[[-40.04842232 -53.76633571 -36.90307811 -47.55336005 -39.84608932\n",
      "  -42.4605422  -39.57353398 -45.48370567]]\n"
     ]
    },
    {
     "name": "stderr",
     "output_type": "stream",
     "text": [
      "100%|██████████████████████████████████████████████████████████████████████████████████| 50/50 [00:00<00:00, 70.88it/s]\n",
      " 14%|███████████▌                                                                       | 7/50 [00:00<00:00, 67.01it/s]"
     ]
    },
    {
     "name": "stdout",
     "output_type": "stream",
     "text": [
      "-42.79467843126318\n",
      "[[-40.04842232 -53.76633571 -36.90307811 -47.55336005 -39.84608932\n",
      "  -42.4605422  -39.57353398 -45.48370567]]\n"
     ]
    },
    {
     "name": "stderr",
     "output_type": "stream",
     "text": [
      "100%|██████████████████████████████████████████████████████████████████████████████████| 50/50 [00:00<00:00, 71.96it/s]\n",
      " 18%|██████████████▉                                                                    | 9/50 [00:00<00:00, 80.55it/s]"
     ]
    },
    {
     "name": "stdout",
     "output_type": "stream",
     "text": [
      "-42.85072295869108\n",
      "[[-40.48440492 -47.96322159 -36.65992765 -34.26527077 -32.45259807\n",
      "  -31.68985793 -38.90691472 -35.60538007]]\n"
     ]
    },
    {
     "name": "stderr",
     "output_type": "stream",
     "text": [
      "100%|██████████████████████████████████████████████████████████████████████████████████| 50/50 [00:00<00:00, 74.70it/s]\n",
      " 16%|█████████████▎                                                                     | 8/50 [00:00<00:00, 74.97it/s]"
     ]
    },
    {
     "name": "stdout",
     "output_type": "stream",
     "text": [
      "-36.62657262192463\n",
      "[[-40.48440492 -47.96322159 -36.65992765 -34.26527077 -32.45259807\n",
      "  -31.68985793 -38.90691472 -35.60538007]]\n"
     ]
    },
    {
     "name": "stderr",
     "output_type": "stream",
     "text": [
      "100%|██████████████████████████████████████████████████████████████████████████████████| 50/50 [00:00<00:00, 60.85it/s]\n",
      " 16%|█████████████▎                                                                     | 8/50 [00:00<00:00, 77.11it/s]"
     ]
    },
    {
     "name": "stdout",
     "output_type": "stream",
     "text": [
      "-36.54259077178015\n",
      "[[-35.89267308 -59.75415926 -36.34727421 -63.5836497  -40.03471492\n",
      "  -52.63816417 -27.48378704 -48.32462451]]\n"
     ]
    },
    {
     "name": "stderr",
     "output_type": "stream",
     "text": [
      "100%|██████████████████████████████████████████████████████████████████████████████████| 50/50 [00:00<00:00, 74.83it/s]\n",
      " 16%|█████████████▎                                                                     | 8/50 [00:00<00:00, 74.27it/s]"
     ]
    },
    {
     "name": "stdout",
     "output_type": "stream",
     "text": [
      "-43.785746155326095\n",
      "[[-35.89267308 -59.75415926 -36.34727421 -63.5836497  -40.03471492\n",
      "  -52.63816417 -27.48378704 -48.32462451]]\n"
     ]
    },
    {
     "name": "stderr",
     "output_type": "stream",
     "text": [
      "100%|██████████████████████████████████████████████████████████████████████████████████| 50/50 [00:00<00:00, 71.95it/s]\n",
      " 16%|█████████████▎                                                                     | 8/50 [00:00<00:00, 77.13it/s]"
     ]
    },
    {
     "name": "stdout",
     "output_type": "stream",
     "text": [
      "-43.90310976796756\n",
      "[[-34.99293599 -38.07100112 -36.61283012 -44.5401423  -44.54753755\n",
      "  -21.36806425 -40.45498448 -50.12751199]]\n"
     ]
    },
    {
     "name": "stderr",
     "output_type": "stream",
     "text": [
      "100%|██████████████████████████████████████████████████████████████████████████████████| 50/50 [00:00<00:00, 70.71it/s]\n",
      " 16%|█████████████▎                                                                     | 8/50 [00:00<00:00, 74.27it/s]"
     ]
    },
    {
     "name": "stdout",
     "output_type": "stream",
     "text": [
      "-42.37349638819454\n",
      "[[-34.99293599 -38.07100112 -36.61283012 -44.5401423  -44.54753755\n",
      "  -21.36806425 -40.45498448 -50.12751199]]\n"
     ]
    },
    {
     "name": "stderr",
     "output_type": "stream",
     "text": [
      "100%|██████████████████████████████████████████████████████████████████████████████████| 50/50 [00:00<00:00, 60.03it/s]\n",
      " 16%|█████████████▎                                                                     | 8/50 [00:00<00:00, 71.62it/s]"
     ]
    },
    {
     "name": "stdout",
     "output_type": "stream",
     "text": [
      "-42.35721617096131\n",
      "[[-35.58289826 -38.4612142  -31.96967794 -43.10860764 -30.78687601\n",
      "  -54.97103288 -27.63325511 -37.23377389]]\n"
     ]
    },
    {
     "name": "stderr",
     "output_type": "stream",
     "text": [
      "100%|██████████████████████████████████████████████████████████████████████████████████| 50/50 [00:00<00:00, 69.36it/s]\n",
      " 14%|███████████▌                                                                       | 7/50 [00:00<00:00, 69.47it/s]"
     ]
    },
    {
     "name": "stdout",
     "output_type": "stream",
     "text": [
      "-36.04192947377808\n",
      "[[-35.58289826 -38.4612142  -31.96967794 -43.10860764 -30.78687601\n",
      "  -54.97103288 -27.63325511 -37.23377389]]\n"
     ]
    },
    {
     "name": "stderr",
     "output_type": "stream",
     "text": [
      "100%|██████████████████████████████████████████████████████████████████████████████████| 50/50 [00:00<00:00, 63.30it/s]\n",
      " 14%|███████████▌                                                                       | 7/50 [00:00<00:00, 65.59it/s]"
     ]
    },
    {
     "name": "stdout",
     "output_type": "stream",
     "text": [
      "-36.29301987750969\n",
      "[[-37.6336354  -32.35688814 -33.90076168 -41.75207991 -31.09655865\n",
      "  -27.0267276  -28.01282343 -39.14803346]]\n"
     ]
    },
    {
     "name": "stderr",
     "output_type": "stream",
     "text": [
      "100%|██████████████████████████████████████████████████████████████████████████████████| 50/50 [00:00<00:00, 60.91it/s]\n",
      " 16%|█████████████▎                                                                     | 8/50 [00:00<00:00, 73.38it/s]"
     ]
    },
    {
     "name": "stdout",
     "output_type": "stream",
     "text": [
      "-35.15923065149736\n",
      "[[-37.6336354  -32.35688814 -33.90076168 -41.75207991 -31.09655865\n",
      "  -27.0267276  -28.01282343 -39.14803346]]\n"
     ]
    },
    {
     "name": "stderr",
     "output_type": "stream",
     "text": [
      "100%|██████████████████████████████████████████████████████████████████████████████████| 50/50 [00:00<00:00, 67.02it/s]\n",
      "  8%|██████▋                                                                            | 4/50 [00:00<00:01, 30.81it/s]"
     ]
    },
    {
     "name": "stdout",
     "output_type": "stream",
     "text": [
      "-35.093605864796714\n",
      "[[-42.54141554 -41.26225299 -35.96539458 -43.42810768 -31.0474209\n",
      "  -29.45144887 -33.46604078 -49.09861095]]\n"
     ]
    },
    {
     "name": "stderr",
     "output_type": "stream",
     "text": [
      "100%|██████████████████████████████████████████████████████████████████████████████████| 50/50 [00:01<00:00, 48.52it/s]\n",
      " 12%|█████████▉                                                                         | 6/50 [00:00<00:00, 57.57it/s]"
     ]
    },
    {
     "name": "stdout",
     "output_type": "stream",
     "text": [
      "-41.52619697441594\n",
      "[[-42.54141554 -41.26225299 -35.96539458 -43.42810768 -31.0474209\n",
      "  -29.45144887 -33.46604078 -49.09861095]]\n"
     ]
    },
    {
     "name": "stderr",
     "output_type": "stream",
     "text": [
      "100%|██████████████████████████████████████████████████████████████████████████████████| 50/50 [00:00<00:00, 66.07it/s]\n",
      " 14%|███████████▌                                                                       | 7/50 [00:00<00:00, 67.49it/s]"
     ]
    },
    {
     "name": "stdout",
     "output_type": "stream",
     "text": [
      "-41.71107700791362\n",
      "[[-38.72435095 -46.8544593  -35.65645939 -42.46812687 -32.03636696\n",
      "  -44.20915664 -43.40008328 -41.1150564 ]]\n"
     ]
    },
    {
     "name": "stderr",
     "output_type": "stream",
     "text": [
      "100%|██████████████████████████████████████████████████████████████████████████████████| 50/50 [00:00<00:00, 64.26it/s]\n",
      " 14%|███████████▌                                                                       | 7/50 [00:00<00:00, 66.53it/s]"
     ]
    },
    {
     "name": "stdout",
     "output_type": "stream",
     "text": [
      "-40.308865329129915\n",
      "[[-38.72435095 -46.8544593  -35.65645939 -42.46812687 -32.03636696\n",
      "  -44.20915664 -43.40008328 -41.1150564 ]]\n"
     ]
    },
    {
     "name": "stderr",
     "output_type": "stream",
     "text": [
      "100%|██████████████████████████████████████████████████████████████████████████████████| 50/50 [00:00<00:00, 64.57it/s]\n",
      " 16%|█████████████▎                                                                     | 8/50 [00:00<00:00, 72.26it/s]"
     ]
    },
    {
     "name": "stdout",
     "output_type": "stream",
     "text": [
      "-40.33251574595388\n",
      "[[-41.15339395 -64.72300837 -38.1340132  -58.73072079 -45.35407567\n",
      "  -56.79491708 -27.69707499 -47.56012006]]\n"
     ]
    },
    {
     "name": "stderr",
     "output_type": "stream",
     "text": [
      "100%|██████████████████████████████████████████████████████████████████████████████████| 50/50 [00:00<00:00, 67.55it/s]\n",
      " 14%|███████████▌                                                                       | 7/50 [00:00<00:00, 66.82it/s]"
     ]
    },
    {
     "name": "stdout",
     "output_type": "stream",
     "text": [
      "-44.876683636369556\n",
      "[[-41.15339395 -64.72300837 -38.1340132  -58.73072079 -45.35407567\n",
      "  -56.79491708 -27.69707499 -47.56012006]]\n"
     ]
    },
    {
     "name": "stderr",
     "output_type": "stream",
     "text": [
      "100%|██████████████████████████████████████████████████████████████████████████████████| 50/50 [00:00<00:00, 53.44it/s]\n",
      " 14%|███████████▌                                                                       | 7/50 [00:00<00:00, 64.37it/s]"
     ]
    },
    {
     "name": "stdout",
     "output_type": "stream",
     "text": [
      "-44.7192529571643\n",
      "[[-43.72208249 -61.8937201  -42.00376213 -51.56835786 -41.91101838\n",
      "  -33.86836101 -39.25587481 -50.08383386]]\n"
     ]
    },
    {
     "name": "stderr",
     "output_type": "stream",
     "text": [
      "100%|██████████████████████████████████████████████████████████████████████████████████| 50/50 [00:00<00:00, 65.14it/s]\n",
      " 14%|███████████▌                                                                       | 7/50 [00:00<00:00, 68.81it/s]"
     ]
    },
    {
     "name": "stdout",
     "output_type": "stream",
     "text": [
      "-46.040823007935195\n",
      "[[-43.72208249 -61.8937201  -42.00376213 -51.56835786 -41.91101838\n",
      "  -33.86836101 -39.25587481 -50.08383386]]\n"
     ]
    },
    {
     "name": "stderr",
     "output_type": "stream",
     "text": [
      "100%|██████████████████████████████████████████████████████████████████████████████████| 50/50 [00:00<00:00, 65.45it/s]\n",
      " 14%|███████████▌                                                                       | 7/50 [00:00<00:00, 66.85it/s]"
     ]
    },
    {
     "name": "stdout",
     "output_type": "stream",
     "text": [
      "-45.819699925245914\n",
      "[[-35.71522176 -30.41198282 -34.77793282 -37.56387047 -34.27771308\n",
      "  -33.96375769 -42.59462172 -49.30150907]]\n"
     ]
    },
    {
     "name": "stderr",
     "output_type": "stream",
     "text": [
      "100%|██████████████████████████████████████████████████████████████████████████████████| 50/50 [00:00<00:00, 67.51it/s]\n",
      " 14%|███████████▌                                                                       | 7/50 [00:00<00:00, 69.49it/s]"
     ]
    },
    {
     "name": "stdout",
     "output_type": "stream",
     "text": [
      "-41.1914436081599\n",
      "[[-35.71522176 -30.41198282 -34.77793282 -37.56387047 -34.27771308\n",
      "  -33.96375769 -42.59462172 -49.30150907]]\n"
     ]
    },
    {
     "name": "stderr",
     "output_type": "stream",
     "text": [
      "100%|██████████████████████████████████████████████████████████████████████████████████| 50/50 [00:00<00:00, 52.74it/s]\n",
      " 14%|███████████▌                                                                       | 7/50 [00:00<00:00, 68.81it/s]"
     ]
    },
    {
     "name": "stdout",
     "output_type": "stream",
     "text": [
      "-41.60368445829708\n",
      "[[-40.33040858 -49.24042666 -36.38290829 -47.94690333 -40.03471492\n",
      "  -53.03535555 -31.32876753 -47.33869979]]\n"
     ]
    },
    {
     "name": "stderr",
     "output_type": "stream",
     "text": [
      "100%|██████████████████████████████████████████████████████████████████████████████████| 50/50 [00:00<00:00, 70.60it/s]\n",
      " 16%|█████████████▎                                                                     | 8/50 [00:00<00:00, 72.26it/s]"
     ]
    },
    {
     "name": "stdout",
     "output_type": "stream",
     "text": [
      "-43.05869304304028\n",
      "[[-40.33040858 -49.24042666 -36.38290829 -47.94690333 -40.03471492\n",
      "  -53.03535555 -31.32876753 -47.33869979]]\n"
     ]
    },
    {
     "name": "stderr",
     "output_type": "stream",
     "text": [
      "100%|██████████████████████████████████████████████████████████████████████████████████| 50/50 [00:00<00:00, 72.55it/s]\n",
      " 12%|█████████▉                                                                         | 6/50 [00:00<00:00, 55.70it/s]"
     ]
    },
    {
     "name": "stdout",
     "output_type": "stream",
     "text": [
      "-42.86275901587099\n",
      "[[-39.99808746 -35.73608322 -36.28078316 -39.12015524 -26.85609164\n",
      "  -41.61903457 -38.65756619 -41.14617633]]\n"
     ]
    },
    {
     "name": "stderr",
     "output_type": "stream",
     "text": [
      "100%|██████████████████████████████████████████████████████████████████████████████████| 50/50 [00:01<00:00, 47.18it/s]\n",
      " 14%|███████████▌                                                                       | 7/50 [00:00<00:00, 68.81it/s]"
     ]
    },
    {
     "name": "stdout",
     "output_type": "stream",
     "text": [
      "-38.82949381597536\n",
      "[[-39.99808746 -35.73608322 -36.28078316 -39.12015524 -26.85609164\n",
      "  -41.61903457 -38.65756619 -41.14617633]]\n"
     ]
    },
    {
     "name": "stderr",
     "output_type": "stream",
     "text": [
      "100%|██████████████████████████████████████████████████████████████████████████████████| 50/50 [00:00<00:00, 70.44it/s]\n",
      " 16%|█████████████▎                                                                     | 8/50 [00:00<00:00, 72.92it/s]"
     ]
    },
    {
     "name": "stdout",
     "output_type": "stream",
     "text": [
      "-38.67963819426481\n",
      "[[-44.43824666 -47.18232176 -36.48601062 -44.11635306 -33.62847277\n",
      "  -26.71384679 -29.19772673 -48.274193  ]]\n"
     ]
    },
    {
     "name": "stderr",
     "output_type": "stream",
     "text": [
      "100%|██████████████████████████████████████████████████████████████████████████████████| 50/50 [00:00<00:00, 58.05it/s]\n",
      " 14%|███████████▌                                                                       | 7/50 [00:00<00:00, 61.03it/s]"
     ]
    },
    {
     "name": "stdout",
     "output_type": "stream",
     "text": [
      "-40.88200580974093\n",
      "[[-44.43824666 -47.18232176 -36.48601062 -44.11635306 -33.62847277\n",
      "  -26.71384679 -29.19772673 -48.274193  ]]\n"
     ]
    },
    {
     "name": "stderr",
     "output_type": "stream",
     "text": [
      "100%|██████████████████████████████████████████████████████████████████████████████████| 50/50 [00:00<00:00, 62.71it/s]\n",
      " 16%|█████████████▎                                                                     | 8/50 [00:00<00:00, 77.69it/s]"
     ]
    },
    {
     "name": "stdout",
     "output_type": "stream",
     "text": [
      "-41.195326256323334\n",
      "[[-44.43824666 -47.18232176 -36.48601062 -44.11635306 -33.62847277\n",
      "  -26.71384679 -29.19772673 -48.274193  ]]\n"
     ]
    },
    {
     "name": "stderr",
     "output_type": "stream",
     "text": [
      "100%|██████████████████████████████████████████████████████████████████████████████████| 50/50 [00:00<00:00, 69.12it/s]\n",
      " 14%|███████████▌                                                                       | 7/50 [00:00<00:00, 64.99it/s]"
     ]
    },
    {
     "name": "stdout",
     "output_type": "stream",
     "text": [
      "-41.06086435163054\n",
      "[[-35.64316735 -39.23408305 -38.3019702  -46.66956228 -33.32581043\n",
      "  -39.36272021 -28.62642571 -43.26297165]]\n"
     ]
    },
    {
     "name": "stderr",
     "output_type": "stream",
     "text": [
      "100%|██████████████████████████████████████████████████████████████████████████████████| 50/50 [00:00<00:00, 67.17it/s]\n",
      " 16%|█████████████▎                                                                     | 8/50 [00:00<00:00, 76.76it/s]"
     ]
    },
    {
     "name": "stdout",
     "output_type": "stream",
     "text": [
      "-39.06111471135869\n",
      "[[-35.64316735 -39.23408305 -38.3019702  -46.66956228 -33.32581043\n",
      "  -39.36272021 -28.62642571 -43.26297165]]\n"
     ]
    },
    {
     "name": "stderr",
     "output_type": "stream",
     "text": [
      "100%|██████████████████████████████████████████████████████████████████████████████████| 50/50 [00:00<00:00, 57.23it/s]\n",
      " 14%|███████████▌                                                                       | 7/50 [00:00<00:00, 68.14it/s]"
     ]
    },
    {
     "name": "stdout",
     "output_type": "stream",
     "text": [
      "-39.19952806474909\n",
      "[[-33.46873381 -37.97384531 -36.13512002 -40.70478977 -31.60482607\n",
      "  -40.61713538 -28.59980914 -37.36217986]]\n"
     ]
    },
    {
     "name": "stderr",
     "output_type": "stream",
     "text": [
      "100%|██████████████████████████████████████████████████████████████████████████████████| 50/50 [00:00<00:00, 71.20it/s]\n",
      " 14%|███████████▌                                                                       | 7/50 [00:00<00:00, 69.47it/s]"
     ]
    },
    {
     "name": "stdout",
     "output_type": "stream",
     "text": [
      "-35.528077348346955\n",
      "[[-33.46873381 -37.97384531 -36.13512002 -40.70478977 -31.60482607\n",
      "  -40.61713538 -28.59980914 -37.36217986]]\n"
     ]
    },
    {
     "name": "stderr",
     "output_type": "stream",
     "text": [
      "100%|██████████████████████████████████████████████████████████████████████████████████| 50/50 [00:00<00:00, 70.51it/s]\n",
      " 16%|█████████████▎                                                                     | 8/50 [00:00<00:00, 70.34it/s]"
     ]
    },
    {
     "name": "stdout",
     "output_type": "stream",
     "text": [
      "-35.93588347584164\n",
      "[[-34.47253357 -43.66914617 -35.27739223 -43.97073255 -33.24436789\n",
      "  -44.47798191 -30.24761292 -38.80611908]]\n"
     ]
    },
    {
     "name": "stderr",
     "output_type": "stream",
     "text": [
      "100%|██████████████████████████████████████████████████████████████████████████████████| 50/50 [00:00<00:00, 71.56it/s]\n",
      " 16%|█████████████▎                                                                     | 8/50 [00:00<00:00, 75.89it/s]"
     ]
    },
    {
     "name": "stdout",
     "output_type": "stream",
     "text": [
      "-37.18079971531459\n",
      "[[-34.47253357 -43.66914617 -35.27739223 -43.97073255 -33.24436789\n",
      "  -44.47798191 -30.24761292 -38.80611908]]\n"
     ]
    },
    {
     "name": "stderr",
     "output_type": "stream",
     "text": [
      "100%|██████████████████████████████████████████████████████████████████████████████████| 50/50 [00:00<00:00, 75.20it/s]\n",
      " 14%|███████████▌                                                                       | 7/50 [00:00<00:00, 68.81it/s]"
     ]
    },
    {
     "name": "stdout",
     "output_type": "stream",
     "text": [
      "-37.26121245868945\n",
      "[[-37.62826337 -48.64034975 -35.4318058  -50.64284142 -35.81018794\n",
      "  -49.9859905  -29.7451931  -43.22719912]]\n"
     ]
    },
    {
     "name": "stderr",
     "output_type": "stream",
     "text": [
      "100%|██████████████████████████████████████████████████████████████████████████████████| 50/50 [00:00<00:00, 58.08it/s]\n",
      " 16%|█████████████▎                                                                     | 8/50 [00:00<00:00, 79.16it/s]"
     ]
    },
    {
     "name": "stdout",
     "output_type": "stream",
     "text": [
      "-40.449670790109494\n",
      "[[-37.62826337 -48.64034975 -35.4318058  -50.64284142 -35.81018794\n",
      "  -49.9859905  -29.7451931  -43.22719912]]\n"
     ]
    },
    {
     "name": "stderr",
     "output_type": "stream",
     "text": [
      "100%|██████████████████████████████████████████████████████████████████████████████████| 50/50 [00:00<00:00, 71.66it/s]\n",
      " 16%|█████████████▎                                                                     | 8/50 [00:00<00:00, 72.27it/s]"
     ]
    },
    {
     "name": "stdout",
     "output_type": "stream",
     "text": [
      "-40.5579596561204\n",
      "[[-30.75391763 -44.20464086 -31.17460048 -40.98104121 -31.79213049\n",
      "  -49.09406401 -24.3917196  -34.65913122]]\n"
     ]
    },
    {
     "name": "stderr",
     "output_type": "stream",
     "text": [
      "100%|██████████████████████████████████████████████████████████████████████████████████| 50/50 [00:00<00:00, 70.87it/s]\n",
      " 16%|█████████████▎                                                                     | 8/50 [00:00<00:00, 70.98it/s]"
     ]
    },
    {
     "name": "stdout",
     "output_type": "stream",
     "text": [
      "-33.8951959215894\n",
      "[[-30.75391763 -44.20464086 -31.17460048 -40.98104121 -31.79213049\n",
      "  -49.09406401 -24.3917196  -34.65913122]]\n"
     ]
    },
    {
     "name": "stderr",
     "output_type": "stream",
     "text": [
      "100%|██████████████████████████████████████████████████████████████████████████████████| 50/50 [00:00<00:00, 71.24it/s]\n",
      " 16%|█████████████▎                                                                     | 8/50 [00:00<00:00, 74.97it/s]"
     ]
    },
    {
     "name": "stdout",
     "output_type": "stream",
     "text": [
      "-34.114360507919855\n",
      "[[-40.90226642 -43.22681455 -35.35338031 -40.91779915 -28.67298136\n",
      "  -47.386031   -28.03501992 -41.09557886]]\n"
     ]
    },
    {
     "name": "stderr",
     "output_type": "stream",
     "text": [
      "100%|██████████████████████████████████████████████████████████████████████████████████| 50/50 [00:00<00:00, 72.55it/s]\n",
      "  0%|                                                                                           | 0/50 [00:00<?, ?it/s]"
     ]
    },
    {
     "name": "stdout",
     "output_type": "stream",
     "text": [
      "-38.29389870502685\n",
      "[[-40.90226642 -43.22681455 -35.35338031 -40.91779915 -28.67298136\n",
      "  -47.386031   -28.03501992 -41.09557886]]\n"
     ]
    },
    {
     "name": "stderr",
     "output_type": "stream",
     "text": [
      "100%|██████████████████████████████████████████████████████████████████████████████████| 50/50 [00:00<00:00, 56.06it/s]\n",
      " 16%|█████████████▎                                                                     | 8/50 [00:00<00:00, 71.01it/s]"
     ]
    },
    {
     "name": "stdout",
     "output_type": "stream",
     "text": [
      "-38.1073223505232\n",
      "[[-37.43768624 -43.9036472  -35.53643963 -41.26158234 -35.64279083\n",
      "  -44.28995693 -40.65994217 -39.77103579]]\n"
     ]
    },
    {
     "name": "stderr",
     "output_type": "stream",
     "text": [
      "100%|██████████████████████████████████████████████████████████████████████████████████| 50/50 [00:00<00:00, 72.13it/s]\n",
      " 16%|█████████████▎                                                                     | 8/50 [00:00<00:00, 69.15it/s]"
     ]
    },
    {
     "name": "stdout",
     "output_type": "stream",
     "text": [
      "-39.511834404730095\n",
      "[[-37.43768624 -43.9036472  -35.53643963 -41.26158234 -35.64279083\n",
      "  -44.28995693 -40.65994217 -39.77103579]]\n"
     ]
    },
    {
     "name": "stderr",
     "output_type": "stream",
     "text": [
      "100%|██████████████████████████████████████████████████████████████████████████████████| 50/50 [00:00<00:00, 69.88it/s]\n",
      " 16%|█████████████▎                                                                     | 8/50 [00:00<00:00, 74.25it/s]"
     ]
    },
    {
     "name": "stdout",
     "output_type": "stream",
     "text": [
      "-39.270707853962854\n",
      "[[-39.36976069 -33.01265306 -34.88189289 -28.81866655 -25.45934761\n",
      "  -23.91794144 -39.32006753 -40.65708075]]\n"
     ]
    },
    {
     "name": "stderr",
     "output_type": "stream",
     "text": [
      "100%|██████████████████████████████████████████████████████████████████████████████████| 50/50 [00:00<00:00, 66.23it/s]\n",
      " 14%|███████████▌                                                                       | 7/50 [00:00<00:00, 69.05it/s]"
     ]
    },
    {
     "name": "stdout",
     "output_type": "stream",
     "text": [
      "-36.358512917091595\n",
      "[[-39.36976069 -33.01265306 -34.88189289 -28.81866655 -25.45934761\n",
      "  -23.91794144 -39.32006753 -40.65708075]]\n"
     ]
    },
    {
     "name": "stderr",
     "output_type": "stream",
     "text": [
      "100%|██████████████████████████████████████████████████████████████████████████████████| 50/50 [00:00<00:00, 54.54it/s]\n",
      " 12%|█████████▉                                                                         | 6/50 [00:00<00:00, 57.30it/s]"
     ]
    },
    {
     "name": "stdout",
     "output_type": "stream",
     "text": [
      "-36.13980778731871\n",
      "[[-29.53294968 -38.30838992 -32.48052604 -39.15252342 -28.29834247\n",
      "  -61.3320211  -28.48598529 -38.57506003]]\n"
     ]
    },
    {
     "name": "stderr",
     "output_type": "stream",
     "text": [
      "100%|██████████████████████████████████████████████████████████████████████████████████| 50/50 [00:00<00:00, 70.20it/s]\n",
      " 14%|███████████▌                                                                       | 7/50 [00:00<00:00, 62.67it/s]"
     ]
    },
    {
     "name": "stdout",
     "output_type": "stream",
     "text": [
      "-36.1831722035605\n",
      "[[-29.53294968 -38.30838992 -32.48052604 -39.15252342 -28.29834247\n",
      "  -61.3320211  -28.48598529 -38.57506003]]\n"
     ]
    },
    {
     "name": "stderr",
     "output_type": "stream",
     "text": [
      "100%|██████████████████████████████████████████████████████████████████████████████████| 50/50 [00:00<00:00, 62.62it/s]\n",
      " 16%|█████████████▎                                                                     | 8/50 [00:00<00:00, 75.67it/s]"
     ]
    },
    {
     "name": "stdout",
     "output_type": "stream",
     "text": [
      "-36.383816000231754\n",
      "[[-41.36771056 -56.85913155 -39.39230427 -51.0226916  -44.54753755\n",
      "  -50.60290667 -37.73560132 -46.55322989]]\n"
     ]
    },
    {
     "name": "stderr",
     "output_type": "stream",
     "text": [
      "100%|██████████████████████████████████████████████████████████████████████████████████| 50/50 [00:00<00:00, 68.41it/s]\n",
      " 14%|███████████▌                                                                       | 7/50 [00:00<00:00, 69.18it/s]"
     ]
    },
    {
     "name": "stdout",
     "output_type": "stream",
     "text": [
      "-44.61527336386143\n",
      "[[-41.36771056 -56.85913155 -39.39230427 -51.0226916  -44.54753755\n",
      "  -50.60290667 -37.73560132 -46.55322989]]\n"
     ]
    },
    {
     "name": "stderr",
     "output_type": "stream",
     "text": [
      "100%|██████████████████████████████████████████████████████████████████████████████████| 50/50 [00:00<00:00, 69.23it/s]\n",
      " 14%|███████████▌                                                                       | 7/50 [00:00<00:00, 62.67it/s]"
     ]
    },
    {
     "name": "stdout",
     "output_type": "stream",
     "text": [
      "-44.657146239522774\n",
      "[[-32.11444602 -38.57937235 -38.80129857 -47.65636742 -44.20938062\n",
      "  -38.41537648 -39.38086065 -35.21392464]]\n"
     ]
    },
    {
     "name": "stderr",
     "output_type": "stream",
     "text": [
      "100%|██████████████████████████████████████████████████████████████████████████████████| 50/50 [00:00<00:00, 50.61it/s]\n",
      " 12%|█████████▉                                                                         | 6/50 [00:00<00:00, 49.31it/s]"
     ]
    },
    {
     "name": "stdout",
     "output_type": "stream",
     "text": [
      "-37.82336470670523\n",
      "[[-32.11444602 -38.57937235 -38.80129857 -47.65636742 -44.20938062\n",
      "  -38.41537648 -39.38086065 -35.21392464]]\n"
     ]
    },
    {
     "name": "stderr",
     "output_type": "stream",
     "text": [
      "100%|██████████████████████████████████████████████████████████████████████████████████| 50/50 [00:00<00:00, 64.52it/s]\n",
      " 16%|█████████████▎                                                                     | 8/50 [00:00<00:00, 74.27it/s]"
     ]
    },
    {
     "name": "stdout",
     "output_type": "stream",
     "text": [
      "-37.451596588033695\n",
      "[[-26.77585145 -39.02401442 -33.0713281  -36.67715182 -36.93135369\n",
      "  -42.56699018 -16.73716163 -34.34220323]]\n"
     ]
    },
    {
     "name": "stderr",
     "output_type": "stream",
     "text": [
      "100%|██████████████████████████████████████████████████████████████████████████████████| 50/50 [00:00<00:00, 63.80it/s]\n",
      " 16%|█████████████▎                                                                     | 8/50 [00:00<00:00, 71.62it/s]"
     ]
    },
    {
     "name": "stdout",
     "output_type": "stream",
     "text": [
      "-32.266274594183706\n",
      "[[-26.77585145 -39.02401442 -33.0713281  -36.67715182 -36.93135369\n",
      "  -42.56699018 -16.73716163 -34.34220323]]\n"
     ]
    },
    {
     "name": "stderr",
     "output_type": "stream",
     "text": [
      "100%|██████████████████████████████████████████████████████████████████████████████████| 50/50 [00:00<00:00, 64.00it/s]\n",
      " 16%|█████████████▎                                                                     | 8/50 [00:00<00:00, 70.99it/s]"
     ]
    },
    {
     "name": "stdout",
     "output_type": "stream",
     "text": [
      "-32.172752438338364\n",
      "[[-36.23680128 -44.59719399 -33.09712627 -44.14597702 -36.91876986\n",
      "  -81.01664409 -39.82498806 -37.42747969]]\n"
     ]
    },
    {
     "name": "stderr",
     "output_type": "stream",
     "text": [
      "100%|██████████████████████████████████████████████████████████████████████████████████| 50/50 [00:00<00:00, 65.79it/s]\n",
      "  0%|                                                                                           | 0/50 [00:00<?, ?it/s]"
     ]
    },
    {
     "name": "stdout",
     "output_type": "stream",
     "text": [
      "-40.50004723610264\n",
      "[[-36.23680128 -44.59719399 -33.09712627 -44.14597702 -36.91876986\n",
      "  -81.01664409 -39.82498806 -37.42747969]]\n"
     ]
    },
    {
     "name": "stderr",
     "output_type": "stream",
     "text": [
      "100%|██████████████████████████████████████████████████████████████████████████████████| 50/50 [00:01<00:00, 47.95it/s]\n",
      " 16%|█████████████▎                                                                     | 8/50 [00:00<00:00, 76.37it/s]"
     ]
    },
    {
     "name": "stdout",
     "output_type": "stream",
     "text": [
      "-40.400981424816\n",
      "[[-31.68234654 -32.55432615 -30.85171645 -37.96872533 -34.38987306\n",
      "  -52.36151583 -31.62610444 -36.7780524 ]]\n"
     ]
    },
    {
     "name": "stderr",
     "output_type": "stream",
     "text": [
      "100%|██████████████████████████████████████████████████████████████████████████████████| 50/50 [00:00<00:00, 66.72it/s]\n",
      " 14%|███████████▌                                                                       | 7/50 [00:00<00:00, 66.23it/s]"
     ]
    },
    {
     "name": "stdout",
     "output_type": "stream",
     "text": [
      "-35.41947187741587\n",
      "[[-31.68234654 -32.55432615 -30.85171645 -37.96872533 -34.38987306\n",
      "  -52.36151583 -31.62610444 -36.7780524 ]]\n"
     ]
    },
    {
     "name": "stderr",
     "output_type": "stream",
     "text": [
      "100%|██████████████████████████████████████████████████████████████████████████████████| 50/50 [00:00<00:00, 65.88it/s]\n",
      " 14%|███████████▌                                                                       | 7/50 [00:00<00:00, 68.16it/s]"
     ]
    },
    {
     "name": "stdout",
     "output_type": "stream",
     "text": [
      "-35.27643906206193\n",
      "[[-28.02573073 -41.38905421 -28.80528864 -38.22616385 -29.57159519\n",
      "  -57.35467661 -29.7174565  -34.19900006]]\n"
     ]
    },
    {
     "name": "stderr",
     "output_type": "stream",
     "text": [
      "100%|██████████████████████████████████████████████████████████████████████████████████| 50/50 [00:00<00:00, 68.36it/s]\n",
      " 14%|███████████▌                                                                       | 7/50 [00:00<00:00, 64.40it/s]"
     ]
    },
    {
     "name": "stdout",
     "output_type": "stream",
     "text": [
      "-33.75308355705566\n",
      "[[-28.02573073 -41.38905421 -28.80528864 -38.22616385 -29.57159519\n",
      "  -57.35467661 -29.7174565  -34.19900006]]\n"
     ]
    },
    {
     "name": "stderr",
     "output_type": "stream",
     "text": [
      "100%|██████████████████████████████████████████████████████████████████████████████████| 50/50 [00:00<00:00, 52.61it/s]\n",
      " 14%|███████████▌                                                                       | 7/50 [00:00<00:00, 66.85it/s]"
     ]
    },
    {
     "name": "stdout",
     "output_type": "stream",
     "text": [
      "-33.60182634200368\n",
      "[[-30.43190299 -23.44493229 -29.49954499 -23.36154592 -26.77076953\n",
      "  -25.71060974 -26.87748532 -34.12559528]]\n"
     ]
    },
    {
     "name": "stderr",
     "output_type": "stream",
     "text": [
      "100%|██████████████████████████████████████████████████████████████████████████████████| 50/50 [00:00<00:00, 68.36it/s]\n",
      " 16%|█████████████▎                                                                     | 8/50 [00:00<00:00, 69.15it/s]"
     ]
    },
    {
     "name": "stdout",
     "output_type": "stream",
     "text": [
      "-29.99287828542299\n",
      "[[-30.43190299 -23.44493229 -29.49954499 -23.36154592 -26.77076953\n",
      "  -25.71060974 -26.87748532 -34.12559528]]\n"
     ]
    },
    {
     "name": "stderr",
     "output_type": "stream",
     "text": [
      "100%|██████████████████████████████████████████████████████████████████████████████████| 50/50 [00:00<00:00, 68.86it/s]\n",
      " 16%|█████████████▎                                                                     | 8/50 [00:00<00:00, 71.00it/s]"
     ]
    },
    {
     "name": "stdout",
     "output_type": "stream",
     "text": [
      "-29.888035039548996\n",
      "[[-33.36432838 -28.9808964  -31.39461116 -31.87760844 -32.33738419\n",
      "  -46.41081332 -30.62517908 -34.05033436]]\n"
     ]
    },
    {
     "name": "stderr",
     "output_type": "stream",
     "text": [
      "100%|██████████████████████████████████████████████████████████████████████████████████| 50/50 [00:00<00:00, 65.71it/s]\n",
      " 16%|█████████████▎                                                                     | 8/50 [00:00<00:00, 67.98it/s]"
     ]
    },
    {
     "name": "stdout",
     "output_type": "stream",
     "text": [
      "-33.67631651816877\n",
      "[[-33.36432838 -28.9808964  -31.39461116 -31.87760844 -32.33738419\n",
      "  -46.41081332 -30.62517908 -34.05033436]]\n"
     ]
    },
    {
     "name": "stderr",
     "output_type": "stream",
     "text": [
      "100%|██████████████████████████████████████████████████████████████████████████████████| 50/50 [00:00<00:00, 64.52it/s]\n",
      " 14%|███████████▌                                                                       | 7/50 [00:00<00:00, 69.49it/s]"
     ]
    },
    {
     "name": "stdout",
     "output_type": "stream",
     "text": [
      "-33.56646987554601\n",
      "[[-28.6713561  -37.88572646 -33.3066862  -45.36683636 -35.79355905\n",
      "  -41.54359469 -21.8638824  -34.90548632]]\n"
     ]
    },
    {
     "name": "stderr",
     "output_type": "stream",
     "text": [
      "100%|██████████████████████████████████████████████████████████████████████████████████| 50/50 [00:00<00:00, 53.15it/s]\n",
      " 14%|███████████▌                                                                       | 7/50 [00:00<00:00, 68.14it/s]"
     ]
    },
    {
     "name": "stdout",
     "output_type": "stream",
     "text": [
      "-33.55953099470412\n",
      "[[-28.6713561  -37.88572646 -33.3066862  -45.36683636 -35.79355905\n",
      "  -41.54359469 -21.8638824  -34.90548632]]\n"
     ]
    },
    {
     "name": "stderr",
     "output_type": "stream",
     "text": [
      "100%|██████████████████████████████████████████████████████████████████████████████████| 50/50 [00:00<00:00, 68.04it/s]\n",
      " 14%|███████████▌                                                                       | 7/50 [00:00<00:00, 68.38it/s]"
     ]
    },
    {
     "name": "stdout",
     "output_type": "stream",
     "text": [
      "-33.6518997637836\n",
      "[[-30.53901547 -39.26358701 -27.88221054 -33.70937426 -28.62900938\n",
      "  -39.43948593 -23.96619181 -37.30976631]]\n"
     ]
    },
    {
     "name": "stderr",
     "output_type": "stream",
     "text": [
      "100%|██████████████████████████████████████████████████████████████████████████████████| 50/50 [00:00<00:00, 68.39it/s]\n",
      " 14%|███████████▌                                                                       | 7/50 [00:00<00:00, 69.49it/s]"
     ]
    },
    {
     "name": "stdout",
     "output_type": "stream",
     "text": [
      "-32.857113269843275\n",
      "[[-30.53901547 -39.26358701 -27.88221054 -33.70937426 -28.62900938\n",
      "  -39.43948593 -23.96619181 -37.30976631]]\n"
     ]
    },
    {
     "name": "stderr",
     "output_type": "stream",
     "text": [
      "100%|██████████████████████████████████████████████████████████████████████████████████| 50/50 [00:00<00:00, 67.09it/s]\n",
      " 16%|█████████████▎                                                                     | 8/50 [00:00<00:00, 71.62it/s]"
     ]
    },
    {
     "name": "stdout",
     "output_type": "stream",
     "text": [
      "-33.28113716569595\n",
      "[[-30.07674777 -32.14124095 -34.58544435 -31.72677926 -34.04875201\n",
      "  -26.30180557 -27.92715446 -38.59688165]]\n"
     ]
    },
    {
     "name": "stderr",
     "output_type": "stream",
     "text": [
      "100%|██████████████████████████████████████████████████████████████████████████████████| 50/50 [00:00<00:00, 59.29it/s]\n",
      " 16%|█████████████▎                                                                     | 8/50 [00:00<00:00, 77.13it/s]"
     ]
    },
    {
     "name": "stdout",
     "output_type": "stream",
     "text": [
      "-34.13466993844767\n",
      "[[-30.07674777 -32.14124095 -34.58544435 -31.72677926 -34.04875201\n",
      "  -26.30180557 -27.92715446 -38.59688165]]\n"
     ]
    },
    {
     "name": "stderr",
     "output_type": "stream",
     "text": [
      "100%|██████████████████████████████████████████████████████████████████████████████████| 50/50 [00:00<00:00, 72.65it/s]\n",
      " 16%|█████████████▎                                                                     | 8/50 [00:00<00:00, 77.33it/s]"
     ]
    },
    {
     "name": "stdout",
     "output_type": "stream",
     "text": [
      "-34.02469890741636\n",
      "[[-36.47616315 -43.0067813  -36.65460783 -43.69444212 -39.79872069\n",
      "  -48.0409826  -33.32027474 -38.59177644]]\n"
     ]
    },
    {
     "name": "stderr",
     "output_type": "stream",
     "text": [
      "100%|██████████████████████████████████████████████████████████████████████████████████| 50/50 [00:00<00:00, 73.74it/s]\n",
      " 16%|█████████████▎                                                                     | 8/50 [00:00<00:00, 70.36it/s]"
     ]
    },
    {
     "name": "stdout",
     "output_type": "stream",
     "text": [
      "-38.70396308494881\n",
      "[[-36.47616315 -43.0067813  -36.65460783 -43.69444212 -39.79872069\n",
      "  -48.0409826  -33.32027474 -38.59177644]]\n"
     ]
    },
    {
     "name": "stderr",
     "output_type": "stream",
     "text": [
      "100%|██████████████████████████████████████████████████████████████████████████████████| 50/50 [00:00<00:00, 72.45it/s]\n",
      " 16%|█████████████▎                                                                     | 8/50 [00:00<00:00, 72.25it/s]"
     ]
    },
    {
     "name": "stdout",
     "output_type": "stream",
     "text": [
      "-38.874041337876335\n",
      "[[-28.97175986 -33.52778643 -35.37280671 -29.87852922 -36.50318031\n",
      "  -23.40165282 -28.14454123 -35.68561092]]\n"
     ]
    },
    {
     "name": "stderr",
     "output_type": "stream",
     "text": [
      "100%|██████████████████████████████████████████████████████████████████████████████████| 50/50 [00:00<00:00, 72.34it/s]\n",
      " 16%|█████████████▎                                                                     | 8/50 [00:00<00:00, 69.15it/s]"
     ]
    },
    {
     "name": "stdout",
     "output_type": "stream",
     "text": [
      "-32.6873215110773\n",
      "[[-28.97175986 -33.52778643 -35.37280671 -29.87852922 -36.50318031\n",
      "  -23.40165282 -28.14454123 -35.68561092]]\n"
     ]
    },
    {
     "name": "stderr",
     "output_type": "stream",
     "text": [
      "100%|██████████████████████████████████████████████████████████████████████████████████| 50/50 [00:00<00:00, 59.33it/s]\n",
      " 16%|█████████████▎                                                                     | 8/50 [00:00<00:00, 72.24it/s]"
     ]
    },
    {
     "name": "stdout",
     "output_type": "stream",
     "text": [
      "-32.522355723713225\n",
      "[[-32.01242575 -48.70813679 -36.17795102 -47.41021139 -35.95113757\n",
      "  -46.11486316 -28.01424649 -49.08772871]]\n"
     ]
    },
    {
     "name": "stderr",
     "output_type": "stream",
     "text": [
      "100%|██████████████████████████████████████████████████████████████████████████████████| 50/50 [00:00<00:00, 71.42it/s]\n",
      " 16%|█████████████▎                                                                     | 8/50 [00:00<00:00, 77.11it/s]"
     ]
    },
    {
     "name": "stdout",
     "output_type": "stream",
     "text": [
      "-41.642939898341155\n",
      "[[-32.01242575 -48.70813679 -36.17795102 -47.41021139 -35.95113757\n",
      "  -46.11486316 -28.01424649 -49.08772871]]\n"
     ]
    },
    {
     "name": "stderr",
     "output_type": "stream",
     "text": [
      "100%|██████████████████████████████████████████████████████████████████████████████████| 50/50 [00:00<00:00, 70.61it/s]\n",
      " 16%|█████████████▎                                                                     | 8/50 [00:00<00:00, 73.23it/s]"
     ]
    },
    {
     "name": "stdout",
     "output_type": "stream",
     "text": [
      "-41.3503525277226\n",
      "[[-32.53995282 -35.38142502 -32.18170579 -33.19521337 -30.78687601\n",
      "  -23.16455584 -31.1132982  -34.05066723]]\n"
     ]
    },
    {
     "name": "stderr",
     "output_type": "stream",
     "text": [
      "100%|██████████████████████████████████████████████████████████████████████████████████| 50/50 [00:00<00:00, 71.36it/s]\n",
      " 16%|█████████████▎                                                                     | 8/50 [00:00<00:00, 78.17it/s]"
     ]
    },
    {
     "name": "stdout",
     "output_type": "stream",
     "text": [
      "-32.2612325031279\n",
      "[[-32.53995282 -35.38142502 -32.18170579 -33.19521337 -30.78687601\n",
      "  -23.16455584 -31.1132982  -34.05066723]]\n"
     ]
    },
    {
     "name": "stderr",
     "output_type": "stream",
     "text": [
      "100%|██████████████████████████████████████████████████████████████████████████████████| 50/50 [00:00<00:00, 73.93it/s]\n",
      " 16%|█████████████▎                                                                     | 8/50 [00:00<00:00, 73.61it/s]"
     ]
    },
    {
     "name": "stdout",
     "output_type": "stream",
     "text": [
      "-32.266973977579156\n",
      "[[-32.20253062 -42.82910203 -34.84107933 -43.23594796 -32.25954848\n",
      "  -47.43919155 -29.09463758 -39.72694853]]\n"
     ]
    },
    {
     "name": "stderr",
     "output_type": "stream",
     "text": [
      "100%|██████████████████████████████████████████████████████████████████████████████████| 50/50 [00:00<00:00, 60.07it/s]\n",
      " 16%|█████████████▎                                                                     | 8/50 [00:00<00:00, 72.59it/s]"
     ]
    },
    {
     "name": "stdout",
     "output_type": "stream",
     "text": [
      "-37.01866399292536\n",
      "[[-32.20253062 -42.82910203 -34.84107933 -43.23594796 -32.25954848\n",
      "  -47.43919155 -29.09463758 -39.72694853]]\n"
     ]
    },
    {
     "name": "stderr",
     "output_type": "stream",
     "text": [
      "100%|██████████████████████████████████████████████████████████████████████████████████| 50/50 [00:00<00:00, 71.16it/s]\n",
      " 14%|███████████▌                                                                       | 7/50 [00:00<00:00, 68.81it/s]"
     ]
    },
    {
     "name": "stdout",
     "output_type": "stream",
     "text": [
      "-37.38301122981079\n",
      "[[-29.66607135 -39.60544247 -31.31487513 -40.30693598 -28.25860427\n",
      "  -46.71362667 -32.39158041 -43.27197481]]\n"
     ]
    },
    {
     "name": "stderr",
     "output_type": "stream",
     "text": [
      "100%|██████████████████████████████████████████████████████████████████████████████████| 50/50 [00:00<00:00, 70.76it/s]\n",
      " 16%|█████████████▎                                                                     | 8/50 [00:00<00:00, 74.27it/s]"
     ]
    },
    {
     "name": "stdout",
     "output_type": "stream",
     "text": [
      "-37.6011709162378\n",
      "[[-29.66607135 -39.60544247 -31.31487513 -40.30693598 -28.25860427\n",
      "  -46.71362667 -32.39158041 -43.27197481]]\n"
     ]
    },
    {
     "name": "stderr",
     "output_type": "stream",
     "text": [
      "100%|██████████████████████████████████████████████████████████████████████████████████| 50/50 [00:00<00:00, 71.99it/s]\n",
      " 14%|███████████▌                                                                       | 7/50 [00:00<00:00, 62.11it/s]"
     ]
    },
    {
     "name": "stdout",
     "output_type": "stream",
     "text": [
      "-37.25305970817828\n",
      "[[-24.98707024 -32.91917653 -30.62874254 -32.2730574  -28.25860427\n",
      "  -38.26388678 -16.80998493 -27.48801797]]\n"
     ]
    },
    {
     "name": "stderr",
     "output_type": "stream",
     "text": [
      "100%|██████████████████████████████████████████████████████████████████████████████████| 50/50 [00:00<00:00, 56.41it/s]\n",
      " 14%|███████████▌                                                                       | 7/50 [00:00<00:00, 69.83it/s]"
     ]
    },
    {
     "name": "stdout",
     "output_type": "stream",
     "text": [
      "-27.595810781592736\n",
      "[[-24.98707024 -32.91917653 -30.62874254 -32.2730574  -28.25860427\n",
      "  -38.26388678 -16.80998493 -27.48801797]]\n"
     ]
    },
    {
     "name": "stderr",
     "output_type": "stream",
     "text": [
      "100%|██████████████████████████████████████████████████████████████████████████████████| 50/50 [00:00<00:00, 71.00it/s]\n",
      " 16%|█████████████▎                                                                     | 8/50 [00:00<00:00, 71.62it/s]"
     ]
    },
    {
     "name": "stdout",
     "output_type": "stream",
     "text": [
      "-27.25795298475529\n",
      "[[-35.47060753 -34.99027331 -30.9165267  -35.32420249 -30.99542652\n",
      "  -49.05440778 -43.54757497 -41.20575035]]\n"
     ]
    },
    {
     "name": "stderr",
     "output_type": "stream",
     "text": [
      "100%|██████████████████████████████████████████████████████████████████████████████████| 50/50 [00:00<00:00, 72.18it/s]\n",
      " 16%|█████████████▎                                                                     | 8/50 [00:00<00:00, 74.89it/s]"
     ]
    },
    {
     "name": "stdout",
     "output_type": "stream",
     "text": [
      "-38.52061183606995\n",
      "[[-35.47060753 -34.99027331 -30.9165267  -35.32420249 -30.99542652\n",
      "  -49.05440778 -43.54757497 -41.20575035]]\n"
     ]
    },
    {
     "name": "stderr",
     "output_type": "stream",
     "text": [
      "100%|██████████████████████████████████████████████████████████████████████████████████| 50/50 [00:00<00:00, 73.93it/s]\n",
      " 16%|█████████████▎                                                                     | 8/50 [00:00<00:00, 70.34it/s]"
     ]
    },
    {
     "name": "stdout",
     "output_type": "stream",
     "text": [
      "-38.703087166280405\n",
      "[[-27.09231794 -21.55007257 -29.55351802 -24.46073043 -24.44665892\n",
      "  -22.0317369  -27.90517357 -25.92462427]]\n"
     ]
    },
    {
     "name": "stderr",
     "output_type": "stream",
     "text": [
      "100%|██████████████████████████████████████████████████████████████████████████████████| 50/50 [00:00<00:00, 73.94it/s]\n",
      " 16%|█████████████▎                                                                     | 8/50 [00:00<00:00, 78.62it/s]"
     ]
    },
    {
     "name": "stdout",
     "output_type": "stream",
     "text": [
      "-26.134292069440857\n",
      "[[-27.09231794 -21.55007257 -29.55351802 -24.46073043 -24.44665892\n",
      "  -22.0317369  -27.90517357 -25.92462427]]\n"
     ]
    },
    {
     "name": "stderr",
     "output_type": "stream",
     "text": [
      "100%|██████████████████████████████████████████████████████████████████████████████████| 50/50 [00:00<00:00, 60.75it/s]\n",
      " 16%|█████████████▎                                                                     | 8/50 [00:00<00:00, 74.28it/s]"
     ]
    },
    {
     "name": "stdout",
     "output_type": "stream",
     "text": [
      "-26.313882629812205\n",
      "[[-29.31983827 -38.1525128  -37.69871591 -40.58665658 -32.10078032\n",
      "  -24.54056473 -42.26040833 -35.04064174]]\n"
     ]
    },
    {
     "name": "stderr",
     "output_type": "stream",
     "text": [
      "100%|██████████████████████████████████████████████████████████████████████████████████| 50/50 [00:00<00:00, 70.22it/s]\n",
      " 16%|█████████████▎                                                                     | 8/50 [00:00<00:00, 74.25it/s]"
     ]
    },
    {
     "name": "stdout",
     "output_type": "stream",
     "text": [
      "-35.28067333069853\n",
      "[[-29.31983827 -38.1525128  -37.69871591 -40.58665658 -32.10078032\n",
      "  -24.54056473 -42.26040833 -35.04064174]]\n"
     ]
    },
    {
     "name": "stderr",
     "output_type": "stream",
     "text": [
      "100%|██████████████████████████████████████████████████████████████████████████████████| 50/50 [00:00<00:00, 74.76it/s]\n",
      " 14%|███████████▌                                                                       | 7/50 [00:00<00:00, 66.38it/s]"
     ]
    },
    {
     "name": "stdout",
     "output_type": "stream",
     "text": [
      "-35.48818080833044\n",
      "[[-33.83491897 -46.65340115 -35.38461981 -39.57256731 -28.66226021\n",
      "  -39.91959665 -39.90291807 -39.79079934]]\n"
     ]
    },
    {
     "name": "stderr",
     "output_type": "stream",
     "text": [
      "100%|██████████████████████████████████████████████████████████████████████████████████| 50/50 [00:00<00:00, 71.44it/s]\n",
      " 16%|█████████████▎                                                                     | 8/50 [00:00<00:00, 72.91it/s]"
     ]
    },
    {
     "name": "stdout",
     "output_type": "stream",
     "text": [
      "-38.06704968012995\n",
      "[[-33.83491897 -46.65340115 -35.38461981 -39.57256731 -28.66226021\n",
      "  -39.91959665 -39.90291807 -39.79079934]]\n"
     ]
    },
    {
     "name": "stderr",
     "output_type": "stream",
     "text": [
      "100%|██████████████████████████████████████████████████████████████████████████████████| 50/50 [00:00<00:00, 72.87it/s]\n",
      " 16%|█████████████▎                                                                     | 8/50 [00:00<00:00, 74.61it/s]"
     ]
    },
    {
     "name": "stdout",
     "output_type": "stream",
     "text": [
      "-38.152166721687905\n",
      "[[-30.15661899 -39.78750599 -35.5161274  -41.02401767 -33.78188216\n",
      "  -41.95862394 -41.58488414 -33.55574012]]\n"
     ]
    },
    {
     "name": "stderr",
     "output_type": "stream",
     "text": [
      "100%|██████████████████████████████████████████████████████████████████████████████████| 50/50 [00:00<00:00, 59.54it/s]\n",
      " 16%|█████████████▎                                                                     | 8/50 [00:00<00:00, 68.85it/s]"
     ]
    },
    {
     "name": "stdout",
     "output_type": "stream",
     "text": [
      "-35.84452505592491\n",
      "[[-30.15661899 -39.78750599 -35.5161274  -41.02401767 -33.78188216\n",
      "  -41.95862394 -41.58488414 -33.55574012]]\n"
     ]
    },
    {
     "name": "stderr",
     "output_type": "stream",
     "text": [
      "100%|██████████████████████████████████████████████████████████████████████████████████| 50/50 [00:00<00:00, 69.63it/s]\n",
      " 14%|███████████▌                                                                       | 7/50 [00:00<00:00, 68.15it/s]"
     ]
    },
    {
     "name": "stdout",
     "output_type": "stream",
     "text": [
      "-35.809722436236974\n",
      "[[-39.84824966 -56.36274226 -39.78199766 -58.96708054 -41.22843154\n",
      "  -63.77554951 -43.61235814 -47.90909284]]\n"
     ]
    },
    {
     "name": "stderr",
     "output_type": "stream",
     "text": [
      "100%|██████████████████████████████████████████████████████████████████████████████████| 50/50 [00:00<00:00, 70.20it/s]\n",
      " 16%|█████████████▎                                                                     | 8/50 [00:00<00:00, 74.29it/s]"
     ]
    },
    {
     "name": "stdout",
     "output_type": "stream",
     "text": [
      "-46.894755204059855\n",
      "[[-39.84824966 -56.36274226 -39.78199766 -58.96708054 -41.22843154\n",
      "  -63.77554951 -43.61235814 -47.90909284]]\n"
     ]
    },
    {
     "name": "stderr",
     "output_type": "stream",
     "text": [
      "100%|██████████████████████████████████████████████████████████████████████████████████| 50/50 [00:00<00:00, 73.83it/s]\n",
      " 14%|███████████▌                                                                       | 7/50 [00:00<00:00, 69.49it/s]"
     ]
    },
    {
     "name": "stdout",
     "output_type": "stream",
     "text": [
      "-46.95000558117989\n",
      "[[-42.21637059 -37.72300195 -36.53645717 -36.9064664  -32.74853697\n",
      "  -12.21797313 -38.89704011 -45.53895106]]\n"
     ]
    },
    {
     "name": "stderr",
     "output_type": "stream",
     "text": [
      "100%|██████████████████████████████████████████████████████████████████████████████████| 50/50 [00:00<00:00, 72.45it/s]\n",
      "  0%|                                                                                           | 0/50 [00:00<?, ?it/s]"
     ]
    },
    {
     "name": "stdout",
     "output_type": "stream",
     "text": [
      "-39.13801798438694\n",
      "[[-42.21637059 -37.72300195 -36.53645717 -36.9064664  -32.74853697\n",
      "  -12.21797313 -38.89704011 -45.53895106]]\n"
     ]
    },
    {
     "name": "stderr",
     "output_type": "stream",
     "text": [
      "100%|██████████████████████████████████████████████████████████████████████████████████| 50/50 [00:00<00:00, 58.80it/s]\n",
      " 14%|███████████▌                                                                       | 7/50 [00:00<00:00, 67.49it/s]"
     ]
    },
    {
     "name": "stdout",
     "output_type": "stream",
     "text": [
      "-39.02691605556417\n",
      "[[-43.19746363 -54.37253998 -35.28961203 -49.38190522 -35.13353583\n",
      "  -68.07430008 -40.03779695 -45.67024671]]\n"
     ]
    },
    {
     "name": "stderr",
     "output_type": "stream",
     "text": [
      "100%|██████████████████████████████████████████████████████████████████████████████████| 50/50 [00:00<00:00, 62.08it/s]\n",
      " 14%|███████████▌                                                                       | 7/50 [00:00<00:00, 66.66it/s]"
     ]
    },
    {
     "name": "stdout",
     "output_type": "stream",
     "text": [
      "-44.51005092898733\n",
      "[[-43.19746363 -54.37253998 -35.28961203 -49.38190522 -35.13353583\n",
      "  -68.07430008 -40.03779695 -45.67024671]]\n"
     ]
    },
    {
     "name": "stderr",
     "output_type": "stream",
     "text": [
      "100%|██████████████████████████████████████████████████████████████████████████████████| 50/50 [00:00<00:00, 64.52it/s]\n",
      " 16%|█████████████▎                                                                     | 8/50 [00:00<00:00, 72.27it/s]"
     ]
    },
    {
     "name": "stdout",
     "output_type": "stream",
     "text": [
      "-44.748291943240716\n",
      "[[-31.6192846  -36.91030595 -32.74573411 -42.02810949 -30.73486268\n",
      "  -71.31842097 -31.82486547 -31.32901848]]\n"
     ]
    },
    {
     "name": "stderr",
     "output_type": "stream",
     "text": [
      "100%|██████████████████████████████████████████████████████████████████████████████████| 50/50 [00:00<00:00, 64.00it/s]\n",
      " 16%|█████████████▎                                                                     | 8/50 [00:00<00:00, 71.60it/s]"
     ]
    },
    {
     "name": "stdout",
     "output_type": "stream",
     "text": [
      "-34.887042296965575\n",
      "[[-31.6192846  -36.91030595 -32.74573411 -42.02810949 -30.73486268\n",
      "  -71.31842097 -31.82486547 -31.32901848]]\n"
     ]
    },
    {
     "name": "stderr",
     "output_type": "stream",
     "text": [
      "100%|██████████████████████████████████████████████████████████████████████████████████| 50/50 [00:00<00:00, 56.90it/s]\n",
      " 16%|█████████████▎                                                                     | 8/50 [00:00<00:00, 76.37it/s]"
     ]
    },
    {
     "name": "stdout",
     "output_type": "stream",
     "text": [
      "-35.11186240700234\n",
      "[[-39.75810862 -36.918724   -34.46194469 -43.84220149 -30.73486268\n",
      "  -61.55951339 -40.71915836 -41.58444378]]\n"
     ]
    },
    {
     "name": "stderr",
     "output_type": "stream",
     "text": [
      "100%|██████████████████████████████████████████████████████████████████████████████████| 50/50 [00:00<00:00, 69.80it/s]\n",
      " 12%|█████████▉                                                                         | 6/50 [00:00<00:00, 56.22it/s]"
     ]
    },
    {
     "name": "stdout",
     "output_type": "stream",
     "text": [
      "-40.76939078923696\n",
      "[[-39.75810862 -36.918724   -34.46194469 -43.84220149 -30.73486268\n",
      "  -61.55951339 -40.71915836 -41.58444378]]\n"
     ]
    },
    {
     "name": "stderr",
     "output_type": "stream",
     "text": [
      "100%|██████████████████████████████████████████████████████████████████████████████████| 50/50 [00:00<00:00, 61.59it/s]\n",
      " 16%|█████████████▎                                                                     | 8/50 [00:00<00:00, 74.27it/s]"
     ]
    },
    {
     "name": "stdout",
     "output_type": "stream",
     "text": [
      "-40.796516572633365\n",
      "[[-39.84824966 -55.86618454 -39.27681222 -57.95060922 -41.22843154\n",
      "  -62.88874996 -43.6466168  -46.81071077]]\n"
     ]
    },
    {
     "name": "stderr",
     "output_type": "stream",
     "text": [
      "100%|██████████████████████████████████████████████████████████████████████████████████| 50/50 [00:00<00:00, 63.41it/s]\n",
      " 14%|███████████▌                                                                       | 7/50 [00:00<00:00, 68.82it/s]"
     ]
    },
    {
     "name": "stdout",
     "output_type": "stream",
     "text": [
      "-46.487973534799515\n",
      "[[-39.84824966 -55.86618454 -39.27681222 -57.95060922 -41.22843154\n",
      "  -62.88874996 -43.6466168  -46.81071077]]\n"
     ]
    },
    {
     "name": "stderr",
     "output_type": "stream",
     "text": [
      "100%|██████████████████████████████████████████████████████████████████████████████████| 50/50 [00:00<00:00, 70.31it/s]\n",
      " 16%|█████████████▎                                                                     | 8/50 [00:00<00:00, 71.48it/s]"
     ]
    },
    {
     "name": "stdout",
     "output_type": "stream",
     "text": [
      "-46.1562101023181\n",
      "[[-29.86360524 -36.53136091 -33.4781557  -31.30705797 -31.29635662\n",
      "  -35.41568118 -43.52295776 -30.70849799]]\n"
     ]
    },
    {
     "name": "stderr",
     "output_type": "stream",
     "text": [
      "100%|██████████████████████████████████████████████████████████████████████████████████| 50/50 [00:00<00:00, 55.88it/s]\n",
      " 16%|█████████████▎                                                                     | 8/50 [00:00<00:00, 74.27it/s]"
     ]
    },
    {
     "name": "stdout",
     "output_type": "stream",
     "text": [
      "-33.30287354228\n",
      "[[-29.86360524 -36.53136091 -33.4781557  -31.30705797 -31.29635662\n",
      "  -35.41568118 -43.52295776 -30.70849799]]\n"
     ]
    },
    {
     "name": "stderr",
     "output_type": "stream",
     "text": [
      "100%|██████████████████████████████████████████████████████████████████████████████████| 50/50 [00:00<00:00, 73.18it/s]\n",
      " 16%|█████████████▎                                                                     | 8/50 [00:00<00:00, 76.38it/s]"
     ]
    },
    {
     "name": "stdout",
     "output_type": "stream",
     "text": [
      "-33.19880114580299\n",
      "[[-43.61044944 -35.33118634 -36.30104732 -39.98074986 -33.36296368\n",
      "  -20.66027138 -39.5937065  -48.13105264]]\n"
     ]
    },
    {
     "name": "stderr",
     "output_type": "stream",
     "text": [
      "100%|██████████████████████████████████████████████████████████████████████████████████| 50/50 [00:00<00:00, 69.09it/s]\n",
      " 16%|█████████████▎                                                                     | 8/50 [00:00<00:00, 70.99it/s]"
     ]
    },
    {
     "name": "stdout",
     "output_type": "stream",
     "text": [
      "-41.1286403486277\n",
      "[[-29.86360524 -36.53136091 -33.4781557  -31.30705797 -31.29635662\n",
      "  -35.41568118 -43.52295776 -30.70849799]]\n"
     ]
    },
    {
     "name": "stderr",
     "output_type": "stream",
     "text": [
      "100%|██████████████████████████████████████████████████████████████████████████████████| 50/50 [00:00<00:00, 70.41it/s]\n",
      " 16%|█████████████▎                                                                     | 8/50 [00:00<00:00, 69.71it/s]"
     ]
    },
    {
     "name": "stdout",
     "output_type": "stream",
     "text": [
      "-33.263599845617286\n",
      "[[-29.41560368 -42.4198125  -33.20327347 -35.51246594 -31.29635662\n",
      "  -39.15095746 -44.93158223 -40.997081  ]]\n"
     ]
    },
    {
     "name": "stderr",
     "output_type": "stream",
     "text": [
      "100%|██████████████████████████████████████████████████████████████████████████████████| 50/50 [00:00<00:00, 69.71it/s]\n",
      " 14%|███████████▌                                                                       | 7/50 [00:00<00:00, 67.49it/s]"
     ]
    },
    {
     "name": "stdout",
     "output_type": "stream",
     "text": [
      "-38.06557497947374\n",
      "[[-29.41560368 -42.4198125  -33.20327347 -35.51246594 -31.29635662\n",
      "  -39.15095746 -44.93158223 -40.997081  ]]\n"
     ]
    },
    {
     "name": "stderr",
     "output_type": "stream",
     "text": [
      "100%|██████████████████████████████████████████████████████████████████████████████████| 50/50 [00:00<00:00, 56.94it/s]\n",
      " 16%|█████████████▎                                                                     | 8/50 [00:00<00:00, 71.14it/s]"
     ]
    },
    {
     "name": "stdout",
     "output_type": "stream",
     "text": [
      "-37.922077552551926\n",
      "[[-39.72697916 -41.50834811 -37.95899542 -45.61309096 -36.50318031\n",
      "  -48.37750837 -34.34865056 -41.40224851]]\n"
     ]
    },
    {
     "name": "stderr",
     "output_type": "stream",
     "text": [
      "100%|██████████████████████████████████████████████████████████████████████████████████| 50/50 [00:00<00:00, 71.06it/s]\n",
      " 14%|███████████▌                                                                       | 7/50 [00:00<00:00, 64.99it/s]"
     ]
    },
    {
     "name": "stdout",
     "output_type": "stream",
     "text": [
      "-40.37404130768669\n",
      "[[-39.72697916 -41.50834811 -37.95899542 -45.61309096 -36.50318031\n",
      "  -48.37750837 -34.34865056 -41.40224851]]\n"
     ]
    },
    {
     "name": "stderr",
     "output_type": "stream",
     "text": [
      "100%|██████████████████████████████████████████████████████████████████████████████████| 50/50 [00:00<00:00, 69.17it/s]\n",
      " 16%|█████████████▎                                                                     | 8/50 [00:00<00:00, 75.82it/s]"
     ]
    },
    {
     "name": "stdout",
     "output_type": "stream",
     "text": [
      "-40.081325400270124\n",
      "[[-24.87999046 -15.66207603 -30.75782186 -19.67376832 -20.86879691\n",
      "  -33.19013879 -16.64340962 -30.47164197]]\n"
     ]
    },
    {
     "name": "stderr",
     "output_type": "stream",
     "text": [
      "100%|██████████████████████████████████████████████████████████████████████████████████| 50/50 [00:00<00:00, 70.74it/s]\n",
      " 16%|█████████████▎                                                                     | 8/50 [00:00<00:00, 74.95it/s]"
     ]
    },
    {
     "name": "stdout",
     "output_type": "stream",
     "text": [
      "-26.42077344118773\n",
      "[[-24.87999046 -15.66207603 -30.75782186 -19.67376832 -20.86879691\n",
      "  -33.19013879 -16.64340962 -30.47164197]]\n"
     ]
    },
    {
     "name": "stderr",
     "output_type": "stream",
     "text": [
      "100%|██████████████████████████████████████████████████████████████████████████████████| 50/50 [00:00<00:00, 69.91it/s]\n",
      " 14%|███████████▌                                                                       | 7/50 [00:00<00:00, 68.14it/s]"
     ]
    },
    {
     "name": "stdout",
     "output_type": "stream",
     "text": [
      "-26.528144871316314\n",
      "[[-32.85191107 -41.80567239 -39.48052135 -51.74099702 -36.50318031\n",
      "  -53.16544621 -39.32248108 -41.15532944]]\n"
     ]
    },
    {
     "name": "stderr",
     "output_type": "stream",
     "text": [
      "100%|██████████████████████████████████████████████████████████████████████████████████| 50/50 [00:00<00:00, 56.60it/s]\n",
      " 16%|█████████████▎                                                                     | 8/50 [00:00<00:00, 71.62it/s]"
     ]
    },
    {
     "name": "stdout",
     "output_type": "stream",
     "text": [
      "-40.71082995397036\n",
      "[[-32.85191107 -41.80567239 -39.48052135 -51.74099702 -36.50318031\n",
      "  -53.16544621 -39.32248108 -41.15532944]]\n"
     ]
    },
    {
     "name": "stderr",
     "output_type": "stream",
     "text": [
      "100%|██████████████████████████████████████████████████████████████████████████████████| 50/50 [00:00<00:00, 69.90it/s]\n",
      " 16%|█████████████▎                                                                     | 8/50 [00:00<00:00, 72.24it/s]"
     ]
    },
    {
     "name": "stdout",
     "output_type": "stream",
     "text": [
      "-40.823389166807125\n",
      "[[-25.40466828 -35.1166973  -33.69798815 -30.74595968 -22.97803146\n",
      "  -35.60050277 -16.82217196 -37.06671447]]\n"
     ]
    },
    {
     "name": "stderr",
     "output_type": "stream",
     "text": [
      "100%|██████████████████████████████████████████████████████████████████████████████████| 50/50 [00:00<00:00, 69.50it/s]\n",
      " 14%|███████████▌                                                                       | 7/50 [00:00<00:00, 69.47it/s]"
     ]
    },
    {
     "name": "stdout",
     "output_type": "stream",
     "text": [
      "-31.32358594688605\n",
      "[[-25.40466828 -35.1166973  -33.69798815 -30.74595968 -22.97803146\n",
      "  -35.60050277 -16.82217196 -37.06671447]]\n"
     ]
    },
    {
     "name": "stderr",
     "output_type": "stream",
     "text": [
      "100%|██████████████████████████████████████████████████████████████████████████████████| 50/50 [00:00<00:00, 68.71it/s]\n",
      " 16%|█████████████▎                                                                     | 8/50 [00:00<00:00, 69.76it/s]"
     ]
    },
    {
     "name": "stdout",
     "output_type": "stream",
     "text": [
      "-31.099086543631355\n",
      "[[-30.01676464 -42.61552471 -30.79972645 -37.50053661 -31.03397522\n",
      "  -47.7203741  -30.74992631 -33.89191613]]\n"
     ]
    },
    {
     "name": "stderr",
     "output_type": "stream",
     "text": [
      "100%|██████████████████████████████████████████████████████████████████████████████████| 50/50 [00:00<00:00, 57.18it/s]\n",
      " 14%|███████████▌                                                                       | 7/50 [00:00<00:00, 66.82it/s]"
     ]
    },
    {
     "name": "stdout",
     "output_type": "stream",
     "text": [
      "-33.67157511073026\n",
      "[[-30.01676464 -42.61552471 -30.79972645 -37.50053661 -31.03397522\n",
      "  -47.7203741  -30.74992631 -33.89191613]]\n"
     ]
    },
    {
     "name": "stderr",
     "output_type": "stream",
     "text": [
      "100%|██████████████████████████████████████████████████████████████████████████████████| 50/50 [00:00<00:00, 69.97it/s]\n",
      " 16%|█████████████▎                                                                     | 8/50 [00:00<00:00, 75.68it/s]"
     ]
    },
    {
     "name": "stdout",
     "output_type": "stream",
     "text": [
      "-33.74967454033902\n",
      "[[-36.94821965 -57.53136707 -31.6375026  -53.21190477 -36.79343713\n",
      "  -54.07735487 -29.20146092 -43.93388538]]\n"
     ]
    },
    {
     "name": "stderr",
     "output_type": "stream",
     "text": [
      "100%|██████████████████████████████████████████████████████████████████████████████████| 50/50 [00:00<00:00, 70.02it/s]\n",
      " 14%|███████████▌                                                                       | 7/50 [00:00<00:00, 68.82it/s]"
     ]
    },
    {
     "name": "stdout",
     "output_type": "stream",
     "text": [
      "-41.14038443440335\n",
      "[[-36.94821965 -57.53136707 -31.6375026  -53.21190477 -36.79343713\n",
      "  -54.07735487 -29.20146092 -43.93388538]]\n"
     ]
    },
    {
     "name": "stderr",
     "output_type": "stream",
     "text": [
      "100%|██████████████████████████████████████████████████████████████████████████████████| 50/50 [00:00<00:00, 68.67it/s]\n",
      " 14%|███████████▌                                                                       | 7/50 [00:00<00:00, 67.47it/s]"
     ]
    },
    {
     "name": "stdout",
     "output_type": "stream",
     "text": [
      "-40.960568651967186\n",
      "[[-32.60603964 -47.66930755 -33.92556721 -39.29752601 -42.2864201\n",
      "  -32.55538151 -33.22531542 -38.75370446]]\n"
     ]
    },
    {
     "name": "stderr",
     "output_type": "stream",
     "text": [
      "100%|██████████████████████████████████████████████████████████████████████████████████| 50/50 [00:00<00:00, 68.87it/s]\n",
      " 16%|█████████████▎                                                                     | 8/50 [00:00<00:00, 70.34it/s]"
     ]
    },
    {
     "name": "stdout",
     "output_type": "stream",
     "text": [
      "-36.83380412923408\n",
      "[[-32.60603964 -47.66930755 -33.92556721 -39.29752601 -42.2864201\n",
      "  -32.55538151 -33.22531542 -38.75370446]]\n"
     ]
    },
    {
     "name": "stderr",
     "output_type": "stream",
     "text": [
      "100%|██████████████████████████████████████████████████████████████████████████████████| 50/50 [00:00<00:00, 56.72it/s]\n",
      " 16%|█████████████▎                                                                     | 8/50 [00:00<00:00, 70.86it/s]"
     ]
    },
    {
     "name": "stdout",
     "output_type": "stream",
     "text": [
      "-36.783747252922886\n",
      "[[-29.46292787 -36.69053799 -32.88248751 -30.76762064 -32.25954848\n",
      "  -16.0506382  -33.54894143 -35.54590419]]\n"
     ]
    },
    {
     "name": "stderr",
     "output_type": "stream",
     "text": [
      "100%|██████████████████████████████████████████████████████████████████████████████████| 50/50 [00:00<00:00, 69.32it/s]\n",
      " 14%|███████████▌                                                                       | 7/50 [00:00<00:00, 66.84it/s]"
     ]
    },
    {
     "name": "stdout",
     "output_type": "stream",
     "text": [
      "-32.418276902547426\n",
      "[[-29.46292787 -36.69053799 -32.88248751 -30.76762064 -32.25954848\n",
      "  -16.0506382  -33.54894143 -35.54590419]]\n"
     ]
    },
    {
     "name": "stderr",
     "output_type": "stream",
     "text": [
      "100%|██████████████████████████████████████████████████████████████████████████████████| 50/50 [00:00<00:00, 65.47it/s]\n",
      " 14%|███████████▌                                                                       | 7/50 [00:00<00:00, 65.57it/s]"
     ]
    },
    {
     "name": "stdout",
     "output_type": "stream",
     "text": [
      "-32.494721113657846\n",
      "[[-38.59196064 -44.86830569 -38.57871305 -41.2422562  -33.324597\n",
      "  -16.0882128  -27.04352412 -46.3447857 ]]\n"
     ]
    },
    {
     "name": "stderr",
     "output_type": "stream",
     "text": [
      "100%|██████████████████████████████████████████████████████████████████████████████████| 50/50 [00:00<00:00, 68.45it/s]\n",
      " 16%|█████████████▎                                                                     | 8/50 [00:00<00:00, 70.38it/s]"
     ]
    },
    {
     "name": "stdout",
     "output_type": "stream",
     "text": [
      "-39.128490974889175\n",
      "[[-38.59196064 -44.86830569 -38.57871305 -41.2422562  -33.324597\n",
      "  -16.0882128  -27.04352412 -46.3447857 ]]\n"
     ]
    },
    {
     "name": "stderr",
     "output_type": "stream",
     "text": [
      "100%|██████████████████████████████████████████████████████████████████████████████████| 50/50 [00:00<00:00, 70.71it/s]\n",
      "  0%|                                                                                           | 0/50 [00:00<?, ?it/s]"
     ]
    },
    {
     "name": "stdout",
     "output_type": "stream",
     "text": [
      "-38.687120566811416\n",
      "[[-38.59196064 -44.86830569 -38.57871305 -41.2422562  -33.324597\n",
      "  -16.0882128  -27.04352412 -46.3447857 ]]\n"
     ]
    },
    {
     "name": "stderr",
     "output_type": "stream",
     "text": [
      "100%|██████████████████████████████████████████████████████████████████████████████████| 50/50 [00:00<00:00, 57.23it/s]\n",
      " 14%|███████████▌                                                                       | 7/50 [00:00<00:00, 61.55it/s]"
     ]
    },
    {
     "name": "stdout",
     "output_type": "stream",
     "text": [
      "-38.64406495944773\n",
      "[[-39.12523349 -46.88533426 -36.53243696 -52.79575168 -35.64279083\n",
      "  -59.48625264 -40.5224926  -45.96069718]]\n"
     ]
    },
    {
     "name": "stderr",
     "output_type": "stream",
     "text": [
      "100%|██████████████████████████████████████████████████████████████████████████████████| 50/50 [00:00<00:00, 67.97it/s]\n",
      " 16%|█████████████▎                                                                     | 8/50 [00:00<00:00, 72.92it/s]"
     ]
    },
    {
     "name": "stdout",
     "output_type": "stream",
     "text": [
      "-44.053118978514455\n",
      "[[-39.12523349 -46.88533426 -36.53243696 -52.79575168 -35.64279083\n",
      "  -59.48625264 -40.5224926  -45.96069718]]\n"
     ]
    },
    {
     "name": "stderr",
     "output_type": "stream",
     "text": [
      "100%|██████████████████████████████████████████████████████████████████████████████████| 50/50 [00:00<00:00, 69.53it/s]\n",
      " 14%|███████████▌                                                                       | 7/50 [00:00<00:00, 69.30it/s]"
     ]
    },
    {
     "name": "stdout",
     "output_type": "stream",
     "text": [
      "-43.92154431298478\n",
      "[[-30.14345575 -28.51194128 -34.45692623 -32.9418041  -32.10078032\n",
      "  -47.94853975 -29.05256753 -34.1355947 ]]\n"
     ]
    },
    {
     "name": "stderr",
     "output_type": "stream",
     "text": [
      "100%|██████████████████████████████████████████████████████████████████████████████████| 50/50 [00:00<00:00, 70.82it/s]\n",
      " 14%|███████████▌                                                                       | 7/50 [00:00<00:00, 68.92it/s]"
     ]
    },
    {
     "name": "stdout",
     "output_type": "stream",
     "text": [
      "-33.570500486324136\n",
      "[[-30.14345575 -28.51194128 -34.45692623 -32.9418041  -32.10078032\n",
      "  -47.94853975 -29.05256753 -34.1355947 ]]\n"
     ]
    },
    {
     "name": "stderr",
     "output_type": "stream",
     "text": [
      "100%|██████████████████████████████████████████████████████████████████████████████████| 50/50 [00:00<00:00, 58.00it/s]\n",
      " 16%|█████████████▎                                                                     | 8/50 [00:00<00:00, 72.24it/s]"
     ]
    },
    {
     "name": "stdout",
     "output_type": "stream",
     "text": [
      "-33.55238505399958\n",
      "[[-31.98817383 -42.10221157 -31.90836413 -32.4840783  -32.03636696\n",
      "  -49.39534923 -44.58837142 -37.6596194 ]]\n"
     ]
    },
    {
     "name": "stderr",
     "output_type": "stream",
     "text": [
      "100%|██████████████████████████████████████████████████████████████████████████████████| 50/50 [00:00<00:00, 67.21it/s]\n",
      " 16%|█████████████▎                                                                     | 8/50 [00:00<00:00, 73.40it/s]"
     ]
    },
    {
     "name": "stdout",
     "output_type": "stream",
     "text": [
      "-37.26412639788808\n",
      "[[-31.98817383 -42.10221157 -31.90836413 -32.4840783  -32.03636696\n",
      "  -49.39534923 -44.58837142 -37.6596194 ]]\n"
     ]
    },
    {
     "name": "stderr",
     "output_type": "stream",
     "text": [
      "100%|██████████████████████████████████████████████████████████████████████████████████| 50/50 [00:00<00:00, 69.89it/s]\n",
      " 14%|███████████▌                                                                       | 7/50 [00:00<00:00, 69.47it/s]"
     ]
    },
    {
     "name": "stdout",
     "output_type": "stream",
     "text": [
      "-37.58900958110518\n",
      "[[-33.01199185 -43.01416201 -30.71667529 -33.05533152 -36.93135369\n",
      "  -31.3063199  -46.82941977 -33.51057129]]\n"
     ]
    },
    {
     "name": "stderr",
     "output_type": "stream",
     "text": [
      "100%|██████████████████████████████████████████████████████████████████████████████████| 50/50 [00:00<00:00, 66.67it/s]\n",
      " 14%|███████████▌                                                                       | 7/50 [00:00<00:00, 69.47it/s]"
     ]
    },
    {
     "name": "stdout",
     "output_type": "stream",
     "text": [
      "-35.010633975448556\n",
      "[[-33.01199185 -43.01416201 -30.71667529 -33.05533152 -36.93135369\n",
      "  -31.3063199  -46.82941977 -33.51057129]]\n"
     ]
    },
    {
     "name": "stderr",
     "output_type": "stream",
     "text": [
      "100%|██████████████████████████████████████████████████████████████████████████████████| 50/50 [00:00<00:00, 69.24it/s]\n",
      " 14%|███████████▌                                                                       | 7/50 [00:00<00:00, 66.84it/s]"
     ]
    },
    {
     "name": "stdout",
     "output_type": "stream",
     "text": [
      "-35.37624039830046\n",
      "[[-34.02035949 -48.16360259 -34.56746581 -38.35030293 -44.20938062\n",
      "  -10.58619089 -33.55075262 -35.1951489 ]]\n"
     ]
    },
    {
     "name": "stderr",
     "output_type": "stream",
     "text": [
      "100%|██████████████████████████████████████████████████████████████████████████████████| 50/50 [00:00<00:00, 57.62it/s]\n",
      " 16%|█████████████▎                                                                     | 8/50 [00:00<00:00, 72.90it/s]"
     ]
    },
    {
     "name": "stdout",
     "output_type": "stream",
     "text": [
      "-34.4454392035053\n",
      "[[-34.02035949 -48.16360259 -34.56746581 -38.35030293 -44.20938062\n",
      "  -10.58619089 -33.55075262 -35.1951489 ]]\n"
     ]
    },
    {
     "name": "stderr",
     "output_type": "stream",
     "text": [
      "100%|██████████████████████████████████████████████████████████████████████████████████| 50/50 [00:00<00:00, 71.52it/s]\n",
      " 14%|███████████▌                                                                       | 7/50 [00:00<00:00, 64.39it/s]"
     ]
    },
    {
     "name": "stdout",
     "output_type": "stream",
     "text": [
      "-34.71376469642189\n",
      "[[-33.55845819 -36.63084674 -28.95746832 -28.65221296 -27.55818205\n",
      "  -43.99658021 -45.73037942 -30.93286548]]\n"
     ]
    },
    {
     "name": "stderr",
     "output_type": "stream",
     "text": [
      "100%|██████████████████████████████████████████████████████████████████████████████████| 50/50 [00:00<00:00, 71.36it/s]\n",
      " 16%|█████████████▎                                                                     | 8/50 [00:00<00:00, 71.91it/s]"
     ]
    },
    {
     "name": "stdout",
     "output_type": "stream",
     "text": [
      "-33.58147750533434\n",
      "[[-33.55845819 -36.63084674 -28.95746832 -28.65221296 -27.55818205\n",
      "  -43.99658021 -45.73037942 -30.93286548]]\n"
     ]
    },
    {
     "name": "stderr",
     "output_type": "stream",
     "text": [
      "100%|██████████████████████████████████████████████████████████████████████████████████| 50/50 [00:00<00:00, 71.36it/s]\n",
      " 16%|█████████████▎                                                                     | 8/50 [00:00<00:00, 74.25it/s]"
     ]
    },
    {
     "name": "stdout",
     "output_type": "stream",
     "text": [
      "-33.50174491423814\n",
      "[[-35.90994049 -43.38913779 -34.73812149 -42.71513454 -37.01849171\n",
      "  -52.88750411 -27.04352412 -41.48736791]]\n"
     ]
    },
    {
     "name": "stderr",
     "output_type": "stream",
     "text": [
      "100%|██████████████████████████████████████████████████████████████████████████████████| 50/50 [00:00<00:00, 69.37it/s]\n",
      "  0%|                                                                                           | 0/50 [00:00<?, ?it/s]"
     ]
    },
    {
     "name": "stdout",
     "output_type": "stream",
     "text": [
      "-38.53409120502448\n",
      "[[-35.90994049 -43.38913779 -34.73812149 -42.71513454 -37.01849171\n",
      "  -52.88750411 -27.04352412 -41.48736791]]\n"
     ]
    },
    {
     "name": "stderr",
     "output_type": "stream",
     "text": [
      "100%|██████████████████████████████████████████████████████████████████████████████████| 50/50 [00:00<00:00, 54.89it/s]\n",
      " 14%|███████████▌                                                                       | 7/50 [00:00<00:00, 69.49it/s]"
     ]
    },
    {
     "name": "stdout",
     "output_type": "stream",
     "text": [
      "-38.66787244204681\n",
      "[[-34.03785358 -34.2769703  -35.59206561 -24.96983554 -30.05180497\n",
      "    8.02809607 -45.04423294 -36.9370784 ]]\n"
     ]
    },
    {
     "name": "stderr",
     "output_type": "stream",
     "text": [
      "100%|██████████████████████████████████████████████████████████████████████████████████| 50/50 [00:00<00:00, 69.11it/s]\n",
      " 14%|███████████▌                                                                       | 7/50 [00:00<00:00, 64.01it/s]"
     ]
    },
    {
     "name": "stdout",
     "output_type": "stream",
     "text": [
      "-33.331349879703524\n",
      "[[-34.03785358 -34.2769703  -35.59206561 -24.96983554 -30.05180497\n",
      "    8.02809607 -45.04423294 -36.9370784 ]]\n"
     ]
    },
    {
     "name": "stderr",
     "output_type": "stream",
     "text": [
      "100%|██████████████████████████████████████████████████████████████████████████████████| 50/50 [00:00<00:00, 64.95it/s]\n",
      " 14%|███████████▌                                                                       | 7/50 [00:00<00:00, 61.03it/s]"
     ]
    },
    {
     "name": "stdout",
     "output_type": "stream",
     "text": [
      "-33.00500153270915\n",
      "[[-26.98364419 -26.24669991 -33.31847125 -21.57726945 -25.23279222\n",
      "  -16.19564662 -23.86660091 -26.41179313]]\n"
     ]
    },
    {
     "name": "stderr",
     "output_type": "stream",
     "text": [
      "100%|██████████████████████████████████████████████████████████████████████████████████| 50/50 [00:00<00:00, 63.42it/s]\n",
      " 14%|███████████▌                                                                       | 7/50 [00:00<00:00, 62.32it/s]"
     ]
    },
    {
     "name": "stdout",
     "output_type": "stream",
     "text": [
      "-26.0711000123613\n",
      "[[-26.98364419 -26.24669991 -33.31847125 -21.57726945 -25.23279222\n",
      "  -16.19564662 -23.86660091 -26.41179313]]\n"
     ]
    },
    {
     "name": "stderr",
     "output_type": "stream",
     "text": [
      "100%|██████████████████████████████████████████████████████████████████████████████████| 50/50 [00:00<00:00, 52.02it/s]\n",
      " 14%|███████████▌                                                                       | 7/50 [00:00<00:00, 66.86it/s]"
     ]
    },
    {
     "name": "stdout",
     "output_type": "stream",
     "text": [
      "-25.969135894781612\n",
      "[[-36.16465713 -42.62393703 -35.87989273 -38.39769881 -44.27361262\n",
      "  -34.63349955 -43.00591454 -40.02121818]]\n"
     ]
    },
    {
     "name": "stderr",
     "output_type": "stream",
     "text": [
      "100%|██████████████████████████████████████████████████████████████████████████████████| 50/50 [00:00<00:00, 59.54it/s]\n",
      " 12%|█████████▉                                                                         | 6/50 [00:00<00:00, 51.86it/s]"
     ]
    },
    {
     "name": "stdout",
     "output_type": "stream",
     "text": [
      "-39.62641404645867\n",
      "[[-36.16465713 -42.62393703 -35.87989273 -38.39769881 -44.27361262\n",
      "  -34.63349955 -43.00591454 -40.02121818]]\n"
     ]
    },
    {
     "name": "stderr",
     "output_type": "stream",
     "text": [
      "100%|██████████████████████████████████████████████████████████████████████████████████| 50/50 [00:00<00:00, 55.89it/s]\n",
      " 14%|███████████▌                                                                       | 7/50 [00:00<00:00, 66.84it/s]"
     ]
    },
    {
     "name": "stdout",
     "output_type": "stream",
     "text": [
      "-39.487708473431724\n",
      "[[-38.92681402 -46.77560804 -38.7285153  -49.5196483  -42.55384169\n",
      "  -64.30774462 -40.32460631 -48.76787909]]\n"
     ]
    },
    {
     "name": "stderr",
     "output_type": "stream",
     "text": [
      "100%|██████████████████████████████████████████████████████████████████████████████████| 50/50 [00:00<00:00, 62.32it/s]\n",
      " 16%|█████████████▎                                                                     | 8/50 [00:00<00:00, 73.60it/s]"
     ]
    },
    {
     "name": "stdout",
     "output_type": "stream",
     "text": [
      "-45.5221236040159\n",
      "[[-38.92681402 -46.77560804 -38.7285153  -49.5196483  -42.55384169\n",
      "  -64.30774462 -40.32460631 -48.76787909]]\n"
     ]
    },
    {
     "name": "stderr",
     "output_type": "stream",
     "text": [
      "100%|██████████████████████████████████████████████████████████████████████████████████| 50/50 [00:00<00:00, 64.97it/s]\n",
      " 14%|███████████▌                                                                       | 7/50 [00:00<00:00, 66.84it/s]"
     ]
    },
    {
     "name": "stdout",
     "output_type": "stream",
     "text": [
      "-45.237152588349886\n",
      "[[-38.00871129 -44.54499192 -34.94819317 -46.76160326 -33.8341045\n",
      "  -77.47688207 -40.10836176 -43.01780858]]\n"
     ]
    },
    {
     "name": "stderr",
     "output_type": "stream",
     "text": [
      "100%|██████████████████████████████████████████████████████████████████████████████████| 50/50 [00:00<00:00, 53.81it/s]\n",
      " 14%|███████████▌                                                                       | 7/50 [00:00<00:00, 68.12it/s]"
     ]
    },
    {
     "name": "stdout",
     "output_type": "stream",
     "text": [
      "-42.872675660296956\n",
      "[[-38.00871129 -44.54499192 -34.94819317 -46.76160326 -33.8341045\n",
      "  -77.47688207 -40.10836176 -43.01780858]]\n"
     ]
    },
    {
     "name": "stderr",
     "output_type": "stream",
     "text": [
      "100%|██████████████████████████████████████████████████████████████████████████████████| 50/50 [00:00<00:00, 63.22it/s]\n",
      " 14%|███████████▌                                                                       | 7/50 [00:00<00:00, 66.21it/s]"
     ]
    },
    {
     "name": "stdout",
     "output_type": "stream",
     "text": [
      "-42.81551125908991\n",
      "[[-37.57652274 -50.99944874 -32.21191297 -46.26527541 -44.76142974\n",
      "  -36.86480777 -29.10080591 -49.21775811]]\n"
     ]
    },
    {
     "name": "stderr",
     "output_type": "stream",
     "text": [
      "100%|██████████████████████████████████████████████████████████████████████████████████| 50/50 [00:00<00:00, 65.20it/s]\n",
      " 14%|███████████▌                                                                       | 7/50 [00:00<00:00, 68.14it/s]"
     ]
    },
    {
     "name": "stdout",
     "output_type": "stream",
     "text": [
      "-41.8332995097745\n",
      "[[-37.57652274 -50.99944874 -32.21191297 -46.26527541 -44.76142974\n",
      "  -36.86480777 -29.10080591 -49.21775811]]\n"
     ]
    },
    {
     "name": "stderr",
     "output_type": "stream",
     "text": [
      "100%|██████████████████████████████████████████████████████████████████████████████████| 50/50 [00:00<00:00, 65.88it/s]\n",
      " 14%|███████████▌                                                                       | 7/50 [00:00<00:00, 68.12it/s]"
     ]
    },
    {
     "name": "stdout",
     "output_type": "stream",
     "text": [
      "-41.757075169875996\n",
      "[[-31.61798783 -45.23094596 -33.86172421 -35.81457418 -38.0010929\n",
      "  -24.95782279 -34.71844556 -42.63947083]]\n"
     ]
    },
    {
     "name": "stderr",
     "output_type": "stream",
     "text": [
      "100%|██████████████████████████████████████████████████████████████████████████████████| 50/50 [00:00<00:00, 67.16it/s]\n",
      "  0%|                                                                                           | 0/50 [00:00<?, ?it/s]"
     ]
    },
    {
     "name": "stdout",
     "output_type": "stream",
     "text": [
      "-37.33912773835983\n",
      "[[-31.61798783 -45.23094596 -33.86172421 -35.81457418 -38.0010929\n",
      "  -24.95782279 -34.71844556 -42.63947083]]\n"
     ]
    },
    {
     "name": "stderr",
     "output_type": "stream",
     "text": [
      "100%|██████████████████████████████████████████████████████████████████████████████████| 50/50 [00:00<00:00, 56.84it/s]\n",
      " 14%|███████████▌                                                                       | 7/50 [00:00<00:00, 66.08it/s]"
     ]
    },
    {
     "name": "stdout",
     "output_type": "stream",
     "text": [
      "-37.44864267881077\n",
      "[[-30.07325996 -34.9594945  -32.18789413 -33.90488302 -32.25954848\n",
      "  -29.67157008 -31.04700524 -39.90070039]]\n"
     ]
    },
    {
     "name": "stderr",
     "output_type": "stream",
     "text": [
      "100%|██████████████████████████████████████████████████████████████████████████████████| 50/50 [00:00<00:00, 69.47it/s]\n",
      " 16%|█████████████▎                                                                     | 8/50 [00:00<00:00, 71.60it/s]"
     ]
    },
    {
     "name": "stdout",
     "output_type": "stream",
     "text": [
      "-34.85813196574569\n",
      "[[-30.07325996 -34.9594945  -32.18789413 -33.90488302 -32.25954848\n",
      "  -29.67157008 -31.04700524 -39.90070039]]\n"
     ]
    },
    {
     "name": "stderr",
     "output_type": "stream",
     "text": [
      "100%|██████████████████████████████████████████████████████████████████████████████████| 50/50 [00:00<00:00, 71.21it/s]\n",
      " 16%|█████████████▎                                                                     | 8/50 [00:00<00:00, 72.88it/s]"
     ]
    },
    {
     "name": "stdout",
     "output_type": "stream",
     "text": [
      "-35.03410655515246\n",
      "[[-33.64599992 -39.16519849 -34.88712508 -45.84938434 -36.50318031\n",
      "  -48.14273795 -34.17855345 -41.33352778]]\n"
     ]
    },
    {
     "name": "stderr",
     "output_type": "stream",
     "text": [
      "100%|██████████████████████████████████████████████████████████████████████████████████| 50/50 [00:00<00:00, 68.86it/s]\n",
      " 16%|█████████████▎                                                                     | 8/50 [00:00<00:00, 72.93it/s]"
     ]
    },
    {
     "name": "stdout",
     "output_type": "stream",
     "text": [
      "-38.88705038993731\n",
      "[[-33.64599992 -39.16519849 -34.88712508 -45.84938434 -36.50318031\n",
      "  -48.14273795 -34.17855345 -41.33352778]]\n"
     ]
    },
    {
     "name": "stderr",
     "output_type": "stream",
     "text": [
      "100%|██████████████████████████████████████████████████████████████████████████████████| 50/50 [00:00<00:00, 65.75it/s]\n",
      "  0%|                                                                                           | 0/50 [00:00<?, ?it/s]"
     ]
    },
    {
     "name": "stdout",
     "output_type": "stream",
     "text": [
      "-38.64217964831362\n",
      "[[-36.33154513 -43.04799283 -35.95859113 -40.39724036 -32.03636696\n",
      "  -40.77822399 -44.70530139 -40.66177457]]\n"
     ]
    },
    {
     "name": "stderr",
     "output_type": "stream",
     "text": [
      "100%|██████████████████████████████████████████████████████████████████████████████████| 50/50 [00:00<00:00, 55.43it/s]\n",
      " 14%|███████████▌                                                                       | 7/50 [00:00<00:00, 66.85it/s]"
     ]
    },
    {
     "name": "stdout",
     "output_type": "stream",
     "text": [
      "-39.42860019905698\n",
      "[[-36.33154513 -43.04799283 -35.95859113 -40.39724036 -32.03636696\n",
      "  -40.77822399 -44.70530139 -40.66177457]]\n"
     ]
    },
    {
     "name": "stderr",
     "output_type": "stream",
     "text": [
      "100%|██████████████████████████████████████████████████████████████████████████████████| 50/50 [00:00<00:00, 65.62it/s]\n",
      " 16%|█████████████▎                                                                     | 8/50 [00:00<00:00, 74.29it/s]"
     ]
    },
    {
     "name": "stdout",
     "output_type": "stream",
     "text": [
      "-39.59074275809646\n",
      "[[-28.77699601 -53.2980581  -31.6302657  -44.37205661 -29.88901173\n",
      "  -48.22560197 -44.71450704 -30.97531824]]\n"
     ]
    },
    {
     "name": "stderr",
     "output_type": "stream",
     "text": [
      "100%|██████████████████████████████████████████████████████████████████████████████████| 50/50 [00:00<00:00, 66.02it/s]\n",
      " 12%|█████████▉                                                                         | 6/50 [00:00<00:00, 58.98it/s]"
     ]
    },
    {
     "name": "stdout",
     "output_type": "stream",
     "text": [
      "-34.97729288373499\n",
      "[[-28.77699601 -53.2980581  -31.6302657  -44.37205661 -29.88901173\n",
      "  -48.22560197 -44.71450704 -30.97531824]]\n"
     ]
    },
    {
     "name": "stderr",
     "output_type": "stream",
     "text": [
      "100%|██████████████████████████████████████████████████████████████████████████████████| 50/50 [00:00<00:00, 62.69it/s]\n",
      " 16%|█████████████▎                                                                     | 8/50 [00:00<00:00, 70.99it/s]"
     ]
    },
    {
     "name": "stdout",
     "output_type": "stream",
     "text": [
      "-35.337659473343415\n",
      "[[-34.29063383 -46.67097571 -35.50729049 -34.65289364 -33.62725934\n",
      "  -19.39980799 -42.28975575 -35.58744389]]\n"
     ]
    },
    {
     "name": "stderr",
     "output_type": "stream",
     "text": [
      "100%|██████████████████████████████████████████████████████████████████████████████████| 50/50 [00:00<00:00, 50.70it/s]\n",
      " 12%|█████████▉                                                                         | 6/50 [00:00<00:00, 57.28it/s]"
     ]
    },
    {
     "name": "stdout",
     "output_type": "stream",
     "text": [
      "-35.476801570039115\n",
      "[[-34.29063383 -46.67097571 -35.50729049 -34.65289364 -33.62725934\n",
      "  -19.39980799 -42.28975575 -35.58744389]]\n"
     ]
    },
    {
     "name": "stderr",
     "output_type": "stream",
     "text": [
      "100%|██████████████████████████████████████████████████████████████████████████████████| 50/50 [00:00<00:00, 64.18it/s]\n",
      " 16%|█████████████▎                                                                     | 8/50 [00:00<00:00, 69.75it/s]"
     ]
    },
    {
     "name": "stdout",
     "output_type": "stream",
     "text": [
      "-35.55966611628361\n",
      "[[-41.44445616 -45.36964815 -36.985421   -42.86009286 -34.88966117\n",
      "  -39.187633   -44.48168219 -42.81148995]]\n"
     ]
    },
    {
     "name": "stderr",
     "output_type": "stream",
     "text": [
      "100%|██████████████████████████████████████████████████████████████████████████████████| 50/50 [00:00<00:00, 60.54it/s]\n",
      " 16%|█████████████▎                                                                     | 8/50 [00:00<00:00, 70.99it/s]"
     ]
    },
    {
     "name": "stdout",
     "output_type": "stream",
     "text": [
      "-41.52173148873453\n",
      "[[-41.44445616 -45.36964815 -36.985421   -42.86009286 -34.88966117\n",
      "  -39.187633   -44.48168219 -42.81148995]]\n"
     ]
    },
    {
     "name": "stderr",
     "output_type": "stream",
     "text": [
      "100%|██████████████████████████████████████████████████████████████████████████████████| 50/50 [00:00<00:00, 66.49it/s]\n",
      " 14%|███████████▌                                                                       | 7/50 [00:00<00:00, 66.76it/s]"
     ]
    },
    {
     "name": "stdout",
     "output_type": "stream",
     "text": [
      "-41.398065653662314\n",
      "[[-39.53000731 -37.65380078 -36.60612802 -34.74145769 -28.67298136\n",
      "  -16.83361996 -29.24142135 -41.97297894]]\n"
     ]
    },
    {
     "name": "stderr",
     "output_type": "stream",
     "text": [
      "100%|██████████████████████████████████████████████████████████████████████████████████| 50/50 [00:00<00:00, 62.49it/s]\n",
      " 14%|███████████▌                                                                       | 7/50 [00:00<00:00, 64.39it/s]"
     ]
    },
    {
     "name": "stdout",
     "output_type": "stream",
     "text": [
      "-36.055587513196656\n",
      "[[-39.53000731 -37.65380078 -36.60612802 -34.74145769 -28.67298136\n",
      "  -16.83361996 -29.24142135 -41.97297894]]\n"
     ]
    },
    {
     "name": "stderr",
     "output_type": "stream",
     "text": [
      "100%|██████████████████████████████████████████████████████████████████████████████████| 50/50 [00:00<00:00, 53.85it/s]\n",
      " 16%|█████████████▎                                                                     | 8/50 [00:00<00:00, 73.02it/s]"
     ]
    },
    {
     "name": "stdout",
     "output_type": "stream",
     "text": [
      "-36.03910042032226\n",
      "[[-39.39906538 -38.79771634 -36.93978563 -35.0386472  -35.9293157\n",
      "  -15.7522867  -29.33834217 -46.79447494]]\n"
     ]
    },
    {
     "name": "stderr",
     "output_type": "stream",
     "text": [
      "100%|██████████████████████████████████████████████████████████████████████████████████| 50/50 [00:00<00:00, 64.01it/s]\n",
      " 14%|███████████▌                                                                       | 7/50 [00:00<00:00, 65.59it/s]"
     ]
    },
    {
     "name": "stdout",
     "output_type": "stream",
     "text": [
      "-38.54541853510684\n",
      "[[-39.39906538 -38.79771634 -36.93978563 -35.0386472  -35.9293157\n",
      "  -15.7522867  -29.33834217 -46.79447494]]\n"
     ]
    },
    {
     "name": "stderr",
     "output_type": "stream",
     "text": [
      "100%|██████████████████████████████████████████████████████████████████████████████████| 50/50 [00:00<00:00, 63.46it/s]\n",
      " 14%|███████████▌                                                                       | 7/50 [00:00<00:00, 65.59it/s]"
     ]
    },
    {
     "name": "stdout",
     "output_type": "stream",
     "text": [
      "-38.733924821983265\n",
      "[[-38.55913656 -40.41195175 -37.68708726 -34.18691954 -37.01849171\n",
      "  -19.681423   -39.19553424 -45.77420821]]\n"
     ]
    },
    {
     "name": "stderr",
     "output_type": "stream",
     "text": [
      "100%|██████████████████████████████████████████████████████████████████████████████████| 50/50 [00:00<00:00, 66.08it/s]\n",
      " 14%|███████████▌                                                                       | 7/50 [00:00<00:00, 67.49it/s]"
     ]
    },
    {
     "name": "stdout",
     "output_type": "stream",
     "text": [
      "-39.71103559247433\n",
      "[[-38.55913656 -40.41195175 -37.68708726 -34.18691954 -37.01849171\n",
      "  -19.681423   -39.19553424 -45.77420821]]\n"
     ]
    },
    {
     "name": "stderr",
     "output_type": "stream",
     "text": [
      "100%|██████████████████████████████████████████████████████████████████████████████████| 50/50 [00:01<00:00, 46.49it/s]\n",
      " 14%|███████████▌                                                                       | 7/50 [00:00<00:00, 63.81it/s]"
     ]
    },
    {
     "name": "stdout",
     "output_type": "stream",
     "text": [
      "-40.00453623085985\n",
      "[[-34.56308303 -46.15359123 -34.3554176  -34.0445484  -25.23279222\n",
      "  -28.74874742 -44.07132821 -42.89505659]]\n"
     ]
    },
    {
     "name": "stderr",
     "output_type": "stream",
     "text": [
      "100%|██████████████████████████████████████████████████████████████████████████████████| 50/50 [00:00<00:00, 61.67it/s]\n",
      " 10%|████████▎                                                                          | 5/50 [00:00<00:00, 47.75it/s]"
     ]
    },
    {
     "name": "stdout",
     "output_type": "stream",
     "text": [
      "-38.223387452814215\n",
      "[[-34.56308303 -46.15359123 -34.3554176  -34.0445484  -25.23279222\n",
      "  -28.74874742 -44.07132821 -42.89505659]]\n"
     ]
    },
    {
     "name": "stderr",
     "output_type": "stream",
     "text": [
      "100%|██████████████████████████████████████████████████████████████████████████████████| 50/50 [00:01<00:00, 48.79it/s]\n",
      " 12%|█████████▉                                                                         | 6/50 [00:00<00:00, 48.91it/s]"
     ]
    },
    {
     "name": "stdout",
     "output_type": "stream",
     "text": [
      "-38.43273695036835\n",
      "[[-34.46202642 -49.8930578  -31.86809488 -41.93807654 -36.93135369\n",
      "  -64.78173276 -45.1006855  -34.72284195]]\n"
     ]
    },
    {
     "name": "stderr",
     "output_type": "stream",
     "text": [
      "100%|██████████████████████████████████████████████████████████████████████████████████| 50/50 [00:00<00:00, 59.96it/s]\n",
      " 14%|███████████▌                                                                       | 7/50 [00:00<00:00, 59.99it/s]"
     ]
    },
    {
     "name": "stdout",
     "output_type": "stream",
     "text": [
      "-38.669471282475676\n",
      "[[-34.46202642 -49.8930578  -31.86809488 -41.93807654 -36.93135369\n",
      "  -64.78173276 -45.1006855  -34.72284195]]\n"
     ]
    },
    {
     "name": "stderr",
     "output_type": "stream",
     "text": [
      "100%|██████████████████████████████████████████████████████████████████████████████████| 50/50 [00:00<00:00, 60.66it/s]\n",
      " 14%|███████████▌                                                                       | 7/50 [00:00<00:00, 63.25it/s]"
     ]
    },
    {
     "name": "stdout",
     "output_type": "stream",
     "text": [
      "-38.83902246139328\n",
      "[[-32.45420611 -39.31684766 -31.60598343 -34.66875302 -36.93135369\n",
      "  -45.26532619 -46.64459808 -35.14586952]]\n"
     ]
    },
    {
     "name": "stderr",
     "output_type": "stream",
     "text": [
      "100%|██████████████████████████████████████████████████████████████████████████████████| 50/50 [00:00<00:00, 50.33it/s]\n",
      " 12%|█████████▉                                                                         | 6/50 [00:00<00:00, 59.49it/s]"
     ]
    },
    {
     "name": "stdout",
     "output_type": "stream",
     "text": [
      "-36.97803768900695\n",
      "[[-32.45420611 -39.31684766 -31.60598343 -34.66875302 -36.93135369\n",
      "  -45.26532619 -46.64459808 -35.14586952]]\n"
     ]
    },
    {
     "name": "stderr",
     "output_type": "stream",
     "text": [
      "100%|██████████████████████████████████████████████████████████████████████████████████| 50/50 [00:00<00:00, 65.61it/s]\n",
      " 12%|█████████▉                                                                         | 6/50 [00:00<00:00, 54.20it/s]"
     ]
    },
    {
     "name": "stdout",
     "output_type": "stream",
     "text": [
      "-36.73435550600838\n",
      "[[-32.51614825 -36.70321625 -33.77607982 -37.20985758 -27.86786469\n",
      "  -33.06812156 -44.79883721 -34.40412307]]\n"
     ]
    },
    {
     "name": "stderr",
     "output_type": "stream",
     "text": [
      "100%|██████████████████████████████████████████████████████████████████████████████████| 50/50 [00:00<00:00, 59.00it/s]\n",
      " 16%|█████████████▎                                                                     | 8/50 [00:00<00:00, 74.72it/s]"
     ]
    },
    {
     "name": "stdout",
     "output_type": "stream",
     "text": [
      "-35.028202544351295\n",
      "[[-32.51614825 -36.70321625 -33.77607982 -37.20985758 -27.86786469\n",
      "  -33.06812156 -44.79883721 -34.40412307]]\n"
     ]
    },
    {
     "name": "stderr",
     "output_type": "stream",
     "text": [
      "100%|██████████████████████████████████████████████████████████████████████████████████| 50/50 [00:00<00:00, 62.64it/s]\n",
      " 16%|█████████████▎                                                                     | 8/50 [00:00<00:00, 76.38it/s]"
     ]
    },
    {
     "name": "stdout",
     "output_type": "stream",
     "text": [
      "-35.410087222336976\n",
      "[[-31.04663912 -32.11492436 -31.88238772 -31.75655257 -32.70961021\n",
      "  -48.74497774 -30.8748827  -33.85888209]]\n"
     ]
    },
    {
     "name": "stderr",
     "output_type": "stream",
     "text": [
      "100%|██████████████████████████████████████████████████████████████████████████████████| 50/50 [00:00<00:00, 53.78it/s]\n",
      " 12%|█████████▉                                                                         | 6/50 [00:00<00:00, 59.44it/s]"
     ]
    },
    {
     "name": "stdout",
     "output_type": "stream",
     "text": [
      "-33.6771173188274\n",
      "[[-31.04663912 -32.11492436 -31.88238772 -31.75655257 -32.70961021\n",
      "  -48.74497774 -30.8748827  -33.85888209]]\n"
     ]
    },
    {
     "name": "stderr",
     "output_type": "stream",
     "text": [
      "100%|██████████████████████████████████████████████████████████████████████████████████| 50/50 [00:00<00:00, 63.88it/s]\n",
      " 14%|███████████▌                                                                       | 7/50 [00:00<00:00, 67.47it/s]"
     ]
    },
    {
     "name": "stdout",
     "output_type": "stream",
     "text": [
      "-33.76442224258097\n",
      "[[-29.70860101 -22.61266298 -29.88655577 -24.4217397  -23.6764966\n",
      "  -51.38813024 -27.93306168 -30.55752071]]\n"
     ]
    },
    {
     "name": "stderr",
     "output_type": "stream",
     "text": [
      "100%|██████████████████████████████████████████████████████████████████████████████████| 50/50 [00:00<00:00, 59.83it/s]\n",
      " 14%|███████████▌                                                                       | 7/50 [00:00<00:00, 63.61it/s]"
     ]
    },
    {
     "name": "stdout",
     "output_type": "stream",
     "text": [
      "-30.17044628695787\n",
      "[[-29.70860101 -22.61266298 -29.88655577 -24.4217397  -23.6764966\n",
      "  -51.38813024 -27.93306168 -30.55752071]]\n"
     ]
    },
    {
     "name": "stderr",
     "output_type": "stream",
     "text": [
      "100%|██████████████████████████████████████████████████████████████████████████████████| 50/50 [00:00<00:00, 61.64it/s]\n",
      " 16%|█████████████▎                                                                     | 8/50 [00:00<00:00, 69.75it/s]"
     ]
    },
    {
     "name": "stdout",
     "output_type": "stream",
     "text": [
      "-30.127652086973413\n",
      "[[-26.72364803 -39.93321552 -33.88432433 -34.83870855 -23.6764966\n",
      "  -19.8652845  -16.57822798 -40.19287426]]\n"
     ]
    },
    {
     "name": "stderr",
     "output_type": "stream",
     "text": [
      "100%|██████████████████████████████████████████████████████████████████████████████████| 50/50 [00:00<00:00, 61.06it/s]\n",
      " 12%|█████████▉                                                                         | 6/50 [00:00<00:00, 57.30it/s]"
     ]
    },
    {
     "name": "stdout",
     "output_type": "stream",
     "text": [
      "-32.372916778226895\n",
      "[[-26.72364803 -39.93321552 -33.88432433 -34.83870855 -23.6764966\n",
      "  -19.8652845  -16.57822798 -40.19287426]]\n"
     ]
    },
    {
     "name": "stderr",
     "output_type": "stream",
     "text": [
      "100%|██████████████████████████████████████████████████████████████████████████████████| 50/50 [00:01<00:00, 49.54it/s]\n",
      " 16%|█████████████▎                                                                     | 8/50 [00:00<00:00, 68.19it/s]"
     ]
    },
    {
     "name": "stdout",
     "output_type": "stream",
     "text": [
      "-32.14491085590656\n",
      "[[-31.67819036 -46.02385676 -34.57133152 -38.92768699 -24.65423094\n",
      "  -24.90999817 -42.21316141 -35.6866508 ]]\n"
     ]
    },
    {
     "name": "stderr",
     "output_type": "stream",
     "text": [
      "100%|██████████████████████████████████████████████████████████████████████████████████| 50/50 [00:00<00:00, 66.59it/s]\n",
      " 14%|███████████▌                                                                       | 7/50 [00:00<00:00, 69.50it/s]"
     ]
    },
    {
     "name": "stdout",
     "output_type": "stream",
     "text": [
      "-35.05269010430393\n",
      "[[-31.67819036 -46.02385676 -34.57133152 -38.92768699 -24.65423094\n",
      "  -24.90999817 -42.21316141 -35.6866508 ]]\n"
     ]
    },
    {
     "name": "stderr",
     "output_type": "stream",
     "text": [
      "100%|██████████████████████████████████████████████████████████████████████████████████| 50/50 [00:00<00:00, 65.53it/s]\n",
      " 16%|█████████████▎                                                                     | 8/50 [00:00<00:00, 71.29it/s]"
     ]
    },
    {
     "name": "stdout",
     "output_type": "stream",
     "text": [
      "-34.835813113222706\n",
      "[[-30.99373704 -37.85960019 -35.52892767 -37.65988293 -34.245899\n",
      "  -37.57428575 -41.86390655 -31.23518914]]\n"
     ]
    },
    {
     "name": "stderr",
     "output_type": "stream",
     "text": [
      "100%|██████████████████████████████████████████████████████████████████████████████████| 50/50 [00:00<00:00, 64.06it/s]\n",
      " 14%|███████████▌                                                                       | 7/50 [00:00<00:00, 64.98it/s]"
     ]
    },
    {
     "name": "stdout",
     "output_type": "stream",
     "text": [
      "-34.41317484546419\n",
      "[[-30.99373704 -37.85960019 -35.52892767 -37.65988293 -34.245899\n",
      "  -37.57428575 -41.86390655 -31.23518914]]\n"
     ]
    },
    {
     "name": "stderr",
     "output_type": "stream",
     "text": [
      "100%|██████████████████████████████████████████████████████████████████████████████████| 50/50 [00:00<00:00, 62.75it/s]\n",
      " 14%|███████████▌                                                                       | 7/50 [00:00<00:00, 69.49it/s]"
     ]
    },
    {
     "name": "stdout",
     "output_type": "stream",
     "text": [
      "-34.2151130166248\n",
      "[[-34.36805806 -48.53362534 -33.84849608 -41.22487838 -25.23279222\n",
      "  -40.35859069 -42.19621993 -46.19456698]]\n"
     ]
    },
    {
     "name": "stderr",
     "output_type": "stream",
     "text": [
      "100%|██████████████████████████████████████████████████████████████████████████████████| 50/50 [00:00<00:00, 55.07it/s]\n",
      " 14%|███████████▌                                                                       | 7/50 [00:00<00:00, 68.81it/s]"
     ]
    },
    {
     "name": "stdout",
     "output_type": "stream",
     "text": [
      "-40.547234354884594\n",
      "[[-34.36805806 -48.53362534 -33.84849608 -41.22487838 -25.23279222\n",
      "  -40.35859069 -42.19621993 -46.19456698]]\n"
     ]
    },
    {
     "name": "stderr",
     "output_type": "stream",
     "text": [
      "100%|██████████████████████████████████████████████████████████████████████████████████| 50/50 [00:00<00:00, 63.91it/s]\n",
      " 14%|███████████▌                                                                       | 7/50 [00:00<00:00, 67.85it/s]"
     ]
    },
    {
     "name": "stdout",
     "output_type": "stream",
     "text": [
      "-40.37886198240267\n",
      "[[-34.27997417 -39.36204201 -33.2219068  -36.20417613 -23.80038923\n",
      "  -30.15281575 -44.07132821 -31.02660122]]\n"
     ]
    },
    {
     "name": "stderr",
     "output_type": "stream",
     "text": [
      "100%|██████████████████████████████████████████████████████████████████████████████████| 50/50 [00:00<00:00, 66.10it/s]\n",
      " 14%|███████████▌                                                                       | 7/50 [00:00<00:00, 68.14it/s]"
     ]
    },
    {
     "name": "stdout",
     "output_type": "stream",
     "text": [
      "-33.154305756214974\n",
      "[[-34.27997417 -39.36204201 -33.2219068  -36.20417613 -23.80038923\n",
      "  -30.15281575 -44.07132821 -31.02660122]]\n"
     ]
    },
    {
     "name": "stderr",
     "output_type": "stream",
     "text": [
      "100%|██████████████████████████████████████████████████████████████████████████████████| 50/50 [00:00<00:00, 65.74it/s]\n",
      " 12%|█████████▉                                                                         | 6/50 [00:00<00:00, 56.69it/s]"
     ]
    },
    {
     "name": "stdout",
     "output_type": "stream",
     "text": [
      "-33.26131323436186\n",
      "[[-28.04174358 -28.32519969 -33.44899425 -35.04874422 -30.05180497\n",
      "  -43.47251741 -23.78954769 -19.99384734]]\n"
     ]
    },
    {
     "name": "stderr",
     "output_type": "stream",
     "text": [
      "100%|██████████████████████████████████████████████████████████████████████████████████| 50/50 [00:01<00:00, 49.50it/s]\n",
      " 16%|█████████████▎                                                                     | 8/50 [00:00<00:00, 72.92it/s]"
     ]
    },
    {
     "name": "stdout",
     "output_type": "stream",
     "text": [
      "-26.844688834163943\n",
      "[[-28.04174358 -28.32519969 -33.44899425 -35.04874422 -30.05180497\n",
      "  -43.47251741 -23.78954769 -19.99384734]]\n"
     ]
    },
    {
     "name": "stderr",
     "output_type": "stream",
     "text": [
      "100%|██████████████████████████████████████████████████████████████████████████████████| 50/50 [00:00<00:00, 66.66it/s]\n",
      " 14%|███████████▌                                                                       | 7/50 [00:00<00:00, 69.13it/s]"
     ]
    },
    {
     "name": "stdout",
     "output_type": "stream",
     "text": [
      "-26.680107711932664\n",
      "[[-32.72473489 -29.52257609 -23.63679041 -33.59353516 -21.38213187\n",
      "  -46.34517251 -24.19779782 -37.16064522]]\n"
     ]
    },
    {
     "name": "stderr",
     "output_type": "stream",
     "text": [
      "100%|██████████████████████████████████████████████████████████████████████████████████| 50/50 [00:00<00:00, 57.13it/s]\n",
      " 16%|█████████████▎                                                                     | 8/50 [00:00<00:00, 67.98it/s]"
     ]
    },
    {
     "name": "stdout",
     "output_type": "stream",
     "text": [
      "-32.07033591016431\n",
      "[[-32.72473489 -29.52257609 -23.63679041 -33.59353516 -21.38213187\n",
      "  -46.34517251 -24.19779782 -37.16064522]]\n"
     ]
    },
    {
     "name": "stderr",
     "output_type": "stream",
     "text": [
      "100%|██████████████████████████████████████████████████████████████████████████████████| 50/50 [00:00<00:00, 64.08it/s]\n",
      " 12%|█████████▉                                                                         | 6/50 [00:00<00:00, 54.69it/s]"
     ]
    },
    {
     "name": "stdout",
     "output_type": "stream",
     "text": [
      "-32.1771705910337\n",
      "[[-28.21580571 -33.78639406 -34.1243357  -24.14202774 -23.0993464\n",
      "   -8.36161735 -25.41408589 -35.04341284]]\n"
     ]
    },
    {
     "name": "stderr",
     "output_type": "stream",
     "text": [
      "100%|██████████████████████████████████████████████████████████████████████████████████| 50/50 [00:00<00:00, 64.11it/s]\n",
      " 12%|█████████▉                                                                         | 6/50 [00:00<00:00, 53.24it/s]"
     ]
    },
    {
     "name": "stdout",
     "output_type": "stream",
     "text": [
      "-29.844309081601118\n",
      "[[-28.21580571 -33.78639406 -34.1243357  -24.14202774 -23.0993464\n",
      "   -8.36161735 -25.41408589 -35.04341284]]\n"
     ]
    },
    {
     "name": "stderr",
     "output_type": "stream",
     "text": [
      "100%|██████████████████████████████████████████████████████████████████████████████████| 50/50 [00:00<00:00, 51.51it/s]\n",
      " 14%|███████████▌                                                                       | 7/50 [00:00<00:00, 69.48it/s]"
     ]
    },
    {
     "name": "stdout",
     "output_type": "stream",
     "text": [
      "-29.584395287764732\n",
      "[[-33.98503173 -44.00706716 -35.87466275 -33.29532445 -30.05180497\n",
      "  -23.69927787 -43.00591454 -39.84123208]]\n"
     ]
    },
    {
     "name": "stderr",
     "output_type": "stream",
     "text": [
      "100%|██████████████████████████████████████████████████████████████████████████████████| 50/50 [00:00<00:00, 69.24it/s]\n",
      " 14%|███████████▌                                                                       | 7/50 [00:00<00:00, 67.72it/s]"
     ]
    },
    {
     "name": "stdout",
     "output_type": "stream",
     "text": [
      "-37.07254017487068\n",
      "[[-33.98503173 -44.00706716 -35.87466275 -33.29532445 -30.05180497\n",
      "  -23.69927787 -43.00591454 -39.84123208]]\n"
     ]
    },
    {
     "name": "stderr",
     "output_type": "stream",
     "text": [
      "100%|██████████████████████████████████████████████████████████████████████████████████| 50/50 [00:00<00:00, 63.39it/s]\n",
      " 14%|███████████▌                                                                       | 7/50 [00:00<00:00, 67.49it/s]"
     ]
    },
    {
     "name": "stdout",
     "output_type": "stream",
     "text": [
      "-37.151886977277044\n",
      "[[-40.11094495 -55.43321019 -38.33217467 -53.62425648 -33.55365364\n",
      "  -74.69089144 -28.26792901 -48.27674229]]\n"
     ]
    },
    {
     "name": "stderr",
     "output_type": "stream",
     "text": [
      "100%|██████████████████████████████████████████████████████████████████████████████████| 50/50 [00:00<00:00, 62.57it/s]\n",
      " 12%|█████████▉                                                                         | 6/50 [00:00<00:00, 55.36it/s]"
     ]
    },
    {
     "name": "stdout",
     "output_type": "stream",
     "text": [
      "-44.592763877497674\n",
      "[[-40.11094495 -55.43321019 -38.33217467 -53.62425648 -33.55365364\n",
      "  -74.69089144 -28.26792901 -48.27674229]]\n"
     ]
    },
    {
     "name": "stderr",
     "output_type": "stream",
     "text": [
      "100%|██████████████████████████████████████████████████████████████████████████████████| 50/50 [00:00<00:00, 59.02it/s]\n",
      " 12%|█████████▉                                                                         | 6/50 [00:00<00:00, 55.70it/s]"
     ]
    },
    {
     "name": "stdout",
     "output_type": "stream",
     "text": [
      "-44.86696195749151\n",
      "[[-41.84602374 -59.35791657 -36.68194106 -55.29987663 -42.2864201\n",
      "  -63.11299222 -28.63436057 -42.77458931]]\n"
     ]
    },
    {
     "name": "stderr",
     "output_type": "stream",
     "text": [
      "100%|██████████████████████████████████████████████████████████████████████████████████| 50/50 [00:00<00:00, 50.55it/s]\n",
      " 12%|█████████▉                                                                         | 6/50 [00:00<00:00, 54.38it/s]"
     ]
    },
    {
     "name": "stdout",
     "output_type": "stream",
     "text": [
      "-42.744929363230625\n",
      "[[-41.84602374 -59.35791657 -36.68194106 -55.29987663 -42.2864201\n",
      "  -63.11299222 -28.63436057 -42.77458931]]\n"
     ]
    },
    {
     "name": "stderr",
     "output_type": "stream",
     "text": [
      "100%|██████████████████████████████████████████████████████████████████████████████████| 50/50 [00:00<00:00, 63.29it/s]\n",
      " 14%|███████████▌                                                                       | 7/50 [00:00<00:00, 64.39it/s]"
     ]
    },
    {
     "name": "stdout",
     "output_type": "stream",
     "text": [
      "-42.79220454375293\n",
      "[[-40.54133216 -45.69210534 -35.01489316 -37.3110285  -32.94352515\n",
      "  -43.56378456 -38.32773887 -36.61830115]]\n"
     ]
    },
    {
     "name": "stderr",
     "output_type": "stream",
     "text": [
      "100%|██████████████████████████████████████████████████████████████████████████████████| 50/50 [00:00<00:00, 62.65it/s]\n",
      " 14%|███████████▌                                                                       | 7/50 [00:00<00:00, 64.99it/s]"
     ]
    },
    {
     "name": "stdout",
     "output_type": "stream",
     "text": [
      "-37.64147447505056\n",
      "[[-40.54133216 -45.69210534 -35.01489316 -37.3110285  -32.94352515\n",
      "  -43.56378456 -38.32773887 -36.61830115]]\n"
     ]
    },
    {
     "name": "stderr",
     "output_type": "stream",
     "text": [
      "100%|██████████████████████████████████████████████████████████████████████████████████| 50/50 [00:00<00:00, 58.31it/s]\n",
      " 12%|█████████▉                                                                         | 6/50 [00:00<00:00, 55.19it/s]"
     ]
    },
    {
     "name": "stdout",
     "output_type": "stream",
     "text": [
      "-37.42835804254978\n",
      "[[-31.65438992 -38.26271473 -34.99357649 -32.53954989 -31.0474209\n",
      "  -27.28595111 -40.18877781 -37.01600465]]\n"
     ]
    },
    {
     "name": "stderr",
     "output_type": "stream",
     "text": [
      "100%|██████████████████████████████████████████████████████████████████████████████████| 50/50 [00:01<00:00, 48.98it/s]\n",
      " 12%|█████████▉                                                                         | 6/50 [00:00<00:00, 58.41it/s]"
     ]
    },
    {
     "name": "stdout",
     "output_type": "stream",
     "text": [
      "-35.15156318912091\n",
      "[[-31.65438992 -38.26271473 -34.99357649 -32.53954989 -31.0474209\n",
      "  -27.28595111 -40.18877781 -37.01600465]]\n"
     ]
    },
    {
     "name": "stderr",
     "output_type": "stream",
     "text": [
      "100%|██████████████████████████████████████████████████████████████████████████████████| 50/50 [00:00<00:00, 65.97it/s]\n",
      " 14%|███████████▌                                                                       | 7/50 [00:00<00:00, 67.49it/s]"
     ]
    },
    {
     "name": "stdout",
     "output_type": "stream",
     "text": [
      "-35.20274292924723\n",
      "[[-45.9552499  -57.60786316 -40.42201799 -60.78606626 -45.83507461\n",
      "  -49.15185129 -39.064295   -48.82945228]]\n"
     ]
    },
    {
     "name": "stderr",
     "output_type": "stream",
     "text": [
      "100%|██████████████████████████████████████████████████████████████████████████████████| 50/50 [00:00<00:00, 65.62it/s]\n",
      " 16%|█████████████▎                                                                     | 8/50 [00:00<00:00, 74.97it/s]"
     ]
    },
    {
     "name": "stdout",
     "output_type": "stream",
     "text": [
      "-47.18956627851048\n",
      "[[-45.9552499  -57.60786316 -40.42201799 -60.78606626 -45.83507461\n",
      "  -49.15185129 -39.064295   -48.82945228]]\n"
     ]
    },
    {
     "name": "stderr",
     "output_type": "stream",
     "text": [
      "100%|██████████████████████████████████████████████████████████████████████████████████| 50/50 [00:00<00:00, 52.24it/s]\n",
      " 10%|████████▎                                                                          | 5/50 [00:00<00:00, 45.79it/s]"
     ]
    },
    {
     "name": "stdout",
     "output_type": "stream",
     "text": [
      "-46.92700066645877\n",
      "[[-45.06166006 -55.66604615 -43.80045663 -67.59194051 -45.83507461\n",
      "  -43.47221843 -37.79664634 -50.90423334]]\n"
     ]
    },
    {
     "name": "stderr",
     "output_type": "stream",
     "text": [
      "100%|██████████████████████████████████████████████████████████████████████████████████| 50/50 [00:00<00:00, 57.66it/s]\n",
      " 14%|███████████▌                                                                       | 7/50 [00:00<00:00, 68.81it/s]"
     ]
    },
    {
     "name": "stdout",
     "output_type": "stream",
     "text": [
      "-48.044596767372035\n",
      "[[-45.06166006 -55.66604615 -43.80045663 -67.59194051 -45.83507461\n",
      "  -43.47221843 -37.79664634 -50.90423334]]\n"
     ]
    },
    {
     "name": "stderr",
     "output_type": "stream",
     "text": [
      "100%|██████████████████████████████████████████████████████████████████████████████████| 50/50 [00:00<00:00, 51.82it/s]\n",
      " 14%|███████████▌                                                                       | 7/50 [00:00<00:00, 66.85it/s]"
     ]
    },
    {
     "name": "stdout",
     "output_type": "stream",
     "text": [
      "-47.93531425338157\n",
      "[[-38.35603723 -54.39347415 -40.78387939 -55.34449867 -38.67821172\n",
      "  -60.78207532 -40.57325613 -48.70992782]]\n"
     ]
    },
    {
     "name": "stderr",
     "output_type": "stream",
     "text": [
      "100%|██████████████████████████████████████████████████████████████████████████████████| 50/50 [00:00<00:00, 68.77it/s]\n",
      " 12%|█████████▉                                                                         | 6/50 [00:00<00:00, 58.41it/s]"
     ]
    },
    {
     "name": "stdout",
     "output_type": "stream",
     "text": [
      "-46.409374374202706\n",
      "[[-38.35603723 -54.39347415 -40.78387939 -55.34449867 -38.67821172\n",
      "  -60.78207532 -40.57325613 -48.70992782]]\n"
     ]
    },
    {
     "name": "stderr",
     "output_type": "stream",
     "text": [
      "100%|██████████████████████████████████████████████████████████████████████████████████| 50/50 [00:00<00:00, 63.33it/s]\n",
      " 14%|███████████▌                                                                       | 7/50 [00:00<00:00, 68.79it/s]"
     ]
    },
    {
     "name": "stdout",
     "output_type": "stream",
     "text": [
      "-46.202776403906846\n",
      "[[-40.31911208 -44.83205729 -37.30596787 -46.65076716 -44.19187133\n",
      "  -51.40132722 -40.89711892 -42.94672487]]\n"
     ]
    },
    {
     "name": "stderr",
     "output_type": "stream",
     "text": [
      "100%|██████████████████████████████████████████████████████████████████████████████████| 50/50 [00:00<00:00, 66.84it/s]\n",
      " 14%|███████████▌                                                                       | 7/50 [00:00<00:00, 63.80it/s]"
     ]
    },
    {
     "name": "stdout",
     "output_type": "stream",
     "text": [
      "-42.573455578137\n",
      "[[-40.31911208 -44.83205729 -37.30596787 -46.65076716 -44.19187133\n",
      "  -51.40132722 -40.89711892 -42.94672487]]\n"
     ]
    },
    {
     "name": "stderr",
     "output_type": "stream",
     "text": [
      "100%|██████████████████████████████████████████████████████████████████████████████████| 50/50 [00:01<00:00, 47.87it/s]\n",
      " 14%|███████████▌                                                                       | 7/50 [00:00<00:00, 63.81it/s]"
     ]
    },
    {
     "name": "stdout",
     "output_type": "stream",
     "text": [
      "-42.44268534699318\n",
      "[[-42.43517179 -51.03780142 -35.55462558 -51.35144824 -44.54753755\n",
      "  -69.97231364 -40.9122236  -47.9368506 ]]\n"
     ]
    },
    {
     "name": "stderr",
     "output_type": "stream",
     "text": [
      "100%|██████████████████████████████████████████████████████████████████████████████████| 50/50 [00:00<00:00, 61.63it/s]\n",
      " 14%|███████████▌                                                                       | 7/50 [00:00<00:00, 63.81it/s]"
     ]
    },
    {
     "name": "stdout",
     "output_type": "stream",
     "text": [
      "-46.090848490361395\n",
      "[[-42.43517179 -51.03780142 -35.55462558 -51.35144824 -44.54753755\n",
      "  -69.97231364 -40.9122236  -47.9368506 ]]\n"
     ]
    },
    {
     "name": "stderr",
     "output_type": "stream",
     "text": [
      "100%|██████████████████████████████████████████████████████████████████████████████████| 50/50 [00:00<00:00, 66.98it/s]\n",
      " 16%|█████████████▎                                                                     | 8/50 [00:00<00:00, 74.27it/s]"
     ]
    },
    {
     "name": "stdout",
     "output_type": "stream",
     "text": [
      "-46.16565739793242\n",
      "[[-43.35186649 -61.83753676 -35.43075237 -60.90035587 -44.54753755\n",
      "  -70.17823818 -40.05419966 -48.94040125]]\n"
     ]
    },
    {
     "name": "stderr",
     "output_type": "stream",
     "text": [
      "100%|██████████████████████████████████████████████████████████████████████████████████| 50/50 [00:00<00:00, 61.82it/s]\n",
      " 14%|███████████▌                                                                       | 7/50 [00:00<00:00, 61.57it/s]"
     ]
    },
    {
     "name": "stdout",
     "output_type": "stream",
     "text": [
      "-47.41860837788413\n",
      "[[-43.35186649 -61.83753676 -35.43075237 -60.90035587 -44.54753755\n",
      "  -70.17823818 -40.05419966 -48.94040125]]\n"
     ]
    },
    {
     "name": "stderr",
     "output_type": "stream",
     "text": [
      "100%|██████████████████████████████████████████████████████████████████████████████████| 50/50 [00:00<00:00, 53.77it/s]\n",
      " 14%|███████████▌                                                                       | 7/50 [00:00<00:00, 60.51it/s]"
     ]
    },
    {
     "name": "stdout",
     "output_type": "stream",
     "text": [
      "-47.65406027876592\n",
      "[[-26.84851768 -40.45250482 -33.32205685 -32.74357633 -26.78046931\n",
      "  -34.63760956 -16.85414269 -39.9451943 ]]\n"
     ]
    },
    {
     "name": "stderr",
     "output_type": "stream",
     "text": [
      "100%|██████████████████████████████████████████████████████████████████████████████████| 50/50 [00:01<00:00, 48.59it/s]\n",
      " 14%|███████████▌                                                                       | 7/50 [00:00<00:00, 65.60it/s]"
     ]
    },
    {
     "name": "stdout",
     "output_type": "stream",
     "text": [
      "-32.72357852694738\n",
      "[[-26.84851768 -40.45250482 -33.32205685 -32.74357633 -26.78046931\n",
      "  -34.63760956 -16.85414269 -39.9451943 ]]\n"
     ]
    },
    {
     "name": "stderr",
     "output_type": "stream",
     "text": [
      "100%|██████████████████████████████████████████████████████████████████████████████████| 50/50 [00:00<00:00, 62.20it/s]\n",
      " 14%|███████████▌                                                                       | 7/50 [00:00<00:00, 61.43it/s]"
     ]
    },
    {
     "name": "stdout",
     "output_type": "stream",
     "text": [
      "-32.99797223180745\n",
      "[[-32.55579658 -44.5989224  -32.52173777 -39.97024405 -29.57159519\n",
      "  -27.33671939 -24.83684131 -37.47644962]]\n"
     ]
    },
    {
     "name": "stderr",
     "output_type": "stream",
     "text": [
      "100%|██████████████████████████████████████████████████████████████████████████████████| 50/50 [00:00<00:00, 57.88it/s]\n",
      " 14%|███████████▌                                                                       | 7/50 [00:00<00:00, 68.81it/s]"
     ]
    },
    {
     "name": "stdout",
     "output_type": "stream",
     "text": [
      "-34.018042479650056\n",
      "[[-32.55579658 -44.5989224  -32.52173777 -39.97024405 -29.57159519\n",
      "  -27.33671939 -24.83684131 -37.47644962]]\n"
     ]
    },
    {
     "name": "stderr",
     "output_type": "stream",
     "text": [
      "100%|██████████████████████████████████████████████████████████████████████████████████| 50/50 [00:00<00:00, 67.29it/s]\n",
      " 14%|███████████▌                                                                       | 7/50 [00:00<00:00, 61.83it/s]"
     ]
    },
    {
     "name": "stdout",
     "output_type": "stream",
     "text": [
      "-33.905781277158724\n",
      "[[-32.55579658 -44.5989224  -32.52173777 -39.97024405 -29.57159519\n",
      "  -27.33671939 -24.83684131 -37.47644962]]\n"
     ]
    },
    {
     "name": "stderr",
     "output_type": "stream",
     "text": [
      "100%|██████████████████████████████████████████████████████████████████████████████████| 50/50 [00:00<00:00, 63.58it/s]\n",
      " 14%|███████████▌                                                                       | 7/50 [00:00<00:00, 64.99it/s]"
     ]
    },
    {
     "name": "stdout",
     "output_type": "stream",
     "text": [
      "-33.89519780088397\n",
      "[[-37.54232703 -41.38643138 -35.56957314 -34.0207172  -32.0501474\n",
      "  -19.86162431 -39.45412582 -34.52150107]]\n"
     ]
    },
    {
     "name": "stderr",
     "output_type": "stream",
     "text": [
      "100%|██████████████████████████████████████████████████████████████████████████████████| 50/50 [00:00<00:00, 55.49it/s]\n",
      " 16%|█████████████▎                                                                     | 8/50 [00:00<00:00, 72.84it/s]"
     ]
    },
    {
     "name": "stdout",
     "output_type": "stream",
     "text": [
      "-34.756928387967285\n",
      "[[-37.54232703 -41.38643138 -35.56957314 -34.0207172  -32.0501474\n",
      "  -19.86162431 -39.45412582 -34.52150107]]\n"
     ]
    },
    {
     "name": "stderr",
     "output_type": "stream",
     "text": [
      "100%|██████████████████████████████████████████████████████████████████████████████████| 50/50 [00:00<00:00, 66.23it/s]\n",
      " 14%|███████████▌                                                                       | 7/50 [00:00<00:00, 61.49it/s]"
     ]
    },
    {
     "name": "stdout",
     "output_type": "stream",
     "text": [
      "-34.797848688769\n",
      "[[-40.91949916 -45.20505779 -38.6886502  -43.96908411 -33.32581043\n",
      "  -24.3005579  -28.10931011 -47.9425052 ]]\n"
     ]
    },
    {
     "name": "stderr",
     "output_type": "stream",
     "text": [
      "100%|██████████████████████████████████████████████████████████████████████████████████| 50/50 [00:00<00:00, 63.61it/s]\n",
      " 16%|█████████████▎                                                                     | 8/50 [00:00<00:00, 71.60it/s]"
     ]
    },
    {
     "name": "stdout",
     "output_type": "stream",
     "text": [
      "-40.42816166777788\n",
      "[[-40.91949916 -45.20505779 -38.6886502  -43.96908411 -33.32581043\n",
      "  -24.3005579  -28.10931011 -47.9425052 ]]\n"
     ]
    },
    {
     "name": "stderr",
     "output_type": "stream",
     "text": [
      "100%|██████████████████████████████████████████████████████████████████████████████████| 50/50 [00:00<00:00, 68.37it/s]\n",
      " 16%|█████████████▎                                                                     | 8/50 [00:00<00:00, 74.29it/s]"
     ]
    },
    {
     "name": "stdout",
     "output_type": "stream",
     "text": [
      "-40.16593175166847\n",
      "[[-40.03083452 -45.11299331 -39.89515289 -45.2746839  -44.27482605\n",
      "  -30.388563   -38.62863226 -47.8371948 ]]\n"
     ]
    },
    {
     "name": "stderr",
     "output_type": "stream",
     "text": [
      "100%|██████████████████████████████████████████████████████████████████████████████████| 50/50 [00:00<00:00, 56.83it/s]\n",
      " 14%|███████████▌                                                                       | 7/50 [00:00<00:00, 65.59it/s]"
     ]
    },
    {
     "name": "stdout",
     "output_type": "stream",
     "text": [
      "-43.06171458848002\n",
      "[[-40.03083452 -45.11299331 -39.89515289 -45.2746839  -44.27482605\n",
      "  -30.388563   -38.62863226 -47.8371948 ]]\n"
     ]
    },
    {
     "name": "stderr",
     "output_type": "stream",
     "text": [
      "100%|██████████████████████████████████████████████████████████████████████████████████| 50/50 [00:00<00:00, 68.93it/s]\n",
      " 14%|███████████▌                                                                       | 7/50 [00:00<00:00, 64.39it/s]"
     ]
    },
    {
     "name": "stdout",
     "output_type": "stream",
     "text": [
      "-42.873553129920595\n",
      "[[-36.40864237 -42.83240758 -37.5436283  -42.44179073 -36.15715891\n",
      "  -48.8513764  -29.69382378 -42.8467009 ]]\n"
     ]
    },
    {
     "name": "stderr",
     "output_type": "stream",
     "text": [
      "100%|██████████████████████████████████████████████████████████████████████████████████| 50/50 [00:00<00:00, 64.11it/s]\n",
      " 14%|███████████▌                                                                       | 7/50 [00:00<00:00, 69.49it/s]"
     ]
    },
    {
     "name": "stdout",
     "output_type": "stream",
     "text": [
      "-39.5975303809843\n",
      "[[-36.40864237 -42.83240758 -37.5436283  -42.44179073 -36.15715891\n",
      "  -48.8513764  -29.69382378 -42.8467009 ]]\n"
     ]
    },
    {
     "name": "stderr",
     "output_type": "stream",
     "text": [
      "100%|██████████████████████████████████████████████████████████████████████████████████| 50/50 [00:00<00:00, 69.63it/s]\n",
      " 16%|█████████████▎                                                                     | 8/50 [00:00<00:00, 71.62it/s]"
     ]
    },
    {
     "name": "stdout",
     "output_type": "stream",
     "text": [
      "-39.89456262286911\n",
      "[[-41.30934049 -57.6933195  -39.48871233 -60.62660766 -44.27482605\n",
      "  -75.66981892 -28.74554302 -49.38171725]]\n"
     ]
    },
    {
     "name": "stderr",
     "output_type": "stream",
     "text": [
      "100%|██████████████████████████████████████████████████████████████████████████████████| 50/50 [00:00<00:00, 67.56it/s]\n",
      " 14%|███████████▌                                                                       | 7/50 [00:00<00:00, 66.86it/s]"
     ]
    },
    {
     "name": "stdout",
     "output_type": "stream",
     "text": [
      "-46.86194308998912\n",
      "[[-41.30934049 -57.6933195  -39.48871233 -60.62660766 -44.27482605\n",
      "  -75.66981892 -28.74554302 -49.38171725]]\n"
     ]
    },
    {
     "name": "stderr",
     "output_type": "stream",
     "text": [
      "100%|██████████████████████████████████████████████████████████████████████████████████| 50/50 [00:00<00:00, 55.80it/s]\n",
      " 14%|███████████▌                                                                       | 7/50 [00:00<00:00, 69.49it/s]"
     ]
    },
    {
     "name": "stdout",
     "output_type": "stream",
     "text": [
      "-46.810667912975376\n",
      "[[-40.21243453 -57.14671786 -36.65183884 -61.19764055 -45.83507461\n",
      "  -59.97231086 -47.31778922 -45.96680414]]\n"
     ]
    },
    {
     "name": "stderr",
     "output_type": "stream",
     "text": [
      "100%|██████████████████████████████████████████████████████████████████████████████████| 50/50 [00:00<00:00, 67.55it/s]\n",
      " 14%|███████████▌                                                                       | 7/50 [00:00<00:00, 61.57it/s]"
     ]
    },
    {
     "name": "stdout",
     "output_type": "stream",
     "text": [
      "-46.586110263222785\n",
      "[[-40.21243453 -57.14671786 -36.65183884 -61.19764055 -45.83507461\n",
      "  -59.97231086 -47.31778922 -45.96680414]]\n"
     ]
    },
    {
     "name": "stderr",
     "output_type": "stream",
     "text": [
      "100%|██████████████████████████████████████████████████████████████████████████████████| 50/50 [00:00<00:00, 66.97it/s]\n",
      " 16%|█████████████▎                                                                     | 8/50 [00:00<00:00, 75.98it/s]"
     ]
    },
    {
     "name": "stdout",
     "output_type": "stream",
     "text": [
      "-46.52186635803985\n",
      "[[-35.41119629 -27.45956398 -31.41264327 -32.36296465 -36.93135369\n",
      "  -19.96720708 -42.7311714  -37.55222075]]\n"
     ]
    },
    {
     "name": "stderr",
     "output_type": "stream",
     "text": [
      "100%|██████████████████████████████████████████████████████████████████████████████████| 50/50 [00:00<00:00, 70.54it/s]\n",
      " 14%|███████████▌                                                                       | 7/50 [00:00<00:00, 68.14it/s]"
     ]
    },
    {
     "name": "stdout",
     "output_type": "stream",
     "text": [
      "-35.114355722955054\n",
      "[[-35.41119629 -27.45956398 -31.41264327 -32.36296465 -36.93135369\n",
      "  -19.96720708 -42.7311714  -37.55222075]]\n"
     ]
    },
    {
     "name": "stderr",
     "output_type": "stream",
     "text": [
      "100%|██████████████████████████████████████████████████████████████████████████████████| 50/50 [00:00<00:00, 68.86it/s]\n",
      " 16%|█████████████▎                                                                     | 8/50 [00:00<00:00, 74.91it/s]"
     ]
    },
    {
     "name": "stdout",
     "output_type": "stream",
     "text": [
      "-35.27664852705656\n",
      "[[-34.68770097 -30.4643459  -32.31267697 -30.97836636 -32.74853697\n",
      "  -35.02401689 -44.83834828 -34.86107835]]\n"
     ]
    },
    {
     "name": "stderr",
     "output_type": "stream",
     "text": [
      "100%|██████████████████████████████████████████████████████████████████████████████████| 50/50 [00:00<00:00, 56.67it/s]\n",
      " 16%|█████████████▎                                                                     | 8/50 [00:00<00:00, 73.59it/s]"
     ]
    },
    {
     "name": "stdout",
     "output_type": "stream",
     "text": [
      "-35.17521644228377\n",
      "[[-34.68770097 -30.4643459  -32.31267697 -30.97836636 -32.74853697\n",
      "  -35.02401689 -44.83834828 -34.86107835]]\n"
     ]
    },
    {
     "name": "stderr",
     "output_type": "stream",
     "text": [
      "100%|██████████████████████████████████████████████████████████████████████████████████| 50/50 [00:00<00:00, 69.58it/s]\n",
      " 16%|█████████████▎                                                                     | 8/50 [00:00<00:00, 72.30it/s]"
     ]
    },
    {
     "name": "stdout",
     "output_type": "stream",
     "text": [
      "-35.36022361140298\n",
      "[[-36.851752   -47.37373042 -41.29874221 -53.06277715 -44.19187133\n",
      "  -40.28868211 -41.44823753 -47.49166416]]\n"
     ]
    },
    {
     "name": "stderr",
     "output_type": "stream",
     "text": [
      "100%|██████████████████████████████████████████████████████████████████████████████████| 50/50 [00:00<00:00, 69.24it/s]\n",
      " 14%|███████████▌                                                                       | 7/50 [00:00<00:00, 66.21it/s]"
     ]
    },
    {
     "name": "stdout",
     "output_type": "stream",
     "text": [
      "-44.11798821183072\n",
      "[[-36.851752   -47.37373042 -41.29874221 -53.06277715 -44.19187133\n",
      "  -40.28868211 -41.44823753 -47.49166416]]\n"
     ]
    },
    {
     "name": "stderr",
     "output_type": "stream",
     "text": [
      "100%|██████████████████████████████████████████████████████████████████████████████████| 50/50 [00:00<00:00, 66.36it/s]\n",
      " 14%|███████████▌                                                                       | 7/50 [00:00<00:00, 69.83it/s]"
     ]
    },
    {
     "name": "stdout",
     "output_type": "stream",
     "text": [
      "-44.379568271225274\n",
      "[[-37.02988551 -50.33194584 -37.54372982 -50.59818146 -33.8341045\n",
      "  -36.68059971 -28.06934969 -46.73083089]]\n"
     ]
    },
    {
     "name": "stderr",
     "output_type": "stream",
     "text": [
      "100%|██████████████████████████████████████████████████████████████████████████████████| 50/50 [00:00<00:00, 54.48it/s]\n",
      " 12%|█████████▉                                                                         | 6/50 [00:00<00:00, 58.77it/s]"
     ]
    },
    {
     "name": "stdout",
     "output_type": "stream",
     "text": [
      "-40.82568925771636\n",
      "[[-37.02988551 -50.33194584 -37.54372982 -50.59818146 -33.8341045\n",
      "  -36.68059971 -28.06934969 -46.73083089]]\n"
     ]
    },
    {
     "name": "stderr",
     "output_type": "stream",
     "text": [
      "100%|██████████████████████████████████████████████████████████████████████████████████| 50/50 [00:00<00:00, 64.82it/s]\n",
      " 14%|███████████▌                                                                       | 7/50 [00:00<00:00, 67.49it/s]"
     ]
    },
    {
     "name": "stdout",
     "output_type": "stream",
     "text": [
      "-40.93165758006716\n",
      "[[-41.14652994 -45.98285944 -35.89006465 -28.10627965 -32.45259807\n",
      "  -14.27347215 -28.7055826  -47.56743192]]\n"
     ]
    },
    {
     "name": "stderr",
     "output_type": "stream",
     "text": [
      "100%|██████████████████████████████████████████████████████████████████████████████████| 50/50 [00:00<00:00, 64.73it/s]\n",
      " 16%|█████████████▎                                                                     | 8/50 [00:00<00:00, 70.85it/s]"
     ]
    },
    {
     "name": "stdout",
     "output_type": "stream",
     "text": [
      "-38.16162120863316\n",
      "[[-41.14652994 -45.98285944 -35.89006465 -28.10627965 -32.45259807\n",
      "  -14.27347215 -28.7055826  -47.56743192]]\n"
     ]
    },
    {
     "name": "stderr",
     "output_type": "stream",
     "text": [
      "100%|██████████████████████████████████████████████████████████████████████████████████| 50/50 [00:00<00:00, 69.75it/s]\n",
      " 16%|█████████████▎                                                                     | 8/50 [00:00<00:00, 72.91it/s]"
     ]
    },
    {
     "name": "stdout",
     "output_type": "stream",
     "text": [
      "-38.31633141217396\n",
      "[[-38.03123326 -60.1886336  -36.07771479 -37.34745771 -32.45259807\n",
      "  -40.60023407 -28.7055826  -48.77957669]]\n"
     ]
    },
    {
     "name": "stderr",
     "output_type": "stream",
     "text": [
      "100%|██████████████████████████████████████████████████████████████████████████████████| 50/50 [00:00<00:00, 68.77it/s]\n",
      " 14%|███████████▌                                                                       | 7/50 [00:00<00:00, 69.47it/s]"
     ]
    },
    {
     "name": "stdout",
     "output_type": "stream",
     "text": [
      "-41.35856893827708\n",
      "[[-38.03123326 -60.1886336  -36.07771479 -37.34745771 -32.45259807\n",
      "  -40.60023407 -28.7055826  -48.77957669]]\n"
     ]
    },
    {
     "name": "stderr",
     "output_type": "stream",
     "text": [
      "100%|██████████████████████████████████████████████████████████████████████████████████| 50/50 [00:00<00:00, 55.09it/s]\n",
      " 16%|█████████████▎                                                                     | 8/50 [00:00<00:00, 77.14it/s]"
     ]
    },
    {
     "name": "stdout",
     "output_type": "stream",
     "text": [
      "-41.44716591883798\n",
      "[[-37.63315442 -48.06659516 -34.38495655 -38.75483154 -27.8829249\n",
      "  -48.05579894 -34.90451264 -37.13163584]]\n"
     ]
    },
    {
     "name": "stderr",
     "output_type": "stream",
     "text": [
      "100%|██████████████████████████████████████████████████████████████████████████████████| 50/50 [00:00<00:00, 69.92it/s]\n",
      " 16%|█████████████▎                                                                     | 8/50 [00:00<00:00, 69.39it/s]"
     ]
    },
    {
     "name": "stdout",
     "output_type": "stream",
     "text": [
      "-37.037421362324956\n",
      "[[-37.63315442 -48.06659516 -34.38495655 -38.75483154 -27.8829249\n",
      "  -48.05579894 -34.90451264 -37.13163584]]\n"
     ]
    },
    {
     "name": "stderr",
     "output_type": "stream",
     "text": [
      "100%|██████████████████████████████████████████████████████████████████████████████████| 50/50 [00:00<00:00, 69.60it/s]\n",
      " 14%|███████████▌                                                                       | 7/50 [00:00<00:00, 66.19it/s]"
     ]
    },
    {
     "name": "stdout",
     "output_type": "stream",
     "text": [
      "-37.12670690208187\n",
      "[[-35.64663541 -44.68013378 -32.82822835 -40.2024535  -32.64706683\n",
      "  -33.7387653  -29.24327855 -46.20531549]]\n"
     ]
    },
    {
     "name": "stderr",
     "output_type": "stream",
     "text": [
      "100%|██████████████████████████████████████████████████████████████████████████████████| 50/50 [00:00<00:00, 69.54it/s]\n",
      " 14%|███████████▌                                                                       | 7/50 [00:00<00:00, 69.24it/s]"
     ]
    },
    {
     "name": "stdout",
     "output_type": "stream",
     "text": [
      "-38.986790437499806\n",
      "[[-35.64663541 -44.68013378 -32.82822835 -40.2024535  -32.64706683\n",
      "  -33.7387653  -29.24327855 -46.20531549]]\n"
     ]
    },
    {
     "name": "stderr",
     "output_type": "stream",
     "text": [
      "100%|██████████████████████████████████████████████████████████████████████████████████| 50/50 [00:00<00:00, 64.86it/s]\n",
      " 16%|█████████████▎                                                                     | 8/50 [00:00<00:00, 77.11it/s]"
     ]
    },
    {
     "name": "stdout",
     "output_type": "stream",
     "text": [
      "-39.06452835249573\n",
      "[[-39.74881912 -58.21358729 -36.38344519 -48.83996233 -32.10078032\n",
      "  -71.80380549 -32.07662336 -42.86512085]]\n"
     ]
    },
    {
     "name": "stderr",
     "output_type": "stream",
     "text": [
      "100%|██████████████████████████████████████████████████████████████████████████████████| 50/50 [00:00<00:00, 57.36it/s]\n",
      " 16%|█████████████▎                                                                     | 8/50 [00:00<00:00, 72.26it/s]"
     ]
    },
    {
     "name": "stdout",
     "output_type": "stream",
     "text": [
      "-42.274212047364635\n",
      "[[-39.74881912 -58.21358729 -36.38344519 -48.83996233 -32.10078032\n",
      "  -71.80380549 -32.07662336 -42.86512085]]\n"
     ]
    },
    {
     "name": "stderr",
     "output_type": "stream",
     "text": [
      "100%|██████████████████████████████████████████████████████████████████████████████████| 50/50 [00:00<00:00, 70.65it/s]\n",
      " 16%|█████████████▎                                                                     | 8/50 [00:00<00:00, 72.28it/s]"
     ]
    },
    {
     "name": "stdout",
     "output_type": "stream",
     "text": [
      "-42.32993268857866\n",
      "[[-40.20718833 -57.43278272 -35.77810914 -48.57127776 -35.37386436\n",
      "  -58.73040263 -36.65360406 -40.93650025]]\n"
     ]
    },
    {
     "name": "stderr",
     "output_type": "stream",
     "text": [
      "100%|██████████████████████████████████████████████████████████████████████████████████| 50/50 [00:00<00:00, 69.15it/s]\n",
      " 14%|███████████▌                                                                       | 7/50 [00:00<00:00, 69.45it/s]"
     ]
    },
    {
     "name": "stdout",
     "output_type": "stream",
     "text": [
      "-41.51135078377058\n",
      "[[-40.20718833 -57.43278272 -35.77810914 -48.57127776 -35.37386436\n",
      "  -58.73040263 -36.65360406 -40.93650025]]\n"
     ]
    },
    {
     "name": "stderr",
     "output_type": "stream",
     "text": [
      "100%|██████████████████████████████████████████████████████████████████████████████████| 50/50 [00:00<00:00, 68.68it/s]\n",
      " 16%|█████████████▎                                                                     | 8/50 [00:00<00:00, 72.24it/s]"
     ]
    },
    {
     "name": "stdout",
     "output_type": "stream",
     "text": [
      "-41.49433619031986\n",
      "[[-36.07881194 -47.28478574 -33.01478632 -49.32401068 -32.83936488\n",
      "  -84.45217869 -27.63325511 -31.14561315]]\n"
     ]
    },
    {
     "name": "stderr",
     "output_type": "stream",
     "text": [
      "100%|██████████████████████████████████████████████████████████████████████████████████| 50/50 [00:00<00:00, 67.93it/s]\n",
      " 16%|█████████████▎                                                                     | 8/50 [00:00<00:00, 71.61it/s]"
     ]
    },
    {
     "name": "stdout",
     "output_type": "stream",
     "text": [
      "-36.78572057497385\n",
      "[[-36.07881194 -47.28478574 -33.01478632 -49.32401068 -32.83936488\n",
      "  -84.45217869 -27.63325511 -31.14561315]]\n"
     ]
    },
    {
     "name": "stderr",
     "output_type": "stream",
     "text": [
      "100%|██████████████████████████████████████████████████████████████████████████████████| 50/50 [00:00<00:00, 55.36it/s]\n",
      " 16%|█████████████▎                                                                     | 8/50 [00:00<00:00, 72.24it/s]"
     ]
    },
    {
     "name": "stdout",
     "output_type": "stream",
     "text": [
      "-36.955608874704936\n",
      "[[-39.70997201 -40.35034369 -35.67938611 -36.82464872 -28.29875452\n",
      "  -41.02720647 -28.24685739 -42.15132254]]\n"
     ]
    },
    {
     "name": "stderr",
     "output_type": "stream",
     "text": [
      "100%|██████████████████████████████████████████████████████████████████████████████████| 50/50 [00:00<00:00, 68.87it/s]\n",
      " 14%|███████████▌                                                                       | 7/50 [00:00<00:00, 69.47it/s]"
     ]
    },
    {
     "name": "stdout",
     "output_type": "stream",
     "text": [
      "-37.79687257153344\n",
      "[[-39.70997201 -40.35034369 -35.67938611 -36.82464872 -28.29875452\n",
      "  -41.02720647 -28.24685739 -42.15132254]]\n"
     ]
    },
    {
     "name": "stderr",
     "output_type": "stream",
     "text": [
      "100%|██████████████████████████████████████████████████████████████████████████████████| 50/50 [00:00<00:00, 70.54it/s]\n",
      " 16%|█████████████▎                                                                     | 8/50 [00:00<00:00, 74.63it/s]"
     ]
    },
    {
     "name": "stdout",
     "output_type": "stream",
     "text": [
      "-38.17577775924878\n",
      "[[-35.04926837 -34.23398264 -34.11720577 -34.94696323 -39.24777014\n",
      "  -46.94229637 -45.12510653 -42.88697574]]\n"
     ]
    },
    {
     "name": "stderr",
     "output_type": "stream",
     "text": [
      "100%|██████████████████████████████████████████████████████████████████████████████████| 50/50 [00:00<00:00, 70.31it/s]\n",
      " 16%|█████████████▎                                                                     | 8/50 [00:00<00:00, 72.22it/s]"
     ]
    },
    {
     "name": "stdout",
     "output_type": "stream",
     "text": [
      "-40.26518703844535\n",
      "[[-35.04926837 -34.23398264 -34.11720577 -34.94696323 -39.24777014\n",
      "  -46.94229637 -45.12510653 -42.88697574]]\n"
     ]
    },
    {
     "name": "stderr",
     "output_type": "stream",
     "text": [
      "100%|██████████████████████████████████████████████████████████████████████████████████| 50/50 [00:00<00:00, 71.38it/s]\n",
      " 16%|█████████████▎                                                                     | 8/50 [00:00<00:00, 68.56it/s]"
     ]
    },
    {
     "name": "stdout",
     "output_type": "stream",
     "text": [
      "-40.351496575181514\n",
      "[[-34.0382537  -35.05920763 -34.96573628 -34.42890409 -26.58327224\n",
      "  -41.19023406 -26.27903794 -43.01208271]]\n"
     ]
    },
    {
     "name": "stderr",
     "output_type": "stream",
     "text": [
      "100%|██████████████████████████████████████████████████████████████████████████████████| 50/50 [00:00<00:00, 56.63it/s]\n",
      " 14%|███████████▌                                                                       | 7/50 [00:00<00:00, 68.81it/s]"
     ]
    },
    {
     "name": "stdout",
     "output_type": "stream",
     "text": [
      "-36.5636834221486\n",
      "[[-34.0382537  -35.05920763 -34.96573628 -34.42890409 -26.58327224\n",
      "  -41.19023406 -26.27903794 -43.01208271]]\n"
     ]
    },
    {
     "name": "stderr",
     "output_type": "stream",
     "text": [
      "100%|██████████████████████████████████████████████████████████████████████████████████| 50/50 [00:00<00:00, 71.20it/s]\n",
      " 16%|█████████████▎                                                                     | 8/50 [00:00<00:00, 72.26it/s]"
     ]
    },
    {
     "name": "stdout",
     "output_type": "stream",
     "text": [
      "-36.83939199919926\n",
      "[[-36.75424492 -47.50962334 -35.52073493 -44.91804322 -28.70030531\n",
      "  -52.84027726 -27.5206793  -48.62729577]]\n"
     ]
    },
    {
     "name": "stderr",
     "output_type": "stream",
     "text": [
      "100%|██████████████████████████████████████████████████████████████████████████████████| 50/50 [00:00<00:00, 71.90it/s]\n",
      " 16%|█████████████▎                                                                     | 8/50 [00:00<00:00, 74.96it/s]"
     ]
    },
    {
     "name": "stdout",
     "output_type": "stream",
     "text": [
      "-41.453927807392795\n",
      "[[-36.75424492 -47.50962334 -35.52073493 -44.91804322 -28.70030531\n",
      "  -52.84027726 -27.5206793  -48.62729577]]\n"
     ]
    },
    {
     "name": "stderr",
     "output_type": "stream",
     "text": [
      "100%|██████████████████████████████████████████████████████████████████████████████████| 50/50 [00:00<00:00, 70.45it/s]\n",
      " 14%|███████████▌                                                                       | 7/50 [00:00<00:00, 66.84it/s]"
     ]
    },
    {
     "name": "stdout",
     "output_type": "stream",
     "text": [
      "-41.30660448694981\n",
      "[[-38.32629056 -63.12269245 -37.70495103 -60.46295419 -47.99059484\n",
      "  -69.05616011 -31.44027817 -48.96245599]]\n"
     ]
    },
    {
     "name": "stderr",
     "output_type": "stream",
     "text": [
      "100%|██████████████████████████████████████████████████████████████████████████████████| 50/50 [00:00<00:00, 69.29it/s]\n",
      " 14%|███████████▌                                                                       | 7/50 [00:00<00:00, 68.14it/s]"
     ]
    },
    {
     "name": "stdout",
     "output_type": "stream",
     "text": [
      "-46.53214055869589\n",
      "[[-38.32629056 -63.12269245 -37.70495103 -60.46295419 -47.99059484\n",
      "  -69.05616011 -31.44027817 -48.96245599]]\n"
     ]
    },
    {
     "name": "stderr",
     "output_type": "stream",
     "text": [
      "100%|██████████████████████████████████████████████████████████████████████████████████| 50/50 [00:00<00:00, 56.70it/s]\n",
      " 14%|███████████▌                                                                       | 7/50 [00:00<00:00, 66.21it/s]"
     ]
    },
    {
     "name": "stdout",
     "output_type": "stream",
     "text": [
      "-46.5123818378766\n",
      "[[-32.81602626 -47.56401337 -31.03987779 -50.17544592 -38.6148428\n",
      "  -57.07244589 -42.95896074 -36.61796772]]\n"
     ]
    },
    {
     "name": "stderr",
     "output_type": "stream",
     "text": [
      "100%|██████████████████████████████████████████████████████████████████████████████████| 50/50 [00:00<00:00, 70.81it/s]\n",
      " 14%|███████████▌                                                                       | 7/50 [00:00<00:00, 67.51it/s]"
     ]
    },
    {
     "name": "stdout",
     "output_type": "stream",
     "text": [
      "-39.04373488099902\n",
      "[[-32.81602626 -47.56401337 -31.03987779 -50.17544592 -38.6148428\n",
      "  -57.07244589 -42.95896074 -36.61796772]]\n"
     ]
    },
    {
     "name": "stderr",
     "output_type": "stream",
     "text": [
      "100%|██████████████████████████████████████████████████████████████████████████████████| 50/50 [00:00<00:00, 70.61it/s]\n",
      " 14%|███████████▌                                                                       | 7/50 [00:00<00:00, 68.81it/s]"
     ]
    },
    {
     "name": "stdout",
     "output_type": "stream",
     "text": [
      "-39.11056206591178\n",
      "[[-33.69415417 -27.12239712 -28.23658099 -39.87547704 -26.46305278\n",
      "  -61.29106061 -43.73930794 -38.85297488]]\n"
     ]
    },
    {
     "name": "stderr",
     "output_type": "stream",
     "text": [
      "100%|██████████████████████████████████████████████████████████████████████████████████| 50/50 [00:00<00:00, 70.61it/s]\n",
      " 12%|█████████▉                                                                         | 6/50 [00:00<00:00, 59.51it/s]"
     ]
    },
    {
     "name": "stdout",
     "output_type": "stream",
     "text": [
      "-37.79621383750645\n",
      "[[-33.69415417 -27.12239712 -28.23658099 -39.87547704 -26.46305278\n",
      "  -61.29106061 -43.73930794 -38.85297488]]\n"
     ]
    },
    {
     "name": "stderr",
     "output_type": "stream",
     "text": [
      "100%|██████████████████████████████████████████████████████████████████████████████████| 50/50 [00:00<00:00, 54.75it/s]\n",
      " 16%|█████████████▎                                                                     | 8/50 [00:00<00:00, 71.60it/s]"
     ]
    },
    {
     "name": "stdout",
     "output_type": "stream",
     "text": [
      "-37.83743567784031\n",
      "[[-30.34653956 -46.40969509 -33.43349234 -46.02246799 -32.71446852\n",
      "  -54.09749641 -41.42278401 -34.71438599]]\n"
     ]
    },
    {
     "name": "stderr",
     "output_type": "stream",
     "text": [
      "100%|██████████████████████████████████████████████████████████████████████████████████| 50/50 [00:00<00:00, 70.10it/s]\n",
      " 16%|█████████████▎                                                                     | 8/50 [00:00<00:00, 72.27it/s]"
     ]
    },
    {
     "name": "stdout",
     "output_type": "stream",
     "text": [
      "-37.45240277689941\n",
      "[[-30.34653956 -46.40969509 -33.43349234 -46.02246799 -32.71446852\n",
      "  -54.09749641 -41.42278401 -34.71438599]]\n"
     ]
    },
    {
     "name": "stderr",
     "output_type": "stream",
     "text": [
      "100%|██████████████████████████████████████████████████████████████████████████████████| 50/50 [00:00<00:00, 71.71it/s]\n",
      " 16%|█████████████▎                                                                     | 8/50 [00:00<00:00, 73.59it/s]"
     ]
    },
    {
     "name": "stdout",
     "output_type": "stream",
     "text": [
      "-37.05509547719077\n",
      "[[-30.76538778 -34.04093779 -33.28292002 -35.5064619  -25.63099523\n",
      "  -43.5388411  -29.33264287 -34.01611948]]\n"
     ]
    },
    {
     "name": "stderr",
     "output_type": "stream",
     "text": [
      "100%|██████████████████████████████████████████████████████████████████████████████████| 50/50 [00:00<00:00, 72.51it/s]\n",
      " 16%|█████████████▎                                                                     | 8/50 [00:00<00:00, 71.62it/s]"
     ]
    },
    {
     "name": "stdout",
     "output_type": "stream",
     "text": [
      "-32.967161264715294\n",
      "[[-30.76538778 -34.04093779 -33.28292002 -35.5064619  -25.63099523\n",
      "  -43.5388411  -29.33264287 -34.01611948]]\n"
     ]
    },
    {
     "name": "stderr",
     "output_type": "stream",
     "text": [
      "100%|██████████████████████████████████████████████████████████████████████████████████| 50/50 [00:00<00:00, 70.50it/s]\n",
      " 14%|███████████▌                                                                       | 7/50 [00:00<00:00, 66.11it/s]"
     ]
    },
    {
     "name": "stdout",
     "output_type": "stream",
     "text": [
      "-33.09128975049083\n",
      "[[-30.40834238 -30.85251261 -34.29066197 -25.53657879 -33.62725934\n",
      "  -12.15902032 -43.2290338  -37.08925779]]\n"
     ]
    },
    {
     "name": "stderr",
     "output_type": "stream",
     "text": [
      "100%|██████████████████████████████████████████████████████████████████████████████████| 50/50 [00:00<00:00, 56.26it/s]\n",
      " 16%|█████████████▎                                                                     | 8/50 [00:00<00:00, 72.94it/s]"
     ]
    },
    {
     "name": "stdout",
     "output_type": "stream",
     "text": [
      "-33.819740040490984\n",
      "[[-30.40834238 -30.85251261 -34.29066197 -25.53657879 -33.62725934\n",
      "  -12.15902032 -43.2290338  -37.08925779]]\n"
     ]
    },
    {
     "name": "stderr",
     "output_type": "stream",
     "text": [
      "100%|██████████████████████████████████████████████████████████████████████████████████| 50/50 [00:00<00:00, 68.93it/s]\n",
      " 14%|███████████▌                                                                       | 7/50 [00:00<00:00, 68.47it/s]"
     ]
    },
    {
     "name": "stdout",
     "output_type": "stream",
     "text": [
      "-33.886893498533695\n",
      "[[-35.81207191 -48.20836707 -35.55092474 -42.0250562  -35.37386436\n",
      "  -46.08023524 -32.16060711 -33.96234085]]\n"
     ]
    },
    {
     "name": "stderr",
     "output_type": "stream",
     "text": [
      "100%|██████████████████████████████████████████████████████████████████████████████████| 50/50 [00:00<00:00, 69.48it/s]\n",
      " 16%|█████████████▎                                                                     | 8/50 [00:00<00:00, 70.99it/s]"
     ]
    },
    {
     "name": "stdout",
     "output_type": "stream",
     "text": [
      "-36.17558029189293\n",
      "[[-35.81207191 -48.20836707 -35.55092474 -42.0250562  -35.37386436\n",
      "  -46.08023524 -32.16060711 -33.96234085]]\n"
     ]
    },
    {
     "name": "stderr",
     "output_type": "stream",
     "text": [
      "100%|██████████████████████████████████████████████████████████████████████████████████| 50/50 [00:00<00:00, 70.69it/s]\n",
      " 16%|█████████████▎                                                                     | 8/50 [00:00<00:00, 71.30it/s]"
     ]
    },
    {
     "name": "stdout",
     "output_type": "stream",
     "text": [
      "-35.94984858815758\n",
      "[[-39.79248067 -42.54027383 -35.77470039 -43.81327717 -38.87251059\n",
      "  -25.96428334 -28.66471133 -46.13927947]]\n"
     ]
    },
    {
     "name": "stderr",
     "output_type": "stream",
     "text": [
      "100%|██████████████████████████████████████████████████████████████████████████████████| 50/50 [00:00<00:00, 58.13it/s]\n",
      " 16%|█████████████▎                                                                     | 8/50 [00:00<00:00, 69.43it/s]"
     ]
    },
    {
     "name": "stdout",
     "output_type": "stream",
     "text": [
      "-39.86270556800249\n",
      "[[-39.79248067 -42.54027383 -35.77470039 -43.81327717 -38.87251059\n",
      "  -25.96428334 -28.66471133 -46.13927947]]\n"
     ]
    },
    {
     "name": "stderr",
     "output_type": "stream",
     "text": [
      "100%|██████████████████████████████████████████████████████████████████████████████████| 50/50 [00:00<00:00, 69.75it/s]\n",
      " 14%|███████████▌                                                                       | 7/50 [00:00<00:00, 67.49it/s]"
     ]
    },
    {
     "name": "stdout",
     "output_type": "stream",
     "text": [
      "-39.72723066821939\n",
      "[[-32.86932129 -37.44125077 -31.53457389 -33.53603395 -30.78687601\n",
      "    4.36857104 -31.88246494 -38.72494751]]\n"
     ]
    },
    {
     "name": "stderr",
     "output_type": "stream",
     "text": [
      "100%|██████████████████████████████████████████████████████████████████████████████████| 50/50 [00:00<00:00, 69.24it/s]\n",
      " 16%|█████████████▎                                                                     | 8/50 [00:00<00:00, 71.62it/s]"
     ]
    },
    {
     "name": "stdout",
     "output_type": "stream",
     "text": [
      "-32.465642731564984\n",
      "[[-32.86932129 -37.44125077 -31.53457389 -33.53603395 -30.78687601\n",
      "    4.36857104 -31.88246494 -38.72494751]]\n"
     ]
    },
    {
     "name": "stderr",
     "output_type": "stream",
     "text": [
      "100%|██████████████████████████████████████████████████████████████████████████████████| 50/50 [00:00<00:00, 70.88it/s]\n",
      " 16%|█████████████▎                                                                     | 8/50 [00:00<00:00, 71.26it/s]"
     ]
    },
    {
     "name": "stdout",
     "output_type": "stream",
     "text": [
      "-32.56451518713233\n",
      "[[-38.44336212 -39.18817782 -34.77731384 -45.19007976 -35.97723093\n",
      "  -61.13838011 -28.67940711 -47.99193827]]\n"
     ]
    },
    {
     "name": "stderr",
     "output_type": "stream",
     "text": [
      "100%|██████████████████████████████████████████████████████████████████████████████████| 50/50 [00:00<00:00, 70.55it/s]\n",
      " 16%|█████████████▎                                                                     | 8/50 [00:00<00:00, 77.10it/s]"
     ]
    },
    {
     "name": "stdout",
     "output_type": "stream",
     "text": [
      "-42.121353516197914\n",
      "[[-38.44336212 -39.18817782 -34.77731384 -45.19007976 -35.97723093\n",
      "  -61.13838011 -28.67940711 -47.99193827]]\n"
     ]
    },
    {
     "name": "stderr",
     "output_type": "stream",
     "text": [
      "100%|██████████████████████████████████████████████████████████████████████████████████| 50/50 [00:00<00:00, 59.26it/s]\n",
      " 16%|█████████████▎                                                                     | 8/50 [00:00<00:00, 74.28it/s]"
     ]
    },
    {
     "name": "stdout",
     "output_type": "stream",
     "text": [
      "-42.09787903830243\n",
      "[[-41.14599658 -45.37842166 -36.91593565 -42.90337695 -33.20668267\n",
      "  -43.87486635 -35.82576185 -40.64612366]]\n"
     ]
    },
    {
     "name": "stderr",
     "output_type": "stream",
     "text": [
      "100%|██████████████████████████████████████████████████████████████████████████████████| 50/50 [00:00<00:00, 69.67it/s]\n",
      " 16%|█████████████▎                                                                     | 8/50 [00:00<00:00, 71.62it/s]"
     ]
    },
    {
     "name": "stdout",
     "output_type": "stream",
     "text": [
      "-39.65569829503485\n",
      "[[-41.14599658 -45.37842166 -36.91593565 -42.90337695 -33.20668267\n",
      "  -43.87486635 -35.82576185 -40.64612366]]\n"
     ]
    },
    {
     "name": "stderr",
     "output_type": "stream",
     "text": [
      "100%|██████████████████████████████████████████████████████████████████████████████████| 50/50 [00:00<00:00, 69.35it/s]\n",
      " 16%|█████████████▎                                                                     | 8/50 [00:00<00:00, 73.59it/s]"
     ]
    },
    {
     "name": "stdout",
     "output_type": "stream",
     "text": [
      "-39.705903878503214\n",
      "[[-36.27784014 -54.35008295 -39.2221515  -46.33180227 -42.62542555\n",
      "  -58.71027064 -34.95119181 -42.05133845]]\n"
     ]
    },
    {
     "name": "stderr",
     "output_type": "stream",
     "text": [
      "100%|██████████████████████████████████████████████████████████████████████████████████| 50/50 [00:00<00:00, 66.84it/s]\n",
      " 12%|█████████▉                                                                         | 6/50 [00:00<00:00, 58.97it/s]"
     ]
    },
    {
     "name": "stdout",
     "output_type": "stream",
     "text": [
      "-41.93623015552511\n",
      "[[-36.27784014 -54.35008295 -39.2221515  -46.33180227 -42.62542555\n",
      "  -58.71027064 -34.95119181 -42.05133845]]\n"
     ]
    },
    {
     "name": "stderr",
     "output_type": "stream",
     "text": [
      "100%|██████████████████████████████████████████████████████████████████████████████████| 50/50 [00:00<00:00, 67.74it/s]\n",
      " 16%|█████████████▎                                                                     | 8/50 [00:00<00:00, 71.01it/s]"
     ]
    },
    {
     "name": "stdout",
     "output_type": "stream",
     "text": [
      "-42.16832971756412\n",
      "[[-42.04217198 -36.84060176 -38.32868879 -37.1115732  -33.17244665\n",
      "  -31.39127254 -34.06636146 -42.8858712 ]]\n"
     ]
    },
    {
     "name": "stderr",
     "output_type": "stream",
     "text": [
      "100%|██████████████████████████████████████████████████████████████████████████████████| 50/50 [00:00<00:00, 54.85it/s]\n",
      " 16%|█████████████▎                                                                     | 8/50 [00:00<00:00, 70.99it/s]"
     ]
    },
    {
     "name": "stdout",
     "output_type": "stream",
     "text": [
      "-39.1550416697022\n",
      "[[-42.04217198 -36.84060176 -38.32868879 -37.1115732  -33.17244665\n",
      "  -31.39127254 -34.06636146 -42.8858712 ]]\n"
     ]
    },
    {
     "name": "stderr",
     "output_type": "stream",
     "text": [
      "100%|██████████████████████████████████████████████████████████████████████████████████| 50/50 [00:00<00:00, 68.44it/s]\n",
      " 16%|█████████████▎                                                                     | 8/50 [00:00<00:00, 67.98it/s]"
     ]
    },
    {
     "name": "stdout",
     "output_type": "stream",
     "text": [
      "-38.91733319335131\n",
      "[[-39.75698801 -50.24077857 -37.09970441 -42.52117297 -39.23166261\n",
      "  -35.65546011 -38.84884526 -46.97727732]]\n"
     ]
    },
    {
     "name": "stderr",
     "output_type": "stream",
     "text": [
      "100%|██████████████████████████████████████████████████████████████████████████████████| 50/50 [00:00<00:00, 70.61it/s]\n",
      " 16%|█████████████▎                                                                     | 8/50 [00:00<00:00, 68.80it/s]"
     ]
    },
    {
     "name": "stdout",
     "output_type": "stream",
     "text": [
      "-42.255388899046665\n",
      "[[-39.75698801 -50.24077857 -37.09970441 -42.52117297 -39.23166261\n",
      "  -35.65546011 -38.84884526 -46.97727732]]\n"
     ]
    },
    {
     "name": "stderr",
     "output_type": "stream",
     "text": [
      "100%|██████████████████████████████████████████████████████████████████████████████████| 50/50 [00:00<00:00, 70.69it/s]\n",
      " 14%|███████████▌                                                                       | 7/50 [00:00<00:00, 68.83it/s]"
     ]
    },
    {
     "name": "stdout",
     "output_type": "stream",
     "text": [
      "-42.253691698201244\n",
      "[[-37.59634435 -48.22571311 -37.20459178 -45.02632002 -34.35099033\n",
      "  -59.69726517 -27.80733967 -40.58280874]]\n"
     ]
    },
    {
     "name": "stderr",
     "output_type": "stream",
     "text": [
      "100%|██████████████████████████████████████████████████████████████████████████████████| 50/50 [00:00<00:00, 57.16it/s]\n",
      " 16%|█████████████▎                                                                     | 8/50 [00:00<00:00, 72.87it/s]"
     ]
    },
    {
     "name": "stdout",
     "output_type": "stream",
     "text": [
      "-39.708725435238755\n",
      "[[-37.59634435 -48.22571311 -37.20459178 -45.02632002 -34.35099033\n",
      "  -59.69726517 -27.80733967 -40.58280874]]\n"
     ]
    },
    {
     "name": "stderr",
     "output_type": "stream",
     "text": [
      "100%|██████████████████████████████████████████████████████████████████████████████████| 50/50 [00:00<00:00, 69.58it/s]\n",
      " 16%|█████████████▎                                                                     | 8/50 [00:00<00:00, 76.39it/s]"
     ]
    },
    {
     "name": "stdout",
     "output_type": "stream",
     "text": [
      "-39.666951347610656\n",
      "[[-34.85735999 -36.9721605  -37.39691306 -42.51791742 -31.60482607\n",
      "  -46.78191898 -28.64862219 -46.56433098]]\n"
     ]
    },
    {
     "name": "stderr",
     "output_type": "stream",
     "text": [
      "100%|██████████████████████████████████████████████████████████████████████████████████| 50/50 [00:00<00:00, 70.61it/s]\n",
      " 16%|█████████████▎                                                                     | 8/50 [00:00<00:00, 71.62it/s]"
     ]
    },
    {
     "name": "stdout",
     "output_type": "stream",
     "text": [
      "-39.98128037164515\n",
      "[[-34.85735999 -36.9721605  -37.39691306 -42.51791742 -31.60482607\n",
      "  -46.78191898 -28.64862219 -46.56433098]]\n"
     ]
    },
    {
     "name": "stderr",
     "output_type": "stream",
     "text": [
      "100%|██████████████████████████████████████████████████████████████████████████████████| 50/50 [00:00<00:00, 72.06it/s]\n",
      " 16%|█████████████▎                                                                     | 8/50 [00:00<00:00, 69.75it/s]"
     ]
    },
    {
     "name": "stdout",
     "output_type": "stream",
     "text": [
      "-39.85819602711697\n",
      "[[-34.43319977 -35.31993259 -32.35630902 -34.62391855 -26.76389551\n",
      "  -52.66829626 -33.26056248 -31.36735504]]\n"
     ]
    },
    {
     "name": "stderr",
     "output_type": "stream",
     "text": [
      "100%|██████████████████████████████████████████████████████████████████████████████████| 50/50 [00:00<00:00, 70.71it/s]\n",
      " 16%|█████████████▎                                                                     | 8/50 [00:00<00:00, 70.36it/s]"
     ]
    },
    {
     "name": "stdout",
     "output_type": "stream",
     "text": [
      "-33.55100597537146\n",
      "[[-34.43319977 -35.31993259 -32.35630902 -34.62391855 -26.76389551\n",
      "  -52.66829626 -33.26056248 -31.36735504]]\n"
     ]
    },
    {
     "name": "stderr",
     "output_type": "stream",
     "text": [
      "100%|██████████████████████████████████████████████████████████████████████████████████| 50/50 [00:00<00:00, 57.35it/s]\n",
      " 16%|█████████████▎                                                                     | 8/50 [00:00<00:00, 69.73it/s]"
     ]
    },
    {
     "name": "stdout",
     "output_type": "stream",
     "text": [
      "-33.422813580119694\n",
      "[[-35.10849407 -41.12323541 -34.97427568 -40.92033438 -30.05180497\n",
      "  -48.59439084 -43.00591454 -30.91190495]]\n"
     ]
    },
    {
     "name": "stderr",
     "output_type": "stream",
     "text": [
      "100%|██████████████████████████████████████████████████████████████████████████████████| 50/50 [00:00<00:00, 71.63it/s]\n",
      " 16%|█████████████▎                                                                     | 8/50 [00:00<00:00, 73.59it/s]"
     ]
    },
    {
     "name": "stdout",
     "output_type": "stream",
     "text": [
      "-35.68553562418719\n",
      "[[-35.10849407 -41.12323541 -34.97427568 -40.92033438 -30.05180497\n",
      "  -48.59439084 -43.00591454 -30.91190495]]\n"
     ]
    },
    {
     "name": "stderr",
     "output_type": "stream",
     "text": [
      "100%|██████████████████████████████████████████████████████████████████████████████████| 50/50 [00:00<00:00, 69.94it/s]\n",
      " 14%|███████████▌                                                                       | 7/50 [00:00<00:00, 66.21it/s]"
     ]
    },
    {
     "name": "stdout",
     "output_type": "stream",
     "text": [
      "-35.382084156713184\n",
      "[[-36.55639169 -50.93727186 -35.62921478 -39.58459273 -40.2650078\n",
      "  -49.80062048 -37.69975627 -42.76650221]]\n"
     ]
    },
    {
     "name": "stderr",
     "output_type": "stream",
     "text": [
      "100%|██████████████████████████████████████████████████████████████████████████████████| 50/50 [00:00<00:00, 67.84it/s]\n",
      " 16%|█████████████▎                                                                     | 8/50 [00:00<00:00, 73.06it/s]"
     ]
    },
    {
     "name": "stdout",
     "output_type": "stream",
     "text": [
      "-40.6998569897498\n",
      "[[-36.55639169 -50.93727186 -35.62921478 -39.58459273 -40.2650078\n",
      "  -49.80062048 -37.69975627 -42.76650221]]\n"
     ]
    },
    {
     "name": "stderr",
     "output_type": "stream",
     "text": [
      "100%|██████████████████████████████████████████████████████████████████████████████████| 50/50 [00:00<00:00, 70.63it/s]\n",
      " 16%|█████████████▎                                                                     | 8/50 [00:00<00:00, 68.56it/s]"
     ]
    },
    {
     "name": "stdout",
     "output_type": "stream",
     "text": [
      "-40.82634318995298\n",
      "[[-29.91338133 -40.67642662 -35.07251975 -45.21304478 -32.10078032\n",
      "  -41.46497291 -24.68494022 -39.74150254]]\n"
     ]
    },
    {
     "name": "stderr",
     "output_type": "stream",
     "text": [
      "100%|██████████████████████████████████████████████████████████████████████████████████| 50/50 [00:00<00:00, 57.38it/s]\n",
      " 16%|█████████████▎                                                                     | 8/50 [00:00<00:00, 74.27it/s]"
     ]
    },
    {
     "name": "stdout",
     "output_type": "stream",
     "text": [
      "-35.944096495135994\n",
      "[[-29.91338133 -40.67642662 -35.07251975 -45.21304478 -32.10078032\n",
      "  -41.46497291 -24.68494022 -39.74150254]]\n"
     ]
    },
    {
     "name": "stderr",
     "output_type": "stream",
     "text": [
      "100%|██████████████████████████████████████████████████████████████████████████████████| 50/50 [00:00<00:00, 71.54it/s]\n",
      " 14%|███████████▌                                                                       | 7/50 [00:00<00:00, 68.81it/s]"
     ]
    },
    {
     "name": "stdout",
     "output_type": "stream",
     "text": [
      "-36.20336650483246\n",
      "[[-32.32204522 -42.08986518 -34.14561988 -38.23421419 -30.92978457\n",
      "  -56.75632785 -32.89318413 -38.7028788 ]]\n"
     ]
    },
    {
     "name": "stderr",
     "output_type": "stream",
     "text": [
      "100%|██████████████████████████████████████████████████████████████████████████████████| 50/50 [00:00<00:00, 67.66it/s]\n",
      " 14%|███████████▌                                                                       | 7/50 [00:00<00:00, 69.48it/s]"
     ]
    },
    {
     "name": "stdout",
     "output_type": "stream",
     "text": [
      "-37.388553284253085\n",
      "[[-32.32204522 -42.08986518 -34.14561988 -38.23421419 -30.92978457\n",
      "  -56.75632785 -32.89318413 -38.7028788 ]]\n"
     ]
    },
    {
     "name": "stderr",
     "output_type": "stream",
     "text": [
      "100%|██████████████████████████████████████████████████████████████████████████████████| 50/50 [00:00<00:00, 68.88it/s]\n",
      " 16%|█████████████▎                                                                     | 8/50 [00:00<00:00, 70.99it/s]"
     ]
    },
    {
     "name": "stdout",
     "output_type": "stream",
     "text": [
      "-37.2812622790574\n",
      "[[-31.45056798 -39.17664982 -31.61417139 -32.56430662 -26.25548076\n",
      "  -41.370416   -32.2201354  -39.83477006]]\n"
     ]
    },
    {
     "name": "stderr",
     "output_type": "stream",
     "text": [
      "100%|██████████████████████████████████████████████████████████████████████████████████| 50/50 [00:00<00:00, 68.30it/s]\n",
      " 14%|███████████▌                                                                       | 7/50 [00:00<00:00, 68.09it/s]"
     ]
    },
    {
     "name": "stdout",
     "output_type": "stream",
     "text": [
      "-35.466692659967116\n",
      "[[-31.45056798 -39.17664982 -31.61417139 -32.56430662 -26.25548076\n",
      "  -41.370416   -32.2201354  -39.83477006]]\n"
     ]
    },
    {
     "name": "stderr",
     "output_type": "stream",
     "text": [
      "100%|██████████████████████████████████████████████████████████████████████████████████| 50/50 [00:00<00:00, 55.80it/s]\n",
      " 14%|███████████▌                                                                       | 7/50 [00:00<00:00, 64.99it/s]"
     ]
    },
    {
     "name": "stdout",
     "output_type": "stream",
     "text": [
      "-35.3381631528742\n",
      "[[-39.96209375 -35.60308503 -38.81578293 -32.96170566 -39.4904231\n",
      "  -21.57649383 -37.40141997 -48.10890284]]\n"
     ]
    },
    {
     "name": "stderr",
     "output_type": "stream",
     "text": [
      "100%|██████████████████████████████████████████████████████████████████████████████████| 50/50 [00:00<00:00, 68.14it/s]\n",
      " 16%|█████████████▎                                                                     | 8/50 [00:00<00:00, 74.72it/s]"
     ]
    },
    {
     "name": "stdout",
     "output_type": "stream",
     "text": [
      "-40.76748971878687\n",
      "[[-39.96209375 -35.60308503 -38.81578293 -32.96170566 -39.4904231\n",
      "  -21.57649383 -37.40141997 -48.10890284]]\n"
     ]
    },
    {
     "name": "stderr",
     "output_type": "stream",
     "text": [
      "100%|██████████████████████████████████████████████████████████████████████████████████| 50/50 [00:00<00:00, 70.28it/s]\n",
      " 16%|█████████████▎                                                                     | 8/50 [00:00<00:00, 72.26it/s]"
     ]
    },
    {
     "name": "stdout",
     "output_type": "stream",
     "text": [
      "-40.81202549782478\n",
      "[[-32.631264   -50.66206398 -36.84796532 -46.86718286 -30.10650184\n",
      "  -49.89053508 -42.93619785 -49.34220704]]\n"
     ]
    },
    {
     "name": "stderr",
     "output_type": "stream",
     "text": [
      "100%|██████████████████████████████████████████████████████████████████████████████████| 50/50 [00:00<00:00, 69.85it/s]\n",
      " 14%|███████████▌                                                                       | 7/50 [00:00<00:00, 69.59it/s]"
     ]
    },
    {
     "name": "stdout",
     "output_type": "stream",
     "text": [
      "-43.72055746186351\n",
      "[[-32.631264   -50.66206398 -36.84796532 -46.86718286 -30.10650184\n",
      "  -49.89053508 -42.93619785 -49.34220704]]\n"
     ]
    },
    {
     "name": "stderr",
     "output_type": "stream",
     "text": [
      "100%|██████████████████████████████████████████████████████████████████████████████████| 50/50 [00:00<00:00, 56.85it/s]\n",
      " 16%|█████████████▎                                                                     | 8/50 [00:00<00:00, 74.25it/s]"
     ]
    },
    {
     "name": "stdout",
     "output_type": "stream",
     "text": [
      "-43.46721949437986\n",
      "[[-36.26998797 -62.54185246 -36.90281662 -56.23180556 -38.88504146\n",
      "  -87.50088504 -33.4773359  -43.09324272]]\n"
     ]
    },
    {
     "name": "stderr",
     "output_type": "stream",
     "text": [
      "100%|██████████████████████████████████████████████████████████████████████████████████| 50/50 [00:00<00:00, 68.25it/s]\n",
      " 14%|███████████▌                                                                       | 7/50 [00:00<00:00, 67.16it/s]"
     ]
    },
    {
     "name": "stdout",
     "output_type": "stream",
     "text": [
      "-44.39743814113082\n",
      "[[-36.26998797 -62.54185246 -36.90281662 -56.23180556 -38.88504146\n",
      "  -87.50088504 -33.4773359  -43.09324272]]\n"
     ]
    },
    {
     "name": "stderr",
     "output_type": "stream",
     "text": [
      "100%|██████████████████████████████████████████████████████████████████████████████████| 50/50 [00:00<00:00, 70.27it/s]\n",
      " 14%|███████████▌                                                                       | 7/50 [00:00<00:00, 67.49it/s]"
     ]
    },
    {
     "name": "stdout",
     "output_type": "stream",
     "text": [
      "-44.555949764308025\n",
      "[[-32.00270325 -56.51511207 -36.38912528 -51.23507802 -34.04093423\n",
      "  -67.49616078 -33.04259802 -46.00340642]]\n"
     ]
    },
    {
     "name": "stderr",
     "output_type": "stream",
     "text": [
      "100%|██████████████████████████████████████████████████████████████████████████████████| 50/50 [00:00<00:00, 69.56it/s]\n",
      " 16%|█████████████▎                                                                     | 8/50 [00:00<00:00, 72.47it/s]"
     ]
    },
    {
     "name": "stdout",
     "output_type": "stream",
     "text": [
      "-42.92910241435277\n",
      "[[-32.00270325 -56.51511207 -36.38912528 -51.23507802 -34.04093423\n",
      "  -67.49616078 -33.04259802 -46.00340642]]\n"
     ]
    },
    {
     "name": "stderr",
     "output_type": "stream",
     "text": [
      "100%|██████████████████████████████████████████████████████████████████████████████████| 50/50 [00:00<00:00, 70.19it/s]\n",
      " 14%|███████████▌                                                                       | 7/50 [00:00<00:00, 69.47it/s]"
     ]
    },
    {
     "name": "stdout",
     "output_type": "stream",
     "text": [
      "-42.82086300581816\n",
      "[[-36.17463413 -56.95045964 -34.50031278 -56.27786392 -43.14648762\n",
      "  -72.44084589 -32.08927536 -41.47597909]]\n"
     ]
    },
    {
     "name": "stderr",
     "output_type": "stream",
     "text": [
      "100%|██████████████████████████████████████████████████████████████████████████████████| 50/50 [00:00<00:00, 57.52it/s]\n",
      " 14%|███████████▌                                                                       | 7/50 [00:00<00:00, 68.14it/s]"
     ]
    },
    {
     "name": "stdout",
     "output_type": "stream",
     "text": [
      "-42.223144264783336\n",
      "[[-36.17463413 -56.95045964 -34.50031278 -56.27786392 -43.14648762\n",
      "  -72.44084589 -32.08927536 -41.47597909]]\n"
     ]
    },
    {
     "name": "stderr",
     "output_type": "stream",
     "text": [
      "100%|██████████████████████████████████████████████████████████████████████████████████| 50/50 [00:00<00:00, 70.21it/s]\n",
      " 16%|█████████████▎                                                                     | 8/50 [00:00<00:00, 71.61it/s]"
     ]
    },
    {
     "name": "stdout",
     "output_type": "stream",
     "text": [
      "-42.25026729342615\n",
      "[[-35.29439768 -63.84753726 -41.74094788 -62.22185781 -44.19187133\n",
      "  -70.55662958 -41.65269921 -49.7598564 ]]\n"
     ]
    },
    {
     "name": "stderr",
     "output_type": "stream",
     "text": [
      "100%|██████████████████████████████████████████████████████████████████████████████████| 50/50 [00:00<00:00, 70.81it/s]\n",
      " 16%|█████████████▎                                                                     | 8/50 [00:00<00:00, 71.62it/s]"
     ]
    },
    {
     "name": "stdout",
     "output_type": "stream",
     "text": [
      "-48.30052964278914\n",
      "[[-36.17463413 -56.95045964 -34.50031278 -56.27786392 -43.14648762\n",
      "  -72.44084589 -32.08927536 -41.47597909]]\n"
     ]
    },
    {
     "name": "stderr",
     "output_type": "stream",
     "text": [
      "100%|██████████████████████████████████████████████████████████████████████████████████| 50/50 [00:00<00:00, 69.45it/s]\n",
      " 16%|█████████████▎                                                                     | 8/50 [00:00<00:00, 72.17it/s]"
     ]
    },
    {
     "name": "stdout",
     "output_type": "stream",
     "text": [
      "-42.31571206860937\n",
      "[[-35.32622704 -49.70184171 -32.25349262 -50.48230688 -39.95807832\n",
      "  -58.94902388 -24.75478876 -36.93416159]]\n"
     ]
    },
    {
     "name": "stderr",
     "output_type": "stream",
     "text": [
      "100%|██████████████████████████████████████████████████████████████████████████████████| 50/50 [00:00<00:00, 71.76it/s]\n",
      " 14%|███████████▌                                                                       | 7/50 [00:00<00:00, 68.81it/s]"
     ]
    },
    {
     "name": "stdout",
     "output_type": "stream",
     "text": [
      "-37.495203046083354\n",
      "[[-35.32622704 -49.70184171 -32.25349262 -50.48230688 -39.95807832\n",
      "  -58.94902388 -24.75478876 -36.93416159]]\n"
     ]
    },
    {
     "name": "stderr",
     "output_type": "stream",
     "text": [
      "100%|██████████████████████████████████████████████████████████████████████████████████| 50/50 [00:00<00:00, 58.73it/s]\n",
      " 14%|███████████▌                                                                       | 7/50 [00:00<00:00, 68.81it/s]"
     ]
    },
    {
     "name": "stdout",
     "output_type": "stream",
     "text": [
      "-37.50181733309263\n",
      "[[-35.32622704 -49.70184171 -32.25349262 -50.48230688 -39.95807832\n",
      "  -58.94902388 -24.75478876 -36.93416159]]\n"
     ]
    },
    {
     "name": "stderr",
     "output_type": "stream",
     "text": [
      "100%|██████████████████████████████████████████████████████████████████████████████████| 50/50 [00:00<00:00, 64.52it/s]\n",
      " 16%|█████████████▎                                                                     | 8/50 [00:00<00:00, 70.98it/s]"
     ]
    },
    {
     "name": "stdout",
     "output_type": "stream",
     "text": [
      "-37.540398944294814\n",
      "[[-39.05042954 -53.28196077 -37.95531348 -50.1623529  -35.37386436\n",
      "  -65.16681957 -34.04980471 -40.50019506]]\n"
     ]
    },
    {
     "name": "stderr",
     "output_type": "stream",
     "text": [
      "100%|██████████████████████████████████████████████████████████████████████████████████| 50/50 [00:00<00:00, 64.41it/s]\n",
      " 14%|███████████▌                                                                       | 7/50 [00:00<00:00, 63.81it/s]"
     ]
    },
    {
     "name": "stdout",
     "output_type": "stream",
     "text": [
      "-41.501408755542336\n",
      "[[-39.05042954 -53.28196077 -37.95531348 -50.1623529  -35.37386436\n",
      "  -65.16681957 -34.04980471 -40.50019506]]\n"
     ]
    },
    {
     "name": "stderr",
     "output_type": "stream",
     "text": [
      "100%|██████████████████████████████████████████████████████████████████████████████████| 50/50 [00:00<00:00, 66.31it/s]\n",
      " 10%|████████▎                                                                          | 5/50 [00:00<00:00, 46.42it/s]"
     ]
    },
    {
     "name": "stdout",
     "output_type": "stream",
     "text": [
      "-41.39251039115018\n",
      "[[-40.84451034 -53.20855794 -37.34226835 -50.5133117  -42.55384169\n",
      "  -53.05584918 -28.09154617 -39.8210285 ]]\n"
     ]
    },
    {
     "name": "stderr",
     "output_type": "stream",
     "text": [
      "100%|██████████████████████████████████████████████████████████████████████████████████| 50/50 [00:01<00:00, 46.64it/s]\n",
      " 12%|█████████▉                                                                         | 6/50 [00:00<00:00, 54.20it/s]"
     ]
    },
    {
     "name": "stdout",
     "output_type": "stream",
     "text": [
      "-40.23053720812424\n",
      "[[-40.84451034 -53.20855794 -37.34226835 -50.5133117  -42.55384169\n",
      "  -53.05584918 -28.09154617 -39.8210285 ]]\n"
     ]
    },
    {
     "name": "stderr",
     "output_type": "stream",
     "text": [
      "100%|██████████████████████████████████████████████████████████████████████████████████| 50/50 [00:00<00:00, 61.47it/s]\n",
      " 14%|███████████▌                                                                       | 7/50 [00:00<00:00, 63.23it/s]"
     ]
    },
    {
     "name": "stdout",
     "output_type": "stream",
     "text": [
      "-40.29799185766065\n",
      "[[-37.32440923 -48.50175991 -40.74787445 -50.61407273 -42.55384169\n",
      "  -43.19302499 -27.6024702  -47.98860544]]\n"
     ]
    },
    {
     "name": "stderr",
     "output_type": "stream",
     "text": [
      "100%|██████████████████████████████████████████████████████████████████████████████████| 50/50 [00:00<00:00, 62.53it/s]\n",
      " 14%|███████████▌                                                                       | 7/50 [00:00<00:00, 64.39it/s]"
     ]
    },
    {
     "name": "stdout",
     "output_type": "stream",
     "text": [
      "-42.68065509371959\n",
      "[[-37.32440923 -48.50175991 -40.74787445 -50.61407273 -42.55384169\n",
      "  -43.19302499 -27.6024702  -47.98860544]]\n"
     ]
    },
    {
     "name": "stderr",
     "output_type": "stream",
     "text": [
      "100%|██████████████████████████████████████████████████████████████████████████████████| 50/50 [00:00<00:00, 62.78it/s]\n",
      " 14%|███████████▌                                                                       | 7/50 [00:00<00:00, 63.23it/s]"
     ]
    },
    {
     "name": "stdout",
     "output_type": "stream",
     "text": [
      "-42.61751174314724\n",
      "[[-37.45898835 -51.80890333 -35.74217324 -44.61478994 -39.45459987\n",
      "  -57.46440919 -42.9332045  -46.56195039]]\n"
     ]
    },
    {
     "name": "stderr",
     "output_type": "stream",
     "text": [
      "100%|██████████████████████████████████████████████████████████████████████████████████| 50/50 [00:00<00:00, 68.93it/s]\n",
      " 14%|███████████▌                                                                       | 7/50 [00:00<00:00, 66.85it/s]"
     ]
    },
    {
     "name": "stdout",
     "output_type": "stream",
     "text": [
      "-43.752783043175654\n",
      "[[-37.45898835 -51.80890333 -35.74217324 -44.61478994 -39.45459987\n",
      "  -57.46440919 -42.9332045  -46.56195039]]\n"
     ]
    },
    {
     "name": "stderr",
     "output_type": "stream",
     "text": [
      "100%|██████████████████████████████████████████████████████████████████████████████████| 50/50 [00:00<00:00, 56.56it/s]\n",
      " 14%|███████████▌                                                                       | 7/50 [00:00<00:00, 62.11it/s]"
     ]
    },
    {
     "name": "stdout",
     "output_type": "stream",
     "text": [
      "-43.71957427302809\n",
      "[[-32.98829683 -24.9116147  -35.31057883 -29.85135597 -32.10078032\n",
      "   -8.59244517 -24.71363388 -39.36280872]]\n"
     ]
    },
    {
     "name": "stderr",
     "output_type": "stream",
     "text": [
      "100%|██████████████████████████████████████████████████████████████████████████████████| 50/50 [00:00<00:00, 67.07it/s]\n",
      " 14%|███████████▌                                                                       | 7/50 [00:00<00:00, 64.39it/s]"
     ]
    },
    {
     "name": "stdout",
     "output_type": "stream",
     "text": [
      "-32.5577878638547\n",
      "[[-32.98829683 -24.9116147  -35.31057883 -29.85135597 -32.10078032\n",
      "   -8.59244517 -24.71363388 -39.36280872]]\n"
     ]
    },
    {
     "name": "stderr",
     "output_type": "stream",
     "text": [
      "100%|██████████████████████████████████████████████████████████████████████████████████| 50/50 [00:00<00:00, 60.59it/s]\n",
      " 14%|███████████▌                                                                       | 7/50 [00:00<00:00, 65.60it/s]"
     ]
    },
    {
     "name": "stdout",
     "output_type": "stream",
     "text": [
      "-32.41856907457219\n",
      "[[-38.62239448 -32.95857202 -36.04533099 -32.18184785 -32.74853697\n",
      "  -18.16193372 -40.53517277 -34.00267188]]\n"
     ]
    },
    {
     "name": "stderr",
     "output_type": "stream",
     "text": [
      "100%|██████████████████████████████████████████████████████████████████████████████████| 50/50 [00:00<00:00, 61.25it/s]\n",
      " 14%|███████████▌                                                                       | 7/50 [00:00<00:00, 66.85it/s]"
     ]
    },
    {
     "name": "stdout",
     "output_type": "stream",
     "text": [
      "-34.38123445689357\n",
      "[[-38.62239448 -32.95857202 -36.04533099 -32.18184785 -32.74853697\n",
      "  -18.16193372 -40.53517277 -34.00267188]]\n"
     ]
    },
    {
     "name": "stderr",
     "output_type": "stream",
     "text": [
      "100%|██████████████████████████████████████████████████████████████████████████████████| 50/50 [00:00<00:00, 66.31it/s]\n",
      " 12%|█████████▉                                                                         | 6/50 [00:00<00:00, 53.24it/s]"
     ]
    },
    {
     "name": "stdout",
     "output_type": "stream",
     "text": [
      "-34.357059443513464\n",
      "[[-38.97935539 -41.55802637 -37.12330177 -39.69774643 -37.28283505\n",
      "  -35.09463038 -41.71993285 -30.59025149]]\n"
     ]
    },
    {
     "name": "stderr",
     "output_type": "stream",
     "text": [
      "100%|██████████████████████████████████████████████████████████████████████████████████| 50/50 [00:01<00:00, 48.79it/s]\n",
      " 16%|█████████████▎                                                                     | 8/50 [00:00<00:00, 74.27it/s]"
     ]
    },
    {
     "name": "stdout",
     "output_type": "stream",
     "text": [
      "-35.836734536738376\n",
      "[[-38.97935539 -41.55802637 -37.12330177 -39.69774643 -37.28283505\n",
      "  -35.09463038 -41.71993285 -30.59025149]]\n"
     ]
    },
    {
     "name": "stderr",
     "output_type": "stream",
     "text": [
      "100%|██████████████████████████████████████████████████████████████████████████████████| 50/50 [00:00<00:00, 64.27it/s]\n",
      " 14%|███████████▌                                                                       | 7/50 [00:00<00:00, 64.63it/s]"
     ]
    },
    {
     "name": "stdout",
     "output_type": "stream",
     "text": [
      "-35.58378059166687\n",
      "[[-41.09002668 -47.5324371  -38.60984934 -39.0768149  -32.10078032\n",
      "  -13.71272258 -38.85141171 -46.54298515]]\n"
     ]
    },
    {
     "name": "stderr",
     "output_type": "stream",
     "text": [
      "100%|██████████████████████████████████████████████████████████████████████████████████| 50/50 [00:00<00:00, 63.04it/s]\n",
      " 12%|█████████▉                                                                         | 6/50 [00:00<00:00, 57.85it/s]"
     ]
    },
    {
     "name": "stdout",
     "output_type": "stream",
     "text": [
      "-40.29770345962437\n",
      "[[-41.09002668 -47.5324371  -38.60984934 -39.0768149  -32.10078032\n",
      "  -13.71272258 -38.85141171 -46.54298515]]\n"
     ]
    },
    {
     "name": "stderr",
     "output_type": "stream",
     "text": [
      "100%|██████████████████████████████████████████████████████████████████████████████████| 50/50 [00:00<00:00, 64.77it/s]\n",
      " 14%|███████████▌                                                                       | 7/50 [00:00<00:00, 63.07it/s]"
     ]
    },
    {
     "name": "stdout",
     "output_type": "stream",
     "text": [
      "-40.081385808125695\n",
      "[[-38.33487711 -62.141032   -39.0680887  -51.76361032 -41.22843154\n",
      "  -70.09757021 -33.47454395 -48.61085667]]\n"
     ]
    },
    {
     "name": "stderr",
     "output_type": "stream",
     "text": [
      "100%|██████████████████████████████████████████████████████████████████████████████████| 50/50 [00:00<00:00, 63.24it/s]\n",
      " 14%|███████████▌                                                                       | 7/50 [00:00<00:00, 66.84it/s]"
     ]
    },
    {
     "name": "stdout",
     "output_type": "stream",
     "text": [
      "-45.8013078784844\n",
      "[[-38.33487711 -62.141032   -39.0680887  -51.76361032 -41.22843154\n",
      "  -70.09757021 -33.47454395 -48.61085667]]\n"
     ]
    },
    {
     "name": "stderr",
     "output_type": "stream",
     "text": [
      "100%|██████████████████████████████████████████████████████████████████████████████████| 50/50 [00:01<00:00, 49.46it/s]\n",
      " 10%|████████▎                                                                          | 5/50 [00:00<00:00, 48.67it/s]"
     ]
    },
    {
     "name": "stdout",
     "output_type": "stream",
     "text": [
      "-45.808374324999285\n",
      "[[-40.8738892  -74.02061216 -40.51993529 -63.89387545 -43.09036601\n",
      "  -97.71828408 -33.03057204 -48.65509944]]\n"
     ]
    },
    {
     "name": "stderr",
     "output_type": "stream",
     "text": [
      "100%|██████████████████████████████████████████████████████████████████████████████████| 50/50 [00:00<00:00, 61.68it/s]\n",
      " 12%|█████████▉                                                                         | 6/50 [00:00<00:00, 55.70it/s]"
     ]
    },
    {
     "name": "stdout",
     "output_type": "stream",
     "text": [
      "-49.49041693907432\n",
      "[[-40.8738892  -74.02061216 -40.51993529 -63.89387545 -43.09036601\n",
      "  -97.71828408 -33.03057204 -48.65509944]]\n"
     ]
    },
    {
     "name": "stderr",
     "output_type": "stream",
     "text": [
      "100%|██████████████████████████████████████████████████████████████████████████████████| 50/50 [00:00<00:00, 59.61it/s]\n",
      " 12%|█████████▉                                                                         | 6/50 [00:00<00:00, 58.98it/s]"
     ]
    },
    {
     "name": "stdout",
     "output_type": "stream",
     "text": [
      "-49.30070054076753\n",
      "[[-43.1282038  -54.80744881 -40.54213105 -58.30064154 -44.96645603\n",
      "  -53.03844276 -33.02572475 -49.61997193]]\n"
     ]
    },
    {
     "name": "stderr",
     "output_type": "stream",
     "text": [
      "100%|██████████████████████████████████████████████████████████████████████████████████| 50/50 [00:00<00:00, 64.91it/s]\n",
      " 14%|███████████▌                                                                       | 7/50 [00:00<00:00, 66.85it/s]"
     ]
    },
    {
     "name": "stdout",
     "output_type": "stream",
     "text": [
      "-46.16588611083882\n",
      "[[-43.1282038  -54.80744881 -40.54213105 -58.30064154 -44.96645603\n",
      "  -53.03844276 -33.02572475 -49.61997193]]\n"
     ]
    },
    {
     "name": "stderr",
     "output_type": "stream",
     "text": [
      "100%|██████████████████████████████████████████████████████████████████████████████████| 50/50 [00:00<00:00, 61.49it/s]\n",
      " 14%|███████████▌                                                                       | 7/50 [00:00<00:00, 62.67it/s]"
     ]
    },
    {
     "name": "stdout",
     "output_type": "stream",
     "text": [
      "-46.46297320592945\n",
      "[[-25.87574662 -26.30698818 -32.71554738 -26.08788822 -24.08048704\n",
      "  -38.32600505 -16.9565525  -28.0512854 ]]\n"
     ]
    },
    {
     "name": "stderr",
     "output_type": "stream",
     "text": [
      "100%|██████████████████████████████████████████████████████████████████████████████████| 50/50 [00:00<00:00, 53.54it/s]\n",
      " 16%|█████████████▎                                                                     | 8/50 [00:00<00:00, 73.57it/s]"
     ]
    },
    {
     "name": "stdout",
     "output_type": "stream",
     "text": [
      "-27.174921200445528\n",
      "[[-25.87574662 -26.30698818 -32.71554738 -26.08788822 -24.08048704\n",
      "  -38.32600505 -16.9565525  -28.0512854 ]]\n"
     ]
    },
    {
     "name": "stderr",
     "output_type": "stream",
     "text": [
      "100%|██████████████████████████████████████████████████████████████████████████████████| 50/50 [00:00<00:00, 68.76it/s]\n",
      " 14%|███████████▌                                                                       | 7/50 [00:00<00:00, 64.99it/s]"
     ]
    },
    {
     "name": "stdout",
     "output_type": "stream",
     "text": [
      "-27.185556649983717\n",
      "[[-34.38795478 -44.94375656 -33.15102787 -37.22695631 -45.83507461\n",
      "  -29.80121163 -46.70654529 -39.66947875]]\n"
     ]
    },
    {
     "name": "stderr",
     "output_type": "stream",
     "text": [
      "100%|██████████████████████████████████████████████████████████████████████████████████| 50/50 [00:00<00:00, 69.74it/s]\n",
      " 16%|█████████████▎                                                                     | 8/50 [00:00<00:00, 74.95it/s]"
     ]
    },
    {
     "name": "stdout",
     "output_type": "stream",
     "text": [
      "-38.889325861469736\n",
      "[[-25.87574662 -26.30698818 -32.71554738 -26.08788822 -24.08048704\n",
      "  -38.32600505 -16.9565525  -28.0512854 ]]\n"
     ]
    },
    {
     "name": "stderr",
     "output_type": "stream",
     "text": [
      "100%|██████████████████████████████████████████████████████████████████████████████████| 50/50 [00:00<00:00, 69.05it/s]\n",
      " 16%|█████████████▎                                                                     | 8/50 [00:00<00:00, 73.73it/s]"
     ]
    },
    {
     "name": "stdout",
     "output_type": "stream",
     "text": [
      "-27.282468290474256\n",
      "[[-42.04217198 -32.00855108 -36.84548388 -36.02493917 -39.2622813\n",
      "  -34.41492529 -34.06636146 -42.09501409]]\n"
     ]
    },
    {
     "name": "stderr",
     "output_type": "stream",
     "text": [
      "100%|██████████████████████████████████████████████████████████████████████████████████| 50/50 [00:00<00:00, 70.61it/s]\n",
      " 14%|███████████▌                                                                       | 7/50 [00:00<00:00, 61.04it/s]"
     ]
    },
    {
     "name": "stdout",
     "output_type": "stream",
     "text": [
      "-38.77769808580563\n",
      "[[-42.04217198 -32.00855108 -36.84548388 -36.02493917 -39.2622813\n",
      "  -34.41492529 -34.06636146 -42.09501409]]\n"
     ]
    },
    {
     "name": "stderr",
     "output_type": "stream",
     "text": [
      "100%|██████████████████████████████████████████████████████████████████████████████████| 50/50 [00:00<00:00, 54.91it/s]\n",
      " 14%|███████████▌                                                                       | 7/50 [00:00<00:00, 63.81it/s]"
     ]
    },
    {
     "name": "stdout",
     "output_type": "stream",
     "text": [
      "-39.02041406119234\n",
      "[[-38.81352786 -37.82293106 -37.16194741 -42.5281816  -42.68560309\n",
      "  -25.15453488 -39.54489899 -46.57260372]]\n"
     ]
    },
    {
     "name": "stderr",
     "output_type": "stream",
     "text": [
      "100%|██████████████████████████████████████████████████████████████████████████████████| 50/50 [00:00<00:00, 70.16it/s]\n",
      " 10%|████████▎                                                                          | 5/50 [00:00<00:00, 48.43it/s]"
     ]
    },
    {
     "name": "stdout",
     "output_type": "stream",
     "text": [
      "-41.15670815252941\n",
      "[[-38.81352786 -37.82293106 -37.16194741 -42.5281816  -42.68560309\n",
      "  -25.15453488 -39.54489899 -46.57260372]]\n"
     ]
    },
    {
     "name": "stderr",
     "output_type": "stream",
     "text": [
      "100%|██████████████████████████████████████████████████████████████████████████████████| 50/50 [00:00<00:00, 68.16it/s]\n",
      " 14%|███████████▌                                                                       | 7/50 [00:00<00:00, 69.49it/s]"
     ]
    },
    {
     "name": "stdout",
     "output_type": "stream",
     "text": [
      "-41.158100423915876\n",
      "[[-24.50644439 -20.67419785 -31.45902753 -29.35272377 -33.86350805\n",
      "  -28.69330517 -16.71430765 -30.32734898]]\n"
     ]
    },
    {
     "name": "stderr",
     "output_type": "stream",
     "text": [
      "100%|██████████████████████████████████████████████████████████████████████████████████| 50/50 [00:00<00:00, 69.18it/s]\n",
      " 16%|█████████████▎                                                                     | 8/50 [00:00<00:00, 72.22it/s]"
     ]
    },
    {
     "name": "stdout",
     "output_type": "stream",
     "text": [
      "-27.811588746994968\n",
      "[[-24.50644439 -20.67419785 -31.45902753 -29.35272377 -33.86350805\n",
      "  -28.69330517 -16.71430765 -30.32734898]]\n"
     ]
    },
    {
     "name": "stderr",
     "output_type": "stream",
     "text": [
      "100%|██████████████████████████████████████████████████████████████████████████████████| 50/50 [00:00<00:00, 67.74it/s]\n",
      "  0%|                                                                                           | 0/50 [00:00<?, ?it/s]"
     ]
    },
    {
     "name": "stdout",
     "output_type": "stream",
     "text": [
      "-27.833927436067594\n",
      "[[-34.71407862 -28.67961073 -33.93019888 -23.00181287 -23.78158793\n",
      "  -13.74746802 -38.47937821 -40.61337448]]\n"
     ]
    },
    {
     "name": "stderr",
     "output_type": "stream",
     "text": [
      "100%|██████████████████████████████████████████████████████████████████████████████████| 50/50 [00:00<00:00, 52.86it/s]\n",
      " 14%|███████████▌                                                                       | 7/50 [00:00<00:00, 67.21it/s]"
     ]
    },
    {
     "name": "stdout",
     "output_type": "stream",
     "text": [
      "-33.99306357715161\n",
      "[[-34.71407862 -28.67961073 -33.93019888 -23.00181287 -23.78158793\n",
      "  -13.74746802 -38.47937821 -40.61337448]]\n"
     ]
    },
    {
     "name": "stderr",
     "output_type": "stream",
     "text": [
      "100%|██████████████████████████████████████████████████████████████████████████████████| 50/50 [00:00<00:00, 64.07it/s]\n",
      " 14%|███████████▌                                                                       | 7/50 [00:00<00:00, 64.39it/s]"
     ]
    },
    {
     "name": "stdout",
     "output_type": "stream",
     "text": [
      "-34.235395120222876\n",
      "[[-35.87761372 -35.45564426 -34.29608615 -25.80394799 -30.96680398\n",
      "  -11.54243138 -38.51499606 -45.90025311]]\n"
     ]
    },
    {
     "name": "stderr",
     "output_type": "stream",
     "text": [
      "100%|██████████████████████████████████████████████████████████████████████████████████| 50/50 [00:00<00:00, 64.69it/s]\n",
      " 14%|███████████▌                                                                       | 7/50 [00:00<00:00, 65.61it/s]"
     ]
    },
    {
     "name": "stdout",
     "output_type": "stream",
     "text": [
      "-37.04301323400725\n",
      "[[-35.87761372 -35.45564426 -34.29608615 -25.80394799 -30.96680398\n",
      "  -11.54243138 -38.51499606 -45.90025311]]\n"
     ]
    },
    {
     "name": "stderr",
     "output_type": "stream",
     "text": [
      "100%|██████████████████████████████████████████████████████████████████████████████████| 50/50 [00:00<00:00, 63.93it/s]\n",
      " 12%|█████████▉                                                                         | 6/50 [00:00<00:00, 58.41it/s]"
     ]
    },
    {
     "name": "stdout",
     "output_type": "stream",
     "text": [
      "-37.1608597972325\n",
      "[[-27.40699998 -44.63786427 -33.40164913 -44.14077054 -32.2331006\n",
      "  -59.70808907 -16.84553928 -34.58739566]]\n"
     ]
    },
    {
     "name": "stderr",
     "output_type": "stream",
     "text": [
      "100%|██████████████████████████████████████████████████████████████████████████████████| 50/50 [00:00<00:00, 53.07it/s]\n",
      " 14%|███████████▌                                                                       | 7/50 [00:00<00:00, 66.84it/s]"
     ]
    },
    {
     "name": "stdout",
     "output_type": "stream",
     "text": [
      "-33.88732166844827\n",
      "[[-27.40699998 -44.63786427 -33.40164913 -44.14077054 -32.2331006\n",
      "  -59.70808907 -16.84553928 -34.58739566]]\n"
     ]
    },
    {
     "name": "stderr",
     "output_type": "stream",
     "text": [
      "100%|██████████████████████████████████████████████████████████████████████████████████| 50/50 [00:00<00:00, 63.96it/s]\n",
      " 14%|███████████▌                                                                       | 7/50 [00:00<00:00, 64.99it/s]"
     ]
    },
    {
     "name": "stdout",
     "output_type": "stream",
     "text": [
      "-33.699755479787896\n",
      "[[-29.03933306 -48.15166256 -33.49766785 -47.38374842 -44.20938062\n",
      "  -64.99997535 -34.8751679  -40.14798864]]\n"
     ]
    },
    {
     "name": "stderr",
     "output_type": "stream",
     "text": [
      "100%|██████████████████████████████████████████████████████████████████████████████████| 50/50 [00:00<00:00, 67.51it/s]\n",
      " 14%|███████████▌                                                                       | 7/50 [00:00<00:00, 65.58it/s]"
     ]
    },
    {
     "name": "stdout",
     "output_type": "stream",
     "text": [
      "-39.957496687252785\n",
      "[[-29.03933306 -48.15166256 -33.49766785 -47.38374842 -44.20938062\n",
      "  -64.99997535 -34.8751679  -40.14798864]]\n"
     ]
    },
    {
     "name": "stderr",
     "output_type": "stream",
     "text": [
      "100%|██████████████████████████████████████████████████████████████████████████████████| 50/50 [00:00<00:00, 66.49it/s]\n",
      " 16%|█████████████▎                                                                     | 8/50 [00:00<00:00, 68.56it/s]"
     ]
    },
    {
     "name": "stdout",
     "output_type": "stream",
     "text": [
      "-39.85648079936965\n",
      "[[-30.50563132 -43.41731736 -37.89947986 -45.28787392 -36.04169255\n",
      "  -53.54714862 -31.05217082 -39.57915397]]\n"
     ]
    },
    {
     "name": "stderr",
     "output_type": "stream",
     "text": [
      "100%|██████████████████████████████████████████████████████████████████████████████████| 50/50 [00:00<00:00, 64.12it/s]\n",
      " 14%|███████████▌                                                                       | 7/50 [00:00<00:00, 64.99it/s]"
     ]
    },
    {
     "name": "stdout",
     "output_type": "stream",
     "text": [
      "-38.683693377253114\n",
      "[[-30.50563132 -43.41731736 -37.89947986 -45.28787392 -36.04169255\n",
      "  -53.54714862 -31.05217082 -39.57915397]]\n"
     ]
    },
    {
     "name": "stderr",
     "output_type": "stream",
     "text": [
      "100%|██████████████████████████████████████████████████████████████████████████████████| 50/50 [00:00<00:00, 52.68it/s]\n",
      " 16%|█████████████▎                                                                     | 8/50 [00:00<00:00, 71.57it/s]"
     ]
    },
    {
     "name": "stdout",
     "output_type": "stream",
     "text": [
      "-38.45885985361732\n",
      "[[-33.14627243 -29.93829667 -35.60343337 -33.11711245 -36.02098807\n",
      "  -33.5443813  -35.8411634  -39.58685402]]\n"
     ]
    },
    {
     "name": "stderr",
     "output_type": "stream",
     "text": [
      "100%|██████████████████████████████████████████████████████████████████████████████████| 50/50 [00:00<00:00, 67.88it/s]\n",
      " 14%|███████████▌                                                                       | 7/50 [00:00<00:00, 62.11it/s]"
     ]
    },
    {
     "name": "stdout",
     "output_type": "stream",
     "text": [
      "-36.64727578667953\n",
      "[[-33.14627243 -29.93829667 -35.60343337 -33.11711245 -36.02098807\n",
      "  -33.5443813  -35.8411634  -39.58685402]]\n"
     ]
    },
    {
     "name": "stderr",
     "output_type": "stream",
     "text": [
      "100%|██████████████████████████████████████████████████████████████████████████████████| 50/50 [00:00<00:00, 64.76it/s]\n",
      " 12%|█████████▉                                                                         | 6/50 [00:00<00:00, 59.57it/s]"
     ]
    },
    {
     "name": "stdout",
     "output_type": "stream",
     "text": [
      "-36.73547274639883\n",
      "[[-34.41437625 -40.81289675 -35.89003397 -44.06862292 -35.70827902\n",
      "  -45.95648664 -29.1197015  -34.04989057]]\n"
     ]
    },
    {
     "name": "stderr",
     "output_type": "stream",
     "text": [
      "100%|██████████████████████████████████████████████████████████████████████████████████| 50/50 [00:00<00:00, 66.14it/s]\n",
      " 14%|███████████▌                                                                       | 7/50 [00:00<00:00, 66.85it/s]"
     ]
    },
    {
     "name": "stdout",
     "output_type": "stream",
     "text": [
      "-35.7400249638409\n",
      "[[-34.41437625 -40.81289675 -35.89003397 -44.06862292 -35.70827902\n",
      "  -45.95648664 -29.1197015  -34.04989057]]\n"
     ]
    },
    {
     "name": "stderr",
     "output_type": "stream",
     "text": [
      "100%|██████████████████████████████████████████████████████████████████████████████████| 50/50 [00:00<00:00, 68.20it/s]\n",
      " 16%|█████████████▎                                                                     | 8/50 [00:00<00:00, 75.26it/s]"
     ]
    },
    {
     "name": "stdout",
     "output_type": "stream",
     "text": [
      "-35.70098333760118\n",
      "[[-34.6021951  -37.49021702 -33.05131236 -33.11513634 -26.25548076\n",
      "  -43.9873815  -45.78862331 -34.33750924]]\n"
     ]
    },
    {
     "name": "stderr",
     "output_type": "stream",
     "text": [
      "100%|██████████████████████████████████████████████████████████████████████████████████| 50/50 [00:00<00:00, 58.09it/s]\n",
      " 16%|█████████████▎                                                                     | 8/50 [00:00<00:00, 73.60it/s]"
     ]
    },
    {
     "name": "stdout",
     "output_type": "stream",
     "text": [
      "-35.55912789847496\n",
      "[[-34.6021951  -37.49021702 -33.05131236 -33.11513634 -26.25548076\n",
      "  -43.9873815  -45.78862331 -34.33750924]]\n"
     ]
    },
    {
     "name": "stderr",
     "output_type": "stream",
     "text": [
      "100%|██████████████████████████████████████████████████████████████████████████████████| 50/50 [00:00<00:00, 68.90it/s]\n",
      " 14%|███████████▌                                                                       | 7/50 [00:00<00:00, 68.80it/s]"
     ]
    },
    {
     "name": "stdout",
     "output_type": "stream",
     "text": [
      "-35.65895385734611\n",
      "[[-34.51055714 -43.74104023 -35.23072002 -36.97790027 -32.84504869\n",
      "  -24.48385683 -39.25316115 -36.63212642]]\n"
     ]
    },
    {
     "name": "stderr",
     "output_type": "stream",
     "text": [
      "100%|██████████████████████████████████████████████████████████████████████████████████| 50/50 [00:00<00:00, 69.92it/s]\n",
      " 14%|███████████▌                                                                       | 7/50 [00:00<00:00, 69.49it/s]"
     ]
    },
    {
     "name": "stdout",
     "output_type": "stream",
     "text": [
      "-35.82108189327918\n",
      "[[-34.51055714 -43.74104023 -35.23072002 -36.97790027 -32.84504869\n",
      "  -24.48385683 -39.25316115 -36.63212642]]\n"
     ]
    },
    {
     "name": "stderr",
     "output_type": "stream",
     "text": [
      "100%|██████████████████████████████████████████████████████████████████████████████████| 50/50 [00:00<00:00, 68.85it/s]\n",
      " 16%|█████████████▎                                                                     | 8/50 [00:00<00:00, 72.47it/s]"
     ]
    },
    {
     "name": "stdout",
     "output_type": "stream",
     "text": [
      "-35.9192891634\n",
      "[[-36.85591377 -40.13397885 -33.75488469 -42.33164715 -31.0474209\n",
      "  -47.38460941 -39.8999502  -42.76780766]]\n"
     ]
    },
    {
     "name": "stderr",
     "output_type": "stream",
     "text": [
      "100%|██████████████████████████████████████████████████████████████████████████████████| 50/50 [00:00<00:00, 70.21it/s]\n",
      "  0%|                                                                                           | 0/50 [00:00<?, ?it/s]"
     ]
    },
    {
     "name": "stdout",
     "output_type": "stream",
     "text": [
      "-39.98545761235602\n",
      "[[-36.85591377 -40.13397885 -33.75488469 -42.33164715 -31.0474209\n",
      "  -47.38460941 -39.8999502  -42.76780766]]\n"
     ]
    },
    {
     "name": "stderr",
     "output_type": "stream",
     "text": [
      "100%|██████████████████████████████████████████████████████████████████████████████████| 50/50 [00:00<00:00, 57.99it/s]\n",
      " 14%|███████████▌                                                                       | 7/50 [00:00<00:00, 69.45it/s]"
     ]
    },
    {
     "name": "stdout",
     "output_type": "stream",
     "text": [
      "-40.14455889851665\n",
      "[[-35.63460484 -42.42241977 -34.42513448 -43.39936704 -31.0474209\n",
      "  -25.44787191 -39.65324503 -43.35987308]]\n"
     ]
    },
    {
     "name": "stderr",
     "output_type": "stream",
     "text": [
      "100%|██████████████████████████████████████████████████████████████████████████████████| 50/50 [00:00<00:00, 70.22it/s]\n",
      " 16%|█████████████▎                                                                     | 8/50 [00:00<00:00, 72.24it/s]"
     ]
    },
    {
     "name": "stdout",
     "output_type": "stream",
     "text": [
      "-38.736439591198916\n",
      "[[-35.63460484 -42.42241977 -34.42513448 -43.39936704 -31.0474209\n",
      "  -25.44787191 -39.65324503 -43.35987308]]\n"
     ]
    },
    {
     "name": "stderr",
     "output_type": "stream",
     "text": [
      "100%|██████████████████████████████████████████████████████████████████████████████████| 50/50 [00:00<00:00, 69.02it/s]\n",
      " 14%|███████████▌                                                                       | 7/50 [00:00<00:00, 68.81it/s]"
     ]
    },
    {
     "name": "stdout",
     "output_type": "stream",
     "text": [
      "-38.85702544113987\n",
      "[[-34.7121692  -42.36393487 -33.87415695 -38.21800842 -25.56702176\n",
      "  -16.69742414 -44.79883721 -39.27297434]]\n"
     ]
    },
    {
     "name": "stderr",
     "output_type": "stream",
     "text": [
      "100%|██████████████████████████████████████████████████████████████████████████████████| 50/50 [00:00<00:00, 65.73it/s]\n",
      " 14%|███████████▌                                                                       | 7/50 [00:00<00:00, 67.47it/s]"
     ]
    },
    {
     "name": "stdout",
     "output_type": "stream",
     "text": [
      "-36.50166106616843\n",
      "[[-34.7121692  -42.36393487 -33.87415695 -38.21800842 -25.56702176\n",
      "  -16.69742414 -44.79883721 -39.27297434]]\n"
     ]
    },
    {
     "name": "stderr",
     "output_type": "stream",
     "text": [
      "100%|██████████████████████████████████████████████████████████████████████████████████| 50/50 [00:00<00:00, 69.34it/s]\n",
      "  0%|                                                                                           | 0/50 [00:00<?, ?it/s]"
     ]
    },
    {
     "name": "stdout",
     "output_type": "stream",
     "text": [
      "-36.382606682194606\n",
      "[[-35.46305182 -38.84837134 -35.34011197 -35.76021849 -32.74853697\n",
      "  -11.92492688 -43.82593248 -37.48317925]]\n"
     ]
    },
    {
     "name": "stderr",
     "output_type": "stream",
     "text": [
      "100%|██████████████████████████████████████████████████████████████████████████████████| 50/50 [00:00<00:00, 56.64it/s]\n",
      " 16%|█████████████▎                                                                     | 8/50 [00:00<00:00, 74.96it/s]"
     ]
    },
    {
     "name": "stdout",
     "output_type": "stream",
     "text": [
      "-36.04081895262747\n",
      "[[-35.46305182 -38.84837134 -35.34011197 -35.76021849 -32.74853697\n",
      "  -11.92492688 -43.82593248 -37.48317925]]\n"
     ]
    },
    {
     "name": "stderr",
     "output_type": "stream",
     "text": [
      "100%|██████████████████████████████████████████████████████████████████████████████████| 50/50 [00:00<00:00, 68.12it/s]\n",
      " 14%|███████████▌                                                                       | 7/50 [00:00<00:00, 65.17it/s]"
     ]
    },
    {
     "name": "stdout",
     "output_type": "stream",
     "text": [
      "-35.82583285720522\n",
      "[[-38.90684792 -42.01579583 -35.94082605 -40.54253474 -44.96645603\n",
      "  -30.26169275 -39.64716073 -47.0245698 ]]\n"
     ]
    },
    {
     "name": "stderr",
     "output_type": "stream",
     "text": [
      "100%|██████████████████████████████████████████████████████████████████████████████████| 50/50 [00:00<00:00, 65.90it/s]\n",
      " 14%|███████████▌                                                                       | 7/50 [00:00<00:00, 68.14it/s]"
     ]
    },
    {
     "name": "stdout",
     "output_type": "stream",
     "text": [
      "-41.799422228712004\n",
      "[[-38.90684792 -42.01579583 -35.94082605 -40.54253474 -44.96645603\n",
      "  -30.26169275 -39.64716073 -47.0245698 ]]\n"
     ]
    },
    {
     "name": "stderr",
     "output_type": "stream",
     "text": [
      "100%|██████████████████████████████████████████████████████████████████████████████████| 50/50 [00:00<00:00, 68.63it/s]\n",
      " 14%|███████████▌                                                                       | 7/50 [00:00<00:00, 66.22it/s]"
     ]
    },
    {
     "name": "stdout",
     "output_type": "stream",
     "text": [
      "-41.75444048545999\n",
      "[[-36.55170738 -56.1056561  -38.52369991 -53.13469837 -34.18359322\n",
      "  -69.4863033  -39.84053701 -48.97961491]]\n"
     ]
    },
    {
     "name": "stderr",
     "output_type": "stream",
     "text": [
      "100%|██████████████████████████████████████████████████████████████████████████████████| 50/50 [00:00<00:00, 53.99it/s]\n",
      " 14%|███████████▌                                                                       | 7/50 [00:00<00:00, 67.51it/s]"
     ]
    },
    {
     "name": "stdout",
     "output_type": "stream",
     "text": [
      "-45.84678122430529\n",
      "[[-36.55170738 -56.1056561  -38.52369991 -53.13469837 -34.18359322\n",
      "  -69.4863033  -39.84053701 -48.97961491]]\n"
     ]
    },
    {
     "name": "stderr",
     "output_type": "stream",
     "text": [
      "100%|██████████████████████████████████████████████████████████████████████████████████| 50/50 [00:00<00:00, 65.22it/s]\n",
      " 14%|███████████▌                                                                       | 7/50 [00:00<00:00, 68.13it/s]"
     ]
    },
    {
     "name": "stdout",
     "output_type": "stream",
     "text": [
      "-45.898667712849125\n",
      "[[-39.31967461 -48.2746164  -36.77313447 -42.87409889 -38.67821172\n",
      "  -55.60743242 -40.1078575  -42.07740204]]\n"
     ]
    },
    {
     "name": "stderr",
     "output_type": "stream",
     "text": [
      "100%|██████████████████████████████████████████████████████████████████████████████████| 50/50 [00:00<00:00, 68.42it/s]\n",
      " 16%|█████████████▎                                                                     | 8/50 [00:00<00:00, 72.90it/s]"
     ]
    },
    {
     "name": "stdout",
     "output_type": "stream",
     "text": [
      "-41.99159601164635\n",
      "[[-39.31967461 -48.2746164  -36.77313447 -42.87409889 -38.67821172\n",
      "  -55.60743242 -40.1078575  -42.07740204]]\n"
     ]
    },
    {
     "name": "stderr",
     "output_type": "stream",
     "text": [
      "100%|██████████████████████████████████████████████████████████████████████████████████| 50/50 [00:00<00:00, 70.54it/s]\n",
      " 14%|███████████▌                                                                       | 7/50 [00:00<00:00, 69.71it/s]"
     ]
    },
    {
     "name": "stdout",
     "output_type": "stream",
     "text": [
      "-41.63417324346459\n",
      "[[-33.47799296 -43.77953658 -34.5150917  -35.14706458 -33.62725934\n",
      "  -32.21515589 -43.47209938 -28.26267844]]\n"
     ]
    },
    {
     "name": "stderr",
     "output_type": "stream",
     "text": [
      "100%|██████████████████████████████████████████████████████████████████████████████████| 50/50 [00:00<00:00, 70.09it/s]\n",
      " 14%|███████████▌                                                                       | 7/50 [00:00<00:00, 63.79it/s]"
     ]
    },
    {
     "name": "stdout",
     "output_type": "stream",
     "text": [
      "-33.45441772897785\n",
      "[[-33.47799296 -43.77953658 -34.5150917  -35.14706458 -33.62725934\n",
      "  -32.21515589 -43.47209938 -28.26267844]]\n"
     ]
    },
    {
     "name": "stderr",
     "output_type": "stream",
     "text": [
      "100%|██████████████████████████████████████████████████████████████████████████████████| 50/50 [00:00<00:00, 56.60it/s]\n",
      " 16%|█████████████▎                                                                     | 8/50 [00:00<00:00, 72.78it/s]"
     ]
    },
    {
     "name": "stdout",
     "output_type": "stream",
     "text": [
      "-33.35363945144682\n",
      "[[-40.03268842 -46.42012176 -37.45911587 -45.38427881 -45.11709597\n",
      "  -40.70184218 -42.57886335 -42.75556915]]\n"
     ]
    },
    {
     "name": "stderr",
     "output_type": "stream",
     "text": [
      "100%|██████████████████████████████████████████████████████████████████████████████████| 50/50 [00:00<00:00, 70.84it/s]\n",
      " 16%|█████████████▎                                                                     | 8/50 [00:00<00:00, 70.98it/s]"
     ]
    },
    {
     "name": "stdout",
     "output_type": "stream",
     "text": [
      "-41.96815101104521\n",
      "[[-33.47799296 -43.77953658 -34.5150917  -35.14706458 -33.62725934\n",
      "  -32.21515589 -43.47209938 -28.26267844]]\n"
     ]
    },
    {
     "name": "stderr",
     "output_type": "stream",
     "text": [
      "100%|██████████████████████████████████████████████████████████████████████████████████| 50/50 [00:00<00:00, 72.11it/s]\n",
      " 14%|███████████▌                                                                       | 7/50 [00:00<00:00, 67.51it/s]"
     ]
    },
    {
     "name": "stdout",
     "output_type": "stream",
     "text": [
      "-33.2144033546267\n",
      "[[-39.47274105 -29.94899138 -33.35799734 -30.32635978 -28.49305338\n",
      "  -18.73721056 -27.67321553 -39.87327862]]\n"
     ]
    },
    {
     "name": "stderr",
     "output_type": "stream",
     "text": [
      "100%|██████████████████████████████████████████████████████████████████████████████████| 50/50 [00:00<00:00, 68.34it/s]\n",
      " 16%|█████████████▎                                                                     | 8/50 [00:00<00:00, 73.59it/s]"
     ]
    },
    {
     "name": "stdout",
     "output_type": "stream",
     "text": [
      "-34.16028245790113\n",
      "[[-39.47274105 -29.94899138 -33.35799734 -30.32635978 -28.49305338\n",
      "  -18.73721056 -27.67321553 -39.87327862]]\n"
     ]
    },
    {
     "name": "stderr",
     "output_type": "stream",
     "text": [
      "100%|██████████████████████████████████████████████████████████████████████████████████| 50/50 [00:00<00:00, 69.55it/s]\n",
      " 16%|█████████████▎                                                                     | 8/50 [00:00<00:00, 69.75it/s]"
     ]
    },
    {
     "name": "stdout",
     "output_type": "stream",
     "text": [
      "-34.42674647929068\n",
      "[[-40.97933219 -39.07561943 -36.32434709 -42.91661407 -33.20668267\n",
      "  -37.3236231  -28.74785416 -38.52581241]]\n"
     ]
    },
    {
     "name": "stderr",
     "output_type": "stream",
     "text": [
      "100%|██████████████████████████████████████████████████████████████████████████████████| 50/50 [00:00<00:00, 56.44it/s]\n",
      " 16%|█████████████▎                                                                     | 8/50 [00:00<00:00, 70.97it/s]"
     ]
    },
    {
     "name": "stdout",
     "output_type": "stream",
     "text": [
      "-37.250303479396166\n",
      "[[-40.97933219 -39.07561943 -36.32434709 -42.91661407 -33.20668267\n",
      "  -37.3236231  -28.74785416 -38.52581241]]\n"
     ]
    },
    {
     "name": "stderr",
     "output_type": "stream",
     "text": [
      "100%|██████████████████████████████████████████████████████████████████████████████████| 50/50 [00:00<00:00, 69.84it/s]\n",
      " 16%|█████████████▎                                                                     | 8/50 [00:00<00:00, 72.27it/s]"
     ]
    },
    {
     "name": "stdout",
     "output_type": "stream",
     "text": [
      "-36.9296621087127\n",
      "[[-36.97427864 -46.57587102 -32.70667794 -48.12201001 -44.27482605\n",
      "  -26.87647112 -28.63527834 -49.29107738]]\n"
     ]
    },
    {
     "name": "stderr",
     "output_type": "stream",
     "text": [
      "100%|██████████████████████████████████████████████████████████████████████████████████| 50/50 [00:00<00:00, 70.32it/s]\n",
      " 16%|█████████████▎                                                                     | 8/50 [00:00<00:00, 74.97it/s]"
     ]
    },
    {
     "name": "stdout",
     "output_type": "stream",
     "text": [
      "-41.08617706285339\n",
      "[[-36.97427864 -46.57587102 -32.70667794 -48.12201001 -44.27482605\n",
      "  -26.87647112 -28.63527834 -49.29107738]]\n"
     ]
    },
    {
     "name": "stderr",
     "output_type": "stream",
     "text": [
      "100%|██████████████████████████████████████████████████████████████████████████████████| 50/50 [00:00<00:00, 69.54it/s]\n",
      " 16%|█████████████▎                                                                     | 8/50 [00:00<00:00, 75.10it/s]"
     ]
    },
    {
     "name": "stdout",
     "output_type": "stream",
     "text": [
      "-40.9531552585967\n",
      "[[-35.7561303  -44.27679007 -31.75677546 -43.2791262  -33.01652468\n",
      "  -40.31588459 -29.61792151 -49.0262874 ]]\n"
     ]
    },
    {
     "name": "stderr",
     "output_type": "stream",
     "text": [
      "100%|██████████████████████████████████████████████████████████████████████████████████| 50/50 [00:00<00:00, 72.05it/s]\n",
      "  0%|                                                                                           | 0/50 [00:00<?, ?it/s]"
     ]
    },
    {
     "name": "stdout",
     "output_type": "stream",
     "text": [
      "-40.751974788491054\n",
      "[[-35.7561303  -44.27679007 -31.75677546 -43.2791262  -33.01652468\n",
      "  -40.31588459 -29.61792151 -49.0262874 ]]\n"
     ]
    },
    {
     "name": "stderr",
     "output_type": "stream",
     "text": [
      "100%|██████████████████████████████████████████████████████████████████████████████████| 50/50 [00:00<00:00, 57.82it/s]\n",
      " 16%|█████████████▎                                                                     | 8/50 [00:00<00:00, 69.77it/s]"
     ]
    },
    {
     "name": "stdout",
     "output_type": "stream",
     "text": [
      "-40.50609349508346\n",
      "[[-35.64316735 -40.30520547 -38.76923118 -54.32198906 -40.46301701\n",
      "  -36.12278574 -28.04086306 -47.7941068 ]]\n"
     ]
    },
    {
     "name": "stderr",
     "output_type": "stream",
     "text": [
      "100%|██████████████████████████████████████████████████████████████████████████████████| 50/50 [00:00<00:00, 70.11it/s]\n",
      " 16%|█████████████▎                                                                     | 8/50 [00:00<00:00, 70.97it/s]"
     ]
    },
    {
     "name": "stdout",
     "output_type": "stream",
     "text": [
      "-41.83002603643671\n",
      "[[-35.64316735 -40.30520547 -38.76923118 -54.32198906 -40.46301701\n",
      "  -36.12278574 -28.04086306 -47.7941068 ]]\n"
     ]
    },
    {
     "name": "stderr",
     "output_type": "stream",
     "text": [
      "100%|██████████████████████████████████████████████████████████████████████████████████| 50/50 [00:00<00:00, 70.22it/s]\n",
      " 16%|█████████████▎                                                                     | 8/50 [00:00<00:00, 76.38it/s]"
     ]
    },
    {
     "name": "stdout",
     "output_type": "stream",
     "text": [
      "-41.54325813356169\n",
      "[[-36.00267023 -30.32289743 -34.20856812 -33.73456295 -31.0474209\n",
      "  -30.26681152 -32.06392965 -30.24322382]]\n"
     ]
    },
    {
     "name": "stderr",
     "output_type": "stream",
     "text": [
      "100%|██████████████████████████████████████████████████████████████████████████████████| 50/50 [00:00<00:00, 71.90it/s]\n",
      " 14%|███████████▌                                                                       | 7/50 [00:00<00:00, 66.20it/s]"
     ]
    },
    {
     "name": "stdout",
     "output_type": "stream",
     "text": [
      "-31.877608528916596\n",
      "[[-36.00267023 -30.32289743 -34.20856812 -33.73456295 -31.0474209\n",
      "  -30.26681152 -32.06392965 -30.24322382]]\n"
     ]
    },
    {
     "name": "stderr",
     "output_type": "stream",
     "text": [
      "100%|██████████████████████████████████████████████████████████████████████████████████| 50/50 [00:00<00:00, 57.00it/s]\n",
      " 14%|███████████▌                                                                       | 7/50 [00:00<00:00, 67.46it/s]"
     ]
    },
    {
     "name": "stdout",
     "output_type": "stream",
     "text": [
      "-31.988416665389213\n",
      "[[-28.66811325 -40.23125413 -33.77198864 -31.27756288 -24.15532369\n",
      "  -36.14000193 -45.60750494 -34.75415463]]\n"
     ]
    },
    {
     "name": "stderr",
     "output_type": "stream",
     "text": [
      "100%|██████████████████████████████████████████████████████████████████████████████████| 50/50 [00:00<00:00, 69.22it/s]\n",
      " 14%|███████████▌                                                                       | 7/50 [00:00<00:00, 67.49it/s]"
     ]
    },
    {
     "name": "stdout",
     "output_type": "stream",
     "text": [
      "-34.6550659480058\n",
      "[[-28.66811325 -40.23125413 -33.77198864 -31.27756288 -24.15532369\n",
      "  -36.14000193 -45.60750494 -34.75415463]]\n"
     ]
    },
    {
     "name": "stderr",
     "output_type": "stream",
     "text": [
      "100%|██████████████████████████████████████████████████████████████████████████████████| 50/50 [00:00<00:00, 69.92it/s]\n",
      " 16%|█████████████▎                                                                     | 8/50 [00:00<00:00, 71.00it/s]"
     ]
    },
    {
     "name": "stdout",
     "output_type": "stream",
     "text": [
      "-34.69492091725187\n",
      "[[-30.20242183 -46.95995825 -35.17718161 -42.72439985 -39.4904231\n",
      "  -51.16834666 -31.96718013 -37.34119848]]\n"
     ]
    },
    {
     "name": "stderr",
     "output_type": "stream",
     "text": [
      "100%|██████████████████████████████████████████████████████████████████████████████████| 50/50 [00:00<00:00, 69.33it/s]\n",
      " 16%|█████████████▎                                                                     | 8/50 [00:00<00:00, 76.38it/s]"
     ]
    },
    {
     "name": "stdout",
     "output_type": "stream",
     "text": [
      "-37.14744561005695\n",
      "[[-30.20242183 -46.95995825 -35.17718161 -42.72439985 -39.4904231\n",
      "  -51.16834666 -31.96718013 -37.34119848]]\n"
     ]
    },
    {
     "name": "stderr",
     "output_type": "stream",
     "text": [
      "100%|██████████████████████████████████████████████████████████████████████████████████| 50/50 [00:00<00:00, 70.60it/s]\n",
      " 14%|███████████▌                                                                       | 7/50 [00:00<00:00, 67.49it/s]"
     ]
    },
    {
     "name": "stdout",
     "output_type": "stream",
     "text": [
      "-37.20818878286833\n",
      "[[-34.96767562 -30.17431612 -34.09819562 -31.67723797 -26.33219222\n",
      "  -43.32063648 -32.44173652 -35.12888956]]\n"
     ]
    },
    {
     "name": "stderr",
     "output_type": "stream",
     "text": [
      "100%|██████████████████████████████████████████████████████████████████████████████████| 50/50 [00:00<00:00, 56.87it/s]\n",
      " 14%|███████████▌                                                                       | 7/50 [00:00<00:00, 67.49it/s]"
     ]
    },
    {
     "name": "stdout",
     "output_type": "stream",
     "text": [
      "-33.94184235173932\n",
      "[[-34.96767562 -30.17431612 -34.09819562 -31.67723797 -26.33219222\n",
      "  -43.32063648 -32.44173652 -35.12888956]]\n"
     ]
    },
    {
     "name": "stderr",
     "output_type": "stream",
     "text": [
      "100%|██████████████████████████████████████████████████████████████████████████████████| 50/50 [00:00<00:00, 69.05it/s]\n",
      " 16%|█████████████▎                                                                     | 8/50 [00:00<00:00, 76.39it/s]"
     ]
    },
    {
     "name": "stdout",
     "output_type": "stream",
     "text": [
      "-34.271104245331465\n",
      "[[-30.0396318  -49.14559    -33.42262237 -45.24777791 -38.94734723\n",
      "  -52.19218636 -16.97604786 -39.80622029]]\n"
     ]
    },
    {
     "name": "stderr",
     "output_type": "stream",
     "text": [
      "100%|██████████████████████████████████████████████████████████████████████████████████| 50/50 [00:00<00:00, 71.26it/s]\n",
      " 16%|█████████████▎                                                                     | 8/50 [00:00<00:00, 70.36it/s]"
     ]
    },
    {
     "name": "stdout",
     "output_type": "stream",
     "text": [
      "-36.425761009339205\n",
      "[[-30.0396318  -49.14559    -33.42262237 -45.24777791 -38.94734723\n",
      "  -52.19218636 -16.97604786 -39.80622029]]\n"
     ]
    },
    {
     "name": "stderr",
     "output_type": "stream",
     "text": [
      "100%|██████████████████████████████████████████████████████████████████████████████████| 50/50 [00:00<00:00, 69.29it/s]\n",
      " 16%|█████████████▎                                                                     | 8/50 [00:00<00:00, 69.74it/s]"
     ]
    },
    {
     "name": "stdout",
     "output_type": "stream",
     "text": [
      "-36.37260864752229\n",
      "[[-27.52561261 -41.06504661 -32.08864026 -48.15935593 -31.35139175\n",
      "  -59.65080061 -26.9226357  -34.6330557 ]]\n"
     ]
    },
    {
     "name": "stderr",
     "output_type": "stream",
     "text": [
      "100%|██████████████████████████████████████████████████████████████████████████████████| 50/50 [00:00<00:00, 69.44it/s]\n",
      " 16%|█████████████▎                                                                     | 8/50 [00:00<00:00, 74.95it/s]"
     ]
    },
    {
     "name": "stdout",
     "output_type": "stream",
     "text": [
      "-34.95457896745962\n",
      "[[-27.52561261 -41.06504661 -32.08864026 -48.15935593 -31.35139175\n",
      "  -59.65080061 -26.9226357  -34.6330557 ]]\n"
     ]
    },
    {
     "name": "stderr",
     "output_type": "stream",
     "text": [
      "100%|██████████████████████████████████████████████████████████████████████████████████| 50/50 [00:00<00:00, 57.36it/s]\n",
      " 14%|███████████▌                                                                       | 7/50 [00:00<00:00, 66.22it/s]"
     ]
    },
    {
     "name": "stdout",
     "output_type": "stream",
     "text": [
      "-35.013329312837044\n",
      "[[-25.95137912 -17.0750763  -31.67264519 -19.98581895 -20.56795418\n",
      "   -7.90474833 -16.56655877 -30.56069872]]\n"
     ]
    },
    {
     "name": "stderr",
     "output_type": "stream",
     "text": [
      "100%|██████████████████████████████████████████████████████████████████████████████████| 50/50 [00:00<00:00, 67.67it/s]\n",
      " 14%|███████████▌                                                                       | 7/50 [00:00<00:00, 67.49it/s]"
     ]
    },
    {
     "name": "stdout",
     "output_type": "stream",
     "text": [
      "-25.173011431994986\n",
      "[[-25.95137912 -17.0750763  -31.67264519 -19.98581895 -20.56795418\n",
      "   -7.90474833 -16.56655877 -30.56069872]]\n"
     ]
    },
    {
     "name": "stderr",
     "output_type": "stream",
     "text": [
      "100%|██████████████████████████████████████████████████████████████████████████████████| 50/50 [00:00<00:00, 71.01it/s]\n",
      " 14%|███████████▌                                                                       | 7/50 [00:00<00:00, 68.14it/s]"
     ]
    },
    {
     "name": "stdout",
     "output_type": "stream",
     "text": [
      "-25.093000970794158\n",
      "[[-30.19928717 -30.69133536 -31.51761597 -29.17890934 -25.61770371\n",
      "  -47.30693749 -28.48854671 -30.87586454]]\n"
     ]
    },
    {
     "name": "stderr",
     "output_type": "stream",
     "text": [
      "100%|██████████████████████████████████████████████████████████████████████████████████| 50/50 [00:00<00:00, 70.84it/s]\n",
      " 14%|███████████▌                                                                       | 7/50 [00:00<00:00, 66.84it/s]"
     ]
    },
    {
     "name": "stdout",
     "output_type": "stream",
     "text": [
      "-30.98326513226803\n",
      "[[-30.19928717 -30.69133536 -31.51761597 -29.17890934 -25.61770371\n",
      "  -47.30693749 -28.48854671 -30.87586454]]\n"
     ]
    },
    {
     "name": "stderr",
     "output_type": "stream",
     "text": [
      "100%|██████████████████████████████████████████████████████████████████████████████████| 50/50 [00:00<00:00, 71.52it/s]\n",
      " 14%|███████████▌                                                                       | 7/50 [00:00<00:00, 66.85it/s]"
     ]
    },
    {
     "name": "stdout",
     "output_type": "stream",
     "text": [
      "-31.054571001209318\n",
      "[[-33.31317145 -40.2518877  -33.3000449  -51.6980499  -39.9447868\n",
      "  -62.35449294 -34.1719995  -46.0318532 ]]\n"
     ]
    },
    {
     "name": "stderr",
     "output_type": "stream",
     "text": [
      "100%|██████████████████████████████████████████████████████████████████████████████████| 50/50 [00:00<00:00, 56.74it/s]\n",
      " 16%|█████████████▎                                                                     | 8/50 [00:00<00:00, 70.97it/s]"
     ]
    },
    {
     "name": "stdout",
     "output_type": "stream",
     "text": [
      "-41.97576914257643\n",
      "[[-33.31317145 -40.2518877  -33.3000449  -51.6980499  -39.9447868\n",
      "  -62.35449294 -34.1719995  -46.0318532 ]]\n"
     ]
    },
    {
     "name": "stderr",
     "output_type": "stream",
     "text": [
      "100%|██████████████████████████████████████████████████████████████████████████████████| 50/50 [00:00<00:00, 69.77it/s]\n",
      " 16%|█████████████▎                                                                     | 8/50 [00:00<00:00, 71.03it/s]"
     ]
    },
    {
     "name": "stdout",
     "output_type": "stream",
     "text": [
      "-41.88794155533226\n",
      "[[-28.7076223  -28.2405358  -32.77180127 -32.08619236 -32.46637821\n",
      "  -26.28566624 -30.12525581 -46.12308763]]\n"
     ]
    },
    {
     "name": "stderr",
     "output_type": "stream",
     "text": [
      "100%|██████████████████████████████████████████████████████████████████████████████████| 50/50 [00:00<00:00, 69.78it/s]\n",
      " 16%|█████████████▎                                                                     | 8/50 [00:00<00:00, 70.36it/s]"
     ]
    },
    {
     "name": "stdout",
     "output_type": "stream",
     "text": [
      "-36.26851123463201\n",
      "[[-28.7076223  -28.2405358  -32.77180127 -32.08619236 -32.46637821\n",
      "  -26.28566624 -30.12525581 -46.12308763]]\n"
     ]
    },
    {
     "name": "stderr",
     "output_type": "stream",
     "text": [
      "100%|██████████████████████████████████████████████████████████████████████████████████| 50/50 [00:00<00:00, 70.61it/s]\n",
      " 16%|█████████████▎                                                                     | 8/50 [00:00<00:00, 72.26it/s]"
     ]
    },
    {
     "name": "stdout",
     "output_type": "stream",
     "text": [
      "-36.53734183747634\n",
      "[[-29.93069879 -43.34923813 -32.12512674 -42.94268299 -31.03397522\n",
      "  -40.84124862 -30.4108722  -40.33783112]]\n"
     ]
    },
    {
     "name": "stderr",
     "output_type": "stream",
     "text": [
      "100%|██████████████████████████████████████████████████████████████████████████████████| 50/50 [00:00<00:00, 52.95it/s]\n",
      " 14%|███████████▌                                                                       | 7/50 [00:00<00:00, 67.81it/s]"
     ]
    },
    {
     "name": "stdout",
     "output_type": "stream",
     "text": [
      "-36.265944875991494\n",
      "[[-29.93069879 -43.34923813 -32.12512674 -42.94268299 -31.03397522\n",
      "  -40.84124862 -30.4108722  -40.33783112]]\n"
     ]
    },
    {
     "name": "stderr",
     "output_type": "stream",
     "text": [
      "100%|██████████████████████████████████████████████████████████████████████████████████| 50/50 [00:00<00:00, 60.29it/s]\n",
      " 14%|███████████▌                                                                       | 7/50 [00:00<00:00, 67.49it/s]"
     ]
    },
    {
     "name": "stdout",
     "output_type": "stream",
     "text": [
      "-36.61928107666116\n",
      "[[-29.93069879 -43.34923813 -32.12512674 -42.94268299 -31.03397522\n",
      "  -40.84124862 -30.4108722  -40.33783112]]\n"
     ]
    },
    {
     "name": "stderr",
     "output_type": "stream",
     "text": [
      "100%|██████████████████████████████████████████████████████████████████████████████████| 50/50 [00:00<00:00, 68.31it/s]\n",
      " 16%|█████████████▎                                                                     | 8/50 [00:00<00:00, 76.69it/s]"
     ]
    },
    {
     "name": "stdout",
     "output_type": "stream",
     "text": [
      "-36.34033131419657\n",
      "[[-28.03566905 -34.32869791 -34.81590332 -48.77958149 -39.9447868\n",
      "  -50.61638946 -24.67907102 -37.33847463]]\n"
     ]
    },
    {
     "name": "stderr",
     "output_type": "stream",
     "text": [
      "100%|██████████████████████████████████████████████████████████████████████████████████| 50/50 [00:00<00:00, 71.26it/s]\n",
      " 14%|███████████▌                                                                       | 7/50 [00:00<00:00, 69.49it/s]"
     ]
    },
    {
     "name": "stdout",
     "output_type": "stream",
     "text": [
      "-36.19156822449194\n",
      "[[-28.03566905 -34.32869791 -34.81590332 -48.77958149 -39.9447868\n",
      "  -50.61638946 -24.67907102 -37.33847463]]\n"
     ]
    },
    {
     "name": "stderr",
     "output_type": "stream",
     "text": [
      "100%|██████████████████████████████████████████████████████████████████████████████████| 50/50 [00:00<00:00, 70.58it/s]\n",
      " 14%|███████████▌                                                                       | 7/50 [00:00<00:00, 68.81it/s]"
     ]
    },
    {
     "name": "stdout",
     "output_type": "stream",
     "text": [
      "-35.92974522424445\n",
      "[[-37.55843648 -53.767757   -37.67567819 -56.14600089 -39.9447868\n",
      "  -79.18805108 -36.77721616 -47.91474323]]\n"
     ]
    },
    {
     "name": "stderr",
     "output_type": "stream",
     "text": [
      "100%|██████████████████████████████████████████████████████████████████████████████████| 50/50 [00:00<00:00, 57.15it/s]\n",
      " 16%|█████████████▎                                                                     | 8/50 [00:00<00:00, 74.97it/s]"
     ]
    },
    {
     "name": "stdout",
     "output_type": "stream",
     "text": [
      "-45.97985152511316\n",
      "[[-37.55843648 -53.767757   -37.67567819 -56.14600089 -39.9447868\n",
      "  -79.18805108 -36.77721616 -47.91474323]]\n"
     ]
    },
    {
     "name": "stderr",
     "output_type": "stream",
     "text": [
      "100%|██████████████████████████████████████████████████████████████████████████████████| 50/50 [00:00<00:00, 72.87it/s]\n",
      " 14%|███████████▌                                                                       | 7/50 [00:00<00:00, 65.39it/s]"
     ]
    },
    {
     "name": "stdout",
     "output_type": "stream",
     "text": [
      "-45.851152716317515\n",
      "[[-35.01893463 -53.86621169 -35.35017364 -48.47913864 -39.95807832\n",
      "  -49.38020913 -32.25297395 -45.50896898]]\n"
     ]
    },
    {
     "name": "stderr",
     "output_type": "stream",
     "text": [
      "100%|██████████████████████████████████████████████████████████████████████████████████| 50/50 [00:00<00:00, 69.14it/s]\n",
      " 14%|███████████▌                                                                       | 7/50 [00:00<00:00, 67.49it/s]"
     ]
    },
    {
     "name": "stdout",
     "output_type": "stream",
     "text": [
      "-41.750349594654026\n",
      "[[-35.01893463 -53.86621169 -35.35017364 -48.47913864 -39.95807832\n",
      "  -49.38020913 -32.25297395 -45.50896898]]\n"
     ]
    },
    {
     "name": "stderr",
     "output_type": "stream",
     "text": [
      "100%|██████████████████████████████████████████████████████████████████████████████████| 50/50 [00:00<00:00, 70.24it/s]\n",
      " 16%|█████████████▎                                                                     | 8/50 [00:00<00:00, 74.95it/s]"
     ]
    },
    {
     "name": "stdout",
     "output_type": "stream",
     "text": [
      "-41.54729723802233\n",
      "[[-35.42968353 -36.72936791 -33.60639198 -37.48769894 -30.10650184\n",
      "  -45.56683008 -34.04835263 -45.91411144]]\n"
     ]
    },
    {
     "name": "stderr",
     "output_type": "stream",
     "text": [
      "100%|██████████████████████████████████████████████████████████████████████████████████| 50/50 [00:00<00:00, 70.64it/s]\n",
      " 16%|█████████████▎                                                                     | 8/50 [00:00<00:00, 74.63it/s]"
     ]
    },
    {
     "name": "stdout",
     "output_type": "stream",
     "text": [
      "-39.51567908292344\n",
      "[[-35.42968353 -36.72936791 -33.60639198 -37.48769894 -30.10650184\n",
      "  -45.56683008 -34.04835263 -45.91411144]]\n"
     ]
    },
    {
     "name": "stderr",
     "output_type": "stream",
     "text": [
      "100%|██████████████████████████████████████████████████████████████████████████████████| 50/50 [00:00<00:00, 57.85it/s]\n",
      " 16%|█████████████▎                                                                     | 8/50 [00:00<00:00, 72.37it/s]"
     ]
    },
    {
     "name": "stdout",
     "output_type": "stream",
     "text": [
      "-39.62941344067721\n",
      "[[-28.49950594 -28.73152658 -31.34051875 -41.83771955 -37.30511455\n",
      "  -44.19664659 -28.33028787 -37.06540482]]\n"
     ]
    },
    {
     "name": "stderr",
     "output_type": "stream",
     "text": [
      "100%|██████████████████████████████████████████████████████████████████████████████████| 50/50 [00:00<00:00, 70.65it/s]\n",
      " 16%|█████████████▎                                                                     | 8/50 [00:00<00:00, 70.36it/s]"
     ]
    },
    {
     "name": "stdout",
     "output_type": "stream",
     "text": [
      "-34.595153360073056\n",
      "[[-28.49950594 -28.73152658 -31.34051875 -41.83771955 -37.30511455\n",
      "  -44.19664659 -28.33028787 -37.06540482]]\n"
     ]
    },
    {
     "name": "stderr",
     "output_type": "stream",
     "text": [
      "100%|██████████████████████████████████████████████████████████████████████████████████| 50/50 [00:00<00:00, 71.67it/s]\n",
      " 16%|█████████████▎                                                                     | 8/50 [00:00<00:00, 70.99it/s]"
     ]
    },
    {
     "name": "stdout",
     "output_type": "stream",
     "text": [
      "-34.66827853121537\n",
      "[[-37.66367788 -36.98678953 -34.29021747 -48.54554891 -30.73486268\n",
      "  -79.90998637 -44.61852526 -39.9104538 ]]\n"
     ]
    },
    {
     "name": "stderr",
     "output_type": "stream",
     "text": [
      "100%|██████████████████████████████████████████████████████████████████████████████████| 50/50 [00:00<00:00, 70.32it/s]\n",
      " 16%|█████████████▎                                                                     | 8/50 [00:00<00:00, 72.92it/s]"
     ]
    },
    {
     "name": "stdout",
     "output_type": "stream",
     "text": [
      "-41.825713768538286\n",
      "[[-28.49950594 -28.73152658 -31.34051875 -41.83771955 -37.30511455\n",
      "  -44.19664659 -28.33028787 -37.06540482]]\n"
     ]
    },
    {
     "name": "stderr",
     "output_type": "stream",
     "text": [
      "100%|██████████████████████████████████████████████████████████████████████████████████| 50/50 [00:00<00:00, 70.21it/s]\n",
      " 16%|█████████████▎                                                                     | 8/50 [00:00<00:00, 70.36it/s]"
     ]
    },
    {
     "name": "stdout",
     "output_type": "stream",
     "text": [
      "-34.720847907708794\n",
      "[[-34.89141664 -36.26113363 -34.65858485 -34.15016702 -32.64506602\n",
      "  -32.09435361 -42.53033543 -42.94261162]]\n"
     ]
    },
    {
     "name": "stderr",
     "output_type": "stream",
     "text": [
      "100%|██████████████████████████████████████████████████████████████████████████████████| 50/50 [00:00<00:00, 57.38it/s]\n",
      " 14%|███████████▌                                                                       | 7/50 [00:00<00:00, 68.14it/s]"
     ]
    },
    {
     "name": "stdout",
     "output_type": "stream",
     "text": [
      "-38.614122731526045\n",
      "[[-28.49950594 -28.73152658 -31.34051875 -41.83771955 -37.30511455\n",
      "  -44.19664659 -28.33028787 -37.06540482]]\n"
     ]
    },
    {
     "name": "stderr",
     "output_type": "stream",
     "text": [
      "100%|██████████████████████████████████████████████████████████████████████████████████| 50/50 [00:00<00:00, 68.33it/s]\n",
      " 16%|█████████████▎                                                                     | 8/50 [00:00<00:00, 71.93it/s]"
     ]
    },
    {
     "name": "stdout",
     "output_type": "stream",
     "text": [
      "-34.75057899799206\n",
      "[[-36.98214468 -27.22467377 -33.17121346 -23.80815221 -20.86879691\n",
      "  -26.29390445 -34.8636878  -40.87872841]]\n"
     ]
    },
    {
     "name": "stderr",
     "output_type": "stream",
     "text": [
      "100%|██████████████████████████████████████████████████████████████████████████████████| 50/50 [00:00<00:00, 67.21it/s]\n",
      " 16%|█████████████▎                                                                     | 8/50 [00:00<00:00, 70.99it/s]"
     ]
    },
    {
     "name": "stdout",
     "output_type": "stream",
     "text": [
      "-34.60342404422665\n",
      "[[-36.98214468 -27.22467377 -33.17121346 -23.80815221 -20.86879691\n",
      "  -26.29390445 -34.8636878  -40.87872841]]\n"
     ]
    },
    {
     "name": "stderr",
     "output_type": "stream",
     "text": [
      "100%|██████████████████████████████████████████████████████████████████████████████████| 50/50 [00:00<00:00, 69.63it/s]\n",
      " 14%|███████████▌                                                                       | 7/50 [00:00<00:00, 68.87it/s]"
     ]
    },
    {
     "name": "stdout",
     "output_type": "stream",
     "text": [
      "-34.757636830925776\n",
      "[[-37.49221993 -47.05188912 -35.48198434 -50.2698778  -36.15715891\n",
      "  -57.24629799 -28.89762043 -46.85034867]]\n"
     ]
    },
    {
     "name": "stderr",
     "output_type": "stream",
     "text": [
      "100%|██████████████████████████████████████████████████████████████████████████████████| 50/50 [00:00<00:00, 71.36it/s]\n",
      " 16%|█████████████▎                                                                     | 8/50 [00:00<00:00, 76.02it/s]"
     ]
    },
    {
     "name": "stdout",
     "output_type": "stream",
     "text": [
      "-42.25888530439166\n",
      "[[-36.98214468 -27.22467377 -33.17121346 -23.80815221 -20.86879691\n",
      "  -26.29390445 -34.8636878  -40.87872841]]\n"
     ]
    },
    {
     "name": "stderr",
     "output_type": "stream",
     "text": [
      "100%|██████████████████████████████████████████████████████████████████████████████████| 50/50 [00:00<00:00, 57.72it/s]\n",
      " 16%|█████████████▎                                                                     | 8/50 [00:00<00:00, 70.34it/s]"
     ]
    },
    {
     "name": "stdout",
     "output_type": "stream",
     "text": [
      "-34.693029166384925\n",
      "[[-26.48473276 -23.64073813 -29.8947844  -20.74610351 -22.97803146\n",
      "  -40.88105369 -16.92933384 -31.21232763]]\n"
     ]
    },
    {
     "name": "stderr",
     "output_type": "stream",
     "text": [
      "100%|██████████████████████████████████████████████████████████████████████████████████| 50/50 [00:00<00:00, 69.45it/s]\n",
      " 16%|█████████████▎                                                                     | 8/50 [00:00<00:00, 77.11it/s]"
     ]
    },
    {
     "name": "stdout",
     "output_type": "stream",
     "text": [
      "-27.365243716783333\n",
      "[[-26.48473276 -23.64073813 -29.8947844  -20.74610351 -22.97803146\n",
      "  -40.88105369 -16.92933384 -31.21232763]]\n"
     ]
    },
    {
     "name": "stderr",
     "output_type": "stream",
     "text": [
      "100%|██████████████████████████████████████████████████████████████████████████████████| 50/50 [00:00<00:00, 72.45it/s]\n",
      " 16%|█████████████▎                                                                     | 8/50 [00:00<00:00, 75.66it/s]"
     ]
    },
    {
     "name": "stdout",
     "output_type": "stream",
     "text": [
      "-27.839787046909514\n",
      "[[-37.82883141 -36.36880765 -33.71017002 -40.46640501 -34.52780438\n",
      "  -52.80878032 -40.79105679 -45.99779771]]\n"
     ]
    },
    {
     "name": "stderr",
     "output_type": "stream",
     "text": [
      "100%|██████████████████████████████████████████████████████████████████████████████████| 50/50 [00:00<00:00, 71.15it/s]\n",
      " 14%|███████████▌                                                                       | 7/50 [00:00<00:00, 69.81it/s]"
     ]
    },
    {
     "name": "stdout",
     "output_type": "stream",
     "text": [
      "-41.56273933241631\n",
      "[[-37.82883141 -36.36880765 -33.71017002 -40.46640501 -34.52780438\n",
      "  -52.80878032 -40.79105679 -45.99779771]]\n"
     ]
    },
    {
     "name": "stderr",
     "output_type": "stream",
     "text": [
      "100%|██████████████████████████████████████████████████████████████████████████████████| 50/50 [00:00<00:00, 71.75it/s]\n",
      " 14%|███████████▌                                                                       | 7/50 [00:00<00:00, 69.49it/s]"
     ]
    },
    {
     "name": "stdout",
     "output_type": "stream",
     "text": [
      "-41.574169868668136\n",
      "[[-27.10892024 -42.09365348 -29.39541291 -35.91699401 -27.08131204\n",
      "  -51.31858784 -16.62158679 -34.29009664]]\n"
     ]
    },
    {
     "name": "stderr",
     "output_type": "stream",
     "text": [
      "100%|██████████████████████████████████████████████████████████████████████████████████| 50/50 [00:00<00:00, 55.04it/s]\n",
      " 14%|███████████▌                                                                       | 7/50 [00:00<00:00, 63.23it/s]"
     ]
    },
    {
     "name": "stdout",
     "output_type": "stream",
     "text": [
      "-31.639113031256326\n",
      "[[-27.10892024 -42.09365348 -29.39541291 -35.91699401 -27.08131204\n",
      "  -51.31858784 -16.62158679 -34.29009664]]\n"
     ]
    },
    {
     "name": "stderr",
     "output_type": "stream",
     "text": [
      "100%|██████████████████████████████████████████████████████████████████████████████████| 50/50 [00:00<00:00, 66.27it/s]\n",
      " 16%|█████████████▎                                                                     | 8/50 [00:00<00:00, 70.99it/s]"
     ]
    },
    {
     "name": "stdout",
     "output_type": "stream",
     "text": [
      "-31.25300691787652\n",
      "[[-32.21756467 -29.28145484 -35.03695382 -29.94934669 -30.92978457\n",
      "  -26.39584385 -24.65007515 -34.59558847]]\n"
     ]
    },
    {
     "name": "stderr",
     "output_type": "stream",
     "text": [
      "100%|██████████████████████████████████████████████████████████████████████████████████| 50/50 [00:00<00:00, 68.69it/s]\n",
      " 16%|█████████████▎                                                                     | 8/50 [00:00<00:00, 73.05it/s]"
     ]
    },
    {
     "name": "stdout",
     "output_type": "stream",
     "text": [
      "-31.823591635479783\n",
      "[[-32.21756467 -29.28145484 -35.03695382 -29.94934669 -30.92978457\n",
      "  -26.39584385 -24.65007515 -34.59558847]]\n"
     ]
    },
    {
     "name": "stderr",
     "output_type": "stream",
     "text": [
      "100%|██████████████████████████████████████████████████████████████████████████████████| 50/50 [00:00<00:00, 71.28it/s]\n",
      " 16%|█████████████▎                                                                     | 8/50 [00:00<00:00, 72.26it/s]"
     ]
    },
    {
     "name": "stdout",
     "output_type": "stream",
     "text": [
      "-31.844715758582158\n",
      "[[-31.24067559 -23.36337672 -30.16749787 -22.02643818 -27.85528086\n",
      "  -32.62184368 -24.60220852 -26.68593494]]\n"
     ]
    },
    {
     "name": "stderr",
     "output_type": "stream",
     "text": [
      "100%|██████████████████████████████████████████████████████████████████████████████████| 50/50 [00:00<00:00, 71.83it/s]\n",
      "  0%|                                                                                           | 0/50 [00:00<?, ?it/s]"
     ]
    },
    {
     "name": "stdout",
     "output_type": "stream",
     "text": [
      "-27.62192159937042\n",
      "[[-31.24067559 -23.36337672 -30.16749787 -22.02643818 -27.85528086\n",
      "  -32.62184368 -24.60220852 -26.68593494]]\n"
     ]
    },
    {
     "name": "stderr",
     "output_type": "stream",
     "text": [
      "100%|██████████████████████████████████████████████████████████████████████████████████| 50/50 [00:00<00:00, 56.95it/s]\n",
      " 16%|█████████████▎                                                                     | 8/50 [00:00<00:00, 74.94it/s]"
     ]
    },
    {
     "name": "stdout",
     "output_type": "stream",
     "text": [
      "-27.254917044264893\n",
      "[[-26.9980951  -23.63815924 -31.28771973 -23.00318845 -21.38213187\n",
      "  -23.49787171 -26.09018952 -27.49674801]]\n"
     ]
    },
    {
     "name": "stderr",
     "output_type": "stream",
     "text": [
      "100%|██████████████████████████████████████████████████████████████████████████████████| 50/50 [00:00<00:00, 70.71it/s]\n",
      " 14%|███████████▌                                                                       | 7/50 [00:00<00:00, 68.14it/s]"
     ]
    },
    {
     "name": "stdout",
     "output_type": "stream",
     "text": [
      "-26.441245177157874\n",
      "[[-26.9980951  -23.63815924 -31.28771973 -23.00318845 -21.38213187\n",
      "  -23.49787171 -26.09018952 -27.49674801]]\n"
     ]
    },
    {
     "name": "stderr",
     "output_type": "stream",
     "text": [
      "100%|██████████████████████████████████████████████████████████████████████████████████| 50/50 [00:00<00:00, 70.16it/s]\n",
      " 14%|███████████▌                                                                       | 7/50 [00:00<00:00, 67.49it/s]"
     ]
    },
    {
     "name": "stdout",
     "output_type": "stream",
     "text": [
      "-26.58507404634707\n",
      "[[-31.72640847 -40.91771096 -30.84674418 -44.61430032 -26.78046931\n",
      "  -63.69575579 -41.34618968 -39.36048309]]\n"
     ]
    },
    {
     "name": "stderr",
     "output_type": "stream",
     "text": [
      "100%|██████████████████████████████████████████████████████████████████████████████████| 50/50 [00:00<00:00, 68.81it/s]\n",
      " 16%|█████████████▎                                                                     | 8/50 [00:00<00:00, 72.54it/s]"
     ]
    },
    {
     "name": "stdout",
     "output_type": "stream",
     "text": [
      "-38.65607892928418\n",
      "[[-31.72640847 -40.91771096 -30.84674418 -44.61430032 -26.78046931\n",
      "  -63.69575579 -41.34618968 -39.36048309]]\n"
     ]
    },
    {
     "name": "stderr",
     "output_type": "stream",
     "text": [
      "100%|██████████████████████████████████████████████████████████████████████████████████| 50/50 [00:00<00:00, 57.49it/s]\n",
      " 16%|█████████████▎                                                                     | 8/50 [00:00<00:00, 76.37it/s]"
     ]
    },
    {
     "name": "stdout",
     "output_type": "stream",
     "text": [
      "-38.662209765763464\n",
      "[[-29.80344791 -49.27385056 -33.44329294 -46.78821918 -35.56562003\n",
      "  -52.18972981 -33.02584804 -41.24953979]]\n"
     ]
    },
    {
     "name": "stderr",
     "output_type": "stream",
     "text": [
      "100%|██████████████████████████████████████████████████████████████████████████████████| 50/50 [00:00<00:00, 70.30it/s]\n",
      " 14%|███████████▌                                                                       | 7/50 [00:00<00:00, 66.84it/s]"
     ]
    },
    {
     "name": "stdout",
     "output_type": "stream",
     "text": [
      "-38.90844557094994\n",
      "[[-29.80344791 -49.27385056 -33.44329294 -46.78821918 -35.56562003\n",
      "  -52.18972981 -33.02584804 -41.24953979]]\n"
     ]
    },
    {
     "name": "stderr",
     "output_type": "stream",
     "text": [
      "100%|██████████████████████████████████████████████████████████████████████████████████| 50/50 [00:00<00:00, 68.02it/s]\n",
      " 14%|███████████▌                                                                       | 7/50 [00:00<00:00, 64.39it/s]"
     ]
    },
    {
     "name": "stdout",
     "output_type": "stream",
     "text": [
      "-38.87629403677547\n",
      "[[-33.84372971 -53.25977859 -34.29616001 -47.42271871 -37.77320808\n",
      "  -54.3440515  -44.43726827 -42.89534397]]\n"
     ]
    },
    {
     "name": "stderr",
     "output_type": "stream",
     "text": [
      "100%|██████████████████████████████████████████████████████████████████████████████████| 50/50 [00:00<00:00, 70.91it/s]\n",
      " 14%|███████████▌                                                                       | 7/50 [00:00<00:00, 67.78it/s]"
     ]
    },
    {
     "name": "stdout",
     "output_type": "stream",
     "text": [
      "-41.808794509225976\n",
      "[[-29.80344791 -49.27385056 -33.44329294 -46.78821918 -35.56562003\n",
      "  -52.18972981 -33.02584804 -41.24953979]]\n"
     ]
    },
    {
     "name": "stderr",
     "output_type": "stream",
     "text": [
      "100%|██████████████████████████████████████████████████████████████████████████████████| 50/50 [00:00<00:00, 69.02it/s]\n",
      " 16%|█████████████▎                                                                     | 8/50 [00:00<00:00, 71.61it/s]"
     ]
    },
    {
     "name": "stdout",
     "output_type": "stream",
     "text": [
      "-38.8910815399025\n",
      "[[-37.69021813 -59.08343818 -37.33606633 -53.10613148 -43.14648762\n",
      "  -62.15826564 -36.13076574 -47.24045372]]\n"
     ]
    },
    {
     "name": "stderr",
     "output_type": "stream",
     "text": [
      "100%|██████████████████████████████████████████████████████████████████████████████████| 50/50 [00:00<00:00, 57.10it/s]\n",
      " 16%|█████████████▎                                                                     | 8/50 [00:00<00:00, 72.90it/s]"
     ]
    },
    {
     "name": "stdout",
     "output_type": "stream",
     "text": [
      "-44.927900350736586\n",
      "[[-37.69021813 -59.08343818 -37.33606633 -53.10613148 -43.14648762\n",
      "  -62.15826564 -36.13076574 -47.24045372]]\n"
     ]
    },
    {
     "name": "stderr",
     "output_type": "stream",
     "text": [
      "100%|██████████████████████████████████████████████████████████████████████████████████| 50/50 [00:00<00:00, 70.69it/s]\n",
      " 14%|███████████▌                                                                       | 7/50 [00:00<00:00, 69.49it/s]"
     ]
    },
    {
     "name": "stdout",
     "output_type": "stream",
     "text": [
      "-44.97487311011772\n",
      "[[-38.61688823 -57.75910148 -43.64608395 -60.09072927 -44.54753755\n",
      "  -56.39858165 -39.21475303 -49.61332241]]\n"
     ]
    },
    {
     "name": "stderr",
     "output_type": "stream",
     "text": [
      "100%|██████████████████████████████████████████████████████████████████████████████████| 50/50 [00:00<00:00, 69.47it/s]\n",
      " 14%|███████████▌                                                                       | 7/50 [00:00<00:00, 67.49it/s]"
     ]
    },
    {
     "name": "stdout",
     "output_type": "stream",
     "text": [
      "-47.293010261417066\n",
      "[[-38.61688823 -57.75910148 -43.64608395 -60.09072927 -44.54753755\n",
      "  -56.39858165 -39.21475303 -49.61332241]]\n"
     ]
    },
    {
     "name": "stderr",
     "output_type": "stream",
     "text": [
      "100%|██████████████████████████████████████████████████████████████████████████████████| 50/50 [00:00<00:00, 68.83it/s]\n",
      " 16%|█████████████▎                                                                     | 8/50 [00:00<00:00, 69.75it/s]"
     ]
    },
    {
     "name": "stdout",
     "output_type": "stream",
     "text": [
      "-47.34384316268379\n",
      "[[-29.32333421 -31.97384849 -33.70131397 -29.77640228 -29.50928942\n",
      "  -24.33189032 -33.79849491 -43.38131556]]\n"
     ]
    },
    {
     "name": "stderr",
     "output_type": "stream",
     "text": [
      "100%|██████████████████████████████████████████████████████████████████████████████████| 50/50 [00:00<00:00, 57.58it/s]\n",
      " 16%|█████████████▎                                                                     | 8/50 [00:00<00:00, 74.82it/s]"
     ]
    },
    {
     "name": "stdout",
     "output_type": "stream",
     "text": [
      "-35.672870891314\n",
      "[[-29.32333421 -31.97384849 -33.70131397 -29.77640228 -29.50928942\n",
      "  -24.33189032 -33.79849491 -43.38131556]]\n"
     ]
    },
    {
     "name": "stderr",
     "output_type": "stream",
     "text": [
      "100%|██████████████████████████████████████████████████████████████████████████████████| 50/50 [00:00<00:00, 70.66it/s]\n",
      " 16%|█████████████▎                                                                     | 8/50 [00:00<00:00, 72.25it/s]"
     ]
    },
    {
     "name": "stdout",
     "output_type": "stream",
     "text": [
      "-35.77721778199795\n",
      "[[-32.93769315 -36.15743807 -33.99632874 -31.13466816 -27.47196652\n",
      "  -10.35780453 -33.80531977 -42.74690732]]\n"
     ]
    },
    {
     "name": "stderr",
     "output_type": "stream",
     "text": [
      "100%|██████████████████████████████████████████████████████████████████████████████████| 50/50 [00:00<00:00, 71.62it/s]\n",
      " 16%|█████████████▎                                                                     | 8/50 [00:00<00:00, 73.25it/s]"
     ]
    },
    {
     "name": "stdout",
     "output_type": "stream",
     "text": [
      "-35.400223995585755\n",
      "[[-32.93769315 -36.15743807 -33.99632874 -31.13466816 -27.47196652\n",
      "  -10.35780453 -33.80531977 -42.74690732]]\n"
     ]
    },
    {
     "name": "stderr",
     "output_type": "stream",
     "text": [
      "100%|██████████████████████████████████████████████████████████████████████████████████| 50/50 [00:00<00:00, 70.76it/s]\n",
      " 14%|███████████▌                                                                       | 7/50 [00:00<00:00, 65.59it/s]"
     ]
    },
    {
     "name": "stdout",
     "output_type": "stream",
     "text": [
      "-35.06644095899803\n",
      "[[-30.29147076 -40.76784255 -31.67851535 -39.59875069 -31.03397522\n",
      "  -37.27085226 -30.83225835 -39.30004139]]\n"
     ]
    },
    {
     "name": "stderr",
     "output_type": "stream",
     "text": [
      "100%|██████████████████████████████████████████████████████████████████████████████████| 50/50 [00:00<00:00, 69.63it/s]\n",
      " 16%|█████████████▎                                                                     | 8/50 [00:00<00:00, 73.59it/s]"
     ]
    },
    {
     "name": "stdout",
     "output_type": "stream",
     "text": [
      "-35.666126834148905\n",
      "[[-30.29147076 -40.76784255 -31.67851535 -39.59875069 -31.03397522\n",
      "  -37.27085226 -30.83225835 -39.30004139]]\n"
     ]
    },
    {
     "name": "stderr",
     "output_type": "stream",
     "text": [
      "100%|██████████████████████████████████████████████████████████████████████████████████| 50/50 [00:00<00:00, 57.52it/s]\n",
      " 16%|█████████████▎                                                                     | 8/50 [00:00<00:00, 74.02it/s]"
     ]
    },
    {
     "name": "stdout",
     "output_type": "stream",
     "text": [
      "-35.443660411835424\n",
      "[[-30.86755028 -41.86112093 -32.39385164 -37.85567862 -31.03397522\n",
      "  -38.08734646 -28.99980861 -39.13917204]]\n"
     ]
    },
    {
     "name": "stderr",
     "output_type": "stream",
     "text": [
      "100%|██████████████████████████████████████████████████████████████████████████████████| 50/50 [00:00<00:00, 69.16it/s]\n",
      " 14%|███████████▌                                                                       | 7/50 [00:00<00:00, 68.81it/s]"
     ]
    },
    {
     "name": "stdout",
     "output_type": "stream",
     "text": [
      "-35.58886592355221\n",
      "[[-30.86755028 -41.86112093 -32.39385164 -37.85567862 -31.03397522\n",
      "  -38.08734646 -28.99980861 -39.13917204]]\n"
     ]
    },
    {
     "name": "stderr",
     "output_type": "stream",
     "text": [
      "100%|██████████████████████████████████████████████████████████████████████████████████| 50/50 [00:00<00:00, 70.41it/s]\n",
      " 14%|███████████▌                                                                       | 7/50 [00:00<00:00, 65.51it/s]"
     ]
    },
    {
     "name": "stdout",
     "output_type": "stream",
     "text": [
      "-35.193021408263135\n",
      "[[-36.72064336 -46.84259775 -39.25127547 -50.3872797  -44.50266926\n",
      "  -69.43808186 -28.56544673 -47.24156891]]\n"
     ]
    },
    {
     "name": "stderr",
     "output_type": "stream",
     "text": [
      "100%|██████████████████████████████████████████████████████████████████████████████████| 50/50 [00:00<00:00, 70.00it/s]\n",
      " 16%|█████████████▎                                                                     | 8/50 [00:00<00:00, 75.67it/s]"
     ]
    },
    {
     "name": "stdout",
     "output_type": "stream",
     "text": [
      "-43.99988552046963\n",
      "[[-36.72064336 -46.84259775 -39.25127547 -50.3872797  -44.50266926\n",
      "  -69.43808186 -28.56544673 -47.24156891]]\n"
     ]
    },
    {
     "name": "stderr",
     "output_type": "stream",
     "text": [
      "100%|██████████████████████████████████████████████████████████████████████████████████| 50/50 [00:00<00:00, 71.75it/s]\n",
      " 16%|█████████████▎                                                                     | 8/50 [00:00<00:00, 70.98it/s]"
     ]
    },
    {
     "name": "stdout",
     "output_type": "stream",
     "text": [
      "-44.001968508271986\n",
      "[[-31.30383567 -32.71305752 -32.74923868 -24.16149245 -21.38213187\n",
      "  -32.3283625  -45.29324303 -28.3885707 ]]\n"
     ]
    },
    {
     "name": "stderr",
     "output_type": "stream",
     "text": [
      "100%|██████████████████████████████████████████████████████████████████████████████████| 50/50 [00:00<00:00, 58.29it/s]\n",
      " 16%|█████████████▎                                                                     | 8/50 [00:00<00:00, 74.27it/s]"
     ]
    },
    {
     "name": "stdout",
     "output_type": "stream",
     "text": [
      "-31.29689287589433\n",
      "[[-31.30383567 -32.71305752 -32.74923868 -24.16149245 -21.38213187\n",
      "  -32.3283625  -45.29324303 -28.3885707 ]]\n"
     ]
    },
    {
     "name": "stderr",
     "output_type": "stream",
     "text": [
      "100%|██████████████████████████████████████████████████████████████████████████████████| 50/50 [00:00<00:00, 69.94it/s]\n",
      " 14%|███████████▌                                                                       | 7/50 [00:00<00:00, 69.47it/s]"
     ]
    },
    {
     "name": "stdout",
     "output_type": "stream",
     "text": [
      "-31.16795101668403\n",
      "[[-32.96251409 -48.28226839 -34.19299087 -42.81093785 -30.05180497\n",
      "  -41.85567046 -44.43726827 -38.73502563]]\n"
     ]
    },
    {
     "name": "stderr",
     "output_type": "stream",
     "text": [
      "100%|██████████████████████████████████████████████████████████████████████████████████| 50/50 [00:00<00:00, 68.67it/s]\n",
      " 16%|█████████████▎                                                                     | 8/50 [00:00<00:00, 74.97it/s]"
     ]
    },
    {
     "name": "stdout",
     "output_type": "stream",
     "text": [
      "-38.27854724902215\n",
      "[[-32.96251409 -48.28226839 -34.19299087 -42.81093785 -30.05180497\n",
      "  -41.85567046 -44.43726827 -38.73502563]]\n"
     ]
    },
    {
     "name": "stderr",
     "output_type": "stream",
     "text": [
      "100%|██████████████████████████████████████████████████████████████████████████████████| 50/50 [00:00<00:00, 71.41it/s]\n",
      " 14%|███████████▌                                                                       | 7/50 [00:00<00:00, 64.99it/s]"
     ]
    },
    {
     "name": "stdout",
     "output_type": "stream",
     "text": [
      "-38.08145142808102\n",
      "[[-34.80451447 -44.62659943 -36.03852415 -47.71285636 -33.62725934\n",
      "  -55.65014976 -39.93355413 -46.08474043]]\n"
     ]
    },
    {
     "name": "stderr",
     "output_type": "stream",
     "text": [
      "100%|██████████████████████████████████████████████████████████████████████████████████| 50/50 [00:00<00:00, 69.34it/s]\n",
      " 14%|███████████▌                                                                       | 7/50 [00:00<00:00, 68.81it/s]"
     ]
    },
    {
     "name": "stdout",
     "output_type": "stream",
     "text": [
      "-42.62405338946012\n",
      "[[-32.96251409 -48.28226839 -34.19299087 -42.81093785 -30.05180497\n",
      "  -41.85567046 -44.43726827 -38.73502563]]\n"
     ]
    },
    {
     "name": "stderr",
     "output_type": "stream",
     "text": [
      "100%|██████████████████████████████████████████████████████████████████████████████████| 50/50 [00:00<00:00, 57.25it/s]\n",
      " 16%|█████████████▎                                                                     | 8/50 [00:00<00:00, 70.36it/s]"
     ]
    },
    {
     "name": "stdout",
     "output_type": "stream",
     "text": [
      "-38.605988769964924\n",
      "[[-33.62375074 -37.10106988 -33.8891273  -31.75989223 -24.64164711\n",
      "  -34.420094   -24.61974749 -37.49105425]]\n"
     ]
    },
    {
     "name": "stderr",
     "output_type": "stream",
     "text": [
      "100%|██████████████████████████████████████████████████████████████████████████████████| 50/50 [00:00<00:00, 70.51it/s]\n",
      " 16%|█████████████▎                                                                     | 8/50 [00:00<00:00, 72.27it/s]"
     ]
    },
    {
     "name": "stdout",
     "output_type": "stream",
     "text": [
      "-33.33707420717343\n",
      "[[-33.62375074 -37.10106988 -33.8891273  -31.75989223 -24.64164711\n",
      "  -34.420094   -24.61974749 -37.49105425]]\n"
     ]
    },
    {
     "name": "stderr",
     "output_type": "stream",
     "text": [
      "100%|██████████████████████████████████████████████████████████████████████████████████| 50/50 [00:00<00:00, 70.99it/s]\n",
      " 16%|█████████████▎                                                                     | 8/50 [00:00<00:00, 74.95it/s]"
     ]
    },
    {
     "name": "stdout",
     "output_type": "stream",
     "text": [
      "-33.70375907814756\n",
      "[[-38.76110792 -54.72706033 -36.66475672 -57.26364679 -36.02098807\n",
      "  -78.36997552 -45.95845159 -40.5671926 ]]\n"
     ]
    },
    {
     "name": "stderr",
     "output_type": "stream",
     "text": [
      "100%|██████████████████████████████████████████████████████████████████████████████████| 50/50 [00:00<00:00, 72.34it/s]\n",
      " 14%|███████████▌                                                                       | 7/50 [00:00<00:00, 68.79it/s]"
     ]
    },
    {
     "name": "stdout",
     "output_type": "stream",
     "text": [
      "-44.4264859874211\n",
      "[[-38.76110792 -54.72706033 -36.66475672 -57.26364679 -36.02098807\n",
      "  -78.36997552 -45.95845159 -40.5671926 ]]\n"
     ]
    },
    {
     "name": "stderr",
     "output_type": "stream",
     "text": [
      "100%|██████████████████████████████████████████████████████████████████████████████████| 50/50 [00:00<00:00, 55.55it/s]\n",
      " 14%|███████████▌                                                                       | 7/50 [00:00<00:00, 68.14it/s]"
     ]
    },
    {
     "name": "stdout",
     "output_type": "stream",
     "text": [
      "-44.332647588027015\n",
      "[[-36.37939495 -28.8073192  -33.91730419 -24.68062119 -26.58548113\n",
      "  -23.37342763 -44.56014275 -30.57954192]]\n"
     ]
    },
    {
     "name": "stderr",
     "output_type": "stream",
     "text": [
      "100%|██████████████████████████████████████████████████████████████████████████████████| 50/50 [00:00<00:00, 69.37it/s]\n",
      " 16%|█████████████▎                                                                     | 8/50 [00:00<00:00, 73.61it/s]"
     ]
    },
    {
     "name": "stdout",
     "output_type": "stream",
     "text": [
      "-32.149093204878184\n",
      "[[-36.37939495 -28.8073192  -33.91730419 -24.68062119 -26.58548113\n",
      "  -23.37342763 -44.56014275 -30.57954192]]\n"
     ]
    },
    {
     "name": "stderr",
     "output_type": "stream",
     "text": [
      "100%|██████████████████████████████████████████████████████████████████████████████████| 50/50 [00:00<00:00, 70.19it/s]\n",
      " 14%|███████████▌                                                                       | 7/50 [00:00<00:00, 68.99it/s]"
     ]
    },
    {
     "name": "stdout",
     "output_type": "stream",
     "text": [
      "-32.23064383798669\n",
      "[[-33.53534452 -39.73632605 -37.08636866 -35.44486708 -36.67170276\n",
      "  -30.68799655 -43.59497386 -34.89272487]]\n"
     ]
    },
    {
     "name": "stderr",
     "output_type": "stream",
     "text": [
      "100%|██████████████████████████████████████████████████████████████████████████████████| 50/50 [00:00<00:00, 67.66it/s]\n",
      " 14%|███████████▌                                                                       | 7/50 [00:00<00:00, 69.47it/s]"
     ]
    },
    {
     "name": "stdout",
     "output_type": "stream",
     "text": [
      "-36.591915582620786\n",
      "[[-33.53534452 -39.73632605 -37.08636866 -35.44486708 -36.67170276\n",
      "  -30.68799655 -43.59497386 -34.89272487]]\n"
     ]
    },
    {
     "name": "stderr",
     "output_type": "stream",
     "text": [
      "100%|██████████████████████████████████████████████████████████████████████████████████| 50/50 [00:00<00:00, 71.53it/s]\n",
      " 16%|█████████████▎                                                                     | 8/50 [00:00<00:00, 72.90it/s]"
     ]
    },
    {
     "name": "stdout",
     "output_type": "stream",
     "text": [
      "-36.3048877295331\n",
      "[[-36.82629291 -49.09994738 -35.21706485 -39.01611831 -31.60482607\n",
      "  -47.41168848 -36.6817188  -42.06389658]]\n"
     ]
    },
    {
     "name": "stderr",
     "output_type": "stream",
     "text": [
      "100%|██████████████████████████████████████████████████████████████████████████████████| 50/50 [00:00<00:00, 57.59it/s]\n",
      " 14%|███████████▌                                                                       | 7/50 [00:00<00:00, 66.22it/s]"
     ]
    },
    {
     "name": "stdout",
     "output_type": "stream",
     "text": [
      "-39.36678631032321\n",
      "[[-36.82629291 -49.09994738 -35.21706485 -39.01611831 -31.60482607\n",
      "  -47.41168848 -36.6817188  -42.06389658]]\n"
     ]
    },
    {
     "name": "stderr",
     "output_type": "stream",
     "text": [
      "100%|██████████████████████████████████████████████████████████████████████████████████| 50/50 [00:00<00:00, 69.33it/s]\n",
      " 14%|███████████▌                                                                       | 7/50 [00:00<00:00, 67.35it/s]"
     ]
    },
    {
     "name": "stdout",
     "output_type": "stream",
     "text": [
      "-39.60098831288477\n",
      "[[-32.65275424 -23.70217802 -32.06071216 -26.9993595  -24.64164711\n",
      "  -25.06493308 -24.65183175 -35.06775344]]\n"
     ]
    },
    {
     "name": "stderr",
     "output_type": "stream",
     "text": [
      "100%|██████████████████████████████████████████████████████████████████████████████████| 50/50 [00:00<00:00, 70.44it/s]\n",
      " 16%|█████████████▎                                                                     | 8/50 [00:00<00:00, 72.25it/s]"
     ]
    },
    {
     "name": "stdout",
     "output_type": "stream",
     "text": [
      "-30.678766665002996\n",
      "[[-32.65275424 -23.70217802 -32.06071216 -26.9993595  -24.64164711\n",
      "  -25.06493308 -24.65183175 -35.06775344]]\n"
     ]
    },
    {
     "name": "stderr",
     "output_type": "stream",
     "text": [
      "100%|██████████████████████████████████████████████████████████████████████████████████| 50/50 [00:00<00:00, 71.09it/s]\n",
      " 16%|█████████████▎                                                                     | 8/50 [00:00<00:00, 73.58it/s]"
     ]
    },
    {
     "name": "stdout",
     "output_type": "stream",
     "text": [
      "-30.683890406078902\n",
      "[[-35.66061389 -21.4631     -31.06776554 -30.57740415 -26.58548113\n",
      "  -22.62758295 -43.98914259 -38.86511057]]\n"
     ]
    },
    {
     "name": "stderr",
     "output_type": "stream",
     "text": [
      "100%|██████████████████████████████████████████████████████████████████████████████████| 50/50 [00:00<00:00, 71.52it/s]\n",
      " 16%|█████████████▎                                                                     | 8/50 [00:00<00:00, 73.59it/s]"
     ]
    },
    {
     "name": "stdout",
     "output_type": "stream",
     "text": [
      "-35.108672932489675\n",
      "[[-35.66061389 -21.4631     -31.06776554 -30.57740415 -26.58548113\n",
      "  -22.62758295 -43.98914259 -38.86511057]]\n"
     ]
    },
    {
     "name": "stderr",
     "output_type": "stream",
     "text": [
      "100%|██████████████████████████████████████████████████████████████████████████████████| 50/50 [00:00<00:00, 57.29it/s]\n",
      " 14%|███████████▌                                                                       | 7/50 [00:00<00:00, 68.12it/s]"
     ]
    },
    {
     "name": "stdout",
     "output_type": "stream",
     "text": [
      "-35.11505767188759\n",
      "[[-39.70510425 -37.64060202 -35.50977036 -34.13981596 -38.51439185\n",
      "  -38.8538375  -39.8442799  -47.173342  ]]\n"
     ]
    },
    {
     "name": "stderr",
     "output_type": "stream",
     "text": [
      "100%|██████████████████████████████████████████████████████████████████████████████████| 50/50 [00:00<00:00, 70.41it/s]\n",
      " 16%|█████████████▎                                                                     | 8/50 [00:00<00:00, 71.59it/s]"
     ]
    },
    {
     "name": "stdout",
     "output_type": "stream",
     "text": [
      "-41.59051550488294\n",
      "[[-35.66061389 -21.4631     -31.06776554 -30.57740415 -26.58548113\n",
      "  -22.62758295 -43.98914259 -38.86511057]]\n"
     ]
    },
    {
     "name": "stderr",
     "output_type": "stream",
     "text": [
      "100%|██████████████████████████████████████████████████████████████████████████████████| 50/50 [00:00<00:00, 70.26it/s]\n",
      " 14%|███████████▌                                                                       | 7/50 [00:00<00:00, 66.21it/s]"
     ]
    },
    {
     "name": "stdout",
     "output_type": "stream",
     "text": [
      "-34.96560281006524\n",
      "[[-33.91053274 -43.82853359 -35.38710151 -43.35454606 -36.02098807\n",
      "  -51.42263714 -45.95845159 -40.59607501]]\n"
     ]
    },
    {
     "name": "stderr",
     "output_type": "stream",
     "text": [
      "100%|██████████████████████████████████████████████████████████████████████████████████| 50/50 [00:00<00:00, 70.31it/s]\n",
      " 16%|█████████████▎                                                                     | 8/50 [00:00<00:00, 72.24it/s]"
     ]
    },
    {
     "name": "stdout",
     "output_type": "stream",
     "text": [
      "-40.19936238049871\n",
      "[[-35.66061389 -21.4631     -31.06776554 -30.57740415 -26.58548113\n",
      "  -22.62758295 -43.98914259 -38.86511057]]\n"
     ]
    },
    {
     "name": "stderr",
     "output_type": "stream",
     "text": [
      "100%|██████████████████████████████████████████████████████████████████████████████████| 50/50 [00:00<00:00, 70.77it/s]\n",
      " 16%|█████████████▎                                                                     | 8/50 [00:00<00:00, 72.25it/s]"
     ]
    },
    {
     "name": "stdout",
     "output_type": "stream",
     "text": [
      "-34.9937055533488\n",
      "[[-35.37146387 -39.51101533 -30.62942567 -27.97660255 -36.93135369\n",
      "  -11.08624978 -46.82941977 -37.78909847]]\n"
     ]
    },
    {
     "name": "stderr",
     "output_type": "stream",
     "text": [
      "100%|██████████████████████████████████████████████████████████████████████████████████| 50/50 [00:00<00:00, 57.36it/s]\n",
      " 14%|███████████▌                                                                       | 7/50 [00:00<00:00, 69.49it/s]"
     ]
    },
    {
     "name": "stdout",
     "output_type": "stream",
     "text": [
      "-35.53233202886264\n",
      "[[-35.37146387 -39.51101533 -30.62942567 -27.97660255 -36.93135369\n",
      "  -11.08624978 -46.82941977 -37.78909847]]\n"
     ]
    },
    {
     "name": "stderr",
     "output_type": "stream",
     "text": [
      "100%|██████████████████████████████████████████████████████████████████████████████████| 50/50 [00:00<00:00, 70.66it/s]\n",
      " 16%|█████████████▎                                                                     | 8/50 [00:00<00:00, 73.59it/s]"
     ]
    },
    {
     "name": "stdout",
     "output_type": "stream",
     "text": [
      "-35.254032501451924\n",
      "[[-34.42098801 -32.53620576 -33.88599578 -30.11066084 -32.64506602\n",
      "  -41.02709325 -31.9648348  -31.53221015]]\n"
     ]
    },
    {
     "name": "stderr",
     "output_type": "stream",
     "text": [
      "100%|██████████████████████████████████████████████████████████████████████████████████| 50/50 [00:00<00:00, 70.02it/s]\n",
      " 14%|███████████▌                                                                       | 7/50 [00:00<00:00, 68.81it/s]"
     ]
    },
    {
     "name": "stdout",
     "output_type": "stream",
     "text": [
      "-32.995858478483406\n",
      "[[-34.42098801 -32.53620576 -33.88599578 -30.11066084 -32.64506602\n",
      "  -41.02709325 -31.9648348  -31.53221015]]\n"
     ]
    },
    {
     "name": "stderr",
     "output_type": "stream",
     "text": [
      "100%|██████████████████████████████████████████████████████████████████████████████████| 50/50 [00:00<00:00, 69.53it/s]\n",
      " 16%|█████████████▎                                                                     | 8/50 [00:00<00:00, 72.77it/s]"
     ]
    },
    {
     "name": "stdout",
     "output_type": "stream",
     "text": [
      "-32.92498965039095\n",
      "[[-42.5405114  -46.03221146 -37.81686297 -47.86654146 -44.15569829\n",
      "  -44.92645021 -28.74785416 -41.90592063]]\n"
     ]
    },
    {
     "name": "stderr",
     "output_type": "stream",
     "text": [
      "100%|██████████████████████████████████████████████████████████████████████████████████| 50/50 [00:00<00:00, 70.34it/s]\n",
      " 16%|█████████████▎                                                                     | 8/50 [00:00<00:00, 71.60it/s]"
     ]
    },
    {
     "name": "stdout",
     "output_type": "stream",
     "text": [
      "-40.53547775042221\n",
      "[[-42.5405114  -46.03221146 -37.81686297 -47.86654146 -44.15569829\n",
      "  -44.92645021 -28.74785416 -41.90592063]]\n"
     ]
    },
    {
     "name": "stderr",
     "output_type": "stream",
     "text": [
      "100%|██████████████████████████████████████████████████████████████████████████████████| 50/50 [00:00<00:00, 56.27it/s]\n",
      " 16%|█████████████▎                                                                     | 8/50 [00:00<00:00, 74.25it/s]"
     ]
    },
    {
     "name": "stdout",
     "output_type": "stream",
     "text": [
      "-40.22958670540791\n",
      "[[-39.80238605 -40.9368681  -35.60878565 -47.39176003 -32.64506602\n",
      "  -79.00209466 -28.24685739 -46.69887807]]\n"
     ]
    },
    {
     "name": "stderr",
     "output_type": "stream",
     "text": [
      "100%|██████████████████████████████████████████████████████████████████████████████████| 50/50 [00:00<00:00, 70.71it/s]\n",
      " 14%|███████████▌                                                                       | 7/50 [00:00<00:00, 68.81it/s]"
     ]
    },
    {
     "name": "stdout",
     "output_type": "stream",
     "text": [
      "-43.06732211603649\n",
      "[[-42.5405114  -46.03221146 -37.81686297 -47.86654146 -44.15569829\n",
      "  -44.92645021 -28.74785416 -41.90592063]]\n"
     ]
    },
    {
     "name": "stderr",
     "output_type": "stream",
     "text": [
      "100%|██████████████████████████████████████████████████████████████████████████████████| 50/50 [00:00<00:00, 68.79it/s]\n",
      " 16%|█████████████▎                                                                     | 8/50 [00:00<00:00, 72.26it/s]"
     ]
    },
    {
     "name": "stdout",
     "output_type": "stream",
     "text": [
      "-40.48185590795243\n",
      "[[-41.883267   -56.61632094 -37.14323705 -49.29433823 -44.50266926\n",
      "  -32.27529339 -39.60602221 -46.92248851]]\n"
     ]
    },
    {
     "name": "stderr",
     "output_type": "stream",
     "text": [
      "100%|██████████████████████████████████████████████████████████████████████████████████| 50/50 [00:00<00:00, 71.41it/s]\n",
      " 16%|█████████████▎                                                                     | 8/50 [00:00<00:00, 72.27it/s]"
     ]
    },
    {
     "name": "stdout",
     "output_type": "stream",
     "text": [
      "-43.480176304797034\n",
      "[[-41.883267   -56.61632094 -37.14323705 -49.29433823 -44.50266926\n",
      "  -32.27529339 -39.60602221 -46.92248851]]\n"
     ]
    },
    {
     "name": "stderr",
     "output_type": "stream",
     "text": [
      "100%|██████████████████████████████████████████████████████████████████████████████████| 50/50 [00:00<00:00, 69.71it/s]\n",
      " 14%|███████████▌                                                                       | 7/50 [00:00<00:00, 66.81it/s]"
     ]
    },
    {
     "name": "stdout",
     "output_type": "stream",
     "text": [
      "-43.78728592674189\n",
      "[[-37.80202337 -46.86849082 -35.84496966 -40.1881942  -31.0474209\n",
      "  -29.31045079 -38.5072883  -39.37293275]]\n"
     ]
    },
    {
     "name": "stderr",
     "output_type": "stream",
     "text": [
      "100%|██████████████████████████████████████████████████████████████████████████████████| 50/50 [00:00<00:00, 55.58it/s]\n",
      " 16%|█████████████▎                                                                     | 8/50 [00:00<00:00, 72.90it/s]"
     ]
    },
    {
     "name": "stdout",
     "output_type": "stream",
     "text": [
      "-37.652710572337334\n",
      "[[-37.80202337 -46.86849082 -35.84496966 -40.1881942  -31.0474209\n",
      "  -29.31045079 -38.5072883  -39.37293275]]\n"
     ]
    },
    {
     "name": "stderr",
     "output_type": "stream",
     "text": [
      "100%|██████████████████████████████████████████████████████████████████████████████████| 50/50 [00:00<00:00, 65.53it/s]\n",
      " 14%|███████████▌                                                                       | 7/50 [00:00<00:00, 67.49it/s]"
     ]
    },
    {
     "name": "stdout",
     "output_type": "stream",
     "text": [
      "-37.581731396003185\n",
      "[[-32.53245975 -39.82656786 -35.14916181 -41.45471849 -31.43819931\n",
      "  -51.38351128 -38.78291676 -42.85045734]]\n"
     ]
    },
    {
     "name": "stderr",
     "output_type": "stream",
     "text": [
      "100%|██████████████████████████████████████████████████████████████████████████████████| 50/50 [00:00<00:00, 63.46it/s]\n",
      " 14%|███████████▌                                                                       | 7/50 [00:00<00:00, 63.23it/s]"
     ]
    },
    {
     "name": "stdout",
     "output_type": "stream",
     "text": [
      "-39.6641164731609\n",
      "[[-32.53245975 -39.82656786 -35.14916181 -41.45471849 -31.43819931\n",
      "  -51.38351128 -38.78291676 -42.85045734]]\n"
     ]
    },
    {
     "name": "stderr",
     "output_type": "stream",
     "text": [
      "100%|██████████████████████████████████████████████████████████████████████████████████| 50/50 [00:00<00:00, 63.59it/s]\n",
      " 12%|█████████▉                                                                         | 6/50 [00:00<00:00, 58.98it/s]"
     ]
    },
    {
     "name": "stdout",
     "output_type": "stream",
     "text": [
      "-39.69159379166148\n",
      "[[-33.96316453 -34.00389288 -36.1660737  -33.13878645 -32.99471362\n",
      "  -27.80518811 -24.60258193 -30.77423593]]\n"
     ]
    },
    {
     "name": "stderr",
     "output_type": "stream",
     "text": [
      "100%|██████████████████████████████████████████████████████████████████████████████████| 50/50 [00:00<00:00, 52.33it/s]\n",
      "  8%|██████▋                                                                            | 4/50 [00:00<00:01, 39.01it/s]"
     ]
    },
    {
     "name": "stdout",
     "output_type": "stream",
     "text": [
      "-31.208177238759074\n",
      "[[-33.96316453 -34.00389288 -36.1660737  -33.13878645 -32.99471362\n",
      "  -27.80518811 -24.60258193 -30.77423593]]\n"
     ]
    },
    {
     "name": "stderr",
     "output_type": "stream",
     "text": [
      "100%|██████████████████████████████████████████████████████████████████████████████████| 50/50 [00:00<00:00, 60.44it/s]\n",
      " 12%|█████████▉                                                                         | 6/50 [00:00<00:00, 56.23it/s]"
     ]
    },
    {
     "name": "stdout",
     "output_type": "stream",
     "text": [
      "-31.459426739317486\n",
      "[[-32.63068959 -39.81730523 -31.07225433 -35.61553618 -29.57159519\n",
      "  -47.05899539 -27.40623129 -34.02029514]]\n"
     ]
    },
    {
     "name": "stderr",
     "output_type": "stream",
     "text": [
      "100%|██████████████████████████████████████████████████████████████████████████████████| 50/50 [00:00<00:00, 61.92it/s]\n",
      " 16%|█████████████▎                                                                     | 8/50 [00:00<00:00, 69.99it/s]"
     ]
    },
    {
     "name": "stdout",
     "output_type": "stream",
     "text": [
      "-33.4606223063902\n",
      "[[-32.63068959 -39.81730523 -31.07225433 -35.61553618 -29.57159519\n",
      "  -47.05899539 -27.40623129 -34.02029514]]\n"
     ]
    },
    {
     "name": "stderr",
     "output_type": "stream",
     "text": [
      "100%|██████████████████████████████████████████████████████████████████████████████████| 50/50 [00:00<00:00, 65.91it/s]\n",
      " 12%|█████████▉                                                                         | 6/50 [00:00<00:00, 58.41it/s]"
     ]
    },
    {
     "name": "stdout",
     "output_type": "stream",
     "text": [
      "-33.45412389212741\n",
      "[[-32.54532884 -33.94948807 -31.95063263 -35.38529719 -29.80565911\n",
      "  -46.07497883 -42.20313121 -36.91941666]]\n"
     ]
    },
    {
     "name": "stderr",
     "output_type": "stream",
     "text": [
      "100%|██████████████████████████████████████████████████████████████████████████████████| 50/50 [00:00<00:00, 65.71it/s]\n",
      " 14%|███████████▌                                                                       | 7/50 [00:00<00:00, 67.33it/s]"
     ]
    },
    {
     "name": "stdout",
     "output_type": "stream",
     "text": [
      "-36.19230955602337\n",
      "[[-32.54532884 -33.94948807 -31.95063263 -35.38529719 -29.80565911\n",
      "  -46.07497883 -42.20313121 -36.91941666]]\n"
     ]
    },
    {
     "name": "stderr",
     "output_type": "stream",
     "text": [
      "100%|██████████████████████████████████████████████████████████████████████████████████| 50/50 [00:00<00:00, 55.26it/s]\n",
      " 14%|███████████▌                                                                       | 7/50 [00:00<00:00, 63.79it/s]"
     ]
    },
    {
     "name": "stdout",
     "output_type": "stream",
     "text": [
      "-36.292958351094725\n",
      "[[-28.19661532 -22.94371222 -31.9085802  -34.56005949 -27.95776154\n",
      "  -42.99814614 -24.68321448 -31.22348209]]\n"
     ]
    },
    {
     "name": "stderr",
     "output_type": "stream",
     "text": [
      "100%|██████████████████████████████████████████████████████████████████████████████████| 50/50 [00:00<00:00, 64.69it/s]\n",
      " 16%|█████████████▎                                                                     | 8/50 [00:00<00:00, 69.14it/s]"
     ]
    },
    {
     "name": "stdout",
     "output_type": "stream",
     "text": [
      "-30.674481407116023\n",
      "[[-28.19661532 -22.94371222 -31.9085802  -34.56005949 -27.95776154\n",
      "  -42.99814614 -24.68321448 -31.22348209]]\n"
     ]
    },
    {
     "name": "stderr",
     "output_type": "stream",
     "text": [
      "100%|██████████████████████████████████████████████████████████████████████████████████| 50/50 [00:00<00:00, 63.46it/s]\n",
      " 14%|███████████▌                                                                       | 7/50 [00:00<00:00, 62.65it/s]"
     ]
    },
    {
     "name": "stdout",
     "output_type": "stream",
     "text": [
      "-30.780726803196536\n",
      "[[-37.36577055 -40.23595416 -34.27550062 -45.72133829 -36.05206757\n",
      "  -65.48950558 -29.18182693 -48.11204703]]\n"
     ]
    },
    {
     "name": "stderr",
     "output_type": "stream",
     "text": [
      "100%|██████████████████████████████████████████████████████████████████████████████████| 50/50 [00:00<00:00, 68.11it/s]\n",
      " 16%|█████████████▎                                                                     | 8/50 [00:00<00:00, 69.75it/s]"
     ]
    },
    {
     "name": "stdout",
     "output_type": "stream",
     "text": [
      "-42.429304477164685\n",
      "[[-37.36577055 -40.23595416 -34.27550062 -45.72133829 -36.05206757\n",
      "  -65.48950558 -29.18182693 -48.11204703]]\n"
     ]
    },
    {
     "name": "stderr",
     "output_type": "stream",
     "text": [
      "100%|██████████████████████████████████████████████████████████████████████████████████| 50/50 [00:00<00:00, 70.27it/s]\n",
      " 12%|█████████▉                                                                         | 6/50 [00:00<00:00, 56.75it/s]"
     ]
    },
    {
     "name": "stdout",
     "output_type": "stream",
     "text": [
      "-42.681441377505855\n",
      "[[-31.59529624 -37.13317789 -33.68108446 -24.67591128 -22.79668406\n",
      "  -11.99660401 -23.13929759 -35.08048017]]\n"
     ]
    },
    {
     "name": "stderr",
     "output_type": "stream",
     "text": [
      "100%|██████████████████████████████████████████████████████████████████████████████████| 50/50 [00:00<00:00, 52.41it/s]\n",
      " 14%|███████████▌                                                                       | 7/50 [00:00<00:00, 63.23it/s]"
     ]
    },
    {
     "name": "stdout",
     "output_type": "stream",
     "text": [
      "-30.282214842018934\n",
      "[[-31.59529624 -37.13317789 -33.68108446 -24.67591128 -22.79668406\n",
      "  -11.99660401 -23.13929759 -35.08048017]]\n"
     ]
    },
    {
     "name": "stderr",
     "output_type": "stream",
     "text": [
      "100%|██████████████████████████████████████████████████████████████████████████████████| 50/50 [00:00<00:00, 61.47it/s]\n",
      " 14%|███████████▌                                                                       | 7/50 [00:00<00:00, 65.61it/s]"
     ]
    },
    {
     "name": "stdout",
     "output_type": "stream",
     "text": [
      "-30.08153939689163\n",
      "[[-31.59529624 -37.13317789 -33.68108446 -24.67591128 -22.79668406\n",
      "  -11.99660401 -23.13929759 -35.08048017]]\n"
     ]
    },
    {
     "name": "stderr",
     "output_type": "stream",
     "text": [
      "100%|██████████████████████████████████████████████████████████████████████████████████| 50/50 [00:00<00:00, 65.94it/s]\n",
      " 12%|█████████▉                                                                         | 6/50 [00:00<00:00, 58.10it/s]"
     ]
    },
    {
     "name": "stdout",
     "output_type": "stream",
     "text": [
      "-30.04959159328728\n",
      "[[-30.83862481 -38.0162537  -28.70714404 -33.12973965 -30.78687601\n",
      "  -30.98054024 -30.07428575 -33.39766873]]\n"
     ]
    },
    {
     "name": "stderr",
     "output_type": "stream",
     "text": [
      "100%|██████████████████████████████████████████████████████████████████████████████████| 50/50 [00:00<00:00, 65.75it/s]\n",
      " 14%|███████████▌                                                                       | 7/50 [00:00<00:00, 66.82it/s]"
     ]
    },
    {
     "name": "stdout",
     "output_type": "stream",
     "text": [
      "-31.760639635208012\n",
      "[[-30.83862481 -38.0162537  -28.70714404 -33.12973965 -30.78687601\n",
      "  -30.98054024 -30.07428575 -33.39766873]]\n"
     ]
    },
    {
     "name": "stderr",
     "output_type": "stream",
     "text": [
      "100%|██████████████████████████████████████████████████████████████████████████████████| 50/50 [00:00<00:00, 53.93it/s]\n",
      " 16%|█████████████▎                                                                     | 8/50 [00:00<00:00, 76.39it/s]"
     ]
    },
    {
     "name": "stdout",
     "output_type": "stream",
     "text": [
      "-32.005489780933914\n",
      "[[-30.90913707 -36.72050564 -30.49388555 -36.08501452 -30.78687601\n",
      "  -37.36644734 -23.82499792 -30.78088265]]\n"
     ]
    },
    {
     "name": "stderr",
     "output_type": "stream",
     "text": [
      "100%|██████████████████████████████████████████████████████████████████████████████████| 50/50 [00:00<00:00, 68.02it/s]\n",
      " 14%|███████████▌                                                                       | 7/50 [00:00<00:00, 66.66it/s]"
     ]
    },
    {
     "name": "stdout",
     "output_type": "stream",
     "text": [
      "-30.841803737841005\n",
      "[[-30.90913707 -36.72050564 -30.49388555 -36.08501452 -30.78687601\n",
      "  -37.36644734 -23.82499792 -30.78088265]]\n"
     ]
    },
    {
     "name": "stderr",
     "output_type": "stream",
     "text": [
      "100%|██████████████████████████████████████████████████████████████████████████████████| 50/50 [00:00<00:00, 67.98it/s]\n",
      " 16%|█████████████▎                                                                     | 8/50 [00:00<00:00, 76.39it/s]"
     ]
    },
    {
     "name": "stdout",
     "output_type": "stream",
     "text": [
      "-30.655229175217578\n",
      "[[-27.3676349  -22.28590969 -31.19046116 -30.09284483 -22.97803146\n",
      "  -39.2174068  -16.73310506 -34.03194045]]\n"
     ]
    },
    {
     "name": "stderr",
     "output_type": "stream",
     "text": [
      "100%|██████████████████████████████████████████████████████████████████████████████████| 50/50 [00:00<00:00, 69.53it/s]\n",
      " 16%|█████████████▎                                                                     | 8/50 [00:00<00:00, 79.39it/s]"
     ]
    },
    {
     "name": "stdout",
     "output_type": "stream",
     "text": [
      "-29.65983753845786\n",
      "[[-27.3676349  -22.28590969 -31.19046116 -30.09284483 -22.97803146\n",
      "  -39.2174068  -16.73310506 -34.03194045]]\n"
     ]
    },
    {
     "name": "stderr",
     "output_type": "stream",
     "text": [
      "100%|██████████████████████████████████████████████████████████████████████████████████| 50/50 [00:00<00:00, 69.56it/s]\n",
      " 16%|█████████████▎                                                                     | 8/50 [00:00<00:00, 75.66it/s]"
     ]
    },
    {
     "name": "stdout",
     "output_type": "stream",
     "text": [
      "-29.54855220804406\n",
      "[[-39.00023432 -21.45319284 -33.62852506 -22.10389351 -20.86879691\n",
      "  -23.94579212 -33.35197518 -42.78850607]]\n"
     ]
    },
    {
     "name": "stderr",
     "output_type": "stream",
     "text": [
      "100%|██████████████████████████████████████████████████████████████████████████████████| 50/50 [00:00<00:00, 55.40it/s]\n",
      " 14%|███████████▌                                                                       | 7/50 [00:00<00:00, 68.56it/s]"
     ]
    },
    {
     "name": "stdout",
     "output_type": "stream",
     "text": [
      "-35.0618483330619\n",
      "[[-39.00023432 -21.45319284 -33.62852506 -22.10389351 -20.86879691\n",
      "  -23.94579212 -33.35197518 -42.78850607]]\n"
     ]
    },
    {
     "name": "stderr",
     "output_type": "stream",
     "text": [
      "100%|██████████████████████████████████████████████████████████████████████████████████| 50/50 [00:00<00:00, 66.27it/s]\n",
      " 14%|███████████▌                                                                       | 7/50 [00:00<00:00, 62.67it/s]"
     ]
    },
    {
     "name": "stdout",
     "output_type": "stream",
     "text": [
      "-34.98352175606013\n",
      "[[-26.28403784 -30.95704254 -32.69357707 -30.21314918 -29.88901173\n",
      "  -33.77452302 -16.76039068 -38.66660295]]\n"
     ]
    },
    {
     "name": "stderr",
     "output_type": "stream",
     "text": [
      "100%|██████████████████████████████████████████████████████████████████████████████████| 50/50 [00:00<00:00, 65.88it/s]\n",
      " 16%|█████████████▎                                                                     | 8/50 [00:00<00:00, 71.62it/s]"
     ]
    },
    {
     "name": "stdout",
     "output_type": "stream",
     "text": [
      "-31.86955833479585\n",
      "[[-26.28403784 -30.95704254 -32.69357707 -30.21314918 -29.88901173\n",
      "  -33.77452302 -16.76039068 -38.66660295]]\n"
     ]
    },
    {
     "name": "stderr",
     "output_type": "stream",
     "text": [
      "100%|██████████████████████████████████████████████████████████████████████████████████| 50/50 [00:00<00:00, 67.65it/s]\n",
      " 12%|█████████▉                                                                         | 6/50 [00:00<00:00, 58.21it/s]"
     ]
    },
    {
     "name": "stdout",
     "output_type": "stream",
     "text": [
      "-32.05327856862315\n",
      "[[-27.21551848 -33.24753549 -31.46785916 -25.23469163 -27.15333784\n",
      "  -13.58844494 -16.77072891 -33.88691098]]\n"
     ]
    },
    {
     "name": "stderr",
     "output_type": "stream",
     "text": [
      "100%|██████████████████████████████████████████████████████████████████████████████████| 50/50 [00:00<00:00, 64.48it/s]\n",
      " 14%|███████████▌                                                                       | 7/50 [00:00<00:00, 64.39it/s]"
     ]
    },
    {
     "name": "stdout",
     "output_type": "stream",
     "text": [
      "-28.251434684300424\n",
      "[[-27.21551848 -33.24753549 -31.46785916 -25.23469163 -27.15333784\n",
      "  -13.58844494 -16.77072891 -33.88691098]]\n"
     ]
    },
    {
     "name": "stderr",
     "output_type": "stream",
     "text": [
      "100%|██████████████████████████████████████████████████████████████████████████████████| 50/50 [00:00<00:00, 53.32it/s]\n",
      " 14%|███████████▌                                                                       | 7/50 [00:00<00:00, 67.09it/s]"
     ]
    },
    {
     "name": "stdout",
     "output_type": "stream",
     "text": [
      "-28.22443959933694\n",
      "[[-34.87216732 -52.15598338 -38.36457577 -60.87669829 -37.77320808\n",
      "  -82.72570832 -39.99248199 -48.83990683]]\n"
     ]
    },
    {
     "name": "stderr",
     "output_type": "stream",
     "text": [
      "100%|██████████████████████████████████████████████████████████████████████████████████| 50/50 [00:00<00:00, 64.49it/s]\n",
      " 14%|███████████▌                                                                       | 7/50 [00:00<00:00, 65.60it/s]"
     ]
    },
    {
     "name": "stdout",
     "output_type": "stream",
     "text": [
      "-47.07073400946566\n",
      "[[-27.21551848 -33.24753549 -31.46785916 -25.23469163 -27.15333784\n",
      "  -13.58844494 -16.77072891 -33.88691098]]\n"
     ]
    },
    {
     "name": "stderr",
     "output_type": "stream",
     "text": [
      "100%|██████████████████████████████████████████████████████████████████████████████████| 50/50 [00:00<00:00, 69.29it/s]\n",
      " 14%|███████████▌                                                                       | 7/50 [00:00<00:00, 69.60it/s]"
     ]
    },
    {
     "name": "stdout",
     "output_type": "stream",
     "text": [
      "-28.63028074769253\n",
      "[[-24.23719708 -26.60700075 -33.59680593 -25.69266443 -29.6956054\n",
      "  -26.99924356 -16.57045049 -28.25421157]]\n"
     ]
    },
    {
     "name": "stderr",
     "output_type": "stream",
     "text": [
      "100%|██████████████████████████████████████████████████████████████████████████████████| 50/50 [00:00<00:00, 69.03it/s]\n",
      " 14%|███████████▌                                                                       | 7/50 [00:00<00:00, 62.67it/s]"
     ]
    },
    {
     "name": "stdout",
     "output_type": "stream",
     "text": [
      "-26.98078904671485\n",
      "[[-24.23719708 -26.60700075 -33.59680593 -25.69266443 -29.6956054\n",
      "  -26.99924356 -16.57045049 -28.25421157]]\n"
     ]
    },
    {
     "name": "stderr",
     "output_type": "stream",
     "text": [
      "100%|██████████████████████████████████████████████████████████████████████████████████| 50/50 [00:00<00:00, 68.53it/s]\n",
      "  0%|                                                                                           | 0/50 [00:00<?, ?it/s]"
     ]
    },
    {
     "name": "stdout",
     "output_type": "stream",
     "text": [
      "-26.86226813203782\n",
      "[[-28.4923363  -37.64319172 -35.48228837 -35.28122451 -26.85609164\n",
      "  -40.49539474 -16.63579805 -34.01764698]]\n"
     ]
    },
    {
     "name": "stderr",
     "output_type": "stream",
     "text": [
      "100%|██████████████████████████████████████████████████████████████████████████████████| 50/50 [00:00<00:00, 55.89it/s]\n",
      " 14%|███████████▌                                                                       | 7/50 [00:00<00:00, 64.38it/s]"
     ]
    },
    {
     "name": "stdout",
     "output_type": "stream",
     "text": [
      "-31.56306989697197\n",
      "[[-28.4923363  -37.64319172 -35.48228837 -35.28122451 -26.85609164\n",
      "  -40.49539474 -16.63579805 -34.01764698]]\n"
     ]
    },
    {
     "name": "stderr",
     "output_type": "stream",
     "text": [
      "100%|██████████████████████████████████████████████████████████████████████████████████| 50/50 [00:00<00:00, 68.71it/s]\n",
      " 14%|███████████▌                                                                       | 7/50 [00:00<00:00, 61.57it/s]"
     ]
    },
    {
     "name": "stdout",
     "output_type": "stream",
     "text": [
      "-31.660646126041208\n",
      "[[-37.26229867 -55.69004853 -39.27625996 -60.4873299  -39.45459987\n",
      "  -77.14511812 -39.15180452 -49.54321965]]\n"
     ]
    },
    {
     "name": "stderr",
     "output_type": "stream",
     "text": [
      "100%|██████████████████████████████████████████████████████████████████████████████████| 50/50 [00:00<00:00, 68.57it/s]\n",
      " 14%|███████████▌                                                                       | 7/50 [00:00<00:00, 69.47it/s]"
     ]
    },
    {
     "name": "stdout",
     "output_type": "stream",
     "text": [
      "-47.429303633477524\n",
      "[[-28.4923363  -37.64319172 -35.48228837 -35.28122451 -26.85609164\n",
      "  -40.49539474 -16.63579805 -34.01764698]]\n"
     ]
    },
    {
     "name": "stderr",
     "output_type": "stream",
     "text": [
      "100%|██████████████████████████████████████████████████████████████████████████████████| 50/50 [00:00<00:00, 66.55it/s]\n",
      " 14%|███████████▌                                                                       | 7/50 [00:00<00:00, 68.16it/s]"
     ]
    },
    {
     "name": "stdout",
     "output_type": "stream",
     "text": [
      "-31.40309627363748\n",
      "[[-26.47009153 -27.90569747 -33.47837717 -24.58535386 -23.78158793\n",
      "  -23.61064866 -16.56044098 -31.42678971]]\n"
     ]
    },
    {
     "name": "stderr",
     "output_type": "stream",
     "text": [
      "100%|██████████████████████████████████████████████████████████████████████████████████| 50/50 [00:00<00:00, 54.90it/s]\n",
      " 14%|███████████▌                                                                       | 7/50 [00:00<00:00, 65.60it/s]"
     ]
    },
    {
     "name": "stdout",
     "output_type": "stream",
     "text": [
      "-27.822460219153353\n",
      "[[-26.47009153 -27.90569747 -33.47837717 -24.58535386 -23.78158793\n",
      "  -23.61064866 -16.56044098 -31.42678971]]\n"
     ]
    },
    {
     "name": "stderr",
     "output_type": "stream",
     "text": [
      "100%|██████████████████████████████████████████████████████████████████████████████████| 50/50 [00:00<00:00, 63.13it/s]\n",
      " 14%|███████████▌                                                                       | 7/50 [00:00<00:00, 66.85it/s]"
     ]
    },
    {
     "name": "stdout",
     "output_type": "stream",
     "text": [
      "-27.905355907044264\n",
      "[[-23.99372707 -31.47116154 -32.21314463 -28.42762149 -32.84507693\n",
      "  -39.63738914 -16.53624774 -34.51136275]]\n"
     ]
    },
    {
     "name": "stderr",
     "output_type": "stream",
     "text": [
      "100%|██████████████████████████████████████████████████████████████████████████████████| 50/50 [00:00<00:00, 68.17it/s]\n",
      " 14%|███████████▌                                                                       | 7/50 [00:00<00:00, 68.13it/s]"
     ]
    },
    {
     "name": "stdout",
     "output_type": "stream",
     "text": [
      "-30.506482447201048\n",
      "[[-23.99372707 -31.47116154 -32.21314463 -28.42762149 -32.84507693\n",
      "  -39.63738914 -16.53624774 -34.51136275]]\n"
     ]
    },
    {
     "name": "stderr",
     "output_type": "stream",
     "text": [
      "100%|██████████████████████████████████████████████████████████████████████████████████| 50/50 [00:00<00:00, 66.04it/s]\n",
      " 16%|█████████████▎                                                                     | 8/50 [00:00<00:00, 76.37it/s]"
     ]
    },
    {
     "name": "stdout",
     "output_type": "stream",
     "text": [
      "-30.704938779985973\n",
      "[[-32.21430988 -35.29723369 -36.66789945 -40.72488724 -26.85609164\n",
      "  -39.07779703 -37.78309563 -46.08527808]]\n"
     ]
    },
    {
     "name": "stderr",
     "output_type": "stream",
     "text": [
      "100%|██████████████████████████████████████████████████████████████████████████████████| 50/50 [00:00<00:00, 69.07it/s]\n",
      " 14%|███████████▌                                                                       | 7/50 [00:00<00:00, 68.79it/s]"
     ]
    },
    {
     "name": "stdout",
     "output_type": "stream",
     "text": [
      "-39.65223978236122\n",
      "[[-23.99372707 -31.47116154 -32.21314463 -28.42762149 -32.84507693\n",
      "  -39.63738914 -16.53624774 -34.51136275]]\n"
     ]
    },
    {
     "name": "stderr",
     "output_type": "stream",
     "text": [
      "100%|██████████████████████████████████████████████████████████████████████████████████| 50/50 [00:00<00:00, 55.22it/s]\n",
      " 16%|█████████████▎                                                                     | 8/50 [00:00<00:00, 71.60it/s]"
     ]
    },
    {
     "name": "stdout",
     "output_type": "stream",
     "text": [
      "-30.634056922325325\n",
      "[[-27.52255184 -30.2512574  -28.57445925 -26.92336547 -19.76353048\n",
      "  -55.57185777 -16.85517957 -35.06417325]]\n"
     ]
    },
    {
     "name": "stderr",
     "output_type": "stream",
     "text": [
      "100%|██████████████████████████████████████████████████████████████████████████████████| 50/50 [00:00<00:00, 65.14it/s]\n",
      " 16%|█████████████▎                                                                     | 8/50 [00:00<00:00, 69.75it/s]"
     ]
    },
    {
     "name": "stdout",
     "output_type": "stream",
     "text": [
      "-30.43323196278672\n",
      "[[-27.52255184 -30.2512574  -28.57445925 -26.92336547 -19.76353048\n",
      "  -55.57185777 -16.85517957 -35.06417325]]\n"
     ]
    },
    {
     "name": "stderr",
     "output_type": "stream",
     "text": [
      "100%|██████████████████████████████████████████████████████████████████████████████████| 50/50 [00:00<00:00, 72.44it/s]\n",
      " 16%|█████████████▎                                                                     | 8/50 [00:00<00:00, 74.94it/s]"
     ]
    },
    {
     "name": "stdout",
     "output_type": "stream",
     "text": [
      "-30.4718131880745\n",
      "[[-33.04781907 -29.64866905 -35.21882031 -33.14645579 -29.6956054\n",
      "  -33.56789867 -43.46953016 -45.50390743]]\n"
     ]
    },
    {
     "name": "stderr",
     "output_type": "stream",
     "text": [
      "100%|██████████████████████████████████████████████████████████████████████████████████| 50/50 [00:00<00:00, 71.68it/s]\n",
      " 14%|███████████▌                                                                       | 7/50 [00:00<00:00, 66.12it/s]"
     ]
    },
    {
     "name": "stdout",
     "output_type": "stream",
     "text": [
      "-39.49067845587075\n",
      "[[-33.04781907 -29.64866905 -35.21882031 -33.14645579 -29.6956054\n",
      "  -33.56789867 -43.46953016 -45.50390743]]\n"
     ]
    },
    {
     "name": "stderr",
     "output_type": "stream",
     "text": [
      "100%|██████████████████████████████████████████████████████████████████████████████████| 50/50 [00:00<00:00, 66.74it/s]\n",
      " 14%|███████████▌                                                                       | 7/50 [00:00<00:00, 66.82it/s]"
     ]
    },
    {
     "name": "stdout",
     "output_type": "stream",
     "text": [
      "-39.21336394948269\n",
      "[[-38.26953458 -36.55393122 -38.14216091 -32.61833518 -40.28532438\n",
      "  -14.01221113 -38.95672654 -47.29933276]]\n"
     ]
    },
    {
     "name": "stderr",
     "output_type": "stream",
     "text": [
      "100%|██████████████████████████████████████████████████████████████████████████████████| 50/50 [00:00<00:00, 54.65it/s]\n",
      " 14%|███████████▌                                                                       | 7/50 [00:00<00:00, 64.99it/s]"
     ]
    },
    {
     "name": "stdout",
     "output_type": "stream",
     "text": [
      "-39.923391751987666\n",
      "[[-38.26953458 -36.55393122 -38.14216091 -32.61833518 -40.28532438\n",
      "  -14.01221113 -38.95672654 -47.29933276]]\n"
     ]
    },
    {
     "name": "stderr",
     "output_type": "stream",
     "text": [
      "100%|██████████████████████████████████████████████████████████████████████████████████| 50/50 [00:00<00:00, 64.52it/s]\n",
      " 14%|███████████▌                                                                       | 7/50 [00:00<00:00, 65.58it/s]"
     ]
    },
    {
     "name": "stdout",
     "output_type": "stream",
     "text": [
      "-40.14119901026919\n",
      "[[-29.9572238  -38.58743898 -35.40053215 -38.80728864 -32.99471362\n",
      "  -28.05347741 -24.65047942 -26.79579996]]\n"
     ]
    },
    {
     "name": "stderr",
     "output_type": "stream",
     "text": [
      "100%|██████████████████████████████████████████████████████████████████████████████████| 50/50 [00:00<00:00, 67.83it/s]\n",
      " 14%|███████████▌                                                                       | 7/50 [00:00<00:00, 68.13it/s]"
     ]
    },
    {
     "name": "stdout",
     "output_type": "stream",
     "text": [
      "-29.546507507215882\n",
      "[[-29.9572238  -38.58743898 -35.40053215 -38.80728864 -32.99471362\n",
      "  -28.05347741 -24.65047942 -26.79579996]]\n"
     ]
    },
    {
     "name": "stderr",
     "output_type": "stream",
     "text": [
      "100%|██████████████████████████████████████████████████████████████████████████████████| 50/50 [00:00<00:00, 67.15it/s]\n",
      " 14%|███████████▌                                                                       | 7/50 [00:00<00:00, 65.00it/s]"
     ]
    },
    {
     "name": "stdout",
     "output_type": "stream",
     "text": [
      "-29.918458334295405\n",
      "[[-32.67751469 -40.9753038  -32.67311815 -34.31208159 -26.58548113\n",
      "  -28.16097305 -43.69206103 -33.47394953]]\n"
     ]
    },
    {
     "name": "stderr",
     "output_type": "stream",
     "text": [
      "100%|██████████████████████████████████████████████████████████████████████████████████| 50/50 [00:00<00:00, 67.60it/s]\n",
      " 14%|███████████▌                                                                       | 7/50 [00:00<00:00, 64.97it/s]"
     ]
    },
    {
     "name": "stdout",
     "output_type": "stream",
     "text": [
      "-34.030252713707604\n",
      "[[-32.67751469 -40.9753038  -32.67311815 -34.31208159 -26.58548113\n",
      "  -28.16097305 -43.69206103 -33.47394953]]\n"
     ]
    },
    {
     "name": "stderr",
     "output_type": "stream",
     "text": [
      "100%|██████████████████████████████████████████████████████████████████████████████████| 50/50 [00:00<00:00, 54.52it/s]\n",
      " 14%|███████████▌                                                                       | 7/50 [00:00<00:00, 68.48it/s]"
     ]
    },
    {
     "name": "stdout",
     "output_type": "stream",
     "text": [
      "-34.043334816735225\n",
      "[[-33.97656279 -48.49691139 -29.69063314 -45.37807054 -29.57159519\n",
      "  -34.34834429 -27.55841345 -37.2893823 ]]\n"
     ]
    },
    {
     "name": "stderr",
     "output_type": "stream",
     "text": [
      "100%|██████████████████████████████████████████████████████████████████████████████████| 50/50 [00:00<00:00, 61.74it/s]\n",
      " 12%|█████████▉                                                                         | 6/50 [00:00<00:00, 57.10it/s]"
     ]
    },
    {
     "name": "stdout",
     "output_type": "stream",
     "text": [
      "-34.902213546639395\n",
      "[[-33.97656279 -48.49691139 -29.69063314 -45.37807054 -29.57159519\n",
      "  -34.34834429 -27.55841345 -37.2893823 ]]\n"
     ]
    },
    {
     "name": "stderr",
     "output_type": "stream",
     "text": [
      "100%|██████████████████████████████████████████████████████████████████████████████████| 50/50 [00:00<00:00, 63.43it/s]\n",
      " 14%|███████████▌                                                                       | 7/50 [00:00<00:00, 66.84it/s]"
     ]
    },
    {
     "name": "stdout",
     "output_type": "stream",
     "text": [
      "-35.043282391215655\n",
      "[[-35.42470116 -35.45459126 -33.42143219 -36.47231978 -34.32830217\n",
      "  -21.1673456  -45.60750494 -36.53790211]]\n"
     ]
    },
    {
     "name": "stderr",
     "output_type": "stream",
     "text": [
      "100%|██████████████████████████████████████████████████████████████████████████████████| 50/50 [00:00<00:00, 62.95it/s]\n",
      " 16%|█████████████▎                                                                     | 8/50 [00:00<00:00, 69.91it/s]"
     ]
    },
    {
     "name": "stdout",
     "output_type": "stream",
     "text": [
      "-35.89298804013248\n",
      "[[-35.42470116 -35.45459126 -33.42143219 -36.47231978 -34.32830217\n",
      "  -21.1673456  -45.60750494 -36.53790211]]\n"
     ]
    },
    {
     "name": "stderr",
     "output_type": "stream",
     "text": [
      "100%|██████████████████████████████████████████████████████████████████████████████████| 50/50 [00:00<00:00, 67.34it/s]\n",
      " 14%|███████████▌                                                                       | 7/50 [00:00<00:00, 69.47it/s]"
     ]
    },
    {
     "name": "stdout",
     "output_type": "stream",
     "text": [
      "-35.857252449597965\n",
      "[[-31.43597215 -46.78861172 -30.29509063 -44.05544314 -31.74846373\n",
      "  -44.65372253 -34.51652384 -40.91806339]]\n"
     ]
    },
    {
     "name": "stderr",
     "output_type": "stream",
     "text": [
      "100%|██████████████████████████████████████████████████████████████████████████████████| 50/50 [00:00<00:00, 56.22it/s]\n",
      " 14%|███████████▌                                                                       | 7/50 [00:00<00:00, 66.84it/s]"
     ]
    },
    {
     "name": "stdout",
     "output_type": "stream",
     "text": [
      "-37.85724163002719\n",
      "[[-31.43597215 -46.78861172 -30.29509063 -44.05544314 -31.74846373\n",
      "  -44.65372253 -34.51652384 -40.91806339]]\n"
     ]
    },
    {
     "name": "stderr",
     "output_type": "stream",
     "text": [
      "100%|██████████████████████████████████████████████████████████████████████████████████| 50/50 [00:00<00:00, 70.91it/s]\n",
      " 16%|█████████████▎                                                                     | 8/50 [00:00<00:00, 70.97it/s]"
     ]
    },
    {
     "name": "stdout",
     "output_type": "stream",
     "text": [
      "-37.63014995987959\n",
      "[[-35.65295186 -46.01097658 -32.91420815 -38.01300432 -36.10623675\n",
      "  -19.19818268 -28.06934969 -39.67289778]]\n"
     ]
    },
    {
     "name": "stderr",
     "output_type": "stream",
     "text": [
      "100%|██████████████████████████████████████████████████████████████████████████████████| 50/50 [00:00<00:00, 70.28it/s]\n",
      " 14%|███████████▌                                                                       | 7/50 [00:00<00:00, 66.49it/s]"
     ]
    },
    {
     "name": "stdout",
     "output_type": "stream",
     "text": [
      "-35.425099224032415\n",
      "[[-35.65295186 -46.01097658 -32.91420815 -38.01300432 -36.10623675\n",
      "  -19.19818268 -28.06934969 -39.67289778]]\n"
     ]
    },
    {
     "name": "stderr",
     "output_type": "stream",
     "text": [
      "100%|██████████████████████████████████████████████████████████████████████████████████| 50/50 [00:00<00:00, 69.00it/s]\n",
      " 16%|█████████████▎                                                                     | 8/50 [00:00<00:00, 70.38it/s]"
     ]
    },
    {
     "name": "stdout",
     "output_type": "stream",
     "text": [
      "-35.32542450643655\n",
      "[[-35.64905574 -65.37435503 -39.0624816  -61.84549226 -44.19187133\n",
      "  -76.55573208 -42.86000045 -49.91599616]]\n"
     ]
    },
    {
     "name": "stderr",
     "output_type": "stream",
     "text": [
      "100%|██████████████████████████████████████████████████████████████████████████████████| 50/50 [00:00<00:00, 56.97it/s]\n",
      " 16%|█████████████▎                                                                     | 8/50 [00:00<00:00, 78.10it/s]"
     ]
    },
    {
     "name": "stdout",
     "output_type": "stream",
     "text": [
      "-48.36953685374202\n",
      "[[-35.65295186 -46.01097658 -32.91420815 -38.01300432 -36.10623675\n",
      "  -19.19818268 -28.06934969 -39.67289778]]\n"
     ]
    },
    {
     "name": "stderr",
     "output_type": "stream",
     "text": [
      "100%|██████████████████████████████████████████████████████████████████████████████████| 50/50 [00:00<00:00, 70.40it/s]\n",
      " 14%|███████████▌                                                                       | 7/50 [00:00<00:00, 67.47it/s]"
     ]
    },
    {
     "name": "stdout",
     "output_type": "stream",
     "text": [
      "-35.21548767526289\n",
      "[[-35.14340011 -55.88774782 -34.37174183 -57.01769444 -45.35407567\n",
      "  -61.94145043 -35.84232873 -39.64663026]]\n"
     ]
    },
    {
     "name": "stderr",
     "output_type": "stream",
     "text": [
      "100%|██████████████████████████████████████████████████████████████████████████████████| 50/50 [00:00<00:00, 67.20it/s]\n",
      " 16%|█████████████▎                                                                     | 8/50 [00:00<00:00, 73.59it/s]"
     ]
    },
    {
     "name": "stdout",
     "output_type": "stream",
     "text": [
      "-41.86502828498352\n",
      "[[-35.14340011 -55.88774782 -34.37174183 -57.01769444 -45.35407567\n",
      "  -61.94145043 -35.84232873 -39.64663026]]\n"
     ]
    },
    {
     "name": "stderr",
     "output_type": "stream",
     "text": [
      "100%|██████████████████████████████████████████████████████████████████████████████████| 50/50 [00:00<00:00, 72.07it/s]\n",
      " 16%|█████████████▎                                                                     | 8/50 [00:00<00:00, 76.40it/s]"
     ]
    },
    {
     "name": "stdout",
     "output_type": "stream",
     "text": [
      "-41.448548677093896\n",
      "[[-37.22960039 -43.65102823 -35.08607138 -45.87456524 -42.2864201\n",
      "  -45.02689465 -32.49353232 -35.78737137]]\n"
     ]
    },
    {
     "name": "stderr",
     "output_type": "stream",
     "text": [
      "100%|██████████████████████████████████████████████████████████████████████████████████| 50/50 [00:00<00:00, 71.21it/s]\n",
      " 16%|█████████████▎                                                                     | 8/50 [00:00<00:00, 75.71it/s]"
     ]
    },
    {
     "name": "stdout",
     "output_type": "stream",
     "text": [
      "-37.37590884340752\n",
      "[[-37.22960039 -43.65102823 -35.08607138 -45.87456524 -42.2864201\n",
      "  -45.02689465 -32.49353232 -35.78737137]]\n"
     ]
    },
    {
     "name": "stderr",
     "output_type": "stream",
     "text": [
      "100%|██████████████████████████████████████████████████████████████████████████████████| 50/50 [00:00<00:00, 57.64it/s]\n",
      " 14%|███████████▌                                                                       | 7/50 [00:00<00:00, 69.49it/s]"
     ]
    },
    {
     "name": "stdout",
     "output_type": "stream",
     "text": [
      "-37.49835282762005\n",
      "[[-37.47849549 -36.79373247 -33.77027764 -37.16837789 -31.43819931\n",
      "  -44.09064044 -32.61978926 -49.0364192 ]]\n"
     ]
    },
    {
     "name": "stderr",
     "output_type": "stream",
     "text": [
      "100%|██████████████████████████████████████████████████████████████████████████████████| 50/50 [00:00<00:00, 70.81it/s]\n",
      " 16%|█████████████▎                                                                     | 8/50 [00:00<00:00, 74.25it/s]"
     ]
    },
    {
     "name": "stdout",
     "output_type": "stream",
     "text": [
      "-41.12395442971482\n",
      "[[-37.47849549 -36.79373247 -33.77027764 -37.16837789 -31.43819931\n",
      "  -44.09064044 -32.61978926 -49.0364192 ]]\n"
     ]
    },
    {
     "name": "stderr",
     "output_type": "stream",
     "text": [
      "100%|██████████████████████████████████████████████████████████████████████████████████| 50/50 [00:00<00:00, 72.76it/s]\n",
      " 16%|█████████████▎                                                                     | 8/50 [00:00<00:00, 73.59it/s]"
     ]
    },
    {
     "name": "stdout",
     "output_type": "stream",
     "text": [
      "-40.57761585476602\n",
      "[[-38.47565112 -47.73226862 -38.14370563 -49.74182932 -41.66200182\n",
      "  -64.68817555 -33.01682965 -48.30081665]]\n"
     ]
    },
    {
     "name": "stderr",
     "output_type": "stream",
     "text": [
      "100%|██████████████████████████████████████████████████████████████████████████████████| 50/50 [00:00<00:00, 72.65it/s]\n",
      " 16%|█████████████▎                                                                     | 8/50 [00:00<00:00, 70.98it/s]"
     ]
    },
    {
     "name": "stdout",
     "output_type": "stream",
     "text": [
      "-44.59060979170693\n",
      "[[-38.47565112 -47.73226862 -38.14370563 -49.74182932 -41.66200182\n",
      "  -64.68817555 -33.01682965 -48.30081665]]\n"
     ]
    },
    {
     "name": "stderr",
     "output_type": "stream",
     "text": [
      "100%|██████████████████████████████████████████████████████████████████████████████████| 50/50 [00:00<00:00, 72.01it/s]\n",
      " 16%|█████████████▎                                                                     | 8/50 [00:00<00:00, 72.25it/s]"
     ]
    },
    {
     "name": "stdout",
     "output_type": "stream",
     "text": [
      "-44.39595793105794\n",
      "[[-41.18942659 -55.81265267 -36.83646785 -53.3942169  -36.79343713\n",
      "  -72.85249171 -31.32876753 -47.00114382]]\n"
     ]
    },
    {
     "name": "stderr",
     "output_type": "stream",
     "text": [
      "100%|██████████████████████████████████████████████████████████████████████████████████| 50/50 [00:00<00:00, 57.60it/s]\n",
      " 16%|█████████████▎                                                                     | 8/50 [00:00<00:00, 72.29it/s]"
     ]
    },
    {
     "name": "stdout",
     "output_type": "stream",
     "text": [
      "-44.844707774053944\n",
      "[[-41.18942659 -55.81265267 -36.83646785 -53.3942169  -36.79343713\n",
      "  -72.85249171 -31.32876753 -47.00114382]]\n"
     ]
    },
    {
     "name": "stderr",
     "output_type": "stream",
     "text": [
      "100%|██████████████████████████████████████████████████████████████████████████████████| 50/50 [00:00<00:00, 73.08it/s]\n",
      " 16%|█████████████▎                                                                     | 8/50 [00:00<00:00, 78.67it/s]"
     ]
    },
    {
     "name": "stdout",
     "output_type": "stream",
     "text": [
      "-44.82696966832549\n",
      "[[-36.28745708 -49.58327478 -32.03533962 -41.69799516 -34.32830217\n",
      "  -65.89453046 -42.84382211 -38.78300196]]\n"
     ]
    },
    {
     "name": "stderr",
     "output_type": "stream",
     "text": [
      "100%|██████████████████████████████████████████████████████████████████████████████████| 50/50 [00:00<00:00, 73.58it/s]\n",
      " 16%|█████████████▎                                                                     | 8/50 [00:00<00:00, 72.26it/s]"
     ]
    },
    {
     "name": "stdout",
     "output_type": "stream",
     "text": [
      "-40.254603404383126\n",
      "[[-36.28745708 -49.58327478 -32.03533962 -41.69799516 -34.32830217\n",
      "  -65.89453046 -42.84382211 -38.78300196]]\n"
     ]
    },
    {
     "name": "stderr",
     "output_type": "stream",
     "text": [
      "100%|██████████████████████████████████████████████████████████████████████████████████| 50/50 [00:00<00:00, 71.46it/s]\n",
      " 14%|███████████▌                                                                       | 7/50 [00:00<00:00, 69.48it/s]"
     ]
    },
    {
     "name": "stdout",
     "output_type": "stream",
     "text": [
      "-40.075852153976115\n",
      "[[-38.98187575 -59.30561958 -33.59703832 -53.24583573 -44.19187133\n",
      "  -82.85989835 -41.70181411 -42.20390431]]\n"
     ]
    },
    {
     "name": "stderr",
     "output_type": "stream",
     "text": [
      "100%|██████████████████████████████████████████████████████████████████████████████████| 50/50 [00:00<00:00, 72.38it/s]\n",
      " 16%|█████████████▎                                                                     | 8/50 [00:00<00:00, 76.40it/s]"
     ]
    },
    {
     "name": "stdout",
     "output_type": "stream",
     "text": [
      "-44.692956098571806\n",
      "[[-36.28745708 -49.58327478 -32.03533962 -41.69799516 -34.32830217\n",
      "  -65.89453046 -42.84382211 -38.78300196]]\n"
     ]
    },
    {
     "name": "stderr",
     "output_type": "stream",
     "text": [
      "100%|██████████████████████████████████████████████████████████████████████████████████| 50/50 [00:00<00:00, 58.16it/s]\n",
      " 16%|█████████████▎                                                                     | 8/50 [00:00<00:00, 72.26it/s]"
     ]
    },
    {
     "name": "stdout",
     "output_type": "stream",
     "text": [
      "-39.88967939609089\n",
      "[[-32.22604615 -43.55372424 -32.64428279 -38.11347698 -23.80038923\n",
      "  -33.36464142 -43.33822793 -37.30605368]]\n"
     ]
    },
    {
     "name": "stderr",
     "output_type": "stream",
     "text": [
      "100%|██████████████████████████████████████████████████████████████████████████████████| 50/50 [00:00<00:00, 71.81it/s]\n",
      " 14%|███████████▌                                                                       | 7/50 [00:00<00:00, 67.16it/s]"
     ]
    },
    {
     "name": "stdout",
     "output_type": "stream",
     "text": [
      "-36.081671504449226\n",
      "[[-32.22604615 -43.55372424 -32.64428279 -38.11347698 -23.80038923\n",
      "  -33.36464142 -43.33822793 -37.30605368]]\n"
     ]
    },
    {
     "name": "stderr",
     "output_type": "stream",
     "text": [
      "100%|██████████████████████████████████████████████████████████████████████████████████| 50/50 [00:00<00:00, 71.77it/s]\n",
      " 14%|███████████▌                                                                       | 7/50 [00:00<00:00, 63.81it/s]"
     ]
    },
    {
     "name": "stdout",
     "output_type": "stream",
     "text": [
      "-35.9545620442357\n",
      "[[-31.26457136 -46.6852422  -31.16890134 -37.59138556 -24.15532369\n",
      "  -37.35359384 -43.61546669 -37.74200152]]\n"
     ]
    },
    {
     "name": "stderr",
     "output_type": "stream",
     "text": [
      "100%|██████████████████████████████████████████████████████████████████████████████████| 50/50 [00:00<00:00, 71.26it/s]\n",
      " 14%|███████████▌                                                                       | 7/50 [00:00<00:00, 68.79it/s]"
     ]
    },
    {
     "name": "stdout",
     "output_type": "stream",
     "text": [
      "-36.15577085618392\n",
      "[[-31.26457136 -46.6852422  -31.16890134 -37.59138556 -24.15532369\n",
      "  -37.35359384 -43.61546669 -37.74200152]]\n"
     ]
    },
    {
     "name": "stderr",
     "output_type": "stream",
     "text": [
      "100%|██████████████████████████████████████████████████████████████████████████████████| 50/50 [00:00<00:00, 70.74it/s]\n",
      " 16%|█████████████▎                                                                     | 8/50 [00:00<00:00, 74.25it/s]"
     ]
    },
    {
     "name": "stdout",
     "output_type": "stream",
     "text": [
      "-36.323747771363564\n",
      "[[-30.33961606 -25.58108113 -34.43784353 -25.46527082 -31.0474209\n",
      "  -19.77484787 -16.8101346  -37.05440365]]\n"
     ]
    },
    {
     "name": "stderr",
     "output_type": "stream",
     "text": [
      "100%|██████████████████████████████████████████████████████████████████████████████████| 50/50 [00:00<00:00, 57.57it/s]\n",
      " 16%|█████████████▎                                                                     | 8/50 [00:00<00:00, 74.27it/s]"
     ]
    },
    {
     "name": "stdout",
     "output_type": "stream",
     "text": [
      "-30.62148134484173\n",
      "[[-30.33961606 -25.58108113 -34.43784353 -25.46527082 -31.0474209\n",
      "  -19.77484787 -16.8101346  -37.05440365]]\n"
     ]
    },
    {
     "name": "stderr",
     "output_type": "stream",
     "text": [
      "100%|██████████████████████████████████████████████████████████████████████████████████| 50/50 [00:00<00:00, 70.41it/s]\n",
      " 16%|█████████████▎                                                                     | 8/50 [00:00<00:00, 71.61it/s]"
     ]
    },
    {
     "name": "stdout",
     "output_type": "stream",
     "text": [
      "-30.531441662955284\n",
      "[[-26.06353839 -21.51573986 -30.14127231 -19.76917502 -20.24235757\n",
      "  -38.45026377 -16.84399479 -34.25426657]]\n"
     ]
    },
    {
     "name": "stderr",
     "output_type": "stream",
     "text": [
      "100%|██████████████████████████████████████████████████████████████████████████████████| 50/50 [00:00<00:00, 69.64it/s]\n",
      " 16%|█████████████▎                                                                     | 8/50 [00:00<00:00, 70.82it/s]"
     ]
    },
    {
     "name": "stdout",
     "output_type": "stream",
     "text": [
      "-28.546912046000255\n",
      "[[-26.06353839 -21.51573986 -30.14127231 -19.76917502 -20.24235757\n",
      "  -38.45026377 -16.84399479 -34.25426657]]\n"
     ]
    },
    {
     "name": "stderr",
     "output_type": "stream",
     "text": [
      "100%|██████████████████████████████████████████████████████████████████████████████████| 50/50 [00:00<00:00, 69.41it/s]\n",
      " 16%|█████████████▎                                                                     | 8/50 [00:00<00:00, 74.97it/s]"
     ]
    },
    {
     "name": "stdout",
     "output_type": "stream",
     "text": [
      "-28.599761241120408\n",
      "[[-36.39709396 -40.30105713 -34.3133603  -45.79585238 -35.79355905\n",
      "  -44.30718524 -32.31558041 -45.5989933 ]]\n"
     ]
    },
    {
     "name": "stderr",
     "output_type": "stream",
     "text": [
      "100%|██████████████████████████████████████████████████████████████████████████████████| 50/50 [00:00<00:00, 54.37it/s]\n",
      " 16%|█████████████▎                                                                     | 8/50 [00:00<00:00, 73.50it/s]"
     ]
    },
    {
     "name": "stdout",
     "output_type": "stream",
     "text": [
      "-40.31808560686794\n",
      "[[-26.06353839 -21.51573986 -30.14127231 -19.76917502 -20.24235757\n",
      "  -38.45026377 -16.84399479 -34.25426657]]\n"
     ]
    },
    {
     "name": "stderr",
     "output_type": "stream",
     "text": [
      "100%|██████████████████████████████████████████████████████████████████████████████████| 50/50 [00:00<00:00, 71.71it/s]\n",
      " 12%|█████████▉                                                                         | 6/50 [00:00<00:00, 56.22it/s]"
     ]
    },
    {
     "name": "stdout",
     "output_type": "stream",
     "text": [
      "-28.531900492353696\n",
      "[[-31.91276193 -34.997514   -33.99487137 -29.26650545 -31.0474209\n",
      "  -27.41422948 -28.14603108 -36.51689186]]\n"
     ]
    },
    {
     "name": "stderr",
     "output_type": "stream",
     "text": [
      "100%|██████████████████████████████████████████████████████████████████████████████████| 50/50 [00:00<00:00, 63.19it/s]\n",
      " 14%|███████████▌                                                                       | 7/50 [00:00<00:00, 67.90it/s]"
     ]
    },
    {
     "name": "stdout",
     "output_type": "stream",
     "text": [
      "-33.098849642371306\n",
      "[[-26.06353839 -21.51573986 -30.14127231 -19.76917502 -20.24235757\n",
      "  -38.45026377 -16.84399479 -34.25426657]]\n"
     ]
    },
    {
     "name": "stderr",
     "output_type": "stream",
     "text": [
      "100%|██████████████████████████████████████████████████████████████████████████████████| 50/50 [00:00<00:00, 69.31it/s]\n",
      " 14%|███████████▌                                                                       | 7/50 [00:00<00:00, 66.22it/s]"
     ]
    },
    {
     "name": "stdout",
     "output_type": "stream",
     "text": [
      "-28.550893641995366\n",
      "[[-28.88782528 -38.88377053 -30.98772682 -35.99073296 -31.79213049\n",
      "  -42.91735446 -24.45598701 -34.22121017]]\n"
     ]
    },
    {
     "name": "stderr",
     "output_type": "stream",
     "text": [
      "100%|██████████████████████████████████████████████████████████████████████████████████| 50/50 [00:00<00:00, 66.51it/s]\n",
      " 16%|█████████████▎                                                                     | 8/50 [00:00<00:00, 76.39it/s]"
     ]
    },
    {
     "name": "stdout",
     "output_type": "stream",
     "text": [
      "-32.880941251296875\n",
      "[[-28.88782528 -38.88377053 -30.98772682 -35.99073296 -31.79213049\n",
      "  -42.91735446 -24.45598701 -34.22121017]]\n"
     ]
    },
    {
     "name": "stderr",
     "output_type": "stream",
     "text": [
      "100%|██████████████████████████████████████████████████████████████████████████████████| 50/50 [00:00<00:00, 55.52it/s]\n",
      " 14%|███████████▌                                                                       | 7/50 [00:00<00:00, 62.67it/s]"
     ]
    },
    {
     "name": "stdout",
     "output_type": "stream",
     "text": [
      "-32.628920336012726\n",
      "[[-28.56572518 -39.38047261 -31.22774472 -32.31138186 -32.64706683\n",
      "  -49.61850877 -26.76633701 -34.02216765]]\n"
     ]
    },
    {
     "name": "stderr",
     "output_type": "stream",
     "text": [
      "100%|██████████████████████████████████████████████████████████████████████████████████| 50/50 [00:00<00:00, 65.08it/s]\n",
      " 14%|███████████▌                                                                       | 7/50 [00:00<00:00, 68.82it/s]"
     ]
    },
    {
     "name": "stdout",
     "output_type": "stream",
     "text": [
      "-33.022604638323315\n",
      "[[-28.88782528 -38.88377053 -30.98772682 -35.99073296 -31.79213049\n",
      "  -42.91735446 -24.45598701 -34.22121017]]\n"
     ]
    },
    {
     "name": "stderr",
     "output_type": "stream",
     "text": [
      "100%|██████████████████████████████████████████████████████████████████████████████████| 50/50 [00:00<00:00, 71.11it/s]\n",
      " 12%|█████████▉                                                                         | 6/50 [00:00<00:00, 53.47it/s]"
     ]
    },
    {
     "name": "stdout",
     "output_type": "stream",
     "text": [
      "-32.49406431138328\n",
      "[[-36.35302989 -43.53228638 -33.41410088 -45.50856701 -35.5005053\n",
      "  -39.12960896 -29.7451931  -45.99851839]]\n"
     ]
    },
    {
     "name": "stderr",
     "output_type": "stream",
     "text": [
      "100%|██████████████████████████████████████████████████████████████████████████████████| 50/50 [00:00<00:00, 63.60it/s]\n",
      " 16%|█████████████▎                                                                     | 8/50 [00:00<00:00, 72.92it/s]"
     ]
    },
    {
     "name": "stdout",
     "output_type": "stream",
     "text": [
      "-39.79232230229074\n",
      "[[-36.35302989 -43.53228638 -33.41410088 -45.50856701 -35.5005053\n",
      "  -39.12960896 -29.7451931  -45.99851839]]\n"
     ]
    },
    {
     "name": "stderr",
     "output_type": "stream",
     "text": [
      "100%|██████████████████████████████████████████████████████████████████████████████████| 50/50 [00:00<00:00, 71.93it/s]\n",
      " 14%|███████████▌                                                                       | 7/50 [00:00<00:00, 64.99it/s]"
     ]
    },
    {
     "name": "stdout",
     "output_type": "stream",
     "text": [
      "-39.82274646172743\n",
      "[[-36.36187061 -24.57188812 -32.22180091 -26.43527612 -28.70030531\n",
      "  -36.05047126 -47.46854887 -42.40635657]]\n"
     ]
    },
    {
     "name": "stderr",
     "output_type": "stream",
     "text": [
      "100%|██████████████████████████████████████████████████████████████████████████████████| 50/50 [00:00<00:00, 54.63it/s]\n",
      " 14%|███████████▌                                                                       | 7/50 [00:00<00:00, 61.03it/s]"
     ]
    },
    {
     "name": "stdout",
     "output_type": "stream",
     "text": [
      "-37.894939240692416\n",
      "[[-36.36187061 -24.57188812 -32.22180091 -26.43527612 -28.70030531\n",
      "  -36.05047126 -47.46854887 -42.40635657]]\n"
     ]
    },
    {
     "name": "stderr",
     "output_type": "stream",
     "text": [
      "100%|██████████████████████████████████████████████████████████████████████████████████| 50/50 [00:00<00:00, 64.27it/s]\n",
      " 14%|███████████▌                                                                       | 7/50 [00:00<00:00, 65.83it/s]"
     ]
    },
    {
     "name": "stdout",
     "output_type": "stream",
     "text": [
      "-37.57432071949126\n",
      "[[-33.07182429 -42.2159057  -33.84598367 -43.28532978 -36.16578508\n",
      "  -32.31597985 -27.12052675 -45.52544126]]\n"
     ]
    },
    {
     "name": "stderr",
     "output_type": "stream",
     "text": [
      "100%|██████████████████████████████████████████████████████████████████████████████████| 50/50 [00:00<00:00, 67.88it/s]\n",
      " 16%|█████████████▎                                                                     | 8/50 [00:00<00:00, 72.14it/s]"
     ]
    },
    {
     "name": "stdout",
     "output_type": "stream",
     "text": [
      "-38.352754225453936\n",
      "[[-33.07182429 -42.2159057  -33.84598367 -43.28532978 -36.16578508\n",
      "  -32.31597985 -27.12052675 -45.52544126]]\n"
     ]
    },
    {
     "name": "stderr",
     "output_type": "stream",
     "text": [
      "100%|██████████████████████████████████████████████████████████████████████████████████| 50/50 [00:00<00:00, 66.85it/s]\n",
      " 14%|███████████▌                                                                       | 7/50 [00:00<00:00, 69.49it/s]"
     ]
    },
    {
     "name": "stdout",
     "output_type": "stream",
     "text": [
      "-38.36677520933509\n",
      "[[-37.67373082 -49.85860354 -36.16287927 -39.23376812 -26.58327224\n",
      "  -38.22529437 -38.35574095 -49.44476017]]\n"
     ]
    },
    {
     "name": "stderr",
     "output_type": "stream",
     "text": [
      "100%|██████████████████████████████████████████████████████████████████████████████████| 50/50 [00:00<00:00, 57.89it/s]\n",
      " 14%|███████████▌                                                                       | 7/50 [00:00<00:00, 63.45it/s]"
     ]
    },
    {
     "name": "stdout",
     "output_type": "stream",
     "text": [
      "-42.14030577097692\n",
      "[[-33.07182429 -42.2159057  -33.84598367 -43.28532978 -36.16578508\n",
      "  -32.31597985 -27.12052675 -45.52544126]]\n"
     ]
    },
    {
     "name": "stderr",
     "output_type": "stream",
     "text": [
      "100%|██████████████████████████████████████████████████████████████████████████████████| 50/50 [00:00<00:00, 65.30it/s]\n",
      " 16%|█████████████▎                                                                     | 8/50 [00:00<00:00, 70.99it/s]"
     ]
    },
    {
     "name": "stdout",
     "output_type": "stream",
     "text": [
      "-38.19203436995378\n",
      "[[-33.69718041 -43.91033912 -35.79688445 -41.79412245 -33.8341045\n",
      "  -38.43680017 -25.91400413 -39.78865366]]\n"
     ]
    },
    {
     "name": "stderr",
     "output_type": "stream",
     "text": [
      "100%|██████████████████████████████████████████████████████████████████████████████████| 50/50 [00:00<00:00, 68.72it/s]\n",
      " 14%|███████████▌                                                                       | 7/50 [00:00<00:00, 66.21it/s]"
     ]
    },
    {
     "name": "stdout",
     "output_type": "stream",
     "text": [
      "-36.430956735797295\n",
      "[[-33.69718041 -43.91033912 -35.79688445 -41.79412245 -33.8341045\n",
      "  -38.43680017 -25.91400413 -39.78865366]]\n"
     ]
    },
    {
     "name": "stderr",
     "output_type": "stream",
     "text": [
      "100%|██████████████████████████████████████████████████████████████████████████████████| 50/50 [00:00<00:00, 66.47it/s]\n",
      " 14%|███████████▌                                                                       | 7/50 [00:00<00:00, 64.99it/s]"
     ]
    },
    {
     "name": "stdout",
     "output_type": "stream",
     "text": [
      "-36.606978099285925\n",
      "[[-32.91999771 -37.63059295 -35.2410917  -36.28115078 -39.24777014\n",
      "  -38.79284972 -44.34475934 -35.17637172]]\n"
     ]
    },
    {
     "name": "stderr",
     "output_type": "stream",
     "text": [
      "100%|██████████████████████████████████████████████████████████████████████████████████| 50/50 [00:00<00:00, 72.05it/s]\n",
      " 16%|█████████████▎                                                                     | 8/50 [00:00<00:00, 70.38it/s]"
     ]
    },
    {
     "name": "stdout",
     "output_type": "stream",
     "text": [
      "-36.863785982055546\n",
      "[[-32.91999771 -37.63059295 -35.2410917  -36.28115078 -39.24777014\n",
      "  -38.79284972 -44.34475934 -35.17637172]]\n"
     ]
    },
    {
     "name": "stderr",
     "output_type": "stream",
     "text": [
      "100%|██████████████████████████████████████████████████████████████████████████████████| 50/50 [00:00<00:00, 58.48it/s]\n",
      " 16%|█████████████▎                                                                     | 8/50 [00:00<00:00, 72.92it/s]"
     ]
    },
    {
     "name": "stdout",
     "output_type": "stream",
     "text": [
      "-36.58349413451085\n",
      "[[-29.18141829 -37.13860256 -32.8986757  -41.17350126 -38.6148428\n",
      "  -38.42699111 -27.19322109 -38.76713761]]\n"
     ]
    },
    {
     "name": "stderr",
     "output_type": "stream",
     "text": [
      "100%|██████████████████████████████████████████████████████████████████████████████████| 50/50 [00:00<00:00, 71.87it/s]\n",
      " 16%|█████████████▎                                                                     | 8/50 [00:00<00:00, 73.87it/s]"
     ]
    },
    {
     "name": "stdout",
     "output_type": "stream",
     "text": [
      "-35.629006590769265\n",
      "[[-29.18141829 -37.13860256 -32.8986757  -41.17350126 -38.6148428\n",
      "  -38.42699111 -27.19322109 -38.76713761]]\n"
     ]
    },
    {
     "name": "stderr",
     "output_type": "stream",
     "text": [
      "100%|██████████████████████████████████████████████████████████████████████████████████| 50/50 [00:00<00:00, 71.25it/s]\n",
      " 16%|█████████████▎                                                                     | 8/50 [00:00<00:00, 75.67it/s]"
     ]
    },
    {
     "name": "stdout",
     "output_type": "stream",
     "text": [
      "-35.37698861576746\n",
      "[[-37.83096822 -52.58091293 -35.33867857 -43.14253569 -38.6148428\n",
      "  -46.71649201 -28.53740711 -41.64531209]]\n"
     ]
    },
    {
     "name": "stderr",
     "output_type": "stream",
     "text": [
      "100%|██████████████████████████████████████████████████████████████████████████████████| 50/50 [00:00<00:00, 72.60it/s]\n",
      " 14%|███████████▌                                                                       | 7/50 [00:00<00:00, 68.40it/s]"
     ]
    },
    {
     "name": "stdout",
     "output_type": "stream",
     "text": [
      "-39.32522520407535\n",
      "[[-37.83096822 -52.58091293 -35.33867857 -43.14253569 -38.6148428\n",
      "  -46.71649201 -28.53740711 -41.64531209]]\n"
     ]
    },
    {
     "name": "stderr",
     "output_type": "stream",
     "text": [
      "100%|██████████████████████████████████████████████████████████████████████████████████| 50/50 [00:00<00:00, 71.95it/s]\n",
      " 16%|█████████████▎                                                                     | 8/50 [00:00<00:00, 74.99it/s]"
     ]
    },
    {
     "name": "stdout",
     "output_type": "stream",
     "text": [
      "-39.418774406418414\n",
      "[[-30.17852514 -24.31573351 -30.44734659 -29.31238097 -30.78687601\n",
      "  -46.67864078 -30.91982879 -30.77219351]]\n"
     ]
    },
    {
     "name": "stderr",
     "output_type": "stream",
     "text": [
      "100%|██████████████████████████████████████████████████████████████████████████████████| 50/50 [00:00<00:00, 58.50it/s]\n",
      " 16%|█████████████▎                                                                     | 8/50 [00:00<00:00, 74.97it/s]"
     ]
    },
    {
     "name": "stdout",
     "output_type": "stream",
     "text": [
      "-31.21044835587173\n",
      "[[-30.17852514 -24.31573351 -30.44734659 -29.31238097 -30.78687601\n",
      "  -46.67864078 -30.91982879 -30.77219351]]\n"
     ]
    },
    {
     "name": "stderr",
     "output_type": "stream",
     "text": [
      "100%|██████████████████████████████████████████████████████████████████████████████████| 50/50 [00:00<00:00, 72.45it/s]\n",
      " 18%|██████████████▉                                                                    | 9/50 [00:00<00:00, 81.28it/s]"
     ]
    },
    {
     "name": "stdout",
     "output_type": "stream",
     "text": [
      "-31.38922233413054\n",
      "[[-34.91883824 -38.37641995 -32.51799217 -36.41420084 -32.74853697\n",
      "  -39.11924667 -45.57918441 -40.72993183]]\n"
     ]
    },
    {
     "name": "stderr",
     "output_type": "stream",
     "text": [
      "100%|██████████████████████████████████████████████████████████████████████████████████| 50/50 [00:00<00:00, 75.16it/s]\n",
      " 16%|█████████████▎                                                                     | 8/50 [00:00<00:00, 70.98it/s]"
     ]
    },
    {
     "name": "stdout",
     "output_type": "stream",
     "text": [
      "-38.5168997376619\n",
      "[[-30.17852514 -24.31573351 -30.44734659 -29.31238097 -30.78687601\n",
      "  -46.67864078 -30.91982879 -30.77219351]]\n"
     ]
    },
    {
     "name": "stderr",
     "output_type": "stream",
     "text": [
      "100%|██████████████████████████████████████████████████████████████████████████████████| 50/50 [00:00<00:00, 68.36it/s]\n",
      " 16%|█████████████▎                                                                     | 8/50 [00:00<00:00, 74.97it/s]"
     ]
    },
    {
     "name": "stdout",
     "output_type": "stream",
     "text": [
      "-31.683085608129204\n",
      "[[-33.53850303 -28.36950182 -32.32096692 -26.00460024 -25.35769898\n",
      "  -31.14726328 -47.72669693 -41.18028564]]\n"
     ]
    },
    {
     "name": "stderr",
     "output_type": "stream",
     "text": [
      "100%|██████████████████████████████████████████████████████████████████████████████████| 50/50 [00:00<00:00, 71.83it/s]\n",
      "  0%|                                                                                           | 0/50 [00:00<?, ?it/s]"
     ]
    },
    {
     "name": "stdout",
     "output_type": "stream",
     "text": [
      "-36.735764036506474\n",
      "[[-30.17852514 -24.31573351 -30.44734659 -29.31238097 -30.78687601\n",
      "  -46.67864078 -30.91982879 -30.77219351]]\n"
     ]
    },
    {
     "name": "stderr",
     "output_type": "stream",
     "text": [
      "100%|██████████████████████████████████████████████████████████████████████████████████| 50/50 [00:00<00:00, 57.31it/s]\n",
      " 16%|█████████████▎                                                                     | 8/50 [00:00<00:00, 73.59it/s]"
     ]
    },
    {
     "name": "stdout",
     "output_type": "stream",
     "text": [
      "-31.493906625146703\n",
      "[[-34.26965326 -30.27335079 -31.90072614 -34.44744253 -30.78687601\n",
      "  -52.23660832 -42.95896074 -35.0102223 ]]\n"
     ]
    },
    {
     "name": "stderr",
     "output_type": "stream",
     "text": [
      "100%|██████████████████████████████████████████████████████████████████████████████████| 50/50 [00:00<00:00, 73.78it/s]\n",
      " 14%|███████████▌                                                                       | 7/50 [00:00<00:00, 68.12it/s]"
     ]
    },
    {
     "name": "stdout",
     "output_type": "stream",
     "text": [
      "-35.96774704808583\n",
      "[[-30.17852514 -24.31573351 -30.44734659 -29.31238097 -30.78687601\n",
      "  -46.67864078 -30.91982879 -30.77219351]]\n"
     ]
    },
    {
     "name": "stderr",
     "output_type": "stream",
     "text": [
      "100%|██████████████████████████████████████████████████████████████████████████████████| 50/50 [00:00<00:00, 66.75it/s]\n",
      " 16%|█████████████▎                                                                     | 8/50 [00:00<00:00, 70.36it/s]"
     ]
    },
    {
     "name": "stdout",
     "output_type": "stream",
     "text": [
      "-31.352120501814998\n",
      "[[-30.17852514 -24.31573351 -30.44734659 -29.31238097 -30.78687601\n",
      "  -46.67864078 -30.91982879 -30.77219351]]\n"
     ]
    },
    {
     "name": "stderr",
     "output_type": "stream",
     "text": [
      "100%|██████████████████████████████████████████████████████████████████████████████████| 50/50 [00:00<00:00, 69.77it/s]\n",
      " 14%|███████████▌                                                                       | 7/50 [00:00<00:00, 59.48it/s]"
     ]
    },
    {
     "name": "stdout",
     "output_type": "stream",
     "text": [
      "-31.471134610677463\n",
      "[[-36.70860778 -36.56987577 -33.27425806 -35.22187024 -30.78687601\n",
      "  -12.06944467 -29.69613492 -38.75233483]]\n"
     ]
    },
    {
     "name": "stderr",
     "output_type": "stream",
     "text": [
      "100%|██████████████████████████████████████████████████████████████████████████████████| 50/50 [00:00<00:00, 54.76it/s]\n",
      " 14%|███████████▌                                                                       | 7/50 [00:00<00:00, 68.53it/s]"
     ]
    },
    {
     "name": "stdout",
     "output_type": "stream",
     "text": [
      "-33.78993771955265\n",
      "[[-30.17852514 -24.31573351 -30.44734659 -29.31238097 -30.78687601\n",
      "  -46.67864078 -30.91982879 -30.77219351]]\n"
     ]
    },
    {
     "name": "stderr",
     "output_type": "stream",
     "text": [
      "100%|██████████████████████████████████████████████████████████████████████████████████| 50/50 [00:00<00:00, 71.54it/s]\n",
      " 16%|█████████████▎                                                                     | 8/50 [00:00<00:00, 72.25it/s]"
     ]
    },
    {
     "name": "stdout",
     "output_type": "stream",
     "text": [
      "-31.44990940945546\n",
      "[[-32.69104162 -37.0927426  -34.65182128 -40.4336673  -30.05180497\n",
      "  -28.25054703 -44.07132821 -36.93760196]]\n"
     ]
    },
    {
     "name": "stderr",
     "output_type": "stream",
     "text": [
      "100%|██████████████████████████████████████████████████████████████████████████████████| 50/50 [00:00<00:00, 71.87it/s]\n",
      " 16%|█████████████▎                                                                     | 8/50 [00:00<00:00, 74.98it/s]"
     ]
    },
    {
     "name": "stdout",
     "output_type": "stream",
     "text": [
      "-36.34689992126044\n",
      "[[-30.17852514 -24.31573351 -30.44734659 -29.31238097 -30.78687601\n",
      "  -46.67864078 -30.91982879 -30.77219351]]\n"
     ]
    },
    {
     "name": "stderr",
     "output_type": "stream",
     "text": [
      "100%|██████████████████████████████████████████████████████████████████████████████████| 50/50 [00:00<00:00, 74.13it/s]\n",
      " 16%|█████████████▎                                                                     | 8/50 [00:00<00:00, 74.97it/s]"
     ]
    },
    {
     "name": "stdout",
     "output_type": "stream",
     "text": [
      "-30.92868828854721\n",
      "[[-29.07045498 -42.09636565 -29.95609804 -39.9575975  -28.39430297\n",
      "  -42.71454083 -26.92221245 -28.35560574]]\n"
     ]
    },
    {
     "name": "stderr",
     "output_type": "stream",
     "text": [
      "100%|██████████████████████████████████████████████████████████████████████████████████| 50/50 [00:00<00:00, 72.97it/s]\n",
      " 16%|█████████████▎                                                                     | 8/50 [00:00<00:00, 77.13it/s]"
     ]
    },
    {
     "name": "stdout",
     "output_type": "stream",
     "text": [
      "-30.353636125370976\n",
      "[[-29.07045498 -42.09636565 -29.95609804 -39.9575975  -28.39430297\n",
      "  -42.71454083 -26.92221245 -28.35560574]]\n"
     ]
    },
    {
     "name": "stderr",
     "output_type": "stream",
     "text": [
      "100%|██████████████████████████████████████████████████████████████████████████████████| 50/50 [00:00<00:00, 56.69it/s]\n",
      " 14%|███████████▌                                                                       | 7/50 [00:00<00:00, 69.49it/s]"
     ]
    },
    {
     "name": "stdout",
     "output_type": "stream",
     "text": [
      "-30.888718900670938\n",
      "[[-30.53208028 -33.94259028 -29.97561613 -31.44143465 -29.68442042\n",
      "  -31.5606754  -29.80645158 -35.40095492]]\n"
     ]
    },
    {
     "name": "stderr",
     "output_type": "stream",
     "text": [
      "100%|██████████████████████████████████████████████████████████████████████████████████| 50/50 [00:00<00:00, 69.00it/s]\n",
      " 16%|█████████████▎                                                                     | 8/50 [00:00<00:00, 71.30it/s]"
     ]
    },
    {
     "name": "stdout",
     "output_type": "stream",
     "text": [
      "-32.5357401538229\n",
      "[[-30.53208028 -33.94259028 -29.97561613 -31.44143465 -29.68442042\n",
      "  -31.5606754  -29.80645158 -35.40095492]]\n"
     ]
    },
    {
     "name": "stderr",
     "output_type": "stream",
     "text": [
      "100%|██████████████████████████████████████████████████████████████████████████████████| 50/50 [00:00<00:00, 71.99it/s]\n",
      " 16%|█████████████▎                                                                     | 8/50 [00:00<00:00, 74.58it/s]"
     ]
    },
    {
     "name": "stdout",
     "output_type": "stream",
     "text": [
      "-32.38343552985819\n",
      "[[-36.59118577 -42.9371801  -36.57525615 -42.98925642 -38.67821172\n",
      "  -24.86471766 -45.03090582 -34.15522086]]\n"
     ]
    },
    {
     "name": "stderr",
     "output_type": "stream",
     "text": [
      "100%|██████████████████████████████████████████████████████████████████████████████████| 50/50 [00:00<00:00, 72.88it/s]\n",
      " 16%|█████████████▎                                                                     | 8/50 [00:00<00:00, 79.42it/s]"
     ]
    },
    {
     "name": "stdout",
     "output_type": "stream",
     "text": [
      "-36.72386751784102\n",
      "[[-36.59118577 -42.9371801  -36.57525615 -42.98925642 -38.67821172\n",
      "  -24.86471766 -45.03090582 -34.15522086]]\n"
     ]
    },
    {
     "name": "stderr",
     "output_type": "stream",
     "text": [
      "100%|██████████████████████████████████████████████████████████████████████████████████| 50/50 [00:00<00:00, 72.39it/s]\n",
      " 14%|███████████▌                                                                       | 7/50 [00:00<00:00, 65.60it/s]"
     ]
    },
    {
     "name": "stdout",
     "output_type": "stream",
     "text": [
      "-36.75016110624516\n",
      "[[-29.2296855  -42.08785916 -32.99638788 -35.73095513 -28.39430297\n",
      "  -42.3954455  -27.14769177 -30.75772629]]\n"
     ]
    },
    {
     "name": "stderr",
     "output_type": "stream",
     "text": [
      "100%|██████████████████████████████████████████████████████████████████████████████████| 50/50 [00:00<00:00, 51.92it/s]\n",
      " 16%|█████████████▎                                                                     | 8/50 [00:00<00:00, 74.28it/s]"
     ]
    },
    {
     "name": "stdout",
     "output_type": "stream",
     "text": [
      "-31.774435870583908\n",
      "[[-29.2296855  -42.08785916 -32.99638788 -35.73095513 -28.39430297\n",
      "  -42.3954455  -27.14769177 -30.75772629]]\n"
     ]
    },
    {
     "name": "stderr",
     "output_type": "stream",
     "text": [
      "100%|██████████████████████████████████████████████████████████████████████████████████| 50/50 [00:00<00:00, 64.15it/s]\n",
      " 14%|███████████▌                                                                       | 7/50 [00:00<00:00, 65.60it/s]"
     ]
    },
    {
     "name": "stdout",
     "output_type": "stream",
     "text": [
      "-31.696159920475516\n",
      "[[-32.47390897 -43.84555859 -33.57173604 -37.99290907 -29.57159519\n",
      "  -33.06382032 -44.90803134 -25.11908065]]\n"
     ]
    },
    {
     "name": "stderr",
     "output_type": "stream",
     "text": [
      "100%|██████████████████████████████████████████████████████████████████████████████████| 50/50 [00:00<00:00, 66.85it/s]\n",
      " 14%|███████████▌                                                                       | 7/50 [00:00<00:00, 66.22it/s]"
     ]
    },
    {
     "name": "stdout",
     "output_type": "stream",
     "text": [
      "-31.85317921779966\n",
      "[[-32.47390897 -43.84555859 -33.57173604 -37.99290907 -29.57159519\n",
      "  -33.06382032 -44.90803134 -25.11908065]]\n"
     ]
    },
    {
     "name": "stderr",
     "output_type": "stream",
     "text": [
      "100%|██████████████████████████████████████████████████████████████████████████████████| 50/50 [00:00<00:00, 67.41it/s]\n",
      " 14%|███████████▌                                                                       | 7/50 [00:00<00:00, 69.16it/s]"
     ]
    },
    {
     "name": "stdout",
     "output_type": "stream",
     "text": [
      "-32.053589054363115\n",
      "[[-31.47589469 -29.76446301 -34.02906742 -29.66556316 -24.08048704\n",
      "   -4.84337767 -23.98683932 -34.51578678]]\n"
     ]
    },
    {
     "name": "stderr",
     "output_type": "stream",
     "text": [
      "100%|██████████████████████████████████████████████████████████████████████████████████| 50/50 [00:00<00:00, 67.07it/s]\n",
      " 16%|█████████████▎                                                                     | 8/50 [00:00<00:00, 74.95it/s]"
     ]
    },
    {
     "name": "stdout",
     "output_type": "stream",
     "text": [
      "-30.133274376969837\n",
      "[[-31.47589469 -29.76446301 -34.02906742 -29.66556316 -24.08048704\n",
      "   -4.84337767 -23.98683932 -34.51578678]]\n"
     ]
    },
    {
     "name": "stderr",
     "output_type": "stream",
     "text": [
      "100%|██████████████████████████████████████████████████████████████████████████████████| 50/50 [00:00<00:00, 54.37it/s]\n",
      " 14%|███████████▌                                                                       | 7/50 [00:00<00:00, 67.48it/s]"
     ]
    },
    {
     "name": "stdout",
     "output_type": "stream",
     "text": [
      "-29.68445612696918\n",
      "[[-32.66604079 -38.16879704 -34.28500056 -38.24895412 -33.62725934\n",
      "  -25.58441924 -45.61524078 -34.87792209]]\n"
     ]
    },
    {
     "name": "stderr",
     "output_type": "stream",
     "text": [
      "100%|██████████████████████████████████████████████████████████████████████████████████| 50/50 [00:00<00:00, 68.81it/s]\n",
      " 16%|█████████████▎                                                                     | 8/50 [00:00<00:00, 70.34it/s]"
     ]
    },
    {
     "name": "stdout",
     "output_type": "stream",
     "text": [
      "-35.58591483949744\n",
      "[[-31.47589469 -29.76446301 -34.02906742 -29.66556316 -24.08048704\n",
      "   -4.84337767 -23.98683932 -34.51578678]]\n"
     ]
    },
    {
     "name": "stderr",
     "output_type": "stream",
     "text": [
      "100%|██████████████████████████████████████████████████████████████████████████████████| 50/50 [00:00<00:00, 66.42it/s]\n",
      " 16%|█████████████▎                                                                     | 8/50 [00:00<00:00, 73.61it/s]"
     ]
    },
    {
     "name": "stdout",
     "output_type": "stream",
     "text": [
      "-29.75032415870058\n",
      "[[-33.60677921 -50.84388654 -33.55661973 -48.35618808 -37.99987947\n",
      "  -51.84714447 -32.8784974  -37.7996031 ]]\n"
     ]
    },
    {
     "name": "stderr",
     "output_type": "stream",
     "text": [
      "100%|██████████████████████████████████████████████████████████████████████████████████| 50/50 [00:00<00:00, 71.42it/s]\n",
      " 14%|███████████▌                                                                       | 7/50 [00:00<00:00, 64.39it/s]"
     ]
    },
    {
     "name": "stdout",
     "output_type": "stream",
     "text": [
      "-38.29485128922459\n",
      "[[-31.47589469 -29.76446301 -34.02906742 -29.66556316 -24.08048704\n",
      "   -4.84337767 -23.98683932 -34.51578678]]\n"
     ]
    },
    {
     "name": "stderr",
     "output_type": "stream",
     "text": [
      "100%|██████████████████████████████████████████████████████████████████████████████████| 50/50 [00:00<00:00, 53.22it/s]\n",
      " 14%|███████████▌                                                                       | 7/50 [00:00<00:00, 66.83it/s]"
     ]
    },
    {
     "name": "stdout",
     "output_type": "stream",
     "text": [
      "-29.541853785567394\n",
      "[[-32.45174513 -36.67221534 -28.5853646  -43.45470226 -26.46305278\n",
      "  -53.91847642 -44.02437441 -36.94923771]]\n"
     ]
    },
    {
     "name": "stderr",
     "output_type": "stream",
     "text": [
      "100%|██████████████████████████████████████████████████████████████████████████████████| 50/50 [00:00<00:00, 52.97it/s]\n",
      " 10%|████████▎                                                                          | 5/50 [00:00<00:00, 47.47it/s]"
     ]
    },
    {
     "name": "stdout",
     "output_type": "stream",
     "text": [
      "-36.647200693798474\n",
      "[[-31.47589469 -29.76446301 -34.02906742 -29.66556316 -24.08048704\n",
      "   -4.84337767 -23.98683932 -34.51578678]]\n"
     ]
    },
    {
     "name": "stderr",
     "output_type": "stream",
     "text": [
      "100%|██████████████████████████████████████████████████████████████████████████████████| 50/50 [00:00<00:00, 63.50it/s]\n",
      " 14%|███████████▌                                                                       | 7/50 [00:00<00:00, 69.49it/s]"
     ]
    },
    {
     "name": "stdout",
     "output_type": "stream",
     "text": [
      "-29.402891195114474\n",
      "[[-36.76042638 -43.00045775 -33.5640371  -46.67550979 -29.81417509\n",
      "  -53.86869901 -38.99337556 -40.65624396]]\n"
     ]
    },
    {
     "name": "stderr",
     "output_type": "stream",
     "text": [
      "100%|██████████████████████████████████████████████████████████████████████████████████| 50/50 [00:00<00:00, 66.87it/s]\n",
      " 14%|███████████▌                                                                       | 7/50 [00:00<00:00, 64.68it/s]"
     ]
    },
    {
     "name": "stdout",
     "output_type": "stream",
     "text": [
      "-39.72068988033304\n",
      "[[-31.47589469 -29.76446301 -34.02906742 -29.66556316 -24.08048704\n",
      "   -4.84337767 -23.98683932 -34.51578678]]\n"
     ]
    },
    {
     "name": "stderr",
     "output_type": "stream",
     "text": [
      "100%|██████████████████████████████████████████████████████████████████████████████████| 50/50 [00:00<00:00, 67.52it/s]\n",
      " 14%|███████████▌                                                                       | 7/50 [00:00<00:00, 65.60it/s]"
     ]
    },
    {
     "name": "stdout",
     "output_type": "stream",
     "text": [
      "-29.735786449700182\n",
      "[[-30.81799808 -43.4276371  -34.54140021 -38.31449938 -36.60418851\n",
      "  -40.2864718  -31.23927543 -28.8844837 ]]\n"
     ]
    },
    {
     "name": "stderr",
     "output_type": "stream",
     "text": [
      "100%|██████████████████████████████████████████████████████████████████████████████████| 50/50 [00:00<00:00, 58.37it/s]\n",
      " 18%|██████████████▉                                                                    | 9/50 [00:00<00:00, 81.30it/s]"
     ]
    },
    {
     "name": "stdout",
     "output_type": "stream",
     "text": [
      "-32.63673285809679\n",
      "[[-31.47589469 -29.76446301 -34.02906742 -29.66556316 -24.08048704\n",
      "   -4.84337767 -23.98683932 -34.51578678]]\n"
     ]
    },
    {
     "name": "stderr",
     "output_type": "stream",
     "text": [
      "100%|██████████████████████████████████████████████████████████████████████████████████| 50/50 [00:00<00:00, 67.84it/s]\n",
      " 14%|███████████▌                                                                       | 7/50 [00:00<00:00, 67.54it/s]"
     ]
    },
    {
     "name": "stdout",
     "output_type": "stream",
     "text": [
      "-29.733249923776025\n",
      "[[-35.54952044 -34.54002486 -33.79009999 -44.65014366 -33.20668267\n",
      "  -33.8950524  -28.52993903 -46.22546298]]\n"
     ]
    },
    {
     "name": "stderr",
     "output_type": "stream",
     "text": [
      "100%|██████████████████████████████████████████████████████████████████████████████████| 50/50 [00:00<00:00, 56.45it/s]\n",
      " 16%|█████████████▎                                                                     | 8/50 [00:00<00:00, 74.97it/s]"
     ]
    },
    {
     "name": "stdout",
     "output_type": "stream",
     "text": [
      "-38.7883057173518\n",
      "[[-35.54952044 -34.54002486 -33.79009999 -44.65014366 -33.20668267\n",
      "  -33.8950524  -28.52993903 -46.22546298]]\n"
     ]
    },
    {
     "name": "stderr",
     "output_type": "stream",
     "text": [
      "100%|██████████████████████████████████████████████████████████████████████████████████| 50/50 [00:00<00:00, 72.45it/s]\n",
      " 14%|███████████▌                                                                       | 7/50 [00:00<00:00, 61.58it/s]"
     ]
    },
    {
     "name": "stdout",
     "output_type": "stream",
     "text": [
      "-38.972245297545975\n",
      "[[-33.29424688 -31.34542023 -32.50780571 -37.98833671 -32.64506602\n",
      "  -69.09688762 -31.62797925 -34.87830221]]\n"
     ]
    },
    {
     "name": "stderr",
     "output_type": "stream",
     "text": [
      "100%|██████████████████████████████████████████████████████████████████████████████████| 50/50 [00:00<00:00, 68.03it/s]\n",
      " 14%|███████████▌                                                                       | 7/50 [00:00<00:00, 68.12it/s]"
     ]
    },
    {
     "name": "stdout",
     "output_type": "stream",
     "text": [
      "-36.26561819313112\n",
      "[[-33.29424688 -31.34542023 -32.50780571 -37.98833671 -32.64506602\n",
      "  -69.09688762 -31.62797925 -34.87830221]]\n"
     ]
    },
    {
     "name": "stderr",
     "output_type": "stream",
     "text": [
      "100%|██████████████████████████████████████████████████████████████████████████████████| 50/50 [00:00<00:00, 56.23it/s]\n",
      " 16%|█████████████▎                                                                     | 8/50 [00:00<00:00, 75.63it/s]"
     ]
    },
    {
     "name": "stdout",
     "output_type": "stream",
     "text": [
      "-36.15112669706281\n",
      "[[-29.13924985 -32.26461343 -30.55549316 -32.18326024 -27.08131204\n",
      "  -47.60627543 -27.29804925 -34.27054524]]\n"
     ]
    },
    {
     "name": "stderr",
     "output_type": "stream",
     "text": [
      "100%|██████████████████████████████████████████████████████████████████████████████████| 50/50 [00:00<00:00, 67.52it/s]\n",
      " 14%|███████████▌                                                                       | 7/50 [00:00<00:00, 63.81it/s]"
     ]
    },
    {
     "name": "stdout",
     "output_type": "stream",
     "text": [
      "-32.24326547177115\n",
      "[[-29.13924985 -32.26461343 -30.55549316 -32.18326024 -27.08131204\n",
      "  -47.60627543 -27.29804925 -34.27054524]]\n"
     ]
    },
    {
     "name": "stderr",
     "output_type": "stream",
     "text": [
      "100%|██████████████████████████████████████████████████████████████████████████████████| 50/50 [00:00<00:00, 68.12it/s]\n",
      " 14%|███████████▌                                                                       | 7/50 [00:00<00:00, 69.49it/s]"
     ]
    },
    {
     "name": "stdout",
     "output_type": "stream",
     "text": [
      "-32.496045058746354\n",
      "[[-34.86577277 -32.04904447 -35.76103906 -33.00774235 -35.13353583\n",
      "  -26.00670899 -39.59172675 -35.01810542]]\n"
     ]
    },
    {
     "name": "stderr",
     "output_type": "stream",
     "text": [
      "100%|██████████████████████████████████████████████████████████████████████████████████| 50/50 [00:00<00:00, 68.54it/s]\n",
      " 14%|███████████▌                                                                       | 7/50 [00:00<00:00, 65.60it/s]"
     ]
    },
    {
     "name": "stdout",
     "output_type": "stream",
     "text": [
      "-34.998471604342235\n",
      "[[-29.13924985 -32.26461343 -30.55549316 -32.18326024 -27.08131204\n",
      "  -47.60627543 -27.29804925 -34.27054524]]\n"
     ]
    },
    {
     "name": "stderr",
     "output_type": "stream",
     "text": [
      "100%|██████████████████████████████████████████████████████████████████████████████████| 50/50 [00:01<00:00, 48.21it/s]\n",
      " 14%|███████████▌                                                                       | 7/50 [00:00<00:00, 59.48it/s]"
     ]
    },
    {
     "name": "stdout",
     "output_type": "stream",
     "text": [
      "-32.68445824151067\n",
      "[[-27.42119609 -48.78042443 -31.54706183 -44.49083814 -33.86350805\n",
      "  -58.37044077 -16.71128223 -34.89965861]]\n"
     ]
    },
    {
     "name": "stderr",
     "output_type": "stream",
     "text": [
      "100%|██████████████████████████████████████████████████████████████████████████████████| 50/50 [00:00<00:00, 60.30it/s]\n",
      " 14%|███████████▌                                                                       | 7/50 [00:00<00:00, 62.67it/s]"
     ]
    },
    {
     "name": "stdout",
     "output_type": "stream",
     "text": [
      "-33.74079196434468\n",
      "[[-29.13924985 -32.26461343 -30.55549316 -32.18326024 -27.08131204\n",
      "  -47.60627543 -27.29804925 -34.27054524]]\n"
     ]
    },
    {
     "name": "stderr",
     "output_type": "stream",
     "text": [
      "100%|██████████████████████████████████████████████████████████████████████████████████| 50/50 [00:00<00:00, 61.44it/s]\n",
      " 14%|███████████▌                                                                       | 7/50 [00:00<00:00, 53.58it/s]"
     ]
    },
    {
     "name": "stdout",
     "output_type": "stream",
     "text": [
      "-32.64580395284264\n",
      "[[-30.23269492 -31.44945332 -32.33218138 -29.2328213  -28.62900938\n",
      "  -37.90808588 -25.83457146 -30.51624413]]\n"
     ]
    },
    {
     "name": "stderr",
     "output_type": "stream",
     "text": [
      "100%|██████████████████████████████████████████████████████████████████████████████████| 50/50 [00:00<00:00, 54.73it/s]\n",
      " 14%|███████████▌                                                                       | 7/50 [00:00<00:00, 49.78it/s]"
     ]
    },
    {
     "name": "stdout",
     "output_type": "stream",
     "text": [
      "-30.21859480899804\n",
      "[[-30.23269492 -31.44945332 -32.33218138 -29.2328213  -28.62900938\n",
      "  -37.90808588 -25.83457146 -30.51624413]]\n"
     ]
    },
    {
     "name": "stderr",
     "output_type": "stream",
     "text": [
      "100%|██████████████████████████████████████████████████████████████████████████████████| 50/50 [00:00<00:00, 58.26it/s]\n",
      " 14%|███████████▌                                                                       | 7/50 [00:00<00:00, 69.12it/s]"
     ]
    },
    {
     "name": "stdout",
     "output_type": "stream",
     "text": [
      "-30.775055638064096\n",
      "[[-35.66177733 -41.19590342 -35.52359205 -46.41177201 -33.20668267\n",
      "  -34.7101472  -28.67055447 -40.70151298]]\n"
     ]
    },
    {
     "name": "stderr",
     "output_type": "stream",
     "text": [
      "100%|██████████████████████████████████████████████████████████████████████████████████| 50/50 [00:00<00:00, 58.81it/s]\n",
      " 14%|███████████▌                                                                       | 7/50 [00:00<00:00, 65.60it/s]"
     ]
    },
    {
     "name": "stdout",
     "output_type": "stream",
     "text": [
      "-37.457428350825104\n",
      "[[-35.66177733 -41.19590342 -35.52359205 -46.41177201 -33.20668267\n",
      "  -34.7101472  -28.67055447 -40.70151298]]\n"
     ]
    },
    {
     "name": "stderr",
     "output_type": "stream",
     "text": [
      "100%|██████████████████████████████████████████████████████████████████████████████████| 50/50 [00:00<00:00, 68.02it/s]\n",
      " 14%|███████████▌                                                                       | 7/50 [00:00<00:00, 69.50it/s]"
     ]
    },
    {
     "name": "stdout",
     "output_type": "stream",
     "text": [
      "-37.331947183377736\n",
      "[[-39.38132195 -47.24719614 -35.3374693  -54.80541279 -33.20668267\n",
      "  -64.23991429 -27.56063972 -46.13565994]]\n"
     ]
    },
    {
     "name": "stderr",
     "output_type": "stream",
     "text": [
      "100%|██████████████████████████████████████████████████████████████████████████████████| 50/50 [00:00<00:00, 65.05it/s]\n",
      " 12%|█████████▉                                                                         | 6/50 [00:00<00:00, 58.41it/s]"
     ]
    },
    {
     "name": "stdout",
     "output_type": "stream",
     "text": [
      "-42.502664827364526\n",
      "[[-35.66177733 -41.19590342 -35.52359205 -46.41177201 -33.20668267\n",
      "  -34.7101472  -28.67055447 -40.70151298]]\n"
     ]
    },
    {
     "name": "stderr",
     "output_type": "stream",
     "text": [
      "100%|██████████████████████████████████████████████████████████████████████████████████| 50/50 [00:00<00:00, 61.82it/s]\n",
      "  6%|████▉                                                                              | 3/50 [00:00<00:01, 25.61it/s]"
     ]
    },
    {
     "name": "stdout",
     "output_type": "stream",
     "text": [
      "-37.42814474538099\n",
      "[[-34.48552323 -36.6468681  -34.52744095 -40.1789929  -33.20668267\n",
      "  -37.92292802 -29.03235886 -37.65227375]]\n"
     ]
    },
    {
     "name": "stderr",
     "output_type": "stream",
     "text": [
      "100%|██████████████████████████████████████████████████████████████████████████████████| 50/50 [00:01<00:00, 44.96it/s]\n",
      " 14%|███████████▌                                                                       | 7/50 [00:00<00:00, 67.49it/s]"
     ]
    },
    {
     "name": "stdout",
     "output_type": "stream",
     "text": [
      "-35.63564897164998\n",
      "[[-34.48552323 -36.6468681  -34.52744095 -40.1789929  -33.20668267\n",
      "  -37.92292802 -29.03235886 -37.65227375]]\n"
     ]
    },
    {
     "name": "stderr",
     "output_type": "stream",
     "text": [
      "100%|██████████████████████████████████████████████████████████████████████████████████| 50/50 [00:00<00:00, 65.47it/s]\n",
      " 14%|███████████▌                                                                       | 7/50 [00:00<00:00, 60.71it/s]"
     ]
    },
    {
     "name": "stdout",
     "output_type": "stream",
     "text": [
      "-35.525302312660585\n",
      "[[-35.16629912 -29.33098918 -34.82518504 -27.76717151 -23.78158793\n",
      "  -26.39889882 -39.56881718 -39.63992852]]\n"
     ]
    },
    {
     "name": "stderr",
     "output_type": "stream",
     "text": [
      "100%|██████████████████████████████████████████████████████████████████████████████████| 50/50 [00:00<00:00, 62.99it/s]\n",
      " 16%|█████████████▎                                                                     | 8/50 [00:00<00:00, 72.24it/s]"
     ]
    },
    {
     "name": "stdout",
     "output_type": "stream",
     "text": [
      "-35.35659144880162\n",
      "[[-35.16629912 -29.33098918 -34.82518504 -27.76717151 -23.78158793\n",
      "  -26.39889882 -39.56881718 -39.63992852]]\n"
     ]
    },
    {
     "name": "stderr",
     "output_type": "stream",
     "text": [
      "100%|██████████████████████████████████████████████████████████████████████████████████| 50/50 [00:00<00:00, 63.06it/s]\n",
      " 16%|█████████████▎                                                                     | 8/50 [00:00<00:00, 74.62it/s]"
     ]
    },
    {
     "name": "stdout",
     "output_type": "stream",
     "text": [
      "-35.08827566057944\n",
      "[[-38.90996839 -32.50455115 -35.31717656 -30.76248302 -23.78158793\n",
      "  -20.30174272 -41.08068088 -39.6570714 ]]\n"
     ]
    },
    {
     "name": "stderr",
     "output_type": "stream",
     "text": [
      "100%|██████████████████████████████████████████████████████████████████████████████████| 50/50 [00:00<00:00, 62.82it/s]\n",
      " 16%|█████████████▎                                                                     | 8/50 [00:00<00:00, 67.98it/s]"
     ]
    },
    {
     "name": "stdout",
     "output_type": "stream",
     "text": [
      "-36.11374391739746\n",
      "[[-38.90996839 -32.50455115 -35.31717656 -30.76248302 -23.78158793\n",
      "  -20.30174272 -41.08068088 -39.6570714 ]]\n"
     ]
    },
    {
     "name": "stderr",
     "output_type": "stream",
     "text": [
      "100%|██████████████████████████████████████████████████████████████████████████████████| 50/50 [00:01<00:00, 49.45it/s]\n",
      " 14%|███████████▌                                                                       | 7/50 [00:00<00:00, 59.99it/s]"
     ]
    },
    {
     "name": "stdout",
     "output_type": "stream",
     "text": [
      "-35.95474517405798\n",
      "[[-43.36095355 -50.02312705 -35.98074892 -51.75998244 -33.34826383\n",
      "  -65.80905619 -29.11458391 -48.55954275]]\n"
     ]
    },
    {
     "name": "stderr",
     "output_type": "stream",
     "text": [
      "100%|██████████████████████████████████████████████████████████████████████████████████| 50/50 [00:00<00:00, 63.70it/s]\n",
      " 14%|███████████▌                                                                       | 7/50 [00:00<00:00, 63.07it/s]"
     ]
    },
    {
     "name": "stdout",
     "output_type": "stream",
     "text": [
      "-44.22212892720361\n",
      "[[-38.90996839 -32.50455115 -35.31717656 -30.76248302 -23.78158793\n",
      "  -20.30174272 -41.08068088 -39.6570714 ]]\n"
     ]
    },
    {
     "name": "stderr",
     "output_type": "stream",
     "text": [
      "100%|██████████████████████████████████████████████████████████████████████████████████| 50/50 [00:00<00:00, 62.17it/s]\n",
      " 14%|███████████▌                                                                       | 7/50 [00:00<00:00, 61.57it/s]"
     ]
    },
    {
     "name": "stdout",
     "output_type": "stream",
     "text": [
      "-36.08860821416564\n",
      "[[-36.85471585 -44.88436286 -37.07147612 -46.97224697 -35.9293157\n",
      "  -46.72301716 -29.71484233 -41.14988271]]\n"
     ]
    },
    {
     "name": "stderr",
     "output_type": "stream",
     "text": [
      "100%|██████████████████████████████████████████████████████████████████████████████████| 50/50 [00:00<00:00, 58.97it/s]\n",
      " 12%|█████████▉                                                                         | 6/50 [00:00<00:00, 53.24it/s]"
     ]
    },
    {
     "name": "stdout",
     "output_type": "stream",
     "text": [
      "-39.366640475974386\n",
      "[[-36.85471585 -44.88436286 -37.07147612 -46.97224697 -35.9293157\n",
      "  -46.72301716 -29.71484233 -41.14988271]]\n"
     ]
    },
    {
     "name": "stderr",
     "output_type": "stream",
     "text": [
      "100%|██████████████████████████████████████████████████████████████████████████████████| 50/50 [00:00<00:00, 62.97it/s]\n",
      " 12%|█████████▉                                                                         | 6/50 [00:00<00:00, 53.00it/s]"
     ]
    },
    {
     "name": "stdout",
     "output_type": "stream",
     "text": [
      "-39.57205682819922\n",
      "[[-36.99961621 -46.23861342 -33.8374646  -40.65204499 -44.99280469\n",
      "  -55.80534918 -36.38284228 -40.49000989]]\n"
     ]
    },
    {
     "name": "stderr",
     "output_type": "stream",
     "text": [
      "100%|██████████████████████████████████████████████████████████████████████████████████| 50/50 [00:00<00:00, 51.18it/s]\n",
      " 16%|█████████████▎                                                                     | 8/50 [00:00<00:00, 72.90it/s]"
     ]
    },
    {
     "name": "stdout",
     "output_type": "stream",
     "text": [
      "-40.241490310490725\n",
      "[[-36.99961621 -46.23861342 -33.8374646  -40.65204499 -44.99280469\n",
      "  -55.80534918 -36.38284228 -40.49000989]]\n"
     ]
    },
    {
     "name": "stderr",
     "output_type": "stream",
     "text": [
      "100%|██████████████████████████████████████████████████████████████████████████████████| 50/50 [00:00<00:00, 66.56it/s]\n",
      " 14%|███████████▌                                                                       | 7/50 [00:00<00:00, 69.49it/s]"
     ]
    },
    {
     "name": "stdout",
     "output_type": "stream",
     "text": [
      "-40.158800450079845\n",
      "[[-36.3862011  -43.0491738  -34.94090018 -45.2192434  -31.0474209\n",
      "  -48.28234373 -36.31563777 -41.20101195]]\n"
     ]
    },
    {
     "name": "stderr",
     "output_type": "stream",
     "text": [
      "100%|██████████████████████████████████████████████████████████████████████████████████| 50/50 [00:00<00:00, 67.39it/s]\n",
      " 14%|███████████▌                                                                       | 7/50 [00:00<00:00, 68.81it/s]"
     ]
    },
    {
     "name": "stdout",
     "output_type": "stream",
     "text": [
      "-39.633121931165\n",
      "[[-36.3862011  -43.0491738  -34.94090018 -45.2192434  -31.0474209\n",
      "  -48.28234373 -36.31563777 -41.20101195]]\n"
     ]
    },
    {
     "name": "stderr",
     "output_type": "stream",
     "text": [
      "100%|██████████████████████████████████████████████████████████████████████████████████| 50/50 [00:00<00:00, 65.17it/s]\n",
      " 14%|███████████▌                                                                       | 7/50 [00:00<00:00, 63.81it/s]"
     ]
    },
    {
     "name": "stdout",
     "output_type": "stream",
     "text": [
      "-39.26059374983239\n",
      "[[-30.96744695 -45.35212606 -33.62567974 -35.95318788 -32.84504869\n",
      "  -11.7145318  -33.5336412  -39.61115482]]\n"
     ]
    },
    {
     "name": "stderr",
     "output_type": "stream",
     "text": [
      "100%|██████████████████████████████████████████████████████████████████████████████████| 50/50 [00:01<00:00, 49.01it/s]\n",
      " 12%|█████████▉                                                                         | 6/50 [00:00<00:00, 56.20it/s]"
     ]
    },
    {
     "name": "stdout",
     "output_type": "stream",
     "text": [
      "-35.005353765385635\n",
      "[[-30.96744695 -45.35212606 -33.62567974 -35.95318788 -32.84504869\n",
      "  -11.7145318  -33.5336412  -39.61115482]]\n"
     ]
    },
    {
     "name": "stderr",
     "output_type": "stream",
     "text": [
      "100%|██████████████████████████████████████████████████████████████████████████████████| 50/50 [00:00<00:00, 67.25it/s]\n",
      " 16%|█████████████▎                                                                     | 8/50 [00:00<00:00, 70.96it/s]"
     ]
    },
    {
     "name": "stdout",
     "output_type": "stream",
     "text": [
      "-34.66684267776554\n",
      "[[-38.19830256 -41.35633091 -34.04410218 -41.76335116 -30.78687601\n",
      "  -13.38406759 -27.82434658 -39.11506383]]\n"
     ]
    },
    {
     "name": "stderr",
     "output_type": "stream",
     "text": [
      "100%|██████████████████████████████████████████████████████████████████████████████████| 50/50 [00:00<00:00, 68.69it/s]\n",
      " 14%|███████████▌                                                                       | 7/50 [00:00<00:00, 64.64it/s]"
     ]
    },
    {
     "name": "stdout",
     "output_type": "stream",
     "text": [
      "-34.805046601608936\n",
      "[[-38.19830256 -41.35633091 -34.04410218 -41.76335116 -30.78687601\n",
      "  -13.38406759 -27.82434658 -39.11506383]]\n"
     ]
    },
    {
     "name": "stderr",
     "output_type": "stream",
     "text": [
      "100%|██████████████████████████████████████████████████████████████████████████████████| 50/50 [00:00<00:00, 67.82it/s]\n",
      " 16%|█████████████▎                                                                     | 8/50 [00:00<00:00, 70.36it/s]"
     ]
    },
    {
     "name": "stdout",
     "output_type": "stream",
     "text": [
      "-34.996143674006525\n",
      "[[-34.67271184 -39.98571749 -35.34114688 -39.0063159  -37.30185188\n",
      "  -37.13547548 -42.43756742 -40.31594535]]\n"
     ]
    },
    {
     "name": "stderr",
     "output_type": "stream",
     "text": [
      "100%|██████████████████████████████████████████████████████████████████████████████████| 50/50 [00:00<00:00, 68.40it/s]\n",
      " 16%|█████████████▎                                                                     | 8/50 [00:00<00:00, 72.24it/s]"
     ]
    },
    {
     "name": "stdout",
     "output_type": "stream",
     "text": [
      "-38.62687903286237\n",
      "[[-34.67271184 -39.98571749 -35.34114688 -39.0063159  -37.30185188\n",
      "  -37.13547548 -42.43756742 -40.31594535]]\n"
     ]
    },
    {
     "name": "stderr",
     "output_type": "stream",
     "text": [
      "100%|██████████████████████████████████████████████████████████████████████████████████| 50/50 [00:00<00:00, 56.61it/s]\n",
      " 10%|████████▎                                                                          | 5/50 [00:00<00:00, 47.29it/s]"
     ]
    },
    {
     "name": "stdout",
     "output_type": "stream",
     "text": [
      "-38.87839650848369\n",
      "[[-39.34981284 -44.28228504 -35.52671286 -35.10844114 -34.73345101\n",
      "  -40.73394563 -33.48535295 -41.02363461]]\n"
     ]
    },
    {
     "name": "stderr",
     "output_type": "stream",
     "text": [
      "100%|██████████████████████████████████████████████████████████████████████████████████| 50/50 [00:00<00:00, 68.34it/s]\n",
      " 16%|█████████████▎                                                                     | 8/50 [00:00<00:00, 75.67it/s]"
     ]
    },
    {
     "name": "stdout",
     "output_type": "stream",
     "text": [
      "-38.35003204596705\n",
      "[[-39.34981284 -44.28228504 -35.52671286 -35.10844114 -34.73345101\n",
      "  -40.73394563 -33.48535295 -41.02363461]]\n"
     ]
    },
    {
     "name": "stderr",
     "output_type": "stream",
     "text": [
      "100%|██████████████████████████████████████████████████████████████████████████████████| 50/50 [00:00<00:00, 71.66it/s]\n",
      " 14%|███████████▌                                                                       | 7/50 [00:00<00:00, 67.49it/s]"
     ]
    },
    {
     "name": "stdout",
     "output_type": "stream",
     "text": [
      "-38.52913199125224\n",
      "[[-38.40619825 -42.09621601 -37.53023686 -37.54132274 -39.4904231\n",
      "  -22.37343779 -38.91149012 -41.29887467]]\n"
     ]
    },
    {
     "name": "stderr",
     "output_type": "stream",
     "text": [
      "100%|██████████████████████████████████████████████████████████████████████████████████| 50/50 [00:00<00:00, 69.44it/s]\n",
      " 14%|███████████▌                                                                       | 7/50 [00:00<00:00, 67.88it/s]"
     ]
    },
    {
     "name": "stdout",
     "output_type": "stream",
     "text": [
      "-38.55034259234108\n",
      "[[-38.40619825 -42.09621601 -37.53023686 -37.54132274 -39.4904231\n",
      "  -22.37343779 -38.91149012 -41.29887467]]\n"
     ]
    },
    {
     "name": "stderr",
     "output_type": "stream",
     "text": [
      "100%|██████████████████████████████████████████████████████████████████████████████████| 50/50 [00:00<00:00, 70.50it/s]\n",
      " 16%|█████████████▎                                                                     | 8/50 [00:00<00:00, 71.62it/s]"
     ]
    },
    {
     "name": "stdout",
     "output_type": "stream",
     "text": [
      "-38.618260277586955\n",
      "[[-37.31007177 -51.77317867 -35.25720056 -64.23356605 -38.87251059\n",
      "  -96.32335592 -34.09511319 -45.39977657]]\n"
     ]
    },
    {
     "name": "stderr",
     "output_type": "stream",
     "text": [
      "100%|██████████████████████████████████████████████████████████████████████████████████| 50/50 [00:00<00:00, 56.71it/s]\n",
      " 14%|███████████▌                                                                       | 7/50 [00:00<00:00, 68.17it/s]"
     ]
    },
    {
     "name": "stdout",
     "output_type": "stream",
     "text": [
      "-45.973392336097206\n",
      "[[-38.40619825 -42.09621601 -37.53023686 -37.54132274 -39.4904231\n",
      "  -22.37343779 -38.91149012 -41.29887467]]\n"
     ]
    },
    {
     "name": "stderr",
     "output_type": "stream",
     "text": [
      "100%|██████████████████████████████████████████████████████████████████████████████████| 50/50 [00:00<00:00, 66.59it/s]\n",
      " 14%|███████████▌                                                                       | 7/50 [00:00<00:00, 64.99it/s]"
     ]
    },
    {
     "name": "stdout",
     "output_type": "stream",
     "text": [
      "-38.51772297913605\n",
      "[[-26.05053389 -23.48708355 -31.61706349 -20.70315513 -23.6764966\n",
      "  -22.16132515 -16.4781943  -33.87013691]]\n"
     ]
    },
    {
     "name": "stderr",
     "output_type": "stream",
     "text": [
      "100%|██████████████████████████████████████████████████████████████████████████████████| 50/50 [00:00<00:00, 66.84it/s]\n",
      " 14%|███████████▌                                                                       | 7/50 [00:00<00:00, 68.13it/s]"
     ]
    },
    {
     "name": "stdout",
     "output_type": "stream",
     "text": [
      "-27.76326677976423\n",
      "[[-26.05053389 -23.48708355 -31.61706349 -20.70315513 -23.6764966\n",
      "  -22.16132515 -16.4781943  -33.87013691]]\n"
     ]
    },
    {
     "name": "stderr",
     "output_type": "stream",
     "text": [
      "100%|██████████████████████████████████████████████████████████████████████████████████| 50/50 [00:00<00:00, 69.88it/s]\n",
      " 14%|███████████▌                                                                       | 7/50 [00:00<00:00, 64.97it/s]"
     ]
    },
    {
     "name": "stdout",
     "output_type": "stream",
     "text": [
      "-27.671782437072114\n",
      "[[-24.63549717 -43.27131442 -30.17385725 -41.19395697 -29.88901173\n",
      "  -48.68254115 -16.71128223 -36.65181313]]\n"
     ]
    },
    {
     "name": "stderr",
     "output_type": "stream",
     "text": [
      "100%|██████████████████████████████████████████████████████████████████████████████████| 50/50 [00:00<00:00, 66.75it/s]\n",
      " 14%|███████████▌                                                                       | 7/50 [00:00<00:00, 68.14it/s]"
     ]
    },
    {
     "name": "stdout",
     "output_type": "stream",
     "text": [
      "-32.87021826600396\n",
      "[[-24.63549717 -43.27131442 -30.17385725 -41.19395697 -29.88901173\n",
      "  -48.68254115 -16.71128223 -36.65181313]]\n"
     ]
    },
    {
     "name": "stderr",
     "output_type": "stream",
     "text": [
      "100%|██████████████████████████████████████████████████████████████████████████████████| 50/50 [00:00<00:00, 52.93it/s]\n",
      " 14%|███████████▌                                                                       | 7/50 [00:00<00:00, 68.14it/s]"
     ]
    },
    {
     "name": "stdout",
     "output_type": "stream",
     "text": [
      "-32.783236135130295\n",
      "[[-24.56307689 -28.80324363 -31.53536757 -27.15470798 -28.25860427\n",
      "  -35.96761563 -16.94508853 -28.53826093]]\n"
     ]
    },
    {
     "name": "stderr",
     "output_type": "stream",
     "text": [
      "100%|██████████████████████████████████████████████████████████████████████████████████| 50/50 [00:00<00:00, 64.42it/s]\n",
      " 12%|█████████▉                                                                         | 6/50 [00:00<00:00, 52.54it/s]"
     ]
    },
    {
     "name": "stdout",
     "output_type": "stream",
     "text": [
      "-27.2749940575819\n",
      "[[-24.56307689 -28.80324363 -31.53536757 -27.15470798 -28.25860427\n",
      "  -35.96761563 -16.94508853 -28.53826093]]\n"
     ]
    },
    {
     "name": "stderr",
     "output_type": "stream",
     "text": [
      "100%|██████████████████████████████████████████████████████████████████████████████████| 50/50 [00:00<00:00, 66.27it/s]\n",
      " 14%|███████████▌                                                                       | 7/50 [00:00<00:00, 68.12it/s]"
     ]
    },
    {
     "name": "stdout",
     "output_type": "stream",
     "text": [
      "-27.73369688463899\n",
      "[[-28.53067487 -34.93209744 -31.05877756 -35.6713242  -23.80038923\n",
      "  -31.50394306 -27.54512216 -30.45299433]]\n"
     ]
    },
    {
     "name": "stderr",
     "output_type": "stream",
     "text": [
      "100%|██████████████████████████████████████████████████████████████████████████████████| 50/50 [00:00<00:00, 71.41it/s]\n",
      " 14%|███████████▌                                                                       | 7/50 [00:00<00:00, 67.02it/s]"
     ]
    },
    {
     "name": "stdout",
     "output_type": "stream",
     "text": [
      "-30.022953809150827\n",
      "[[-24.56307689 -28.80324363 -31.53536757 -27.15470798 -28.25860427\n",
      "  -35.96761563 -16.94508853 -28.53826093]]\n"
     ]
    },
    {
     "name": "stderr",
     "output_type": "stream",
     "text": [
      "100%|██████████████████████████████████████████████████████████████████████████████████| 50/50 [00:00<00:00, 57.58it/s]\n",
      " 16%|█████████████▎                                                                     | 8/50 [00:00<00:00, 74.97it/s]"
     ]
    },
    {
     "name": "stdout",
     "output_type": "stream",
     "text": [
      "-27.345230570558225\n",
      "[[-30.56971195 -36.64456799 -31.54832919 -33.00590394 -26.25548076\n",
      "  -41.24039542 -31.72388631 -34.939932  ]]\n"
     ]
    },
    {
     "name": "stderr",
     "output_type": "stream",
     "text": [
      "100%|██████████████████████████████████████████████████████████████████████████████████| 50/50 [00:00<00:00, 69.81it/s]\n",
      " 16%|█████████████▎                                                                     | 8/50 [00:00<00:00, 71.20it/s]"
     ]
    },
    {
     "name": "stdout",
     "output_type": "stream",
     "text": [
      "-33.541819475019146\n",
      "[[-24.56307689 -28.80324363 -31.53536757 -27.15470798 -28.25860427\n",
      "  -35.96761563 -16.94508853 -28.53826093]]\n"
     ]
    },
    {
     "name": "stderr",
     "output_type": "stream",
     "text": [
      "100%|██████████████████████████████████████████████████████████████████████████████████| 50/50 [00:00<00:00, 65.35it/s]\n",
      " 14%|███████████▌                                                                       | 7/50 [00:00<00:00, 67.47it/s]"
     ]
    },
    {
     "name": "stdout",
     "output_type": "stream",
     "text": [
      "-27.267234034485522\n",
      "[[-32.38687352 -33.63216155 -33.85620192 -33.55612682 -32.89739692\n",
      "  -33.25032754 -33.87403201 -47.3091454 ]]\n"
     ]
    },
    {
     "name": "stderr",
     "output_type": "stream",
     "text": [
      "100%|██████████████████████████████████████████████████████████████████████████████████| 50/50 [00:00<00:00, 66.71it/s]\n",
      " 14%|███████████▌                                                                       | 7/50 [00:00<00:00, 64.99it/s]"
     ]
    },
    {
     "name": "stdout",
     "output_type": "stream",
     "text": [
      "-38.74468710288282\n",
      "[[-24.56307689 -28.80324363 -31.53536757 -27.15470798 -28.25860427\n",
      "  -35.96761563 -16.94508853 -28.53826093]]\n"
     ]
    },
    {
     "name": "stderr",
     "output_type": "stream",
     "text": [
      "100%|██████████████████████████████████████████████████████████████████████████████████| 50/50 [00:00<00:00, 66.72it/s]\n",
      " 14%|███████████▌                                                                       | 7/50 [00:00<00:00, 63.79it/s]"
     ]
    },
    {
     "name": "stdout",
     "output_type": "stream",
     "text": [
      "-27.26715558991867\n",
      "[[-30.10460287 -48.71810991 -35.03120059 -49.45961096 -37.30185188\n",
      "  -54.64323456 -29.80574417 -38.59015496]]\n"
     ]
    },
    {
     "name": "stderr",
     "output_type": "stream",
     "text": [
      "100%|██████████████████████████████████████████████████████████████████████████████████| 50/50 [00:00<00:00, 59.05it/s]\n",
      " 16%|█████████████▎                                                                     | 8/50 [00:00<00:00, 75.67it/s]"
     ]
    },
    {
     "name": "stdout",
     "output_type": "stream",
     "text": [
      "-38.05370555828096\n",
      "[[-24.56307689 -28.80324363 -31.53536757 -27.15470798 -28.25860427\n",
      "  -35.96761563 -16.94508853 -28.53826093]]\n"
     ]
    },
    {
     "name": "stderr",
     "output_type": "stream",
     "text": [
      "100%|██████████████████████████████████████████████████████████████████████████████████| 50/50 [00:00<00:00, 67.68it/s]\n",
      " 16%|█████████████▎                                                                     | 8/50 [00:00<00:00, 72.92it/s]"
     ]
    },
    {
     "name": "stdout",
     "output_type": "stream",
     "text": [
      "-27.42048829289719\n",
      "[[-30.07036917 -44.87702298 -32.70702644 -39.81377643 -29.88901173\n",
      "  -39.31141129 -42.55005303 -34.65412343]]\n"
     ]
    },
    {
     "name": "stderr",
     "output_type": "stream",
     "text": [
      "100%|██████████████████████████████████████████████████████████████████████████████████| 50/50 [00:00<00:00, 67.98it/s]\n",
      " 16%|█████████████▎                                                                     | 8/50 [00:00<00:00, 69.11it/s]"
     ]
    },
    {
     "name": "stdout",
     "output_type": "stream",
     "text": [
      "-35.918491580500174\n",
      "[[-30.07036917 -44.87702298 -32.70702644 -39.81377643 -29.88901173\n",
      "  -39.31141129 -42.55005303 -34.65412343]]\n"
     ]
    },
    {
     "name": "stderr",
     "output_type": "stream",
     "text": [
      "100%|██████████████████████████████████████████████████████████████████████████████████| 50/50 [00:00<00:00, 69.05it/s]\n",
      " 16%|█████████████▎                                                                     | 8/50 [00:00<00:00, 72.27it/s]"
     ]
    },
    {
     "name": "stdout",
     "output_type": "stream",
     "text": [
      "-35.387116172087225\n",
      "[[-29.6569362  -40.7722874  -31.92523975 -31.08698951 -27.95776154\n",
      "  -12.27479712 -42.07928996 -34.7002732 ]]\n"
     ]
    },
    {
     "name": "stderr",
     "output_type": "stream",
     "text": [
      "100%|██████████████████████████████████████████████████████████████████████████████████| 50/50 [00:00<00:00, 69.29it/s]\n",
      " 14%|███████████▌                                                                       | 7/50 [00:00<00:00, 63.22it/s]"
     ]
    },
    {
     "name": "stdout",
     "output_type": "stream",
     "text": [
      "-32.7507920427334\n",
      "[[-29.6569362  -40.7722874  -31.92523975 -31.08698951 -27.95776154\n",
      "  -12.27479712 -42.07928996 -34.7002732 ]]\n"
     ]
    },
    {
     "name": "stderr",
     "output_type": "stream",
     "text": [
      "100%|██████████████████████████████████████████████████████████████████████████████████| 50/50 [00:00<00:00, 56.69it/s]\n",
      " 14%|███████████▌                                                                       | 7/50 [00:00<00:00, 66.58it/s]"
     ]
    },
    {
     "name": "stdout",
     "output_type": "stream",
     "text": [
      "-32.85405203894182\n",
      "[[-30.21403922 -42.36723029 -28.45840817 -42.33255365 -29.88901173\n",
      "  -61.35830797 -43.66271361 -33.88897871]]\n"
     ]
    },
    {
     "name": "stderr",
     "output_type": "stream",
     "text": [
      "100%|██████████████████████████████████████████████████████████████████████████████████| 50/50 [00:00<00:00, 69.30it/s]\n",
      " 16%|█████████████▎                                                                     | 8/50 [00:00<00:00, 75.67it/s]"
     ]
    },
    {
     "name": "stdout",
     "output_type": "stream",
     "text": [
      "-36.260097349801576\n",
      "[[-30.21403922 -42.36723029 -28.45840817 -42.33255365 -29.88901173\n",
      "  -61.35830797 -43.66271361 -33.88897871]]\n"
     ]
    },
    {
     "name": "stderr",
     "output_type": "stream",
     "text": [
      "100%|██████████████████████████████████████████████████████████████████████████████████| 50/50 [00:00<00:00, 75.05it/s]\n",
      " 18%|██████████████▉                                                                    | 9/50 [00:00<00:00, 79.86it/s]"
     ]
    },
    {
     "name": "stdout",
     "output_type": "stream",
     "text": [
      "-36.42786586146493\n",
      "[[-32.77992789 -38.65712758 -31.12227402 -34.37531535 -26.58548113\n",
      "  -19.60425369 -44.79110137 -33.90629545]]\n"
     ]
    },
    {
     "name": "stderr",
     "output_type": "stream",
     "text": [
      "100%|██████████████████████████████████████████████████████████████████████████████████| 50/50 [00:00<00:00, 77.58it/s]\n",
      " 16%|█████████████▎                                                                     | 8/50 [00:00<00:00, 78.64it/s]"
     ]
    },
    {
     "name": "stdout",
     "output_type": "stream",
     "text": [
      "-33.428791023963\n",
      "[[-32.77992789 -38.65712758 -31.12227402 -34.37531535 -26.58548113\n",
      "  -19.60425369 -44.79110137 -33.90629545]]\n"
     ]
    },
    {
     "name": "stderr",
     "output_type": "stream",
     "text": [
      "100%|██████████████████████████████████████████████████████████████████████████████████| 50/50 [00:00<00:00, 71.62it/s]\n",
      " 14%|███████████▌                                                                       | 7/50 [00:00<00:00, 63.99it/s]"
     ]
    },
    {
     "name": "stdout",
     "output_type": "stream",
     "text": [
      "-33.54500982105856\n",
      "[[-29.60449827 -23.36855896 -30.13612472 -25.298105   -30.78687601\n",
      "  -37.55870331 -25.85182934 -25.65496784]]\n"
     ]
    },
    {
     "name": "stderr",
     "output_type": "stream",
     "text": [
      "100%|██████████████████████████████████████████████████████████████████████████████████| 50/50 [00:00<00:00, 52.83it/s]\n",
      " 14%|███████████▌                                                                       | 7/50 [00:00<00:00, 64.99it/s]"
     ]
    },
    {
     "name": "stdout",
     "output_type": "stream",
     "text": [
      "-27.665358407987362\n",
      "[[-29.60449827 -23.36855896 -30.13612472 -25.298105   -30.78687601\n",
      "  -37.55870331 -25.85182934 -25.65496784]]\n"
     ]
    },
    {
     "name": "stderr",
     "output_type": "stream",
     "text": [
      "100%|██████████████████████████████████████████████████████████████████████████████████| 50/50 [00:00<00:00, 59.28it/s]\n",
      " 16%|█████████████▎                                                                     | 8/50 [00:00<00:00, 70.36it/s]"
     ]
    },
    {
     "name": "stdout",
     "output_type": "stream",
     "text": [
      "-27.441562794509483\n",
      "[[-30.32601783 -47.40458009 -32.79425847 -42.87846121 -32.33738419\n",
      "  -58.9910707  -33.16351971 -30.63359723]]\n"
     ]
    },
    {
     "name": "stderr",
     "output_type": "stream",
     "text": [
      "100%|██████████████████████████████████████████████████████████████████████████████████| 50/50 [00:00<00:00, 67.44it/s]\n",
      " 14%|███████████▌                                                                       | 7/50 [00:00<00:00, 68.81it/s]"
     ]
    },
    {
     "name": "stdout",
     "output_type": "stream",
     "text": [
      "-34.48193062651145\n",
      "[[-29.60449827 -23.36855896 -30.13612472 -25.298105   -30.78687601\n",
      "  -37.55870331 -25.85182934 -25.65496784]]\n"
     ]
    },
    {
     "name": "stderr",
     "output_type": "stream",
     "text": [
      "100%|██████████████████████████████████████████████████████████████████████████████████| 50/50 [00:00<00:00, 66.67it/s]\n",
      " 12%|█████████▉                                                                         | 6/50 [00:00<00:00, 56.22it/s]"
     ]
    },
    {
     "name": "stdout",
     "output_type": "stream",
     "text": [
      "-27.586580741647968\n",
      "[[-30.61078199 -31.57981412 -29.59320814 -36.3921053  -28.62900938\n",
      "  -49.66317214 -23.54544883 -33.9902468 ]]\n"
     ]
    },
    {
     "name": "stderr",
     "output_type": "stream",
     "text": [
      "100%|██████████████████████████████████████████████████████████████████████████████████| 50/50 [00:01<00:00, 48.64it/s]\n",
      " 16%|█████████████▎                                                                     | 8/50 [00:00<00:00, 73.92it/s]"
     ]
    },
    {
     "name": "stdout",
     "output_type": "stream",
     "text": [
      "-32.46471418670183\n",
      "[[-30.61078199 -31.57981412 -29.59320814 -36.3921053  -28.62900938\n",
      "  -49.66317214 -23.54544883 -33.9902468 ]]\n"
     ]
    },
    {
     "name": "stderr",
     "output_type": "stream",
     "text": [
      "100%|██████████████████████████████████████████████████████████████████████████████████| 50/50 [00:00<00:00, 70.30it/s]\n",
      " 14%|███████████▌                                                                       | 7/50 [00:00<00:00, 59.99it/s]"
     ]
    },
    {
     "name": "stdout",
     "output_type": "stream",
     "text": [
      "-32.46137039278026\n",
      "[[-34.37527535 -47.583874   -32.19165199 -49.22882745 -32.33738419\n",
      "  -61.41746737 -29.36913534 -38.00514437]]\n"
     ]
    },
    {
     "name": "stderr",
     "output_type": "stream",
     "text": [
      "100%|██████████████████████████████████████████████████████████████████████████████████| 50/50 [00:00<00:00, 62.51it/s]\n",
      " 14%|███████████▌                                                                       | 7/50 [00:00<00:00, 68.81it/s]"
     ]
    },
    {
     "name": "stdout",
     "output_type": "stream",
     "text": [
      "-37.84098341386026\n",
      "[[-34.37527535 -47.583874   -32.19165199 -49.22882745 -32.33738419\n",
      "  -61.41746737 -29.36913534 -38.00514437]]\n"
     ]
    },
    {
     "name": "stderr",
     "output_type": "stream",
     "text": [
      "100%|██████████████████████████████████████████████████████████████████████████████████| 50/50 [00:00<00:00, 63.80it/s]\n",
      " 14%|███████████▌                                                                       | 7/50 [00:00<00:00, 69.49it/s]"
     ]
    },
    {
     "name": "stdout",
     "output_type": "stream",
     "text": [
      "-38.091284867300466\n",
      "[[-36.41879843 -46.38182519 -35.62243364 -35.80482005 -36.50318031\n",
      "  -35.61513469 -33.54140557 -34.49270984]]\n"
     ]
    },
    {
     "name": "stderr",
     "output_type": "stream",
     "text": [
      "100%|██████████████████████████████████████████████████████████████████████████████████| 50/50 [00:00<00:00, 65.15it/s]\n",
      " 12%|█████████▉                                                                         | 6/50 [00:00<00:00, 55.28it/s]"
     ]
    },
    {
     "name": "stdout",
     "output_type": "stream",
     "text": [
      "-35.42244957926958\n",
      "[[-36.41879843 -46.38182519 -35.62243364 -35.80482005 -36.50318031\n",
      "  -35.61513469 -33.54140557 -34.49270984]]\n"
     ]
    },
    {
     "name": "stderr",
     "output_type": "stream",
     "text": [
      "100%|██████████████████████████████████████████████████████████████████████████████████| 50/50 [00:00<00:00, 51.53it/s]\n",
      " 12%|█████████▉                                                                         | 6/50 [00:00<00:00, 51.42it/s]"
     ]
    },
    {
     "name": "stdout",
     "output_type": "stream",
     "text": [
      "-35.60213954469544\n",
      "[[-36.41879843 -46.38182519 -35.62243364 -35.80482005 -36.50318031\n",
      "  -35.61513469 -33.54140557 -34.49270984]]\n"
     ]
    },
    {
     "name": "stderr",
     "output_type": "stream",
     "text": [
      "100%|██████████████████████████████████████████████████████████████████████████████████| 50/50 [00:00<00:00, 58.53it/s]\n",
      " 16%|█████████████▎                                                                     | 8/50 [00:00<00:00, 71.66it/s]"
     ]
    },
    {
     "name": "stdout",
     "output_type": "stream",
     "text": [
      "-35.45538060715276\n",
      "[[-42.01822332 -41.78029544 -38.87446322 -41.43242901 -39.9447868\n",
      "  -39.36530895 -41.10183432 -46.59133028]]\n"
     ]
    },
    {
     "name": "stderr",
     "output_type": "stream",
     "text": [
      "100%|██████████████████████████████████████████████████████████████████████████████████| 50/50 [00:00<00:00, 60.03it/s]\n",
      " 14%|███████████▌                                                                       | 7/50 [00:00<00:00, 64.38it/s]"
     ]
    },
    {
     "name": "stdout",
     "output_type": "stream",
     "text": [
      "-42.908617084572846\n",
      "[[-36.41879843 -46.38182519 -35.62243364 -35.80482005 -36.50318031\n",
      "  -35.61513469 -33.54140557 -34.49270984]]\n"
     ]
    },
    {
     "name": "stderr",
     "output_type": "stream",
     "text": [
      "100%|██████████████████████████████████████████████████████████████████████████████████| 50/50 [00:00<00:00, 61.44it/s]\n",
      " 14%|███████████▌                                                                       | 7/50 [00:00<00:00, 67.47it/s]"
     ]
    },
    {
     "name": "stdout",
     "output_type": "stream",
     "text": [
      "-35.46696024967627\n",
      "[[-33.4693333  -39.82956152 -34.47870788 -43.17498222 -34.42297885\n",
      "  -61.29471389 -40.02935855 -40.98353505]]\n"
     ]
    },
    {
     "name": "stderr",
     "output_type": "stream",
     "text": [
      "100%|██████████████████████████████████████████████████████████████████████████████████| 50/50 [00:00<00:00, 67.84it/s]\n",
      " 16%|█████████████▎                                                                     | 8/50 [00:00<00:00, 74.25it/s]"
     ]
    },
    {
     "name": "stdout",
     "output_type": "stream",
     "text": [
      "-40.02614784923321\n",
      "[[-33.4693333  -39.82956152 -34.47870788 -43.17498222 -34.42297885\n",
      "  -61.29471389 -40.02935855 -40.98353505]]\n"
     ]
    },
    {
     "name": "stderr",
     "output_type": "stream",
     "text": [
      "100%|██████████████████████████████████████████████████████████████████████████████████| 50/50 [00:00<00:00, 54.51it/s]\n",
      " 14%|███████████▌                                                                       | 7/50 [00:00<00:00, 63.25it/s]"
     ]
    },
    {
     "name": "stdout",
     "output_type": "stream",
     "text": [
      "-39.983781241059596\n",
      "[[-37.03682377 -34.10259315 -35.69869882 -35.44697753 -29.6956054\n",
      "  -32.16211966 -34.92867171 -46.32343756]]\n"
     ]
    },
    {
     "name": "stderr",
     "output_type": "stream",
     "text": [
      "100%|██████████████████████████████████████████████████████████████████████████████████| 50/50 [00:00<00:00, 67.90it/s]\n",
      " 14%|███████████▌                                                                       | 7/50 [00:00<00:00, 61.05it/s]"
     ]
    },
    {
     "name": "stdout",
     "output_type": "stream",
     "text": [
      "-39.19428576200767\n",
      "[[-37.03682377 -34.10259315 -35.69869882 -35.44697753 -29.6956054\n",
      "  -32.16211966 -34.92867171 -46.32343756]]\n"
     ]
    },
    {
     "name": "stderr",
     "output_type": "stream",
     "text": [
      "100%|██████████████████████████████████████████████████████████████████████████████████| 50/50 [00:00<00:00, 67.82it/s]\n",
      " 14%|███████████▌                                                                       | 7/50 [00:00<00:00, 62.90it/s]"
     ]
    },
    {
     "name": "stdout",
     "output_type": "stream",
     "text": [
      "-39.09377028986135\n",
      "[[-37.33759237 -48.62617431 -35.56688093 -37.25487452 -32.87151655\n",
      "  -36.99414897 -33.49214877 -49.33808761]]\n"
     ]
    },
    {
     "name": "stderr",
     "output_type": "stream",
     "text": [
      "100%|██████████████████████████████████████████████████████████████████████████████████| 50/50 [00:00<00:00, 61.90it/s]\n",
      " 14%|███████████▌                                                                       | 7/50 [00:00<00:00, 62.67it/s]"
     ]
    },
    {
     "name": "stdout",
     "output_type": "stream",
     "text": [
      "-41.45441848162881\n",
      "[[-37.03682377 -34.10259315 -35.69869882 -35.44697753 -29.6956054\n",
      "  -32.16211966 -34.92867171 -46.32343756]]\n"
     ]
    },
    {
     "name": "stderr",
     "output_type": "stream",
     "text": [
      "100%|██████████████████████████████████████████████████████████████████████████████████| 50/50 [00:00<00:00, 67.64it/s]\n",
      " 12%|█████████▉                                                                         | 6/50 [00:00<00:00, 53.71it/s]"
     ]
    },
    {
     "name": "stdout",
     "output_type": "stream",
     "text": [
      "-39.474506600923604\n",
      "[[-39.84402468 -42.4640545  -35.96041871 -40.65474427 -42.2864201\n",
      "  -43.84618127 -41.30232036 -40.50241367]]\n"
     ]
    },
    {
     "name": "stderr",
     "output_type": "stream",
     "text": [
      "100%|██████████████████████████████████████████████████████████████████████████████████| 50/50 [00:00<00:00, 50.68it/s]\n",
      " 12%|█████████▉                                                                         | 6/50 [00:00<00:00, 59.56it/s]"
     ]
    },
    {
     "name": "stdout",
     "output_type": "stream",
     "text": [
      "-40.21980872337376\n",
      "[[-37.03682377 -34.10259315 -35.69869882 -35.44697753 -29.6956054\n",
      "  -32.16211966 -34.92867171 -46.32343756]]\n"
     ]
    },
    {
     "name": "stderr",
     "output_type": "stream",
     "text": [
      "100%|██████████████████████████████████████████████████████████████████████████████████| 50/50 [00:00<00:00, 60.95it/s]\n",
      " 12%|█████████▉                                                                         | 6/50 [00:00<00:00, 59.56it/s]"
     ]
    },
    {
     "name": "stdout",
     "output_type": "stream",
     "text": [
      "-39.28843121272406\n",
      "[[-38.28344254 -35.00035462 -34.38333443 -31.58081091 -30.74475856\n",
      "  -21.05764653 -40.60989604 -37.047016  ]]\n"
     ]
    },
    {
     "name": "stderr",
     "output_type": "stream",
     "text": [
      "100%|██████████████████████████████████████████████████████████████████████████████████| 50/50 [00:00<00:00, 62.66it/s]\n",
      " 14%|███████████▌                                                                       | 7/50 [00:00<00:00, 61.57it/s]"
     ]
    },
    {
     "name": "stdout",
     "output_type": "stream",
     "text": [
      "-35.38326272918859\n",
      "[[-38.28344254 -35.00035462 -34.38333443 -31.58081091 -30.74475856\n",
      "  -21.05764653 -40.60989604 -37.047016  ]]\n"
     ]
    },
    {
     "name": "stderr",
     "output_type": "stream",
     "text": [
      "100%|██████████████████████████████████████████████████████████████████████████████████| 50/50 [00:00<00:00, 62.67it/s]\n",
      " 14%|███████████▌                                                                       | 7/50 [00:00<00:00, 69.47it/s]"
     ]
    },
    {
     "name": "stdout",
     "output_type": "stream",
     "text": [
      "-35.25302730382988\n",
      "[[-31.49389997 -30.75241999 -31.44861608 -31.72023399 -23.95073238\n",
      "  -45.12161899 -28.57716492 -36.97295652]]\n"
     ]
    },
    {
     "name": "stderr",
     "output_type": "stream",
     "text": [
      "100%|██████████████████████████████████████████████████████████████████████████████████| 50/50 [00:00<00:00, 65.74it/s]\n",
      " 14%|███████████▌                                                                       | 7/50 [00:00<00:00, 66.85it/s]"
     ]
    },
    {
     "name": "stdout",
     "output_type": "stream",
     "text": [
      "-33.642781278408386\n",
      "[[-31.49389997 -30.75241999 -31.44861608 -31.72023399 -23.95073238\n",
      "  -45.12161899 -28.57716492 -36.97295652]]\n"
     ]
    },
    {
     "name": "stderr",
     "output_type": "stream",
     "text": [
      "100%|██████████████████████████████████████████████████████████████████████████████████| 50/50 [00:00<00:00, 51.64it/s]\n",
      " 14%|███████████▌                                                                       | 7/50 [00:00<00:00, 61.55it/s]"
     ]
    },
    {
     "name": "stdout",
     "output_type": "stream",
     "text": [
      "-33.43508948536388\n",
      "[[-31.89003432 -30.677717   -31.56939534 -27.3514013  -30.78687601\n",
      "  -36.7016096  -30.96097092 -25.09623417]]\n"
     ]
    },
    {
     "name": "stderr",
     "output_type": "stream",
     "text": [
      "100%|██████████████████████████████████████████████████████████████████████████████████| 50/50 [00:00<00:00, 60.99it/s]\n",
      " 14%|███████████▌                                                                       | 7/50 [00:00<00:00, 59.99it/s]"
     ]
    },
    {
     "name": "stdout",
     "output_type": "stream",
     "text": [
      "-28.9490702791389\n",
      "[[-31.89003432 -30.677717   -31.56939534 -27.3514013  -30.78687601\n",
      "  -36.7016096  -30.96097092 -25.09623417]]\n"
     ]
    },
    {
     "name": "stderr",
     "output_type": "stream",
     "text": [
      "100%|██████████████████████████████████████████████████████████████████████████████████| 50/50 [00:00<00:00, 61.63it/s]\n",
      " 10%|████████▎                                                                          | 5/50 [00:00<00:00, 47.75it/s]"
     ]
    },
    {
     "name": "stdout",
     "output_type": "stream",
     "text": [
      "-29.08238504082218\n",
      "[[-32.25413758 -32.04711904 -30.78720269 -35.33911884 -30.78687601\n",
      "  -54.09179508 -32.76585548 -28.19753508]]\n"
     ]
    },
    {
     "name": "stderr",
     "output_type": "stream",
     "text": [
      "100%|██████████████████████████████████████████████████████████████████████████████████| 50/50 [00:00<00:00, 62.12it/s]\n",
      " 14%|███████████▌                                                                       | 7/50 [00:00<00:00, 69.49it/s]"
     ]
    },
    {
     "name": "stdout",
     "output_type": "stream",
     "text": [
      "-32.051958242813704\n",
      "[[-31.89003432 -30.677717   -31.56939534 -27.3514013  -30.78687601\n",
      "  -36.7016096  -30.96097092 -25.09623417]]\n"
     ]
    },
    {
     "name": "stderr",
     "output_type": "stream",
     "text": [
      "100%|██████████████████████████████████████████████████████████████████████████████████| 50/50 [00:00<00:00, 65.09it/s]\n",
      " 14%|███████████▌                                                                       | 7/50 [00:00<00:00, 68.14it/s]"
     ]
    },
    {
     "name": "stdout",
     "output_type": "stream",
     "text": [
      "-29.035898218475346\n",
      "[[-31.42068649 -29.47944075 -31.69426356 -31.23914232 -32.33738419\n",
      "  -53.21852628 -28.57320027 -33.53937968]]\n"
     ]
    },
    {
     "name": "stderr",
     "output_type": "stream",
     "text": [
      "100%|██████████████████████████████████████████████████████████████████████████████████| 50/50 [00:00<00:00, 51.55it/s]\n",
      " 16%|█████████████▎                                                                     | 8/50 [00:00<00:00, 73.59it/s]"
     ]
    },
    {
     "name": "stdout",
     "output_type": "stream",
     "text": [
      "-33.018680167730764\n",
      "[[-31.89003432 -30.677717   -31.56939534 -27.3514013  -30.78687601\n",
      "  -36.7016096  -30.96097092 -25.09623417]]\n"
     ]
    },
    {
     "name": "stderr",
     "output_type": "stream",
     "text": [
      "100%|██████████████████████████████████████████████████████████████████████████████████| 50/50 [00:00<00:00, 64.56it/s]\n",
      " 12%|█████████▉                                                                         | 6/50 [00:00<00:00, 58.98it/s]"
     ]
    },
    {
     "name": "stdout",
     "output_type": "stream",
     "text": [
      "-28.721088833913797\n",
      "[[-31.60244366 -38.16879242 -28.38140523 -39.909104   -30.78687601\n",
      "  -62.71900854 -31.84531663 -33.87820597]]\n"
     ]
    },
    {
     "name": "stderr",
     "output_type": "stream",
     "text": [
      "100%|██████████████████████████████████████████████████████████████████████████████████| 50/50 [00:00<00:00, 65.97it/s]\n",
      " 12%|█████████▉                                                                         | 6/50 [00:00<00:00, 58.44it/s]"
     ]
    },
    {
     "name": "stdout",
     "output_type": "stream",
     "text": [
      "-34.86318284945621\n",
      "[[-31.89003432 -30.677717   -31.56939534 -27.3514013  -30.78687601\n",
      "  -36.7016096  -30.96097092 -25.09623417]]\n"
     ]
    },
    {
     "name": "stderr",
     "output_type": "stream",
     "text": [
      "100%|██████████████████████████████████████████████████████████████████████████████████| 50/50 [00:00<00:00, 56.63it/s]\n",
      " 16%|█████████████▎                                                                     | 8/50 [00:00<00:00, 74.27it/s]"
     ]
    },
    {
     "name": "stdout",
     "output_type": "stream",
     "text": [
      "-29.096097922123747\n",
      "[[-37.3825861  -43.13047791 -36.85414108 -56.85569066 -38.87251059\n",
      "  -64.62260886 -39.63987472 -46.26638288]]\n"
     ]
    },
    {
     "name": "stderr",
     "output_type": "stream",
     "text": [
      "100%|██████████████████████████████████████████████████████████████████████████████████| 50/50 [00:00<00:00, 61.39it/s]\n",
      "  0%|                                                                                           | 0/50 [00:00<?, ?it/s]"
     ]
    },
    {
     "name": "stdout",
     "output_type": "stream",
     "text": [
      "-44.35078953411183\n",
      "[[-31.89003432 -30.677717   -31.56939534 -27.3514013  -30.78687601\n",
      "  -36.7016096  -30.96097092 -25.09623417]]\n"
     ]
    },
    {
     "name": "stderr",
     "output_type": "stream",
     "text": [
      "100%|██████████████████████████████████████████████████████████████████████████████████| 50/50 [00:00<00:00, 52.88it/s]\n",
      " 14%|███████████▌                                                                       | 7/50 [00:00<00:00, 60.67it/s]"
     ]
    },
    {
     "name": "stdout",
     "output_type": "stream",
     "text": [
      "-28.940203922625457\n",
      "[[-28.39142769 -27.56127673 -32.15022129 -30.47380778 -29.43343308\n",
      "  -33.9733541  -30.61813127 -24.66890395]]\n"
     ]
    },
    {
     "name": "stderr",
     "output_type": "stream",
     "text": [
      "100%|██████████████████████████████████████████████████████████████████████████████████| 50/50 [00:00<00:00, 64.93it/s]\n",
      " 14%|███████████▌                                                                       | 7/50 [00:00<00:00, 61.56it/s]"
     ]
    },
    {
     "name": "stdout",
     "output_type": "stream",
     "text": [
      "-28.237356603167317\n",
      "[[-28.39142769 -27.56127673 -32.15022129 -30.47380778 -29.43343308\n",
      "  -33.9733541  -30.61813127 -24.66890395]]\n"
     ]
    },
    {
     "name": "stderr",
     "output_type": "stream",
     "text": [
      "100%|██████████████████████████████████████████████████████████████████████████████████| 50/50 [00:00<00:00, 62.58it/s]\n",
      " 14%|███████████▌                                                                       | 7/50 [00:00<00:00, 65.60it/s]"
     ]
    },
    {
     "name": "stdout",
     "output_type": "stream",
     "text": [
      "-28.175390403296543\n",
      "[[-33.96032938 -47.90107708 -34.6477393  -43.66845739 -42.2864201\n",
      "  -45.94567132 -36.61232845 -35.14953581]]\n"
     ]
    },
    {
     "name": "stderr",
     "output_type": "stream",
     "text": [
      "100%|██████████████████████████████████████████████████████████████████████████████████| 50/50 [00:00<00:00, 63.27it/s]\n",
      " 14%|███████████▌                                                                       | 7/50 [00:00<00:00, 62.67it/s]"
     ]
    },
    {
     "name": "stdout",
     "output_type": "stream",
     "text": [
      "-37.209773240721454\n",
      "[[-28.39142769 -27.56127673 -32.15022129 -30.47380778 -29.43343308\n",
      "  -33.9733541  -30.61813127 -24.66890395]]\n"
     ]
    },
    {
     "name": "stderr",
     "output_type": "stream",
     "text": [
      "100%|██████████████████████████████████████████████████████████████████████████████████| 50/50 [00:00<00:00, 50.62it/s]\n",
      " 14%|███████████▌                                                                       | 7/50 [00:00<00:00, 62.11it/s]"
     ]
    },
    {
     "name": "stdout",
     "output_type": "stream",
     "text": [
      "-28.16990437050793\n",
      "[[-27.96130736 -42.79251329 -32.70160505 -47.2724446  -36.79343713\n",
      "  -56.66842985 -24.60959624 -29.74839746]]\n"
     ]
    },
    {
     "name": "stderr",
     "output_type": "stream",
     "text": [
      "100%|██████████████████████████████████████████████████████████████████████████████████| 50/50 [00:00<00:00, 64.82it/s]\n",
      " 12%|█████████▉                                                                         | 6/50 [00:00<00:00, 55.86it/s]"
     ]
    },
    {
     "name": "stdout",
     "output_type": "stream",
     "text": [
      "-33.16733839661495\n",
      "[[-27.96130736 -42.79251329 -32.70160505 -47.2724446  -36.79343713\n",
      "  -56.66842985 -24.60959624 -29.74839746]]\n"
     ]
    },
    {
     "name": "stderr",
     "output_type": "stream",
     "text": [
      "100%|██████████████████████████████████████████████████████████████████████████████████| 50/50 [00:00<00:00, 63.00it/s]\n",
      " 14%|███████████▌                                                                       | 7/50 [00:00<00:00, 63.80it/s]"
     ]
    },
    {
     "name": "stdout",
     "output_type": "stream",
     "text": [
      "-33.12921281717253\n",
      "[[-30.37828525 -39.96323551 -32.49846959 -43.48838136 -34.32830217\n",
      "  -53.713938   -24.72802356 -37.24572748]]\n"
     ]
    },
    {
     "name": "stderr",
     "output_type": "stream",
     "text": [
      "100%|██████████████████████████████████████████████████████████████████████████████████| 50/50 [00:00<00:00, 67.10it/s]\n",
      " 16%|█████████████▎                                                                     | 8/50 [00:00<00:00, 77.85it/s]"
     ]
    },
    {
     "name": "stdout",
     "output_type": "stream",
     "text": [
      "-35.741737652915845\n",
      "[[-30.37828525 -39.96323551 -32.49846959 -43.48838136 -34.32830217\n",
      "  -53.713938   -24.72802356 -37.24572748]]\n"
     ]
    },
    {
     "name": "stderr",
     "output_type": "stream",
     "text": [
      "100%|██████████████████████████████████████████████████████████████████████████████████| 50/50 [00:00<00:00, 70.75it/s]\n",
      " 16%|█████████████▎                                                                     | 8/50 [00:00<00:00, 75.29it/s]"
     ]
    },
    {
     "name": "stdout",
     "output_type": "stream",
     "text": [
      "-35.40231022862921\n",
      "[[-25.8135277  -30.44174707 -33.34139385 -28.37313043 -24.44665892\n",
      "  -14.76959376 -25.16782348 -24.66166706]]\n"
     ]
    },
    {
     "name": "stderr",
     "output_type": "stream",
     "text": [
      "100%|██████████████████████████████████████████████████████████████████████████████████| 50/50 [00:00<00:00, 57.26it/s]\n",
      " 16%|█████████████▎                                                                     | 8/50 [00:00<00:00, 71.61it/s]"
     ]
    },
    {
     "name": "stdout",
     "output_type": "stream",
     "text": [
      "-25.753965073942922\n",
      "[[-25.8135277  -30.44174707 -33.34139385 -28.37313043 -24.44665892\n",
      "  -14.76959376 -25.16782348 -24.66166706]]\n"
     ]
    },
    {
     "name": "stderr",
     "output_type": "stream",
     "text": [
      "100%|██████████████████████████████████████████████████████████████████████████████████| 50/50 [00:00<00:00, 69.68it/s]\n",
      " 14%|███████████▌                                                                       | 7/50 [00:00<00:00, 65.58it/s]"
     ]
    },
    {
     "name": "stdout",
     "output_type": "stream",
     "text": [
      "-25.65821375490843\n",
      "[[-39.70888396 -34.39850996 -36.11838538 -35.34719371 -36.15715891\n",
      "  -15.50713299 -29.34719481 -47.32061538]]\n"
     ]
    },
    {
     "name": "stderr",
     "output_type": "stream",
     "text": [
      "100%|██████████████████████████████████████████████████████████████████████████████████| 50/50 [00:00<00:00, 64.83it/s]\n",
      " 14%|███████████▌                                                                       | 7/50 [00:00<00:00, 62.62it/s]"
     ]
    },
    {
     "name": "stdout",
     "output_type": "stream",
     "text": [
      "-38.53175314393693\n",
      "[[-25.8135277  -30.44174707 -33.34139385 -28.37313043 -24.44665892\n",
      "  -14.76959376 -25.16782348 -24.66166706]]\n"
     ]
    },
    {
     "name": "stderr",
     "output_type": "stream",
     "text": [
      "100%|██████████████████████████████████████████████████████████████████████████████████| 50/50 [00:00<00:00, 65.27it/s]\n",
      " 14%|███████████▌                                                                       | 7/50 [00:00<00:00, 67.15it/s]"
     ]
    },
    {
     "name": "stdout",
     "output_type": "stream",
     "text": [
      "-26.121522441203137\n",
      "[[-30.44193396 -27.00502401 -32.4830271  -25.30635437 -27.85528086\n",
      "  -29.89420144 -24.60220852 -26.11031977]]\n"
     ]
    },
    {
     "name": "stderr",
     "output_type": "stream",
     "text": [
      "100%|██████████████████████████████████████████████████████████████████████████████████| 50/50 [00:00<00:00, 65.46it/s]\n",
      " 14%|███████████▌                                                                       | 7/50 [00:00<00:00, 63.24it/s]"
     ]
    },
    {
     "name": "stdout",
     "output_type": "stream",
     "text": [
      "-27.713538616904184\n",
      "[[-25.8135277  -30.44174707 -33.34139385 -28.37313043 -24.44665892\n",
      "  -14.76959376 -25.16782348 -24.66166706]]\n"
     ]
    },
    {
     "name": "stderr",
     "output_type": "stream",
     "text": [
      "100%|██████████████████████████████████████████████████████████████████████████████████| 50/50 [00:00<00:00, 51.31it/s]\n",
      " 16%|█████████████▎                                                                     | 8/50 [00:00<00:00, 72.37it/s]"
     ]
    },
    {
     "name": "stdout",
     "output_type": "stream",
     "text": [
      "-25.76551014336602\n",
      "[[-32.58512311 -31.66976767 -32.58056607 -32.61022374 -26.26806459\n",
      "  -18.92107794 -24.65803445 -35.50508269]]\n"
     ]
    },
    {
     "name": "stderr",
     "output_type": "stream",
     "text": [
      "100%|██████████████████████████████████████████████████████████████████████████████████| 50/50 [00:00<00:00, 72.69it/s]\n",
      " 14%|███████████▌                                                                       | 7/50 [00:00<00:00, 68.81it/s]"
     ]
    },
    {
     "name": "stdout",
     "output_type": "stream",
     "text": [
      "-31.236983774695197\n",
      "[[-25.8135277  -30.44174707 -33.34139385 -28.37313043 -24.44665892\n",
      "  -14.76959376 -25.16782348 -24.66166706]]\n"
     ]
    },
    {
     "name": "stderr",
     "output_type": "stream",
     "text": [
      "100%|██████████████████████████████████████████████████████████████████████████████████| 50/50 [00:00<00:00, 73.61it/s]\n",
      " 14%|███████████▌                                                                       | 7/50 [00:00<00:00, 63.46it/s]"
     ]
    },
    {
     "name": "stdout",
     "output_type": "stream",
     "text": [
      "-25.936421386900065\n",
      "[[-24.50644439 -20.54955181 -31.84021016 -25.32353327 -33.86350805\n",
      "  -22.28364129 -16.73683291 -36.9085431 ]]\n"
     ]
    },
    {
     "name": "stderr",
     "output_type": "stream",
     "text": [
      "100%|██████████████████████████████████████████████████████████████████████████████████| 50/50 [00:00<00:00, 67.20it/s]\n",
      " 16%|█████████████▎                                                                     | 8/50 [00:00<00:00, 71.61it/s]"
     ]
    },
    {
     "name": "stdout",
     "output_type": "stream",
     "text": [
      "-29.611713140335713\n",
      "[[-25.8135277  -30.44174707 -33.34139385 -28.37313043 -24.44665892\n",
      "  -14.76959376 -25.16782348 -24.66166706]]\n"
     ]
    },
    {
     "name": "stderr",
     "output_type": "stream",
     "text": [
      "100%|██████████████████████████████████████████████████████████████████████████████████| 50/50 [00:00<00:00, 71.01it/s]\n",
      " 16%|█████████████▎                                                                     | 8/50 [00:00<00:00, 74.27it/s]"
     ]
    },
    {
     "name": "stdout",
     "output_type": "stream",
     "text": [
      "-25.8502749578862\n",
      "[[-30.08399765 -29.23075831 -31.58239659 -30.03298179 -24.44665892\n",
      "  -27.01009687 -24.63992391 -27.0061048 ]]\n"
     ]
    },
    {
     "name": "stderr",
     "output_type": "stream",
     "text": [
      "100%|██████████████████████████████████████████████████████████████████████████████████| 50/50 [00:00<00:00, 56.67it/s]\n",
      " 12%|█████████▉                                                                         | 6/50 [00:00<00:00, 55.41it/s]"
     ]
    },
    {
     "name": "stdout",
     "output_type": "stream",
     "text": [
      "-27.649794164678706\n",
      "[[-25.8135277  -30.44174707 -33.34139385 -28.37313043 -24.44665892\n",
      "  -14.76959376 -25.16782348 -24.66166706]]\n"
     ]
    },
    {
     "name": "stderr",
     "output_type": "stream",
     "text": [
      "100%|██████████████████████████████████████████████████████████████████████████████████| 50/50 [00:00<00:00, 65.49it/s]\n",
      " 16%|█████████████▎                                                                     | 8/50 [00:00<00:00, 71.61it/s]"
     ]
    },
    {
     "name": "stdout",
     "output_type": "stream",
     "text": [
      "-25.992704001881886\n",
      "[[-42.23931897 -43.86924463 -39.91099566 -41.31674964 -39.4904231\n",
      "  -38.64880508 -38.59468268 -48.31006587]]\n"
     ]
    },
    {
     "name": "stderr",
     "output_type": "stream",
     "text": [
      "100%|██████████████████████████████████████████████████████████████████████████████████| 50/50 [00:00<00:00, 64.11it/s]\n",
      " 14%|███████████▌                                                                       | 7/50 [00:00<00:00, 57.67it/s]"
     ]
    },
    {
     "name": "stdout",
     "output_type": "stream",
     "text": [
      "-43.281948123296196\n",
      "[[-25.8135277  -30.44174707 -33.34139385 -28.37313043 -24.44665892\n",
      "  -14.76959376 -25.16782348 -24.66166706]]\n"
     ]
    },
    {
     "name": "stderr",
     "output_type": "stream",
     "text": [
      "100%|██████████████████████████████████████████████████████████████████████████████████| 50/50 [00:00<00:00, 69.25it/s]\n",
      " 14%|███████████▌                                                                       | 7/50 [00:00<00:00, 64.99it/s]"
     ]
    },
    {
     "name": "stdout",
     "output_type": "stream",
     "text": [
      "-26.196676336092526\n",
      "[[-39.65238916 -24.42591347 -35.07104152 -26.94264302 -26.85609164\n",
      "  -17.35666958 -38.82277406 -41.02056362]]\n"
     ]
    },
    {
     "name": "stderr",
     "output_type": "stream",
     "text": [
      "100%|██████████████████████████████████████████████████████████████████████████████████| 50/50 [00:00<00:00, 70.91it/s]\n",
      " 14%|███████████▌                                                                       | 7/50 [00:00<00:00, 68.81it/s]"
     ]
    },
    {
     "name": "stdout",
     "output_type": "stream",
     "text": [
      "-35.79909610397704\n",
      "[[-25.8135277  -30.44174707 -33.34139385 -28.37313043 -24.44665892\n",
      "  -14.76959376 -25.16782348 -24.66166706]]\n"
     ]
    },
    {
     "name": "stderr",
     "output_type": "stream",
     "text": [
      "100%|██████████████████████████████████████████████████████████████████████████████████| 50/50 [00:00<00:00, 60.57it/s]\n",
      " 14%|███████████▌                                                                       | 7/50 [00:00<00:00, 64.99it/s]"
     ]
    },
    {
     "name": "stdout",
     "output_type": "stream",
     "text": [
      "-25.874687353395547\n",
      "[[-30.24907489 -44.00668606 -37.08819103 -43.04226493 -39.4904231\n",
      "  -54.51328654 -30.88974796 -39.78258936]]\n"
     ]
    },
    {
     "name": "stderr",
     "output_type": "stream",
     "text": [
      "100%|██████████████████████████████████████████████████████████████████████████████████| 50/50 [00:00<00:00, 68.62it/s]\n",
      " 14%|███████████▌                                                                       | 7/50 [00:00<00:00, 65.28it/s]"
     ]
    },
    {
     "name": "stdout",
     "output_type": "stream",
     "text": [
      "-38.4264931784202\n",
      "[[-25.8135277  -30.44174707 -33.34139385 -28.37313043 -24.44665892\n",
      "  -14.76959376 -25.16782348 -24.66166706]]\n"
     ]
    },
    {
     "name": "stderr",
     "output_type": "stream",
     "text": [
      "100%|██████████████████████████████████████████████████████████████████████████████████| 50/50 [00:00<00:00, 68.79it/s]\n",
      " 16%|█████████████▎                                                                     | 8/50 [00:00<00:00, 70.99it/s]"
     ]
    },
    {
     "name": "stdout",
     "output_type": "stream",
     "text": [
      "-26.076954162297543\n",
      "[[-39.80962513 -36.30024845 -34.62275342 -30.94417033 -32.74853697\n",
      "   -3.29506771 -38.6450732  -47.199247  ]]\n"
     ]
    },
    {
     "name": "stderr",
     "output_type": "stream",
     "text": [
      "100%|██████████████████████████████████████████████████████████████████████████████████| 50/50 [00:00<00:00, 68.87it/s]\n",
      " 16%|█████████████▎                                                                     | 8/50 [00:00<00:00, 71.62it/s]"
     ]
    },
    {
     "name": "stdout",
     "output_type": "stream",
     "text": [
      "-38.31007710668789\n",
      "[[-25.8135277  -30.44174707 -33.34139385 -28.37313043 -24.44665892\n",
      "  -14.76959376 -25.16782348 -24.66166706]]\n"
     ]
    },
    {
     "name": "stderr",
     "output_type": "stream",
     "text": [
      "100%|██████████████████████████████████████████████████████████████████████████████████| 50/50 [00:00<00:00, 70.19it/s]\n",
      " 14%|███████████▌                                                                       | 7/50 [00:00<00:00, 68.81it/s]"
     ]
    },
    {
     "name": "stdout",
     "output_type": "stream",
     "text": [
      "-25.68526508558139\n",
      "[[-41.86858308 -43.53322685 -35.66416871 -39.74309999 -37.30511455\n",
      "  -42.99039887 -37.84042775 -45.43695637]]\n"
     ]
    },
    {
     "name": "stderr",
     "output_type": "stream",
     "text": [
      "100%|██████████████████████████████████████████████████████████████████████████████████| 50/50 [00:00<00:00, 53.62it/s]\n",
      " 14%|███████████▌                                                                       | 7/50 [00:00<00:00, 63.51it/s]"
     ]
    },
    {
     "name": "stdout",
     "output_type": "stream",
     "text": [
      "-41.50720821122739\n",
      "[[-25.8135277  -30.44174707 -33.34139385 -28.37313043 -24.44665892\n",
      "  -14.76959376 -25.16782348 -24.66166706]]\n"
     ]
    },
    {
     "name": "stderr",
     "output_type": "stream",
     "text": [
      "100%|██████████████████████████████████████████████████████████████████████████████████| 50/50 [00:00<00:00, 64.25it/s]\n",
      " 12%|█████████▉                                                                         | 6/50 [00:00<00:00, 58.41it/s]"
     ]
    },
    {
     "name": "stdout",
     "output_type": "stream",
     "text": [
      "-25.978118915326252\n",
      "[[-25.64997169 -36.49739131 -33.48838487 -37.17187506 -31.73726968\n",
      "  -33.58567971 -16.72597685 -34.23462963]]\n"
     ]
    },
    {
     "name": "stderr",
     "output_type": "stream",
     "text": [
      "100%|██████████████████████████████████████████████████████████████████████████████████| 50/50 [00:00<00:00, 65.40it/s]\n",
      " 16%|█████████████▎                                                                     | 8/50 [00:00<00:00, 77.13it/s]"
     ]
    },
    {
     "name": "stdout",
     "output_type": "stream",
     "text": [
      "-31.186536401739616\n",
      "[[-25.8135277  -30.44174707 -33.34139385 -28.37313043 -24.44665892\n",
      "  -14.76959376 -25.16782348 -24.66166706]]\n"
     ]
    },
    {
     "name": "stderr",
     "output_type": "stream",
     "text": [
      "100%|██████████████████████████████████████████████████████████████████████████████████| 50/50 [00:00<00:00, 70.52it/s]\n",
      " 16%|█████████████▎                                                                     | 8/50 [00:00<00:00, 73.99it/s]"
     ]
    },
    {
     "name": "stdout",
     "output_type": "stream",
     "text": [
      "-25.948426114698975\n",
      "[[-33.97413525 -35.95308055 -34.83840731 -33.954556   -32.94352515\n",
      "  -38.85336701 -44.03527183 -35.55270768]]\n"
     ]
    },
    {
     "name": "stderr",
     "output_type": "stream",
     "text": [
      "100%|██████████████████████████████████████████████████████████████████████████████████| 50/50 [00:00<00:00, 68.55it/s]\n",
      " 14%|███████████▌                                                                       | 7/50 [00:00<00:00, 66.84it/s]"
     ]
    },
    {
     "name": "stdout",
     "output_type": "stream",
     "text": [
      "-36.179591752972044\n",
      "[[-25.8135277  -30.44174707 -33.34139385 -28.37313043 -24.44665892\n",
      "  -14.76959376 -25.16782348 -24.66166706]]\n"
     ]
    },
    {
     "name": "stderr",
     "output_type": "stream",
     "text": [
      "100%|██████████████████████████████████████████████████████████████████████████████████| 50/50 [00:00<00:00, 55.27it/s]\n",
      " 14%|███████████▌                                                                       | 7/50 [00:00<00:00, 66.84it/s]"
     ]
    },
    {
     "name": "stdout",
     "output_type": "stream",
     "text": [
      "-26.07616220357311\n",
      "[[-29.92879276 -30.78323463 -35.37602698 -28.62224336 -32.94352515\n",
      "  -11.94451231 -25.51185971 -34.29060786]]\n"
     ]
    },
    {
     "name": "stderr",
     "output_type": "stream",
     "text": [
      "100%|██████████████████████████████████████████████████████████████████████████████████| 50/50 [00:00<00:00, 66.49it/s]\n",
      " 16%|█████████████▎                                                                     | 8/50 [00:00<00:00, 72.65it/s]"
     ]
    },
    {
     "name": "stdout",
     "output_type": "stream",
     "text": [
      "-30.86385224698025\n",
      "[[-25.8135277  -30.44174707 -33.34139385 -28.37313043 -24.44665892\n",
      "  -14.76959376 -25.16782348 -24.66166706]]\n"
     ]
    },
    {
     "name": "stderr",
     "output_type": "stream",
     "text": [
      "100%|██████████████████████████████████████████████████████████████████████████████████| 50/50 [00:00<00:00, 68.86it/s]\n",
      " 14%|███████████▌                                                                       | 7/50 [00:00<00:00, 69.43it/s]"
     ]
    },
    {
     "name": "stdout",
     "output_type": "stream",
     "text": [
      "-26.118704584185018\n",
      "[[-32.70774285 -47.04458211 -35.37138414 -47.12826209 -35.70827902\n",
      "  -49.34368151 -28.12544102 -42.04135182]]\n"
     ]
    },
    {
     "name": "stderr",
     "output_type": "stream",
     "text": [
      "100%|██████████████████████████████████████████████████████████████████████████████████| 50/50 [00:00<00:00, 74.00it/s]\n",
      " 16%|█████████████▎                                                                     | 8/50 [00:00<00:00, 75.67it/s]"
     ]
    },
    {
     "name": "stdout",
     "output_type": "stream",
     "text": [
      "-38.99100415108445\n",
      "[[-25.8135277  -30.44174707 -33.34139385 -28.37313043 -24.44665892\n",
      "  -14.76959376 -25.16782348 -24.66166706]]\n"
     ]
    },
    {
     "name": "stderr",
     "output_type": "stream",
     "text": [
      "100%|██████████████████████████████████████████████████████████████████████████████████| 50/50 [00:00<00:00, 70.81it/s]\n",
      " 16%|█████████████▎                                                                     | 8/50 [00:00<00:00, 72.91it/s]"
     ]
    },
    {
     "name": "stdout",
     "output_type": "stream",
     "text": [
      "-25.842647526327713\n",
      "[[-37.98877988 -47.63892581 -34.24357023 -49.48036211 -33.62725934\n",
      "  -51.78160658 -44.64233605 -40.67227193]]\n"
     ]
    },
    {
     "name": "stderr",
     "output_type": "stream",
     "text": [
      "100%|██████████████████████████████████████████████████████████████████████████████████| 50/50 [00:00<00:00, 54.56it/s]\n",
      " 14%|███████████▌                                                                       | 7/50 [00:00<00:00, 69.49it/s]"
     ]
    },
    {
     "name": "stdout",
     "output_type": "stream",
     "text": [
      "-40.90850287762775\n",
      "[[-25.8135277  -30.44174707 -33.34139385 -28.37313043 -24.44665892\n",
      "  -14.76959376 -25.16782348 -24.66166706]]\n"
     ]
    },
    {
     "name": "stderr",
     "output_type": "stream",
     "text": [
      "100%|██████████████████████████████████████████████████████████████████████████████████| 50/50 [00:00<00:00, 63.54it/s]\n",
      " 14%|███████████▌                                                                       | 7/50 [00:00<00:00, 63.01it/s]"
     ]
    },
    {
     "name": "stdout",
     "output_type": "stream",
     "text": [
      "-25.92123445456662\n",
      "[[-31.73920203 -33.07918325 -31.99706143 -27.30184668 -24.44665892\n",
      "  -36.73000337 -27.72981386 -26.18567285]]\n"
     ]
    },
    {
     "name": "stderr",
     "output_type": "stream",
     "text": [
      "100%|██████████████████████████████████████████████████████████████████████████████████| 50/50 [00:00<00:00, 67.08it/s]\n",
      " 16%|█████████████▎                                                                     | 8/50 [00:00<00:00, 70.99it/s]"
     ]
    },
    {
     "name": "stdout",
     "output_type": "stream",
     "text": [
      "-28.470784985399096\n",
      "[[-25.8135277  -30.44174707 -33.34139385 -28.37313043 -24.44665892\n",
      "  -14.76959376 -25.16782348 -24.66166706]]\n"
     ]
    },
    {
     "name": "stderr",
     "output_type": "stream",
     "text": [
      "100%|██████████████████████████████████████████████████████████████████████████████████| 50/50 [00:00<00:00, 65.10it/s]\n",
      " 12%|█████████▉                                                                         | 6/50 [00:00<00:00, 57.28it/s]"
     ]
    },
    {
     "name": "stdout",
     "output_type": "stream",
     "text": [
      "-26.008421886429012\n",
      "[[-41.63511847 -42.72097797 -38.3179538  -42.08676306 -39.4904231\n",
      "  -44.76686856 -37.40141997 -49.23467326]]\n"
     ]
    },
    {
     "name": "stderr",
     "output_type": "stream",
     "text": [
      "100%|██████████████████████████████████████████████████████████████████████████████████| 50/50 [00:00<00:00, 53.42it/s]\n",
      " 14%|███████████▌                                                                       | 7/50 [00:00<00:00, 64.67it/s]"
     ]
    },
    {
     "name": "stdout",
     "output_type": "stream",
     "text": [
      "-43.87810379015002\n",
      "[[-25.8135277  -30.44174707 -33.34139385 -28.37313043 -24.44665892\n",
      "  -14.76959376 -25.16782348 -24.66166706]]\n"
     ]
    },
    {
     "name": "stderr",
     "output_type": "stream",
     "text": [
      "100%|██████████████████████████████████████████████████████████████████████████████████| 50/50 [00:00<00:00, 63.75it/s]\n",
      " 14%|███████████▌                                                                       | 7/50 [00:00<00:00, 61.57it/s]"
     ]
    },
    {
     "name": "stdout",
     "output_type": "stream",
     "text": [
      "-25.880589759496242\n",
      "[[-23.78727433 -26.71139741 -33.50271686 -27.96479793 -26.78046931\n",
      "  -13.37027562 -16.75628789 -35.50422225]]\n"
     ]
    },
    {
     "name": "stderr",
     "output_type": "stream",
     "text": [
      "100%|██████████████████████████████████████████████████████████████████████████████████| 50/50 [00:00<00:00, 56.12it/s]\n",
      " 14%|███████████▌                                                                       | 7/50 [00:00<00:00, 65.90it/s]"
     ]
    },
    {
     "name": "stdout",
     "output_type": "stream",
     "text": [
      "-28.719996981538664\n",
      "[[-23.78727433 -26.71139741 -33.50271686 -27.96479793 -26.78046931\n",
      "  -13.37027562 -16.75628789 -35.50422225]]\n"
     ]
    },
    {
     "name": "stderr",
     "output_type": "stream",
     "text": [
      "100%|██████████████████████████████████████████████████████████████████████████████████| 50/50 [00:00<00:00, 65.40it/s]\n",
      " 14%|███████████▌                                                                       | 7/50 [00:00<00:00, 63.81it/s]"
     ]
    },
    {
     "name": "stdout",
     "output_type": "stream",
     "text": [
      "-28.544773459216465\n",
      "[[-24.96399781 -23.67636959 -34.07627471 -23.32807422 -26.78046931\n",
      "   -7.7483021  -22.76055136 -25.90810257]]\n"
     ]
    },
    {
     "name": "stderr",
     "output_type": "stream",
     "text": [
      "100%|██████████████████████████████████████████████████████████████████████████████████| 50/50 [00:00<00:00, 63.86it/s]\n",
      " 14%|███████████▌                                                                       | 7/50 [00:00<00:00, 59.99it/s]"
     ]
    },
    {
     "name": "stdout",
     "output_type": "stream",
     "text": [
      "-25.10783640857322\n",
      "[[-24.96399781 -23.67636959 -34.07627471 -23.32807422 -26.78046931\n",
      "   -7.7483021  -22.76055136 -25.90810257]]\n"
     ]
    },
    {
     "name": "stderr",
     "output_type": "stream",
     "text": [
      "100%|██████████████████████████████████████████████████████████████████████████████████| 50/50 [00:00<00:00, 53.86it/s]\n",
      " 14%|███████████▌                                                                       | 7/50 [00:00<00:00, 65.61it/s]"
     ]
    },
    {
     "name": "stdout",
     "output_type": "stream",
     "text": [
      "-25.04656647386871\n",
      "[[-32.84500088 -33.07618915 -34.91376233 -28.35713099 -28.91203067\n",
      "   -9.24242526 -46.58040967 -30.54350397]]\n"
     ]
    },
    {
     "name": "stderr",
     "output_type": "stream",
     "text": [
      "100%|██████████████████████████████████████████████████████████████████████████████████| 50/50 [00:00<00:00, 69.44it/s]\n",
      " 14%|███████████▌                                                                       | 7/50 [00:00<00:00, 69.49it/s]"
     ]
    },
    {
     "name": "stdout",
     "output_type": "stream",
     "text": [
      "-32.05632670997947\n",
      "[[-24.96399781 -23.67636959 -34.07627471 -23.32807422 -26.78046931\n",
      "   -7.7483021  -22.76055136 -25.90810257]]\n"
     ]
    },
    {
     "name": "stderr",
     "output_type": "stream",
     "text": [
      "100%|██████████████████████████████████████████████████████████████████████████████████| 50/50 [00:00<00:00, 62.73it/s]\n",
      " 12%|█████████▉                                                                         | 6/50 [00:00<00:00, 56.45it/s]"
     ]
    },
    {
     "name": "stdout",
     "output_type": "stream",
     "text": [
      "-25.11762129439807\n",
      "[[-30.57847219 -30.21823583 -33.84003214 -32.99072438 -32.46637821\n",
      "  -28.82350021 -33.20344172 -39.75284001]]\n"
     ]
    },
    {
     "name": "stderr",
     "output_type": "stream",
     "text": [
      "100%|██████████████████████████████████████████████████████████████████████████████████| 50/50 [00:00<00:00, 59.57it/s]\n",
      " 14%|███████████▌                                                                       | 7/50 [00:00<00:00, 62.67it/s]"
     ]
    },
    {
     "name": "stdout",
     "output_type": "stream",
     "text": [
      "-35.09254610759688\n",
      "[[-24.96399781 -23.67636959 -34.07627471 -23.32807422 -26.78046931\n",
      "   -7.7483021  -22.76055136 -25.90810257]]\n"
     ]
    },
    {
     "name": "stderr",
     "output_type": "stream",
     "text": [
      "100%|██████████████████████████████████████████████████████████████████████████████████| 50/50 [00:00<00:00, 51.35it/s]\n",
      " 14%|███████████▌                                                                       | 7/50 [00:00<00:00, 66.21it/s]"
     ]
    },
    {
     "name": "stdout",
     "output_type": "stream",
     "text": [
      "-25.356715044128062\n",
      "[[-23.80341437 -25.05647479 -31.89369123 -18.41366797 -24.95758625\n",
      "   -5.50357435 -16.77881315 -33.50232718]]\n"
     ]
    },
    {
     "name": "stderr",
     "output_type": "stream",
     "text": [
      "100%|██████████████████████████████████████████████████████████████████████████████████| 50/50 [00:00<00:00, 66.23it/s]\n",
      " 14%|███████████▌                                                                       | 7/50 [00:00<00:00, 61.03it/s]"
     ]
    },
    {
     "name": "stdout",
     "output_type": "stream",
     "text": [
      "-26.474987324668525\n",
      "[[-23.80341437 -25.05647479 -31.89369123 -18.41366797 -24.95758625\n",
      "   -5.50357435 -16.77881315 -33.50232718]]\n"
     ]
    },
    {
     "name": "stderr",
     "output_type": "stream",
     "text": [
      "100%|██████████████████████████████████████████████████████████████████████████████████| 50/50 [00:00<00:00, 63.56it/s]\n",
      " 14%|███████████▌                                                                       | 7/50 [00:00<00:00, 66.84it/s]"
     ]
    },
    {
     "name": "stdout",
     "output_type": "stream",
     "text": [
      "-26.37763298002766\n",
      "[[-26.01701938 -33.03709332 -35.51708849 -31.0049485  -36.50318031\n",
      "  -24.49330417 -28.77079887 -34.36801083]]\n"
     ]
    },
    {
     "name": "stderr",
     "output_type": "stream",
     "text": [
      "100%|██████████████████████████████████████████████████████████████████████████████████| 50/50 [00:00<00:00, 64.69it/s]\n",
      " 16%|█████████████▎                                                                     | 8/50 [00:00<00:00, 73.57it/s]"
     ]
    },
    {
     "name": "stdout",
     "output_type": "stream",
     "text": [
      "-32.22968003527018\n",
      "[[-23.80341437 -25.05647479 -31.89369123 -18.41366797 -24.95758625\n",
      "   -5.50357435 -16.77881315 -33.50232718]]\n"
     ]
    },
    {
     "name": "stderr",
     "output_type": "stream",
     "text": [
      "100%|██████████████████████████████████████████████████████████████████████████████████| 50/50 [00:00<00:00, 68.27it/s]\n",
      " 16%|█████████████▎                                                                     | 8/50 [00:00<00:00, 71.62it/s]"
     ]
    },
    {
     "name": "stdout",
     "output_type": "stream",
     "text": [
      "-26.623582507038204\n",
      "[[-26.01597184 -33.7218384  -33.11549369 -27.4392754  -22.49920437\n",
      "  -19.51977858 -16.56788974 -38.50923667]]\n"
     ]
    },
    {
     "name": "stderr",
     "output_type": "stream",
     "text": [
      "100%|██████████████████████████████████████████████████████████████████████████████████| 50/50 [00:00<00:00, 50.81it/s]\n",
      " 14%|███████████▌                                                                       | 7/50 [00:00<00:00, 65.60it/s]"
     ]
    },
    {
     "name": "stdout",
     "output_type": "stream",
     "text": [
      "-30.329262586532014\n",
      "[[-23.80341437 -25.05647479 -31.89369123 -18.41366797 -24.95758625\n",
      "   -5.50357435 -16.77881315 -33.50232718]]\n"
     ]
    },
    {
     "name": "stderr",
     "output_type": "stream",
     "text": [
      "100%|██████████████████████████████████████████████████████████████████████████████████| 50/50 [00:00<00:00, 63.39it/s]\n",
      " 14%|███████████▌                                                                       | 7/50 [00:00<00:00, 68.14it/s]"
     ]
    },
    {
     "name": "stdout",
     "output_type": "stream",
     "text": [
      "-26.453273314884107\n",
      "[[-25.35457943 -21.41702154 -32.95242829 -23.60045426 -25.76200995\n",
      "  -17.92166673 -28.91062002 -30.10108645]]\n"
     ]
    },
    {
     "name": "stderr",
     "output_type": "stream",
     "text": [
      "100%|██████████████████████████████████████████████████████████████████████████████████| 50/50 [00:00<00:00, 69.92it/s]\n",
      " 16%|█████████████▎                                                                     | 8/50 [00:00<00:00, 70.99it/s]"
     ]
    },
    {
     "name": "stdout",
     "output_type": "stream",
     "text": [
      "-27.71959787140339\n",
      "[[-23.80341437 -25.05647479 -31.89369123 -18.41366797 -24.95758625\n",
      "   -5.50357435 -16.77881315 -33.50232718]]\n"
     ]
    },
    {
     "name": "stderr",
     "output_type": "stream",
     "text": [
      "100%|██████████████████████████████████████████████████████████████████████████████████| 50/50 [00:00<00:00, 66.78it/s]\n",
      " 16%|█████████████▎                                                                     | 8/50 [00:00<00:00, 72.25it/s]"
     ]
    },
    {
     "name": "stdout",
     "output_type": "stream",
     "text": [
      "-26.288351588354505\n",
      "[[-26.88309078 -23.81760317 -32.78219494 -26.02377173 -31.57142651\n",
      "  -31.82993209 -16.87430582 -34.02975366]]\n"
     ]
    },
    {
     "name": "stderr",
     "output_type": "stream",
     "text": [
      "100%|██████████████████████████████████████████████████████████████████████████████████| 50/50 [00:00<00:00, 70.81it/s]\n",
      " 16%|█████████████▎                                                                     | 8/50 [00:00<00:00, 74.94it/s]"
     ]
    },
    {
     "name": "stdout",
     "output_type": "stream",
     "text": [
      "-29.64544731086112\n",
      "[[-23.80341437 -25.05647479 -31.89369123 -18.41366797 -24.95758625\n",
      "   -5.50357435 -16.77881315 -33.50232718]]\n"
     ]
    },
    {
     "name": "stderr",
     "output_type": "stream",
     "text": [
      "100%|██████████████████████████████████████████████████████████████████████████████████| 50/50 [00:00<00:00, 58.63it/s]\n",
      " 16%|█████████████▎                                                                     | 8/50 [00:00<00:00, 71.60it/s]"
     ]
    },
    {
     "name": "stdout",
     "output_type": "stream",
     "text": [
      "-26.413955791106588\n",
      "[[-31.27482675 -39.06545165 -33.75065059 -36.67865073 -31.0474209\n",
      "  -43.30304075 -34.46991406 -34.0957582 ]]\n"
     ]
    },
    {
     "name": "stderr",
     "output_type": "stream",
     "text": [
      "100%|██████████████████████████████████████████████████████████████████████████████████| 50/50 [00:00<00:00, 69.58it/s]\n",
      " 16%|█████████████▎                                                                     | 8/50 [00:00<00:00, 72.25it/s]"
     ]
    },
    {
     "name": "stdout",
     "output_type": "stream",
     "text": [
      "-34.60857358128387\n",
      "[[-23.80341437 -25.05647479 -31.89369123 -18.41366797 -24.95758625\n",
      "   -5.50357435 -16.77881315 -33.50232718]]\n"
     ]
    },
    {
     "name": "stderr",
     "output_type": "stream",
     "text": [
      "100%|██████████████████████████████████████████████████████████████████████████████████| 50/50 [00:00<00:00, 69.88it/s]\n",
      " 14%|███████████▌                                                                       | 7/50 [00:00<00:00, 69.49it/s]"
     ]
    },
    {
     "name": "stdout",
     "output_type": "stream",
     "text": [
      "-26.475865532444725\n",
      "[[-40.86772343 -39.81569313 -34.15835992 -34.86166659 -28.25860427\n",
      "  -42.28443272 -33.35849969 -40.65765265]]\n"
     ]
    },
    {
     "name": "stderr",
     "output_type": "stream",
     "text": [
      "100%|██████████████████████████████████████████████████████████████████████████████████| 50/50 [00:00<00:00, 70.12it/s]\n",
      " 16%|█████████████▎                                                                     | 8/50 [00:00<00:00, 72.90it/s]"
     ]
    },
    {
     "name": "stdout",
     "output_type": "stream",
     "text": [
      "-37.636409540996304\n",
      "[[-23.80341437 -25.05647479 -31.89369123 -18.41366797 -24.95758625\n",
      "   -5.50357435 -16.77881315 -33.50232718]]\n"
     ]
    },
    {
     "name": "stderr",
     "output_type": "stream",
     "text": [
      "100%|██████████████████████████████████████████████████████████████████████████████████| 50/50 [00:00<00:00, 70.34it/s]\n",
      " 14%|███████████▌                                                                       | 7/50 [00:00<00:00, 65.58it/s]"
     ]
    },
    {
     "name": "stdout",
     "output_type": "stream",
     "text": [
      "-26.513520073680947\n",
      "[[-29.28413133 -32.31359563 -36.1659727  -30.06177023 -35.37386436\n",
      "  -26.02995942 -16.69839833 -34.54588552]]\n"
     ]
    },
    {
     "name": "stderr",
     "output_type": "stream",
     "text": [
      "100%|██████████████████████████████████████████████████████████████████████████████████| 50/50 [00:00<00:00, 52.77it/s]\n",
      " 14%|███████████▌                                                                       | 7/50 [00:00<00:00, 66.18it/s]"
     ]
    },
    {
     "name": "stdout",
     "output_type": "stream",
     "text": [
      "-30.95287984991083\n",
      "[[-23.80341437 -25.05647479 -31.89369123 -18.41366797 -24.95758625\n",
      "   -5.50357435 -16.77881315 -33.50232718]]\n"
     ]
    },
    {
     "name": "stderr",
     "output_type": "stream",
     "text": [
      "100%|██████████████████████████████████████████████████████████████████████████████████| 50/50 [00:00<00:00, 67.18it/s]\n",
      " 14%|███████████▌                                                                       | 7/50 [00:00<00:00, 68.14it/s]"
     ]
    },
    {
     "name": "stdout",
     "output_type": "stream",
     "text": [
      "-26.290879831959668\n",
      "[[-26.47890468 -26.50097349 -31.84680225 -20.30048571 -24.95758625\n",
      "   -5.18360906 -25.28606003 -30.37480945]]\n"
     ]
    },
    {
     "name": "stderr",
     "output_type": "stream",
     "text": [
      "100%|██████████████████████████████████████████████████████████████████████████████████| 50/50 [00:00<00:00, 67.88it/s]\n",
      " 12%|█████████▉                                                                         | 6/50 [00:00<00:00, 48.91it/s]"
     ]
    },
    {
     "name": "stdout",
     "output_type": "stream",
     "text": [
      "-26.62393101757961\n",
      "[[-26.47890468 -26.50097349 -31.84680225 -20.30048571 -24.95758625\n",
      "   -5.18360906 -25.28606003 -30.37480945]]\n"
     ]
    },
    {
     "name": "stderr",
     "output_type": "stream",
     "text": [
      "100%|██████████████████████████████████████████████████████████████████████████████████| 50/50 [00:00<00:00, 60.06it/s]\n",
      " 14%|███████████▌                                                                       | 7/50 [00:00<00:00, 66.85it/s]"
     ]
    },
    {
     "name": "stdout",
     "output_type": "stream",
     "text": [
      "-26.83842814709949\n",
      "[[-26.42236254 -26.22177989 -32.39835991 -18.22491489 -20.24235757\n",
      "  -10.62908261 -16.76411852 -33.43662946]]\n"
     ]
    },
    {
     "name": "stderr",
     "output_type": "stream",
     "text": [
      "100%|██████████████████████████████████████████████████████████████████████████████████| 50/50 [00:00<00:00, 51.05it/s]\n",
      " 14%|███████████▌                                                                       | 7/50 [00:00<00:00, 62.66it/s]"
     ]
    },
    {
     "name": "stdout",
     "output_type": "stream",
     "text": [
      "-26.637101781261997\n",
      "[[-26.42236254 -26.22177989 -32.39835991 -18.22491489 -20.24235757\n",
      "  -10.62908261 -16.76411852 -33.43662946]]\n"
     ]
    },
    {
     "name": "stderr",
     "output_type": "stream",
     "text": [
      "100%|██████████████████████████████████████████████████████████████████████████████████| 50/50 [00:00<00:00, 58.68it/s]\n",
      " 16%|█████████████▎                                                                     | 8/50 [00:00<00:00, 70.36it/s]"
     ]
    },
    {
     "name": "stdout",
     "output_type": "stream",
     "text": [
      "-26.7859969065042\n",
      "[[-27.08647673 -32.4269361  -33.67117412 -23.95556813 -24.95758625\n",
      "  -19.90731311 -16.86499874 -37.31421311]]\n"
     ]
    },
    {
     "name": "stderr",
     "output_type": "stream",
     "text": [
      "100%|██████████████████████████████████████████████████████████████████████████████████| 50/50 [00:00<00:00, 60.49it/s]\n",
      " 12%|█████████▉                                                                         | 6/50 [00:00<00:00, 56.76it/s]"
     ]
    },
    {
     "name": "stdout",
     "output_type": "stream",
     "text": [
      "-30.430877557011186\n",
      "[[-26.42236254 -26.22177989 -32.39835991 -18.22491489 -20.24235757\n",
      "  -10.62908261 -16.76411852 -33.43662946]]\n"
     ]
    },
    {
     "name": "stderr",
     "output_type": "stream",
     "text": [
      "100%|██████████████████████████████████████████████████████████████████████████████████| 50/50 [00:00<00:00, 63.78it/s]\n",
      " 14%|███████████▌                                                                       | 7/50 [00:00<00:00, 67.00it/s]"
     ]
    },
    {
     "name": "stdout",
     "output_type": "stream",
     "text": [
      "-26.92213917678232\n",
      "[[-29.53031632 -38.96344215 -33.9349136  -30.93866198 -44.20938062\n",
      "  -41.35481446 -27.8117725  -30.91165348]]\n"
     ]
    },
    {
     "name": "stderr",
     "output_type": "stream",
     "text": [
      "100%|██████████████████████████████████████████████████████████████████████████████████| 50/50 [00:00<00:00, 59.27it/s]\n",
      " 12%|█████████▉                                                                         | 6/50 [00:00<00:00, 55.19it/s]"
     ]
    },
    {
     "name": "stdout",
     "output_type": "stream",
     "text": [
      "-32.62132184204806\n",
      "[[-26.42236254 -26.22177989 -32.39835991 -18.22491489 -20.24235757\n",
      "  -10.62908261 -16.76411852 -33.43662946]]\n"
     ]
    },
    {
     "name": "stderr",
     "output_type": "stream",
     "text": [
      "100%|██████████████████████████████████████████████████████████████████████████████████| 50/50 [00:00<00:00, 51.63it/s]\n",
      " 14%|███████████▌                                                                       | 7/50 [00:00<00:00, 64.99it/s]"
     ]
    },
    {
     "name": "stdout",
     "output_type": "stream",
     "text": [
      "-26.928630573112454\n",
      "[[-26.42236254 -26.22177989 -32.39835991 -18.22491489 -20.24235757\n",
      "  -10.62908261 -16.76411852 -33.43662946]]\n"
     ]
    },
    {
     "name": "stderr",
     "output_type": "stream",
     "text": [
      "100%|██████████████████████████████████████████████████████████████████████████████████| 50/50 [00:00<00:00, 67.60it/s]\n",
      " 16%|█████████████▎                                                                     | 8/50 [00:00<00:00, 77.12it/s]"
     ]
    },
    {
     "name": "stdout",
     "output_type": "stream",
     "text": [
      "-26.777434351966605\n",
      "[[-26.36397494 -35.74967954 -31.41191145 -33.46874131 -31.73726968\n",
      "  -42.69464509 -16.64713746 -35.52513981]]\n"
     ]
    },
    {
     "name": "stderr",
     "output_type": "stream",
     "text": [
      "100%|██████████████████████████████████████████████████████████████████████████████████| 50/50 [00:00<00:00, 69.43it/s]\n",
      " 14%|███████████▌                                                                       | 7/50 [00:00<00:00, 68.81it/s]"
     ]
    },
    {
     "name": "stdout",
     "output_type": "stream",
     "text": [
      "-31.417541004608978\n",
      "[[-26.42236254 -26.22177989 -32.39835991 -18.22491489 -20.24235757\n",
      "  -10.62908261 -16.76411852 -33.43662946]]\n"
     ]
    },
    {
     "name": "stderr",
     "output_type": "stream",
     "text": [
      "100%|██████████████████████████████████████████████████████████████████████████████████| 50/50 [00:00<00:00, 71.62it/s]\n",
      " 16%|█████████████▎                                                                     | 8/50 [00:00<00:00, 72.26it/s]"
     ]
    },
    {
     "name": "stdout",
     "output_type": "stream",
     "text": [
      "-26.847112372863283\n",
      "[[-24.24900853 -23.86425349 -32.84324277 -21.96135928 -20.24235757\n",
      "  -23.071573   -16.88597503 -34.20821706]]\n"
     ]
    },
    {
     "name": "stderr",
     "output_type": "stream",
     "text": [
      "100%|██████████████████████████████████████████████████████████████████████████████████| 50/50 [00:00<00:00, 69.83it/s]\n",
      " 14%|███████████▌                                                                       | 7/50 [00:00<00:00, 68.80it/s]"
     ]
    },
    {
     "name": "stdout",
     "output_type": "stream",
     "text": [
      "-27.70649703360001\n",
      "[[-24.24900853 -23.86425349 -32.84324277 -21.96135928 -20.24235757\n",
      "  -23.071573   -16.88597503 -34.20821706]]\n"
     ]
    },
    {
     "name": "stderr",
     "output_type": "stream",
     "text": [
      "100%|██████████████████████████████████████████████████████████████████████████████████| 50/50 [00:00<00:00, 55.12it/s]\n",
      " 14%|███████████▌                                                                       | 7/50 [00:00<00:00, 63.81it/s]"
     ]
    },
    {
     "name": "stdout",
     "output_type": "stream",
     "text": [
      "-27.918064735321945\n",
      "[[-23.27111887 -37.11813601 -34.58089639 -29.23048051 -24.95758625\n",
      "  -23.12091115 -17.1211123  -39.61385915]]\n"
     ]
    },
    {
     "name": "stderr",
     "output_type": "stream",
     "text": [
      "100%|██████████████████████████████████████████████████████████████████████████████████| 50/50 [00:00<00:00, 65.64it/s]\n",
      " 14%|███████████▌                                                                       | 7/50 [00:00<00:00, 63.22it/s]"
     ]
    },
    {
     "name": "stdout",
     "output_type": "stream",
     "text": [
      "-31.16704357248639\n",
      "[[-24.24900853 -23.86425349 -32.84324277 -21.96135928 -20.24235757\n",
      "  -23.071573   -16.88597503 -34.20821706]]\n"
     ]
    },
    {
     "name": "stderr",
     "output_type": "stream",
     "text": [
      "100%|██████████████████████████████████████████████████████████████████████████████████| 50/50 [00:00<00:00, 67.29it/s]\n",
      " 16%|█████████████▎                                                                     | 8/50 [00:00<00:00, 69.17it/s]"
     ]
    },
    {
     "name": "stdout",
     "output_type": "stream",
     "text": [
      "-27.97090366147291\n",
      "[[-29.69505627 -40.76909948 -35.54602387 -32.94548139 -24.95758625\n",
      "  -21.6429847  -42.12065248 -41.14868952]]\n"
     ]
    },
    {
     "name": "stderr",
     "output_type": "stream",
     "text": [
      "100%|██████████████████████████████████████████████████████████████████████████████████| 50/50 [00:00<00:00, 64.75it/s]\n",
      " 14%|███████████▌                                                                       | 7/50 [00:00<00:00, 65.87it/s]"
     ]
    },
    {
     "name": "stdout",
     "output_type": "stream",
     "text": [
      "-36.34184945221248\n",
      "[[-24.24900853 -23.86425349 -32.84324277 -21.96135928 -20.24235757\n",
      "  -23.071573   -16.88597503 -34.20821706]]\n"
     ]
    },
    {
     "name": "stderr",
     "output_type": "stream",
     "text": [
      "100%|██████████████████████████████████████████████████████████████████████████████████| 50/50 [00:00<00:00, 66.92it/s]\n",
      " 16%|█████████████▎                                                                     | 8/50 [00:00<00:00, 73.57it/s]"
     ]
    },
    {
     "name": "stdout",
     "output_type": "stream",
     "text": [
      "-27.732029205260332\n",
      "[[-26.10942531 -23.30186095 -31.70722655 -18.3406866  -21.95957209\n",
      "   -9.9681003  -28.13159653 -25.75394594]]\n"
     ]
    },
    {
     "name": "stderr",
     "output_type": "stream",
     "text": [
      "100%|██████████████████████████████████████████████████████████████████████████████████| 50/50 [00:00<00:00, 57.70it/s]\n",
      " 14%|███████████▌                                                                       | 7/50 [00:00<00:00, 69.12it/s]"
     ]
    },
    {
     "name": "stdout",
     "output_type": "stream",
     "text": [
      "-25.241522054988575\n",
      "[[-26.10942531 -23.30186095 -31.70722655 -18.3406866  -21.95957209\n",
      "   -9.9681003  -28.13159653 -25.75394594]]\n"
     ]
    },
    {
     "name": "stderr",
     "output_type": "stream",
     "text": [
      "100%|██████████████████████████████████████████████████████████████████████████████████| 50/50 [00:00<00:00, 68.13it/s]\n",
      " 14%|███████████▌                                                                       | 7/50 [00:00<00:00, 62.65it/s]"
     ]
    },
    {
     "name": "stdout",
     "output_type": "stream",
     "text": [
      "-25.4241938207621\n",
      "[[-25.95335029 -17.07485646 -31.0933622  -23.07470615 -31.0474209\n",
      "  -27.36963699 -26.59785796 -27.48236755]]\n"
     ]
    },
    {
     "name": "stderr",
     "output_type": "stream",
     "text": [
      "100%|██████████████████████████████████████████████████████████████████████████████████| 50/50 [00:00<00:00, 66.93it/s]\n",
      " 14%|███████████▌                                                                       | 7/50 [00:00<00:00, 66.52it/s]"
     ]
    },
    {
     "name": "stdout",
     "output_type": "stream",
     "text": [
      "-27.335012484225654\n",
      "[[-26.10942531 -23.30186095 -31.70722655 -18.3406866  -21.95957209\n",
      "   -9.9681003  -28.13159653 -25.75394594]]\n"
     ]
    },
    {
     "name": "stderr",
     "output_type": "stream",
     "text": [
      "100%|██████████████████████████████████████████████████████████████████████████████████| 50/50 [00:00<00:00, 61.39it/s]\n",
      " 12%|█████████▉                                                                         | 6/50 [00:00<00:00, 54.69it/s]"
     ]
    },
    {
     "name": "stdout",
     "output_type": "stream",
     "text": [
      "-24.96233541410285\n",
      "[[-23.85300226 -17.83620244 -29.40081772 -22.08060975 -21.95957209\n",
      "  -31.65023312 -16.94402846 -31.34241744]]\n"
     ]
    },
    {
     "name": "stderr",
     "output_type": "stream",
     "text": [
      "100%|██████████████████████████████████████████████████████████████████████████████████| 50/50 [00:00<00:00, 60.93it/s]\n",
      "  0%|                                                                                           | 0/50 [00:00<?, ?it/s]"
     ]
    },
    {
     "name": "stdout",
     "output_type": "stream",
     "text": [
      "-26.883306241393147\n",
      "[[-23.85300226 -17.83620244 -29.40081772 -22.08060975 -21.95957209\n",
      "  -31.65023312 -16.94402846 -31.34241744]]\n"
     ]
    },
    {
     "name": "stderr",
     "output_type": "stream",
     "text": [
      "100%|██████████████████████████████████████████████████████████████████████████████████| 50/50 [00:01<00:00, 49.89it/s]\n",
      " 14%|███████████▌                                                                       | 7/50 [00:00<00:00, 65.60it/s]"
     ]
    },
    {
     "name": "stdout",
     "output_type": "stream",
     "text": [
      "-26.700994172588445\n",
      "[[-23.78106239 -32.15188368 -31.07669245 -30.39813416 -20.372966\n",
      "  -30.92795856 -16.63628141 -25.88478294]]\n"
     ]
    },
    {
     "name": "stderr",
     "output_type": "stream",
     "text": [
      "100%|██████████████████████████████████████████████████████████████████████████████████| 50/50 [00:00<00:00, 67.58it/s]\n",
      " 14%|███████████▌                                                                       | 7/50 [00:00<00:00, 65.58it/s]"
     ]
    },
    {
     "name": "stdout",
     "output_type": "stream",
     "text": [
      "-25.633160930279224\n",
      "[[-23.78106239 -32.15188368 -31.07669245 -30.39813416 -20.372966\n",
      "  -30.92795856 -16.63628141 -25.88478294]]\n"
     ]
    },
    {
     "name": "stderr",
     "output_type": "stream",
     "text": [
      "100%|██████████████████████████████████████████████████████████████████████████████████| 50/50 [00:00<00:00, 64.33it/s]\n",
      " 16%|█████████████▎                                                                     | 8/50 [00:00<00:00, 69.15it/s]"
     ]
    },
    {
     "name": "stdout",
     "output_type": "stream",
     "text": [
      "-25.426409704824678\n",
      "[[-23.99372707 -25.05697841 -29.91111935 -22.61965163 -23.6764966\n",
      "  -37.39629419 -16.53624774 -28.82301078]]\n"
     ]
    },
    {
     "name": "stderr",
     "output_type": "stream",
     "text": [
      "100%|██████████████████████████████████████████████████████████████████████████████████| 50/50 [00:00<00:00, 71.22it/s]\n",
      " 16%|█████████████▎                                                                     | 8/50 [00:00<00:00, 69.97it/s]"
     ]
    },
    {
     "name": "stdout",
     "output_type": "stream",
     "text": [
      "-26.469988861031563\n",
      "[[-23.99372707 -25.05697841 -29.91111935 -22.61965163 -23.6764966\n",
      "  -37.39629419 -16.53624774 -28.82301078]]\n"
     ]
    },
    {
     "name": "stderr",
     "output_type": "stream",
     "text": [
      "100%|██████████████████████████████████████████████████████████████████████████████████| 50/50 [00:00<00:00, 53.77it/s]\n",
      " 12%|█████████▉                                                                         | 6/50 [00:00<00:00, 54.20it/s]"
     ]
    },
    {
     "name": "stdout",
     "output_type": "stream",
     "text": [
      "-26.57691063128288\n",
      "[[-25.72227531 -39.04401544 -33.60890673 -35.99589607 -33.86350805\n",
      "  -22.35916873 -16.92220563 -33.97491923]]\n"
     ]
    },
    {
     "name": "stderr",
     "output_type": "stream",
     "text": [
      "100%|██████████████████████████████████████████████████████████████████████████████████| 50/50 [00:00<00:00, 50.74it/s]\n",
      " 16%|█████████████▎                                                                     | 8/50 [00:00<00:00, 71.62it/s]"
     ]
    },
    {
     "name": "stdout",
     "output_type": "stream",
     "text": [
      "-30.58174116022715\n",
      "[[-23.99372707 -25.05697841 -29.91111935 -22.61965163 -23.6764966\n",
      "  -37.39629419 -16.53624774 -28.82301078]]\n"
     ]
    },
    {
     "name": "stderr",
     "output_type": "stream",
     "text": [
      "100%|██████████████████████████████████████████████████████████████████████████████████| 50/50 [00:00<00:00, 63.50it/s]\n",
      " 14%|███████████▌                                                                       | 7/50 [00:00<00:00, 66.12it/s]"
     ]
    },
    {
     "name": "stdout",
     "output_type": "stream",
     "text": [
      "-26.50533680390174\n",
      "[[-24.88692472 -31.87762386 -30.70614624 -28.41825398 -24.15532369\n",
      "  -60.12937951 -16.93967207 -33.49864927]]\n"
     ]
    },
    {
     "name": "stderr",
     "output_type": "stream",
     "text": [
      "100%|██████████████████████████████████████████████████████████████████████████████████| 50/50 [00:00<00:00, 64.37it/s]\n",
      " 14%|███████████▌                                                                       | 7/50 [00:00<00:00, 66.21it/s]"
     ]
    },
    {
     "name": "stdout",
     "output_type": "stream",
     "text": [
      "-30.760206937211507\n",
      "[[-23.99372707 -25.05697841 -29.91111935 -22.61965163 -23.6764966\n",
      "  -37.39629419 -16.53624774 -28.82301078]]\n"
     ]
    },
    {
     "name": "stderr",
     "output_type": "stream",
     "text": [
      "100%|██████████████████████████████████████████████████████████████████████████████████| 50/50 [00:00<00:00, 67.75it/s]\n",
      " 14%|███████████▌                                                                       | 7/50 [00:00<00:00, 67.47it/s]"
     ]
    },
    {
     "name": "stdout",
     "output_type": "stream",
     "text": [
      "-26.646629844359477\n",
      "[[-27.66807145 -38.19232513 -34.4809415  -30.08415177 -33.86350805\n",
      "  -32.66793356 -16.65322879 -31.34098127]]\n"
     ]
    },
    {
     "name": "stderr",
     "output_type": "stream",
     "text": [
      "100%|██████████████████████████████████████████████████████████████████████████████████| 50/50 [00:00<00:00, 54.07it/s]\n",
      " 12%|█████████▉                                                                         | 6/50 [00:00<00:00, 58.98it/s]"
     ]
    },
    {
     "name": "stdout",
     "output_type": "stream",
     "text": [
      "-29.85050649456135\n",
      "[[-23.99372707 -25.05697841 -29.91111935 -22.61965163 -23.6764966\n",
      "  -37.39629419 -16.53624774 -28.82301078]]\n"
     ]
    },
    {
     "name": "stderr",
     "output_type": "stream",
     "text": [
      "100%|██████████████████████████████████████████████████████████████████████████████████| 50/50 [00:00<00:00, 63.62it/s]\n",
      " 14%|███████████▌                                                                       | 7/50 [00:00<00:00, 68.14it/s]"
     ]
    },
    {
     "name": "stdout",
     "output_type": "stream",
     "text": [
      "-26.63572432959979\n",
      "[[-27.04719046 -32.06746317 -31.49100661 -18.60882668 -20.24235757\n",
      "  -15.43141531 -16.97216062 -37.69479468]]\n"
     ]
    },
    {
     "name": "stderr",
     "output_type": "stream",
     "text": [
      "100%|██████████████████████████████████████████████████████████████████████████████████| 50/50 [00:00<00:00, 66.10it/s]\n",
      " 14%|███████████▌                                                                       | 7/50 [00:00<00:00, 68.15it/s]"
     ]
    },
    {
     "name": "stdout",
     "output_type": "stream",
     "text": [
      "-29.047583708009252\n",
      "[[-23.99372707 -25.05697841 -29.91111935 -22.61965163 -23.6764966\n",
      "  -37.39629419 -16.53624774 -28.82301078]]\n"
     ]
    },
    {
     "name": "stderr",
     "output_type": "stream",
     "text": [
      "100%|██████████████████████████████████████████████████████████████████████████████████| 50/50 [00:00<00:00, 65.28it/s]\n",
      " 14%|███████████▌                                                                       | 7/50 [00:00<00:00, 67.49it/s]"
     ]
    },
    {
     "name": "stdout",
     "output_type": "stream",
     "text": [
      "-26.548625602007856\n",
      "[[-31.41540317 -30.5416529  -33.70322758 -31.47148898 -30.4049214\n",
      "  -33.27216042 -23.05890369 -34.11138982]]\n"
     ]
    },
    {
     "name": "stderr",
     "output_type": "stream",
     "text": [
      "100%|██████████████████████████████████████████████████████████████████████████████████| 50/50 [00:00<00:00, 64.58it/s]\n",
      " 14%|███████████▌                                                                       | 7/50 [00:00<00:00, 66.83it/s]"
     ]
    },
    {
     "name": "stdout",
     "output_type": "stream",
     "text": [
      "-31.972692517843125\n",
      "[[-23.99372707 -25.05697841 -29.91111935 -22.61965163 -23.6764966\n",
      "  -37.39629419 -16.53624774 -28.82301078]]\n"
     ]
    },
    {
     "name": "stderr",
     "output_type": "stream",
     "text": [
      "100%|██████████████████████████████████████████████████████████████████████████████████| 50/50 [00:00<00:00, 51.74it/s]\n",
      " 14%|███████████▌                                                                       | 7/50 [00:00<00:00, 65.20it/s]"
     ]
    },
    {
     "name": "stdout",
     "output_type": "stream",
     "text": [
      "-26.196631788000627\n",
      "[[-25.14342354 -22.06899545 -31.701853   -23.01397801 -23.6764966\n",
      "  -29.33967844 -16.63712796 -33.82928165]]\n"
     ]
    },
    {
     "name": "stderr",
     "output_type": "stream",
     "text": [
      "100%|██████████████████████████████████████████████████████████████████████████████████| 50/50 [00:00<00:00, 66.21it/s]\n",
      " 14%|███████████▌                                                                       | 7/50 [00:00<00:00, 64.38it/s]"
     ]
    },
    {
     "name": "stdout",
     "output_type": "stream",
     "text": [
      "-28.172513003560148\n",
      "[[-25.14342354 -22.06899545 -31.701853   -23.01397801 -23.6764966\n",
      "  -29.33967844 -16.63712796 -33.82928165]]\n"
     ]
    },
    {
     "name": "stderr",
     "output_type": "stream",
     "text": [
      "100%|██████████████████████████████████████████████████████████████████████████████████| 50/50 [00:00<00:00, 66.31it/s]\n",
      " 16%|█████████████▎                                                                     | 8/50 [00:00<00:00, 73.59it/s]"
     ]
    },
    {
     "name": "stdout",
     "output_type": "stream",
     "text": [
      "-28.04334209702505\n",
      "[[-25.86429256 -21.82867032 -28.41670509 -20.52606022 -23.6764966\n",
      "  -35.55091106 -16.74428984 -29.19269615]]\n"
     ]
    },
    {
     "name": "stderr",
     "output_type": "stream",
     "text": [
      "100%|██████████████████████████████████████████████████████████████████████████████████| 50/50 [00:00<00:00, 66.20it/s]\n",
      " 14%|███████████▌                                                                       | 7/50 [00:00<00:00, 63.23it/s]"
     ]
    },
    {
     "name": "stdout",
     "output_type": "stream",
     "text": [
      "-26.155220371871074\n",
      "[[-25.86429256 -21.82867032 -28.41670509 -20.52606022 -23.6764966\n",
      "  -35.55091106 -16.74428984 -29.19269615]]\n"
     ]
    },
    {
     "name": "stderr",
     "output_type": "stream",
     "text": [
      "100%|██████████████████████████████████████████████████████████████████████████████████| 50/50 [00:00<00:00, 64.77it/s]\n",
      " 14%|███████████▌                                                                       | 7/50 [00:00<00:00, 64.06it/s]"
     ]
    },
    {
     "name": "stdout",
     "output_type": "stream",
     "text": [
      "-26.42195491894236\n",
      "[[-30.70611251 -32.1531616  -31.29987022 -24.73599886 -24.95758625\n",
      "  -28.54617352 -23.61877162 -35.63885879]]\n"
     ]
    },
    {
     "name": "stderr",
     "output_type": "stream",
     "text": [
      "100%|██████████████████████████████████████████████████████████████████████████████████| 50/50 [00:00<00:00, 51.90it/s]\n",
      " 14%|███████████▌                                                                       | 7/50 [00:00<00:00, 64.99it/s]"
     ]
    },
    {
     "name": "stdout",
     "output_type": "stream",
     "text": [
      "-30.807890292634234\n",
      "[[-25.86429256 -21.82867032 -28.41670509 -20.52606022 -23.6764966\n",
      "  -35.55091106 -16.74428984 -29.19269615]]\n"
     ]
    },
    {
     "name": "stderr",
     "output_type": "stream",
     "text": [
      "100%|██████████████████████████████████████████████████████████████████████████████████| 50/50 [00:00<00:00, 66.84it/s]\n",
      " 16%|█████████████▎                                                                     | 8/50 [00:00<00:00, 70.98it/s]"
     ]
    },
    {
     "name": "stdout",
     "output_type": "stream",
     "text": [
      "-26.273038075587234\n",
      "[[-35.14661112 -22.44287022 -28.63102563 -34.52048189 -29.57159519\n",
      "  -52.39266851 -45.64561389 -37.24332808]]\n"
     ]
    },
    {
     "name": "stderr",
     "output_type": "stream",
     "text": [
      "100%|██████████████████████████████████████████████████████████████████████████████████| 50/50 [00:00<00:00, 67.34it/s]\n",
      " 14%|███████████▌                                                                       | 7/50 [00:00<00:00, 66.20it/s]"
     ]
    },
    {
     "name": "stdout",
     "output_type": "stream",
     "text": [
      "-36.572395913866735\n",
      "[[-25.86429256 -21.82867032 -28.41670509 -20.52606022 -23.6764966\n",
      "  -35.55091106 -16.74428984 -29.19269615]]\n"
     ]
    },
    {
     "name": "stderr",
     "output_type": "stream",
     "text": [
      "100%|██████████████████████████████████████████████████████████████████████████████████| 50/50 [00:00<00:00, 68.17it/s]\n",
      " 14%|███████████▌                                                                       | 7/50 [00:00<00:00, 67.49it/s]"
     ]
    },
    {
     "name": "stdout",
     "output_type": "stream",
     "text": [
      "-26.483759187829826\n",
      "[[-29.95871083 -20.66147674 -30.38630804 -20.57631966 -22.97803146\n",
      "  -37.85422403 -30.40997432 -28.12937649]]\n"
     ]
    },
    {
     "name": "stderr",
     "output_type": "stream",
     "text": [
      "100%|██████████████████████████████████████████████████████████████████████████████████| 50/50 [00:00<00:00, 66.71it/s]\n",
      " 16%|█████████████▎                                                                     | 8/50 [00:00<00:00, 70.99it/s]"
     ]
    },
    {
     "name": "stdout",
     "output_type": "stream",
     "text": [
      "-28.425640225111252\n",
      "[[-25.86429256 -21.82867032 -28.41670509 -20.52606022 -23.6764966\n",
      "  -35.55091106 -16.74428984 -29.19269615]]\n"
     ]
    },
    {
     "name": "stderr",
     "output_type": "stream",
     "text": [
      "100%|██████████████████████████████████████████████████████████████████████████████████| 50/50 [00:00<00:00, 52.57it/s]\n",
      " 14%|███████████▌                                                                       | 7/50 [00:00<00:00, 62.67it/s]"
     ]
    },
    {
     "name": "stdout",
     "output_type": "stream",
     "text": [
      "-26.38503648879163\n",
      "[[-26.12600623 -26.02486894 -32.51568817 -22.35840048 -27.09103207\n",
      "  -18.20233598 -16.67069523 -35.04133778]]\n"
     ]
    },
    {
     "name": "stderr",
     "output_type": "stream",
     "text": [
      "100%|██████████████████████████████████████████████████████████████████████████████████| 50/50 [00:00<00:00, 68.77it/s]\n",
      " 16%|█████████████▎                                                                     | 8/50 [00:00<00:00, 71.32it/s]"
     ]
    },
    {
     "name": "stdout",
     "output_type": "stream",
     "text": [
      "-28.667335896398615\n",
      "[[-25.86429256 -21.82867032 -28.41670509 -20.52606022 -23.6764966\n",
      "  -35.55091106 -16.74428984 -29.19269615]]\n"
     ]
    },
    {
     "name": "stderr",
     "output_type": "stream",
     "text": [
      "100%|██████████████████████████████████████████████████████████████████████████████████| 50/50 [00:00<00:00, 69.67it/s]\n",
      " 16%|█████████████▎                                                                     | 8/50 [00:00<00:00, 72.92it/s]"
     ]
    },
    {
     "name": "stdout",
     "output_type": "stream",
     "text": [
      "-26.200751235283708\n",
      "[[-26.82131763 -31.92087659 -34.5277751  -28.18212994 -29.6956054\n",
      "  -25.40664396 -16.64292626 -35.65283645]]\n"
     ]
    },
    {
     "name": "stderr",
     "output_type": "stream",
     "text": [
      "100%|██████████████████████████████████████████████████████████████████████████████████| 50/50 [00:00<00:00, 67.57it/s]\n",
      " 14%|███████████▌                                                                       | 7/50 [00:00<00:00, 67.49it/s]"
     ]
    },
    {
     "name": "stdout",
     "output_type": "stream",
     "text": [
      "-30.184348668380558\n",
      "[[-25.86429256 -21.82867032 -28.41670509 -20.52606022 -23.6764966\n",
      "  -35.55091106 -16.74428984 -29.19269615]]\n"
     ]
    },
    {
     "name": "stderr",
     "output_type": "stream",
     "text": [
      "100%|██████████████████████████████████████████████████████████████████████████████████| 50/50 [00:00<00:00, 67.74it/s]\n",
      "  0%|                                                                                           | 0/50 [00:00<?, ?it/s]"
     ]
    },
    {
     "name": "stdout",
     "output_type": "stream",
     "text": [
      "-26.203630821624756\n",
      "[[-33.84496167 -32.83078118 -34.98551615 -29.93462678 -24.04479542\n",
      "  -22.21083319 -44.89203358 -35.02667492]]\n"
     ]
    },
    {
     "name": "stderr",
     "output_type": "stream",
     "text": [
      "100%|██████████████████████████████████████████████████████████████████████████████████| 50/50 [00:00<00:00, 55.73it/s]\n",
      " 14%|███████████▌                                                                       | 7/50 [00:00<00:00, 66.82it/s]"
     ]
    },
    {
     "name": "stdout",
     "output_type": "stream",
     "text": [
      "-34.47010972745598\n",
      "[[-25.86429256 -21.82867032 -28.41670509 -20.52606022 -23.6764966\n",
      "  -35.55091106 -16.74428984 -29.19269615]]\n"
     ]
    },
    {
     "name": "stderr",
     "output_type": "stream",
     "text": [
      "100%|██████████████████████████████████████████████████████████████████████████████████| 50/50 [00:00<00:00, 68.61it/s]\n",
      " 16%|█████████████▎                                                                     | 8/50 [00:00<00:00, 70.69it/s]"
     ]
    },
    {
     "name": "stdout",
     "output_type": "stream",
     "text": [
      "-26.26398890353307\n",
      "[[-27.1749303  -24.20817845 -28.20980991 -17.87761282 -23.6764966\n",
      "  -10.45691868 -16.58535618 -37.36531054]]\n"
     ]
    },
    {
     "name": "stderr",
     "output_type": "stream",
     "text": [
      "100%|██████████████████████████████████████████████████████████████████████████████████| 50/50 [00:00<00:00, 69.14it/s]\n",
      " 12%|█████████▉                                                                         | 6/50 [00:00<00:00, 47.37it/s]"
     ]
    },
    {
     "name": "stdout",
     "output_type": "stream",
     "text": [
      "-27.86535244656923\n",
      "[[-25.86429256 -21.82867032 -28.41670509 -20.52606022 -23.6764966\n",
      "  -35.55091106 -16.74428984 -29.19269615]]\n"
     ]
    },
    {
     "name": "stderr",
     "output_type": "stream",
     "text": [
      "100%|██████████████████████████████████████████████████████████████████████████████████| 50/50 [00:00<00:00, 61.42it/s]\n",
      " 16%|█████████████▎                                                                     | 8/50 [00:00<00:00, 71.62it/s]"
     ]
    },
    {
     "name": "stdout",
     "output_type": "stream",
     "text": [
      "-26.184809567671536\n",
      "[[-27.71514401 -19.39251167 -29.69096895 -29.71652831 -23.6764966\n",
      "  -40.22557027 -27.82754572 -30.73089668]]\n"
     ]
    },
    {
     "name": "stderr",
     "output_type": "stream",
     "text": [
      "100%|██████████████████████████████████████████████████████████████████████████████████| 50/50 [00:00<00:00, 55.51it/s]\n",
      " 16%|█████████████▎                                                                     | 8/50 [00:00<00:00, 68.56it/s]"
     ]
    },
    {
     "name": "stdout",
     "output_type": "stream",
     "text": [
      "-29.62935736961679\n",
      "[[-25.86429256 -21.82867032 -28.41670509 -20.52606022 -23.6764966\n",
      "  -35.55091106 -16.74428984 -29.19269615]]\n"
     ]
    },
    {
     "name": "stderr",
     "output_type": "stream",
     "text": [
      "100%|██████████████████████████████████████████████████████████████████████████████████| 50/50 [00:00<00:00, 68.55it/s]\n",
      " 16%|█████████████▎                                                                     | 8/50 [00:00<00:00, 70.24it/s]"
     ]
    },
    {
     "name": "stdout",
     "output_type": "stream",
     "text": [
      "-26.28158406952481\n",
      "[[-25.95137912 -20.9387604  -32.23895614 -20.12892543 -22.49920437\n",
      "  -17.81274546 -16.56655877 -30.87279915]]\n"
     ]
    },
    {
     "name": "stderr",
     "output_type": "stream",
     "text": [
      "100%|██████████████████████████████████████████████████████████████████████████████████| 50/50 [00:00<00:00, 69.34it/s]\n",
      " 14%|███████████▌                                                                       | 7/50 [00:00<00:00, 64.41it/s]"
     ]
    },
    {
     "name": "stdout",
     "output_type": "stream",
     "text": [
      "-26.277542400823307\n",
      "[[-25.95137912 -20.9387604  -32.23895614 -20.12892543 -22.49920437\n",
      "  -17.81274546 -16.56655877 -30.87279915]]\n"
     ]
    },
    {
     "name": "stderr",
     "output_type": "stream",
     "text": [
      "100%|██████████████████████████████████████████████████████████████████████████████████| 50/50 [00:00<00:00, 64.55it/s]\n",
      " 14%|███████████▌                                                                       | 7/50 [00:00<00:00, 65.60it/s]"
     ]
    },
    {
     "name": "stdout",
     "output_type": "stream",
     "text": [
      "-26.238141029287082\n",
      "[[-27.45099353 -26.4134027  -30.33481226 -21.74722633 -24.95758625\n",
      "  -27.77626143 -16.78594135 -36.67262485]]\n"
     ]
    },
    {
     "name": "stderr",
     "output_type": "stream",
     "text": [
      "100%|██████████████████████████████████████████████████████████████████████████████████| 50/50 [00:00<00:00, 65.58it/s]\n",
      " 14%|███████████▌                                                                       | 7/50 [00:00<00:00, 61.57it/s]"
     ]
    },
    {
     "name": "stdout",
     "output_type": "stream",
     "text": [
      "-29.466370257419186\n",
      "[[-25.95137912 -20.9387604  -32.23895614 -20.12892543 -22.49920437\n",
      "  -17.81274546 -16.56655877 -30.87279915]]\n"
     ]
    },
    {
     "name": "stderr",
     "output_type": "stream",
     "text": [
      "100%|██████████████████████████████████████████████████████████████████████████████████| 50/50 [00:01<00:00, 49.83it/s]\n",
      " 14%|███████████▌                                                                       | 7/50 [00:00<00:00, 65.59it/s]"
     ]
    },
    {
     "name": "stdout",
     "output_type": "stream",
     "text": [
      "-26.227169361922343\n",
      "[[-25.41930542 -34.56266567 -33.56924317 -33.79904574 -33.86350805\n",
      "  -47.45970779 -16.76411852 -38.83097213]]\n"
     ]
    },
    {
     "name": "stderr",
     "output_type": "stream",
     "text": [
      "100%|██████████████████████████████████████████████████████████████████████████████████| 50/50 [00:00<00:00, 62.47it/s]\n",
      " 12%|█████████▉                                                                         | 6/50 [00:00<00:00, 58.98it/s]"
     ]
    },
    {
     "name": "stdout",
     "output_type": "stream",
     "text": [
      "-33.48926024030494\n",
      "[[-25.95137912 -20.9387604  -32.23895614 -20.12892543 -22.49920437\n",
      "  -17.81274546 -16.56655877 -30.87279915]]\n"
     ]
    },
    {
     "name": "stderr",
     "output_type": "stream",
     "text": [
      "100%|██████████████████████████████████████████████████████████████████████████████████| 50/50 [00:00<00:00, 50.15it/s]\n",
      " 14%|███████████▌                                                                       | 7/50 [00:00<00:00, 62.11it/s]"
     ]
    },
    {
     "name": "stdout",
     "output_type": "stream",
     "text": [
      "-25.94156427224292\n",
      "[[-26.209058   -27.96577019 -29.89548367 -25.09364998 -20.372966\n",
      "  -24.99664177 -16.53624774 -28.49120844]]\n"
     ]
    },
    {
     "name": "stderr",
     "output_type": "stream",
     "text": [
      "100%|██████████████████████████████████████████████████████████████████████████████████| 50/50 [00:00<00:00, 63.71it/s]\n",
      " 14%|███████████▌                                                                       | 7/50 [00:00<00:00, 65.60it/s]"
     ]
    },
    {
     "name": "stdout",
     "output_type": "stream",
     "text": [
      "-25.50886211872307\n",
      "[[-26.209058   -27.96577019 -29.89548367 -25.09364998 -20.372966\n",
      "  -24.99664177 -16.53624774 -28.49120844]]\n"
     ]
    },
    {
     "name": "stderr",
     "output_type": "stream",
     "text": [
      "100%|██████████████████████████████████████████████████████████████████████████████████| 50/50 [00:00<00:00, 63.17it/s]\n",
      " 14%|███████████▌                                                                       | 7/50 [00:00<00:00, 66.21it/s]"
     ]
    },
    {
     "name": "stdout",
     "output_type": "stream",
     "text": [
      "-26.008497878754284\n",
      "[[-38.27911909 -51.64035513 -37.89125767 -46.81491087 -39.4904231\n",
      "  -49.95585925 -31.61835799 -41.22175415]]\n"
     ]
    },
    {
     "name": "stderr",
     "output_type": "stream",
     "text": [
      "100%|██████████████████████████████████████████████████████████████████████████████████| 50/50 [00:01<00:00, 47.04it/s]\n",
      " 14%|███████████▌                                                                       | 7/50 [00:00<00:00, 62.67it/s]"
     ]
    },
    {
     "name": "stdout",
     "output_type": "stream",
     "text": [
      "-40.757350476444046\n",
      "[[-26.209058   -27.96577019 -29.89548367 -25.09364998 -20.372966\n",
      "  -24.99664177 -16.53624774 -28.49120844]]\n"
     ]
    },
    {
     "name": "stderr",
     "output_type": "stream",
     "text": [
      "100%|██████████████████████████████████████████████████████████████████████████████████| 50/50 [00:00<00:00, 60.62it/s]\n",
      " 14%|███████████▌                                                                       | 7/50 [00:00<00:00, 60.50it/s]"
     ]
    },
    {
     "name": "stdout",
     "output_type": "stream",
     "text": [
      "-25.897557819377706\n",
      "[[-31.14431015 -31.60195416 -30.67531688 -27.56266422 -29.30245969\n",
      "  -31.38885387 -28.4994129  -40.15542999]]\n"
     ]
    },
    {
     "name": "stderr",
     "output_type": "stream",
     "text": [
      "100%|██████████████████████████████████████████████████████████████████████████████████| 50/50 [00:00<00:00, 62.33it/s]\n",
      " 16%|█████████████▎                                                                     | 8/50 [00:00<00:00, 70.36it/s]"
     ]
    },
    {
     "name": "stdout",
     "output_type": "stream",
     "text": [
      "-33.6424700841355\n",
      "[[-26.209058   -27.96577019 -29.89548367 -25.09364998 -20.372966\n",
      "  -24.99664177 -16.53624774 -28.49120844]]\n"
     ]
    },
    {
     "name": "stderr",
     "output_type": "stream",
     "text": [
      "100%|██████████████████████████████████████████████████████████████████████████████████| 50/50 [00:00<00:00, 67.34it/s]\n",
      " 14%|███████████▌                                                                       | 7/50 [00:00<00:00, 64.39it/s]"
     ]
    },
    {
     "name": "stdout",
     "output_type": "stream",
     "text": [
      "-25.86442589253679\n",
      "[[-29.75270162 -41.62909647 -32.64869263 -35.34712559 -27.76277335\n",
      "  -26.65298847 -44.71450704 -30.90516315]]\n"
     ]
    },
    {
     "name": "stderr",
     "output_type": "stream",
     "text": [
      "100%|██████████████████████████████████████████████████████████████████████████████████| 50/50 [00:00<00:00, 62.34it/s]\n",
      " 14%|███████████▌                                                                       | 7/50 [00:00<00:00, 68.81it/s]"
     ]
    },
    {
     "name": "stdout",
     "output_type": "stream",
     "text": [
      "-32.88583112355278\n",
      "[[-26.209058   -27.96577019 -29.89548367 -25.09364998 -20.372966\n",
      "  -24.99664177 -16.53624774 -28.49120844]]\n"
     ]
    },
    {
     "name": "stderr",
     "output_type": "stream",
     "text": [
      "100%|██████████████████████████████████████████████████████████████████████████████████| 50/50 [00:01<00:00, 48.84it/s]\n",
      " 12%|█████████▉                                                                         | 6/50 [00:00<00:00, 57.85it/s]"
     ]
    },
    {
     "name": "stdout",
     "output_type": "stream",
     "text": [
      "-25.86108962366246\n",
      "[[-34.78481704 -17.98490692 -30.85714028 -22.62083628 -26.58548113\n",
      "  -24.13791833 -46.09631948 -30.3451204 ]]\n"
     ]
    },
    {
     "name": "stderr",
     "output_type": "stream",
     "text": [
      "100%|██████████████████████████████████████████████████████████████████████████████████| 50/50 [00:00<00:00, 63.65it/s]\n",
      " 14%|███████████▌                                                                       | 7/50 [00:00<00:00, 68.14it/s]"
     ]
    },
    {
     "name": "stdout",
     "output_type": "stream",
     "text": [
      "-31.38881928976857\n",
      "[[-26.209058   -27.96577019 -29.89548367 -25.09364998 -20.372966\n",
      "  -24.99664177 -16.53624774 -28.49120844]]\n"
     ]
    },
    {
     "name": "stderr",
     "output_type": "stream",
     "text": [
      "100%|██████████████████████████████████████████████████████████████████████████████████| 50/50 [00:00<00:00, 65.44it/s]\n",
      " 12%|█████████▉                                                                         | 6/50 [00:00<00:00, 59.56it/s]"
     ]
    },
    {
     "name": "stdout",
     "output_type": "stream",
     "text": [
      "-25.911966322990967\n",
      "[[-29.4576796  -36.54393248 -32.96196582 -32.179653   -29.82670595\n",
      "  -41.79595006 -27.84993361 -36.90153727]]\n"
     ]
    },
    {
     "name": "stderr",
     "output_type": "stream",
     "text": [
      "100%|██████████████████████████████████████████████████████████████████████████████████| 50/50 [00:00<00:00, 64.57it/s]\n",
      " 14%|███████████▌                                                                       | 7/50 [00:00<00:00, 66.21it/s]"
     ]
    },
    {
     "name": "stdout",
     "output_type": "stream",
     "text": [
      "-33.631154674804726\n",
      "[[-26.209058   -27.96577019 -29.89548367 -25.09364998 -20.372966\n",
      "  -24.99664177 -16.53624774 -28.49120844]]\n"
     ]
    },
    {
     "name": "stderr",
     "output_type": "stream",
     "text": [
      "100%|██████████████████████████████████████████████████████████████████████████████████| 50/50 [00:00<00:00, 68.07it/s]\n",
      " 14%|███████████▌                                                                       | 7/50 [00:00<00:00, 67.48it/s]"
     ]
    },
    {
     "name": "stdout",
     "output_type": "stream",
     "text": [
      "-25.76432247791072\n",
      "[[-40.80185975 -36.98167059 -36.0050849  -42.77969449 -36.93135369\n",
      "  -39.358276   -45.61952005 -46.36070076]]\n"
     ]
    },
    {
     "name": "stderr",
     "output_type": "stream",
     "text": [
      "100%|██████████████████████████████████████████████████████████████████████████████████| 50/50 [00:00<00:00, 54.46it/s]\n",
      " 14%|███████████▌                                                                       | 7/50 [00:00<00:00, 65.60it/s]"
     ]
    },
    {
     "name": "stdout",
     "output_type": "stream",
     "text": [
      "-42.17858645339549\n",
      "[[-26.209058   -27.96577019 -29.89548367 -25.09364998 -20.372966\n",
      "  -24.99664177 -16.53624774 -28.49120844]]\n"
     ]
    },
    {
     "name": "stderr",
     "output_type": "stream",
     "text": [
      "100%|██████████████████████████████████████████████████████████████████████████████████| 50/50 [00:00<00:00, 66.05it/s]\n",
      " 16%|█████████████▎                                                                     | 8/50 [00:00<00:00, 74.51it/s]"
     ]
    },
    {
     "name": "stdout",
     "output_type": "stream",
     "text": [
      "-25.86327637448858\n",
      "[[-29.75120497 -37.11397845 -28.19414448 -31.86057148 -27.08131204\n",
      "  -49.64779672 -27.32257935 -33.99803522]]\n"
     ]
    },
    {
     "name": "stderr",
     "output_type": "stream",
     "text": [
      "100%|██████████████████████████████████████████████████████████████████████████████████| 50/50 [00:00<00:00, 72.58it/s]\n",
      " 16%|█████████████▎                                                                     | 8/50 [00:00<00:00, 72.26it/s]"
     ]
    },
    {
     "name": "stdout",
     "output_type": "stream",
     "text": [
      "-32.06646627244673\n",
      "[[-26.209058   -27.96577019 -29.89548367 -25.09364998 -20.372966\n",
      "  -24.99664177 -16.53624774 -28.49120844]]\n"
     ]
    },
    {
     "name": "stderr",
     "output_type": "stream",
     "text": [
      "100%|██████████████████████████████████████████████████████████████████████████████████| 50/50 [00:00<00:00, 72.65it/s]\n",
      " 14%|███████████▌                                                                       | 7/50 [00:00<00:00, 69.88it/s]"
     ]
    },
    {
     "name": "stdout",
     "output_type": "stream",
     "text": [
      "-25.817428942616385\n",
      "[[-29.39519489 -48.27961256 -31.4945662  -38.88291033 -27.95776154\n",
      "  -37.89220101 -42.85963716 -34.59585674]]\n"
     ]
    },
    {
     "name": "stderr",
     "output_type": "stream",
     "text": [
      "100%|██████████████████████████████████████████████████████████████████████████████████| 50/50 [00:00<00:00, 68.55it/s]\n",
      " 16%|█████████████▎                                                                     | 8/50 [00:00<00:00, 71.60it/s]"
     ]
    },
    {
     "name": "stdout",
     "output_type": "stream",
     "text": [
      "-35.139475042388824\n",
      "[[-26.209058   -27.96577019 -29.89548367 -25.09364998 -20.372966\n",
      "  -24.99664177 -16.53624774 -28.49120844]]\n"
     ]
    },
    {
     "name": "stderr",
     "output_type": "stream",
     "text": [
      "100%|██████████████████████████████████████████████████████████████████████████████████| 50/50 [00:00<00:00, 56.41it/s]\n",
      " 16%|█████████████▎                                                                     | 8/50 [00:00<00:00, 75.65it/s]"
     ]
    },
    {
     "name": "stdout",
     "output_type": "stream",
     "text": [
      "-26.21713783428279\n",
      "[[-29.75252971 -28.02521071 -32.60421567 -38.14011394 -33.86350805\n",
      "  -43.1022893  -27.74173731 -34.45916459]]\n"
     ]
    },
    {
     "name": "stderr",
     "output_type": "stream",
     "text": [
      "100%|██████████████████████████████████████████████████████████████████████████████████| 50/50 [00:00<00:00, 69.25it/s]\n",
      " 14%|███████████▌                                                                       | 7/50 [00:00<00:00, 64.37it/s]"
     ]
    },
    {
     "name": "stdout",
     "output_type": "stream",
     "text": [
      "-33.29784793483028\n",
      "[[-26.209058   -27.96577019 -29.89548367 -25.09364998 -20.372966\n",
      "  -24.99664177 -16.53624774 -28.49120844]]\n"
     ]
    },
    {
     "name": "stderr",
     "output_type": "stream",
     "text": [
      "100%|██████████████████████████████████████████████████████████████████████████████████| 50/50 [00:00<00:00, 60.58it/s]\n",
      " 14%|███████████▌                                                                       | 7/50 [00:00<00:00, 63.81it/s]"
     ]
    },
    {
     "name": "stdout",
     "output_type": "stream",
     "text": [
      "-25.810049355142976\n",
      "[[-33.31970766 -27.03229314 -33.77485787 -22.71858415 -20.36038216\n",
      "  -16.72559771 -28.56191084 -22.95391967]]\n"
     ]
    },
    {
     "name": "stderr",
     "output_type": "stream",
     "text": [
      "100%|██████████████████████████████████████████████████████████████████████████████████| 50/50 [00:00<00:00, 59.54it/s]\n",
      " 14%|███████████▌                                                                       | 7/50 [00:00<00:00, 68.14it/s]"
     ]
    },
    {
     "name": "stdout",
     "output_type": "stream",
     "text": [
      "-25.92012733918349\n",
      "[[-33.31970766 -27.03229314 -33.77485787 -22.71858415 -20.36038216\n",
      "  -16.72559771 -28.56191084 -22.95391967]]\n"
     ]
    },
    {
     "name": "stderr",
     "output_type": "stream",
     "text": [
      "100%|██████████████████████████████████████████████████████████████████████████████████| 50/50 [00:00<00:00, 65.07it/s]\n",
      " 14%|███████████▌                                                                       | 7/50 [00:00<00:00, 69.47it/s]"
     ]
    },
    {
     "name": "stdout",
     "output_type": "stream",
     "text": [
      "-25.90772631111324\n",
      "[[-40.60556036 -53.17430582 -37.8502118  -43.11150709 -35.55508886\n",
      "  -46.69236638 -28.17961436 -48.29438085]]\n"
     ]
    },
    {
     "name": "stderr",
     "output_type": "stream",
     "text": [
      "100%|██████████████████████████████████████████████████████████████████████████████████| 50/50 [00:00<00:00, 52.61it/s]\n",
      " 16%|█████████████▎                                                                     | 8/50 [00:00<00:00, 70.32it/s]"
     ]
    },
    {
     "name": "stdout",
     "output_type": "stream",
     "text": [
      "-42.512901634685306\n",
      "[[-33.31970766 -27.03229314 -33.77485787 -22.71858415 -20.36038216\n",
      "  -16.72559771 -28.56191084 -22.95391967]]\n"
     ]
    },
    {
     "name": "stderr",
     "output_type": "stream",
     "text": [
      "100%|██████████████████████████████████████████████████████████████████████████████████| 50/50 [00:00<00:00, 66.25it/s]\n",
      " 14%|███████████▌                                                                       | 7/50 [00:00<00:00, 66.22it/s]"
     ]
    },
    {
     "name": "stdout",
     "output_type": "stream",
     "text": [
      "-25.862417876186573\n",
      "[[-40.59795547 -40.74273303 -35.90364585 -35.75985544 -27.85528086\n",
      "  -23.12566551 -29.32057823 -34.51785949]]\n"
     ]
    },
    {
     "name": "stderr",
     "output_type": "stream",
     "text": [
      "100%|██████████████████████████████████████████████████████████████████████████████████| 50/50 [00:00<00:00, 62.67it/s]\n",
      " 14%|███████████▌                                                                       | 7/50 [00:00<00:00, 66.85it/s]"
     ]
    },
    {
     "name": "stdout",
     "output_type": "stream",
     "text": [
      "-34.009355845388555\n",
      "[[-33.31970766 -27.03229314 -33.77485787 -22.71858415 -20.36038216\n",
      "  -16.72559771 -28.56191084 -22.95391967]]\n"
     ]
    },
    {
     "name": "stderr",
     "output_type": "stream",
     "text": [
      "100%|██████████████████████████████████████████████████████████████████████████████████| 50/50 [00:00<00:00, 66.03it/s]\n",
      " 14%|███████████▌                                                                       | 7/50 [00:00<00:00, 65.60it/s]"
     ]
    },
    {
     "name": "stdout",
     "output_type": "stream",
     "text": [
      "-25.78761190162813\n",
      "[[-38.94730059 -41.0622532  -36.19626835 -33.35334126 -33.55365364\n",
      "  -35.77262812 -29.83769383 -41.94021403]]\n"
     ]
    },
    {
     "name": "stderr",
     "output_type": "stream",
     "text": [
      "100%|██████████████████████████████████████████████████████████████████████████████████| 50/50 [00:00<00:00, 66.14it/s]\n",
      " 14%|███████████▌                                                                       | 7/50 [00:00<00:00, 63.93it/s]"
     ]
    },
    {
     "name": "stdout",
     "output_type": "stream",
     "text": [
      "-37.7520808796288\n",
      "[[-33.31970766 -27.03229314 -33.77485787 -22.71858415 -20.36038216\n",
      "  -16.72559771 -28.56191084 -22.95391967]]\n"
     ]
    },
    {
     "name": "stderr",
     "output_type": "stream",
     "text": [
      "100%|██████████████████████████████████████████████████████████████████████████████████| 50/50 [00:00<00:00, 52.75it/s]\n",
      " 14%|███████████▌                                                                       | 7/50 [00:00<00:00, 59.48it/s]"
     ]
    },
    {
     "name": "stdout",
     "output_type": "stream",
     "text": [
      "-25.76654366717696\n",
      "[[-35.17759115 -43.96293589 -35.77330244 -46.08083634 -41.30528693\n",
      "  -51.84916296 -40.87391531 -47.01114287]]\n"
     ]
    },
    {
     "name": "stderr",
     "output_type": "stream",
     "text": [
      "100%|██████████████████████████████████████████████████████████████████████████████████| 50/50 [00:00<00:00, 63.25it/s]\n",
      " 14%|███████████▌                                                                       | 7/50 [00:00<00:00, 62.38it/s]"
     ]
    },
    {
     "name": "stdout",
     "output_type": "stream",
     "text": [
      "-43.22035507109782\n",
      "[[-33.31970766 -27.03229314 -33.77485787 -22.71858415 -20.36038216\n",
      "  -16.72559771 -28.56191084 -22.95391967]]\n"
     ]
    },
    {
     "name": "stderr",
     "output_type": "stream",
     "text": [
      "100%|██████████████████████████████████████████████████████████████████████████████████| 50/50 [00:00<00:00, 64.15it/s]\n",
      " 16%|█████████████▎                                                                     | 8/50 [00:00<00:00, 70.97it/s]"
     ]
    },
    {
     "name": "stdout",
     "output_type": "stream",
     "text": [
      "-26.05757933414516\n",
      "[[-40.74192568 -46.91710392 -37.12033592 -39.30269371 -32.10078032\n",
      "  -34.43711115 -41.17999502 -47.85519012]]\n"
     ]
    },
    {
     "name": "stderr",
     "output_type": "stream",
     "text": [
      "100%|██████████████████████████████████████████████████████████████████████████████████| 50/50 [00:00<00:00, 61.21it/s]\n",
      " 14%|███████████▌                                                                       | 7/50 [00:00<00:00, 68.81it/s]"
     ]
    },
    {
     "name": "stdout",
     "output_type": "stream",
     "text": [
      "-42.09805013450007\n",
      "[[-33.31970766 -27.03229314 -33.77485787 -22.71858415 -20.36038216\n",
      "  -16.72559771 -28.56191084 -22.95391967]]\n"
     ]
    },
    {
     "name": "stderr",
     "output_type": "stream",
     "text": [
      "100%|██████████████████████████████████████████████████████████████████████████████████| 50/50 [00:00<00:00, 72.03it/s]\n",
      "  0%|                                                                                           | 0/50 [00:00<?, ?it/s]"
     ]
    },
    {
     "name": "stdout",
     "output_type": "stream",
     "text": [
      "-25.741507402616087\n",
      "[[-31.18458434 -41.31032353 -29.90958354 -27.63221242 -27.25842918\n",
      "  -48.93555749 -27.15690695 -35.13498567]]\n"
     ]
    },
    {
     "name": "stderr",
     "output_type": "stream",
     "text": [
      "100%|██████████████████████████████████████████████████████████████████████████████████| 50/50 [00:00<00:00, 58.73it/s]\n",
      " 16%|█████████████▎                                                                     | 8/50 [00:00<00:00, 72.24it/s]"
     ]
    },
    {
     "name": "stdout",
     "output_type": "stream",
     "text": [
      "-33.257173925712266\n",
      "[[-33.31970766 -27.03229314 -33.77485787 -22.71858415 -20.36038216\n",
      "  -16.72559771 -28.56191084 -22.95391967]]\n"
     ]
    },
    {
     "name": "stderr",
     "output_type": "stream",
     "text": [
      "100%|██████████████████████████████████████████████████████████████████████████████████| 50/50 [00:00<00:00, 71.82it/s]\n",
      " 16%|█████████████▎                                                                     | 8/50 [00:00<00:00, 78.62it/s]"
     ]
    },
    {
     "name": "stdout",
     "output_type": "stream",
     "text": [
      "-25.79583657498208\n",
      "[[-31.02338345 -26.37735017 -33.4644454  -21.01590169 -23.53629331\n",
      "  -23.33208761 -31.85186101 -30.96512995]]\n"
     ]
    },
    {
     "name": "stderr",
     "output_type": "stream",
     "text": [
      "100%|██████████████████████████████████████████████████████████████████████████████████| 50/50 [00:00<00:00, 74.04it/s]\n",
      " 16%|█████████████▎                                                                     | 8/50 [00:00<00:00, 78.23it/s]"
     ]
    },
    {
     "name": "stdout",
     "output_type": "stream",
     "text": [
      "-29.689981158707656\n",
      "[[-31.02338345 -26.37735017 -33.4644454  -21.01590169 -23.53629331\n",
      "  -23.33208761 -31.85186101 -30.96512995]]\n"
     ]
    },
    {
     "name": "stderr",
     "output_type": "stream",
     "text": [
      "100%|██████████████████████████████████████████████████████████████████████████████████| 50/50 [00:00<00:00, 74.55it/s]\n",
      " 16%|█████████████▎                                                                     | 8/50 [00:00<00:00, 74.25it/s]"
     ]
    },
    {
     "name": "stdout",
     "output_type": "stream",
     "text": [
      "-29.832586029905766\n",
      "[[-37.51577942 -47.52321613 -36.76336658 -36.37299636 -30.92978457\n",
      "  -33.9393211  -39.63737254 -42.97531802]]\n"
     ]
    },
    {
     "name": "stderr",
     "output_type": "stream",
     "text": [
      "100%|██████████████████████████████████████████████████████████████████████████████████| 50/50 [00:00<00:00, 58.81it/s]\n",
      " 16%|█████████████▎                                                                     | 8/50 [00:00<00:00, 77.86it/s]"
     ]
    },
    {
     "name": "stdout",
     "output_type": "stream",
     "text": [
      "-39.477633453068755\n",
      "[[-31.02338345 -26.37735017 -33.4644454  -21.01590169 -23.53629331\n",
      "  -23.33208761 -31.85186101 -30.96512995]]\n"
     ]
    },
    {
     "name": "stderr",
     "output_type": "stream",
     "text": [
      "100%|██████████████████████████████████████████████████████████████████████████████████| 50/50 [00:00<00:00, 73.75it/s]\n",
      " 18%|██████████████▉                                                                    | 9/50 [00:00<00:00, 82.01it/s]"
     ]
    },
    {
     "name": "stdout",
     "output_type": "stream",
     "text": [
      "-29.499473814361554\n",
      "[[-29.87056343 -28.50448082 -34.08502649 -28.07098565 -19.46260038\n",
      "  -29.49246428 -39.90980699 -37.75185361]]\n"
     ]
    },
    {
     "name": "stderr",
     "output_type": "stream",
     "text": [
      "100%|██████████████████████████████████████████████████████████████████████████████████| 50/50 [00:00<00:00, 77.61it/s]\n",
      " 16%|█████████████▎                                                                     | 8/50 [00:00<00:00, 72.26it/s]"
     ]
    },
    {
     "name": "stdout",
     "output_type": "stream",
     "text": [
      "-33.815298361654335\n",
      "[[-31.02338345 -26.37735017 -33.4644454  -21.01590169 -23.53629331\n",
      "  -23.33208761 -31.85186101 -30.96512995]]\n"
     ]
    },
    {
     "name": "stderr",
     "output_type": "stream",
     "text": [
      "100%|██████████████████████████████████████████████████████████████████████████████████| 50/50 [00:00<00:00, 71.01it/s]\n",
      " 16%|█████████████▎                                                                     | 8/50 [00:00<00:00, 77.88it/s]"
     ]
    },
    {
     "name": "stdout",
     "output_type": "stream",
     "text": [
      "-29.72646969411662\n",
      "[[-34.82210557 -39.5232868  -35.8408175  -39.76773897 -32.45259807\n",
      "  -46.49978287 -27.19920148 -41.06127622]]\n"
     ]
    },
    {
     "name": "stderr",
     "output_type": "stream",
     "text": [
      "100%|██████████████████████████████████████████████████████████████████████████████████| 50/50 [00:00<00:00, 74.54it/s]\n",
      " 18%|██████████████▉                                                                    | 9/50 [00:00<00:00, 82.38it/s]"
     ]
    },
    {
     "name": "stdout",
     "output_type": "stream",
     "text": [
      "-37.36712252190644\n",
      "[[-31.02338345 -26.37735017 -33.4644454  -21.01590169 -23.53629331\n",
      "  -23.33208761 -31.85186101 -30.96512995]]\n"
     ]
    },
    {
     "name": "stderr",
     "output_type": "stream",
     "text": [
      "100%|██████████████████████████████████████████████████████████████████████████████████| 50/50 [00:00<00:00, 58.69it/s]\n",
      " 14%|███████████▌                                                                       | 7/50 [00:00<00:00, 63.23it/s]"
     ]
    },
    {
     "name": "stdout",
     "output_type": "stream",
     "text": [
      "-29.720883696359717\n",
      "[[-29.86461868 -30.30966399 -33.94706276 -24.22059665 -27.85528086\n",
      "  -22.23196461 -26.92243362 -26.29984876]]\n"
     ]
    },
    {
     "name": "stderr",
     "output_type": "stream",
     "text": [
      "100%|██████████████████████████████████████████████████████████████████████████████████| 50/50 [00:00<00:00, 74.48it/s]\n",
      " 16%|█████████████▎                                                                     | 8/50 [00:00<00:00, 76.38it/s]"
     ]
    },
    {
     "name": "stdout",
     "output_type": "stream",
     "text": [
      "-27.5966945100517\n",
      "[[-29.86461868 -30.30966399 -33.94706276 -24.22059665 -27.85528086\n",
      "  -22.23196461 -26.92243362 -26.29984876]]\n"
     ]
    },
    {
     "name": "stderr",
     "output_type": "stream",
     "text": [
      "100%|██████████████████████████████████████████████████████████████████████████████████| 50/50 [00:00<00:00, 73.17it/s]\n",
      " 16%|█████████████▎                                                                     | 8/50 [00:00<00:00, 78.64it/s]"
     ]
    },
    {
     "name": "stdout",
     "output_type": "stream",
     "text": [
      "-27.591139794356668\n",
      "[[-38.77721045 -36.34417626 -36.65558863 -31.80811756 -30.92978457\n",
      "  -27.83955451 -37.97025329 -39.75554952]]\n"
     ]
    },
    {
     "name": "stderr",
     "output_type": "stream",
     "text": [
      "100%|██████████████████████████████████████████████████████████████████████████████████| 50/50 [00:00<00:00, 59.33it/s]\n",
      " 10%|████████▎                                                                          | 5/50 [00:00<00:00, 46.85it/s]"
     ]
    },
    {
     "name": "stdout",
     "output_type": "stream",
     "text": [
      "-37.12548673537123\n",
      "[[-29.86461868 -30.30966399 -33.94706276 -24.22059665 -27.85528086\n",
      "  -22.23196461 -26.92243362 -26.29984876]]\n"
     ]
    },
    {
     "name": "stderr",
     "output_type": "stream",
     "text": [
      "100%|██████████████████████████████████████████████████████████████████████████████████| 50/50 [00:00<00:00, 63.70it/s]"
     ]
    },
    {
     "name": "stdout",
     "output_type": "stream",
     "text": [
      "-27.752582329365453\n"
     ]
    },
    {
     "name": "stderr",
     "output_type": "stream",
     "text": [
      "\n"
     ]
    }
   ],
   "source": [
    "\n",
    "def ASA(func_x,lb_x,ub_x,x_0,T0,num_steps,qf, RF,NN,SVM,KRR,KNN,GPR,GBR,pipeline_optimizer,ss1,hmc_trace):\n",
    "    N=len(x_0)\n",
    "    print(N, x_0)\n",
    "    lk=5*N\n",
    "    dx=ub_x-lb_x\n",
    "    #c=2*num_steps**(1.0/N)\n",
    "    c=2*exp(-qf+0.0/N)\n",
    "    print (\"c\",c)\n",
    "    x_old=x_0\n",
    "    Tk=T0\n",
    "    x_list=[]\n",
    "    y_list=[]\n",
    "    for k in range(num_steps+1)[1:]:\n",
    "        for i in range(lk+1)[1:]:\n",
    "            f_old=-func_x(x_old.reshape(1, -1), RF,NN,SVM,KRR,KNN,GPR,GBR,pipeline_optimizer,ss1,hmc_trace)\n",
    "            u=np.random.rand(N).reshape(N,1)\n",
    "            y1=np.sign(u-1.0/2)\n",
    "            y2=Tk\n",
    "            y3=(1+1.0/Tk)**abs(2*u-1)-1\n",
    "            y=y1*y2*y3\n",
    "            x=x_old+y*dx\n",
    "            x=BOUND(x,lb_x,ub_x)\n",
    "            f_new=-func_x(x.reshape(1, -1), RF,NN,SVM,KRR,KNN,GPR,GBR,pipeline_optimizer,ss1,hmc_trace)\n",
    "            x_list.append(x.reshape(1, -1))\n",
    "            y_list.append(-f_new)\n",
    "            if f_new<f_old:\n",
    "                x_old=x\n",
    "            elif exp((f_old-f_new-0.0)/np.linalg.norm(Tk,2))>np.random.rand(1)[0]:\n",
    "                x_old=x\n",
    "        #print(x_old)\n",
    "        #Tk=T0*exp(-c*(num_steps+1-k)**qf)\n",
    "        Tk=T0*exp(-c*k**(qf+0.0/N))\n",
    "        \n",
    "        f_final=func_x(x_old.reshape(1, -1), RF,NN,SVM,KRR,KNN,GPR,GBR,pipeline_optimizer,ss1,hmc_trace)\n",
    "        \n",
    "    return x_old,f_final, x_list, y_list\n",
    "\n",
    "x_0=np.random.uniform(low=-4.0, high=4.0, size=n_predictors).reshape(n_predictors, -1)\n",
    "\n",
    "lb_x=np.array([-4]*n_predictors).reshape((n_predictors,1))\n",
    "ub_x=np.array([4]*n_predictors).reshape((n_predictors,1))\n",
    "T0=np.array([200]*n_predictors).reshape((n_predictors,1))\n",
    "num_steps=10\n",
    "\n",
    "x,f,x_list, y_list=ASA(y_hat_from_raw_x,lb_x,ub_x,x_0,T0,num_steps,0.90, RF,NN,SVM,KRR,KNN,GPR,GBR,pipeline_optimizer,ss1,hmc_trace)"
   ]
  },
  {
   "cell_type": "code",
   "execution_count": 20,
   "metadata": {},
   "outputs": [
    {
     "name": "stdout",
     "output_type": "stream",
     "text": [
      "[[-4.        ]\n",
      " [ 4.        ]\n",
      " [-0.24797532]\n",
      " [-2.26238044]\n",
      " [-1.01027069]\n",
      " [ 1.10523288]\n",
      " [ 4.        ]\n",
      " [ 0.49164021]\n",
      " [ 0.74217726]\n",
      " [-4.        ]] -27.752582329365453\n"
     ]
    }
   ],
   "source": [
    "print(x,f)"
   ]
  },
  {
   "cell_type": "code",
   "execution_count": 21,
   "metadata": {},
   "outputs": [
    {
     "name": "stdout",
     "output_type": "stream",
     "text": [
      "max y -25.10783640857322\n",
      "59\n",
      "-9.825715853177506\n",
      "-10.915778392691685\n",
      "-6.759532026100501\n",
      "-24.308461776500735\n",
      "-21.007218390767495\n",
      "-14.406123562130576\n",
      "-13.23255096374223\n",
      "-20.853278940066595\n",
      "-16.496757359887184\n",
      "-17.785969111050893\n",
      "1.381048011575924\n",
      "-0.23585479147165422\n",
      "-18.954722547448156\n",
      "14.450451295368534\n",
      "-7.274406185216917\n",
      "-15.978103372520327\n",
      "-19.215819124393292\n",
      "-12.28970644588037\n",
      "-10.203149139440956\n",
      "-10.903164951050012\n",
      "-12.994448002538855\n",
      "0.4966919852513989\n",
      "-16.237191342905206\n",
      "-23.326476526697775\n",
      "-7.996016373430336\n",
      "-5.33863217229199\n",
      "-5.6053049047473404\n",
      "-13.150431862858136\n",
      "-8.046720940485628\n",
      "-13.699703438690978\n",
      "-8.104922435116556\n",
      "-10.540670344391323\n",
      "-30.539815611291633\n",
      "-19.523259296964973\n",
      "-2.2376169909726027\n",
      "-3.0084117790369067\n",
      "-18.145333257411693\n",
      "3.2244146344298716\n",
      "4.7210141748801355\n",
      "-0.02661945782947228\n",
      "-7.890253580753306\n",
      "2.1953333581516468\n",
      "7.779924328036234\n",
      "-5.2062890992020865\n",
      "-8.76107605713058\n",
      "-16.84944994969606\n",
      "-9.011489672300282\n",
      "-16.325186683612262\n",
      "-8.936962234357273\n",
      "-8.704414126122593\n",
      "-17.712989613942426\n",
      "-7.178573913285237\n",
      "0.527771056925741\n",
      "-27.60380886246547\n",
      "-9.611712156290599\n",
      "-17.802429298993502\n",
      "-11.144107151251157\n",
      "-23.22891414943006\n",
      "-10.824401515400865\n"
     ]
    },
    {
     "data": {
      "text/plain": [
       "[array([[ 4.        ],\n",
       "        [-0.16942141],\n",
       "        [ 4.        ],\n",
       "        [-0.17587785],\n",
       "        [ 4.        ],\n",
       "        [-0.74125484],\n",
       "        [ 4.        ],\n",
       "        [ 2.94334419],\n",
       "        [ 2.49903898],\n",
       "        [-2.23397756]]),\n",
       " array([[-4.        ],\n",
       "        [ 0.43050951],\n",
       "        [ 0.86167895],\n",
       "        [-4.        ],\n",
       "        [ 1.28120563],\n",
       "        [ 0.70595497],\n",
       "        [ 4.        ],\n",
       "        [-4.        ],\n",
       "        [-4.        ],\n",
       "        [-4.        ]]),\n",
       " array([[ 1.19704415],\n",
       "        [ 4.        ],\n",
       "        [ 1.16957147],\n",
       "        [-0.79262215],\n",
       "        [ 0.77753918],\n",
       "        [-3.25809701],\n",
       "        [ 4.        ],\n",
       "        [ 4.        ],\n",
       "        [ 4.        ],\n",
       "        [ 1.58798519]]),\n",
       " array([[-4.        ],\n",
       "        [ 4.        ],\n",
       "        [ 4.        ],\n",
       "        [-2.37649405],\n",
       "        [ 3.55902899],\n",
       "        [ 1.84300365],\n",
       "        [-3.12483751],\n",
       "        [ 1.61736549],\n",
       "        [-4.        ],\n",
       "        [ 1.05437465]]),\n",
       " array([[-2.84518883],\n",
       "        [ 0.12659032],\n",
       "        [ 4.        ],\n",
       "        [ 4.        ],\n",
       "        [ 1.74882118],\n",
       "        [-2.28629006],\n",
       "        [ 4.        ],\n",
       "        [ 0.20356138],\n",
       "        [-3.19821853],\n",
       "        [-0.96895744]]),\n",
       " array([[-4.        ],\n",
       "        [ 0.24636036],\n",
       "        [ 4.        ],\n",
       "        [-1.73995166],\n",
       "        [ 3.85167278],\n",
       "        [-0.21215947],\n",
       "        [ 4.        ],\n",
       "        [-4.        ],\n",
       "        [-4.        ],\n",
       "        [-2.66742477]]),\n",
       " array([[-2.49530113],\n",
       "        [ 4.        ],\n",
       "        [ 4.        ],\n",
       "        [ 4.        ],\n",
       "        [ 0.56859716],\n",
       "        [ 2.03358061],\n",
       "        [ 4.        ],\n",
       "        [ 1.0091435 ],\n",
       "        [-1.62231272],\n",
       "        [ 2.26148244]]),\n",
       " array([[-0.86217447],\n",
       "        [-1.52655499],\n",
       "        [ 4.        ],\n",
       "        [-1.36767819],\n",
       "        [-1.14056861],\n",
       "        [-4.        ],\n",
       "        [-2.85719327],\n",
       "        [ 1.1981392 ],\n",
       "        [ 3.59043813],\n",
       "        [ 4.        ]]),\n",
       " array([[-1.07662599],\n",
       "        [ 1.06040544],\n",
       "        [ 2.39342336],\n",
       "        [-4.        ],\n",
       "        [-0.63982063],\n",
       "        [ 2.07994665],\n",
       "        [-0.83297782],\n",
       "        [ 0.13820365],\n",
       "        [-4.        ],\n",
       "        [ 4.        ]]),\n",
       " array([[ 2.99624647],\n",
       "        [-1.66841497],\n",
       "        [ 4.        ],\n",
       "        [-4.        ],\n",
       "        [ 0.73350054],\n",
       "        [-0.54637453],\n",
       "        [-2.22866689],\n",
       "        [ 4.        ],\n",
       "        [ 0.23560107],\n",
       "        [-1.19937254]]),\n",
       " array([[0.29426259],\n",
       "        [3.89110794],\n",
       "        [0.2334647 ],\n",
       "        [1.42873705],\n",
       "        [2.45862269],\n",
       "        [4.        ],\n",
       "        [4.        ],\n",
       "        [0.68049461],\n",
       "        [4.        ],\n",
       "        [4.        ]]),\n",
       " array([[ 4.        ],\n",
       "        [ 2.69159772],\n",
       "        [ 3.66630792],\n",
       "        [ 4.        ],\n",
       "        [ 4.        ],\n",
       "        [ 4.        ],\n",
       "        [ 4.        ],\n",
       "        [ 0.57033993],\n",
       "        [-0.58289496],\n",
       "        [-1.16919484]]),\n",
       " array([[-2.38788406],\n",
       "        [ 4.        ],\n",
       "        [ 4.        ],\n",
       "        [ 4.        ],\n",
       "        [ 3.52310496],\n",
       "        [ 3.29496028],\n",
       "        [-3.25370797],\n",
       "        [ 0.59661471],\n",
       "        [-4.        ],\n",
       "        [ 1.25500447]]),\n",
       " array([[1.17027749],\n",
       "        [4.        ],\n",
       "        [3.98827149],\n",
       "        [4.        ],\n",
       "        [4.        ],\n",
       "        [0.05895085],\n",
       "        [4.        ],\n",
       "        [4.        ],\n",
       "        [4.        ],\n",
       "        [4.        ]]),\n",
       " array([[-4.        ],\n",
       "        [ 4.        ],\n",
       "        [ 4.        ],\n",
       "        [-2.51757033],\n",
       "        [ 4.        ],\n",
       "        [ 4.        ],\n",
       "        [ 0.51873609],\n",
       "        [-0.91528704],\n",
       "        [-4.        ],\n",
       "        [-4.        ]]),\n",
       " array([[-0.90510387],\n",
       "        [-1.16288077],\n",
       "        [ 4.        ],\n",
       "        [-4.        ],\n",
       "        [ 4.        ],\n",
       "        [-0.60954365],\n",
       "        [-3.61515   ],\n",
       "        [ 1.96904313],\n",
       "        [ 0.69169993],\n",
       "        [ 1.74895222]]),\n",
       " array([[ 4.        ],\n",
       "        [ 2.64065612],\n",
       "        [ 4.        ],\n",
       "        [ 2.55954189],\n",
       "        [ 1.44503956],\n",
       "        [ 1.91288296],\n",
       "        [ 4.        ],\n",
       "        [ 1.16915267],\n",
       "        [-3.15200017],\n",
       "        [ 3.77832215]]),\n",
       " array([[-0.54664413],\n",
       "        [ 1.63843746],\n",
       "        [ 4.        ],\n",
       "        [ 4.        ],\n",
       "        [ 4.        ],\n",
       "        [-2.78481192],\n",
       "        [-4.        ],\n",
       "        [ 4.        ],\n",
       "        [-4.        ],\n",
       "        [ 2.75850488]]),\n",
       " array([[-1.59200247],\n",
       "        [ 4.        ],\n",
       "        [-1.16335786],\n",
       "        [ 4.        ],\n",
       "        [ 4.        ],\n",
       "        [ 1.60707   ],\n",
       "        [ 2.13755997],\n",
       "        [ 4.        ],\n",
       "        [ 1.92013981],\n",
       "        [ 1.01504941]]),\n",
       " array([[-4.        ],\n",
       "        [ 4.        ],\n",
       "        [-0.84049958],\n",
       "        [ 2.14263298],\n",
       "        [ 2.00529078],\n",
       "        [ 4.        ],\n",
       "        [ 2.12046961],\n",
       "        [ 4.        ],\n",
       "        [ 0.13917583],\n",
       "        [-0.78772626]]),\n",
       " array([[ 3.90742324],\n",
       "        [ 0.73877934],\n",
       "        [-0.53668259],\n",
       "        [ 0.76725464],\n",
       "        [ 1.41872407],\n",
       "        [ 2.44819983],\n",
       "        [ 4.        ],\n",
       "        [-4.        ],\n",
       "        [-3.89242564],\n",
       "        [-4.        ]]),\n",
       " array([[0.46848322],\n",
       "        [4.        ],\n",
       "        [4.        ],\n",
       "        [4.        ],\n",
       "        [3.34291935],\n",
       "        [1.65978708],\n",
       "        [2.50651661],\n",
       "        [4.        ],\n",
       "        [4.        ],\n",
       "        [4.        ]]),\n",
       " array([[-2.38514269],\n",
       "        [ 4.        ],\n",
       "        [ 3.64270646],\n",
       "        [ 4.        ],\n",
       "        [ 1.6800821 ],\n",
       "        [ 2.98347461],\n",
       "        [-1.11140255],\n",
       "        [ 4.        ],\n",
       "        [-4.        ],\n",
       "        [ 1.12037357]]),\n",
       " array([[-3.73675876],\n",
       "        [ 3.52186537],\n",
       "        [ 4.        ],\n",
       "        [ 1.72847677],\n",
       "        [-0.29618079],\n",
       "        [-3.64147631],\n",
       "        [ 4.        ],\n",
       "        [ 0.32164788],\n",
       "        [-2.48779985],\n",
       "        [ 2.01115982]]),\n",
       " array([[ 1.85643824],\n",
       "        [ 2.55782743],\n",
       "        [ 4.        ],\n",
       "        [-4.        ],\n",
       "        [ 4.        ],\n",
       "        [-0.37875838],\n",
       "        [ 3.95994394],\n",
       "        [ 0.27643094],\n",
       "        [ 3.01764315],\n",
       "        [ 4.        ]]),\n",
       " array([[-0.15832136],\n",
       "        [ 0.53579626],\n",
       "        [ 1.94112597],\n",
       "        [-4.        ],\n",
       "        [ 4.        ],\n",
       "        [ 0.49999194],\n",
       "        [ 4.        ],\n",
       "        [-4.        ],\n",
       "        [ 4.        ],\n",
       "        [ 1.80678116]]),\n",
       " array([[ 1.34612962],\n",
       "        [ 0.08348956],\n",
       "        [ 4.        ],\n",
       "        [-4.        ],\n",
       "        [ 4.        ],\n",
       "        [-0.22489899],\n",
       "        [-0.73263422],\n",
       "        [-4.        ],\n",
       "        [-1.04500381],\n",
       "        [ 0.54852086]]),\n",
       " array([[ 1.35170258],\n",
       "        [-0.23452366],\n",
       "        [ 0.81866866],\n",
       "        [ 0.86452884],\n",
       "        [ 2.07494929],\n",
       "        [ 3.4659251 ],\n",
       "        [ 4.        ],\n",
       "        [ 0.49197603],\n",
       "        [-4.        ],\n",
       "        [-3.95683893]]),\n",
       " array([[-2.12816322],\n",
       "        [ 4.        ],\n",
       "        [ 1.20109761],\n",
       "        [-4.        ],\n",
       "        [ 4.        ],\n",
       "        [ 4.        ],\n",
       "        [ 0.15829023],\n",
       "        [-0.3227376 ],\n",
       "        [-4.        ],\n",
       "        [-4.        ]]),\n",
       " array([[ 4.        ],\n",
       "        [ 2.51515102],\n",
       "        [ 3.02104066],\n",
       "        [ 4.        ],\n",
       "        [ 4.        ],\n",
       "        [ 3.85807961],\n",
       "        [ 3.81990292],\n",
       "        [ 2.6238317 ],\n",
       "        [ 2.92314799],\n",
       "        [-0.3225039 ]]),\n",
       " array([[-0.59267393],\n",
       "        [ 1.75426941],\n",
       "        [ 4.        ],\n",
       "        [ 2.14918382],\n",
       "        [ 0.25747301],\n",
       "        [ 4.        ],\n",
       "        [ 4.        ],\n",
       "        [-4.        ],\n",
       "        [-4.        ],\n",
       "        [-4.        ]]),\n",
       " array([[-0.27728201],\n",
       "        [ 4.        ],\n",
       "        [ 4.        ],\n",
       "        [-0.76589047],\n",
       "        [ 4.        ],\n",
       "        [ 4.        ],\n",
       "        [ 2.52801059],\n",
       "        [ 3.53870839],\n",
       "        [-2.59108314],\n",
       "        [-4.        ]]),\n",
       " array([[ 4.        ],\n",
       "        [-1.11953524],\n",
       "        [ 4.        ],\n",
       "        [ 2.51298156],\n",
       "        [ 3.4524753 ],\n",
       "        [ 1.8019905 ],\n",
       "        [-1.93552491],\n",
       "        [ 0.39847391],\n",
       "        [-2.55327266],\n",
       "        [-2.8596071 ]]),\n",
       " array([[ 4.        ],\n",
       "        [ 0.99415919],\n",
       "        [ 2.97572221],\n",
       "        [ 0.35365247],\n",
       "        [ 4.        ],\n",
       "        [ 1.53895484],\n",
       "        [-4.        ],\n",
       "        [ 0.7576949 ],\n",
       "        [-2.1056167 ],\n",
       "        [-2.20849587]]),\n",
       " array([[ 4.        ],\n",
       "        [-0.07923687],\n",
       "        [ 4.        ],\n",
       "        [ 3.33804296],\n",
       "        [ 4.        ],\n",
       "        [ 4.        ],\n",
       "        [-4.        ],\n",
       "        [ 4.        ],\n",
       "        [ 2.32413431],\n",
       "        [ 1.3404323 ]]),\n",
       " array([[ 4.        ],\n",
       "        [-1.69069163],\n",
       "        [ 4.        ],\n",
       "        [ 0.21318132],\n",
       "        [ 4.        ],\n",
       "        [ 4.        ],\n",
       "        [-0.70679269],\n",
       "        [ 1.29395332],\n",
       "        [ 0.66389946],\n",
       "        [ 1.79089065]]),\n",
       " array([[ 3.04417136],\n",
       "        [ 4.        ],\n",
       "        [ 2.93224251],\n",
       "        [ 4.        ],\n",
       "        [ 3.53360827],\n",
       "        [ 2.78623242],\n",
       "        [-3.86132628],\n",
       "        [ 0.4463414 ],\n",
       "        [ 1.80896118],\n",
       "        [ 4.        ]]),\n",
       " array([[ 4.        ],\n",
       "        [-0.8467419 ],\n",
       "        [ 4.        ],\n",
       "        [-1.62416013],\n",
       "        [ 4.        ],\n",
       "        [ 4.        ],\n",
       "        [-4.        ],\n",
       "        [ 4.        ],\n",
       "        [ 4.        ],\n",
       "        [ 0.96448747]]),\n",
       " array([[ 4.        ],\n",
       "        [ 2.42460153],\n",
       "        [ 4.        ],\n",
       "        [ 4.        ],\n",
       "        [ 4.        ],\n",
       "        [-0.43820787],\n",
       "        [-4.        ],\n",
       "        [ 4.        ],\n",
       "        [ 4.        ],\n",
       "        [ 0.34854051]]),\n",
       " array([[ 4.        ],\n",
       "        [-0.89280384],\n",
       "        [ 1.91496231],\n",
       "        [ 4.        ],\n",
       "        [ 4.        ],\n",
       "        [ 2.91774432],\n",
       "        [-0.96585689],\n",
       "        [ 4.        ],\n",
       "        [ 4.        ],\n",
       "        [ 4.        ]]),\n",
       " array([[ 3.2997134 ],\n",
       "        [-1.38836801],\n",
       "        [ 4.        ],\n",
       "        [-0.64939975],\n",
       "        [ 4.        ],\n",
       "        [ 2.61131575],\n",
       "        [ 0.94708454],\n",
       "        [ 4.        ],\n",
       "        [ 4.        ],\n",
       "        [ 1.29330997]]),\n",
       " array([[ 4.        ],\n",
       "        [ 0.08291665],\n",
       "        [ 4.        ],\n",
       "        [-0.53759639],\n",
       "        [ 4.        ],\n",
       "        [ 3.69059778],\n",
       "        [ 3.24758143],\n",
       "        [ 4.        ],\n",
       "        [ 1.23453885],\n",
       "        [ 4.        ]]),\n",
       " array([[4.        ],\n",
       "        [0.54306568],\n",
       "        [4.        ],\n",
       "        [4.        ],\n",
       "        [4.        ],\n",
       "        [4.        ],\n",
       "        [3.05033651],\n",
       "        [4.        ],\n",
       "        [1.13346034],\n",
       "        [4.        ]]),\n",
       " array([[-3.20638352],\n",
       "        [ 0.44777559],\n",
       "        [ 4.        ],\n",
       "        [ 4.        ],\n",
       "        [ 4.        ],\n",
       "        [ 4.        ],\n",
       "        [ 0.98002167],\n",
       "        [ 4.        ],\n",
       "        [-0.33622433],\n",
       "        [-2.14824998]]),\n",
       " array([[-3.60457826],\n",
       "        [ 4.        ],\n",
       "        [ 3.3692192 ],\n",
       "        [ 3.59947195],\n",
       "        [ 4.        ],\n",
       "        [ 2.67016813],\n",
       "        [ 4.        ],\n",
       "        [ 4.        ],\n",
       "        [ 0.11156305],\n",
       "        [ 0.66964748]]),\n",
       " array([[ 2.77578348],\n",
       "        [ 4.        ],\n",
       "        [ 4.        ],\n",
       "        [ 2.80795993],\n",
       "        [ 0.91086309],\n",
       "        [-0.61504934],\n",
       "        [-1.43448651],\n",
       "        [ 4.        ],\n",
       "        [ 0.41911598],\n",
       "        [-3.20134154]]),\n",
       " array([[ 3.72617746],\n",
       "        [ 4.        ],\n",
       "        [ 4.        ],\n",
       "        [ 1.05506138],\n",
       "        [ 4.        ],\n",
       "        [-4.        ],\n",
       "        [-3.40402891],\n",
       "        [ 4.        ],\n",
       "        [ 2.83958323],\n",
       "        [ 3.73278813]]),\n",
       " array([[-4.        ],\n",
       "        [ 2.70877312],\n",
       "        [ 1.68448765],\n",
       "        [ 1.73428075],\n",
       "        [ 4.        ],\n",
       "        [ 4.        ],\n",
       "        [ 3.44724152],\n",
       "        [ 4.        ],\n",
       "        [-1.65030882],\n",
       "        [ 1.30453011]]),\n",
       " array([[-4.        ],\n",
       "        [ 4.        ],\n",
       "        [ 4.        ],\n",
       "        [ 2.41024397],\n",
       "        [ 4.        ],\n",
       "        [ 4.        ],\n",
       "        [ 0.9173648 ],\n",
       "        [ 4.        ],\n",
       "        [-2.39834422],\n",
       "        [ 3.19613804]]),\n",
       " array([[ 1.94067106],\n",
       "        [ 4.        ],\n",
       "        [ 4.        ],\n",
       "        [ 2.44248255],\n",
       "        [ 1.72134393],\n",
       "        [-0.50565301],\n",
       "        [ 3.314893  ],\n",
       "        [-0.57044726],\n",
       "        [ 4.        ],\n",
       "        [ 4.        ]]),\n",
       " array([[-4.        ],\n",
       "        [ 2.38749877],\n",
       "        [ 4.        ],\n",
       "        [ 4.        ],\n",
       "        [ 0.32051298],\n",
       "        [-0.09853202],\n",
       "        [-3.66185817],\n",
       "        [ 2.37338861],\n",
       "        [-0.37859019],\n",
       "        [ 3.09901181]]),\n",
       " array([[-4.        ],\n",
       "        [ 4.        ],\n",
       "        [ 4.        ],\n",
       "        [ 4.        ],\n",
       "        [ 4.        ],\n",
       "        [ 2.14941361],\n",
       "        [-3.51172697],\n",
       "        [ 4.        ],\n",
       "        [-4.        ],\n",
       "        [ 3.51936339]]),\n",
       " array([[-4.        ],\n",
       "        [ 1.02886582],\n",
       "        [ 4.        ],\n",
       "        [ 0.56998202],\n",
       "        [ 4.        ],\n",
       "        [ 4.        ],\n",
       "        [ 2.14854681],\n",
       "        [ 4.        ],\n",
       "        [-4.        ],\n",
       "        [ 4.        ]]),\n",
       " array([[-2.83825471],\n",
       "        [ 3.91992838],\n",
       "        [ 3.24243572],\n",
       "        [ 4.        ],\n",
       "        [ 4.        ],\n",
       "        [ 2.3775876 ],\n",
       "        [-1.79022172],\n",
       "        [ 0.62959111],\n",
       "        [-2.12565321],\n",
       "        [-1.64325365]]),\n",
       " array([[ 0.26960938],\n",
       "        [ 4.        ],\n",
       "        [ 3.43274672],\n",
       "        [ 4.        ],\n",
       "        [ 4.        ],\n",
       "        [ 4.        ],\n",
       "        [-3.17493029],\n",
       "        [ 4.        ],\n",
       "        [ 2.94259355],\n",
       "        [ 3.29441159]]),\n",
       " array([[-4.        ],\n",
       "        [ 2.69329258],\n",
       "        [ 4.        ],\n",
       "        [ 4.        ],\n",
       "        [ 3.67731352],\n",
       "        [ 2.11742095],\n",
       "        [ 2.18967227],\n",
       "        [ 0.96058392],\n",
       "        [-4.        ],\n",
       "        [-4.        ]]),\n",
       " array([[-3.77667675],\n",
       "        [ 4.        ],\n",
       "        [-0.71467311],\n",
       "        [-0.43826202],\n",
       "        [ 4.        ],\n",
       "        [ 2.78770495],\n",
       "        [ 0.4189832 ],\n",
       "        [-4.        ],\n",
       "        [ 0.37891783],\n",
       "        [-4.        ]]),\n",
       " array([[-4.        ],\n",
       "        [ 0.40826347],\n",
       "        [ 4.        ],\n",
       "        [-2.18404206],\n",
       "        [-1.27765973],\n",
       "        [ 1.08059567],\n",
       "        [ 1.89325666],\n",
       "        [-4.        ],\n",
       "        [ 0.41513654],\n",
       "        [-3.36561482]]),\n",
       " array([[-4.        ],\n",
       "        [ 4.        ],\n",
       "        [-0.24797532],\n",
       "        [-2.26238044],\n",
       "        [-1.01027069],\n",
       "        [ 1.10523288],\n",
       "        [ 4.        ],\n",
       "        [ 0.49164021],\n",
       "        [ 0.74217726],\n",
       "        [-4.        ]])]"
      ]
     },
     "execution_count": 21,
     "metadata": {},
     "output_type": "execute_result"
    }
   ],
   "source": [
    "x_list, y_list\n",
    "\n",
    "m = np.max(y_list)\n",
    "print(\"max y\", m)\n",
    "index_large_y=[i for i, j in enumerate(y_list) if j > -30]\n",
    "x_recommend=[]\n",
    "print(len(index_large_y))\n",
    "for i in index_large_y:\n",
    "    x_recommend.append(x_list[i][0].reshape(-1,1))\n",
    "    #print(x_list[i][0])\n",
    "    print(F_medium(x_list[i].reshape(-1,)))\n",
    "x_recommend"
   ]
  },
  {
   "cell_type": "code",
   "execution_count": 22,
   "metadata": {},
   "outputs": [
    {
     "data": {
      "text/plain": [
       "285.88733217113975"
      ]
     },
     "execution_count": 22,
     "metadata": {},
     "output_type": "execute_result"
    }
   ],
   "source": [
    "np.linalg.norm(y_pred_compare_with_real- y_test_np_array,1)"
   ]
  },
  {
   "cell_type": "code",
   "execution_count": 23,
   "metadata": {},
   "outputs": [
    {
     "data": {
      "text/plain": [
       "'MAE above'"
      ]
     },
     "execution_count": 23,
     "metadata": {},
     "output_type": "execute_result"
    }
   ],
   "source": [
    "\"MAE above\""
   ]
  }
 ],
 "metadata": {
  "kernelspec": {
   "display_name": "Python 3",
   "language": "python",
   "name": "python3"
  },
  "language_info": {
   "codemirror_mode": {
    "name": "ipython",
    "version": 3
   },
   "file_extension": ".py",
   "mimetype": "text/x-python",
   "name": "python",
   "nbconvert_exporter": "python",
   "pygments_lexer": "ipython3",
   "version": "3.7.7"
  }
 },
 "nbformat": 4,
 "nbformat_minor": 4
}
